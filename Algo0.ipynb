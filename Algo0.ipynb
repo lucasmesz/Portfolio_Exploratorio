{
 "cells": [
  {
   "cell_type": "markdown",
   "metadata": {},
   "source": [
    "### Portfolio of Oil Exploration Assets: Learning Options, Sequential Drilling Options and Defer Options \n",
    "####  Marco Antonio Guimarães Dias, \n",
    "#### Luigi de Magalhães Detomi Calvette\n",
    "##### RO Congress - Boston 2017\n"
   ]
  },
  {
   "cell_type": "markdown",
   "metadata": {},
   "source": [
    "[Paper](http://www.realoptions.org/openconf2017/data/papers/57.pdf)"
   ]
  },
  {
   "cell_type": "code",
   "execution_count": 1,
   "metadata": {},
   "outputs": [],
   "source": [
    "import numpy as np\n",
    "import pandas as pd\n",
    "import matplotlib.pyplot as plt\n",
    "%matplotlib inline\n",
    "import seaborn as sns\n"
   ]
  },
  {
   "cell_type": "code",
   "execution_count": 54,
   "metadata": {},
   "outputs": [],
   "source": [
    "##Exemplo 1##\n",
    "r=np.log(1+0.04)\n",
    "delta=np.log(1+0.05)\n",
    "sigma=0.2\n",
    "delta_t=1\n",
    "T=1\n",
    "Po=50\n",
    "div=delta"
   ]
  },
  {
   "cell_type": "code",
   "execution_count": 55,
   "metadata": {},
   "outputs": [
    {
     "name": "stdout",
     "output_type": "stream",
     "text": [
      "1.2214027581601699\n",
      "0.4265144714074531\n"
     ]
    }
   ],
   "source": [
    "u=np.exp(sigma*np.sqrt(delta_t))\n",
    "d=1/u\n",
    "q= ((np.exp((r-delta)*delta_t) -d))/(u-d)\n",
    "rho=0.65\n",
    "print(u)\n",
    "print(q)"
   ]
  },
  {
   "cell_type": "code",
   "execution_count": 56,
   "metadata": {},
   "outputs": [],
   "source": [
    "P_m=[]\n",
    "P_m_1=[]\n",
    "P_m.append(Po)\n",
    "for passo in np.arange(T*(1/delta_t)):\n",
    "    P_m_1.append(P_m[0]*u)\n",
    "    for i in range(len(P_m)):\n",
    "        Pd=P_m[i]*d\n",
    "        P_m_1.append(Pd)\n",
    "    P_m=[]\n",
    "    P_m=P_m_1 #Registro Final está em P_m . \n",
    "    P_m_1=[]\n",
    "    #print(P_m)"
   ]
  },
  {
   "cell_type": "code",
   "execution_count": 57,
   "metadata": {},
   "outputs": [],
   "source": [
    "#Importar Case 1\n",
    "case_1=pd.read_csv(\"Case_1.csv\", sep=';')\n",
    "case_1.set_index('Type', inplace=True)\n",
    "case_1=case_1.astype(float).T\n"
   ]
  },
  {
   "cell_type": "code",
   "execution_count": 58,
   "metadata": {},
   "outputs": [],
   "source": [
    "safe=[*case_1.Safe]\n",
    "risky=[*case_1.Risky]\n",
    "del safe[2]\n",
    "del risky[2]"
   ]
  },
  {
   "cell_type": "code",
   "execution_count": 59,
   "metadata": {},
   "outputs": [],
   "source": [
    "def EMV_portfolio_P(CF_1, I_w_1, q_1, B_1, I_d_1, CF_2, I_w_2, q_2, B_2, I_d_2,P,rho):\n",
    "#Função criada igual a outra acima, contudo com um só preço. Será usada no cálculo da opção de espera    \n",
    "    #Métricas da primeiro prospecto\n",
    "    V_1=q_1*B_1*P;\n",
    "    I_d_1= I_d_1*(P/50) #com preço base\n",
    "    NPV_1= V_1- I_d_1\n",
    "    EMV_1= -I_w_1 + CF_1*NPV_1\n",
    "    \n",
    "    \n",
    "    #Ajuste do Fator de chance do segundo prospecto\n",
    "    CF_s_2 = CF_2 + (np.sqrt((1-CF_1)/CF_1))*(np.sqrt(CF_2*(1-CF_2)))*rho\n",
    "    CF_ins_2 = CF_2 - (np.sqrt(CF_1/(1-CF_1)))*(np.sqrt(CF_2*(1-CF_2)))*rho\n",
    "    \n",
    "    #Métricas para o segundo prospecto, considerando dois cenários do primeiro poço em Valor Esperado\n",
    "    V_2=q_2*B_2*P;\n",
    "    I_d_2= I_d_2*(P/50) #com preço base\n",
    "    NPV_2= V_2- I_d_2\n",
    "    \n",
    "    EMV_s_2= -I_w_2 + CF_s_2*NPV_2\n",
    "    EMV_ins_2= -I_w_2 + CF_ins_2*NPV_2\n",
    "    \n",
    "    #Análise de Portfolio, considerando a informação obtida no primeiro poço\n",
    "        \n",
    "    portfolio= EMV_1 + CF_1*max(EMV_s_2,0)+ (1-CF_1)*max(EMV_ins_2,0)\n",
    "    \n",
    "    return [max(0,portfolio)]  #qualquer portfolio não aceitará valor negativo de VME\n",
    "\n"
   ]
  },
  {
   "cell_type": "code",
   "execution_count": 60,
   "metadata": {},
   "outputs": [],
   "source": [
    "#decisão e Melhor escolha no vencimento\n",
    "port=[]\n",
    "decision=[]\n",
    "for i in range(len(P_m)):\n",
    "    #lista com a melhor escolha entre SR,RS e abandono=0\n",
    "    #lista com tamanho de P_m\n",
    "    W=max(*EMV_portfolio_P(*safe, *risky,P_m[i],rho),*EMV_portfolio_P(*risky,*safe,P_m[i],rho),0)\n",
    "    port.append(W)\n",
    "    \n",
    "    if W <= 0:\n",
    "        decision.append('AB')\n",
    "    elif W== EMV_portfolio_P(*safe, *risky,P_m[i],rho):\n",
    "        decision.append('SR')\n",
    "    else:\n",
    "        decision.append('RS')\n",
    "#print(port)\n",
    "#print(decision)\n",
    "    "
   ]
  },
  {
   "cell_type": "code",
   "execution_count": 61,
   "metadata": {},
   "outputs": [
    {
     "name": "stdout",
     "output_type": "stream",
     "text": [
      "[50.0]\n",
      "['WS']\n",
      "[13.142504417551404]\n"
     ]
    }
   ],
   "source": [
    "for passo in np.arange(T*(1/delta_t)):\n",
    "    P_m_1=[]\n",
    "    port_1=[]\n",
    "    decision_1=[]\n",
    "    \n",
    "    for i in range(int(len(P_m) -1)):\n",
    "        P_m_1.append(P_m[i]/u)\n",
    "        W=[]\n",
    "        W=max (*EMV_portfolio_P(*safe, *risky,P_m_1[i],rho),\n",
    "               *EMV_portfolio_P(*risky,*safe,P_m_1[i],rho), \n",
    "               np.exp(-r*delta_t)*(q*port[i]+(1-q)*port[i+1]), 0)\n",
    "        port_1.append(W)\n",
    "        #port_1 terá o valor da opção hoje\n",
    "        #port tera o valor do portfolio no vencimento\n",
    "        if W <= 0:\n",
    "            decision_1.append('AB')\n",
    "        elif W== EMV_portfolio_P(*safe, *risky,P_m_1[i],rho):\n",
    "            decision_1.append('SR')\n",
    "        elif W== EMV_portfolio_P(*risky, *safe,P_m_1[i],rho):\n",
    "            decision_1.append('RS')\n",
    "        else:\n",
    "            decision_1.append('WS')\n",
    "    #print(P_m_1)\n",
    "    decision=decision_1\n",
    "    port=port_1\n",
    "    P_m=P_m_1\n",
    "    \n",
    "print(P_m)    \n",
    "print(decision_1)\n",
    "print(port_1)    \n",
    "#print(port)"
   ]
  },
  {
   "cell_type": "code",
   "execution_count": 62,
   "metadata": {},
   "outputs": [],
   "source": [
    "def defer_seq(case,r,delta,sigma,delta_t,T,Po,rho):\n",
    "    # Defer Option\n",
    "    #def defer_seq_learning_option(r,Po,delta,sigma,delta_t,T):\n",
    "    # Método binomial Cox-Ross-Rubinstein - Baseado nos exercícios do Marco Antonio \n",
    "    #e Capítilo 9 do primeiro livro\n",
    "    #Usando dois somente dois vetores para propagar, não uma matriz7\n",
    "    #usando recombinação\n",
    "    \n",
    "    ##############################\n",
    "    #up, down e medida neutra ao risco\n",
    "    u=np.exp(sigma*np.sqrt(delta_t))\n",
    "    d=1/u\n",
    "    q= ((np.exp((r-delta)*delta_t) -d))/(u-d)\n",
    "\n",
    "    ###################################\n",
    "    #Propagação da variável estocástica\n",
    "    P_m=[]\n",
    "    P_m_1=[]\n",
    "    P_m.append(Po)\n",
    "    for passo in np.arange(T*(1/delta_t)):\n",
    "        P_m_1.append(P_m[0]*u)\n",
    "        for i in range(len(P_m)):\n",
    "            Pd=P_m[i]*d\n",
    "            P_m_1.append(Pd)\n",
    "        P_m=[]\n",
    "        P_m=P_m_1 #Registro Final está em P_m . \n",
    "        P_m_1=[]\n",
    "    \n",
    "    safe=[*case.Safe]\n",
    "    risky=[*case.Risky]\n",
    "    del safe[2]\n",
    "    del risky[2]\n",
    "\n",
    "\n",
    "    #######################################\n",
    "    #decisão e Melhor escolha no vencimento\n",
    "    port=[] \n",
    "    decision=[]\n",
    "    for i in range(len(P_m)):\n",
    "        #lista com a melhor escolha entre SR,RS e abandono=0\n",
    "        #lista com tamanho de P_m\n",
    "        W=max(*EMV_portfolio_P(*safe, *risky,P_m[i],rho),*EMV_portfolio_P(*risky,*safe,P_m[i],rho),0)\n",
    "        port.append(W)\n",
    "        if W <= 0:\n",
    "            decision.append('AB')\n",
    "        elif W== EMV_portfolio_P(*safe, *risky,P_m[i],rho):\n",
    "            decision.append('SR')\n",
    "        else:\n",
    "            decision.append('RS')\n",
    "\n",
    "    ############################\n",
    "    #Deporpagação até o presente       \n",
    "\n",
    "    for passo in np.arange(T*(1/delta_t)):\n",
    "        P_m_1=[]\n",
    "        port_1=[]\n",
    "        decision_1=[]\n",
    "        \n",
    "        for i in range(int(len(P_m) -1)):\n",
    "            P_m_1.append(P_m[i]/u)\n",
    "            W=[]\n",
    "            W=max (*EMV_portfolio_P(*safe, *risky,P_m_1[i],rho),\n",
    "                   *EMV_portfolio_P(*risky,*safe,P_m_1[i],rho), \n",
    "                   np.exp(-r*delta_t)*(q*port[i]+(1-q)*port[i+1]), 0)\n",
    "            port_1.append(W)\n",
    "            #port_1 terá o valor da opção hoje\n",
    "            #port tera o valor do portfolio no vencimento\n",
    "            \n",
    "            if W <= 0:\n",
    "                decision_1.append('AB')\n",
    "            elif W== EMV_portfolio_P(*safe, *risky,P_m_1[i],rho):\n",
    "                decision_1.append('SR')\n",
    "            elif W== EMV_portfolio_P(*risky, *safe,P_m_1[i],rho):\n",
    "                decision_1.append('RS')\n",
    "            else:\n",
    "                decision_1.append('WS')\n",
    "        decision=decision_1\n",
    "        port=port_1\n",
    "        P_m=P_m_1\n",
    "    \n",
    "    return[*decision_1,\n",
    "           *port_1,\n",
    "           *EMV_portfolio_P(*safe, *risky,P_m_1[i],rho),\n",
    "           *EMV_portfolio_P(*risky,*safe,P_m_1[i],rho)]\n",
    "    \n",
    "    "
   ]
  },
  {
   "cell_type": "code",
   "execution_count": 419,
   "metadata": {},
   "outputs": [],
   "source": [
    "###Exemplo 2###\n",
    "r=np.log(1+0.04)\n",
    "#print(r)\n",
    "delta=np.log(1+0.05)\n",
    "sigma=0.2\n",
    "delta_t=1/3\n",
    "T=3\n",
    "Po=50\n",
    "rho=0.65\n"
   ]
  },
  {
   "cell_type": "code",
   "execution_count": 66,
   "metadata": {},
   "outputs": [
    {
     "data": {
      "text/html": [
       "<div>\n",
       "<style scoped>\n",
       "    .dataframe tbody tr th:only-of-type {\n",
       "        vertical-align: middle;\n",
       "    }\n",
       "\n",
       "    .dataframe tbody tr th {\n",
       "        vertical-align: top;\n",
       "    }\n",
       "\n",
       "    .dataframe thead th {\n",
       "        text-align: right;\n",
       "    }\n",
       "</style>\n",
       "<table border=\"1\" class=\"dataframe\">\n",
       "  <thead>\n",
       "    <tr style=\"text-align: right;\">\n",
       "      <th>Type</th>\n",
       "      <th>Safe</th>\n",
       "      <th>Risky</th>\n",
       "    </tr>\n",
       "  </thead>\n",
       "  <tbody>\n",
       "    <tr>\n",
       "      <td>CF</td>\n",
       "      <td>0.5</td>\n",
       "      <td>0.30</td>\n",
       "    </tr>\n",
       "    <tr>\n",
       "      <td>I_w</td>\n",
       "      <td>70.0</td>\n",
       "      <td>45.00</td>\n",
       "    </tr>\n",
       "    <tr>\n",
       "      <td>P</td>\n",
       "      <td>50.0</td>\n",
       "      <td>50.00</td>\n",
       "    </tr>\n",
       "    <tr>\n",
       "      <td>q</td>\n",
       "      <td>0.1</td>\n",
       "      <td>0.12</td>\n",
       "    </tr>\n",
       "    <tr>\n",
       "      <td>B</td>\n",
       "      <td>600.0</td>\n",
       "      <td>500.00</td>\n",
       "    </tr>\n",
       "    <tr>\n",
       "      <td>I_d</td>\n",
       "      <td>2900.0</td>\n",
       "      <td>2800.00</td>\n",
       "    </tr>\n",
       "  </tbody>\n",
       "</table>\n",
       "</div>"
      ],
      "text/plain": [
       "Type    Safe    Risky\n",
       "CF       0.5     0.30\n",
       "I_w     70.0    45.00\n",
       "P       50.0    50.00\n",
       "q        0.1     0.12\n",
       "B      600.0   500.00\n",
       "I_d   2900.0  2800.00"
      ]
     },
     "execution_count": 66,
     "metadata": {},
     "output_type": "execute_result"
    }
   ],
   "source": [
    "#Importar Case 2\n",
    "case_2=pd.read_csv(\"Case_2.csv\", sep=';')\n",
    "case_2.set_index('Type', inplace=True)\n",
    "case_2=case_2.astype(float).T\n",
    "case_2.head(6)\n"
   ]
  },
  {
   "cell_type": "code",
   "execution_count": 67,
   "metadata": {},
   "outputs": [
    {
     "data": {
      "text/plain": [
       "['WS', 18.95974533771078, 14.495454169735044, 15.49545416973504]"
      ]
     },
     "execution_count": 67,
     "metadata": {},
     "output_type": "execute_result"
    }
   ],
   "source": [
    "#Há um erro no paper. Para o exemplo 1, o valor é 18.95. No paper está 20.46\n",
    "defer_seq(case_1,r,delta,sigma,delta_t,T,Po,0.75)"
   ]
  },
  {
   "cell_type": "code",
   "execution_count": 72,
   "metadata": {},
   "outputs": [],
   "source": [
    "###Exemplo 2###\n",
    "r=np.log(1+0.04)\n",
    "#print(r)\n",
    "delta=np.log(1+0.05)\n",
    "sigma=0.2\n",
    "delta_t=1/(6*24)\n",
    "T=3\n",
    "Po=50\n",
    "rho=0.65\n"
   ]
  },
  {
   "cell_type": "code",
   "execution_count": 73,
   "metadata": {},
   "outputs": [
    {
     "data": {
      "text/plain": [
       "['WS', 24.479323227723437, 17.28674201721296, 23.893371008606483]"
      ]
     },
     "execution_count": 73,
     "metadata": {},
     "output_type": "execute_result"
    }
   ],
   "source": [
    "\n",
    "defer_seq(case_2,r,delta,sigma,delta_t,T,Po,rho)"
   ]
  },
  {
   "cell_type": "code",
   "execution_count": 424,
   "metadata": {},
   "outputs": [],
   "source": [
    "##Loop para gerar o gráfico do gatilho###\n",
    "Price=[]\n",
    "Time=[]\n",
    "Dec=[]\n",
    "for T in np.arange(0.01,3.1,0.25):\n",
    "    Check=defer_seq(case_2,r,delta,sigma,delta_t,(3.1- T),30,rho)[0]\n",
    "    for Po in np.arange(30,75.1,0.1):\n",
    "        if defer_seq(case_2,r,delta,sigma,delta_t,(3.1- T),Po,rho)[0] != Check:\n",
    "            Price.append(Po)\n",
    "            Time.append(T)\n",
    "            Check=defer_seq(case_2,r,delta,sigma,delta_t,(3.1-T),Po,rho)[0]\n",
    "            Dec.append(Check)\n",
    "            \n",
    "df=pd.DataFrame(Price)\n",
    "df.columns=['Price']\n",
    "df['Time']=Time\n",
    "df['Decision']=Dec"
   ]
  },
  {
   "cell_type": "code",
   "execution_count": 425,
   "metadata": {},
   "outputs": [],
   "source": [
    "WS=df[df.Decision == 'WS']\n",
    "RS=df[df.Decision == 'RS']\n",
    "SR=df[df.Decision == 'SR']"
   ]
  },
  {
   "cell_type": "code",
   "execution_count": 426,
   "metadata": {},
   "outputs": [
    {
     "data": {
      "text/plain": [
       "[<matplotlib.lines.Line2D at 0x1fb9305a948>]"
      ]
     },
     "execution_count": 426,
     "metadata": {},
     "output_type": "execute_result"
    },
    {
     "data": {
      "image/png": "[encoded data removed]",
      "text/plain": [
       "<Figure size 432x288 with 1 Axes>"
      ]
     },
     "metadata": {
      "needs_background": "light"
     },
     "output_type": "display_data"
    }
   ],
   "source": [
    "\n",
    "plt.plot(SR.Time, SR.Price, 'bo', color='b' )\n",
    "plt.plot(RS.Time, RS.Price, 'bo', color='r')\n",
    "plt.plot(WS.Time, WS.Price, 'bo', color='g')"
   ]
  },
  {
   "cell_type": "code",
   "execution_count": 19,
   "metadata": {},
   "outputs": [],
   "source": [
    "###Exemplo 1###\n",
    "r=np.log(1+0.04)\n",
    "#print(r)\n",
    "delta=np.log(1+0.05)\n",
    "sigma=0.3\n",
    "delta_t=1/24\n",
    "T=3\n",
    "Po=50\n",
    "rho=0.65\n"
   ]
  },
  {
   "cell_type": "code",
   "execution_count": 20,
   "metadata": {},
   "outputs": [
    {
     "data": {
      "text/plain": [
       "[<matplotlib.lines.Line2D at 0x1fb4108ce08>]"
      ]
     },
     "execution_count": 20,
     "metadata": {},
     "output_type": "execute_result"
    },
    {
     "data": {
      "image/png": "[encoded data removed]",
      "text/plain": [
       "<Figure size 432x288 with 1 Axes>"
      ]
     },
     "metadata": {
      "needs_background": "light"
     },
     "output_type": "display_data"
    }
   ],
   "source": [
    "##Loop para gerar o gráfico do gatilho###\n",
    "Price=[]\n",
    "Time=[]\n",
    "Dec=[]\n",
    "for T in np.arange(0.01,3.1,0.25):\n",
    "    Check=defer_seq(case_2,r,delta,sigma,delta_t,(3.1- T),30,rho)[0]\n",
    "    for Po in np.arange(30,75.1,0.1):\n",
    "        if defer_seq(case_2,r,delta,sigma,delta_t,(3.1- T),Po,rho)[0] != Check:\n",
    "            Price.append(Po)\n",
    "            Time.append(T)\n",
    "            Check=defer_seq(case_2,r,delta,sigma,delta_t,(3.1-T),Po,rho)[0]\n",
    "            Dec.append(Check)\n",
    "            \n",
    "df=pd.DataFrame(Price)\n",
    "df.columns=['Price']\n",
    "df['Time']=Time\n",
    "df['Decision']=Dec\n",
    "\n",
    "WS=df[df.Decision == 'WS']\n",
    "RS=df[df.Decision == 'RS']\n",
    "SR=df[df.Decision == 'SR']\n",
    "\n",
    "plt.plot(SR.Time, SR.Price, 'bo', color='b' )\n",
    "plt.plot(RS.Time, RS.Price, 'bo', color='r')\n",
    "plt.plot(WS.Time, WS.Price, 'bo', color='g')"
   ]
  },
  {
   "cell_type": "code",
   "execution_count": 5,
   "metadata": {},
   "outputs": [],
   "source": [
    "######################################################\n",
    "#####################################################\n",
    "#############Solucao para permutacao automática#####\n"
   ]
  },
  {
   "cell_type": "code",
   "execution_count": 6,
   "metadata": {},
   "outputs": [],
   "source": [
    "#############################3333\n",
    "##########Questões da permutação do portfolio"
   ]
  },
  {
   "cell_type": "code",
   "execution_count": 7,
   "metadata": {},
   "outputs": [],
   "source": [
    "import itertools"
   ]
  },
  {
   "cell_type": "code",
   "execution_count": 125,
   "metadata": {},
   "outputs": [],
   "source": [
    "#Importar Case ABC\n",
    "case_ABC=pd.read_csv(\"Case_2.csv\", sep=';')\n",
    "case_ABC.set_index('Type', inplace=True)\n",
    "case_ABC=case_ABC.astype(float).T\n"
   ]
  },
  {
   "cell_type": "code",
   "execution_count": 126,
   "metadata": {},
   "outputs": [
    {
     "data": {
      "text/html": [
       "<div>\n",
       "<style scoped>\n",
       "    .dataframe tbody tr th:only-of-type {\n",
       "        vertical-align: middle;\n",
       "    }\n",
       "\n",
       "    .dataframe tbody tr th {\n",
       "        vertical-align: top;\n",
       "    }\n",
       "\n",
       "    .dataframe thead th {\n",
       "        text-align: right;\n",
       "    }\n",
       "</style>\n",
       "<table border=\"1\" class=\"dataframe\">\n",
       "  <thead>\n",
       "    <tr style=\"text-align: right;\">\n",
       "      <th>Type</th>\n",
       "      <th>Safe</th>\n",
       "      <th>Risky</th>\n",
       "    </tr>\n",
       "  </thead>\n",
       "  <tbody>\n",
       "    <tr>\n",
       "      <td>CF</td>\n",
       "      <td>0.5</td>\n",
       "      <td>0.30</td>\n",
       "    </tr>\n",
       "    <tr>\n",
       "      <td>I_w</td>\n",
       "      <td>70.0</td>\n",
       "      <td>45.00</td>\n",
       "    </tr>\n",
       "    <tr>\n",
       "      <td>P</td>\n",
       "      <td>50.0</td>\n",
       "      <td>50.00</td>\n",
       "    </tr>\n",
       "    <tr>\n",
       "      <td>q</td>\n",
       "      <td>0.1</td>\n",
       "      <td>0.12</td>\n",
       "    </tr>\n",
       "    <tr>\n",
       "      <td>B</td>\n",
       "      <td>600.0</td>\n",
       "      <td>500.00</td>\n",
       "    </tr>\n",
       "    <tr>\n",
       "      <td>I_d</td>\n",
       "      <td>2900.0</td>\n",
       "      <td>2800.00</td>\n",
       "    </tr>\n",
       "  </tbody>\n",
       "</table>\n",
       "</div>"
      ],
      "text/plain": [
       "Type    Safe    Risky\n",
       "CF       0.5     0.30\n",
       "I_w     70.0    45.00\n",
       "P       50.0    50.00\n",
       "q        0.1     0.12\n",
       "B      600.0   500.00\n",
       "I_d   2900.0  2800.00"
      ]
     },
     "execution_count": 126,
     "metadata": {},
     "output_type": "execute_result"
    }
   ],
   "source": [
    "case_ABC"
   ]
  },
  {
   "cell_type": "code",
   "execution_count": 10,
   "metadata": {},
   "outputs": [
    {
     "name": "stdout",
     "output_type": "stream",
     "text": [
      "0 1\n",
      "1 0\n"
     ]
    }
   ],
   "source": [
    "seq=[]\n",
    "n=case_ABC.shape[1]\n",
    "perm=itertools.permutations(range(n))\n",
    "for k in list(perm):\n",
    "    print(k[0], k[1])\n",
    "    seq.append(k)\n",
    "    \n",
    "   "
   ]
  },
  {
   "cell_type": "code",
   "execution_count": 11,
   "metadata": {},
   "outputs": [
    {
     "data": {
      "text/plain": [
       "[(0, 1), (1, 0)]"
      ]
     },
     "execution_count": 11,
     "metadata": {},
     "output_type": "execute_result"
    }
   ],
   "source": [
    "seq"
   ]
  },
  {
   "cell_type": "code",
   "execution_count": 12,
   "metadata": {},
   "outputs": [
    {
     "data": {
      "text/plain": [
       "2"
      ]
     },
     "execution_count": 12,
     "metadata": {},
     "output_type": "execute_result"
    }
   ],
   "source": [
    "n"
   ]
  },
  {
   "cell_type": "code",
   "execution_count": 123,
   "metadata": {},
   "outputs": [],
   "source": [
    "#Importar correlacao Case 2 como ABC\n",
    "case_ABC_corr=pd.read_csv(\"Case_2_corr.csv\", sep=';')\n",
    "case_ABC_corr.set_index('Type', inplace=True)\n"
   ]
  },
  {
   "cell_type": "code",
   "execution_count": 124,
   "metadata": {},
   "outputs": [
    {
     "data": {
      "text/html": [
       "<div>\n",
       "<style scoped>\n",
       "    .dataframe tbody tr th:only-of-type {\n",
       "        vertical-align: middle;\n",
       "    }\n",
       "\n",
       "    .dataframe tbody tr th {\n",
       "        vertical-align: top;\n",
       "    }\n",
       "\n",
       "    .dataframe thead th {\n",
       "        text-align: right;\n",
       "    }\n",
       "</style>\n",
       "<table border=\"1\" class=\"dataframe\">\n",
       "  <thead>\n",
       "    <tr style=\"text-align: right;\">\n",
       "      <th></th>\n",
       "      <th>A</th>\n",
       "      <th>B</th>\n",
       "    </tr>\n",
       "    <tr>\n",
       "      <th>Type</th>\n",
       "      <th></th>\n",
       "      <th></th>\n",
       "    </tr>\n",
       "  </thead>\n",
       "  <tbody>\n",
       "    <tr>\n",
       "      <td>A</td>\n",
       "      <td>1.00</td>\n",
       "      <td>0.65</td>\n",
       "    </tr>\n",
       "    <tr>\n",
       "      <td>B</td>\n",
       "      <td>0.65</td>\n",
       "      <td>1.00</td>\n",
       "    </tr>\n",
       "  </tbody>\n",
       "</table>\n",
       "</div>"
      ],
      "text/plain": [
       "         A     B\n",
       "Type            \n",
       "A     1.00  0.65\n",
       "B     0.65  1.00"
      ]
     },
     "execution_count": 124,
     "metadata": {},
     "output_type": "execute_result"
    }
   ],
   "source": [
    "case_ABC_corr"
   ]
  },
  {
   "cell_type": "code",
   "execution_count": 15,
   "metadata": {},
   "outputs": [
    {
     "data": {
      "text/plain": [
       "0.65"
      ]
     },
     "execution_count": 15,
     "metadata": {},
     "output_type": "execute_result"
    }
   ],
   "source": [
    "case_ABC_corr.iloc[0,1]"
   ]
  },
  {
   "cell_type": "code",
   "execution_count": null,
   "metadata": {},
   "outputs": [],
   "source": []
  },
  {
   "cell_type": "code",
   "execution_count": 16,
   "metadata": {},
   "outputs": [
    {
     "name": "stdout",
     "output_type": "stream",
     "text": [
      "(0, 1)\n",
      "j é 0\n",
      "[[0.5        0.59786742]\n",
      " [       nan 0.00213258]]\n",
      "(1, 0)\n",
      "j é 0\n",
      "[[0.3        0.9964457 ]\n",
      " [       nan 0.28723756]]\n",
      "melhor portfolio é: (1, 0) e o valor é: 23.893371008606483 [17.28674201721296, 23.893371008606483]\n"
     ]
    }
   ],
   "source": [
    "#####################Original\n",
    "fold=[]\n",
    "seq=[]\n",
    "P=50\n",
    "n=case_ABC.shape[1]\n",
    "perm=itertools.permutations(range(n))\n",
    "for k in list(perm):\n",
    "    seq.append(k)\n",
    "    print(k)\n",
    "    m=np.zeros((2**(n-1),n))\n",
    "    p=np.zeros((2**(n-1),n))\n",
    "    pi=np.zeros((2**(n-1),n))\n",
    "    m[m==0]=np.nan\n",
    "    p[m==0]=np.nan\n",
    "    pi[pi==0]=np.nan\n",
    "    \n",
    "    \n",
    "    m[0,0]=case_ABC.iloc[0,k[0]] ### Capta da permutacao, o fc da Primeira na ordem de perfuracao\n",
    "    p[0,0]=1  #probabilidade de ocorrencia de perfuração do primeiro prospecto\n",
    "    # portfolio= fc*(P*q*B - P/50*Id) - Iw  - do primeiro prospecto\n",
    "    pi[0,0]=m[0,0]*(P*case_ABC.iloc[3,k[0]]*case_ABC.iloc[4,k[0]] - (P/50)*case_ABC.iloc[5,k[0]]) -case_ABC.iloc[1,k[0]]\n",
    "    \n",
    "    \n",
    "    \n",
    "    \n",
    "    for j in range(n-1):\n",
    "        print(\"j é\",j)\n",
    "        for i in range(2**(j)):\n",
    "            rho=case_ABC_corr.iloc[k[j],k[j+1]]\n",
    "            cf=case_ABC.iloc[0,k[j+1]]\n",
    "            #print(\"i é\",i)\n",
    "            #print('rho',case_ABC_corr.iloc[k[j],k[j+1]], 'cf', case_ABC.iloc[0,k[j+1]] )\n",
    "            CF_s = cf + np.sqrt((m[i,j] -m[i,j]**2)*(cf-cf**2))*(rho/m[i,j])\n",
    "            m[2*i,j+1]=CF_s\n",
    "            p[2*i,j+1]=m[i,j]*p[i,j]\n",
    "            pi[2*i,j+1]=CF_s*(P*case_ABC.iloc[3,k[j+1]]*case_ABC.iloc[4,k[j+1]] - (P/50)*case_ABC.iloc[5,k[j+1]]) -case_ABC.iloc[1,k[j+1]]\n",
    "    \n",
    "            \n",
    "            CF_ins = cf - np.sqrt((m[i,j] -m[i,j]**2)*(cf-cf**2))*(rho/(1-m[i,j]))\n",
    "            m[2*i+1,j+1]=CF_ins\n",
    "            p[2*i+1,j+1]=(1-m[i,j])*p[i,j]\n",
    "            pi[2*i+1,j+1]=CF_ins*(P*case_ABC.iloc[3,k[j+1]]*case_ABC.iloc[4,k[j+1]] - (P/50)*case_ABC.iloc[5,k[j+1]]) -case_ABC.iloc[1,k[j+1]]\n",
    "            \n",
    "    print(m)\n",
    "            \n",
    "    \n",
    "    for l in np.arange(n-2,-1,-1):\n",
    "        #print(l)\n",
    "        for g in range(2**(l)):\n",
    "            #print(pi[g,l],m[g,l], pi[2*g,l+1],(1-m[g,l]), pi[2*g+1,l+1]   )\n",
    "            pi[g,l]= np.maximum(0,pi[g,l] + m[g,l]*np.maximum(0,pi[2*g,l+1]) + (1-m[g,l])*np.maximum(0,pi[2*g+1,l+1]))\n",
    "    #print(pi)\n",
    "    fold.append(pi[0,0])\n",
    "    \n",
    "\n",
    "###Fornece o melhor portfolio seq_winner e o valor do porfolio winner\n",
    "winner=np.amax(fold)\n",
    "Seq_winner=seq[np.argmax(fold)]\n",
    "winner=np.maximum(0,winner)\n",
    "if winner==0:\n",
    "    Seq_winner=np.nan\n",
    "\n",
    "    \n",
    "    \n",
    "            \n",
    "\n",
    "    #print(fold)\n",
    "    #print(m)\n",
    "print('melhor portfolio é:',Seq_winner, 'e o valor é:', winner, fold)\n",
    "#print(fold)"
   ]
  },
  {
   "cell_type": "code",
   "execution_count": null,
   "metadata": {},
   "outputs": [],
   "source": []
  },
  {
   "cell_type": "code",
   "execution_count": 17,
   "metadata": {},
   "outputs": [],
   "source": [
    "####Transformando em função\n",
    "\n",
    "def carteira(case,case_corr,P):\n",
    "    fold=[]\n",
    "    seq=[]\n",
    "    #P=50\n",
    "    n=case.shape[1]\n",
    "    perm=itertools.permutations(range(n))\n",
    "    \n",
    "    for k in list(perm):\n",
    "        seq.append(k)\n",
    "        #print(k[0], k[1])\n",
    "        m=np.zeros((2**(n-1),n))\n",
    "        p=np.zeros((2**(n-1),n))\n",
    "        pi=np.zeros((2**(n-1),n))\n",
    "        \n",
    "        m[m==0]=np.nan\n",
    "        p[m==0]=np.nan\n",
    "        pi[pi==0]=np.nan\n",
    "        \n",
    "        m[0,0]=case_ABC.iloc[0,k[0]] ### Capta da permutacao, o fc da Primeira na ordem de perfuracao\n",
    "        p[0,0]=1\n",
    "        pi[0,0]=m[0,0]*(P*case_ABC.iloc[3,k[0]]*case_ABC.iloc[4,k[0]] - (P/50)*case_ABC.iloc[5,k[0]]) -case_ABC.iloc[1,k[0]]\n",
    "        \n",
    "        \n",
    "        for j in range(n-1):\n",
    "            #print(\"j é\",j)\n",
    "            \n",
    "            for i in range(2**(j)):\n",
    "                rho=case_corr.iloc[k[j],k[j+1]]\n",
    "                cf=case_ABC.iloc[0,k[j+1]]\n",
    "                #print(\"i é\",i)\n",
    "                #print('rho',case_corr.iloc[k[j],k[j+1]], 'cf', case_ABC.iloc[0,k[j+1]] )\n",
    "                CF_s = cf + np.sqrt((m[i,j] -m[i,j]**2)*(cf-cf**2))*(rho/m[i,j])\n",
    "                m[2*i,j+1]=CF_s\n",
    "                p[2*i,j+1]=m[i,j]*p[i,j]\n",
    "                \n",
    "                pi[2*i,j+1]=CF_s*(P*case_ABC.iloc[3,k[j+1]]*case_ABC.iloc[4,k[j+1]] - (P/50)*case_ABC.iloc[5,k[j+1]]) -case_ABC.iloc[1,k[j+1]]\n",
    "                \n",
    "                \n",
    "                CF_ins = cf - np.sqrt((m[i,j] -m[i,j]**2)*(cf-cf**2))*(rho/(1-m[i,j]))\n",
    "                m[2*i+1,j+1]=CF_ins\n",
    "                p[2*i+1,j+1]=(1-m[i,j])*p[i,j]\n",
    "                \n",
    "                pi[2*i+1,j+1]=CF_ins*(P*case_ABC.iloc[3,k[j+1]]*case_ABC.iloc[4,k[j+1]] - (P/50)*case_ABC.iloc[5,k[j+1]]) -case_ABC.iloc[1,k[j+1]]\n",
    "                \n",
    "                #print(m)\n",
    "                \n",
    "        for l in np.arange(n-2,-1,-1):\n",
    "            #print(l)\n",
    "            for g in range(2**(l)):\n",
    "                #print(pi[g,l],m[g,l], pi[2*g,l+1],(1-m[g,l]), pi[2*g+1,l+1]   )\n",
    "                pi[g,l]= np.maximum(0,pi[g,l] + m[g,l]*np.maximum(0,pi[2*g,l+1]) + (1-m[g,l])*np.maximum(0,pi[2*g+1,l+1]))\n",
    "                #print(pi)\n",
    "        fold.append(pi[0,0])\n",
    "    \n",
    "    ###Fornece o melhor portfolio seq_winner e o valor do porfolio winner\n",
    "    winner=np.amax(fold)\n",
    "    Seq_winner=seq[np.argmax(fold)]\n",
    "    winner=np.maximum(0,winner)\n",
    "    if winner==0:\n",
    "        Seq_winner=np.nan\n",
    "    \n",
    "    m=[]\n",
    "    pi=[]\n",
    "    \n",
    "    return [Seq_winner, winner, fold]\n",
    "    #return [fold]\n",
    "    \n",
    "            \n",
    "\n",
    "    "
   ]
  },
  {
   "cell_type": "code",
   "execution_count": 18,
   "metadata": {},
   "outputs": [
    {
     "data": {
      "text/plain": [
       "[(1, 0), 23.893371008606483, [17.28674201721296, 23.893371008606483]]"
      ]
     },
     "execution_count": 18,
     "metadata": {},
     "output_type": "execute_result"
    }
   ],
   "source": [
    "carteira(case_ABC,case_ABC_corr,50)"
   ]
  },
  {
   "cell_type": "code",
   "execution_count": null,
   "metadata": {},
   "outputs": [],
   "source": []
  },
  {
   "cell_type": "code",
   "execution_count": 55,
   "metadata": {},
   "outputs": [],
   "source": [
    "def diffinexpcart(V,case_ABC,case_ABC_corr,r,div,sigma,tau):\n",
    "    #############################################################\n",
    "    #######Método por diferenças finitas explícitas##############\n",
    "    accur=0.05  #Porcentagem de acurácia\n",
    "    \n",
    "    #####Solução por diferenças finita explícitas###\n",
    "    #Precisão em e intervalo da célula em V\n",
    "    deltaV=V*accur\n",
    "    \n",
    "    # M são as divisões do grid em V\n",
    "    #forcei a barra- coloque 3 vezes a V de perpetuidade. Estava 1,1 \n",
    "    #M= int(1.1*vcritico(I,r,div,sigma,tau)[2]/deltaV) # Max é 10% acima do gatilho em perpetuidade. Vcrit- com gati precisa de tau\n",
    "    M=int(1.5*V)\n",
    "    VGrid=int(V/deltaV) #Ponto do grid onde esta V_0. \n",
    "    #deltat= (deltaV**2)/((sigma**2)*((3*I)**2)) #Convergência: Critério do peso central >=0. Vmax=3I ><1.1Gatilho_perp\n",
    "    deltat= (deltaV**2)/((sigma**2)*((3*2*V)**2))\n",
    "    N= int(tau/deltat) +1\n",
    "    \n",
    "    df=1/(1+(r*deltat)) # fator de desconto\n",
    "    \n",
    "    #Vetor Vt\n",
    "    Vt=np.zeros(M+1)\n",
    "    Gatilho=np.zeros(N+1)\n",
    "    F=np.zeros((N+1,M+1))\n",
    "    deltat=tau/N\n",
    "    for i in range(M+1):\n",
    "        Vt[i]= i*deltaV\n",
    "        F[N,i]=carteira(case_ABC,case_ABC_corr,Vt[i])[1]\n",
    "        #F[N,i]=np.maximum(0,Vt[i]-I)\n",
    "    #Gatilho[N]=I\n",
    "    \n",
    "    ##############Loop################\n",
    "    for j in range(N-1,-1,-1): #de N-1 até zero(-1) pulando em -1\n",
    "        for i in range(1,M,1): # de 1 até M-1 pulando em 1\n",
    "            pu= 0.5*((sigma**2)*(i**2) + ((r - div)*i))*deltat\n",
    "            pm = 1 - (sigma**2)*(i**2)*deltat\n",
    "            pd = 0.5*((sigma**2)*(i**2) - ((r - div)*i))*deltat\n",
    "            F[j,i]= df*(pu*F[j+1,i+1] + pm*F[j+1,i] + pd*F[j+1,i - 1])\n",
    "            \n",
    "            ###Vetor Gatilho####\n",
    "            #if F[j,i]< Vt[i]-I and F[j,i-1]>Vt[i-1]-I:\n",
    "            #    Gatilho[j]=(Vt[i]+Vt[i-1])/2\n",
    "            \n",
    "            \n",
    "            F[j,i]=np.maximum(carteira(case_ABC,case_ABC_corr,Vt[i])[1], F[j,i])  #opção americana\n",
    "        \n",
    "        \n",
    "        F[j,0]=0\n",
    "        F[j,M]=carteira(case_ABC,case_ABC_corr,Vt[i])[1]\n",
    "        \n",
    "        \n",
    "    T=np.linspace(0,tau,num=len(Gatilho))\n",
    "    \n",
    "    ###Retorna A opção hoje, Gatilho, Tempo, Vt, Matrix para Gráficos\n",
    "    return[F[0,VGrid],Gatilho,T,Vt,F]\n",
    "\n"
   ]
  },
  {
   "cell_type": "code",
   "execution_count": 56,
   "metadata": {},
   "outputs": [
    {
     "data": {
      "text/plain": [
       "24.47261995966586"
      ]
     },
     "execution_count": 56,
     "metadata": {},
     "output_type": "execute_result"
    }
   ],
   "source": [
    "diffinexpcart(50,case_ABC,case_ABC_corr,r,div,sigma,tau)[0]"
   ]
  },
  {
   "cell_type": "code",
   "execution_count": 19,
   "metadata": {},
   "outputs": [],
   "source": [
    "tau=3"
   ]
  },
  {
   "cell_type": "code",
   "execution_count": 20,
   "metadata": {},
   "outputs": [],
   "source": [
    "##Exemplo Parâmetro##\n",
    "r=np.log(1+0.04)\n",
    "delta=np.log(1+0.05)\n",
    "sigma=0.2\n",
    "T=3\n",
    "Po=50\n",
    "div=delta"
   ]
  },
  {
   "cell_type": "code",
   "execution_count": 21,
   "metadata": {},
   "outputs": [
    {
     "ename": "NameError",
     "evalue": "name 'diffinexpcart' is not defined",
     "output_type": "error",
     "traceback": [
      "\u001b[1;31m---------------------------------------------------------------------------\u001b[0m",
      "\u001b[1;31mNameError\u001b[0m                                 Traceback (most recent call last)",
      "\u001b[1;32m<ipython-input-21-1125c0edb1e7>\u001b[0m in \u001b[0;36m<module>\u001b[1;34m\u001b[0m\n\u001b[0;32m     11\u001b[0m \u001b[1;33m\u001b[0m\u001b[0m\n\u001b[0;32m     12\u001b[0m \u001b[1;33m\u001b[0m\u001b[0m\n\u001b[1;32m---> 13\u001b[1;33m \u001b[0mdiffinexpcart\u001b[0m\u001b[1;33m(\u001b[0m\u001b[1;36m50\u001b[0m\u001b[1;33m,\u001b[0m\u001b[0mcase_1\u001b[0m\u001b[1;33m,\u001b[0m\u001b[0mcase_1_corr\u001b[0m\u001b[1;33m,\u001b[0m\u001b[0mr\u001b[0m\u001b[1;33m,\u001b[0m\u001b[0mdiv\u001b[0m\u001b[1;33m,\u001b[0m\u001b[0msigma\u001b[0m\u001b[1;33m,\u001b[0m\u001b[0mtau\u001b[0m\u001b[1;33m)\u001b[0m\u001b[1;33m[\u001b[0m\u001b[1;36m0\u001b[0m\u001b[1;33m]\u001b[0m\u001b[1;33m\u001b[0m\u001b[1;33m\u001b[0m\u001b[0m\n\u001b[0m\u001b[0;32m     14\u001b[0m \u001b[1;33m\u001b[0m\u001b[0m\n",
      "\u001b[1;31mNameError\u001b[0m: name 'diffinexpcart' is not defined"
     ]
    }
   ],
   "source": [
    "\n",
    "####Formalização - Caso 1\n",
    "\n",
    "#Importar Case 1\n",
    "case_1=pd.read_csv(\"Case_1.csv\", sep=';')\n",
    "case_1.set_index('Type', inplace=True)\n",
    "case_1=case_1.astype(float).T\n",
    "\n",
    "#Importar Case 1 - correlacao\n",
    "case_1_corr=pd.read_csv(\"Case_1_corr.csv\", sep=';')\n",
    "case_1_corr.set_index('Type', inplace=True)\n",
    "\n",
    "\n",
    "diffinexpcart(50,case_1,case_1_corr,r,div,sigma,tau)[0]\n",
    "\n"
   ]
  },
  {
   "cell_type": "code",
   "execution_count": 121,
   "metadata": {},
   "outputs": [],
   "source": [
    "\n",
    "####Formalização - Caso 2\n",
    "\n",
    "#Importar Case 2\n",
    "case_2=pd.read_csv(\"Case_2.csv\", sep=';')\n",
    "case_2.set_index('Type', inplace=True)\n",
    "case_2=case_2.astype(float).T\n",
    "\n",
    "#Importar Case 2 - correlacao\n",
    "case_2_corr=pd.read_csv(\"Case_2_corr.csv\", sep=';')\n",
    "case_2_corr.set_index('Type', inplace=True)\n",
    "\n",
    "\n",
    "diffinexpcart(50,case_2,case_2_corr,r,div,sigma,tau)[0]\n",
    "\n"
   ]
  },
  {
   "cell_type": "code",
   "execution_count": 109,
   "metadata": {},
   "outputs": [],
   "source": [
    "####Formalização - Caso 3 \n",
    "\n",
    "#Importar Case 3\n",
    "case_ABC=pd.read_csv(\"Case_ABC.csv\", sep=';')\n",
    "case_ABC.set_index('Type', inplace=True)\n",
    "case_ABC=case_ABC.astype(float).T\n",
    "\n"
   ]
  },
  {
   "cell_type": "code",
   "execution_count": 110,
   "metadata": {},
   "outputs": [
    {
     "data": {
      "text/html": [
       "<div>\n",
       "<style scoped>\n",
       "    .dataframe tbody tr th:only-of-type {\n",
       "        vertical-align: middle;\n",
       "    }\n",
       "\n",
       "    .dataframe tbody tr th {\n",
       "        vertical-align: top;\n",
       "    }\n",
       "\n",
       "    .dataframe thead th {\n",
       "        text-align: right;\n",
       "    }\n",
       "</style>\n",
       "<table border=\"1\" class=\"dataframe\">\n",
       "  <thead>\n",
       "    <tr style=\"text-align: right;\">\n",
       "      <th>Type</th>\n",
       "      <th>S</th>\n",
       "      <th>I</th>\n",
       "      <th>R</th>\n",
       "    </tr>\n",
       "  </thead>\n",
       "  <tbody>\n",
       "    <tr>\n",
       "      <td>CF</td>\n",
       "      <td>0.3</td>\n",
       "      <td>0.25</td>\n",
       "      <td>0.20</td>\n",
       "    </tr>\n",
       "    <tr>\n",
       "      <td>I_w</td>\n",
       "      <td>70.0</td>\n",
       "      <td>60.00</td>\n",
       "      <td>50.00</td>\n",
       "    </tr>\n",
       "    <tr>\n",
       "      <td>P</td>\n",
       "      <td>50.0</td>\n",
       "      <td>50.00</td>\n",
       "      <td>50.00</td>\n",
       "    </tr>\n",
       "    <tr>\n",
       "      <td>q</td>\n",
       "      <td>0.1</td>\n",
       "      <td>0.11</td>\n",
       "      <td>0.12</td>\n",
       "    </tr>\n",
       "    <tr>\n",
       "      <td>B</td>\n",
       "      <td>500.0</td>\n",
       "      <td>600.00</td>\n",
       "      <td>700.00</td>\n",
       "    </tr>\n",
       "    <tr>\n",
       "      <td>I_d</td>\n",
       "      <td>2300.0</td>\n",
       "      <td>3100.00</td>\n",
       "      <td>4000.00</td>\n",
       "    </tr>\n",
       "  </tbody>\n",
       "</table>\n",
       "</div>"
      ],
      "text/plain": [
       "Type       S        I        R\n",
       "CF       0.3     0.25     0.20\n",
       "I_w     70.0    60.00    50.00\n",
       "P       50.0    50.00    50.00\n",
       "q        0.1     0.11     0.12\n",
       "B      500.0   600.00   700.00\n",
       "I_d   2300.0  3100.00  4000.00"
      ]
     },
     "execution_count": 110,
     "metadata": {},
     "output_type": "execute_result"
    }
   ],
   "source": [
    "case_ABC"
   ]
  },
  {
   "cell_type": "code",
   "execution_count": 111,
   "metadata": {},
   "outputs": [],
   "source": [
    "#Importar Case 3 - correlacao\n",
    "case_ABC_corr=pd.read_csv(\"Case_ABC_corr.csv\", sep=';')\n",
    "case_ABC_corr.set_index('Type', inplace=True)\n"
   ]
  },
  {
   "cell_type": "code",
   "execution_count": 112,
   "metadata": {},
   "outputs": [
    {
     "data": {
      "text/html": [
       "<div>\n",
       "<style scoped>\n",
       "    .dataframe tbody tr th:only-of-type {\n",
       "        vertical-align: middle;\n",
       "    }\n",
       "\n",
       "    .dataframe tbody tr th {\n",
       "        vertical-align: top;\n",
       "    }\n",
       "\n",
       "    .dataframe thead th {\n",
       "        text-align: right;\n",
       "    }\n",
       "</style>\n",
       "<table border=\"1\" class=\"dataframe\">\n",
       "  <thead>\n",
       "    <tr style=\"text-align: right;\">\n",
       "      <th></th>\n",
       "      <th>S</th>\n",
       "      <th>I</th>\n",
       "      <th>R</th>\n",
       "    </tr>\n",
       "    <tr>\n",
       "      <th>Type</th>\n",
       "      <th></th>\n",
       "      <th></th>\n",
       "      <th></th>\n",
       "    </tr>\n",
       "  </thead>\n",
       "  <tbody>\n",
       "    <tr>\n",
       "      <td>S</td>\n",
       "      <td>1.0</td>\n",
       "      <td>0.5</td>\n",
       "      <td>0.5</td>\n",
       "    </tr>\n",
       "    <tr>\n",
       "      <td>I</td>\n",
       "      <td>0.5</td>\n",
       "      <td>1.0</td>\n",
       "      <td>0.6</td>\n",
       "    </tr>\n",
       "    <tr>\n",
       "      <td>R</td>\n",
       "      <td>0.5</td>\n",
       "      <td>0.6</td>\n",
       "      <td>1.0</td>\n",
       "    </tr>\n",
       "  </tbody>\n",
       "</table>\n",
       "</div>"
      ],
      "text/plain": [
       "        S    I    R\n",
       "Type               \n",
       "S     1.0  0.5  0.5\n",
       "I     0.5  1.0  0.6\n",
       "R     0.5  0.6  1.0"
      ]
     },
     "execution_count": 112,
     "metadata": {},
     "output_type": "execute_result"
    }
   ],
   "source": [
    "case_ABC_corr"
   ]
  },
  {
   "cell_type": "code",
   "execution_count": 86,
   "metadata": {},
   "outputs": [
    {
     "data": {
      "text/plain": [
       "[(0, 1, 2),\n",
       " 1.141388517656745,\n",
       " [1.141388517656745,\n",
       "  0.6377574259052832,\n",
       "  1.0518564346183137,\n",
       "  0.25074182999601646,\n",
       "  0.4169899785174582,\n",
       "  0.12170601480081444]]"
      ]
     },
     "execution_count": 86,
     "metadata": {},
     "output_type": "execute_result"
    }
   ],
   "source": [
    "carteira(case_ABC,case_ABC_corr,50)"
   ]
  },
  {
   "cell_type": "code",
   "execution_count": 88,
   "metadata": {},
   "outputs": [],
   "source": [
    "solucao=diffinexpcart(50,case_ABC,case_ABC_corr,r,div,sigma,tau)"
   ]
  },
  {
   "cell_type": "code",
   "execution_count": 98,
   "metadata": {},
   "outputs": [
    {
     "data": {
      "text/plain": [
       "[<matplotlib.lines.Line2D at 0x202cfc0df88>]"
      ]
     },
     "execution_count": 98,
     "metadata": {},
     "output_type": "execute_result"
    },
    {
     "data": {
      "image/png": "[encoded data removed]",
      "text/plain": [
       "<Figure size 432x288 with 1 Axes>"
      ]
     },
     "metadata": {
      "needs_background": "light"
     },
     "output_type": "display_data"
    }
   ],
   "source": [
    "plt.plot(solucao[3],solucao[4][50,:])"
   ]
  },
  {
   "cell_type": "code",
   "execution_count": 479,
   "metadata": {},
   "outputs": [],
   "source": [
    "import time\n",
    "start=time.time()\n",
    "solucao=diffinexpcart(50,case_3,case_3_corr,r,div,sigma,tau)[0]\n",
    "cpu=  time.time() - start"
   ]
  },
  {
   "cell_type": "code",
   "execution_count": 26,
   "metadata": {},
   "outputs": [],
   "source": [
    "#################3Formalicacao caso 4\n",
    "#Importar Case 4\n",
    "case_ABC=pd.read_csv(\"Case_ABCD.csv\", sep=';')\n",
    "case_ABC.set_index('Type', inplace=True)\n",
    "case_ABC=case_ABC.astype(float).T\n",
    "\n",
    "\n",
    "\n",
    "\n"
   ]
  },
  {
   "cell_type": "code",
   "execution_count": 127,
   "metadata": {},
   "outputs": [
    {
     "data": {
      "text/html": [
       "<div>\n",
       "<style scoped>\n",
       "    .dataframe tbody tr th:only-of-type {\n",
       "        vertical-align: middle;\n",
       "    }\n",
       "\n",
       "    .dataframe tbody tr th {\n",
       "        vertical-align: top;\n",
       "    }\n",
       "\n",
       "    .dataframe thead th {\n",
       "        text-align: right;\n",
       "    }\n",
       "</style>\n",
       "<table border=\"1\" class=\"dataframe\">\n",
       "  <thead>\n",
       "    <tr style=\"text-align: right;\">\n",
       "      <th>Type</th>\n",
       "      <th>Safe</th>\n",
       "      <th>Risky</th>\n",
       "    </tr>\n",
       "  </thead>\n",
       "  <tbody>\n",
       "    <tr>\n",
       "      <td>CF</td>\n",
       "      <td>0.5</td>\n",
       "      <td>0.30</td>\n",
       "    </tr>\n",
       "    <tr>\n",
       "      <td>I_w</td>\n",
       "      <td>70.0</td>\n",
       "      <td>45.00</td>\n",
       "    </tr>\n",
       "    <tr>\n",
       "      <td>P</td>\n",
       "      <td>50.0</td>\n",
       "      <td>50.00</td>\n",
       "    </tr>\n",
       "    <tr>\n",
       "      <td>q</td>\n",
       "      <td>0.1</td>\n",
       "      <td>0.12</td>\n",
       "    </tr>\n",
       "    <tr>\n",
       "      <td>B</td>\n",
       "      <td>600.0</td>\n",
       "      <td>500.00</td>\n",
       "    </tr>\n",
       "    <tr>\n",
       "      <td>I_d</td>\n",
       "      <td>2900.0</td>\n",
       "      <td>2800.00</td>\n",
       "    </tr>\n",
       "  </tbody>\n",
       "</table>\n",
       "</div>"
      ],
      "text/plain": [
       "Type    Safe    Risky\n",
       "CF       0.5     0.30\n",
       "I_w     70.0    45.00\n",
       "P       50.0    50.00\n",
       "q        0.1     0.12\n",
       "B      600.0   500.00\n",
       "I_d   2900.0  2800.00"
      ]
     },
     "execution_count": 127,
     "metadata": {},
     "output_type": "execute_result"
    }
   ],
   "source": [
    "case_ABC"
   ]
  },
  {
   "cell_type": "code",
   "execution_count": 30,
   "metadata": {},
   "outputs": [],
   "source": [
    "#Importar Case 4 - correlacao\n",
    "case_ABC_corr=pd.read_csv(\"Case_ABCD_corr.csv\", sep=';')\n",
    "case_ABC_corr.set_index('Type', inplace=True)\n"
   ]
  },
  {
   "cell_type": "code",
   "execution_count": 128,
   "metadata": {},
   "outputs": [
    {
     "data": {
      "text/html": [
       "<div>\n",
       "<style scoped>\n",
       "    .dataframe tbody tr th:only-of-type {\n",
       "        vertical-align: middle;\n",
       "    }\n",
       "\n",
       "    .dataframe tbody tr th {\n",
       "        vertical-align: top;\n",
       "    }\n",
       "\n",
       "    .dataframe thead th {\n",
       "        text-align: right;\n",
       "    }\n",
       "</style>\n",
       "<table border=\"1\" class=\"dataframe\">\n",
       "  <thead>\n",
       "    <tr style=\"text-align: right;\">\n",
       "      <th></th>\n",
       "      <th>A</th>\n",
       "      <th>B</th>\n",
       "    </tr>\n",
       "    <tr>\n",
       "      <th>Type</th>\n",
       "      <th></th>\n",
       "      <th></th>\n",
       "    </tr>\n",
       "  </thead>\n",
       "  <tbody>\n",
       "    <tr>\n",
       "      <td>A</td>\n",
       "      <td>1.00</td>\n",
       "      <td>0.65</td>\n",
       "    </tr>\n",
       "    <tr>\n",
       "      <td>B</td>\n",
       "      <td>0.65</td>\n",
       "      <td>1.00</td>\n",
       "    </tr>\n",
       "  </tbody>\n",
       "</table>\n",
       "</div>"
      ],
      "text/plain": [
       "         A     B\n",
       "Type            \n",
       "A     1.00  0.65\n",
       "B     0.65  1.00"
      ]
     },
     "execution_count": 128,
     "metadata": {},
     "output_type": "execute_result"
    }
   ],
   "source": [
    "case_ABC_corr"
   ]
  },
  {
   "cell_type": "code",
   "execution_count": 129,
   "metadata": {},
   "outputs": [
    {
     "name": "stdout",
     "output_type": "stream",
     "text": [
      "melhor portfolio é: (1, 0) e o valor é: 23.893371008606483 [17.28674201721296, 23.893371008606483]\n"
     ]
    }
   ],
   "source": [
    "#################Formalizacao caso 4 - correto\n",
    "fold=[]\n",
    "seq=[]\n",
    "P=50\n",
    "n=case_ABC.shape[1]\n",
    "perm=itertools.permutations(range(n))\n",
    "for k in list(perm):\n",
    "    seq.append(k)\n",
    "    #print(k)\n",
    "    m=np.zeros((2**(n-1),n))\n",
    "    p=np.zeros((2**(n-1),n))\n",
    "    pi=np.zeros((2**(n-1),n))\n",
    "    m[m==0]=np.nan\n",
    "    p[m==0]=np.nan\n",
    "    pi[pi==0]=np.nan\n",
    "    \n",
    "    \n",
    "    m[0,0]=case_ABC.iloc[0,k[0]] ### Capta da permutacao, o fc da Primeira na ordem de perfuracao\n",
    "    pi[0,0]=m[0,0]*(P*case_ABC.iloc[3,k[0]]*case_ABC.iloc[4,k[0]] - (P/50)*case_ABC.iloc[5,k[0]]) -case_ABC.iloc[1,k[0]]\n",
    "    \n",
    "    #Vetores Auxiliares\n",
    "    Ax_m=[]\n",
    "    Ax1_m=[]\n",
    "    Ax_pi=[]\n",
    "    ##Loop para criacao da matriz de FC e VME\n",
    "    for y in range(1,n,1):\n",
    "        Ax_m.append(case_ABC.iloc[0,k[y]])\n",
    "    \n",
    "    \n",
    "    for j in range(n-1):\n",
    "        p=0\n",
    "        for q in range(1+j,n,1):\n",
    "            for i in range(2**(j)):\n",
    "                p=p+1\n",
    "                #print(p-1,j,q,i,j)\n",
    "                CF_s=Ax_m[p-1] +case_ABC_corr.iloc[k[j],k[q]]*np.sqrt((m[i,j]-m[i,j]**2)*(Ax_m[p-1]-Ax_m[p-1]**2))/m[i,j]\n",
    "                Ax1_m.append(CF_s)\n",
    "                CF_ins=Ax_m[p-1] -case_ABC_corr.iloc[k[j],k[q]]*np.sqrt((m[i,j]-m[i,j]**2)*(Ax_m[p-1]-Ax_m[p-1]**2))/(1-m[i,j])\n",
    "                Ax1_m.append(CF_ins)\n",
    "                \n",
    "                Ax_pi.append(CF_s*(P*case_ABC.iloc[3,k[j+1]]*case_ABC.iloc[4,k[j+1]] - (P/50)*case_ABC.iloc[5,k[j+1]]) -case_ABC.iloc[1,k[j+1]])\n",
    "                Ax_pi.append(CF_ins*(P*case_ABC.iloc[3,k[j+1]]*case_ABC.iloc[4,k[j+1]] - (P/50)*case_ABC.iloc[5,k[j+1]]) -case_ABC.iloc[1,k[j+1]])\n",
    "                \n",
    "\n",
    "        m[0:2*(i+1),j+1]=Ax1_m[0:2*(i+1)]\n",
    "        pi[0:2*(i+1),j+1]=Ax_pi[0:2*(i+1)]\n",
    "        \n",
    "        del Ax1_m[0:2*(i+1)]\n",
    "        \n",
    "        Ax_m=Ax1_m\n",
    "        Ax1_m=[]\n",
    "        Ax_pi=[]\n",
    "    \n",
    "    #print(100*m)\n",
    "    #print(pi)\n",
    "    \n",
    "    for l in np.arange(n-2,-1,-1):\n",
    "        #print(l)\n",
    "        for g in range(2**(l)):\n",
    "            #print(pi[g,l],m[g,l], pi[2*g,l+1],(1-m[g,l]), pi[2*g+1,l+1]   )\n",
    "            pi[g,l]= np.maximum(0,pi[g,l] + m[g,l]*np.maximum(0,pi[2*g,l+1]) + (1-m[g,l])*np.maximum(0,pi[2*g+1,l+1]))\n",
    "    #print(pi)\n",
    "    fold.append(pi[0,0])\n",
    "    \n",
    "\n",
    "###Fornece o melhor portfolio seq_winner e o valor do porfolio winner\n",
    "winner=np.amax(fold)\n",
    "Seq_winner=seq[np.argmax(fold)]\n",
    "winner=np.maximum(0,winner)\n",
    "if winner==0:\n",
    "    Seq_winner=np.nan\n",
    "\n",
    "    \n",
    "    \n",
    "            \n",
    "\n",
    "    #print(fold)\n",
    "    #print(m)\n",
    "print('melhor portfolio é:',Seq_winner, 'e o valor é:', winner, fold)\n",
    "#print(fold)\n",
    "    \n",
    "    \n",
    "    \n",
    "    \n",
    "    \n",
    "    "
   ]
  },
  {
   "cell_type": "code",
   "execution_count": null,
   "metadata": {},
   "outputs": [],
   "source": []
  },
  {
   "cell_type": "code",
   "execution_count": 105,
   "metadata": {},
   "outputs": [
    {
     "ename": "TypeError",
     "evalue": "'int' object is not subscriptable",
     "output_type": "error",
     "traceback": [
      "\u001b[1;31m---------------------------------------------------------------------------\u001b[0m",
      "\u001b[1;31mTypeError\u001b[0m                                 Traceback (most recent call last)",
      "\u001b[1;32m<ipython-input-105-ab37211c72d5>\u001b[0m in \u001b[0;36m<module>\u001b[1;34m\u001b[0m\n\u001b[1;32m----> 1\u001b[1;33m \u001b[0mm\u001b[0m\u001b[1;33m[\u001b[0m\u001b[0mi\u001b[0m\u001b[1;33m,\u001b[0m\u001b[0mj\u001b[0m\u001b[1;33m]\u001b[0m\u001b[1;33m\u001b[0m\u001b[1;33m\u001b[0m\u001b[0m\n\u001b[0m",
      "\u001b[1;31mTypeError\u001b[0m: 'int' object is not subscriptable"
     ]
    }
   ],
   "source": []
  },
  {
   "cell_type": "code",
   "execution_count": null,
   "metadata": {},
   "outputs": [],
   "source": []
  },
  {
   "cell_type": "code",
   "execution_count": null,
   "metadata": {},
   "outputs": [],
   "source": []
  },
  {
   "cell_type": "code",
   "execution_count": null,
   "metadata": {},
   "outputs": [],
   "source": []
  },
  {
   "cell_type": "code",
   "execution_count": null,
   "metadata": {},
   "outputs": [],
   "source": []
  },
  {
   "cell_type": "code",
   "execution_count": 70,
   "metadata": {},
   "outputs": [
    {
     "name": "stdout",
     "output_type": "stream",
     "text": [
      "0 0 1 0\n",
      "0 0 2 1\n",
      "0 0 3 2\n",
      "0 0 4 3\n",
      "2i,j+1 2 1\n",
      "t\n",
      "0 1 2 0\n",
      "1 1 2 1\n",
      "0 1 3 2\n",
      "1 1 3 3\n",
      "0 1 4 4\n",
      "1 1 4 5\n",
      "2i,j+1 4 2\n",
      "t\n",
      "0 2 3 0\n",
      "1 2 3 1\n",
      "2 2 3 2\n",
      "3 2 3 3\n",
      "0 2 4 4\n",
      "1 2 4 5\n",
      "2 2 4 6\n",
      "3 2 4 7\n",
      "2i,j+1 8 3\n",
      "t\n",
      "0 3 4 0\n",
      "1 3 4 1\n",
      "2 3 4 2\n",
      "3 3 4 3\n",
      "4 3 4 4\n",
      "5 3 4 5\n",
      "6 3 4 6\n",
      "7 3 4 7\n",
      "2i,j+1 16 4\n",
      "t\n"
     ]
    }
   ],
   "source": [
    "n=5\n",
    "\n",
    "\n",
    "\n",
    "for j in range(n-1):\n",
    "    p=0\n",
    "    for q in range(1+j,n,1):\n",
    "        for i in range(2**j):\n",
    "            p=p+1\n",
    "            print(i,j,q,p-1)\n",
    "    print('2i,j+1',2*(i+1), j+1)\n",
    "    p=0\n",
    "    print('t')\n",
    "        "
   ]
  },
  {
   "cell_type": "code",
   "execution_count": 67,
   "metadata": {},
   "outputs": [
    {
     "name": "stdout",
     "output_type": "stream",
     "text": [
      "[2, 4, 3, 1]\n"
     ]
    }
   ],
   "source": [
    "a=[2,4,3,1]\n",
    "print(a)"
   ]
  },
  {
   "cell_type": "code",
   "execution_count": 68,
   "metadata": {},
   "outputs": [
    {
     "name": "stdout",
     "output_type": "stream",
     "text": [
      "[3, 1]\n"
     ]
    }
   ],
   "source": [
    "del a[0:2]\n",
    "print(a)"
   ]
  },
  {
   "cell_type": "code",
   "execution_count": null,
   "metadata": {},
   "outputs": [],
   "source": []
  },
  {
   "cell_type": "code",
   "execution_count": null,
   "metadata": {},
   "outputs": [],
   "source": []
  },
  {
   "cell_type": "code",
   "execution_count": 481,
   "metadata": {},
   "outputs": [
    {
     "data": {
      "text/plain": [
       "6.760177862644196"
      ]
     },
     "execution_count": 481,
     "metadata": {},
     "output_type": "execute_result"
    }
   ],
   "source": []
  },
  {
   "cell_type": "code",
   "execution_count": 482,
   "metadata": {},
   "outputs": [
    {
     "data": {
      "text/html": [
       "<div>\n",
       "<style scoped>\n",
       "    .dataframe tbody tr th:only-of-type {\n",
       "        vertical-align: middle;\n",
       "    }\n",
       "\n",
       "    .dataframe tbody tr th {\n",
       "        vertical-align: top;\n",
       "    }\n",
       "\n",
       "    .dataframe thead th {\n",
       "        text-align: right;\n",
       "    }\n",
       "</style>\n",
       "<table border=\"1\" class=\"dataframe\">\n",
       "  <thead>\n",
       "    <tr style=\"text-align: right;\">\n",
       "      <th>Type</th>\n",
       "      <th>S</th>\n",
       "      <th>I</th>\n",
       "      <th>R</th>\n",
       "    </tr>\n",
       "  </thead>\n",
       "  <tbody>\n",
       "    <tr>\n",
       "      <td>CF</td>\n",
       "      <td>0.3</td>\n",
       "      <td>0.25</td>\n",
       "      <td>0.20</td>\n",
       "    </tr>\n",
       "    <tr>\n",
       "      <td>I_w</td>\n",
       "      <td>70.0</td>\n",
       "      <td>60.00</td>\n",
       "      <td>50.00</td>\n",
       "    </tr>\n",
       "    <tr>\n",
       "      <td>P</td>\n",
       "      <td>50.0</td>\n",
       "      <td>50.00</td>\n",
       "      <td>50.00</td>\n",
       "    </tr>\n",
       "    <tr>\n",
       "      <td>q</td>\n",
       "      <td>0.1</td>\n",
       "      <td>0.11</td>\n",
       "      <td>0.12</td>\n",
       "    </tr>\n",
       "    <tr>\n",
       "      <td>B</td>\n",
       "      <td>500.0</td>\n",
       "      <td>600.00</td>\n",
       "      <td>700.00</td>\n",
       "    </tr>\n",
       "    <tr>\n",
       "      <td>I_d</td>\n",
       "      <td>2300.0</td>\n",
       "      <td>3100.00</td>\n",
       "      <td>4000.00</td>\n",
       "    </tr>\n",
       "  </tbody>\n",
       "</table>\n",
       "</div>"
      ],
      "text/plain": [
       "Type       S        I        R\n",
       "CF       0.3     0.25     0.20\n",
       "I_w     70.0    60.00    50.00\n",
       "P       50.0    50.00    50.00\n",
       "q        0.1     0.11     0.12\n",
       "B      500.0   600.00   700.00\n",
       "I_d   2300.0  3100.00  4000.00"
      ]
     },
     "execution_count": 482,
     "metadata": {},
     "output_type": "execute_result"
    }
   ],
   "source": [
    "case_ABC"
   ]
  },
  {
   "cell_type": "code",
   "execution_count": 483,
   "metadata": {},
   "outputs": [
    {
     "data": {
      "text/html": [
       "<div>\n",
       "<style scoped>\n",
       "    .dataframe tbody tr th:only-of-type {\n",
       "        vertical-align: middle;\n",
       "    }\n",
       "\n",
       "    .dataframe tbody tr th {\n",
       "        vertical-align: top;\n",
       "    }\n",
       "\n",
       "    .dataframe thead th {\n",
       "        text-align: right;\n",
       "    }\n",
       "</style>\n",
       "<table border=\"1\" class=\"dataframe\">\n",
       "  <thead>\n",
       "    <tr style=\"text-align: right;\">\n",
       "      <th></th>\n",
       "      <th>S</th>\n",
       "      <th>I</th>\n",
       "      <th>R</th>\n",
       "    </tr>\n",
       "    <tr>\n",
       "      <th>Type</th>\n",
       "      <th></th>\n",
       "      <th></th>\n",
       "      <th></th>\n",
       "    </tr>\n",
       "  </thead>\n",
       "  <tbody>\n",
       "    <tr>\n",
       "      <td>S</td>\n",
       "      <td>1.0</td>\n",
       "      <td>0.5</td>\n",
       "      <td>0.5</td>\n",
       "    </tr>\n",
       "    <tr>\n",
       "      <td>I</td>\n",
       "      <td>0.5</td>\n",
       "      <td>1.0</td>\n",
       "      <td>0.6</td>\n",
       "    </tr>\n",
       "    <tr>\n",
       "      <td>R</td>\n",
       "      <td>0.5</td>\n",
       "      <td>0.6</td>\n",
       "      <td>1.0</td>\n",
       "    </tr>\n",
       "  </tbody>\n",
       "</table>\n",
       "</div>"
      ],
      "text/plain": [
       "        S    I    R\n",
       "Type               \n",
       "S     1.0  0.5  0.5\n",
       "I     0.5  1.0  0.6\n",
       "R     0.5  0.6  1.0"
      ]
     },
     "execution_count": 483,
     "metadata": {},
     "output_type": "execute_result"
    }
   ],
   "source": [
    "case_ABC_corr"
   ]
  },
  {
   "cell_type": "code",
   "execution_count": 363,
   "metadata": {},
   "outputs": [],
   "source": [
    "####Transformando em função\n",
    "#diffinexp(V,I,r,div,sigma,tau):\n",
    "\n",
    "#diffinexp(CF_ins_2*(q*V*B), Iw+ CF_ins_2*Id,r,div,sigma,tau)\n",
    "#diffinexp(CF_s_2*(q*V*B), Iw+ CF_s_2*Id,r,div,sigma,tau)\n",
    "#Follower=S_ins_hj*(1-CF_2) + S_s_hj*(CF_2)\n",
    "\n",
    "def carteiraExplo(case_ABC,case_ABC_corr,V):\n",
    "    fold=[]\n",
    "    seq=[]\n",
    "    #P=50\n",
    "    n=case_ABC.shape[1]\n",
    "    perm=itertools.permutations(range(n))\n",
    "    \n",
    "    for k in list(perm):\n",
    "        seq.append(k)\n",
    "        #print(k[0], k[1])\n",
    "        m=np.zeros((2**(n-1),n))\n",
    "        p=np.zeros((2**(n-1),n))\n",
    "        pi=np.zeros((2**(n-1),n))\n",
    "        inv=np.zeros((2**(n-1),n))\n",
    "        \n",
    "        m[m==0]=np.nan\n",
    "        p[m==0]=np.nan\n",
    "        pi[pi==0]=np.nan\n",
    "        #inv[inv=0]=np.nan\n",
    "        \n",
    "        m[0,0]=case_ABC.iloc[0,k[0]] ### Capta da permutacao, o fc da Primeira na ordem de perfuracao\n",
    "        p[0,0]=1\n",
    "        #pi[0,0]=m[0,0]*(P*case_ABC.iloc[3,k[0]]*case_ABC.iloc[4,k[0]] - (P/50)*case_ABC.iloc[5,k[0]]) -case_ABC.iloc[1,k[0]]\n",
    "        pi[0,0]=diffinexp(m[0,0]*(V*case_ABC.iloc[3,k[0]]*case_ABC.iloc[4,k[0]]), m[0,0]*((V/50)*case_ABC.iloc[5,k[0]]) + case_ABC.iloc[1,k[0]],r,div,sigma,tau)[0]\n",
    "        \n",
    "        \n",
    "\n",
    "        \n",
    "        for j in range(n-1):\n",
    "            #print(\"j é\",j)\n",
    "            \n",
    "            for i in range(2**(j)):\n",
    "                rho=case_ABC_corr.iloc[k[j],k[j+1]]\n",
    "                cf=case_ABC.iloc[0,k[j+1]]\n",
    "                #print(\"i é\",i)\n",
    "                #print('rho',case_ABC_corr.iloc[k[j],k[j+1]], 'cf', case_ABC.iloc[0,k[j+1]] )\n",
    "                CF_s = cf + np.sqrt((m[i,j] -m[i,j]**2)*(cf-cf**2))*(rho/m[i,j])\n",
    "                m[2*i,j+1]=CF_s\n",
    "                p[2*i,j+1]=m[i,j]*p[i,j]\n",
    "                \n",
    "                pi[2*i,j+1]=diffinexp(CF_s*(V*case_ABC.iloc[3,k[j+1]]*case_ABC.iloc[4,k[j+1]]), CF_s*((V/50)*case_ABC.iloc[5,k[j+1]]) + case_ABC.iloc[1,k[j+1]],r,div,sigma,tau)[0]\n",
    "                \n",
    "                #pi[2*i,j+1]=CF_s*(V*case_ABC.iloc[3,k[j+1]]*case_ABC.iloc[4,k[j+1]] - (P/50)*case_ABC.iloc[5,k[j+1]]) -case_ABC.iloc[1,k[j+1]]\n",
    "                #inv[2*i,j+1]=CF_s*((V/50)*case_ABC.iloc[5,k[j+1]]) + case_ABC.iloc[1,k[j+1]]\n",
    "\n",
    "                \n",
    "                CF_ins = cf - np.sqrt((m[i,j] -m[i,j]**2)*(cf-cf**2))*(rho/(1-m[i,j]))\n",
    "                m[2*i+1,j+1]=CF_ins\n",
    "                p[2*i+1,j+1]=(1-m[i,j])*p[i,j]\n",
    "                                       \n",
    "                pi[2*i+1,j+1]= diffinexp(CF_ins*(V*case_ABC.iloc[3,k[j+1]]*case_ABC.iloc[4,k[j+1]]), CF_ins*((V/50)*case_ABC.iloc[5,k[j+1]]) + case_ABC.iloc[1,k[j+1]],r,div,sigma,tau)[0]\n",
    "                \n",
    "                                       \n",
    "                #pi[2*i+1,j+1]=CF_ins*(V*case_ABC.iloc[3,k[j+1]]*case_ABC.iloc[4,k[j+1]] - (P/50)*case_ABC.iloc[5,k[j+1]]) -case_ABC.iloc[1,k[j+1]]\n",
    "                #inv[2*i+1,j+1]=CF_ins*((P/50)*case_ABC.iloc[5,k[j+1]]) + case_ABC.iloc[1,k[j+1]]\n",
    "\n",
    "                #print(m)\n",
    "                \n",
    "        for l in np.arange(n-2,-1,-1):\n",
    "            #print(l)\n",
    "            for g in range(2**(l)):\n",
    "                #print(pi[g,l],m[g,l], pi[2*g,l+1],(1-m[g,l]), pi[2*g+1,l+1]   )\n",
    "                pi[g,l]= np.maximum(0,pi[g,l] + m[g,l]*np.maximum(0,pi[2*g,l+1]) + (1-m[g,l])*np.maximum(0,pi[2*g+1,l+1]))\n",
    "                #print(pi)\n",
    "                fold.append(pi[0,0])\n",
    "    \n",
    "    ###Fornece o melhor portfolio seq_winner e o valor do porfolio winner\n",
    "    winner=np.amax(fold)\n",
    "    Seq_winner=seq[np.argmax(fold)]\n",
    "    winner=np.maximum(0,winner)\n",
    "    if winner==0:\n",
    "        Seq_winner=np.nan\n",
    "    \n",
    "    m=[]\n",
    "    pi=[]\n",
    "    inv=[]\n",
    "    valor=[]\n",
    "\n",
    "    return [Seq_winner, winner]\n",
    "    \n",
    "            \n",
    "\n",
    "    "
   ]
  },
  {
   "cell_type": "code",
   "execution_count": 365,
   "metadata": {},
   "outputs": [
    {
     "data": {
      "text/plain": [
       "[(0, 1), 284.68438921273986]"
      ]
     },
     "execution_count": 365,
     "metadata": {},
     "output_type": "execute_result"
    }
   ],
   "source": [
    "div=delta\n",
    "tau=3\n",
    "carteiraExplo(case_ABC,case_ABC_corr,50)"
   ]
  },
  {
   "cell_type": "code",
   "execution_count": null,
   "metadata": {},
   "outputs": [],
   "source": []
  },
  {
   "cell_type": "code",
   "execution_count": null,
   "metadata": {},
   "outputs": [],
   "source": []
  },
  {
   "cell_type": "code",
   "execution_count": 357,
   "metadata": {},
   "outputs": [
    {
     "data": {
      "text/plain": [
       "108.6011189908375"
      ]
     },
     "execution_count": 357,
     "metadata": {},
     "output_type": "execute_result"
    }
   ],
   "source": [
    "diffinexp(0.3*(50*0.1*500), 0.3*((50/50)*2300) + 70,r,div,sigma,2)[0]"
   ]
  },
  {
   "cell_type": "code",
   "execution_count": 360,
   "metadata": {},
   "outputs": [
    {
     "data": {
      "text/plain": [
       "68.0209754817148"
      ]
     },
     "execution_count": 360,
     "metadata": {},
     "output_type": "execute_result"
    }
   ],
   "source": [
    "0.3*bjst((50*0.1*500), ((50/50)*2300),r,div,sigma,2)[0] - 70"
   ]
  },
  {
   "cell_type": "code",
   "execution_count": 361,
   "metadata": {},
   "outputs": [
    {
     "data": {
      "text/plain": [
       "68.34146975171299"
      ]
     },
     "execution_count": 361,
     "metadata": {},
     "output_type": "execute_result"
    }
   ],
   "source": [
    "0.3*diffinexp((50*0.1*500), ((50/50)*2300),r,div,sigma,2)[0] -70"
   ]
  },
  {
   "cell_type": "code",
   "execution_count": 362,
   "metadata": {},
   "outputs": [
    {
     "data": {
      "text/plain": [
       "68.3414697517129"
      ]
     },
     "execution_count": 362,
     "metadata": {},
     "output_type": "execute_result"
    }
   ],
   "source": [
    "2300*0.3*diffinexp((50*0.1*500)/2300, 1,r,div,sigma,2)[0] -70"
   ]
  },
  {
   "cell_type": "code",
   "execution_count": 353,
   "metadata": {},
   "outputs": [
    {
     "data": {
      "text/plain": [
       "4.407399480773088"
      ]
     },
     "execution_count": 353,
     "metadata": {},
     "output_type": "execute_result"
    }
   ],
   "source": [
    "diffinexp(50,60,r,div,sigma,2)[0]"
   ]
  },
  {
   "cell_type": "code",
   "execution_count": 131,
   "metadata": {},
   "outputs": [
    {
     "data": {
      "text/html": [
       "<div>\n",
       "<style scoped>\n",
       "    .dataframe tbody tr th:only-of-type {\n",
       "        vertical-align: middle;\n",
       "    }\n",
       "\n",
       "    .dataframe tbody tr th {\n",
       "        vertical-align: top;\n",
       "    }\n",
       "\n",
       "    .dataframe thead th {\n",
       "        text-align: right;\n",
       "    }\n",
       "</style>\n",
       "<table border=\"1\" class=\"dataframe\">\n",
       "  <thead>\n",
       "    <tr style=\"text-align: right;\">\n",
       "      <th>Type</th>\n",
       "      <th>Safe</th>\n",
       "      <th>Risky</th>\n",
       "    </tr>\n",
       "  </thead>\n",
       "  <tbody>\n",
       "    <tr>\n",
       "      <td>CF</td>\n",
       "      <td>0.3</td>\n",
       "      <td>0.20</td>\n",
       "    </tr>\n",
       "    <tr>\n",
       "      <td>I_w</td>\n",
       "      <td>70.0</td>\n",
       "      <td>50.00</td>\n",
       "    </tr>\n",
       "    <tr>\n",
       "      <td>P</td>\n",
       "      <td>50.0</td>\n",
       "      <td>50.00</td>\n",
       "    </tr>\n",
       "    <tr>\n",
       "      <td>q</td>\n",
       "      <td>0.1</td>\n",
       "      <td>0.12</td>\n",
       "    </tr>\n",
       "    <tr>\n",
       "      <td>B</td>\n",
       "      <td>500.0</td>\n",
       "      <td>700.00</td>\n",
       "    </tr>\n",
       "    <tr>\n",
       "      <td>I_d</td>\n",
       "      <td>2300.0</td>\n",
       "      <td>4000.00</td>\n",
       "    </tr>\n",
       "  </tbody>\n",
       "</table>\n",
       "</div>"
      ],
      "text/plain": [
       "Type    Safe    Risky\n",
       "CF       0.3     0.20\n",
       "I_w     70.0    50.00\n",
       "P       50.0    50.00\n",
       "q        0.1     0.12\n",
       "B      500.0   700.00\n",
       "I_d   2300.0  4000.00"
      ]
     },
     "execution_count": 131,
     "metadata": {},
     "output_type": "execute_result"
    }
   ],
   "source": [
    "case_ABC"
   ]
  },
  {
   "cell_type": "code",
   "execution_count": null,
   "metadata": {},
   "outputs": [],
   "source": []
  },
  {
   "cell_type": "code",
   "execution_count": null,
   "metadata": {},
   "outputs": [],
   "source": []
  },
  {
   "cell_type": "code",
   "execution_count": 63,
   "metadata": {},
   "outputs": [
    {
     "name": "stdout",
     "output_type": "stream",
     "text": [
      "0.3222020185321558 0.14762770634336184\n",
      "0.28 0.055\n",
      "0.32912878474779206 -0.030930734141595445\n",
      "0.56 0.155\n",
      "0.4833030277982336 0.24762770634336181\n",
      "0.32912878474779206 0.024999999999999994\n",
      "0.28 0.021441559515042743\n",
      "0.9873863542433761 0.22499999999999998\n",
      "0.9873863542433761 0.16906926585840454\n",
      "0.3222020185321558 0.17\n",
      "0.56 0.12144155951504275\n",
      "0.4833030277982336 0.26999999999999996\n"
     ]
    }
   ],
   "source": [
    "n=3\n",
    "perm=itertools.permutations(range(n))\n",
    "for i in list(perm):\n",
    "    for j in range(n-1):\n",
    "        CF_s= cf[i[j+1]] + (np.sqrt((1-cf[i[j]])/cf[i[j]]))*(np.sqrt(cf[i[j+1]]*(1-cf[i[j+1]])))*m[i[j],i[j+1]]\n",
    "        CF_ins= cf[i[j+1]] - (np.sqrt(cf[j]/(1-cf[j])))*(np.sqrt(cf[j+1]*(1-cf[j+1])))*m[i[j],i[j+1]]\n",
    "        print(CF_s,CF_ins)\n",
    "        \n",
    "        "
   ]
  },
  {
   "cell_type": "code",
   "execution_count": 62,
   "metadata": {},
   "outputs": [
    {
     "data": {
      "text/plain": [
       "matrix([[1. , 0.2, 0.5],\n",
       "        [0.2, 1. , 0.3],\n",
       "        [0.5, 0.3, 1. ]])"
      ]
     },
     "execution_count": 62,
     "metadata": {},
     "output_type": "execute_result"
    }
   ],
   "source": [
    "cf=np.array([0.3,0.2,0.1])\n",
    "m=np.matrix([[1,0.2,0.5],[0.2,1,0.3],[0.5,0.3,1]])\n",
    "m"
   ]
  },
  {
   "cell_type": "code",
   "execution_count": 58,
   "metadata": {},
   "outputs": [
    {
     "name": "stdout",
     "output_type": "stream",
     "text": [
      "1\n",
      "2\n"
     ]
    }
   ],
   "source": [
    "for j in range(n-1):\n",
    "    print(j+1)"
   ]
  },
  {
   "cell_type": "code",
   "execution_count": 281,
   "metadata": {},
   "outputs": [],
   "source": [
    "##################################################3\n",
    "#####################################################\n",
    "###########Solucao e_ DF e Aproximações analiticas##############\n"
   ]
  },
  {
   "cell_type": "code",
   "execution_count": 282,
   "metadata": {},
   "outputs": [],
   "source": [
    "import numpy as np\n",
    "import matplotlib.pyplot as plt\n",
    "import pandas as pd\n",
    "import scipy as sci"
   ]
  },
  {
   "cell_type": "code",
   "execution_count": 283,
   "metadata": {},
   "outputs": [],
   "source": [
    "%matplotlib inline\n",
    "import seaborn as sns\n",
    "from scipy.stats import norm"
   ]
  },
  {
   "cell_type": "code",
   "execution_count": 341,
   "metadata": {},
   "outputs": [],
   "source": [
    "#####Valor Beta e Valor Crítico####\n",
    "def vcritico(I,r,div,sigma,tau):\n",
    "    if tau <=0:\n",
    "        vcrit=I\n",
    "        beta= 0.5 -(r-div)/(sigma**2) + np.sqrt(np.power(((r-div)/(sigma**2)) - 0.5,2) +((2*r)/(sigma**2)))\n",
    "    else:\n",
    "        if div<=0:\n",
    "            print(\"Faça um BSM\")\n",
    "        else:\n",
    "            \n",
    "            beta= 0.5 -(r-div)/(sigma**2) + np.sqrt(np.power(((r-div)/sigma**2) -0.5,2) +((2*r)/(sigma**2)))\n",
    "            V_perp= I*(beta/(beta-1))\n",
    "            V_0=np.maximum(I, (r/div)*I)\n",
    "            ht= -1*((r-div)*tau + 2*sigma*np.sqrt(tau))*(V_0/(V_perp - V_0))\n",
    "            vcrit= V_0 + (V_perp - V_0)*(1- np.exp(ht))\n",
    "    return[beta,vcrit, V_perp]\n",
    "            \n",
    "        \n",
    "        "
   ]
  },
  {
   "cell_type": "code",
   "execution_count": 342,
   "metadata": {},
   "outputs": [],
   "source": [
    "####Método Black Merton e Scholes\n",
    "def bsm(V,I,r,div,sigma,tau):\n",
    "    #Opção de Compra Europeia com dividendos - Merton\n",
    "    \n",
    "\n",
    "    if tau <=0:\n",
    "        call=np.maximum(V-I,0)\n",
    "        put=np.maximum(I-V,0)\n",
    "    else:\n",
    "        h1=(np.log(V/I) + ((r-div) +(0.5*np.power(sigma,2)))*tau)/(sigma*np.sqrt(tau))\n",
    "        h2=h1 -sigma*np.sqrt(tau)\n",
    "        \n",
    "        call= V*np.exp(-div*tau)*norm.cdf(h1) -I*np.exp(-r*tau)*norm.cdf(h2)\n",
    "        put= call + (np.exp(-r*tau)*I - V*np.exp(-div*tau))\n",
    "        put2= I*np.exp(-r*tau)*(1- norm.cdf(h2)) - V*np.exp(-div*tau)*(1-norm.cdf(h1))\n",
    "    #return[call, put, norm.cdf(h1), norm.cdf(h2),put2]\n",
    "    return[call, put]\n",
    "\n",
    "\n",
    "\n"
   ]
  },
  {
   "cell_type": "code",
   "execution_count": 343,
   "metadata": {},
   "outputs": [],
   "source": [
    "###Função probabilidade para cálculo do gatilho pelo método de aproximação analítica\n",
    "def prob(V,tau,gama,h,vcrit,r,div,sigma):\n",
    "    ####Função probabilidade\n",
    "    lamba=(-r +(gama*(r-div)) +0.5*gama*(gama-1)*sigma**2)*tau\n",
    "    dist= -(np.log(V/h)+((r-div)+(gama - 0.5)*sigma**2)*tau)/(sigma*np.sqrt(tau))\n",
    "    kappa= (2*gama -1) +  2*(r-div)/(sigma**2)\n",
    "    prob=np.exp(lamba)*(V**gama)*(norm.cdf(dist) - ((vcrit/V)**kappa)*(norm.cdf(dist -(2*np.log(vcrit/V))/(sigma*np.sqrt(tau)))))\n",
    "    \n",
    "    return[prob]\n",
    "    "
   ]
  },
  {
   "cell_type": "code",
   "execution_count": 344,
   "metadata": {},
   "outputs": [],
   "source": [
    "### Método Bjerksund e Stensland (1993) - saida - Derivativo, Gatilho e V_0\n",
    "def bjst(V,I,r,div,sigma,tau):\n",
    "    #### Call americana\n",
    "    if div <=0: #igual a call europeia\n",
    "        bs=bsm(V,I,r,div,sigma,tau)[0]\n",
    "    else:\n",
    "        beta=vcritico(I,r,div,sigma,tau)[0]\n",
    "        vcrit=vcritico(I,r,div,sigma,tau)[1]\n",
    "        alpha= (vcrit - I)*vcrit**(-beta)\n",
    "        \n",
    "        if V>= vcrit:\n",
    "            bs=V-I\n",
    "        else:\n",
    "            bs= alpha*V**beta -alpha*prob(V,tau,beta,vcrit,vcrit,r,div,sigma)[0]+prob(V,tau,1,vcrit,vcrit,r,div,sigma)[0]-prob(V,tau,1,I,vcrit,r,div,sigma)[0]-I*prob(V,tau,0,vcrit,vcrit,r,div,sigma)[0]+I*prob(V,tau,0,I,vcrit,r,div,sigma)[0]\n",
    "    \n",
    "    return[bs, vcrit, V]\n",
    "    \n",
    "    "
   ]
  },
  {
   "cell_type": "code",
   "execution_count": 351,
   "metadata": {},
   "outputs": [],
   "source": [
    "def diffinexp(V,I,r,div,sigma,tau):\n",
    "    #############################################################\n",
    "    #######Método por diferenças finitas explícitas##############\n",
    "    accur=0.1  #Porcentagem de acurácia\n",
    "    \n",
    "    #####Solução por diferenças finita explícitas###\n",
    "    #Precisão em e intervalo da célula em V\n",
    "    deltaV=V*accur\n",
    "    \n",
    "    # M são as divisões do grid em V\n",
    "    #forcei a barra- coloque 3 vezes a V de perpetuidade. Estava 1,1 \n",
    "    M= int(1.1*vcritico(I,r,div,sigma,tau)[2]/deltaV) # Max é 10% acima do gatilho em perpetuidade. Vcrit- com gati precisa de tau\n",
    "    VGrid=int(V/deltaV) #Ponto do grid onde esta V_0. \n",
    "    deltat= (deltaV**2)/((sigma**2)*((3*I)**2)) #Convergência: Critério do peso central >=0. Vmax=3I ><1.1Gatilho_perp\n",
    "    N= int(tau/deltat) +1\n",
    "    \n",
    "    df=1/(1+(r*deltat)) # fator de desconto\n",
    "    \n",
    "    #Vetor Vt\n",
    "    Vt=np.zeros(M+1)\n",
    "    Gatilho=np.zeros(N+1)\n",
    "    F=np.zeros((N+1,M+1))\n",
    "    deltat=tau/N\n",
    "    for i in range(M+1):\n",
    "        Vt[i]= i*deltaV\n",
    "        F[N,i]=np.maximum(0,Vt[i]-I)\n",
    "    Gatilho[N]=I\n",
    "    \n",
    "    ##############Loop################\n",
    "    for j in range(N-1,-1,-1): #de N-1 até zero(-1) pulando em -1\n",
    "        for i in range(1,M,1): # de 1 até M-1 pulando em 1\n",
    "            pu= 0.5*((sigma**2)*(i**2) + ((r - div)*i))*deltat\n",
    "            pm = 1 - (sigma**2)*(i**2)*deltat\n",
    "            pd = 0.5*((sigma**2)*(i**2) - ((r - div)*i))*deltat\n",
    "            F[j,i]= df*(pu*F[j+1,i+1] + pm*F[j+1,i] + pd*F[j+1,i - 1])\n",
    "            \n",
    "            ###Vetor Gatilho####\n",
    "            if F[j,i]< Vt[i]-I and F[j,i-1]>Vt[i-1]-I:\n",
    "                Gatilho[j]=(Vt[i]+Vt[i-1])/2\n",
    "            \n",
    "            F[j,i]=np.maximum(Vt[i]-I, F[j,i])  #opção americana\n",
    "        \n",
    "        \n",
    "        F[j,0]=0\n",
    "        F[j,M]=Vt[i]-I\n",
    "        \n",
    "        \n",
    "    T=np.linspace(0,tau,num=len(Gatilho))\n",
    "    \n",
    "    ###Retorna A opção hoje, Gatilho, Tempo, Vt, Matrix para Gráficos\n",
    "    return[F[0,VGrid],Gatilho,T,Vt,F]\n",
    "\n"
   ]
  },
  {
   "cell_type": "code",
   "execution_count": 42,
   "metadata": {},
   "outputs": [],
   "source": [
    "###Exemplo 2###\n",
    "r=np.log(1+0.04)\n",
    "#print(r)\n",
    "delta=np.log(1+0.05)\n",
    "sigma=0.2\n",
    "delta_t=1/24\n",
    "T=3\n",
    "Po=50\n",
    "rho=0.65"
   ]
  },
  {
   "cell_type": "code",
   "execution_count": 44,
   "metadata": {},
   "outputs": [
    {
     "data": {
      "text/plain": [
       "['WS', 24.47237490865123, 17.28674201721296, 23.893371008606483]"
      ]
     },
     "execution_count": 44,
     "metadata": {},
     "output_type": "execute_result"
    }
   ],
   "source": [
    " #return[*decision_1,*port_1,*EMV_portfolio_P(*safe, *risky,P_m_1[i],rho),*EMV_portfolio_P(*risky,*safe,P_m_1[i],rho)]   \n",
    "defer_seq(case_2,r,delta,sigma,delta_t,T,Po,rho)"
   ]
  },
  {
   "cell_type": "code",
   "execution_count": 46,
   "metadata": {},
   "outputs": [
    {
     "data": {
      "text/plain": [
       "CF        0.5\n",
       "I_w      70.0\n",
       "P        50.0\n",
       "q         0.1\n",
       "B       600.0\n",
       "I_d    2900.0\n",
       "Name: Safe, dtype: float64"
      ]
     },
     "execution_count": 46,
     "metadata": {},
     "output_type": "execute_result"
    }
   ],
   "source": [
    "case_2.Safe"
   ]
  },
  {
   "cell_type": "code",
   "execution_count": 47,
   "metadata": {},
   "outputs": [],
   "source": [
    "def EMV_portfolio_P(CF_1, I_w_1, q_1, B_1, I_d_1, CF_2, I_w_2, q_2, B_2, I_d_2,P,rho):\n",
    "#Função criada igual a outra acima, contudo com um só preço. Será usada no cálculo da opção de espera    \n",
    "    #Métricas da primeiro prospecto\n",
    "    V_1=q_1*B_1*P;\n",
    "    I_d_1= I_d_1*(P/50) #com preço base\n",
    "    NPV_1= V_1- I_d_1\n",
    "    EMV_1= -I_w_1 + CF_1*NPV_1\n",
    "    \n",
    "    \n",
    "    #Ajuste do Fator de chance do segundo prospecto\n",
    "    CF_s_2 = CF_2 + (np.sqrt((1-CF_1)/CF_1))*(np.sqrt(CF_2*(1-CF_2)))*rho\n",
    "    CF_ins_2 = CF_2 - (np.sqrt(CF_1/(1-CF_1)))*(np.sqrt(CF_2*(1-CF_2)))*rho\n",
    "    \n",
    "    #Métricas para o segundo prospecto, considerando dois cenários do primeiro poço em Valor Esperado\n",
    "    V_2=q_2*B_2*P;\n",
    "    I_d_2= I_d_2*(P/50) #com preço base\n",
    "    NPV_2= V_2- I_d_2\n",
    "    \n",
    "    EMV_s_2= -I_w_2 + CF_s_2*NPV_2\n",
    "    EMV_ins_2= -I_w_2 + CF_ins_2*NPV_2\n",
    "    \n",
    "    #Análise de Portfolio, considerando a informação obtida no primeiro poço\n",
    "        \n",
    "    portfolio= EMV_1 + CF_1*max(EMV_s_2,0)+ (1-CF_1)*max(EMV_ins_2,0)\n",
    "    \n",
    "    return [max(0,portfolio)]  #qualquer portfolio não aceitará valor negativo de VME\n",
    "\n"
   ]
  },
  {
   "cell_type": "code",
   "execution_count": 2,
   "metadata": {},
   "outputs": [],
   "source": [
    "####################################################\n",
    "####################################################\n",
    "#### Incerteza Técnica - Bernouilli Dissertacao#####\n",
    "####################################################"
   ]
  },
  {
   "cell_type": "code",
   "execution_count": 12,
   "metadata": {},
   "outputs": [],
   "source": [
    "########Versao Antiga###########################\n",
    "################################################\n",
    "\n",
    "inv=5\n",
    "\n",
    "CF=0.3\n",
    "\n",
    "\n",
    "rho=0.3\n",
    "\n",
    "m=np.zeros((2**inv,inv+1))\n",
    "p=np.zeros((2**inv,inv+1))\n",
    "\n",
    "m[m==0]=np.nan\n",
    "p[m==0]=np.nan\n",
    "\n",
    "m[0,0]=CF\n",
    "p[0,0]=1\n",
    "\n",
    "for j in range(inv):\n",
    "    #print(\"j é\",j)\n",
    "    for i in range(2**(j)):\n",
    "     #   print(i)\n",
    "        CF_s = m[i,j] + (np.sqrt((1-m[i,j])/m[i,j]))*(np.sqrt(m[i,j]*(1-m[i,j])))*rho\n",
    "        m[2*i,j+1]=CF_s\n",
    "        p[2*i,j+1]=m[i,j]*p[i,j]\n",
    "        \n",
    "        CF_ins = m[i,j] - (np.sqrt(m[i,j]/(1-m[i,j])))*(np.sqrt(m[i,j]*(1-m[i,j])))*rho\n",
    "        m[2*i+1,j+1]=CF_ins\n",
    "        p[2*i+1,j+1]=(1-m[i,j])*p[i,j]"
   ]
  },
  {
   "cell_type": "code",
   "execution_count": 38,
   "metadata": {},
   "outputs": [
    {
     "name": "stdout",
     "output_type": "stream",
     "text": [
      "1\n",
      "2\n",
      "3\n"
     ]
    }
   ],
   "source": [
    "for _ in range(1,4,1):\n",
    "    print(_)"
   ]
  },
  {
   "cell_type": "code",
   "execution_count": 16,
   "metadata": {},
   "outputs": [],
   "source": [
    "#################################Versao Nova###########################33\n",
    "#########################################################################\n",
    "\n",
    "inv=3\n",
    "\n",
    "CF=0.3\n",
    "\n",
    "\n",
    "rho=0.5\n",
    "\n",
    "m=np.zeros((2**(inv-1),inv))\n",
    "prob=np.zeros((2**(inv-1),inv))\n",
    "\n",
    "m[m==0]=np.nan\n",
    "prob[m==0]=np.nan\n",
    "\n",
    "m[0,0]=CF\n",
    "prob[0,0]=1\n",
    "\n",
    "#Vetores Auxiliares\n",
    "Ax_m=[]\n",
    "Ax1_m=[]\n",
    "Ax_prob=[]\n",
    "Ax1_prob=[]\n",
    "Ax_lim=[]\n",
    "##Loop para criacao da matriz de FC e VME\n",
    "\n",
    "for y in range(1,inv,1):\n",
    "        Ax_m.append(CF)\n",
    "        #Ax_m.append(CF+y/40) #experimento com cf variando : .3,.325,.35,.374,.4\n",
    "        Ax_prob.append(1)\n",
    "#print(Ax_m)\n",
    "for j in range(inv-1):\n",
    "    p=0\n",
    "    for q in range(1+j,inv,1):\n",
    "        for i in range(2**(j)):\n",
    "            p=p+1\n",
    "            #print(p-1,j,q,i,j)\n",
    "            CF_s=Ax_m[p-1] +rho*np.sqrt((m[i,j]-m[i,j]**2)*(Ax_m[p-1]-Ax_m[p-1]**2))/m[i,j]\n",
    "            Ax1_m.append(CF_s)\n",
    "            CF_ins=Ax_m[p-1] -rho*np.sqrt((m[i,j]-m[i,j]**2)*(Ax_m[p-1]-Ax_m[p-1]**2))/(1-m[i,j])\n",
    "            Ax1_m.append(CF_ins)\n",
    "\n",
    "            Ax1_prob.append(Ax_prob[p-1]*m[i,j])\n",
    "            Ax1_prob.append(Ax_prob[p-1]*(1-m[i,j]))\n",
    "\n",
    "            a=np.minimum(Ax_m[p-1],m[i,j])*(1-np.maximum(Ax_m[p-1],m[i,j]))\n",
    "            b=np.maximum(Ax_m[p-1],m[i,j])*(1-np.minimum(Ax_m[p-1],m[i,j]))\n",
    "            Ax_lim.append(np.sqrt(a/b)>rho)\n",
    "\n",
    "            a=-np.sqrt(Ax_m[p-1]*m[i,j]/(1-Ax_m[p-1])*(1-m[i,j]))\n",
    "            b=-np.sqrt((1-Ax_m[p-1])*(1-m[i,j])/Ax_m[p-1]*m[i,j])\n",
    "            Ax_lim.append(np.maximum(a,b)<rho)\n",
    "                \n",
    "\n",
    "    m[0:2*(i+1),j+1]=Ax1_m[0:2*(i+1)]\n",
    "    prob[0:2*(i+1),j+1]=Ax1_prob[0:2*(i+1)]\n",
    "        \n",
    "    del Ax1_m[0:2*(i+1)]\n",
    "    del Ax1_prob[0:2*(i+1)]\n",
    "        \n",
    "    #print(Ax_lim)\n",
    "    Ax_m=Ax1_m\n",
    "    Ax1_m=[]\n",
    "    Ax_prob=Ax1_prob\n",
    "    Ax1_prob=[]\n",
    "    Ax_lim=[]\n",
    "    \n",
    "   # print(100*m)\n",
    "    #print(pi)\n",
    "    "
   ]
  },
  {
   "cell_type": "code",
   "execution_count": 17,
   "metadata": {},
   "outputs": [
    {
     "data": {
      "text/plain": [
       "array([[30. , 65. , 82.5],\n",
       "       [ nan, 15. , 32.5],\n",
       "       [ nan,  nan, 57.5],\n",
       "       [ nan,  nan,  7.5]])"
      ]
     },
     "execution_count": 17,
     "metadata": {},
     "output_type": "execute_result"
    }
   ],
   "source": [
    "np.round(100*m,4)"
   ]
  },
  {
   "cell_type": "code",
   "execution_count": 18,
   "metadata": {},
   "outputs": [
    {
     "data": {
      "text/plain": [
       "array([[100. ,  30. ,  19.5],\n",
       "       [  0. ,  70. ,  10.5],\n",
       "       [  0. ,   0. ,  10.5],\n",
       "       [  0. ,   0. ,  59.5]])"
      ]
     },
     "execution_count": 18,
     "metadata": {},
     "output_type": "execute_result"
    }
   ],
   "source": [
    "np.round(100*prob,2)"
   ]
  },
  {
   "cell_type": "code",
   "execution_count": 20,
   "metadata": {},
   "outputs": [
    {
     "data": {
      "text/plain": [
       "<BarContainer object of 4 artists>"
      ]
     },
     "execution_count": 20,
     "metadata": {},
     "output_type": "execute_result"
    },
    {
     "data": {
      "image/png": "[encoded data removed]",
      "text/plain": [
       "<Figure size 432x288 with 1 Axes>"
      ]
     },
     "metadata": {
      "needs_background": "light"
     },
     "output_type": "display_data"
    }
   ],
   "source": [
    "plt.bar(m[:,2],prob[:,2], width=0.02)"
   ]
  },
  {
   "cell_type": "code",
   "execution_count": 264,
   "metadata": {},
   "outputs": [
    {
     "name": "stdout",
     "output_type": "stream",
     "text": [
      "média 0.3 desvpad 0.0 amostras 1\n",
      "média 0.43 desvpad 0.26 amostras 2\n",
      "média 0.5 desvpad 0.28 amostras 4\n",
      "média 0.54 desvpad 0.29 amostras 8\n",
      "média 0.57 desvpad 0.29 amostras 16\n",
      "média 0.61 desvpad 0.28 amostras 32\n"
     ]
    }
   ],
   "source": [
    "for k in range(inv):\n",
    "    print('média', np.round(m[~np.isnan(m[:,k]),k].mean(),2), 'desvpad', np.round(m[~np.isnan(m[:,k]),k].std(),2), 'amostras', np.sum(~np.isnan(m[:,k])))\n"
   ]
  },
  {
   "cell_type": "code",
   "execution_count": null,
   "metadata": {},
   "outputs": [],
   "source": []
  },
  {
   "cell_type": "code",
   "execution_count": 265,
   "metadata": {},
   "outputs": [],
   "source": [
    "def media(k):\n",
    "    ex=sum(m[~np.isnan(m[:,k]),k]*prob[~np.isnan(m[:,k]),k])\n",
    "    return ex"
   ]
  },
  {
   "cell_type": "code",
   "execution_count": 266,
   "metadata": {},
   "outputs": [],
   "source": [
    "def dp(k):\n",
    "    ex=sum(m[~np.isnan(m[:,k]),k]*prob[~np.isnan(m[:,k]),k])\n",
    "    ex2=sum(np.power(m[~np.isnan(m[:,k]),k],2)*prob[~np.isnan(m[:,k]),k])\n",
    "    varx= ex2 - ex**2\n",
    "    dpx=np.sqrt(varx)\n",
    "    return dpx"
   ]
  },
  {
   "cell_type": "code",
   "execution_count": 268,
   "metadata": {},
   "outputs": [
    {
     "name": "stdout",
     "output_type": "stream",
     "text": [
      "média 0.3 desviop 0.0 cenários 1\n",
      "média 0.325 desviop 0.23 cenários 2\n",
      "média 0.35 desviop 0.32 cenários 4\n",
      "média 0.375 desviop 0.37 cenários 8\n",
      "média 0.4 desviop 0.41 cenários 16\n",
      "média 0.425 desviop 0.43 cenários 32\n"
     ]
    }
   ],
   "source": [
    "for k in range(inv):\n",
    "    print('média', np.round(media(k),3), 'desviop', np.round(dp(k),2), 'cenários',np.sum(~np.isnan(m[:,k])))"
   ]
  },
  {
   "cell_type": "code",
   "execution_count": 236,
   "metadata": {},
   "outputs": [
    {
     "data": {
      "text/plain": [
       "array([ True,  True,  True,  True,  True,  True,  True,  True,  True,\n",
       "        True,  True,  True,  True,  True,  True,  True,  True,  True,\n",
       "        True,  True,  True,  True,  True,  True,  True,  True,  True,\n",
       "        True,  True,  True,  True,  True])"
      ]
     },
     "execution_count": 236,
     "metadata": {},
     "output_type": "execute_result"
    }
   ],
   "source": [
    "~np.isnan(m[:,k])"
   ]
  },
  {
   "cell_type": "code",
   "execution_count": 7,
   "metadata": {},
   "outputs": [
    {
     "data": {
      "text/plain": [
       "Text(0.5, 1.0, 'Fator de Chance - 6º investimento')"
      ]
     },
     "execution_count": 7,
     "metadata": {},
     "output_type": "execute_result"
    },
    {
     "data": {
      "image/png": "[encoded data removed]",
      "text/plain": [
       "<Figure size 720x432 with 1 Axes>"
      ]
     },
     "metadata": {
      "needs_background": "light"
     },
     "output_type": "display_data"
    }
   ],
   "source": [
    "fig, ax= plt.subplots(1,1, figsize=(10,6))\n",
    "sns.despine(left=True)\n",
    "\n",
    "ax.bar(m[:,5]*100,prob[:,5]*100, width=2)\n",
    "ax.legend(('FC', 'Fator'), loc='upper right', shadow=True)\n",
    "ax.set_xlabel('Fator de Chance -% ')\n",
    "ax.set_ylabel('Probabilidada -%')\n",
    "ax.set_title('Fator de Chance - 6º investimento')\n"
   ]
  },
  {
   "cell_type": "code",
   "execution_count": 191,
   "metadata": {},
   "outputs": [
    {
     "data": {
      "text/plain": [
       "Text(0.5, 1.0, 'Probabilidade do FC - 4º investimento')"
      ]
     },
     "execution_count": 191,
     "metadata": {},
     "output_type": "execute_result"
    },
    {
     "data": {
      "image/png": "[encoded data removed]",
      "text/plain": [
       "<Figure size 1080x360 with 2 Axes>"
      ]
     },
     "metadata": {
      "needs_background": "light"
     },
     "output_type": "display_data"
    }
   ],
   "source": [
    "fig, (ax1,ax2)= plt.subplots(1,2, figsize=(15,5))\n",
    "sns.despine(left=True)\n",
    "n=19\n",
    "#b=max(m[:,n]) - \n",
    "ax1.hist(m[:,n]*prob[:,n], bins=100)\n",
    "ax1.legend(('FC', 'Fator'), loc='upper right', shadow=True)\n",
    "ax1.set_xlabel('Fator de Chance ')\n",
    "ax1.set_ylabel('Frequencia')\n",
    "ax1.set_title('Fator de Chance - 4º investimento')\n",
    "\n",
    "ax2.hist(prob[:,n], bins=12,color='green')\n",
    "ax2.legend(('P(FC)', 'Fator'), loc='upper right', shadow=True)\n",
    "ax2.set_xlabel('Probabilidade')\n",
    "ax2.set_ylabel('Frequencia')\n",
    "#ax1.set_xticklabels([0,1000,2000,5000,10000,50000,100000])\n",
    "ax2.set_title('Probabilidade do FC - 4º investimento')"
   ]
  },
  {
   "cell_type": "code",
   "execution_count": 161,
   "metadata": {},
   "outputs": [],
   "source": [
    "from matplotlib.ticker import PercentFormatter"
   ]
  },
  {
   "cell_type": "code",
   "execution_count": 193,
   "metadata": {},
   "outputs": [
    {
     "data": {
      "text/plain": [
       "<matplotlib.axes._subplots.AxesSubplot at 0x1ddedb71b08>"
      ]
     },
     "execution_count": 193,
     "metadata": {},
     "output_type": "execute_result"
    },
    {
     "data": {
      "image/png": "[encoded data removed]",
      "text/plain": [
       "<Figure size 432x288 with 1 Axes>"
      ]
     },
     "metadata": {
      "needs_background": "light"
     },
     "output_type": "display_data"
    }
   ],
   "source": [
    "n=19\n",
    "serie=pd.Series(m[:,n]*prob[:,n])\n",
    "#serie.hist(bins=20, weights=np.ones(len(serie))/len(serie))\n",
    "serie.hist()"
   ]
  },
  {
   "cell_type": "code",
   "execution_count": 194,
   "metadata": {},
   "outputs": [
    {
     "data": {
      "text/plain": [
       "0         1.343237e-01\n",
       "1         1.793418e-07\n",
       "2         2.690129e-07\n",
       "3         8.967161e-08\n",
       "4         4.707735e-07\n",
       "              ...     \n",
       "524283    1.094602e-07\n",
       "524284    4.378410e-07\n",
       "524285    1.459465e-07\n",
       "524286    2.918928e-07\n",
       "524287    2.918921e-07\n",
       "Length: 524288, dtype: float64"
      ]
     },
     "execution_count": 194,
     "metadata": {},
     "output_type": "execute_result"
    }
   ],
   "source": [
    "serie.astype(float)"
   ]
  },
  {
   "cell_type": "code",
   "execution_count": 196,
   "metadata": {},
   "outputs": [
    {
     "data": {
      "text/plain": [
       "0.0"
      ]
     },
     "execution_count": 196,
     "metadata": {},
     "output_type": "execute_result"
    }
   ],
   "source": [
    "sum(serie>0.8)/len(serie)"
   ]
  },
  {
   "cell_type": "code",
   "execution_count": 198,
   "metadata": {},
   "outputs": [
    {
     "data": {
      "text/plain": [
       "5.722045898437452e-07"
      ]
     },
     "execution_count": 198,
     "metadata": {},
     "output_type": "execute_result"
    }
   ],
   "source": [
    "serie.mean()"
   ]
  },
  {
   "cell_type": "code",
   "execution_count": 218,
   "metadata": {},
   "outputs": [
    {
     "data": {
      "text/plain": [
       "array([0.77854329, 0.33913269, 0.45205587, 0.13864527, 0.54074109,\n",
       "       0.18953049, 0.27599367, 0.05078307, 0.60754386, 0.22987326,\n",
       "       0.32427444, 0.07260384, 0.39999427, 0.11052367, 0.17846485,\n",
       "       0.01499425, 0.65662012, 0.26042752, 0.3603853 , 0.0901927 ,\n",
       "       0.43999475, 0.13200215, 0.20549993, 0.02350733, 0.50044447,\n",
       "       0.16599187, 0.24742765, 0.03897505, 0.3140717 , 0.0678191 ,\n",
       "       0.12279488, 0.00254228])"
      ]
     },
     "execution_count": 218,
     "metadata": {},
     "output_type": "execute_result"
    }
   ],
   "source": [
    "m[~np.isnan(m[:,k]),k]*m[~np.isnan(m[:,k]),k]"
   ]
  },
  {
   "cell_type": "code",
   "execution_count": 21,
   "metadata": {},
   "outputs": [],
   "source": [
    "\\"
   ]
  },
  {
   "cell_type": "code",
   "execution_count": null,
   "metadata": {},
   "outputs": [],
   "source": []
  }
 ],
 "metadata": {
  "kernelspec": {
   "display_name": "Python 3",
   "language": "python",
   "name": "python3"
  },
  "language_info": {
   "codemirror_mode": {
    "name": "ipython",
    "version": 3
   },
   "file_extension": ".py",
   "mimetype": "text/x-python",
   "name": "python",
   "nbconvert_exporter": "python",
   "pygments_lexer": "ipython3",
   "version": "3.7.4"
  }
 },
 "nbformat": 4,
 "nbformat_minor": 2
}
