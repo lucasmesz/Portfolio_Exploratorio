{
 "cells": [
  {
   "cell_type": "markdown",
   "metadata": {},
   "source": [
    "### Portfolio of Oil Exploration Assets: Learning Options, Sequential Drilling Options and Defer Options \n",
    "####  Marco Antonio Guimarães Dias, \n",
    "#### Luigi de Magalhães Detomi Calvette\n",
    "##### RO Congress - Boston 2017\n"
   ]
  },
  {
   "cell_type": "markdown",
   "metadata": {},
   "source": [
    "[Paper](http://www.realoptions.org/openconf2017/data/papers/57.pdf)"
   ]
  },
  {
   "cell_type": "code",
   "execution_count": 13,
   "metadata": {},
   "outputs": [],
   "source": [
    "import numpy as np\n",
    "import pandas as pd\n",
    "import matplotlib.pyplot as plt\n",
    "%matplotlib inline\n",
    "import seaborn as sns\n",
    "import itertools\n",
    "import time\n",
    "import winsound"
   ]
  },
  {
   "cell_type": "code",
   "execution_count": 26,
   "metadata": {},
   "outputs": [],
   "source": [
    "\n",
    "duration = 1000  # milliseconds\n",
    "freq = 440  # Hz"
   ]
  },
  {
   "cell_type": "code",
   "execution_count": 27,
   "metadata": {},
   "outputs": [],
   "source": [
    "###Dados de Entrada###\n",
    "r=0.03\n",
    "delta=0.038\n",
    "sigma=0.3\n",
    "tau=3\n",
    "Po=50\n",
    "rho=0.5\n",
    "\n",
    "\n",
    "\n"
   ]
  },
  {
   "cell_type": "code",
   "execution_count": 28,
   "metadata": {},
   "outputs": [
    {
     "data": {
      "text/html": [
       "<div>\n",
       "<style scoped>\n",
       "    .dataframe tbody tr th:only-of-type {\n",
       "        vertical-align: middle;\n",
       "    }\n",
       "\n",
       "    .dataframe tbody tr th {\n",
       "        vertical-align: top;\n",
       "    }\n",
       "\n",
       "    .dataframe thead th {\n",
       "        text-align: right;\n",
       "    }\n",
       "</style>\n",
       "<table border=\"1\" class=\"dataframe\">\n",
       "  <thead>\n",
       "    <tr style=\"text-align: right;\">\n",
       "      <th>Type</th>\n",
       "      <th>DogFish</th>\n",
       "      <th>Feather</th>\n",
       "      <th>Head</th>\n",
       "    </tr>\n",
       "  </thead>\n",
       "  <tbody>\n",
       "    <tr>\n",
       "      <td>CF</td>\n",
       "      <td>0.3</td>\n",
       "      <td>0.25</td>\n",
       "      <td>0.20</td>\n",
       "    </tr>\n",
       "    <tr>\n",
       "      <td>I_w</td>\n",
       "      <td>80.0</td>\n",
       "      <td>60.00</td>\n",
       "      <td>80.00</td>\n",
       "    </tr>\n",
       "    <tr>\n",
       "      <td>q</td>\n",
       "      <td>0.2</td>\n",
       "      <td>0.14</td>\n",
       "      <td>0.18</td>\n",
       "    </tr>\n",
       "    <tr>\n",
       "      <td>B</td>\n",
       "      <td>620.0</td>\n",
       "      <td>400.00</td>\n",
       "      <td>950.00</td>\n",
       "    </tr>\n",
       "    <tr>\n",
       "      <td>Owner</td>\n",
       "      <td>0.0</td>\n",
       "      <td>0.00</td>\n",
       "      <td>1.00</td>\n",
       "    </tr>\n",
       "  </tbody>\n",
       "</table>\n",
       "</div>"
      ],
      "text/plain": [
       "Type   DogFish  Feather    Head\n",
       "CF         0.3     0.25    0.20\n",
       "I_w       80.0    60.00   80.00\n",
       "q          0.2     0.14    0.18\n",
       "B        620.0   400.00  950.00\n",
       "Owner      0.0     0.00    1.00"
      ]
     },
     "execution_count": 28,
     "metadata": {},
     "output_type": "execute_result"
    }
   ],
   "source": [
    "#Importar Case 2 ou ABC ou ABCD como case \n",
    "case=pd.read_csv(\"Case_Guy.csv\", sep=';')\n",
    "case.set_index('Type', inplace=True)\n",
    "case=case.astype(float).T\n",
    "case"
   ]
  },
  {
   "cell_type": "code",
   "execution_count": 29,
   "metadata": {},
   "outputs": [
    {
     "data": {
      "text/html": [
       "<div>\n",
       "<style scoped>\n",
       "    .dataframe tbody tr th:only-of-type {\n",
       "        vertical-align: middle;\n",
       "    }\n",
       "\n",
       "    .dataframe tbody tr th {\n",
       "        vertical-align: top;\n",
       "    }\n",
       "\n",
       "    .dataframe thead th {\n",
       "        text-align: right;\n",
       "    }\n",
       "</style>\n",
       "<table border=\"1\" class=\"dataframe\">\n",
       "  <thead>\n",
       "    <tr style=\"text-align: right;\">\n",
       "      <th></th>\n",
       "      <th>DogFish</th>\n",
       "      <th>Feather</th>\n",
       "      <th>Head</th>\n",
       "    </tr>\n",
       "    <tr>\n",
       "      <th>Type</th>\n",
       "      <th></th>\n",
       "      <th></th>\n",
       "      <th></th>\n",
       "    </tr>\n",
       "  </thead>\n",
       "  <tbody>\n",
       "    <tr>\n",
       "      <td>DogFish</td>\n",
       "      <td>1.0</td>\n",
       "      <td>0.6</td>\n",
       "      <td>0.5</td>\n",
       "    </tr>\n",
       "    <tr>\n",
       "      <td>Feather</td>\n",
       "      <td>0.6</td>\n",
       "      <td>1.0</td>\n",
       "      <td>0.6</td>\n",
       "    </tr>\n",
       "    <tr>\n",
       "      <td>Head</td>\n",
       "      <td>0.5</td>\n",
       "      <td>0.6</td>\n",
       "      <td>1.0</td>\n",
       "    </tr>\n",
       "  </tbody>\n",
       "</table>\n",
       "</div>"
      ],
      "text/plain": [
       "         DogFish  Feather  Head\n",
       "Type                           \n",
       "DogFish      1.0      0.6   0.5\n",
       "Feather      0.6      1.0   0.6\n",
       "Head         0.5      0.6   1.0"
      ]
     },
     "execution_count": 29,
     "metadata": {},
     "output_type": "execute_result"
    }
   ],
   "source": [
    "#Importar correlacao Case 2 ou ABC ou ABCD como case\n",
    "case_corr=pd.read_csv(\"Case_Guy_corr.csv\", sep=';')\n",
    "case_corr.set_index('Type', inplace=True)\n",
    "case_corr\n"
   ]
  },
  {
   "cell_type": "code",
   "execution_count": null,
   "metadata": {},
   "outputs": [],
   "source": []
  },
  {
   "cell_type": "code",
   "execution_count": 30,
   "metadata": {},
   "outputs": [],
   "source": [
    "###############Bloco com DogFish e  Head ####################3\n",
    "#Será chamado de b1, mas é um bloco fictício\n",
    "\n"
   ]
  },
  {
   "cell_type": "code",
   "execution_count": 70,
   "metadata": {},
   "outputs": [
    {
     "data": {
      "text/html": [
       "<div>\n",
       "<style scoped>\n",
       "    .dataframe tbody tr th:only-of-type {\n",
       "        vertical-align: middle;\n",
       "    }\n",
       "\n",
       "    .dataframe tbody tr th {\n",
       "        vertical-align: top;\n",
       "    }\n",
       "\n",
       "    .dataframe thead th {\n",
       "        text-align: right;\n",
       "    }\n",
       "</style>\n",
       "<table border=\"1\" class=\"dataframe\">\n",
       "  <thead>\n",
       "    <tr style=\"text-align: right;\">\n",
       "      <th>Type</th>\n",
       "      <th>DogFish</th>\n",
       "      <th>Head</th>\n",
       "    </tr>\n",
       "  </thead>\n",
       "  <tbody>\n",
       "    <tr>\n",
       "      <td>CF</td>\n",
       "      <td>0.3</td>\n",
       "      <td>0.20</td>\n",
       "    </tr>\n",
       "    <tr>\n",
       "      <td>I_w</td>\n",
       "      <td>80.0</td>\n",
       "      <td>80.00</td>\n",
       "    </tr>\n",
       "    <tr>\n",
       "      <td>q</td>\n",
       "      <td>0.2</td>\n",
       "      <td>0.18</td>\n",
       "    </tr>\n",
       "    <tr>\n",
       "      <td>B</td>\n",
       "      <td>620.0</td>\n",
       "      <td>1310.00</td>\n",
       "    </tr>\n",
       "    <tr>\n",
       "      <td>Owner</td>\n",
       "      <td>1.0</td>\n",
       "      <td>1.00</td>\n",
       "    </tr>\n",
       "  </tbody>\n",
       "</table>\n",
       "</div>"
      ],
      "text/plain": [
       "Type   DogFish     Head\n",
       "CF         0.3     0.20\n",
       "I_w       80.0    80.00\n",
       "q          0.2     0.18\n",
       "B        620.0  1310.00\n",
       "Owner      1.0     1.00"
      ]
     },
     "execution_count": 70,
     "metadata": {},
     "output_type": "execute_result"
    }
   ],
   "source": [
    "case_b1=pd.read_csv(\"Case_Guy_b_Fantasia_Expandido.csv\", sep=';')\n",
    "case_b1.set_index('Type', inplace=True)\n",
    "case_b1=case_b1.astype(float).T\n",
    "case_b1"
   ]
  },
  {
   "cell_type": "code",
   "execution_count": 71,
   "metadata": {},
   "outputs": [
    {
     "data": {
      "text/html": [
       "<div>\n",
       "<style scoped>\n",
       "    .dataframe tbody tr th:only-of-type {\n",
       "        vertical-align: middle;\n",
       "    }\n",
       "\n",
       "    .dataframe tbody tr th {\n",
       "        vertical-align: top;\n",
       "    }\n",
       "\n",
       "    .dataframe thead th {\n",
       "        text-align: right;\n",
       "    }\n",
       "</style>\n",
       "<table border=\"1\" class=\"dataframe\">\n",
       "  <thead>\n",
       "    <tr style=\"text-align: right;\">\n",
       "      <th></th>\n",
       "      <th>DogFish</th>\n",
       "      <th>Head</th>\n",
       "    </tr>\n",
       "    <tr>\n",
       "      <th>Type</th>\n",
       "      <th></th>\n",
       "      <th></th>\n",
       "    </tr>\n",
       "  </thead>\n",
       "  <tbody>\n",
       "    <tr>\n",
       "      <td>DogFish</td>\n",
       "      <td>1.0</td>\n",
       "      <td>0.5</td>\n",
       "    </tr>\n",
       "    <tr>\n",
       "      <td>Head</td>\n",
       "      <td>0.5</td>\n",
       "      <td>1.0</td>\n",
       "    </tr>\n",
       "  </tbody>\n",
       "</table>\n",
       "</div>"
      ],
      "text/plain": [
       "         DogFish  Head\n",
       "Type                  \n",
       "DogFish      1.0   0.5\n",
       "Head         0.5   1.0"
      ]
     },
     "execution_count": 71,
     "metadata": {},
     "output_type": "execute_result"
    }
   ],
   "source": [
    "case_corr_b1=pd.read_csv(\"Case_Guy_corr_b_Fantasia.csv\", sep=';')\n",
    "case_corr_b1.set_index('Type', inplace=True)\n",
    "case_corr_b1\n"
   ]
  },
  {
   "cell_type": "code",
   "execution_count": 72,
   "metadata": {},
   "outputs": [],
   "source": [
    "###############Bloco 2##########################\n"
   ]
  },
  {
   "cell_type": "code",
   "execution_count": null,
   "metadata": {},
   "outputs": [],
   "source": []
  },
  {
   "cell_type": "code",
   "execution_count": 73,
   "metadata": {},
   "outputs": [],
   "source": [
    "def V(P,case,w):\n",
    "    valor=P*case.iloc[2,k[w]]*case.iloc[3,k[w]]\n",
    "    return valor\n",
    "\n",
    "    \n",
    "    "
   ]
  },
  {
   "cell_type": "code",
   "execution_count": 74,
   "metadata": {},
   "outputs": [],
   "source": [
    "def I(case,w):\n",
    "    invest=case.iloc[3,k[w]]*5.35 + 650\n",
    "    return invest"
   ]
  },
  {
   "cell_type": "code",
   "execution_count": 75,
   "metadata": {},
   "outputs": [],
   "source": [
    "def VME(P,case,i):\n",
    "    VPL=P*case.iloc[2,i]*case.iloc[3,i] - (case.iloc[3,i]*5.35 + 650)\n",
    "    vme=case.iloc[0,i]*VPL - case.iloc[1,i]\n",
    "    return vme"
   ]
  },
  {
   "cell_type": "code",
   "execution_count": 76,
   "metadata": {},
   "outputs": [
    {
     "name": "stdout",
     "output_type": "stream",
     "text": [
      "589.9\n",
      "-57.499999999999886\n",
      "483.5\n"
     ]
    }
   ],
   "source": [
    "print(VME(50,case,0))\n",
    "print(VME(50,case,1))\n",
    "print(VME(50,case,2))\n"
   ]
  },
  {
   "cell_type": "code",
   "execution_count": 77,
   "metadata": {},
   "outputs": [
    {
     "data": {
      "text/plain": [
       "1015.9000000000001"
      ]
     },
     "execution_count": 77,
     "metadata": {},
     "output_type": "execute_result"
    }
   ],
   "source": [
    "VME(50,case,0)+VME(50,case,1) + VME(50,case,2)"
   ]
  },
  {
   "cell_type": "code",
   "execution_count": 78,
   "metadata": {},
   "outputs": [
    {
     "data": {
      "text/plain": [
       "532.4000000000001"
      ]
     },
     "execution_count": 78,
     "metadata": {},
     "output_type": "execute_result"
    }
   ],
   "source": [
    "VME(50,case,0)+VME(50,case,1)"
   ]
  },
  {
   "cell_type": "code",
   "execution_count": 159,
   "metadata": {},
   "outputs": [
    {
     "name": "stdout",
     "output_type": "stream",
     "text": [
      "[True, True, True, True]\n",
      "[True, True, True, True]\n",
      "[[30.         64.68626967 72.71514427]\n",
      " [        nan  7.99159871  9.95020999]\n",
      " [        nan         nan 58.53064256]\n",
      " [        nan         nan  2.42303146]]\n",
      "[True, True, True, True]\n",
      "[True, True, True, True]\n",
      "[[30.         50.55050463 93.04895105]\n",
      " [        nan  6.90692659 35.69208386]\n",
      " [        nan         nan 67.72236566]\n",
      " [        nan         nan  3.5599476 ]]\n",
      "[True, True, True, True]\n",
      "[True, True, True, True]\n",
      "[[25.         77.6235236  74.62763853]\n",
      " [        nan 14.12549213 16.26983941]\n",
      " [        nan         nan 35.74712621]\n",
      " [        nan         nan  1.2741104 ]]\n",
      "[True, True, True, True]\n",
      "[True, True, True, True]\n",
      "[[25.         61.56921938 94.08695317]\n",
      " [        nan  6.14359354 51.24777763]\n",
      " [        nan         nan 82.19061805]\n",
      " [        nan         nan  9.67012799]]\n",
      "[True, True, True, True]\n",
      "[True, True, True, True]\n",
      "[[20.         75.82575695 91.22689345]\n",
      " [        nan 18.54356076 32.21627957]\n",
      " [        nan         nan 52.8885573 ]\n",
      " [        nan         nan  2.70352744]]\n",
      "[True, True, True, True]\n",
      "[True, True, True, True]\n",
      "[[20.         76.96152423 89.88060358]\n",
      " [        nan 12.00961894 28.87462918]\n",
      " [        nan         nan 81.6630553 ]\n",
      " [        nan         nan  9.92851593]]\n",
      "melhor: (0, 2, 1) $melhor: 1073.4 segundo: (2, 0, 1) $Segundo: 1073.4 diff: 0.0 [1023.4555109957471, 1073.4, 1044.3042425489691, 1015.9000000000001, 1073.4, 1015.9000000000001]\n",
      "1\n"
     ]
    }
   ],
   "source": [
    "#################Formalizacao caso - correto\n",
    "fold=[]\n",
    "seq=[]\n",
    "P=50\n",
    "n=case.shape[1]\n",
    "perm=itertools.permutations(range(n))\n",
    "for k in list(perm):\n",
    "    seq.append(k)\n",
    "    #print(k)\n",
    "    m=np.zeros((2**(n-1),n))\n",
    "    p=np.zeros((2**(n-1),n))\n",
    "    pi=np.zeros((2**(n-1),n))\n",
    "    m[m==0]=np.nan\n",
    "    p[m==0]=np.nan\n",
    "    pi[pi==0]=np.nan\n",
    "    \n",
    "    \n",
    "    m[0,0]=case.iloc[0,k[0]] ### Capta da permutacao, o fc da Primeira na ordem de perfuracao\n",
    "    pi[0,0]=m[0,0]*(V(P,case,0) - I(case,0)) -case.iloc[1,k[0]]\n",
    "    \n",
    "    #Vetores Auxiliares\n",
    "    Ax_m=[]\n",
    "    Ax1_m=[]\n",
    "    Ax_pi=[]\n",
    "    Ax_lim=[]\n",
    "    ##Loop para criacao da matriz de FC e VME\n",
    "    for y in range(1,n,1):\n",
    "        Ax_m.append(case.iloc[0,k[y]])\n",
    "    \n",
    "    \n",
    "    for j in range(n-1):\n",
    "        p=0\n",
    "        for q in range(1+j,n,1):\n",
    "            for i in range(2**(j)):\n",
    "                p=p+1\n",
    "                #print(p-1,j,q,i,j)\n",
    "                CF_s=Ax_m[p-1] +case_corr.iloc[k[j],k[q]]*np.sqrt((m[i,j]-m[i,j]**2)*(Ax_m[p-1]-Ax_m[p-1]**2))/m[i,j]\n",
    "                Ax1_m.append(CF_s)\n",
    "                CF_ins=Ax_m[p-1] -case_corr.iloc[k[j],k[q]]*np.sqrt((m[i,j]-m[i,j]**2)*(Ax_m[p-1]-Ax_m[p-1]**2))/(1-m[i,j])\n",
    "                Ax1_m.append(CF_ins)\n",
    "                \n",
    "                Ax_pi.append(CF_s*(V(P,case,j+1) - I(case,j+1)) -case.iloc[1,k[j+1]])\n",
    "                Ax_pi.append(CF_ins*(V(P,case,j+1) - I(case,j+1)) -case.iloc[1,k[j+1]])\n",
    "                \n",
    "                a=np.minimum(Ax_m[p-1],m[i,j])*(1-np.maximum(Ax_m[p-1],m[i,j]))\n",
    "                b=np.maximum(Ax_m[p-1],m[i,j])*(1-np.minimum(Ax_m[p-1],m[i,j]))\n",
    "                Ax_lim.append(np.sqrt(a/b)>case_corr.iloc[k[j],k[q]])\n",
    "                \n",
    "                a=-np.sqrt(Ax_m[p-1]*m[i,j]/(1-Ax_m[p-1])*(1-m[i,j]))\n",
    "                b=-np.sqrt((1-Ax_m[p-1])*(1-m[i,j])/Ax_m[p-1]*m[i,j])\n",
    "                Ax_lim.append(np.maximum(a,b)<case_corr.iloc[k[j],k[q]])\n",
    "                \n",
    "\n",
    "        m[0:2*(i+1),j+1]=Ax1_m[0:2*(i+1)]\n",
    "        pi[0:2*(i+1),j+1]=Ax_pi[0:2*(i+1)]\n",
    "        \n",
    "        del Ax1_m[0:2*(i+1)]\n",
    "        \n",
    "        print(Ax_lim)\n",
    "        Ax_m=Ax1_m\n",
    "        Ax1_m=[]\n",
    "        Ax_pi=[]\n",
    "        Ax_lim=[]\n",
    "    \n",
    "    print(100*m)\n",
    "    #print(pi)\n",
    "    \n",
    "    for l in np.arange(n-2,-1,-1):\n",
    "        #print(l)\n",
    "        for g in range(2**(l)):\n",
    "            #print(pi[g,l],m[g,l], pi[2*g,l+1],(1-m[g,l]), pi[2*g+1,l+1]   )\n",
    "            #pi[g,l]= np.maximum(0,pi[g,l] + m[g,l]*np.maximum(0,pi[2*g,l+1]) + (1-m[g,l])*np.maximum(0,pi[2*g+1,l+1]))\n",
    "            pi[g,l]= pi[g,l] + m[g,l]*np.maximum(0,pi[2*g,l+1]) + (1-m[g,l])*np.maximum(0,pi[2*g+1,l+1])\n",
    "    #print(pi)\n",
    "    fold.append(pi[0,0])\n",
    "    \n",
    "\n",
    "\n",
    "###Fornece o melhor portfolio seq_winner e o valor do porfolio winner\n",
    "\n",
    "winner=np.amax(fold)\n",
    "Seq_winner=seq[np.argmax(fold)]\n",
    "#winner=np.maximum(0,winner)\n",
    "if winner==0:\n",
    "    Seq_winner='W'\n",
    "\n",
    "seq_sec=list(seq)\n",
    "num=np.argmax(fold)\n",
    "fold_sec=list(fold)\n",
    "fold_sec.remove(np.amax(fold))\n",
    "del seq_sec[num]\n",
    "    \n",
    "second=np.amax(fold_sec)\n",
    "Seq_sec=seq_sec[np.argmax(fold_sec)]\n",
    "second=np.maximum(0,second)\n",
    "if second==0:\n",
    "    Seq_sec='W'\n",
    "\n",
    "diff=winner-second\n",
    "\n",
    "    \n",
    "    \n",
    "            \n",
    "\n",
    "    #print(fold)\n",
    "    #print(m)\n",
    "print('melhor:',Seq_winner, '$melhor:', winner,'segundo:',Seq_sec,'$Segundo:',second,'diff:',diff, fold)\n",
    "#print(fold)\n",
    "    \n",
    "    \n",
    "    \n",
    "print(np.argmax(fold))    \n",
    "    \n",
    "    "
   ]
  },
  {
   "cell_type": "code",
   "execution_count": 131,
   "metadata": {},
   "outputs": [
    {
     "data": {
      "text/plain": [
       "([(0, 1, 2), (0, 2, 1), (1, 0, 2), (1, 2, 0), (2, 0, 1), (2, 1, 0)],\n",
       " [(0, 1, 2), (1, 0, 2), (1, 2, 0), (2, 0, 1), (2, 1, 0)])"
      ]
     },
     "execution_count": 131,
     "metadata": {},
     "output_type": "execute_result"
    }
   ],
   "source": [
    "seq,seq_sec"
   ]
  },
  {
   "cell_type": "code",
   "execution_count": 132,
   "metadata": {},
   "outputs": [
    {
     "data": {
      "text/plain": [
       "([1023.4555109957471,\n",
       "  1073.4,\n",
       "  1044.3042425489691,\n",
       "  1015.9000000000001,\n",
       "  1073.4,\n",
       "  1015.9000000000001],\n",
       " [1023.4555109957471,\n",
       "  1044.3042425489691,\n",
       "  1015.9000000000001,\n",
       "  1073.4,\n",
       "  1015.9000000000001])"
      ]
     },
     "execution_count": 132,
     "metadata": {},
     "output_type": "execute_result"
    }
   ],
   "source": [
    "fold,fold_sec\n"
   ]
  },
  {
   "cell_type": "code",
   "execution_count": 133,
   "metadata": {},
   "outputs": [
    {
     "data": {
      "text/plain": [
       "1"
      ]
     },
     "execution_count": 133,
     "metadata": {},
     "output_type": "execute_result"
    }
   ],
   "source": [
    "num"
   ]
  },
  {
   "cell_type": "code",
   "execution_count": 134,
   "metadata": {},
   "outputs": [
    {
     "data": {
      "text/plain": [
       "1"
      ]
     },
     "execution_count": 134,
     "metadata": {},
     "output_type": "execute_result"
    }
   ],
   "source": [
    "np.argmax(fold)"
   ]
  },
  {
   "cell_type": "code",
   "execution_count": 135,
   "metadata": {},
   "outputs": [
    {
     "data": {
      "text/plain": [
       "[1023.4555109957471,\n",
       " 1073.4,\n",
       " 1044.3042425489691,\n",
       " 1015.9000000000001,\n",
       " 1073.4,\n",
       " 1015.9000000000001]"
      ]
     },
     "execution_count": 135,
     "metadata": {},
     "output_type": "execute_result"
    }
   ],
   "source": [
    "fold"
   ]
  },
  {
   "cell_type": "code",
   "execution_count": 184,
   "metadata": {},
   "outputs": [],
   "source": [
    "def carteira(case,case_corr,P):\n",
    "    #################Formalizacao caso 4 - correto\n",
    "    fold=[]\n",
    "    seq=[]\n",
    "    #P=50\n",
    "    n=case.shape[1]\n",
    "    perm=itertools.permutations(range(n))\n",
    "    for k in list(perm):\n",
    "        seq.append(k)\n",
    "        #print(k)\n",
    "        m=np.zeros((2**(n-1),n))\n",
    "        p=np.zeros((2**(n-1),n))\n",
    "        pi=np.zeros((2**(n-1),n))\n",
    "        m[m==0]=np.nan\n",
    "        p[m==0]=np.nan\n",
    "        pi[pi==0]=np.nan\n",
    "\n",
    "\n",
    "        m[0,0]=case.iloc[0,k[0]] ### Capta da permutacao, o fc da Primeira na ordem de perfuracao\n",
    "        pi[0,0]=m[0,0]*(P*case.iloc[2,k[0]]*case.iloc[3,k[0]] - (5.35*case.iloc[3,k[0]]+650)) -case.iloc[1,k[0]]\n",
    "\n",
    "        #Vetores Auxiliares\n",
    "        Ax_m=[]\n",
    "        Ax1_m=[]\n",
    "        Ax_pi=[]\n",
    "        ##Loop para criacao da matriz de FC e VME\n",
    "        for y in range(1,n,1):\n",
    "            Ax_m.append(case.iloc[0,k[y]])\n",
    "\n",
    "\n",
    "        for j in range(n-1):\n",
    "            p=0\n",
    "            for q in range(1+j,n,1):\n",
    "                for i in range(2**(j)):\n",
    "                    p=p+1\n",
    "                    #print(p-1,j,q,i,j)\n",
    "                    CF_s=Ax_m[p-1] +case_corr.iloc[k[j],k[q]]*np.sqrt((m[i,j]-m[i,j]**2)*(Ax_m[p-1]-Ax_m[p-1]**2))/m[i,j]\n",
    "                    Ax1_m.append(CF_s)\n",
    "                    CF_ins=Ax_m[p-1] -case_corr.iloc[k[j],k[q]]*np.sqrt((m[i,j]-m[i,j]**2)*(Ax_m[p-1]-Ax_m[p-1]**2))/(1-m[i,j])\n",
    "                    Ax1_m.append(CF_ins)\n",
    "\n",
    "                    Ax_pi.append(CF_s*(P*case.iloc[2,k[j+1]]*case.iloc[3,k[j+1]] - (5.35*case.iloc[3,k[j+1]]+650)) -case.iloc[1,k[j+1]])\n",
    "                    Ax_pi.append(CF_ins*(P*case.iloc[2,k[j+1]]*case.iloc[3,k[j+1]] - (5.35*case.iloc[3,k[j+1]]+650)) -case.iloc[1,k[j+1]])\n",
    "\n",
    "\n",
    "            m[0:2*(i+1),j+1]=Ax1_m[0:2*(i+1)]\n",
    "            pi[0:2*(i+1),j+1]=Ax_pi[0:2*(i+1)]\n",
    "\n",
    "            del Ax1_m[0:2*(i+1)]\n",
    "\n",
    "            Ax_m=Ax1_m\n",
    "            Ax1_m=[]\n",
    "            Ax_pi=[]\n",
    "\n",
    "        #print(100*m)\n",
    "        #print(pi)\n",
    "\n",
    "        for l in np.arange(n-2,-1,-1):\n",
    "            #print(l)\n",
    "            for g in range(2**(l)):\n",
    "                #print(pi[g,l],m[g,l], pi[2*g,l+1],(1-m[g,l]), pi[2*g+1,l+1]   )\n",
    "                #pi[g,l]= np.maximum(0,pi[g,l] + m[g,l]*np.maximum(0,pi[2*g,l+1]) + (1-m[g,l])*np.maximum(0,pi[2*g+1,l+1]))\n",
    "                pi[g,l]= np.maximum(pi[g,l],-80) + m[g,l]*np.maximum(0,pi[2*g,l+1]) + (1-m[g,l])*np.maximum(0,pi[2*g+1,l+1])\n",
    "        #print(pi)\n",
    "        fold.append(pi[0,0])\n",
    "\n",
    "\n",
    "    ###Fornece o melhor portfolio seq_winner e o valor do porfolio winner\n",
    "    winner=np.amax(fold)\n",
    "    Seq_winner=seq[np.argmax(fold)]\n",
    "    #winner=np.maximum(0,winner)\n",
    "    if winner<0:\n",
    "        Seq_winner='W'\n",
    "    \n",
    "    \n",
    "    seq_sec=list(seq)\n",
    "    num=np.argmax(fold)\n",
    "    fold_sec=list(fold)\n",
    "    fold_sec.remove(np.amax(fold))\n",
    "    del seq_sec[num]\n",
    "    \n",
    "    second=np.amax(fold_sec)\n",
    "    Seq_sec=seq_sec[np.argmax(fold_sec)]\n",
    "    second=np.maximum(0,second)\n",
    "    if second==0:\n",
    "        Seq_sec='W'\n",
    "    diff=winner-second\n",
    "\n",
    "\n",
    "\n",
    "        #print(fold)\n",
    "        #print(m)\n",
    "    #print('melhor portfolio é:',Seq_winner, 'e o valor é:', winner, fold)\n",
    "    #print(fold)\n",
    "    return[Seq_winner,winner,Seq_sec, second, diff,fold]\n",
    "\n",
    "\n",
    "\n",
    "\n",
    "\n"
   ]
  },
  {
   "cell_type": "code",
   "execution_count": 137,
   "metadata": {},
   "outputs": [],
   "source": [
    "cart=carteira(case,case_corr,50)\n",
    "#print(cart)"
   ]
  },
  {
   "cell_type": "code",
   "execution_count": 162,
   "metadata": {},
   "outputs": [
    {
     "name": "stdout",
     "output_type": "stream",
     "text": [
      "[(0, 1), 1336.2000000000003, (1, 0), 1336.2000000000003, 0.0, [1336.2000000000003, 1336.2000000000003]]\n"
     ]
    }
   ],
   "source": [
    "cart=carteira(case_b1,case_corr_b1,50)\n",
    "print(cart)"
   ]
  },
  {
   "cell_type": "code",
   "execution_count": 49,
   "metadata": {},
   "outputs": [
    {
     "name": "stdout",
     "output_type": "stream",
     "text": [
      "0 W 0.0 0.0 W 0.0\n",
      "1 W 0.0 0.0 W 0.0\n",
      "2 W 0.0 0.0 W 0.0\n",
      "3 W 0.0 0.0 W 0.0\n",
      "4 W 0.0 0.0 W 0.0\n",
      "5 W 0.0 0.0 W 0.0\n",
      "6 W 0.0 0.0 W 0.0\n",
      "7 W 0.0 0.0 W 0.0\n",
      "8 W 0.0 0.0 W 0.0\n",
      "9 W 0.0 0.0 W 0.0\n",
      "10 W 0.0 0.0 W 0.0\n",
      "11 W 0.0 0.0 W 0.0\n",
      "12 W 0.0 0.0 W 0.0\n",
      "13 W 0.0 0.0 W 0.0\n",
      "14 W 0.0 0.0 W 0.0\n",
      "15 W 0.0 0.0 W 0.0\n",
      "16 W 0.0 0.0 W 0.0\n",
      "17 W 0.0 0.0 W 0.0\n",
      "18 W 0.0 0.0 W 0.0\n",
      "19 W 0.0 0.0 W 0.0\n",
      "20 W 0.0 0.0 W 0.0\n",
      "21 W 0.0 0.0 W 0.0\n",
      "22 W 0.0 0.0 W 0.0\n",
      "23 W 0.0 0.0 W 0.0\n",
      "24 W 0.0 0.0 W 0.0\n",
      "25 W 0.0 0.0 W 0.0\n",
      "26 W 0.0 0.0 W 0.0\n",
      "27 W 0.0 0.0 W 0.0\n",
      "28 W 0.0 0.0 W 0.0\n",
      "29 W 0.0 0.0 W 0.0\n",
      "30 W 0.0 0.0 W 0.0\n",
      "31 W 0.0 0.0 W 0.0\n",
      "32 W 0.0 0.0 W 0.0\n",
      "33 W 0.0 0.0 W 0.0\n",
      "34 W 0.0 0.0 W 0.0\n",
      "35 (0, 2, 1) 46.19200725952699 31.89999999999999 (0, 1, 2) 14.292007259526997\n",
      "36 (0, 2, 1) 109.32441613627597 73.80000000000001 (2, 0, 1) 35.52441613627596\n",
      "37 (0, 2, 1) 172.45682501302494 145.20000000000002 (2, 0, 1) 27.256825013024923\n",
      "38 (0, 2, 1) 235.58923388977394 216.6 (2, 0, 1) 18.989233889773942\n",
      "39 (0, 2, 1) 298.7216427665229 288.0 (2, 0, 1) 10.721642766522905\n",
      "40 (0, 2, 1) 361.8540516432717 359.3999999999998 (2, 0, 1) 2.454051643271896\n",
      "41 (2, 0, 1) 430.8000000000003 430.80000000000024 (0, 2, 1) 5.684341886080802e-14\n",
      "42 (0, 2, 1) 502.20000000000005 502.20000000000005 (2, 0, 1) 0.0\n",
      "43 (0, 2, 1) 573.5999999999999 573.5999999999999 (2, 0, 1) 0.0\n",
      "44 (0, 2, 1) 645.0 645.0 (2, 0, 1) 0.0\n",
      "45 (0, 2, 1) 716.4 716.4 (2, 0, 1) 0.0\n",
      "46 (2, 0, 1) 787.8000000000002 787.8000000000001 (0, 2, 1) 1.1368683772161603e-13\n",
      "47 (2, 0, 1) 859.1999999999999 859.1999999999998 (0, 2, 1) 1.1368683772161603e-13\n",
      "48 (0, 2, 1) 930.6000000000004 930.6000000000003 (2, 0, 1) 1.1368683772161603e-13\n",
      "49 (0, 2, 1) 1002.0 1002.0 (2, 0, 1) 0.0\n",
      "50 (0, 2, 1) 1073.4 1073.4 (2, 0, 1) 0.0\n",
      "51 (0, 2, 1) 1145.0141785996789 1144.8318088562812 (2, 0, 1) 0.18236974339765766\n",
      "52 (0, 2, 1) 1225.4100515410369 1224.6503733670559 (2, 0, 1) 0.7596781739810012\n",
      "53 (2, 0, 1) 1308.1915283552125 1307.069766297508 (0, 2, 1) 1.1217620577044727\n",
      "54 (2, 0, 1) 1392.476577704775 1391.1706529602006 (0, 2, 1) 1.3059247445744404\n",
      "55 (2, 0, 1) 1476.88999336617 1475.2715396228944 (0, 2, 1) 1.6184537432757224\n",
      "56 (2, 0, 1) 1561.3034090275653 1559.372426285588 (0, 2, 1) 1.9309827419772319\n",
      "57 (2, 0, 1) 1645.7168246889596 1643.4733129482806 (0, 2, 1) 2.2435117406789686\n",
      "58 (2, 0, 1) 1730.1302403503546 1727.5741996109743 (0, 2, 1) 2.5560407393802507\n",
      "59 (2, 0, 1) 1814.5436560117494 1811.6750862736676 (0, 2, 1) 2.86856973808176\n",
      "60 (2, 0, 1) 1898.9570716731432 1895.7759729363602 (0, 2, 1) 3.181098736783042\n",
      "61 (2, 0, 1) 1983.3704873345391 1979.8768595990543 (0, 2, 1) 3.493627735484779\n",
      "62 (2, 0, 1) 2067.7839029959337 2063.977746261747 (0, 2, 1) 3.8061567341865157\n",
      "63 (2, 0, 1) 2152.1973186573287 2148.0786329244406 (0, 2, 1) 4.118685732888025\n",
      "64 (2, 0, 1) 2236.610734318723 2232.179519587134 (0, 2, 1) 4.43121473158908\n",
      "65 (2, 0, 1) 2321.0241499801177 2316.2804062498267 (0, 2, 1) 4.743743730291044\n",
      "66 (2, 0, 1) 2405.4375656415123 2400.38129291252 (0, 2, 1) 5.056272728992099\n",
      "67 (2, 0, 1) 2489.8509813029073 2484.482179575213 (0, 2, 1) 5.368801727694063\n",
      "68 (2, 0, 1) 2574.2643969643023 2568.5830662379067 (0, 2, 1) 5.681330726395572\n",
      "69 (2, 0, 1) 2658.677812625697 2652.6839529006 (0, 2, 1) 5.993859725096627\n",
      "70 (2, 0, 1) 2743.091228287092 2736.784839563293 (0, 2, 1) 6.306388723798591\n",
      "71 (2, 0, 1) 2827.504643948487 2820.8857262259867 (0, 2, 1) 6.6189177225001\n",
      "72 (2, 0, 1) 2911.9180596098813 2904.9866128886797 (0, 2, 1) 6.93144672120161\n",
      "73 (2, 0, 1) 2996.331475271276 2989.0874995513727 (0, 2, 1) 7.243975719903119\n",
      "74 (2, 0, 1) 3080.744890932671 3073.1883862140667 (0, 2, 1) 7.556504718604174\n",
      "75 (2, 0, 1) 3165.158306594066 3157.2892728767597 (0, 2, 1) 7.869033717306138\n",
      "76 (2, 0, 1) 3249.5717222554604 3241.3901595394527 (0, 2, 1) 8.181562716007647\n",
      "77 (2, 0, 1) 3333.985137916855 3325.491046202146 (0, 2, 1) 8.494091714708702\n",
      "78 (2, 0, 1) 3418.3985535782504 3409.5919328648397 (0, 2, 1) 8.806620713410666\n",
      "79 (2, 0, 1) 3502.8119692396444 3493.6928195275323 (0, 2, 1) 9.119149712112176\n",
      "80 (2, 0, 1) 3587.225384901039 3577.8999999999996 (0, 1, 2) 9.325384901039342\n",
      "81 (2, 0, 1) 3671.638800562434 3663.3 (0, 1, 2) 8.33880056243379\n",
      "82 (2, 0, 1) 3756.0522162238294 3748.7000000000007 (0, 1, 2) 7.352216223828691\n",
      "83 (2, 0, 1) 3840.465631885224 3834.100000000001 (0, 1, 2) 6.365631885223138\n",
      "84 (2, 0, 1) 3924.8790475466185 3919.5 (0, 1, 2) 5.379047546618494\n",
      "85 (2, 0, 1) 4009.292463208013 4004.9 (0, 1, 2) 4.392463208012941\n",
      "86 (2, 0, 1) 4093.705878869408 4090.3 (2, 1, 0) 3.405878869407843\n",
      "87 (2, 0, 1) 4178.119294530804 4175.700000000001 (0, 1, 2) 2.4192945308031995\n",
      "88 (2, 0, 1) 4262.532710192198 4261.1 (0, 1, 2) 1.4327101921971916\n",
      "89 (2, 0, 1) 4346.946125853592 4346.5 (0, 1, 2) 0.44612585359209334\n",
      "90 (0, 1, 2) 4431.900000000001 4431.900000000001 (0, 2, 1) 0.0\n",
      "91 (0, 1, 2) 4517.3 4517.3 (0, 2, 1) 0.0\n",
      "92 (0, 1, 2) 4602.700000000001 4602.700000000001 (0, 2, 1) 0.0\n",
      "93 (0, 1, 2) 4688.1 4688.1 (2, 0, 1) 0.0\n",
      "94 (0, 1, 2) 4773.5 4773.5 (0, 2, 1) 0.0\n",
      "95 (0, 1, 2) 4858.900000000001 4858.900000000001 (0, 2, 1) 0.0\n",
      "96 (0, 1, 2) 4944.300000000001 4944.300000000001 (0, 2, 1) 0.0\n",
      "97 (1, 0, 2) 5029.700000000002 5029.700000000001 (0, 1, 2) 9.094947017729282e-13\n",
      "98 (0, 1, 2) 5115.1 5115.1 (2, 0, 1) 0.0\n",
      "99 (2, 0, 1) 5200.500000000001 5200.5 (0, 1, 2) 9.094947017729282e-13\n",
      "100 (0, 1, 2) 5285.900000000001 5285.900000000001 (0, 2, 1) 0.0\n",
      "101 (0, 2, 1) 5371.300000000001 5371.300000000001 (2, 0, 1) 0.0\n",
      "102 (0, 1, 2) 5456.700000000001 5456.700000000001 (0, 2, 1) 0.0\n",
      "103 (0, 2, 1) 5542.100000000001 5542.1 (0, 1, 2) 9.094947017729282e-13\n",
      "104 (0, 1, 2) 5627.500000000001 5627.500000000001 (2, 0, 1) 0.0\n",
      "105 (0, 1, 2) 5712.900000000001 5712.900000000001 (0, 2, 1) 0.0\n",
      "106 (1, 2, 0) 5798.300000000001 5798.300000000001 (2, 0, 1) 0.0\n",
      "107 (0, 1, 2) 5883.700000000001 5883.700000000001 (0, 2, 1) 0.0\n",
      "108 (0, 1, 2) 5969.1 5969.099999999999 (0, 2, 1) 9.094947017729282e-13\n",
      "109 (0, 1, 2) 6054.500000000001 6054.500000000001 (2, 0, 1) 0.0\n",
      "110 (1, 0, 2) 6139.900000000001 6139.900000000001 (2, 0, 1) 0.0\n",
      "111 (2, 0, 1) 6225.300000000001 6225.3 (0, 1, 2) 9.094947017729282e-13\n",
      "112 (2, 0, 1) 6310.700000000002 6310.700000000002 (2, 1, 0) 0.0\n",
      "113 (0, 1, 2) 6396.100000000001 6396.100000000001 (0, 2, 1) 0.0\n",
      "114 (0, 1, 2) 6481.5 6481.5 (0, 2, 1) 0.0\n",
      "115 (0, 1, 2) 6566.900000000001 6566.900000000001 (0, 2, 1) 0.0\n",
      "116 (0, 1, 2) 6652.300000000001 6652.300000000001 (2, 0, 1) 0.0\n",
      "117 (0, 1, 2) 6737.700000000002 6737.700000000001 (0, 2, 1) 9.094947017729282e-13\n",
      "118 (0, 1, 2) 6823.100000000001 6823.100000000001 (0, 2, 1) 0.0\n",
      "119 (0, 2, 1) 6908.5 6908.5 (1, 0, 2) 0.0\n",
      "120 (0, 1, 2) 6993.9 6993.9 (0, 2, 1) 0.0\n",
      "121 (2, 0, 1) 7079.300000000001 7079.3 (0, 1, 2) 9.094947017729282e-13\n",
      "122 (0, 1, 2) 7164.700000000002 7164.700000000002 (0, 2, 1) 0.0\n",
      "123 (0, 1, 2) 7250.100000000001 7250.100000000001 (0, 2, 1) 0.0\n",
      "124 (0, 2, 1) 7335.500000000001 7335.500000000001 (2, 1, 0) 0.0\n",
      "125 (0, 1, 2) 7420.9 7420.9 (0, 2, 1) 0.0\n",
      "126 (0, 1, 2) 7506.300000000002 7506.300000000001 (0, 2, 1) 9.094947017729282e-13\n",
      "127 (0, 1, 2) 7591.700000000001 7591.700000000001 (0, 2, 1) 0.0\n",
      "128 (0, 1, 2) 7677.1 7677.1 (0, 2, 1) 0.0\n",
      "129 (0, 1, 2) 7762.500000000001 7762.500000000001 (2, 0, 1) 0.0\n",
      "130 (0, 1, 2) 7847.9000000000015 7847.9000000000015 (0, 2, 1) 0.0\n",
      "131 (0, 2, 1) 7933.300000000002 7933.300000000001 (0, 1, 2) 9.094947017729282e-13\n",
      "132 (2, 0, 1) 8018.700000000001 8018.700000000001 (2, 1, 0) 0.0\n",
      "133 (0, 1, 2) 8104.1 8104.1 (0, 2, 1) 0.0\n",
      "134 (0, 1, 2) 8189.500000000001 8189.5 (2, 1, 0) 9.094947017729282e-13\n",
      "135 (2, 1, 0) 8274.900000000001 8274.9 (0, 1, 2) 1.8189894035458565e-12\n",
      "136 (0, 1, 2) 8360.300000000001 8360.300000000001 (2, 0, 1) 0.0\n",
      "137 (0, 1, 2) 8445.7 8445.7 (0, 2, 1) 0.0\n",
      "138 (0, 1, 2) 8531.1 8531.1 (0, 2, 1) 0.0\n",
      "139 (0, 1, 2) 8616.5 8616.5 (0, 2, 1) 0.0\n",
      "140 (0, 1, 2) 8701.900000000001 8701.900000000001 (1, 0, 2) 0.0\n",
      "141 (0, 1, 2) 8787.300000000001 8787.300000000001 (0, 2, 1) 0.0\n",
      "142 (0, 1, 2) 8872.7 8872.7 (0, 2, 1) 0.0\n",
      "143 (2, 1, 0) 8958.100000000002 8958.1 (0, 1, 2) 1.8189894035458565e-12\n",
      "144 (0, 1, 2) 9043.5 9043.5 (0, 2, 1) 0.0\n",
      "145 (0, 1, 2) 9128.9 9128.9 (0, 2, 1) 0.0\n",
      "146 (0, 1, 2) 9214.3 9214.3 (0, 2, 1) 0.0\n",
      "147 (0, 1, 2) 9299.7 9299.7 (0, 2, 1) 0.0\n",
      "148 (0, 1, 2) 9385.1 9385.1 (0, 2, 1) 0.0\n",
      "149 (0, 1, 2) 9470.5 9470.5 (0, 2, 1) 0.0\n",
      "150 (0, 1, 2) 9555.900000000001 9555.900000000001 (0, 2, 1) 0.0\n",
      "151 (0, 1, 2) 9641.3 9641.3 (0, 2, 1) 0.0\n",
      "152 (0, 1, 2) 9726.700000000003 9726.7 (0, 2, 1) 1.8189894035458565e-12\n",
      "153 (2, 1, 0) 9812.100000000002 9812.1 (0, 1, 2) 1.8189894035458565e-12\n",
      "154 (0, 2, 1) 9897.5 9897.5 (1, 0, 2) 0.0\n",
      "155 (0, 1, 2) 9982.900000000001 9982.900000000001 (0, 2, 1) 0.0\n",
      "156 (1, 0, 2) 10068.300000000001 10068.300000000001 (2, 0, 1) 0.0\n",
      "157 (0, 1, 2) 10153.7 10153.699999999999 (0, 2, 1) 1.8189894035458565e-12\n",
      "158 (0, 1, 2) 10239.1 10239.1 (0, 2, 1) 0.0\n"
     ]
    },
    {
     "name": "stdout",
     "output_type": "stream",
     "text": [
      "159 (0, 1, 2) 10324.5 10324.5 (1, 0, 2) 0.0\n",
      "160 (1, 0, 2) 10409.9 10409.9 (1, 2, 0) 0.0\n",
      "161 (0, 1, 2) 10495.3 10495.3 (0, 2, 1) 0.0\n",
      "162 (0, 2, 1) 10580.700000000003 10580.7 (0, 1, 2) 1.8189894035458565e-12\n",
      "163 (2, 0, 1) 10666.100000000002 10666.100000000002 (2, 1, 0) 0.0\n",
      "164 (0, 1, 2) 10751.500000000002 10751.500000000002 (0, 2, 1) 0.0\n",
      "165 (0, 1, 2) 10836.900000000001 10836.900000000001 (0, 2, 1) 0.0\n",
      "166 (2, 0, 1) 10922.300000000001 10922.3 (0, 1, 2) 1.8189894035458565e-12\n",
      "167 (0, 1, 2) 11007.7 11007.7 (0, 2, 1) 0.0\n",
      "168 (1, 0, 2) 11093.100000000002 11093.100000000002 (1, 2, 0) 0.0\n",
      "169 (0, 1, 2) 11178.500000000002 11178.500000000002 (0, 2, 1) 0.0\n",
      "170 (0, 2, 1) 11263.900000000001 11263.9 (0, 1, 2) 1.8189894035458565e-12\n",
      "171 (0, 1, 2) 11349.3 11349.3 (0, 2, 1) 0.0\n",
      "172 (0, 1, 2) 11434.7 11434.7 (0, 2, 1) 0.0\n",
      "173 (1, 2, 0) 11520.100000000002 11520.100000000002 (2, 0, 1) 0.0\n",
      "174 (2, 0, 1) 11605.500000000004 11605.500000000002 (0, 1, 2) 1.8189894035458565e-12\n",
      "175 (0, 1, 2) 11690.900000000001 11690.900000000001 (0, 2, 1) 0.0\n",
      "176 (0, 1, 2) 11776.3 11776.3 (0, 2, 1) 0.0\n",
      "177 (0, 1, 2) 11861.7 11861.7 (0, 2, 1) 0.0\n",
      "178 (0, 1, 2) 11947.100000000002 11947.100000000002 (2, 0, 1) 0.0\n",
      "179 (2, 1, 0) 12032.500000000004 12032.500000000002 (0, 1, 2) 1.8189894035458565e-12\n",
      "180 (0, 1, 2) 12117.900000000001 12117.900000000001 (0, 2, 1) 0.0\n",
      "181 (0, 1, 2) 12203.300000000001 12203.300000000001 (1, 0, 2) 0.0\n",
      "182 (0, 1, 2) 12288.7 12288.7 (0, 2, 1) 0.0\n",
      "183 (0, 1, 2) 12374.1 12374.1 (0, 2, 1) 0.0\n",
      "184 (0, 1, 2) 12459.500000000002 12459.500000000002 (0, 2, 1) 0.0\n",
      "185 (2, 0, 1) 12544.900000000001 12544.900000000001 (2, 1, 0) 0.0\n",
      "186 (0, 1, 2) 12630.300000000001 12630.300000000001 (0, 2, 1) 0.0\n",
      "187 (0, 1, 2) 12715.7 12715.7 (0, 2, 1) 0.0\n",
      "188 (2, 0, 1) 12801.1 12801.1 (2, 1, 0) 0.0\n",
      "189 (0, 1, 2) 12886.500000000002 12886.500000000002 (0, 2, 1) 0.0\n",
      "190 (2, 0, 1) 12971.900000000001 12971.900000000001 (2, 1, 0) 0.0\n",
      "191 (2, 0, 1) 13057.300000000001 13057.3 (0, 1, 2) 1.8189894035458565e-12\n",
      "192 (0, 1, 2) 13142.700000000003 13142.700000000003 (0, 2, 1) 0.0\n",
      "193 (0, 1, 2) 13228.100000000002 13228.100000000002 (0, 2, 1) 0.0\n",
      "194 (1, 0, 2) 13313.500000000004 13313.500000000002 (0, 1, 2) 1.8189894035458565e-12\n",
      "195 (1, 0, 2) 13398.900000000001 13398.900000000001 (2, 0, 1) 0.0\n",
      "196 (0, 2, 1) 13484.300000000001 13484.300000000001 (2, 1, 0) 0.0\n",
      "197 (2, 0, 1) 13569.700000000004 13569.7 (0, 1, 2) 3.637978807091713e-12\n",
      "198 (2, 0, 1) 13655.100000000002 13655.100000000002 (2, 1, 0) 0.0\n",
      "199 (2, 1, 0) 13740.500000000004 13740.500000000002 (0, 1, 2) 1.8189894035458565e-12\n"
     ]
    }
   ],
   "source": [
    "for i in range(200):\n",
    "    print(i, carteira(case,case_corr,i)[0],carteira(case,case_corr,i)[1],carteira(case,case_corr,i)[3],carteira(case,case_corr,i)[2], carteira(case,case_corr,i)[4] )"
   ]
  },
  {
   "cell_type": "code",
   "execution_count": 174,
   "metadata": {},
   "outputs": [],
   "source": [
    "def diffinexpcart(case,case_corr,P,r,div,sigma,tau,accur):\n",
    "    #############################################################\n",
    "    #######Método por diferenças finitas explícitas##############\n",
    "    #accur=0.05  #Porcentagem de acurácia\n",
    "    \n",
    "    #####Solução por diferenças finita explícitas###\n",
    "    #Precisão em e intervalo da célula em V\n",
    "    deltaP=P*accur\n",
    "    \n",
    "    # M são as divisões do grid em V\n",
    "    #Perpetuidade vcritico não esta na programacao\n",
    "    #M= int(1.1*vcritico(I,r,div,sigma,tau)[2]/deltaV) # Max é 10% acima do gatilho em perpetuidade. Vcrit- com gati precisa de tau\n",
    "    Pmax=2*P\n",
    "    M=int(Pmax/deltaP)\n",
    "    PGrid=int(P/deltaP) #Ponto do grid onde esta P_0. \n",
    "    \n",
    "    #deltat= (deltaP**2)/((sigma**2)*((3*I)**2)) #Convergência: Critério do peso central >=0. Pmax=3I ><1.1Gatilho_perp\n",
    "    deltat= (deltaP**2)/((sigma**2)*(Pmax**2))\n",
    "    N= int(tau/deltat) +1\n",
    "    \n",
    "    df=1/(1+(r*deltat)) # fator de desconto\n",
    "    \n",
    "    \n",
    "    #Vetor Pt\n",
    "    Pt=np.zeros(M+1)\n",
    "    Gatilho=np.zeros((N+1,M+1), dtype=object)\n",
    "    F=np.zeros((N+1,M+1))\n",
    "    deltat=tau/N\n",
    "    for i in range(M+1):\n",
    "        Pt[i]= i*deltaP\n",
    "        solution=carteira(case,case_corr,Pt[i])\n",
    "        F[N,i]=solution[1]\n",
    "        #print(solution[0])\n",
    "        Gatilho[N,i]=solution[0]\n",
    "        #F[N,i]=np.maximum(0,Pt[i]-I)\n",
    "    #Gatilho[N]=I\n",
    "    \n",
    "    ##############Loop################\n",
    "    for j in range(N-1,-1,-1): #de N-1 até zero(-1) pulando em -1\n",
    "        for i in range(1,M,1): # de 1 até M-1 pulando em 1\n",
    "            pu= 0.5*((sigma**2)*(i**2) + ((r - div)*i))*deltat\n",
    "            pm = 1 - (sigma**2)*(i**2)*deltat\n",
    "            pdown = 0.5*((sigma**2)*(i**2) - ((r - div)*i))*deltat\n",
    "            F[j,i]= df*(pu*F[j+1,i+1] + pm*F[j+1,i] + pdown*F[j+1,i - 1])\n",
    "            \n",
    "            ###Vetor Gatilho####\n",
    "            #if F[j,i]< Vt[i]-I and F[j,i-1]>Pt[i-1]-I:\n",
    "            #    Gatilho[j]=(Pt[i]+Vt[i-1])/2\n",
    "            \n",
    "            solution=carteira(case,case_corr,Pt[i])\n",
    "            if F[j,i]>=solution[1]: #opcao americana e gatilho\n",
    "                Gatilho[j,i]='W'\n",
    "            else:\n",
    "                Gatilho[j,i]=solution[0]\n",
    "                F[j,i]=solution[1]\n",
    "        \n",
    "        \n",
    "        #F[j,0]=0\n",
    "        F[j,0]=-80\n",
    "        Gatilho[j,0]='W'\n",
    "        solution=carteira(case,case_corr,Pt[i])\n",
    "        F[j,M]=solution[1]\n",
    "        Gatilho[j,M]=solution[0]\n",
    "        \n",
    "    T=np.linspace(0,tau,num=N+1)\n",
    "    \n",
    "    ###############Dataframe do Gatilho##############\n",
    "    #print(Gatilho.shape[0])\n",
    "    dframe=pd.DataFrame(list(range(Gatilho.shape[0])))\n",
    "    dframe.columns=['Time']\n",
    "    dframe= dframe.set_index('Time')\n",
    "\n",
    "    for i in range(Gatilho.shape[0]):\n",
    "        check=Gatilho[i,0]\n",
    "        for j in range(Gatilho.shape[1]):\n",
    "            if check == Gatilho[i,j]:\n",
    "                check=check\n",
    "            else:\n",
    "                #print(i,j,'{}'.format(check),Gatilho[i,j],j)\n",
    "                dframe.loc[i,'{}'.format(Gatilho[i,j-1])]=Pt[j]\n",
    "                check=Gatilho[i,j]\n",
    "    dframe.index=T\n",
    "    \n",
    "    ###Retorna A opção hoje, Gatilho, Tempo, Vt, Matrix para Gráficos\n",
    "    return[F[0,PGrid+1],dframe,T,Pt,F,Gatilho]\n",
    "\n"
   ]
  },
  {
   "cell_type": "code",
   "execution_count": 29,
   "metadata": {},
   "outputs": [
    {
     "name": "stdout",
     "output_type": "stream",
     "text": [
      "minutos- 6.640227846304575\n"
     ]
    }
   ],
   "source": [
    "accur=0.05\n",
    "start=time.time()\n",
    "solucao=diffinexpcart(case,case_corr,50,r,delta,sigma,tau,accur)\n",
    "cpu=time.time()-start\n",
    "print('minutos-',cpu/60)\n"
   ]
  },
  {
   "cell_type": "code",
   "execution_count": 30,
   "metadata": {},
   "outputs": [
    {
     "data": {
      "text/plain": [
       "1458.005310881902"
      ]
     },
     "execution_count": 30,
     "metadata": {},
     "output_type": "execute_result"
    }
   ],
   "source": [
    "solucao[0]"
   ]
  },
  {
   "cell_type": "code",
   "execution_count": 31,
   "metadata": {},
   "outputs": [
    {
     "data": {
      "text/html": [
       "<div>\n",
       "<style scoped>\n",
       "    .dataframe tbody tr th:only-of-type {\n",
       "        vertical-align: middle;\n",
       "    }\n",
       "\n",
       "    .dataframe tbody tr th {\n",
       "        vertical-align: top;\n",
       "    }\n",
       "\n",
       "    .dataframe thead th {\n",
       "        text-align: right;\n",
       "    }\n",
       "</style>\n",
       "<table border=\"1\" class=\"dataframe\">\n",
       "  <thead>\n",
       "    <tr style=\"text-align: right;\">\n",
       "      <th></th>\n",
       "      <th>W</th>\n",
       "      <th>(2, 0, 1)</th>\n",
       "      <th>(0, 1, 2)</th>\n",
       "      <th>(1, 0, 2)</th>\n",
       "      <th>(0, 2, 1)</th>\n",
       "      <th>(2, 1, 0)</th>\n",
       "    </tr>\n",
       "  </thead>\n",
       "  <tbody>\n",
       "    <tr>\n",
       "      <td>0.000000</td>\n",
       "      <td>77.5</td>\n",
       "      <td>192.5</td>\n",
       "      <td>182.5</td>\n",
       "      <td>197.5</td>\n",
       "      <td>195.0</td>\n",
       "      <td>137.5</td>\n",
       "    </tr>\n",
       "    <tr>\n",
       "      <td>0.001735</td>\n",
       "      <td>77.5</td>\n",
       "      <td>192.5</td>\n",
       "      <td>182.5</td>\n",
       "      <td>197.5</td>\n",
       "      <td>195.0</td>\n",
       "      <td>137.5</td>\n",
       "    </tr>\n",
       "    <tr>\n",
       "      <td>0.003470</td>\n",
       "      <td>77.5</td>\n",
       "      <td>192.5</td>\n",
       "      <td>182.5</td>\n",
       "      <td>197.5</td>\n",
       "      <td>195.0</td>\n",
       "      <td>137.5</td>\n",
       "    </tr>\n",
       "    <tr>\n",
       "      <td>0.005205</td>\n",
       "      <td>77.5</td>\n",
       "      <td>192.5</td>\n",
       "      <td>182.5</td>\n",
       "      <td>197.5</td>\n",
       "      <td>195.0</td>\n",
       "      <td>137.5</td>\n",
       "    </tr>\n",
       "    <tr>\n",
       "      <td>0.006940</td>\n",
       "      <td>77.5</td>\n",
       "      <td>192.5</td>\n",
       "      <td>182.5</td>\n",
       "      <td>197.5</td>\n",
       "      <td>195.0</td>\n",
       "      <td>137.5</td>\n",
       "    </tr>\n",
       "    <tr>\n",
       "      <td>...</td>\n",
       "      <td>...</td>\n",
       "      <td>...</td>\n",
       "      <td>...</td>\n",
       "      <td>...</td>\n",
       "      <td>...</td>\n",
       "      <td>...</td>\n",
       "    </tr>\n",
       "    <tr>\n",
       "      <td>2.993060</td>\n",
       "      <td>55.0</td>\n",
       "      <td>192.5</td>\n",
       "      <td>182.5</td>\n",
       "      <td>197.5</td>\n",
       "      <td>195.0</td>\n",
       "      <td>137.5</td>\n",
       "    </tr>\n",
       "    <tr>\n",
       "      <td>2.994795</td>\n",
       "      <td>55.0</td>\n",
       "      <td>192.5</td>\n",
       "      <td>182.5</td>\n",
       "      <td>197.5</td>\n",
       "      <td>195.0</td>\n",
       "      <td>137.5</td>\n",
       "    </tr>\n",
       "    <tr>\n",
       "      <td>2.996530</td>\n",
       "      <td>55.0</td>\n",
       "      <td>192.5</td>\n",
       "      <td>182.5</td>\n",
       "      <td>197.5</td>\n",
       "      <td>195.0</td>\n",
       "      <td>137.5</td>\n",
       "    </tr>\n",
       "    <tr>\n",
       "      <td>2.998265</td>\n",
       "      <td>55.0</td>\n",
       "      <td>192.5</td>\n",
       "      <td>182.5</td>\n",
       "      <td>197.5</td>\n",
       "      <td>195.0</td>\n",
       "      <td>137.5</td>\n",
       "    </tr>\n",
       "    <tr>\n",
       "      <td>3.000000</td>\n",
       "      <td>35.0</td>\n",
       "      <td>192.5</td>\n",
       "      <td>200.0</td>\n",
       "      <td>197.5</td>\n",
       "      <td>195.0</td>\n",
       "      <td>137.5</td>\n",
       "    </tr>\n",
       "  </tbody>\n",
       "</table>\n",
       "<p>1730 rows × 6 columns</p>\n",
       "</div>"
      ],
      "text/plain": [
       "             W  (2, 0, 1)  (0, 1, 2)  (1, 0, 2)  (0, 2, 1)  (2, 1, 0)\n",
       "0.000000  77.5      192.5      182.5      197.5      195.0      137.5\n",
       "0.001735  77.5      192.5      182.5      197.5      195.0      137.5\n",
       "0.003470  77.5      192.5      182.5      197.5      195.0      137.5\n",
       "0.005205  77.5      192.5      182.5      197.5      195.0      137.5\n",
       "0.006940  77.5      192.5      182.5      197.5      195.0      137.5\n",
       "...        ...        ...        ...        ...        ...        ...\n",
       "2.993060  55.0      192.5      182.5      197.5      195.0      137.5\n",
       "2.994795  55.0      192.5      182.5      197.5      195.0      137.5\n",
       "2.996530  55.0      192.5      182.5      197.5      195.0      137.5\n",
       "2.998265  55.0      192.5      182.5      197.5      195.0      137.5\n",
       "3.000000  35.0      192.5      200.0      197.5      195.0      137.5\n",
       "\n",
       "[1730 rows x 6 columns]"
      ]
     },
     "execution_count": 31,
     "metadata": {},
     "output_type": "execute_result"
    }
   ],
   "source": [
    "solucao[1]"
   ]
  },
  {
   "cell_type": "code",
   "execution_count": 32,
   "metadata": {},
   "outputs": [
    {
     "data": {
      "text/plain": [
       "<matplotlib.axes._subplots.AxesSubplot at 0x2a801aebb88>"
      ]
     },
     "execution_count": 32,
     "metadata": {},
     "output_type": "execute_result"
    },
    {
     "data": {
      "image/png": "[encoded data removed]",
      "text/plain": [
       "<Figure size 432x288 with 1 Axes>"
      ]
     },
     "metadata": {
      "needs_background": "light"
     },
     "output_type": "display_data"
    }
   ],
   "source": [
    "solucao[1].plot()"
   ]
  },
  {
   "cell_type": "code",
   "execution_count": 33,
   "metadata": {},
   "outputs": [
    {
     "data": {
      "text/plain": [
       "(1730, 81)"
      ]
     },
     "execution_count": 33,
     "metadata": {},
     "output_type": "execute_result"
    }
   ],
   "source": [
    "solucao[5].shape"
   ]
  },
  {
   "cell_type": "code",
   "execution_count": 34,
   "metadata": {},
   "outputs": [],
   "source": [
    "ima=solucao[5]"
   ]
  },
  {
   "cell_type": "code",
   "execution_count": 35,
   "metadata": {},
   "outputs": [
    {
     "data": {
      "text/plain": [
       "array([['W', 'W', 'W', ..., (1, 0, 2), (0, 1, 2), (0, 1, 2)],\n",
       "       ['W', 'W', 'W', ..., (1, 0, 2), (0, 1, 2), (0, 1, 2)],\n",
       "       ['W', 'W', 'W', ..., (1, 0, 2), (0, 1, 2), (0, 1, 2)],\n",
       "       ...,\n",
       "       ['W', 'W', 'W', ..., (1, 0, 2), (0, 1, 2), (0, 1, 2)],\n",
       "       ['W', 'W', 'W', ..., (1, 0, 2), (0, 1, 2), (0, 1, 2)],\n",
       "       ['W', 'W', 'W', ..., (1, 0, 2), (0, 1, 2), (1, 2, 0)]],\n",
       "      dtype=object)"
      ]
     },
     "execution_count": 35,
     "metadata": {},
     "output_type": "execute_result"
    }
   ],
   "source": [
    "ima"
   ]
  },
  {
   "cell_type": "code",
   "execution_count": 36,
   "metadata": {},
   "outputs": [
    {
     "data": {
      "text/plain": [
       "True"
      ]
     },
     "execution_count": 36,
     "metadata": {},
     "output_type": "execute_result"
    }
   ],
   "source": [
    "ima[1000,80]==(0,1,2)"
   ]
  },
  {
   "cell_type": "code",
   "execution_count": 37,
   "metadata": {},
   "outputs": [
    {
     "data": {
      "text/plain": [
       "array([[0.00000000e+00, 2.92828906e-04, 1.83311311e-02, ...,\n",
       "        1.33989000e+04, 1.36124000e+04, 1.36124000e+04],\n",
       "       [0.00000000e+00, 2.91590160e-04, 1.82674028e-02, ...,\n",
       "        1.33989000e+04, 1.36124000e+04, 1.36124000e+04],\n",
       "       [0.00000000e+00, 2.90355679e-04, 1.82038426e-02, ...,\n",
       "        1.33989000e+04, 1.36124000e+04, 1.36124000e+04],\n",
       "       ...,\n",
       "       [0.00000000e+00, 0.00000000e+00, 0.00000000e+00, ...,\n",
       "        1.33989000e+04, 1.36124000e+04, 1.36124000e+04],\n",
       "       [0.00000000e+00, 0.00000000e+00, 0.00000000e+00, ...,\n",
       "        1.33989000e+04, 1.36124000e+04, 1.36124000e+04],\n",
       "       [0.00000000e+00, 0.00000000e+00, 0.00000000e+00, ...,\n",
       "        1.33989000e+04, 1.36124000e+04, 1.38259000e+04]])"
      ]
     },
     "execution_count": 37,
     "metadata": {},
     "output_type": "execute_result"
    }
   ],
   "source": [
    "solucao[4]"
   ]
  },
  {
   "cell_type": "code",
   "execution_count": 38,
   "metadata": {},
   "outputs": [
    {
     "data": {
      "text/plain": [
       "(1730, 81)"
      ]
     },
     "execution_count": 38,
     "metadata": {},
     "output_type": "execute_result"
    }
   ],
   "source": [
    "ima.shape"
   ]
  },
  {
   "cell_type": "code",
   "execution_count": null,
   "metadata": {},
   "outputs": [],
   "source": []
  },
  {
   "cell_type": "code",
   "execution_count": 39,
   "metadata": {},
   "outputs": [],
   "source": [
    "w, h = ima.shape[0], ima.shape[1]\n",
    "data = np.zeros((h,w, 3), dtype=np.uint8)\n",
    "d1=np.zeros((h,w))\n",
    "for i in range(ima.shape[0]):\n",
    "    for j in range(ima.shape[1]):\n",
    "        #print(j)\n",
    "        if ima[i,j]=='W':\n",
    "            data[ima.shape[1]-j-1,i]=[0,0,0]\n",
    "            d1[ima.shape[1]-j-1,i]=0\n",
    "        elif ima[i,j]==(0,1,2):\n",
    "            data[ima.shape[1]-j-1,i]=[255,0,0]\n",
    "            d1[ima.shape[1]-j-1,i]=1\n",
    "        elif ima[i,j]==(0,2,1):\n",
    "            data[ima.shape[1]-j-1,i]=[255,100,0]\n",
    "            d1[ima.shape[1]-j-1,i]=2\n",
    "        elif ima[i,j]==(1,0,2):\n",
    "            data[ima.shape[1]-j-1,i]=[255,0,0]\n",
    "            d1[ima.shape[1]-j-1,i]=3\n",
    "        elif ima[i,j]==(1,2,0):\n",
    "            data[ima.shape[1]-j-1,i]=[255,255,0]\n",
    "            d1[ima.shape[1]-j-1,i]=4\n",
    "        elif ima[i,j]==(2,1,0):\n",
    "            data[ima.shape[1]-j-1,i]=[0,0,255]\n",
    "            d1[ima.shape[1]-j-1,i]=5\n",
    "        elif ima[i,j]==(2,0,1):\n",
    "            data[ima.shape[1]-j-1,i]=[100,0,255]\n",
    "            d1[ima.shape[1]-j-1,i]=6\n",
    "        \n",
    "        "
   ]
  },
  {
   "cell_type": "code",
   "execution_count": 40,
   "metadata": {},
   "outputs": [],
   "source": [
    "d1frame=pd.DataFrame(d1)\n",
    "d1frame.columns=solucao[2]\n",
    "d1frame.index=solucao[3][::-1]"
   ]
  },
  {
   "cell_type": "code",
   "execution_count": 41,
   "metadata": {},
   "outputs": [
    {
     "data": {
      "text/html": [
       "<div>\n",
       "<style scoped>\n",
       "    .dataframe tbody tr th:only-of-type {\n",
       "        vertical-align: middle;\n",
       "    }\n",
       "\n",
       "    .dataframe tbody tr th {\n",
       "        vertical-align: top;\n",
       "    }\n",
       "\n",
       "    .dataframe thead th {\n",
       "        text-align: right;\n",
       "    }\n",
       "</style>\n",
       "<table border=\"1\" class=\"dataframe\">\n",
       "  <thead>\n",
       "    <tr style=\"text-align: right;\">\n",
       "      <th></th>\n",
       "      <th>0.000000</th>\n",
       "      <th>0.001735</th>\n",
       "      <th>0.003470</th>\n",
       "      <th>0.005205</th>\n",
       "      <th>0.006940</th>\n",
       "      <th>0.008676</th>\n",
       "      <th>0.010411</th>\n",
       "      <th>0.012146</th>\n",
       "      <th>0.013881</th>\n",
       "      <th>0.015616</th>\n",
       "      <th>...</th>\n",
       "      <th>2.984384</th>\n",
       "      <th>2.986119</th>\n",
       "      <th>2.987854</th>\n",
       "      <th>2.989589</th>\n",
       "      <th>2.991324</th>\n",
       "      <th>2.993060</th>\n",
       "      <th>2.994795</th>\n",
       "      <th>2.996530</th>\n",
       "      <th>2.998265</th>\n",
       "      <th>3.000000</th>\n",
       "    </tr>\n",
       "  </thead>\n",
       "  <tbody>\n",
       "    <tr>\n",
       "      <td>200.0</td>\n",
       "      <td>1.0</td>\n",
       "      <td>1.0</td>\n",
       "      <td>1.0</td>\n",
       "      <td>1.0</td>\n",
       "      <td>1.0</td>\n",
       "      <td>1.0</td>\n",
       "      <td>1.0</td>\n",
       "      <td>1.0</td>\n",
       "      <td>1.0</td>\n",
       "      <td>1.0</td>\n",
       "      <td>...</td>\n",
       "      <td>1.0</td>\n",
       "      <td>1.0</td>\n",
       "      <td>1.0</td>\n",
       "      <td>1.0</td>\n",
       "      <td>1.0</td>\n",
       "      <td>1.0</td>\n",
       "      <td>1.0</td>\n",
       "      <td>1.0</td>\n",
       "      <td>1.0</td>\n",
       "      <td>4.0</td>\n",
       "    </tr>\n",
       "    <tr>\n",
       "      <td>197.5</td>\n",
       "      <td>1.0</td>\n",
       "      <td>1.0</td>\n",
       "      <td>1.0</td>\n",
       "      <td>1.0</td>\n",
       "      <td>1.0</td>\n",
       "      <td>1.0</td>\n",
       "      <td>1.0</td>\n",
       "      <td>1.0</td>\n",
       "      <td>1.0</td>\n",
       "      <td>1.0</td>\n",
       "      <td>...</td>\n",
       "      <td>1.0</td>\n",
       "      <td>1.0</td>\n",
       "      <td>1.0</td>\n",
       "      <td>1.0</td>\n",
       "      <td>1.0</td>\n",
       "      <td>1.0</td>\n",
       "      <td>1.0</td>\n",
       "      <td>1.0</td>\n",
       "      <td>1.0</td>\n",
       "      <td>1.0</td>\n",
       "    </tr>\n",
       "    <tr>\n",
       "      <td>195.0</td>\n",
       "      <td>3.0</td>\n",
       "      <td>3.0</td>\n",
       "      <td>3.0</td>\n",
       "      <td>3.0</td>\n",
       "      <td>3.0</td>\n",
       "      <td>3.0</td>\n",
       "      <td>3.0</td>\n",
       "      <td>3.0</td>\n",
       "      <td>3.0</td>\n",
       "      <td>3.0</td>\n",
       "      <td>...</td>\n",
       "      <td>3.0</td>\n",
       "      <td>3.0</td>\n",
       "      <td>3.0</td>\n",
       "      <td>3.0</td>\n",
       "      <td>3.0</td>\n",
       "      <td>3.0</td>\n",
       "      <td>3.0</td>\n",
       "      <td>3.0</td>\n",
       "      <td>3.0</td>\n",
       "      <td>3.0</td>\n",
       "    </tr>\n",
       "    <tr>\n",
       "      <td>192.5</td>\n",
       "      <td>2.0</td>\n",
       "      <td>2.0</td>\n",
       "      <td>2.0</td>\n",
       "      <td>2.0</td>\n",
       "      <td>2.0</td>\n",
       "      <td>2.0</td>\n",
       "      <td>2.0</td>\n",
       "      <td>2.0</td>\n",
       "      <td>2.0</td>\n",
       "      <td>2.0</td>\n",
       "      <td>...</td>\n",
       "      <td>2.0</td>\n",
       "      <td>2.0</td>\n",
       "      <td>2.0</td>\n",
       "      <td>2.0</td>\n",
       "      <td>2.0</td>\n",
       "      <td>2.0</td>\n",
       "      <td>2.0</td>\n",
       "      <td>2.0</td>\n",
       "      <td>2.0</td>\n",
       "      <td>2.0</td>\n",
       "    </tr>\n",
       "    <tr>\n",
       "      <td>190.0</td>\n",
       "      <td>6.0</td>\n",
       "      <td>6.0</td>\n",
       "      <td>6.0</td>\n",
       "      <td>6.0</td>\n",
       "      <td>6.0</td>\n",
       "      <td>6.0</td>\n",
       "      <td>6.0</td>\n",
       "      <td>6.0</td>\n",
       "      <td>6.0</td>\n",
       "      <td>6.0</td>\n",
       "      <td>...</td>\n",
       "      <td>6.0</td>\n",
       "      <td>6.0</td>\n",
       "      <td>6.0</td>\n",
       "      <td>6.0</td>\n",
       "      <td>6.0</td>\n",
       "      <td>6.0</td>\n",
       "      <td>6.0</td>\n",
       "      <td>6.0</td>\n",
       "      <td>6.0</td>\n",
       "      <td>6.0</td>\n",
       "    </tr>\n",
       "  </tbody>\n",
       "</table>\n",
       "<p>5 rows × 1730 columns</p>\n",
       "</div>"
      ],
      "text/plain": [
       "       0.000000  0.001735  0.003470  0.005205  0.006940  0.008676  0.010411  \\\n",
       "200.0       1.0       1.0       1.0       1.0       1.0       1.0       1.0   \n",
       "197.5       1.0       1.0       1.0       1.0       1.0       1.0       1.0   \n",
       "195.0       3.0       3.0       3.0       3.0       3.0       3.0       3.0   \n",
       "192.5       2.0       2.0       2.0       2.0       2.0       2.0       2.0   \n",
       "190.0       6.0       6.0       6.0       6.0       6.0       6.0       6.0   \n",
       "\n",
       "       0.012146  0.013881  0.015616  ...  2.984384  2.986119  2.987854  \\\n",
       "200.0       1.0       1.0       1.0  ...       1.0       1.0       1.0   \n",
       "197.5       1.0       1.0       1.0  ...       1.0       1.0       1.0   \n",
       "195.0       3.0       3.0       3.0  ...       3.0       3.0       3.0   \n",
       "192.5       2.0       2.0       2.0  ...       2.0       2.0       2.0   \n",
       "190.0       6.0       6.0       6.0  ...       6.0       6.0       6.0   \n",
       "\n",
       "       2.989589  2.991324  2.993060  2.994795  2.996530  2.998265  3.000000  \n",
       "200.0       1.0       1.0       1.0       1.0       1.0       1.0       4.0  \n",
       "197.5       1.0       1.0       1.0       1.0       1.0       1.0       1.0  \n",
       "195.0       3.0       3.0       3.0       3.0       3.0       3.0       3.0  \n",
       "192.5       2.0       2.0       2.0       2.0       2.0       2.0       2.0  \n",
       "190.0       6.0       6.0       6.0       6.0       6.0       6.0       6.0  \n",
       "\n",
       "[5 rows x 1730 columns]"
      ]
     },
     "execution_count": 41,
     "metadata": {},
     "output_type": "execute_result"
    }
   ],
   "source": [
    "d1frame.head()"
   ]
  },
  {
   "cell_type": "code",
   "execution_count": null,
   "metadata": {},
   "outputs": [],
   "source": []
  },
  {
   "cell_type": "code",
   "execution_count": 56,
   "metadata": {},
   "outputs": [
    {
     "data": {
      "image/png": "[encoded data removed]",
      "text/plain": [
       "<Figure size 1080x720 with 2 Axes>"
      ]
     },
     "metadata": {
      "needs_background": "light"
     },
     "output_type": "display_data"
    }
   ],
   "source": [
    "\n",
    "fig, ax=plt.subplots(figsize=(15,10))\n",
    "#cbar_ax=fig.add_axes([0,1,2,3,4,5,6])\n",
    "ax=sns.heatmap(d1frame, cmap=\"Accent\")\n",
    "#ax.locator_params(axis='x', nbins=4)\n",
    "#ax.locator_params(axis='y',nbins=4)\n",
    "\n",
    "\n",
    "#colorbar = ax.collections[0].colorbar\n",
    "#colorbar.set_ticks([3/8,1,2,4*3/4 +3/8,5*3/4 +3/8,6*3/4 +3/8,6 - 3/8])\n",
    "#colorbar.set_ticklabels(['W', '0-1-2', '0-2-1','1-0-2','1-2-0','2-1-0','2-0-1'])\n",
    "\n",
    "# X - Y axis labels\n",
    "ax.set_ylabel('Preço');\n",
    "ax.set_xlabel('Tempo');\n",
    "\n",
    "# Only y-axis labels need their rotation set, x-axis labels already have a rotation of 0\n",
    "_, labels = plt.yticks();\n",
    "plt.setp(labels, rotation=0);\n",
    "\n",
    "#ax.set(xticklabels=solucao[2]);\n",
    "\n"
   ]
  },
  {
   "cell_type": "code",
   "execution_count": 86,
   "metadata": {},
   "outputs": [],
   "source": [
    "######################################\n",
    "###########Bloco b1#####################"
   ]
  },
  {
   "cell_type": "code",
   "execution_count": 80,
   "metadata": {},
   "outputs": [
    {
     "data": {
      "text/html": [
       "<div>\n",
       "<style scoped>\n",
       "    .dataframe tbody tr th:only-of-type {\n",
       "        vertical-align: middle;\n",
       "    }\n",
       "\n",
       "    .dataframe tbody tr th {\n",
       "        vertical-align: top;\n",
       "    }\n",
       "\n",
       "    .dataframe thead th {\n",
       "        text-align: right;\n",
       "    }\n",
       "</style>\n",
       "<table border=\"1\" class=\"dataframe\">\n",
       "  <thead>\n",
       "    <tr style=\"text-align: right;\">\n",
       "      <th></th>\n",
       "      <th>DogFish</th>\n",
       "      <th>Head</th>\n",
       "    </tr>\n",
       "    <tr>\n",
       "      <th>Type</th>\n",
       "      <th></th>\n",
       "      <th></th>\n",
       "    </tr>\n",
       "  </thead>\n",
       "  <tbody>\n",
       "    <tr>\n",
       "      <td>DogFish</td>\n",
       "      <td>1.0</td>\n",
       "      <td>0.5</td>\n",
       "    </tr>\n",
       "    <tr>\n",
       "      <td>Head</td>\n",
       "      <td>0.5</td>\n",
       "      <td>1.0</td>\n",
       "    </tr>\n",
       "  </tbody>\n",
       "</table>\n",
       "</div>"
      ],
      "text/plain": [
       "         DogFish  Head\n",
       "Type                  \n",
       "DogFish      1.0   0.5\n",
       "Head         0.5   1.0"
      ]
     },
     "execution_count": 80,
     "metadata": {},
     "output_type": "execute_result"
    }
   ],
   "source": [
    "case_corr_b1"
   ]
  },
  {
   "cell_type": "code",
   "execution_count": 81,
   "metadata": {},
   "outputs": [
    {
     "data": {
      "text/html": [
       "<div>\n",
       "<style scoped>\n",
       "    .dataframe tbody tr th:only-of-type {\n",
       "        vertical-align: middle;\n",
       "    }\n",
       "\n",
       "    .dataframe tbody tr th {\n",
       "        vertical-align: top;\n",
       "    }\n",
       "\n",
       "    .dataframe thead th {\n",
       "        text-align: right;\n",
       "    }\n",
       "</style>\n",
       "<table border=\"1\" class=\"dataframe\">\n",
       "  <thead>\n",
       "    <tr style=\"text-align: right;\">\n",
       "      <th>Type</th>\n",
       "      <th>DogFish</th>\n",
       "      <th>Head</th>\n",
       "    </tr>\n",
       "  </thead>\n",
       "  <tbody>\n",
       "    <tr>\n",
       "      <td>CF</td>\n",
       "      <td>0.3</td>\n",
       "      <td>0.20</td>\n",
       "    </tr>\n",
       "    <tr>\n",
       "      <td>I_w</td>\n",
       "      <td>80.0</td>\n",
       "      <td>80.00</td>\n",
       "    </tr>\n",
       "    <tr>\n",
       "      <td>q</td>\n",
       "      <td>0.2</td>\n",
       "      <td>0.18</td>\n",
       "    </tr>\n",
       "    <tr>\n",
       "      <td>B</td>\n",
       "      <td>620.0</td>\n",
       "      <td>1310.00</td>\n",
       "    </tr>\n",
       "    <tr>\n",
       "      <td>Owner</td>\n",
       "      <td>1.0</td>\n",
       "      <td>1.00</td>\n",
       "    </tr>\n",
       "  </tbody>\n",
       "</table>\n",
       "</div>"
      ],
      "text/plain": [
       "Type   DogFish     Head\n",
       "CF         0.3     0.20\n",
       "I_w       80.0    80.00\n",
       "q          0.2     0.18\n",
       "B        620.0  1310.00\n",
       "Owner      1.0     1.00"
      ]
     },
     "execution_count": 81,
     "metadata": {},
     "output_type": "execute_result"
    }
   ],
   "source": [
    "case_b1"
   ]
  },
  {
   "cell_type": "code",
   "execution_count": null,
   "metadata": {},
   "outputs": [],
   "source": []
  },
  {
   "cell_type": "code",
   "execution_count": 198,
   "metadata": {},
   "outputs": [
    {
     "name": "stdout",
     "output_type": "stream",
     "text": [
      "minutos- 126.74251330693563\n"
     ]
    }
   ],
   "source": [
    "start=time.time()\n",
    "accur=0.005\n",
    "solucao_b1=diffinexpcart(case_b1,case_corr_b1,50,r,delta,sigma,tau,accur)\n",
    "cpu=time.time()-start\n",
    "print('minutos-',cpu/60)\n"
   ]
  },
  {
   "cell_type": "code",
   "execution_count": 199,
   "metadata": {},
   "outputs": [
    {
     "data": {
      "text/plain": [
       "1461.0523755498377"
      ]
     },
     "execution_count": 199,
     "metadata": {},
     "output_type": "execute_result"
    }
   ],
   "source": [
    "solucao_b1[0]"
   ]
  },
  {
   "cell_type": "code",
   "execution_count": 200,
   "metadata": {},
   "outputs": [
    {
     "data": {
      "text/html": [
       "<div>\n",
       "<style scoped>\n",
       "    .dataframe tbody tr th:only-of-type {\n",
       "        vertical-align: middle;\n",
       "    }\n",
       "\n",
       "    .dataframe tbody tr th {\n",
       "        vertical-align: top;\n",
       "    }\n",
       "\n",
       "    .dataframe thead th {\n",
       "        text-align: right;\n",
       "    }\n",
       "</style>\n",
       "<table border=\"1\" class=\"dataframe\">\n",
       "  <thead>\n",
       "    <tr style=\"text-align: right;\">\n",
       "      <th></th>\n",
       "      <th>W</th>\n",
       "      <th>(0, 1)</th>\n",
       "      <th>(1, 0)</th>\n",
       "    </tr>\n",
       "  </thead>\n",
       "  <tbody>\n",
       "    <tr>\n",
       "      <td>0.000000</td>\n",
       "      <td>67.00</td>\n",
       "      <td>98.0</td>\n",
       "      <td>98.5</td>\n",
       "    </tr>\n",
       "    <tr>\n",
       "      <td>0.000069</td>\n",
       "      <td>67.00</td>\n",
       "      <td>98.0</td>\n",
       "      <td>98.5</td>\n",
       "    </tr>\n",
       "    <tr>\n",
       "      <td>0.000139</td>\n",
       "      <td>67.00</td>\n",
       "      <td>98.0</td>\n",
       "      <td>98.5</td>\n",
       "    </tr>\n",
       "    <tr>\n",
       "      <td>0.000208</td>\n",
       "      <td>67.00</td>\n",
       "      <td>98.0</td>\n",
       "      <td>98.5</td>\n",
       "    </tr>\n",
       "    <tr>\n",
       "      <td>0.000278</td>\n",
       "      <td>67.00</td>\n",
       "      <td>98.0</td>\n",
       "      <td>98.5</td>\n",
       "    </tr>\n",
       "    <tr>\n",
       "      <td>...</td>\n",
       "      <td>...</td>\n",
       "      <td>...</td>\n",
       "      <td>...</td>\n",
       "    </tr>\n",
       "    <tr>\n",
       "      <td>2.999722</td>\n",
       "      <td>38.00</td>\n",
       "      <td>98.0</td>\n",
       "      <td>98.5</td>\n",
       "    </tr>\n",
       "    <tr>\n",
       "      <td>2.999792</td>\n",
       "      <td>38.00</td>\n",
       "      <td>98.0</td>\n",
       "      <td>98.5</td>\n",
       "    </tr>\n",
       "    <tr>\n",
       "      <td>2.999861</td>\n",
       "      <td>38.00</td>\n",
       "      <td>98.0</td>\n",
       "      <td>98.5</td>\n",
       "    </tr>\n",
       "    <tr>\n",
       "      <td>2.999931</td>\n",
       "      <td>37.75</td>\n",
       "      <td>98.0</td>\n",
       "      <td>98.5</td>\n",
       "    </tr>\n",
       "    <tr>\n",
       "      <td>3.000000</td>\n",
       "      <td>33.75</td>\n",
       "      <td>98.0</td>\n",
       "      <td>98.5</td>\n",
       "    </tr>\n",
       "  </tbody>\n",
       "</table>\n",
       "<p>43202 rows × 3 columns</p>\n",
       "</div>"
      ],
      "text/plain": [
       "              W  (0, 1)  (1, 0)\n",
       "0.000000  67.00    98.0    98.5\n",
       "0.000069  67.00    98.0    98.5\n",
       "0.000139  67.00    98.0    98.5\n",
       "0.000208  67.00    98.0    98.5\n",
       "0.000278  67.00    98.0    98.5\n",
       "...         ...     ...     ...\n",
       "2.999722  38.00    98.0    98.5\n",
       "2.999792  38.00    98.0    98.5\n",
       "2.999861  38.00    98.0    98.5\n",
       "2.999931  37.75    98.0    98.5\n",
       "3.000000  33.75    98.0    98.5\n",
       "\n",
       "[43202 rows x 3 columns]"
      ]
     },
     "execution_count": 200,
     "metadata": {},
     "output_type": "execute_result"
    }
   ],
   "source": [
    "solucao_b1[1]"
   ]
  },
  {
   "cell_type": "code",
   "execution_count": 201,
   "metadata": {},
   "outputs": [
    {
     "name": "stdout",
     "output_type": "stream",
     "text": [
      "o gatilho é: 67.0\n"
     ]
    }
   ],
   "source": [
    "print('o gatilho é:',solucao_b1[1].iloc[0,0])"
   ]
  },
  {
   "cell_type": "code",
   "execution_count": 202,
   "metadata": {},
   "outputs": [
    {
     "name": "stdout",
     "output_type": "stream",
     "text": [
      "o portfólio vale: 1461.0523755498377\n"
     ]
    }
   ],
   "source": [
    "print('o portfólio vale:', solucao_b1[0])"
   ]
  },
  {
   "cell_type": "code",
   "execution_count": 203,
   "metadata": {},
   "outputs": [
    {
     "data": {
      "text/plain": [
       "<matplotlib.axes._subplots.AxesSubplot at 0x17cf2142088>"
      ]
     },
     "execution_count": 203,
     "metadata": {},
     "output_type": "execute_result"
    },
    {
     "data": {
      "image/png": "[encoded data removed]",
      "text/plain": [
       "<Figure size 432x288 with 1 Axes>"
      ]
     },
     "metadata": {
      "needs_background": "light"
     },
     "output_type": "display_data"
    }
   ],
   "source": [
    "solucao_b1[1].plot()"
   ]
  },
  {
   "cell_type": "code",
   "execution_count": 204,
   "metadata": {},
   "outputs": [
    {
     "data": {
      "text/plain": [
       "[<matplotlib.lines.Line2D at 0x17b39fb9f48>]"
      ]
     },
     "execution_count": 204,
     "metadata": {},
     "output_type": "execute_result"
    },
    {
     "data": {
      "image/png": "[encoded data removed]",
      "text/plain": [
       "<Figure size 432x288 with 1 Axes>"
      ]
     },
     "metadata": {
      "needs_background": "light"
     },
     "output_type": "display_data"
    }
   ],
   "source": [
    "plt.plot(solucao_b1[4][0,:])"
   ]
  },
  {
   "cell_type": "code",
   "execution_count": 205,
   "metadata": {},
   "outputs": [],
   "source": [
    "#####################Exportar Solucao###################Tempo presente"
   ]
  },
  {
   "cell_type": "code",
   "execution_count": 206,
   "metadata": {},
   "outputs": [
    {
     "data": {
      "text/plain": [
       "-80.0"
      ]
     },
     "execution_count": 206,
     "metadata": {},
     "output_type": "execute_result"
    }
   ],
   "source": [
    "solucao_b1[4][0,0]"
   ]
  },
  {
   "cell_type": "code",
   "execution_count": 207,
   "metadata": {},
   "outputs": [
    {
     "data": {
      "text/plain": [
       "(401,)"
      ]
     },
     "execution_count": 207,
     "metadata": {},
     "output_type": "execute_result"
    }
   ],
   "source": [
    "solucao_b1[3].shape"
   ]
  },
  {
   "cell_type": "code",
   "execution_count": 208,
   "metadata": {},
   "outputs": [
    {
     "data": {
      "text/plain": [
       "(43202, 401)"
      ]
     },
     "execution_count": 208,
     "metadata": {},
     "output_type": "execute_result"
    }
   ],
   "source": [
    "solucao_b1[4].shape"
   ]
  },
  {
   "cell_type": "code",
   "execution_count": null,
   "metadata": {},
   "outputs": [],
   "source": []
  },
  {
   "cell_type": "code",
   "execution_count": 209,
   "metadata": {},
   "outputs": [],
   "source": [
    "ima=solucao_b1[5]"
   ]
  },
  {
   "cell_type": "code",
   "execution_count": 210,
   "metadata": {},
   "outputs": [],
   "source": [
    "w, h = ima.shape[0], ima.shape[1]\n",
    "#data = np.zeros((h,w, 3), dtype=np.uint8)\n",
    "d2=np.zeros((h,w))\n",
    "for i in range(ima.shape[0]):\n",
    "    for j in range(ima.shape[1]):\n",
    "        #print(j)\n",
    "        if ima[i,j]=='W':\n",
    "            #data[ima.shape[1]-j-1,i]=[0,0,0]\n",
    "            d2[ima.shape[1]-j-1,i]=0\n",
    "        elif ima[i,j]==(0,1):\n",
    "            #data[ima.shape[1]-j-1,i]=[255,0,0]\n",
    "            d2[ima.shape[1]-j-1,i]=1\n",
    "        elif ima[i,j]==(1,0):\n",
    "            #data[ima.shape[1]-j-1,i]=[255,100,0]\n",
    "            d2[ima.shape[1]-j-1,i]=2\n",
    "        "
   ]
  },
  {
   "cell_type": "code",
   "execution_count": 211,
   "metadata": {},
   "outputs": [],
   "source": [
    "d2frame=pd.DataFrame(d2)\n",
    "d2frame.columns=solucao_b1[2]\n",
    "d2frame.index=solucao_b1[3][::-1]"
   ]
  },
  {
   "cell_type": "code",
   "execution_count": null,
   "metadata": {},
   "outputs": [],
   "source": []
  },
  {
   "cell_type": "code",
   "execution_count": 212,
   "metadata": {},
   "outputs": [
    {
     "data": {
      "text/plain": [
       "(array([0], dtype=int64),)"
      ]
     },
     "execution_count": 212,
     "metadata": {},
     "output_type": "execute_result"
    }
   ],
   "source": [
    "np.where(d2frame.index==100)"
   ]
  },
  {
   "cell_type": "code",
   "execution_count": 213,
   "metadata": {},
   "outputs": [
    {
     "data": {
      "text/html": [
       "<div>\n",
       "<style scoped>\n",
       "    .dataframe tbody tr th:only-of-type {\n",
       "        vertical-align: middle;\n",
       "    }\n",
       "\n",
       "    .dataframe tbody tr th {\n",
       "        vertical-align: top;\n",
       "    }\n",
       "\n",
       "    .dataframe thead th {\n",
       "        text-align: right;\n",
       "    }\n",
       "</style>\n",
       "<table border=\"1\" class=\"dataframe\">\n",
       "  <thead>\n",
       "    <tr style=\"text-align: right;\">\n",
       "      <th></th>\n",
       "      <th>0.000000</th>\n",
       "      <th>0.000069</th>\n",
       "      <th>0.000139</th>\n",
       "      <th>0.000208</th>\n",
       "      <th>0.000278</th>\n",
       "      <th>0.000347</th>\n",
       "      <th>0.000417</th>\n",
       "      <th>0.000486</th>\n",
       "      <th>0.000556</th>\n",
       "      <th>0.000625</th>\n",
       "      <th>...</th>\n",
       "      <th>2.999375</th>\n",
       "      <th>2.999444</th>\n",
       "      <th>2.999514</th>\n",
       "      <th>2.999583</th>\n",
       "      <th>2.999653</th>\n",
       "      <th>2.999722</th>\n",
       "      <th>2.999792</th>\n",
       "      <th>2.999861</th>\n",
       "      <th>2.999931</th>\n",
       "      <th>3.000000</th>\n",
       "    </tr>\n",
       "  </thead>\n",
       "  <tbody>\n",
       "    <tr>\n",
       "      <td>100.00</td>\n",
       "      <td>1.0</td>\n",
       "      <td>1.0</td>\n",
       "      <td>1.0</td>\n",
       "      <td>1.0</td>\n",
       "      <td>1.0</td>\n",
       "      <td>1.0</td>\n",
       "      <td>1.0</td>\n",
       "      <td>1.0</td>\n",
       "      <td>1.0</td>\n",
       "      <td>1.0</td>\n",
       "      <td>...</td>\n",
       "      <td>1.0</td>\n",
       "      <td>1.0</td>\n",
       "      <td>1.0</td>\n",
       "      <td>1.0</td>\n",
       "      <td>1.0</td>\n",
       "      <td>1.0</td>\n",
       "      <td>1.0</td>\n",
       "      <td>1.0</td>\n",
       "      <td>1.0</td>\n",
       "      <td>1.0</td>\n",
       "    </tr>\n",
       "    <tr>\n",
       "      <td>99.75</td>\n",
       "      <td>1.0</td>\n",
       "      <td>1.0</td>\n",
       "      <td>1.0</td>\n",
       "      <td>1.0</td>\n",
       "      <td>1.0</td>\n",
       "      <td>1.0</td>\n",
       "      <td>1.0</td>\n",
       "      <td>1.0</td>\n",
       "      <td>1.0</td>\n",
       "      <td>1.0</td>\n",
       "      <td>...</td>\n",
       "      <td>1.0</td>\n",
       "      <td>1.0</td>\n",
       "      <td>1.0</td>\n",
       "      <td>1.0</td>\n",
       "      <td>1.0</td>\n",
       "      <td>1.0</td>\n",
       "      <td>1.0</td>\n",
       "      <td>1.0</td>\n",
       "      <td>1.0</td>\n",
       "      <td>1.0</td>\n",
       "    </tr>\n",
       "    <tr>\n",
       "      <td>99.50</td>\n",
       "      <td>1.0</td>\n",
       "      <td>1.0</td>\n",
       "      <td>1.0</td>\n",
       "      <td>1.0</td>\n",
       "      <td>1.0</td>\n",
       "      <td>1.0</td>\n",
       "      <td>1.0</td>\n",
       "      <td>1.0</td>\n",
       "      <td>1.0</td>\n",
       "      <td>1.0</td>\n",
       "      <td>...</td>\n",
       "      <td>1.0</td>\n",
       "      <td>1.0</td>\n",
       "      <td>1.0</td>\n",
       "      <td>1.0</td>\n",
       "      <td>1.0</td>\n",
       "      <td>1.0</td>\n",
       "      <td>1.0</td>\n",
       "      <td>1.0</td>\n",
       "      <td>1.0</td>\n",
       "      <td>1.0</td>\n",
       "    </tr>\n",
       "    <tr>\n",
       "      <td>99.25</td>\n",
       "      <td>1.0</td>\n",
       "      <td>1.0</td>\n",
       "      <td>1.0</td>\n",
       "      <td>1.0</td>\n",
       "      <td>1.0</td>\n",
       "      <td>1.0</td>\n",
       "      <td>1.0</td>\n",
       "      <td>1.0</td>\n",
       "      <td>1.0</td>\n",
       "      <td>1.0</td>\n",
       "      <td>...</td>\n",
       "      <td>1.0</td>\n",
       "      <td>1.0</td>\n",
       "      <td>1.0</td>\n",
       "      <td>1.0</td>\n",
       "      <td>1.0</td>\n",
       "      <td>1.0</td>\n",
       "      <td>1.0</td>\n",
       "      <td>1.0</td>\n",
       "      <td>1.0</td>\n",
       "      <td>1.0</td>\n",
       "    </tr>\n",
       "    <tr>\n",
       "      <td>99.00</td>\n",
       "      <td>1.0</td>\n",
       "      <td>1.0</td>\n",
       "      <td>1.0</td>\n",
       "      <td>1.0</td>\n",
       "      <td>1.0</td>\n",
       "      <td>1.0</td>\n",
       "      <td>1.0</td>\n",
       "      <td>1.0</td>\n",
       "      <td>1.0</td>\n",
       "      <td>1.0</td>\n",
       "      <td>...</td>\n",
       "      <td>1.0</td>\n",
       "      <td>1.0</td>\n",
       "      <td>1.0</td>\n",
       "      <td>1.0</td>\n",
       "      <td>1.0</td>\n",
       "      <td>1.0</td>\n",
       "      <td>1.0</td>\n",
       "      <td>1.0</td>\n",
       "      <td>1.0</td>\n",
       "      <td>1.0</td>\n",
       "    </tr>\n",
       "    <tr>\n",
       "      <td>...</td>\n",
       "      <td>...</td>\n",
       "      <td>...</td>\n",
       "      <td>...</td>\n",
       "      <td>...</td>\n",
       "      <td>...</td>\n",
       "      <td>...</td>\n",
       "      <td>...</td>\n",
       "      <td>...</td>\n",
       "      <td>...</td>\n",
       "      <td>...</td>\n",
       "      <td>...</td>\n",
       "      <td>...</td>\n",
       "      <td>...</td>\n",
       "      <td>...</td>\n",
       "      <td>...</td>\n",
       "      <td>...</td>\n",
       "      <td>...</td>\n",
       "      <td>...</td>\n",
       "      <td>...</td>\n",
       "      <td>...</td>\n",
       "      <td>...</td>\n",
       "    </tr>\n",
       "    <tr>\n",
       "      <td>1.00</td>\n",
       "      <td>0.0</td>\n",
       "      <td>0.0</td>\n",
       "      <td>0.0</td>\n",
       "      <td>0.0</td>\n",
       "      <td>0.0</td>\n",
       "      <td>0.0</td>\n",
       "      <td>0.0</td>\n",
       "      <td>0.0</td>\n",
       "      <td>0.0</td>\n",
       "      <td>0.0</td>\n",
       "      <td>...</td>\n",
       "      <td>0.0</td>\n",
       "      <td>0.0</td>\n",
       "      <td>0.0</td>\n",
       "      <td>0.0</td>\n",
       "      <td>0.0</td>\n",
       "      <td>0.0</td>\n",
       "      <td>0.0</td>\n",
       "      <td>0.0</td>\n",
       "      <td>0.0</td>\n",
       "      <td>0.0</td>\n",
       "    </tr>\n",
       "    <tr>\n",
       "      <td>0.75</td>\n",
       "      <td>0.0</td>\n",
       "      <td>0.0</td>\n",
       "      <td>0.0</td>\n",
       "      <td>0.0</td>\n",
       "      <td>0.0</td>\n",
       "      <td>0.0</td>\n",
       "      <td>0.0</td>\n",
       "      <td>0.0</td>\n",
       "      <td>0.0</td>\n",
       "      <td>0.0</td>\n",
       "      <td>...</td>\n",
       "      <td>0.0</td>\n",
       "      <td>0.0</td>\n",
       "      <td>0.0</td>\n",
       "      <td>0.0</td>\n",
       "      <td>0.0</td>\n",
       "      <td>0.0</td>\n",
       "      <td>0.0</td>\n",
       "      <td>0.0</td>\n",
       "      <td>0.0</td>\n",
       "      <td>0.0</td>\n",
       "    </tr>\n",
       "    <tr>\n",
       "      <td>0.50</td>\n",
       "      <td>0.0</td>\n",
       "      <td>0.0</td>\n",
       "      <td>0.0</td>\n",
       "      <td>0.0</td>\n",
       "      <td>0.0</td>\n",
       "      <td>0.0</td>\n",
       "      <td>0.0</td>\n",
       "      <td>0.0</td>\n",
       "      <td>0.0</td>\n",
       "      <td>0.0</td>\n",
       "      <td>...</td>\n",
       "      <td>0.0</td>\n",
       "      <td>0.0</td>\n",
       "      <td>0.0</td>\n",
       "      <td>0.0</td>\n",
       "      <td>0.0</td>\n",
       "      <td>0.0</td>\n",
       "      <td>0.0</td>\n",
       "      <td>0.0</td>\n",
       "      <td>0.0</td>\n",
       "      <td>0.0</td>\n",
       "    </tr>\n",
       "    <tr>\n",
       "      <td>0.25</td>\n",
       "      <td>0.0</td>\n",
       "      <td>0.0</td>\n",
       "      <td>0.0</td>\n",
       "      <td>0.0</td>\n",
       "      <td>0.0</td>\n",
       "      <td>0.0</td>\n",
       "      <td>0.0</td>\n",
       "      <td>0.0</td>\n",
       "      <td>0.0</td>\n",
       "      <td>0.0</td>\n",
       "      <td>...</td>\n",
       "      <td>0.0</td>\n",
       "      <td>0.0</td>\n",
       "      <td>0.0</td>\n",
       "      <td>0.0</td>\n",
       "      <td>0.0</td>\n",
       "      <td>0.0</td>\n",
       "      <td>0.0</td>\n",
       "      <td>0.0</td>\n",
       "      <td>0.0</td>\n",
       "      <td>0.0</td>\n",
       "    </tr>\n",
       "    <tr>\n",
       "      <td>0.00</td>\n",
       "      <td>0.0</td>\n",
       "      <td>0.0</td>\n",
       "      <td>0.0</td>\n",
       "      <td>0.0</td>\n",
       "      <td>0.0</td>\n",
       "      <td>0.0</td>\n",
       "      <td>0.0</td>\n",
       "      <td>0.0</td>\n",
       "      <td>0.0</td>\n",
       "      <td>0.0</td>\n",
       "      <td>...</td>\n",
       "      <td>0.0</td>\n",
       "      <td>0.0</td>\n",
       "      <td>0.0</td>\n",
       "      <td>0.0</td>\n",
       "      <td>0.0</td>\n",
       "      <td>0.0</td>\n",
       "      <td>0.0</td>\n",
       "      <td>0.0</td>\n",
       "      <td>0.0</td>\n",
       "      <td>0.0</td>\n",
       "    </tr>\n",
       "  </tbody>\n",
       "</table>\n",
       "<p>401 rows × 43202 columns</p>\n",
       "</div>"
      ],
      "text/plain": [
       "        0.000000  0.000069  0.000139  0.000208  0.000278  0.000347  0.000417  \\\n",
       "100.00       1.0       1.0       1.0       1.0       1.0       1.0       1.0   \n",
       "99.75        1.0       1.0       1.0       1.0       1.0       1.0       1.0   \n",
       "99.50        1.0       1.0       1.0       1.0       1.0       1.0       1.0   \n",
       "99.25        1.0       1.0       1.0       1.0       1.0       1.0       1.0   \n",
       "99.00        1.0       1.0       1.0       1.0       1.0       1.0       1.0   \n",
       "...          ...       ...       ...       ...       ...       ...       ...   \n",
       "1.00         0.0       0.0       0.0       0.0       0.0       0.0       0.0   \n",
       "0.75         0.0       0.0       0.0       0.0       0.0       0.0       0.0   \n",
       "0.50         0.0       0.0       0.0       0.0       0.0       0.0       0.0   \n",
       "0.25         0.0       0.0       0.0       0.0       0.0       0.0       0.0   \n",
       "0.00         0.0       0.0       0.0       0.0       0.0       0.0       0.0   \n",
       "\n",
       "        0.000486  0.000556  0.000625  ...  2.999375  2.999444  2.999514  \\\n",
       "100.00       1.0       1.0       1.0  ...       1.0       1.0       1.0   \n",
       "99.75        1.0       1.0       1.0  ...       1.0       1.0       1.0   \n",
       "99.50        1.0       1.0       1.0  ...       1.0       1.0       1.0   \n",
       "99.25        1.0       1.0       1.0  ...       1.0       1.0       1.0   \n",
       "99.00        1.0       1.0       1.0  ...       1.0       1.0       1.0   \n",
       "...          ...       ...       ...  ...       ...       ...       ...   \n",
       "1.00         0.0       0.0       0.0  ...       0.0       0.0       0.0   \n",
       "0.75         0.0       0.0       0.0  ...       0.0       0.0       0.0   \n",
       "0.50         0.0       0.0       0.0  ...       0.0       0.0       0.0   \n",
       "0.25         0.0       0.0       0.0  ...       0.0       0.0       0.0   \n",
       "0.00         0.0       0.0       0.0  ...       0.0       0.0       0.0   \n",
       "\n",
       "        2.999583  2.999653  2.999722  2.999792  2.999861  2.999931  3.000000  \n",
       "100.00       1.0       1.0       1.0       1.0       1.0       1.0       1.0  \n",
       "99.75        1.0       1.0       1.0       1.0       1.0       1.0       1.0  \n",
       "99.50        1.0       1.0       1.0       1.0       1.0       1.0       1.0  \n",
       "99.25        1.0       1.0       1.0       1.0       1.0       1.0       1.0  \n",
       "99.00        1.0       1.0       1.0       1.0       1.0       1.0       1.0  \n",
       "...          ...       ...       ...       ...       ...       ...       ...  \n",
       "1.00         0.0       0.0       0.0       0.0       0.0       0.0       0.0  \n",
       "0.75         0.0       0.0       0.0       0.0       0.0       0.0       0.0  \n",
       "0.50         0.0       0.0       0.0       0.0       0.0       0.0       0.0  \n",
       "0.25         0.0       0.0       0.0       0.0       0.0       0.0       0.0  \n",
       "0.00         0.0       0.0       0.0       0.0       0.0       0.0       0.0  \n",
       "\n",
       "[401 rows x 43202 columns]"
      ]
     },
     "execution_count": 213,
     "metadata": {},
     "output_type": "execute_result"
    }
   ],
   "source": [
    "d2frame"
   ]
  },
  {
   "cell_type": "code",
   "execution_count": null,
   "metadata": {},
   "outputs": [],
   "source": []
  },
  {
   "cell_type": "code",
   "execution_count": 214,
   "metadata": {},
   "outputs": [],
   "source": [
    "#d2frame.to_csv('d2frame.csv')"
   ]
  },
  {
   "cell_type": "code",
   "execution_count": 215,
   "metadata": {},
   "outputs": [],
   "source": [
    "#d2frame=pd.read_csv('d2frame.csv')"
   ]
  },
  {
   "cell_type": "code",
   "execution_count": 216,
   "metadata": {
    "scrolled": true
   },
   "outputs": [
    {
     "name": "stdout",
     "output_type": "stream",
     "text": [
      "Error in callback <function flush_figures at 0x0000017A9F6A1AF8> (for post_execute):\n"
     ]
    },
    {
     "ename": "KeyboardInterrupt",
     "evalue": "",
     "output_type": "error",
     "traceback": [
      "\u001b[1;31m---------------------------------------------------------------------------\u001b[0m",
      "\u001b[1;31mKeyboardInterrupt\u001b[0m                         Traceback (most recent call last)",
      "\u001b[1;32m~\\Anaconda3\\lib\\site-packages\\ipykernel\\pylab\\backend_inline.py\u001b[0m in \u001b[0;36mflush_figures\u001b[1;34m()\u001b[0m\n\u001b[0;32m    115\u001b[0m         \u001b[1;31m# ignore the tracking, just draw and close all figures\u001b[0m\u001b[1;33m\u001b[0m\u001b[1;33m\u001b[0m\u001b[1;33m\u001b[0m\u001b[0m\n\u001b[0;32m    116\u001b[0m         \u001b[1;32mtry\u001b[0m\u001b[1;33m:\u001b[0m\u001b[1;33m\u001b[0m\u001b[1;33m\u001b[0m\u001b[0m\n\u001b[1;32m--> 117\u001b[1;33m             \u001b[1;32mreturn\u001b[0m \u001b[0mshow\u001b[0m\u001b[1;33m(\u001b[0m\u001b[1;32mTrue\u001b[0m\u001b[1;33m)\u001b[0m\u001b[1;33m\u001b[0m\u001b[1;33m\u001b[0m\u001b[0m\n\u001b[0m\u001b[0;32m    118\u001b[0m         \u001b[1;32mexcept\u001b[0m \u001b[0mException\u001b[0m \u001b[1;32mas\u001b[0m \u001b[0me\u001b[0m\u001b[1;33m:\u001b[0m\u001b[1;33m\u001b[0m\u001b[1;33m\u001b[0m\u001b[0m\n\u001b[0;32m    119\u001b[0m             \u001b[1;31m# safely show traceback if in IPython, else raise\u001b[0m\u001b[1;33m\u001b[0m\u001b[1;33m\u001b[0m\u001b[1;33m\u001b[0m\u001b[0m\n",
      "\u001b[1;32m~\\Anaconda3\\lib\\site-packages\\ipykernel\\pylab\\backend_inline.py\u001b[0m in \u001b[0;36mshow\u001b[1;34m(close, block)\u001b[0m\n\u001b[0;32m     37\u001b[0m             display(\n\u001b[0;32m     38\u001b[0m                 \u001b[0mfigure_manager\u001b[0m\u001b[1;33m.\u001b[0m\u001b[0mcanvas\u001b[0m\u001b[1;33m.\u001b[0m\u001b[0mfigure\u001b[0m\u001b[1;33m,\u001b[0m\u001b[1;33m\u001b[0m\u001b[1;33m\u001b[0m\u001b[0m\n\u001b[1;32m---> 39\u001b[1;33m                 \u001b[0mmetadata\u001b[0m\u001b[1;33m=\u001b[0m\u001b[0m_fetch_figure_metadata\u001b[0m\u001b[1;33m(\u001b[0m\u001b[0mfigure_manager\u001b[0m\u001b[1;33m.\u001b[0m\u001b[0mcanvas\u001b[0m\u001b[1;33m.\u001b[0m\u001b[0mfigure\u001b[0m\u001b[1;33m)\u001b[0m\u001b[1;33m\u001b[0m\u001b[1;33m\u001b[0m\u001b[0m\n\u001b[0m\u001b[0;32m     40\u001b[0m             )\n\u001b[0;32m     41\u001b[0m     \u001b[1;32mfinally\u001b[0m\u001b[1;33m:\u001b[0m\u001b[1;33m\u001b[0m\u001b[1;33m\u001b[0m\u001b[0m\n",
      "\u001b[1;32m~\\Anaconda3\\lib\\site-packages\\IPython\\core\\display.py\u001b[0m in \u001b[0;36mdisplay\u001b[1;34m(include, exclude, metadata, transient, display_id, *objs, **kwargs)\u001b[0m\n\u001b[0;32m    304\u001b[0m             \u001b[0mpublish_display_data\u001b[0m\u001b[1;33m(\u001b[0m\u001b[0mdata\u001b[0m\u001b[1;33m=\u001b[0m\u001b[0mobj\u001b[0m\u001b[1;33m,\u001b[0m \u001b[0mmetadata\u001b[0m\u001b[1;33m=\u001b[0m\u001b[0mmetadata\u001b[0m\u001b[1;33m,\u001b[0m \u001b[1;33m**\u001b[0m\u001b[0mkwargs\u001b[0m\u001b[1;33m)\u001b[0m\u001b[1;33m\u001b[0m\u001b[1;33m\u001b[0m\u001b[0m\n\u001b[0;32m    305\u001b[0m         \u001b[1;32melse\u001b[0m\u001b[1;33m:\u001b[0m\u001b[1;33m\u001b[0m\u001b[1;33m\u001b[0m\u001b[0m\n\u001b[1;32m--> 306\u001b[1;33m             \u001b[0mformat_dict\u001b[0m\u001b[1;33m,\u001b[0m \u001b[0mmd_dict\u001b[0m \u001b[1;33m=\u001b[0m \u001b[0mformat\u001b[0m\u001b[1;33m(\u001b[0m\u001b[0mobj\u001b[0m\u001b[1;33m,\u001b[0m \u001b[0minclude\u001b[0m\u001b[1;33m=\u001b[0m\u001b[0minclude\u001b[0m\u001b[1;33m,\u001b[0m \u001b[0mexclude\u001b[0m\u001b[1;33m=\u001b[0m\u001b[0mexclude\u001b[0m\u001b[1;33m)\u001b[0m\u001b[1;33m\u001b[0m\u001b[1;33m\u001b[0m\u001b[0m\n\u001b[0m\u001b[0;32m    307\u001b[0m             \u001b[1;32mif\u001b[0m \u001b[1;32mnot\u001b[0m \u001b[0mformat_dict\u001b[0m\u001b[1;33m:\u001b[0m\u001b[1;33m\u001b[0m\u001b[1;33m\u001b[0m\u001b[0m\n\u001b[0;32m    308\u001b[0m                 \u001b[1;31m# nothing to display (e.g. _ipython_display_ took over)\u001b[0m\u001b[1;33m\u001b[0m\u001b[1;33m\u001b[0m\u001b[1;33m\u001b[0m\u001b[0m\n",
      "\u001b[1;32m~\\Anaconda3\\lib\\site-packages\\IPython\\core\\formatters.py\u001b[0m in \u001b[0;36mformat\u001b[1;34m(self, obj, include, exclude)\u001b[0m\n\u001b[0;32m    178\u001b[0m             \u001b[0mmd\u001b[0m \u001b[1;33m=\u001b[0m \u001b[1;32mNone\u001b[0m\u001b[1;33m\u001b[0m\u001b[1;33m\u001b[0m\u001b[0m\n\u001b[0;32m    179\u001b[0m             \u001b[1;32mtry\u001b[0m\u001b[1;33m:\u001b[0m\u001b[1;33m\u001b[0m\u001b[1;33m\u001b[0m\u001b[0m\n\u001b[1;32m--> 180\u001b[1;33m                 \u001b[0mdata\u001b[0m \u001b[1;33m=\u001b[0m \u001b[0mformatter\u001b[0m\u001b[1;33m(\u001b[0m\u001b[0mobj\u001b[0m\u001b[1;33m)\u001b[0m\u001b[1;33m\u001b[0m\u001b[1;33m\u001b[0m\u001b[0m\n\u001b[0m\u001b[0;32m    181\u001b[0m             \u001b[1;32mexcept\u001b[0m\u001b[1;33m:\u001b[0m\u001b[1;33m\u001b[0m\u001b[1;33m\u001b[0m\u001b[0m\n\u001b[0;32m    182\u001b[0m                 \u001b[1;31m# FIXME: log the exception\u001b[0m\u001b[1;33m\u001b[0m\u001b[1;33m\u001b[0m\u001b[1;33m\u001b[0m\u001b[0m\n",
      "\u001b[1;32m<C:\\Users\\LG\\Anaconda3\\lib\\site-packages\\decorator.py:decorator-gen-9>\u001b[0m in \u001b[0;36m__call__\u001b[1;34m(self, obj)\u001b[0m\n",
      "\u001b[1;32m~\\Anaconda3\\lib\\site-packages\\IPython\\core\\formatters.py\u001b[0m in \u001b[0;36mcatch_format_error\u001b[1;34m(method, self, *args, **kwargs)\u001b[0m\n\u001b[0;32m    222\u001b[0m     \u001b[1;34m\"\"\"show traceback on failed format call\"\"\"\u001b[0m\u001b[1;33m\u001b[0m\u001b[1;33m\u001b[0m\u001b[0m\n\u001b[0;32m    223\u001b[0m     \u001b[1;32mtry\u001b[0m\u001b[1;33m:\u001b[0m\u001b[1;33m\u001b[0m\u001b[1;33m\u001b[0m\u001b[0m\n\u001b[1;32m--> 224\u001b[1;33m         \u001b[0mr\u001b[0m \u001b[1;33m=\u001b[0m \u001b[0mmethod\u001b[0m\u001b[1;33m(\u001b[0m\u001b[0mself\u001b[0m\u001b[1;33m,\u001b[0m \u001b[1;33m*\u001b[0m\u001b[0margs\u001b[0m\u001b[1;33m,\u001b[0m \u001b[1;33m**\u001b[0m\u001b[0mkwargs\u001b[0m\u001b[1;33m)\u001b[0m\u001b[1;33m\u001b[0m\u001b[1;33m\u001b[0m\u001b[0m\n\u001b[0m\u001b[0;32m    225\u001b[0m     \u001b[1;32mexcept\u001b[0m \u001b[0mNotImplementedError\u001b[0m\u001b[1;33m:\u001b[0m\u001b[1;33m\u001b[0m\u001b[1;33m\u001b[0m\u001b[0m\n\u001b[0;32m    226\u001b[0m         \u001b[1;31m# don't warn on NotImplementedErrors\u001b[0m\u001b[1;33m\u001b[0m\u001b[1;33m\u001b[0m\u001b[1;33m\u001b[0m\u001b[0m\n",
      "\u001b[1;32m~\\Anaconda3\\lib\\site-packages\\IPython\\core\\formatters.py\u001b[0m in \u001b[0;36m__call__\u001b[1;34m(self, obj)\u001b[0m\n\u001b[0;32m    339\u001b[0m                 \u001b[1;32mpass\u001b[0m\u001b[1;33m\u001b[0m\u001b[1;33m\u001b[0m\u001b[0m\n\u001b[0;32m    340\u001b[0m             \u001b[1;32melse\u001b[0m\u001b[1;33m:\u001b[0m\u001b[1;33m\u001b[0m\u001b[1;33m\u001b[0m\u001b[0m\n\u001b[1;32m--> 341\u001b[1;33m                 \u001b[1;32mreturn\u001b[0m \u001b[0mprinter\u001b[0m\u001b[1;33m(\u001b[0m\u001b[0mobj\u001b[0m\u001b[1;33m)\u001b[0m\u001b[1;33m\u001b[0m\u001b[1;33m\u001b[0m\u001b[0m\n\u001b[0m\u001b[0;32m    342\u001b[0m             \u001b[1;31m# Finally look for special method names\u001b[0m\u001b[1;33m\u001b[0m\u001b[1;33m\u001b[0m\u001b[1;33m\u001b[0m\u001b[0m\n\u001b[0;32m    343\u001b[0m             \u001b[0mmethod\u001b[0m \u001b[1;33m=\u001b[0m \u001b[0mget_real_method\u001b[0m\u001b[1;33m(\u001b[0m\u001b[0mobj\u001b[0m\u001b[1;33m,\u001b[0m \u001b[0mself\u001b[0m\u001b[1;33m.\u001b[0m\u001b[0mprint_method\u001b[0m\u001b[1;33m)\u001b[0m\u001b[1;33m\u001b[0m\u001b[1;33m\u001b[0m\u001b[0m\n",
      "\u001b[1;32m~\\Anaconda3\\lib\\site-packages\\IPython\\core\\pylabtools.py\u001b[0m in \u001b[0;36m<lambda>\u001b[1;34m(fig)\u001b[0m\n\u001b[0;32m    242\u001b[0m \u001b[1;33m\u001b[0m\u001b[0m\n\u001b[0;32m    243\u001b[0m     \u001b[1;32mif\u001b[0m \u001b[1;34m'png'\u001b[0m \u001b[1;32min\u001b[0m \u001b[0mformats\u001b[0m\u001b[1;33m:\u001b[0m\u001b[1;33m\u001b[0m\u001b[1;33m\u001b[0m\u001b[0m\n\u001b[1;32m--> 244\u001b[1;33m         \u001b[0mpng_formatter\u001b[0m\u001b[1;33m.\u001b[0m\u001b[0mfor_type\u001b[0m\u001b[1;33m(\u001b[0m\u001b[0mFigure\u001b[0m\u001b[1;33m,\u001b[0m \u001b[1;32mlambda\u001b[0m \u001b[0mfig\u001b[0m\u001b[1;33m:\u001b[0m \u001b[0mprint_figure\u001b[0m\u001b[1;33m(\u001b[0m\u001b[0mfig\u001b[0m\u001b[1;33m,\u001b[0m \u001b[1;34m'png'\u001b[0m\u001b[1;33m,\u001b[0m \u001b[1;33m**\u001b[0m\u001b[0mkwargs\u001b[0m\u001b[1;33m)\u001b[0m\u001b[1;33m)\u001b[0m\u001b[1;33m\u001b[0m\u001b[1;33m\u001b[0m\u001b[0m\n\u001b[0m\u001b[0;32m    245\u001b[0m     \u001b[1;32mif\u001b[0m \u001b[1;34m'retina'\u001b[0m \u001b[1;32min\u001b[0m \u001b[0mformats\u001b[0m \u001b[1;32mor\u001b[0m \u001b[1;34m'png2x'\u001b[0m \u001b[1;32min\u001b[0m \u001b[0mformats\u001b[0m\u001b[1;33m:\u001b[0m\u001b[1;33m\u001b[0m\u001b[1;33m\u001b[0m\u001b[0m\n\u001b[0;32m    246\u001b[0m         \u001b[0mpng_formatter\u001b[0m\u001b[1;33m.\u001b[0m\u001b[0mfor_type\u001b[0m\u001b[1;33m(\u001b[0m\u001b[0mFigure\u001b[0m\u001b[1;33m,\u001b[0m \u001b[1;32mlambda\u001b[0m \u001b[0mfig\u001b[0m\u001b[1;33m:\u001b[0m \u001b[0mretina_figure\u001b[0m\u001b[1;33m(\u001b[0m\u001b[0mfig\u001b[0m\u001b[1;33m,\u001b[0m \u001b[1;33m**\u001b[0m\u001b[0mkwargs\u001b[0m\u001b[1;33m)\u001b[0m\u001b[1;33m)\u001b[0m\u001b[1;33m\u001b[0m\u001b[1;33m\u001b[0m\u001b[0m\n",
      "\u001b[1;32m~\\Anaconda3\\lib\\site-packages\\IPython\\core\\pylabtools.py\u001b[0m in \u001b[0;36mprint_figure\u001b[1;34m(fig, fmt, bbox_inches, **kwargs)\u001b[0m\n\u001b[0;32m    126\u001b[0m \u001b[1;33m\u001b[0m\u001b[0m\n\u001b[0;32m    127\u001b[0m     \u001b[0mbytes_io\u001b[0m \u001b[1;33m=\u001b[0m \u001b[0mBytesIO\u001b[0m\u001b[1;33m(\u001b[0m\u001b[1;33m)\u001b[0m\u001b[1;33m\u001b[0m\u001b[1;33m\u001b[0m\u001b[0m\n\u001b[1;32m--> 128\u001b[1;33m     \u001b[0mfig\u001b[0m\u001b[1;33m.\u001b[0m\u001b[0mcanvas\u001b[0m\u001b[1;33m.\u001b[0m\u001b[0mprint_figure\u001b[0m\u001b[1;33m(\u001b[0m\u001b[0mbytes_io\u001b[0m\u001b[1;33m,\u001b[0m \u001b[1;33m**\u001b[0m\u001b[0mkw\u001b[0m\u001b[1;33m)\u001b[0m\u001b[1;33m\u001b[0m\u001b[1;33m\u001b[0m\u001b[0m\n\u001b[0m\u001b[0;32m    129\u001b[0m     \u001b[0mdata\u001b[0m \u001b[1;33m=\u001b[0m \u001b[0mbytes_io\u001b[0m\u001b[1;33m.\u001b[0m\u001b[0mgetvalue\u001b[0m\u001b[1;33m(\u001b[0m\u001b[1;33m)\u001b[0m\u001b[1;33m\u001b[0m\u001b[1;33m\u001b[0m\u001b[0m\n\u001b[0;32m    130\u001b[0m     \u001b[1;32mif\u001b[0m \u001b[0mfmt\u001b[0m \u001b[1;33m==\u001b[0m \u001b[1;34m'svg'\u001b[0m\u001b[1;33m:\u001b[0m\u001b[1;33m\u001b[0m\u001b[1;33m\u001b[0m\u001b[0m\n",
      "\u001b[1;32m~\\Anaconda3\\lib\\site-packages\\matplotlib\\backend_bases.py\u001b[0m in \u001b[0;36mprint_figure\u001b[1;34m(self, filename, dpi, facecolor, edgecolor, orientation, format, bbox_inches, **kwargs)\u001b[0m\n\u001b[0;32m   2080\u001b[0m                     \u001b[0morientation\u001b[0m\u001b[1;33m=\u001b[0m\u001b[0morientation\u001b[0m\u001b[1;33m,\u001b[0m\u001b[1;33m\u001b[0m\u001b[1;33m\u001b[0m\u001b[0m\n\u001b[0;32m   2081\u001b[0m                     \u001b[0mbbox_inches_restore\u001b[0m\u001b[1;33m=\u001b[0m\u001b[0m_bbox_inches_restore\u001b[0m\u001b[1;33m,\u001b[0m\u001b[1;33m\u001b[0m\u001b[1;33m\u001b[0m\u001b[0m\n\u001b[1;32m-> 2082\u001b[1;33m                     **kwargs)\n\u001b[0m\u001b[0;32m   2083\u001b[0m             \u001b[1;32mfinally\u001b[0m\u001b[1;33m:\u001b[0m\u001b[1;33m\u001b[0m\u001b[1;33m\u001b[0m\u001b[0m\n\u001b[0;32m   2084\u001b[0m                 \u001b[1;32mif\u001b[0m \u001b[0mbbox_inches\u001b[0m \u001b[1;32mand\u001b[0m \u001b[0mrestore_bbox\u001b[0m\u001b[1;33m:\u001b[0m\u001b[1;33m\u001b[0m\u001b[1;33m\u001b[0m\u001b[0m\n",
      "\u001b[1;32m~\\Anaconda3\\lib\\site-packages\\matplotlib\\backends\\backend_agg.py\u001b[0m in \u001b[0;36mprint_png\u001b[1;34m(self, filename_or_obj, metadata, pil_kwargs, *args, **kwargs)\u001b[0m\n\u001b[0;32m    525\u001b[0m \u001b[1;33m\u001b[0m\u001b[0m\n\u001b[0;32m    526\u001b[0m         \u001b[1;32melse\u001b[0m\u001b[1;33m:\u001b[0m\u001b[1;33m\u001b[0m\u001b[1;33m\u001b[0m\u001b[0m\n\u001b[1;32m--> 527\u001b[1;33m             \u001b[0mFigureCanvasAgg\u001b[0m\u001b[1;33m.\u001b[0m\u001b[0mdraw\u001b[0m\u001b[1;33m(\u001b[0m\u001b[0mself\u001b[0m\u001b[1;33m)\u001b[0m\u001b[1;33m\u001b[0m\u001b[1;33m\u001b[0m\u001b[0m\n\u001b[0m\u001b[0;32m    528\u001b[0m             \u001b[0mrenderer\u001b[0m \u001b[1;33m=\u001b[0m \u001b[0mself\u001b[0m\u001b[1;33m.\u001b[0m\u001b[0mget_renderer\u001b[0m\u001b[1;33m(\u001b[0m\u001b[1;33m)\u001b[0m\u001b[1;33m\u001b[0m\u001b[1;33m\u001b[0m\u001b[0m\n\u001b[0;32m    529\u001b[0m             \u001b[1;32mwith\u001b[0m \u001b[0mcbook\u001b[0m\u001b[1;33m.\u001b[0m\u001b[0m_setattr_cm\u001b[0m\u001b[1;33m(\u001b[0m\u001b[0mrenderer\u001b[0m\u001b[1;33m,\u001b[0m \u001b[0mdpi\u001b[0m\u001b[1;33m=\u001b[0m\u001b[0mself\u001b[0m\u001b[1;33m.\u001b[0m\u001b[0mfigure\u001b[0m\u001b[1;33m.\u001b[0m\u001b[0mdpi\u001b[0m\u001b[1;33m)\u001b[0m\u001b[1;33m,\u001b[0m\u001b[0;31m \u001b[0m\u001b[0;31m\\\u001b[0m\u001b[1;33m\u001b[0m\u001b[1;33m\u001b[0m\u001b[0m\n",
      "\u001b[1;32m~\\Anaconda3\\lib\\site-packages\\matplotlib\\backends\\backend_agg.py\u001b[0m in \u001b[0;36mdraw\u001b[1;34m(self)\u001b[0m\n\u001b[0;32m    386\u001b[0m         \u001b[0mself\u001b[0m\u001b[1;33m.\u001b[0m\u001b[0mrenderer\u001b[0m \u001b[1;33m=\u001b[0m \u001b[0mself\u001b[0m\u001b[1;33m.\u001b[0m\u001b[0mget_renderer\u001b[0m\u001b[1;33m(\u001b[0m\u001b[0mcleared\u001b[0m\u001b[1;33m=\u001b[0m\u001b[1;32mTrue\u001b[0m\u001b[1;33m)\u001b[0m\u001b[1;33m\u001b[0m\u001b[1;33m\u001b[0m\u001b[0m\n\u001b[0;32m    387\u001b[0m         \u001b[1;32mwith\u001b[0m \u001b[0mRendererAgg\u001b[0m\u001b[1;33m.\u001b[0m\u001b[0mlock\u001b[0m\u001b[1;33m:\u001b[0m\u001b[1;33m\u001b[0m\u001b[1;33m\u001b[0m\u001b[0m\n\u001b[1;32m--> 388\u001b[1;33m             \u001b[0mself\u001b[0m\u001b[1;33m.\u001b[0m\u001b[0mfigure\u001b[0m\u001b[1;33m.\u001b[0m\u001b[0mdraw\u001b[0m\u001b[1;33m(\u001b[0m\u001b[0mself\u001b[0m\u001b[1;33m.\u001b[0m\u001b[0mrenderer\u001b[0m\u001b[1;33m)\u001b[0m\u001b[1;33m\u001b[0m\u001b[1;33m\u001b[0m\u001b[0m\n\u001b[0m\u001b[0;32m    389\u001b[0m             \u001b[1;31m# A GUI class may be need to update a window using this draw, so\u001b[0m\u001b[1;33m\u001b[0m\u001b[1;33m\u001b[0m\u001b[1;33m\u001b[0m\u001b[0m\n\u001b[0;32m    390\u001b[0m             \u001b[1;31m# don't forget to call the superclass.\u001b[0m\u001b[1;33m\u001b[0m\u001b[1;33m\u001b[0m\u001b[1;33m\u001b[0m\u001b[0m\n",
      "\u001b[1;32m~\\Anaconda3\\lib\\site-packages\\matplotlib\\artist.py\u001b[0m in \u001b[0;36mdraw_wrapper\u001b[1;34m(artist, renderer, *args, **kwargs)\u001b[0m\n\u001b[0;32m     36\u001b[0m                 \u001b[0mrenderer\u001b[0m\u001b[1;33m.\u001b[0m\u001b[0mstart_filter\u001b[0m\u001b[1;33m(\u001b[0m\u001b[1;33m)\u001b[0m\u001b[1;33m\u001b[0m\u001b[1;33m\u001b[0m\u001b[0m\n\u001b[0;32m     37\u001b[0m \u001b[1;33m\u001b[0m\u001b[0m\n\u001b[1;32m---> 38\u001b[1;33m             \u001b[1;32mreturn\u001b[0m \u001b[0mdraw\u001b[0m\u001b[1;33m(\u001b[0m\u001b[0martist\u001b[0m\u001b[1;33m,\u001b[0m \u001b[0mrenderer\u001b[0m\u001b[1;33m,\u001b[0m \u001b[1;33m*\u001b[0m\u001b[0margs\u001b[0m\u001b[1;33m,\u001b[0m \u001b[1;33m**\u001b[0m\u001b[0mkwargs\u001b[0m\u001b[1;33m)\u001b[0m\u001b[1;33m\u001b[0m\u001b[1;33m\u001b[0m\u001b[0m\n\u001b[0m\u001b[0;32m     39\u001b[0m         \u001b[1;32mfinally\u001b[0m\u001b[1;33m:\u001b[0m\u001b[1;33m\u001b[0m\u001b[1;33m\u001b[0m\u001b[0m\n\u001b[0;32m     40\u001b[0m             \u001b[1;32mif\u001b[0m \u001b[0martist\u001b[0m\u001b[1;33m.\u001b[0m\u001b[0mget_agg_filter\u001b[0m\u001b[1;33m(\u001b[0m\u001b[1;33m)\u001b[0m \u001b[1;32mis\u001b[0m \u001b[1;32mnot\u001b[0m \u001b[1;32mNone\u001b[0m\u001b[1;33m:\u001b[0m\u001b[1;33m\u001b[0m\u001b[1;33m\u001b[0m\u001b[0m\n",
      "\u001b[1;32m~\\Anaconda3\\lib\\site-packages\\matplotlib\\figure.py\u001b[0m in \u001b[0;36mdraw\u001b[1;34m(self, renderer)\u001b[0m\n\u001b[0;32m   1707\u001b[0m             \u001b[0mself\u001b[0m\u001b[1;33m.\u001b[0m\u001b[0mpatch\u001b[0m\u001b[1;33m.\u001b[0m\u001b[0mdraw\u001b[0m\u001b[1;33m(\u001b[0m\u001b[0mrenderer\u001b[0m\u001b[1;33m)\u001b[0m\u001b[1;33m\u001b[0m\u001b[1;33m\u001b[0m\u001b[0m\n\u001b[0;32m   1708\u001b[0m             mimage._draw_list_compositing_images(\n\u001b[1;32m-> 1709\u001b[1;33m                 renderer, self, artists, self.suppressComposite)\n\u001b[0m\u001b[0;32m   1710\u001b[0m \u001b[1;33m\u001b[0m\u001b[0m\n\u001b[0;32m   1711\u001b[0m             \u001b[0mrenderer\u001b[0m\u001b[1;33m.\u001b[0m\u001b[0mclose_group\u001b[0m\u001b[1;33m(\u001b[0m\u001b[1;34m'figure'\u001b[0m\u001b[1;33m)\u001b[0m\u001b[1;33m\u001b[0m\u001b[1;33m\u001b[0m\u001b[0m\n",
      "\u001b[1;32m~\\Anaconda3\\lib\\site-packages\\matplotlib\\image.py\u001b[0m in \u001b[0;36m_draw_list_compositing_images\u001b[1;34m(renderer, parent, artists, suppress_composite)\u001b[0m\n\u001b[0;32m    133\u001b[0m     \u001b[1;32mif\u001b[0m \u001b[0mnot_composite\u001b[0m \u001b[1;32mor\u001b[0m \u001b[1;32mnot\u001b[0m \u001b[0mhas_images\u001b[0m\u001b[1;33m:\u001b[0m\u001b[1;33m\u001b[0m\u001b[1;33m\u001b[0m\u001b[0m\n\u001b[0;32m    134\u001b[0m         \u001b[1;32mfor\u001b[0m \u001b[0ma\u001b[0m \u001b[1;32min\u001b[0m \u001b[0martists\u001b[0m\u001b[1;33m:\u001b[0m\u001b[1;33m\u001b[0m\u001b[1;33m\u001b[0m\u001b[0m\n\u001b[1;32m--> 135\u001b[1;33m             \u001b[0ma\u001b[0m\u001b[1;33m.\u001b[0m\u001b[0mdraw\u001b[0m\u001b[1;33m(\u001b[0m\u001b[0mrenderer\u001b[0m\u001b[1;33m)\u001b[0m\u001b[1;33m\u001b[0m\u001b[1;33m\u001b[0m\u001b[0m\n\u001b[0m\u001b[0;32m    136\u001b[0m     \u001b[1;32melse\u001b[0m\u001b[1;33m:\u001b[0m\u001b[1;33m\u001b[0m\u001b[1;33m\u001b[0m\u001b[0m\n\u001b[0;32m    137\u001b[0m         \u001b[1;31m# Composite any adjacent images together\u001b[0m\u001b[1;33m\u001b[0m\u001b[1;33m\u001b[0m\u001b[1;33m\u001b[0m\u001b[0m\n",
      "\u001b[1;32m~\\Anaconda3\\lib\\site-packages\\matplotlib\\artist.py\u001b[0m in \u001b[0;36mdraw_wrapper\u001b[1;34m(artist, renderer, *args, **kwargs)\u001b[0m\n\u001b[0;32m     36\u001b[0m                 \u001b[0mrenderer\u001b[0m\u001b[1;33m.\u001b[0m\u001b[0mstart_filter\u001b[0m\u001b[1;33m(\u001b[0m\u001b[1;33m)\u001b[0m\u001b[1;33m\u001b[0m\u001b[1;33m\u001b[0m\u001b[0m\n\u001b[0;32m     37\u001b[0m \u001b[1;33m\u001b[0m\u001b[0m\n\u001b[1;32m---> 38\u001b[1;33m             \u001b[1;32mreturn\u001b[0m \u001b[0mdraw\u001b[0m\u001b[1;33m(\u001b[0m\u001b[0martist\u001b[0m\u001b[1;33m,\u001b[0m \u001b[0mrenderer\u001b[0m\u001b[1;33m,\u001b[0m \u001b[1;33m*\u001b[0m\u001b[0margs\u001b[0m\u001b[1;33m,\u001b[0m \u001b[1;33m**\u001b[0m\u001b[0mkwargs\u001b[0m\u001b[1;33m)\u001b[0m\u001b[1;33m\u001b[0m\u001b[1;33m\u001b[0m\u001b[0m\n\u001b[0m\u001b[0;32m     39\u001b[0m         \u001b[1;32mfinally\u001b[0m\u001b[1;33m:\u001b[0m\u001b[1;33m\u001b[0m\u001b[1;33m\u001b[0m\u001b[0m\n\u001b[0;32m     40\u001b[0m             \u001b[1;32mif\u001b[0m \u001b[0martist\u001b[0m\u001b[1;33m.\u001b[0m\u001b[0mget_agg_filter\u001b[0m\u001b[1;33m(\u001b[0m\u001b[1;33m)\u001b[0m \u001b[1;32mis\u001b[0m \u001b[1;32mnot\u001b[0m \u001b[1;32mNone\u001b[0m\u001b[1;33m:\u001b[0m\u001b[1;33m\u001b[0m\u001b[1;33m\u001b[0m\u001b[0m\n",
      "\u001b[1;32m~\\Anaconda3\\lib\\site-packages\\matplotlib\\axes\\_base.py\u001b[0m in \u001b[0;36mdraw\u001b[1;34m(self, renderer, inframe)\u001b[0m\n\u001b[0;32m   2645\u001b[0m             \u001b[0mrenderer\u001b[0m\u001b[1;33m.\u001b[0m\u001b[0mstop_rasterizing\u001b[0m\u001b[1;33m(\u001b[0m\u001b[1;33m)\u001b[0m\u001b[1;33m\u001b[0m\u001b[1;33m\u001b[0m\u001b[0m\n\u001b[0;32m   2646\u001b[0m \u001b[1;33m\u001b[0m\u001b[0m\n\u001b[1;32m-> 2647\u001b[1;33m         \u001b[0mmimage\u001b[0m\u001b[1;33m.\u001b[0m\u001b[0m_draw_list_compositing_images\u001b[0m\u001b[1;33m(\u001b[0m\u001b[0mrenderer\u001b[0m\u001b[1;33m,\u001b[0m \u001b[0mself\u001b[0m\u001b[1;33m,\u001b[0m \u001b[0martists\u001b[0m\u001b[1;33m)\u001b[0m\u001b[1;33m\u001b[0m\u001b[1;33m\u001b[0m\u001b[0m\n\u001b[0m\u001b[0;32m   2648\u001b[0m \u001b[1;33m\u001b[0m\u001b[0m\n\u001b[0;32m   2649\u001b[0m         \u001b[0mrenderer\u001b[0m\u001b[1;33m.\u001b[0m\u001b[0mclose_group\u001b[0m\u001b[1;33m(\u001b[0m\u001b[1;34m'axes'\u001b[0m\u001b[1;33m)\u001b[0m\u001b[1;33m\u001b[0m\u001b[1;33m\u001b[0m\u001b[0m\n",
      "\u001b[1;32m~\\Anaconda3\\lib\\site-packages\\matplotlib\\image.py\u001b[0m in \u001b[0;36m_draw_list_compositing_images\u001b[1;34m(renderer, parent, artists, suppress_composite)\u001b[0m\n\u001b[0;32m    133\u001b[0m     \u001b[1;32mif\u001b[0m \u001b[0mnot_composite\u001b[0m \u001b[1;32mor\u001b[0m \u001b[1;32mnot\u001b[0m \u001b[0mhas_images\u001b[0m\u001b[1;33m:\u001b[0m\u001b[1;33m\u001b[0m\u001b[1;33m\u001b[0m\u001b[0m\n\u001b[0;32m    134\u001b[0m         \u001b[1;32mfor\u001b[0m \u001b[0ma\u001b[0m \u001b[1;32min\u001b[0m \u001b[0martists\u001b[0m\u001b[1;33m:\u001b[0m\u001b[1;33m\u001b[0m\u001b[1;33m\u001b[0m\u001b[0m\n\u001b[1;32m--> 135\u001b[1;33m             \u001b[0ma\u001b[0m\u001b[1;33m.\u001b[0m\u001b[0mdraw\u001b[0m\u001b[1;33m(\u001b[0m\u001b[0mrenderer\u001b[0m\u001b[1;33m)\u001b[0m\u001b[1;33m\u001b[0m\u001b[1;33m\u001b[0m\u001b[0m\n\u001b[0m\u001b[0;32m    136\u001b[0m     \u001b[1;32melse\u001b[0m\u001b[1;33m:\u001b[0m\u001b[1;33m\u001b[0m\u001b[1;33m\u001b[0m\u001b[0m\n\u001b[0;32m    137\u001b[0m         \u001b[1;31m# Composite any adjacent images together\u001b[0m\u001b[1;33m\u001b[0m\u001b[1;33m\u001b[0m\u001b[1;33m\u001b[0m\u001b[0m\n",
      "\u001b[1;32m~\\Anaconda3\\lib\\site-packages\\matplotlib\\artist.py\u001b[0m in \u001b[0;36mdraw_wrapper\u001b[1;34m(artist, renderer, *args, **kwargs)\u001b[0m\n\u001b[0;32m     36\u001b[0m                 \u001b[0mrenderer\u001b[0m\u001b[1;33m.\u001b[0m\u001b[0mstart_filter\u001b[0m\u001b[1;33m(\u001b[0m\u001b[1;33m)\u001b[0m\u001b[1;33m\u001b[0m\u001b[1;33m\u001b[0m\u001b[0m\n\u001b[0;32m     37\u001b[0m \u001b[1;33m\u001b[0m\u001b[0m\n\u001b[1;32m---> 38\u001b[1;33m             \u001b[1;32mreturn\u001b[0m \u001b[0mdraw\u001b[0m\u001b[1;33m(\u001b[0m\u001b[0martist\u001b[0m\u001b[1;33m,\u001b[0m \u001b[0mrenderer\u001b[0m\u001b[1;33m,\u001b[0m \u001b[1;33m*\u001b[0m\u001b[0margs\u001b[0m\u001b[1;33m,\u001b[0m \u001b[1;33m**\u001b[0m\u001b[0mkwargs\u001b[0m\u001b[1;33m)\u001b[0m\u001b[1;33m\u001b[0m\u001b[1;33m\u001b[0m\u001b[0m\n\u001b[0m\u001b[0;32m     39\u001b[0m         \u001b[1;32mfinally\u001b[0m\u001b[1;33m:\u001b[0m\u001b[1;33m\u001b[0m\u001b[1;33m\u001b[0m\u001b[0m\n\u001b[0;32m     40\u001b[0m             \u001b[1;32mif\u001b[0m \u001b[0martist\u001b[0m\u001b[1;33m.\u001b[0m\u001b[0mget_agg_filter\u001b[0m\u001b[1;33m(\u001b[0m\u001b[1;33m)\u001b[0m \u001b[1;32mis\u001b[0m \u001b[1;32mnot\u001b[0m \u001b[1;32mNone\u001b[0m\u001b[1;33m:\u001b[0m\u001b[1;33m\u001b[0m\u001b[1;33m\u001b[0m\u001b[0m\n",
      "\u001b[1;32m~\\Anaconda3\\lib\\site-packages\\matplotlib\\collections.py\u001b[0m in \u001b[0;36mdraw\u001b[1;34m(self, renderer)\u001b[0m\n\u001b[0;32m   2043\u001b[0m                 \u001b[0mcoordinates\u001b[0m\u001b[1;33m,\u001b[0m \u001b[0moffsets\u001b[0m\u001b[1;33m,\u001b[0m \u001b[0mtransOffset\u001b[0m\u001b[1;33m,\u001b[0m \u001b[0mself\u001b[0m\u001b[1;33m.\u001b[0m\u001b[0mget_facecolor\u001b[0m\u001b[1;33m(\u001b[0m\u001b[1;33m)\u001b[0m\u001b[1;33m,\u001b[0m\u001b[1;33m\u001b[0m\u001b[1;33m\u001b[0m\u001b[0m\n\u001b[0;32m   2044\u001b[0m                 self._antialiased, self.get_edgecolors())\n\u001b[1;32m-> 2045\u001b[1;33m         \u001b[0mgc\u001b[0m\u001b[1;33m.\u001b[0m\u001b[0mrestore\u001b[0m\u001b[1;33m(\u001b[0m\u001b[1;33m)\u001b[0m\u001b[1;33m\u001b[0m\u001b[1;33m\u001b[0m\u001b[0m\n\u001b[0m\u001b[0;32m   2046\u001b[0m         \u001b[0mrenderer\u001b[0m\u001b[1;33m.\u001b[0m\u001b[0mclose_group\u001b[0m\u001b[1;33m(\u001b[0m\u001b[0mself\u001b[0m\u001b[1;33m.\u001b[0m\u001b[0m__class__\u001b[0m\u001b[1;33m.\u001b[0m\u001b[0m__name__\u001b[0m\u001b[1;33m)\u001b[0m\u001b[1;33m\u001b[0m\u001b[1;33m\u001b[0m\u001b[0m\n\u001b[0;32m   2047\u001b[0m         \u001b[0mself\u001b[0m\u001b[1;33m.\u001b[0m\u001b[0mstale\u001b[0m \u001b[1;33m=\u001b[0m \u001b[1;32mFalse\u001b[0m\u001b[1;33m\u001b[0m\u001b[1;33m\u001b[0m\u001b[0m\n",
      "\u001b[1;31mKeyboardInterrupt\u001b[0m: "
     ]
    }
   ],
   "source": [
    "fig, ax=plt.subplots(figsize=(10,5))\n",
    "#cbar_ax=fig.add_axes([0,1,2,3,4,5,6])\n",
    "#cmap=sns.set_palette(\"hls\",3)\n",
    "ax=sns.heatmap(d2frame, cmap='Accent', vmax=2, vmin=0)\n",
    "#ax=sns.set_palette(\"hls\",3)\n",
    "\n",
    "#ax.locator_params(axis='x', nbins=4)\n",
    "#ax.locator_params(axis='y',nbins=4)\n",
    "\n",
    "\n",
    "colorbar = ax.collections[0].colorbar\n",
    "colorbar.set_ticks([1/8, 1+ 1/8,2])\n",
    "colorbar.set_ticklabels(['Wait', 'Dog-Head', 'Head-Dog'])\n",
    "\n",
    "# X - Y axis labels\n",
    "ax.set_ylabel('Preço');\n",
    "ax.set_xlabel('Tempo');\n",
    "#ax.set_ylim(top=150);\n",
    "\n",
    "# Only y-axis labels need their rotation set, x-axis labels already have a rotation of 0\n",
    "_, labels = plt.yticks();\n",
    "plt.setp(labels, rotation=0);\n",
    "\n",
    "#ax.set(xticklabels=solucao[2]);\n",
    "\n"
   ]
  },
  {
   "cell_type": "code",
   "execution_count": 217,
   "metadata": {},
   "outputs": [
    {
     "name": "stdout",
     "output_type": "stream",
     "text": [
      "0 W -80.0 0.0 W -80.0\n",
      "1 W -80.0 0.0 W -80.0\n",
      "2 W -80.0 0.0 W -80.0\n",
      "3 W -80.0 0.0 W -80.0\n",
      "4 W -80.0 0.0 W -80.0\n",
      "5 W -80.0 0.0 W -80.0\n",
      "6 W -80.0 0.0 W -80.0\n",
      "7 W -80.0 0.0 W -80.0\n",
      "8 W -80.0 0.0 W -80.0\n",
      "9 W -80.0 0.0 W -80.0\n",
      "10 W -80.0 0.0 W -80.0\n",
      "11 W -80.0 0.0 W -80.0\n",
      "12 W -80.0 0.0 W -80.0\n",
      "13 W -80.0 0.0 W -80.0\n",
      "14 W -80.0 0.0 W -80.0\n",
      "15 W -80.0 0.0 W -80.0\n",
      "16 W -80.0 0.0 W -80.0\n",
      "17 W -80.0 0.0 W -80.0\n",
      "18 W -80.0 0.0 W -80.0\n",
      "19 W -80.0 0.0 W -80.0\n",
      "20 W -80.0 0.0 W -80.0\n",
      "21 W -80.0 0.0 W -80.0\n",
      "22 W -80.0 0.0 W -80.0\n",
      "23 W -80.0 0.0 W -80.0\n",
      "24 W -80.0 0.0 W -80.0\n",
      "25 W -80.0 0.0 W -80.0\n",
      "26 W -80.0 0.0 W -80.0\n",
      "27 W -80.0 0.0 W -80.0\n",
      "28 W -80.0 0.0 W -80.0\n",
      "29 W -80.0 0.0 W -80.0\n",
      "30 W -80.0 0.0 W -80.0\n",
      "31 W -80.0 0.0 W -80.0\n",
      "32 W -79.7 0.0 W -79.7\n",
      "33 W -42.499999999999865 0.0 W -42.499999999999865\n",
      "34 (0, 1) 25.097398035613317 13.501226960880235 (1, 0) 11.596171074733082\n",
      "35 (0, 1) 98.05682501302508 79.46601468437076 (1, 0) 18.590810328654314\n",
      "36 (0, 1) 171.01625199043673 155.16000000000005 (1, 0) 15.856251990436675\n",
      "37 (0, 1) 243.97567896784864 239.52000000000027 (1, 0) 4.455678967848371\n",
      "38 (0, 1) 323.88000000000017 323.8800000000001 (1, 0) 5.684341886080802e-14\n",
      "39 (0, 1) 408.24 408.24 (1, 0) 0.0\n",
      "40 (0, 1) 492.59999999999985 492.59999999999985 (1, 0) 0.0\n",
      "41 (0, 1) 576.9600000000004 576.9600000000004 (1, 0) 0.0\n",
      "42 (0, 1) 661.3200000000003 661.3200000000003 (1, 0) 0.0\n",
      "43 (0, 1) 745.6800000000002 745.6800000000001 (1, 0) 1.1368683772161603e-13\n",
      "44 (0, 1) 830.0400000000004 830.0400000000004 (1, 0) 0.0\n",
      "45 (0, 1) 914.4000000000002 914.4000000000002 (1, 0) 0.0\n",
      "46 (0, 1) 998.7600000000004 998.7600000000004 (1, 0) 0.0\n",
      "47 (0, 1) 1083.1200000000001 1083.12 (1, 0) 2.2737367544323206e-13\n",
      "48 (1, 0) 1167.480000000001 1167.4800000000007 (0, 1) 2.2737367544323206e-13\n",
      "49 (0, 1) 1251.8400000000006 1251.8400000000004 (1, 0) 2.2737367544323206e-13\n",
      "50 (0, 1) 1336.2000000000003 1336.2000000000003 (1, 0) 0.0\n",
      "51 (0, 1) 1420.5600000000004 1420.5600000000004 (1, 0) 0.0\n",
      "52 (1, 0) 1504.92 1504.9199999999998 (0, 1) 2.2737367544323206e-13\n",
      "53 (0, 1) 1589.2800000000007 1589.2800000000007 (1, 0) 0.0\n",
      "54 (1, 0) 1673.64 1673.6399999999999 (0, 1) 2.2737367544323206e-13\n",
      "55 (0, 1) 1758.0000000000002 1758.0000000000002 (1, 0) 0.0\n",
      "56 (0, 1) 1842.3600000000004 1842.3600000000004 (1, 0) 0.0\n",
      "57 (0, 1) 1926.7200000000005 1926.7200000000003 (1, 0) 2.2737367544323206e-13\n",
      "58 (0, 1) 2011.0800000000004 2011.0800000000004 (1, 0) 0.0\n",
      "59 (0, 1) 2095.44 2095.44 (1, 0) 0.0\n",
      "60 (0, 1) 2179.7999999999997 2179.7999999999997 (1, 0) 0.0\n",
      "61 (0, 1) 2264.1600000000008 2264.1600000000008 (1, 0) 0.0\n",
      "62 (0, 1) 2348.5200000000004 2348.5200000000004 (1, 0) 0.0\n",
      "63 (0, 1) 2432.88 2432.88 (1, 0) 0.0\n",
      "64 (0, 1) 2517.24 2517.24 (1, 0) 0.0\n",
      "65 (0, 1) 2601.6 2601.6 (1, 0) 0.0\n",
      "66 (0, 1) 2685.9600000000005 2685.9600000000005 (1, 0) 0.0\n",
      "67 (0, 1) 2770.32 2770.3199999999997 (1, 0) 4.547473508864641e-13\n",
      "68 (1, 0) 2854.6800000000007 2854.6800000000003 (0, 1) 4.547473508864641e-13\n",
      "69 (1, 0) 2939.0400000000004 2939.04 (0, 1) 4.547473508864641e-13\n",
      "70 (0, 1) 3023.4 3023.4 (1, 0) 0.0\n",
      "71 (0, 1) 3107.7599999999998 3107.7599999999998 (1, 0) 0.0\n",
      "72 (0, 1) 3192.12 3192.12 (1, 0) 0.0\n",
      "73 (0, 1) 3276.4799999999996 3276.4799999999996 (1, 0) 0.0\n",
      "74 (1, 0) 3360.8400000000006 3360.84 (0, 1) 4.547473508864641e-13\n",
      "75 (1, 0) 3445.2000000000003 3445.2 (0, 1) 4.547473508864641e-13\n",
      "76 (0, 1) 3529.56 3529.56 (1, 0) 0.0\n",
      "77 (0, 1) 3613.92 3613.9199999999996 (1, 0) 4.547473508864641e-13\n",
      "78 (1, 0) 3698.2799999999997 3698.2799999999993 (0, 1) 4.547473508864641e-13\n",
      "79 (0, 1) 3782.6399999999994 3782.6399999999994 (1, 0) 0.0\n",
      "80 (0, 1) 3866.9999999999995 3866.9999999999995 (1, 0) 0.0\n",
      "81 (1, 0) 3951.36 3951.3599999999997 (0, 1) 4.547473508864641e-13\n",
      "82 (0, 1) 4035.7200000000007 4035.7200000000003 (1, 0) 4.547473508864641e-13\n",
      "83 (0, 1) 4120.08 4120.08 (1, 0) 0.0\n",
      "84 (0, 1) 4204.4400000000005 4204.4400000000005 (1, 0) 0.0\n",
      "85 (0, 1) 4288.8 4288.8 (1, 0) 0.0\n",
      "86 (0, 1) 4373.16 4373.16 (1, 0) 0.0\n",
      "87 (0, 1) 4457.52 4457.52 (1, 0) 0.0\n",
      "88 (0, 1) 4541.880000000001 4541.880000000001 (1, 0) 0.0\n",
      "89 (0, 1) 4626.240000000001 4626.240000000001 (1, 0) 0.0\n",
      "90 (0, 1) 4710.6 4710.6 (1, 0) 0.0\n",
      "91 (0, 1) 4794.96 4794.96 (1, 0) 0.0\n",
      "92 (0, 1) 4879.320000000001 4879.320000000001 (1, 0) 0.0\n",
      "93 (0, 1) 4963.679999999999 4963.679999999999 (1, 0) 0.0\n",
      "94 (1, 0) 5048.04 5048.039999999999 (0, 1) 9.094947017729282e-13\n",
      "95 (1, 0) 5132.4 5132.399999999999 (0, 1) 9.094947017729282e-13\n",
      "96 (1, 0) 5216.760000000002 5216.760000000001 (0, 1) 9.094947017729282e-13\n",
      "97 (1, 0) 5301.120000000002 5301.120000000001 (0, 1) 9.094947017729282e-13\n",
      "98 (1, 0) 5385.480000000001 5385.4800000000005 (0, 1) 9.094947017729282e-13\n",
      "99 (0, 1) 5469.84 5469.84 (1, 0) 0.0\n",
      "100 (0, 1) 5554.200000000001 5554.200000000001 (1, 0) 0.0\n",
      "101 (1, 0) 5638.560000000001 5638.56 (0, 1) 9.094947017729282e-13\n",
      "102 (0, 1) 5722.920000000001 5722.920000000001 (1, 0) 0.0\n",
      "103 (1, 0) 5807.280000000001 5807.28 (0, 1) 9.094947017729282e-13\n",
      "104 (1, 0) 5891.64 5891.639999999999 (0, 1) 9.094947017729282e-13\n",
      "105 (0, 1) 5976.0 5976.0 (1, 0) 0.0\n",
      "106 (0, 1) 6060.360000000001 6060.360000000001 (1, 0) 0.0\n",
      "107 (0, 1) 6144.720000000001 6144.720000000001 (1, 0) 0.0\n",
      "108 (0, 1) 6229.080000000001 6229.08 (1, 0) 9.094947017729282e-13\n",
      "109 (0, 1) 6313.4400000000005 6313.4400000000005 (1, 0) 0.0\n",
      "110 (0, 1) 6397.8 6397.8 (1, 0) 0.0\n",
      "111 (0, 1) 6482.16 6482.16 (1, 0) 0.0\n",
      "112 (0, 1) 6566.52 6566.52 (1, 0) 0.0\n",
      "113 (1, 0) 6650.880000000001 6650.88 (0, 1) 9.094947017729282e-13\n",
      "114 (0, 1) 6735.240000000001 6735.240000000001 (1, 0) 0.0\n",
      "115 (0, 1) 6819.6 6819.6 (1, 0) 0.0\n",
      "116 (0, 1) 6903.960000000001 6903.960000000001 (1, 0) 0.0\n",
      "117 (0, 1) 6988.320000000001 6988.32 (1, 0) 9.094947017729282e-13\n",
      "118 (0, 1) 7072.68 7072.68 (1, 0) 0.0\n",
      "119 (0, 1) 7157.039999999999 7157.039999999999 (1, 0) 0.0\n",
      "120 (0, 1) 7241.400000000001 7241.399999999999 (1, 0) 1.8189894035458565e-12\n",
      "121 (0, 1) 7325.76 7325.76 (1, 0) 0.0\n",
      "122 (0, 1) 7410.120000000001 7410.120000000001 (1, 0) 0.0\n",
      "123 (0, 1) 7494.480000000001 7494.480000000001 (1, 0) 0.0\n",
      "124 (0, 1) 7578.84 7578.84 (1, 0) 0.0\n",
      "125 (0, 1) 7663.200000000001 7663.200000000001 (1, 0) 0.0\n",
      "126 (0, 1) 7747.560000000001 7747.560000000001 (1, 0) 0.0\n",
      "127 (0, 1) 7831.920000000001 7831.920000000001 (1, 0) 0.0\n",
      "128 (1, 0) 7916.280000000001 7916.28 (0, 1) 9.094947017729282e-13\n",
      "129 (0, 1) 8000.64 8000.639999999999 (1, 0) 9.094947017729282e-13\n",
      "130 (0, 1) 8085.0 8085.0 (1, 0) 0.0\n",
      "131 (0, 1) 8169.360000000001 8169.360000000001 (1, 0) 0.0\n",
      "132 (1, 0) 8253.720000000001 8253.72 (0, 1) 1.8189894035458565e-12\n",
      "133 (0, 1) 8338.08 8338.08 (1, 0) 0.0\n",
      "134 (0, 1) 8422.439999999999 8422.439999999999 (1, 0) 0.0\n",
      "135 (1, 0) 8506.800000000001 8506.8 (0, 1) 1.8189894035458565e-12\n",
      "136 (0, 1) 8591.16 8591.16 (1, 0) 0.0\n",
      "137 (1, 0) 8675.52 8675.519999999999 (0, 1) 1.8189894035458565e-12\n",
      "138 (0, 1) 8759.880000000001 8759.880000000001 (1, 0) 0.0\n",
      "139 (1, 0) 8844.240000000002 8844.24 (0, 1) 1.8189894035458565e-12\n",
      "140 (1, 0) 8928.600000000002 8928.6 (0, 1) 1.8189894035458565e-12\n",
      "141 (1, 0) 9012.960000000001 9012.96 (0, 1) 1.8189894035458565e-12\n",
      "142 (1, 0) 9097.320000000002 9097.32 (0, 1) 1.8189894035458565e-12\n",
      "143 (0, 1) 9181.68 9181.68 (1, 0) 0.0\n",
      "144 (1, 0) 9266.04 9266.039999999999 (0, 1) 1.8189894035458565e-12\n",
      "145 (1, 0) 9350.400000000001 9350.4 (0, 1) 1.8189894035458565e-12\n",
      "146 (1, 0) 9434.76 9434.759999999998 (0, 1) 1.8189894035458565e-12\n",
      "147 (0, 1) 9519.12 9519.12 (1, 0) 0.0\n",
      "148 (1, 0) 9603.480000000001 9603.48 (0, 1) 1.8189894035458565e-12\n",
      "149 (0, 1) 9687.84 9687.84 (1, 0) 0.0\n",
      "150 (1, 0) 9772.2 9772.199999999999 (0, 1) 1.8189894035458565e-12\n",
      "151 (0, 1) 9856.560000000001 9856.560000000001 (1, 0) 0.0\n",
      "152 (0, 1) 9940.92 9940.92 (1, 0) 0.0\n",
      "153 (0, 1) 10025.28 10025.28 (1, 0) 0.0\n",
      "154 (0, 1) 10109.64 10109.64 (1, 0) 0.0\n",
      "155 (0, 1) 10194.0 10194.0 (1, 0) 0.0\n",
      "156 (0, 1) 10278.359999999999 10278.359999999999 (1, 0) 0.0\n",
      "157 (1, 0) 10362.720000000001 10362.72 (0, 1) 1.8189894035458565e-12\n",
      "158 (1, 0) 10447.08 10447.079999999998 (0, 1) 1.8189894035458565e-12\n",
      "159 (1, 0) 10531.44 10531.439999999999 (0, 1) 1.8189894035458565e-12\n",
      "160 (0, 1) 10615.8 10615.8 (1, 0) 0.0\n",
      "161 (0, 1) 10700.160000000002 10700.160000000002 (1, 0) 0.0\n",
      "162 (0, 1) 10784.52 10784.52 (1, 0) 0.0\n",
      "163 (0, 1) 10868.880000000001 10868.880000000001 (1, 0) 0.0\n",
      "164 (1, 0) 10953.240000000002 10953.24 (0, 1) 1.8189894035458565e-12\n",
      "165 (0, 1) 11037.6 11037.6 (1, 0) 0.0\n",
      "166 (0, 1) 11121.96 11121.96 (1, 0) 0.0\n",
      "167 (0, 1) 11206.320000000002 11206.320000000002 (1, 0) 0.0\n",
      "168 (0, 1) 11290.680000000002 11290.68 (1, 0) 1.8189894035458565e-12\n",
      "169 (0, 1) 11375.04 11375.04 (1, 0) 0.0\n",
      "170 (0, 1) 11459.4 11459.4 (1, 0) 0.0\n",
      "171 (0, 1) 11543.76 11543.76 (1, 0) 0.0\n",
      "172 (0, 1) 11628.12 11628.119999999999 (1, 0) 1.8189894035458565e-12\n",
      "173 (1, 0) 11712.480000000001 11712.48 (0, 1) 1.8189894035458565e-12\n",
      "174 (0, 1) 11796.840000000002 11796.84 (1, 0) 1.8189894035458565e-12\n",
      "175 (0, 1) 11881.2 11881.199999999999 (1, 0) 1.8189894035458565e-12\n",
      "176 (0, 1) 11965.560000000001 11965.560000000001 (1, 0) 0.0\n",
      "177 (0, 1) 12049.92 12049.92 (1, 0) 0.0\n",
      "178 (0, 1) 12134.28 12134.28 (1, 0) 0.0\n"
     ]
    },
    {
     "name": "stdout",
     "output_type": "stream",
     "text": [
      "179 (1, 0) 12218.640000000001 12218.64 (0, 1) 1.8189894035458565e-12\n",
      "180 (0, 1) 12303.0 12303.0 (1, 0) 0.0\n",
      "181 (0, 1) 12387.359999999999 12387.359999999999 (1, 0) 0.0\n",
      "182 (0, 1) 12471.720000000001 12471.72 (1, 0) 1.8189894035458565e-12\n",
      "183 (0, 1) 12556.079999999998 12556.079999999998 (1, 0) 0.0\n",
      "184 (1, 0) 12640.440000000002 12640.44 (0, 1) 1.8189894035458565e-12\n",
      "185 (1, 0) 12724.8 12724.799999999997 (0, 1) 1.8189894035458565e-12\n",
      "186 (0, 1) 12809.16 12809.16 (1, 0) 0.0\n",
      "187 (0, 1) 12893.520000000002 12893.52 (1, 0) 1.8189894035458565e-12\n",
      "188 (1, 0) 12977.880000000001 12977.88 (0, 1) 1.8189894035458565e-12\n",
      "189 (0, 1) 13062.240000000002 13062.240000000002 (1, 0) 0.0\n",
      "190 (0, 1) 13146.599999999999 13146.599999999999 (1, 0) 0.0\n",
      "191 (0, 1) 13230.96 13230.96 (1, 0) 0.0\n",
      "192 (0, 1) 13315.320000000003 13315.320000000003 (1, 0) 0.0\n",
      "193 (0, 1) 13399.68 13399.68 (1, 0) 0.0\n",
      "194 (0, 1) 13484.040000000003 13484.040000000003 (1, 0) 0.0\n",
      "195 (1, 0) 13568.400000000001 13568.4 (0, 1) 1.8189894035458565e-12\n",
      "196 (1, 0) 13652.760000000002 13652.76 (0, 1) 1.8189894035458565e-12\n",
      "197 (0, 1) 13737.120000000003 13737.12 (1, 0) 1.8189894035458565e-12\n",
      "198 (0, 1) 13821.480000000001 13821.480000000001 (1, 0) 0.0\n",
      "199 (0, 1) 13905.840000000002 13905.84 (1, 0) 1.8189894035458565e-12\n"
     ]
    }
   ],
   "source": [
    "for i in range(200):\n",
    "    print(i, carteira(case_b1,case_corr_b1,i)[0],carteira(case_b1,case_corr_b1,i)[1],carteira(case_b1,case_corr_b1,i)[3],carteira(case_b1,case_corr_b1,i)[2], carteira(case_b1,case_corr_b1,i)[4])"
   ]
  },
  {
   "cell_type": "code",
   "execution_count": 218,
   "metadata": {},
   "outputs": [],
   "source": [
    "winsound.Beep(freq, duration)"
   ]
  },
  {
   "cell_type": "code",
   "execution_count": null,
   "metadata": {},
   "outputs": [],
   "source": [
    "#######################################\n",
    "####Exportar\n",
    "#########"
   ]
  },
  {
   "cell_type": "code",
   "execution_count": 195,
   "metadata": {},
   "outputs": [],
   "source": [
    "np.savetxt('Opcao_portf_h_dog_expandido.txt',solucao_b1[4][0,:])"
   ]
  },
  {
   "cell_type": "code",
   "execution_count": 194,
   "metadata": {},
   "outputs": [],
   "source": [
    "np.savetxt('Preco_portf_h_dog_expandido.txt',solucao_b1[3])"
   ]
  },
  {
   "cell_type": "code",
   "execution_count": 55,
   "metadata": {},
   "outputs": [],
   "source": [
    "#################################\n",
    "#######Individuais  e B2############"
   ]
  },
  {
   "cell_type": "code",
   "execution_count": null,
   "metadata": {},
   "outputs": [],
   "source": []
  },
  {
   "cell_type": "code",
   "execution_count": null,
   "metadata": {},
   "outputs": [],
   "source": []
  },
  {
   "cell_type": "code",
   "execution_count": 287,
   "metadata": {},
   "outputs": [],
   "source": [
    "################################################33\n",
    "###########Modelo de Competicao#################\n"
   ]
  },
  {
   "cell_type": "code",
   "execution_count": null,
   "metadata": {},
   "outputs": [],
   "source": []
  },
  {
   "cell_type": "code",
   "execution_count": 466,
   "metadata": {},
   "outputs": [
    {
     "data": {
      "text/html": [
       "<div>\n",
       "<style scoped>\n",
       "    .dataframe tbody tr th:only-of-type {\n",
       "        vertical-align: middle;\n",
       "    }\n",
       "\n",
       "    .dataframe tbody tr th {\n",
       "        vertical-align: top;\n",
       "    }\n",
       "\n",
       "    .dataframe thead th {\n",
       "        text-align: right;\n",
       "    }\n",
       "</style>\n",
       "<table border=\"1\" class=\"dataframe\">\n",
       "  <thead>\n",
       "    <tr style=\"text-align: right;\">\n",
       "      <th>Type</th>\n",
       "      <th>Payara</th>\n",
       "      <th>Pluma</th>\n",
       "      <th>LongTail</th>\n",
       "    </tr>\n",
       "  </thead>\n",
       "  <tbody>\n",
       "    <tr>\n",
       "      <td>CF</td>\n",
       "      <td>0.30</td>\n",
       "      <td>0.25</td>\n",
       "      <td>0.20</td>\n",
       "    </tr>\n",
       "    <tr>\n",
       "      <td>I_w</td>\n",
       "      <td>80.00</td>\n",
       "      <td>60.00</td>\n",
       "      <td>80.00</td>\n",
       "    </tr>\n",
       "    <tr>\n",
       "      <td>q</td>\n",
       "      <td>0.15</td>\n",
       "      <td>0.14</td>\n",
       "      <td>0.15</td>\n",
       "    </tr>\n",
       "    <tr>\n",
       "      <td>B</td>\n",
       "      <td>450.00</td>\n",
       "      <td>400.00</td>\n",
       "      <td>500.00</td>\n",
       "    </tr>\n",
       "    <tr>\n",
       "      <td>Owner</td>\n",
       "      <td>1.00</td>\n",
       "      <td>1.00</td>\n",
       "      <td>0.00</td>\n",
       "    </tr>\n",
       "  </tbody>\n",
       "</table>\n",
       "</div>"
      ],
      "text/plain": [
       "Type   Payara   Pluma  LongTail\n",
       "CF       0.30    0.25      0.20\n",
       "I_w     80.00   60.00     80.00\n",
       "q        0.15    0.14      0.15\n",
       "B      450.00  400.00    500.00\n",
       "Owner    1.00    1.00      0.00"
      ]
     },
     "execution_count": 466,
     "metadata": {},
     "output_type": "execute_result"
    }
   ],
   "source": [
    "#Importar Case 2 ou ABC ou ABCD como case \n",
    "case=pd.read_csv(\"Case_Guy.csv\", sep=';')\n",
    "case.set_index('Type', inplace=True)\n",
    "case.Owner=case.Owner.astype(int)\n",
    "case=case.astype(float).T\n",
    "case"
   ]
  },
  {
   "cell_type": "code",
   "execution_count": 467,
   "metadata": {},
   "outputs": [
    {
     "data": {
      "text/html": [
       "<div>\n",
       "<style scoped>\n",
       "    .dataframe tbody tr th:only-of-type {\n",
       "        vertical-align: middle;\n",
       "    }\n",
       "\n",
       "    .dataframe tbody tr th {\n",
       "        vertical-align: top;\n",
       "    }\n",
       "\n",
       "    .dataframe thead th {\n",
       "        text-align: right;\n",
       "    }\n",
       "</style>\n",
       "<table border=\"1\" class=\"dataframe\">\n",
       "  <thead>\n",
       "    <tr style=\"text-align: right;\">\n",
       "      <th></th>\n",
       "      <th>Payara</th>\n",
       "      <th>Pluma</th>\n",
       "      <th>LongTail</th>\n",
       "    </tr>\n",
       "    <tr>\n",
       "      <th>Type</th>\n",
       "      <th></th>\n",
       "      <th></th>\n",
       "      <th></th>\n",
       "    </tr>\n",
       "  </thead>\n",
       "  <tbody>\n",
       "    <tr>\n",
       "      <td>Payara</td>\n",
       "      <td>1.0</td>\n",
       "      <td>0.6</td>\n",
       "      <td>0.5</td>\n",
       "    </tr>\n",
       "    <tr>\n",
       "      <td>Pluma</td>\n",
       "      <td>0.6</td>\n",
       "      <td>1.0</td>\n",
       "      <td>0.6</td>\n",
       "    </tr>\n",
       "    <tr>\n",
       "      <td>LongTail</td>\n",
       "      <td>0.5</td>\n",
       "      <td>0.6</td>\n",
       "      <td>1.0</td>\n",
       "    </tr>\n",
       "  </tbody>\n",
       "</table>\n",
       "</div>"
      ],
      "text/plain": [
       "          Payara  Pluma  LongTail\n",
       "Type                             \n",
       "Payara       1.0    0.6       0.5\n",
       "Pluma        0.6    1.0       0.6\n",
       "LongTail     0.5    0.6       1.0"
      ]
     },
     "execution_count": 467,
     "metadata": {},
     "output_type": "execute_result"
    }
   ],
   "source": [
    "#Importar correlacao Case 2 ou ABC ou ABCD como case\n",
    "case_corr=pd.read_csv(\"Case_Guy_corr.csv\", sep=';')\n",
    "case_corr.set_index('Type', inplace=True)\n",
    "case_corr\n"
   ]
  },
  {
   "cell_type": "code",
   "execution_count": null,
   "metadata": {},
   "outputs": [],
   "source": [
    "#############################################"
   ]
  },
  {
   "cell_type": "code",
   "execution_count": null,
   "metadata": {},
   "outputs": [],
   "source": []
  },
  {
   "cell_type": "code",
   "execution_count": 465,
   "metadata": {},
   "outputs": [
    {
     "name": "stdout",
     "output_type": "stream",
     "text": [
      "melhor portfolio é: (0, 1) e o valor é: 160.74677831484792 [160.74677831484792, 0.0]\n"
     ]
    }
   ],
   "source": [
    "#################Formalizacao caso - com competição   \n",
    "\n",
    "####Separação do ativo do vizinho -Caso bem particular onde há um só ativo e \n",
    "sinal=1  #sinal up igual a 1 e sinal down igual a 0\n",
    "stra_rho=[]\n",
    "stra_rho.append(case_corr[case.columns[case.loc['Owner']==0]].iloc[0,0])\n",
    "stra_rho.append(case_corr[case.columns[case.loc['Owner']==0]].iloc[1,0])\n",
    "\n",
    "FC_viz=case[case.columns[case.loc['Owner']==0]].iloc[0,0]\n",
    "\n",
    "case_corr=case_corr.drop(case_corr[case.columns[case.loc['Owner']==0]])\n",
    "case_corr=case_corr.drop(case_corr[case.columns[case.loc['Owner']==0]],axis=1)\n",
    "\n",
    "\n",
    "case=case.drop(case[case.columns[case.loc['Owner']==0]],axis=1)\n",
    "\n",
    "\n",
    "\n",
    "\n",
    "                         \n",
    "                         \n",
    "fold=[]\n",
    "seq=[]\n",
    "P=50\n",
    "n=case.shape[1]\n",
    "perm=itertools.permutations(range(n))\n",
    "for k in list(perm):\n",
    "    seq.append(k)\n",
    "    #print(k)\n",
    "    m=np.zeros((2**(n-1),n))\n",
    "    p=np.zeros((2**(n-1),n))\n",
    "    pi=np.zeros((2**(n-1),n))\n",
    "    m[m==0]=np.nan\n",
    "    p[m==0]=np.nan\n",
    "    pi[pi==0]=np.nan\n",
    "    \n",
    "                         \n",
    "    #m[0,0]=case.iloc[0,k[0]] ### Capta da permutacao, o fc da Primeira na ordem de perfuracao\n",
    "    #pi[0,0]=m[0,0]*(V(P,case,0) - I(P,case,0)) -case.iloc[1,k[0]]\n",
    "    \n",
    "    if sinal==1:\n",
    "        \n",
    "        m[0,0]=case.iloc[0,k[0]] + stra_rho[k[0]]*np.sqrt(FC_viz*(1-FC_viz)*case.iloc[0,k[0]]*(1-case.iloc[0,k[0]]))/FC_viz \n",
    "        pi[0,0]=m[0,0]*(V(P,case,0) - I(case,0)) -case.iloc[1,k[0]]\n",
    "        #print(1,m[0,0],pi[0,0])\n",
    "    \n",
    "    elif sinal==0:\n",
    "        print(0)\n",
    "        m[0,0]=case.iloc[0,k[0]] - stra_rho[k[0]]*np.sqrt(FC_viz*(1-FC_viz)*case.iloc[0,k[0]]*(1-case.iloc[0,k[0]]))/(1-FC_viz) \n",
    "        pi[0,0]=m[0,0]*(V(P,case,0) - I(case,0)) -case.iloc[1,k[0]]\n",
    "        #print(0,m[0,0],pi[0,0])\n",
    "                         \n",
    "    else:\n",
    "        print(2)\n",
    "        m[0,0]=case.iloc[0,k[0]] ### Capta da permutacao, o fc da Primeira na ordem de perfuracao\n",
    "        pi[0,0]=m[0,0]*(V(P,case,0) - I(case,0)) -case.iloc[1,k[0]]\n",
    "        #print(2,m[0,0],pi[0,0])\n",
    "        \n",
    "    \n",
    "    \n",
    "                         \n",
    "                         \n",
    "    #Vetores Auxiliares\n",
    "    Ax_m=[]\n",
    "    Ax1_m=[]\n",
    "    Ax_pi=[]\n",
    "    Ax_lim=[]\n",
    "    ##Loop para criacao da matriz de FC e VME\n",
    "    for y in range(1,n,1):\n",
    "        Ax_m.append(case.iloc[0,k[y]])\n",
    "    \n",
    "    \n",
    "    for j in range(n-1):\n",
    "        p=0\n",
    "        for q in range(1+j,n,1):\n",
    "            for i in range(2**(j)):\n",
    "                p=p+1\n",
    "                #print(p-1,j,q,i,j)\n",
    "                CF_s=Ax_m[p-1] +case_corr.iloc[k[j],k[q]]*np.sqrt((m[i,j]-m[i,j]**2)*(Ax_m[p-1]-Ax_m[p-1]**2))/m[i,j]\n",
    "                Ax1_m.append(CF_s)\n",
    "                CF_ins=Ax_m[p-1] -case_corr.iloc[k[j],k[q]]*np.sqrt((m[i,j]-m[i,j]**2)*(Ax_m[p-1]-Ax_m[p-1]**2))/(1-m[i,j])\n",
    "                Ax1_m.append(CF_ins)\n",
    "                \n",
    "                Ax_pi.append(CF_s*(V(P,case,j+1) - I(case,j+1)) -case.iloc[1,k[j+1]])\n",
    "                Ax_pi.append(CF_ins*(V(P,case,j+1) - I(case,j+1)) -case.iloc[1,k[j+1]])\n",
    "                \n",
    "                a=np.minimum(Ax_m[p-1],m[i,j])*(1-np.maximum(Ax_m[p-1],m[i,j]))\n",
    "                b=np.maximum(Ax_m[p-1],m[i,j])*(1-np.minimum(Ax_m[p-1],m[i,j]))\n",
    "                Ax_lim.append(np.sqrt(a/b)>case_corr.iloc[k[j],k[q]])\n",
    "                \n",
    "                a=-np.sqrt(Ax_m[p-1]*m[i,j]/(1-Ax_m[p-1])*(1-m[i,j]))\n",
    "                b=-np.sqrt((1-Ax_m[p-1])*(1-m[i,j])/Ax_m[p-1]*m[i,j])\n",
    "                Ax_lim.append(np.maximum(a,b)<case_corr.iloc[k[j],k[q]])\n",
    "                \n",
    "\n",
    "        m[0:2*(i+1),j+1]=Ax1_m[0:2*(i+1)]\n",
    "        pi[0:2*(i+1),j+1]=Ax_pi[0:2*(i+1)]\n",
    "        \n",
    "        del Ax1_m[0:2*(i+1)]\n",
    "        \n",
    "        #print(Ax_lim)\n",
    "        Ax_m=Ax1_m\n",
    "        Ax1_m=[]\n",
    "        Ax_pi=[]\n",
    "        Ax_lim=[]\n",
    "    \n",
    "   # print(100*m)\n",
    "    #print(pi)\n",
    "    \n",
    "    for l in np.arange(n-2,-1,-1):\n",
    "        #print(l)\n",
    "        for g in range(2**(l)):\n",
    "            #print(pi[g,l],m[g,l], pi[2*g,l+1],(1-m[g,l]), pi[2*g+1,l+1]   )\n",
    "            pi[g,l]= np.maximum(0,pi[g,l] + m[g,l]*np.maximum(0,pi[2*g,l+1]) + (1-m[g,l])*np.maximum(0,pi[2*g+1,l+1]))\n",
    "    #print(pi)\n",
    "    fold.append(pi[0,0])\n",
    "    \n",
    "\n",
    "###Fornece o melhor portfolio seq_winner e o valor do porfolio winner\n",
    "winner=np.amax(fold)\n",
    "Seq_winner=seq[np.argmax(fold)]\n",
    "winner=np.maximum(0,winner)\n",
    "if winner==0:\n",
    "    Seq_winner='W'\n",
    "\n",
    "    \n",
    "    \n",
    "            \n",
    "\n",
    "    #print(fold)\n",
    "    #print(m)\n",
    "print('melhor portfolio é:',Seq_winner, 'e o valor é:', winner, fold)\n",
    "#print(fold)\n",
    "    \n",
    "    \n",
    "    \n",
    "    \n",
    "    \n",
    "    "
   ]
  },
  {
   "cell_type": "code",
   "execution_count": null,
   "metadata": {},
   "outputs": [],
   "source": []
  },
  {
   "cell_type": "code",
   "execution_count": 197,
   "metadata": {},
   "outputs": [
    {
     "name": "stdout",
     "output_type": "stream",
     "text": [
      "up: melhor portfolio é: (1, 0) e o valor é: 105.52316521446231 [92.60790195949767, 105.52316521446231]\n"
     ]
    }
   ],
   "source": [
    "print('up: melhor portfolio é: (1, 0) e o valor é: 105.52316521446231 [92.60790195949767, 105.52316521446231]')"
   ]
  },
  {
   "cell_type": "code",
   "execution_count": 202,
   "metadata": {},
   "outputs": [
    {
     "name": "stdout",
     "output_type": "stream",
     "text": [
      "down: melhor portfolio é: W e o valor é: 0.0 [0.0, 0.0]\n"
     ]
    }
   ],
   "source": [
    "print('down: melhor portfolio é: W e o valor é: 0.0 [0.0, 0.0]')"
   ]
  },
  {
   "cell_type": "code",
   "execution_count": 207,
   "metadata": {},
   "outputs": [
    {
     "name": "stdout",
     "output_type": "stream",
     "text": [
      "01: melhor portfolio é: (1, 0) e o valor é: 7.343134832984433 [6.843134832984429, 7.343134832984433]\n"
     ]
    }
   ],
   "source": [
    "print('01: melhor portfolio é: (1, 0) e o valor é: 7.343134832984433 [6.843134832984429, 7.343134832984433]')"
   ]
  },
  {
   "cell_type": "code",
   "execution_count": 435,
   "metadata": {},
   "outputs": [],
   "source": [
    "def carteira_estra(case,case_corr,P,sinal):\n",
    "    #################Formalizacao caso 4 - correto\n",
    "    \n",
    "    sinal=1  #sinal up igual a 1 e sinal down igual a 0\n",
    "    stra_rho=[]\n",
    "    stra_rho.append(case_corr[case.columns[case.loc['Owner']==0]].iloc[0,0])\n",
    "    stra_rho.append(case_corr[case.columns[case.loc['Owner']==0]].iloc[1,0])\n",
    "\n",
    "    FC_viz=case[case.columns[case.loc['Owner']==0]].iloc[0,0]\n",
    "    \n",
    "    case_corr=case_corr.drop(case_corr[case.columns[case.loc['Owner']==0]])\n",
    "    case_corr=case_corr.drop(case_corr[case.columns[case.loc['Owner']==0]],axis=1)\n",
    "\n",
    "\n",
    "    case=case.drop(case[case.columns[case.loc['Owner']==0]],axis=1)\n",
    "\n",
    "    \n",
    "    \n",
    "    \n",
    "    fold=[]\n",
    "    seq=[]\n",
    "    #P=50\n",
    "    n=case.shape[1]\n",
    "    perm=itertools.permutations(range(n))\n",
    "    for k in list(perm):\n",
    "        seq.append(k)\n",
    "        #print(k)\n",
    "        m=np.zeros((2**(n-1),n))\n",
    "        p=np.zeros((2**(n-1),n))\n",
    "        pi=np.zeros((2**(n-1),n))\n",
    "        m[m==0]=np.nan\n",
    "        p[m==0]=np.nan\n",
    "        pi[pi==0]=np.nan\n",
    "        \n",
    "        \n",
    "        if sinal==1:\n",
    "            m[0,0]=case.iloc[0,k[0]] + stra_rho[k[0]]*np.sqrt(FC_viz*(1-FC_viz)*case.iloc[0,k[0]]*(1-case.iloc[0,k[0]]))/FC_viz \n",
    "            pi[0,0]=m[0,0]*(P*case.iloc[2,k[0]]*case.iloc[3,k[0]] - (5.35*case.iloc[3,k[0]]+650)) -case.iloc[1,k[0]]\n",
    "        \n",
    "        elif sinal==0:\n",
    "            m[0,0]=case.iloc[0,k[0]] - stra_rho[k[0]]*np.sqrt(FC_viz*(1-FC_viz)*case.iloc[0,k[0]]*(1-case.iloc[0,k[0]]))/(1-FC_viz) \n",
    "            pi[0,0]=m[0,0]*(P*case.iloc[2,k[0]]*case.iloc[3,k[0]] - (5.35*case.iloc[3,k[0]]+650)) -case.iloc[1,k[0]]\n",
    "        \n",
    "        else:\n",
    "            #print(2)\n",
    "            m[0,0]=case.iloc[0,k[0]] ### Capta da permutacao, o fc da Primeira na ordem de perfuracao\n",
    "            pi[0,0]=m[0,0]*(P*case.iloc[2,k[0]]*case.iloc[3,k[0]] - (5.35*case.iloc[5,k[0]]+650)) -case.iloc[1,k[0]]\n",
    "        \n",
    "\n",
    "        \n",
    "\n",
    "        #Vetores Auxiliares\n",
    "        Ax_m=[]\n",
    "        Ax1_m=[]\n",
    "        Ax_pi=[]\n",
    "        ##Loop para criacao da matriz de FC e VME\n",
    "        for y in range(1,n,1):\n",
    "            Ax_m.append(case.iloc[0,k[y]])\n",
    "\n",
    "\n",
    "        for j in range(n-1):\n",
    "            p=0\n",
    "            for q in range(1+j,n,1):\n",
    "                for i in range(2**(j)):\n",
    "                    p=p+1\n",
    "                    #print(p-1,j,q,i,j)\n",
    "                    CF_s=Ax_m[p-1] +case_corr.iloc[k[j],k[q]]*np.sqrt((m[i,j]-m[i,j]**2)*(Ax_m[p-1]-Ax_m[p-1]**2))/m[i,j]\n",
    "                    Ax1_m.append(CF_s)\n",
    "                    CF_ins=Ax_m[p-1] -case_corr.iloc[k[j],k[q]]*np.sqrt((m[i,j]-m[i,j]**2)*(Ax_m[p-1]-Ax_m[p-1]**2))/(1-m[i,j])\n",
    "                    Ax1_m.append(CF_ins)\n",
    "\n",
    "                    Ax_pi.append(CF_s*(P*case.iloc[2,k[j+1]]*case.iloc[3,k[j+1]] - (5.35*case.iloc[3,k[j+1]]+650)) -case.iloc[1,k[j+1]])\n",
    "                    Ax_pi.append(CF_ins*(P*case.iloc[2,k[j+1]]*case.iloc[3,k[j+1]] - (5.35*case.iloc[3,k[j+1]]+650)) -case.iloc[1,k[j+1]])\n",
    "\n",
    "\n",
    "            m[0:2*(i+1),j+1]=Ax1_m[0:2*(i+1)]\n",
    "            pi[0:2*(i+1),j+1]=Ax_pi[0:2*(i+1)]\n",
    "\n",
    "            del Ax1_m[0:2*(i+1)]\n",
    "\n",
    "            Ax_m=Ax1_m\n",
    "            Ax1_m=[]\n",
    "            Ax_pi=[]\n",
    "\n",
    "        #print(100*m)\n",
    "        #print(pi)\n",
    "\n",
    "        for l in np.arange(n-2,-1,-1):\n",
    "            #print(l)\n",
    "            for g in range(2**(l)):\n",
    "                #print(pi[g,l],m[g,l], pi[2*g,l+1],(1-m[g,l]), pi[2*g+1,l+1]   )\n",
    "                pi[g,l]= np.maximum(0,pi[g,l] + m[g,l]*np.maximum(0,pi[2*g,l+1]) + (1-m[g,l])*np.maximum(0,pi[2*g+1,l+1]))\n",
    "        #print(pi)\n",
    "        fold.append(pi[0,0])\n",
    "\n",
    "\n",
    "    ###Fornece o melhor portfolio seq_winner e o valor do porfolio winner\n",
    "    winner=np.amax(fold)\n",
    "    Seq_winner=seq[np.argmax(fold)]\n",
    "    winner=np.maximum(0,winner)\n",
    "    if winner==0:\n",
    "        Seq_winner='W'\n",
    "\n",
    "\n",
    "\n",
    "\n",
    "\n",
    "        #print(fold)\n",
    "        #print(m)\n",
    "    #print('melhor portfolio é:',Seq_winner, 'e o valor é:', winner, fold)\n",
    "    #print(fold)\n",
    "    return[Seq_winner,winner,fold]\n",
    "\n",
    "\n",
    "\n",
    "\n",
    "\n"
   ]
  },
  {
   "cell_type": "code",
   "execution_count": 436,
   "metadata": {},
   "outputs": [
    {
     "data": {
      "text/plain": [
       "[(0, 1), 160.74677831484792, [160.74677831484792, 0.0]]"
      ]
     },
     "execution_count": 436,
     "metadata": {},
     "output_type": "execute_result"
    }
   ],
   "source": [
    "carteira_estra(case,case_corr,50,1)"
   ]
  },
  {
   "cell_type": "code",
   "execution_count": 285,
   "metadata": {},
   "outputs": [
    {
     "data": {
      "text/plain": [
       "14.011472926007304"
      ]
     },
     "execution_count": 285,
     "metadata": {},
     "output_type": "execute_result"
    }
   ],
   "source": [
    "diffinexpcart(case,case_corr,50,r,delta,sigma,tau)[0]"
   ]
  },
  {
   "cell_type": "code",
   "execution_count": 286,
   "metadata": {},
   "outputs": [],
   "source": [
    "def diffinexpcartestra(case,case_corr,sinal,P,r,div,sigma,tau):\n",
    "    #############################################################\n",
    "    #######Método por diferenças finitas explícitas##############\n",
    "    accur=0.05  #Porcentagem de acurácia\n",
    "    \n",
    "    #####Solução por diferenças finita explícitas###\n",
    "    #Precisão em e intervalo da célula em V\n",
    "    deltaP=P*accur\n",
    "    \n",
    "    # M são as divisões do grid em V\n",
    "    #Perpetuidade vcritico não esta na programacao\n",
    "    #M= int(1.1*vcritico(I,r,div,sigma,tau)[2]/deltaV) # Max é 10% acima do gatilho em perpetuidade. Vcrit- com gati precisa de tau\n",
    "    Pmax=4*P\n",
    "    M=int(Pmax/deltaP)\n",
    "    PGrid=int(P/deltaP) #Ponto do grid onde esta P_0. \n",
    "    \n",
    "    #deltat= (deltaP**2)/((sigma**2)*((3*I)**2)) #Convergência: Critério do peso central >=0. Pmax=3I ><1.1Gatilho_perp\n",
    "    deltat= (deltaP**2)/((sigma**2)*(Pmax**2))\n",
    "    N= int(tau/deltat) +1\n",
    "    \n",
    "    df=1/(1+(r*deltat)) # fator de desconto\n",
    "    \n",
    "    \n",
    "    #Vetor Pt\n",
    "    Pt=np.zeros(M+1)\n",
    "    Gatilho=np.zeros((N+1,M+1), dtype=object)\n",
    "    F=np.zeros((N+1,M+1))\n",
    "    deltat=tau/N\n",
    "    for i in range(M+1):\n",
    "        Pt[i]= i*deltaP\n",
    "        solution=carteira_estra(case,case_ABC_corr,Pt[i],sinal)\n",
    "        F[N,i]=solution[1]\n",
    "        #print(solution[0])\n",
    "        Gatilho[N,i]=solution[0]\n",
    "        #F[N,i]=np.maximum(0,Pt[i]-I)\n",
    "    #Gatilho[N]=I\n",
    "    \n",
    "    ##############Loop################\n",
    "    for j in range(N-1,-1,-1): #de N-1 até zero(-1) pulando em -1\n",
    "        for i in range(1,M,1): # de 1 até M-1 pulando em 1\n",
    "            pu= 0.5*((sigma**2)*(i**2) + ((r - div)*i))*deltat\n",
    "            pm = 1 - (sigma**2)*(i**2)*deltat\n",
    "            pdown = 0.5*((sigma**2)*(i**2) - ((r - div)*i))*deltat\n",
    "            F[j,i]= df*(pu*F[j+1,i+1] + pm*F[j+1,i] + pdown*F[j+1,i - 1])\n",
    "            \n",
    "            ###Vetor Gatilho####\n",
    "            #if F[j,i]< Vt[i]-I and F[j,i-1]>Pt[i-1]-I:\n",
    "            #    Gatilho[j]=(Pt[i]+Vt[i-1])/2\n",
    "            \n",
    "            solution=carteira_estra(case,case_corr,Pt[i],sinal)\n",
    "            if F[j,i]>=solution[1]: #opcao americana e gatilho\n",
    "                Gatilho[j,i]='W'\n",
    "            else:\n",
    "                Gatilho[j,i]=solution[0]\n",
    "                F[j,i]=solution[1]\n",
    "        \n",
    "        \n",
    "        F[j,0]=0\n",
    "        Gatilho[j,0]='W'\n",
    "        solution=carteira_estra(case,case_corr,Pt[i],sinal)\n",
    "        F[j,M]=solution[1]\n",
    "        Gatilho[j,M]=solution[0]\n",
    "        \n",
    "    T=np.linspace(0,tau,num=N+1)\n",
    "    \n",
    "    ###############Dataframe do Gatilho##############\n",
    "    #print(Gatilho.shape[0])\n",
    "    dframe=pd.DataFrame(list(range(Gatilho.shape[0])))\n",
    "    dframe.columns=['Time']\n",
    "    dframe= dframe.set_index('Time')\n",
    "\n",
    "    for i in range(Gatilho.shape[0]):\n",
    "        check=Gatilho[i,0]\n",
    "        for j in range(Gatilho.shape[1]):\n",
    "            if check == Gatilho[i,j]:\n",
    "                check=check\n",
    "            else:\n",
    "                #print(i,j,'{}'.format(check),Gatilho[i,j],j)\n",
    "                dframe.loc[i,'{}'.format(Gatilho[i,j])]=Pt[j]\n",
    "                check=Gatilho[i,j]\n",
    "    dframe.index=T\n",
    "    \n",
    "    ###Retorna A opção hoje, Gatilho, Tempo, Vt, Matrix para Gráficos\n",
    "    return[F[0,PGrid],dframe,T,Pt,F]\n",
    "\n"
   ]
  },
  {
   "cell_type": "code",
   "execution_count": 321,
   "metadata": {},
   "outputs": [],
   "source": [
    "def diffinexp(case,V,r,div,sigma,tau):\n",
    "    #############################################################\n",
    "    #######Método por diferenças finitas explícitas##############\n",
    "    accur=0.1  #Porcentagem de acurácia\n",
    "    \n",
    "    #####Solução por diferenças finita explícitas###\n",
    "    #Precisão em e intervalo da célula em V\n",
    "    deltaV=V*accur\n",
    "    \n",
    "    # M são as divisões do grid em V\n",
    "    #forcei a barra- coloque 3 vezes a V de perpetuidade. Estava 1,1 \n",
    "    Vmax=4*V\n",
    "    M= int(Vmax/deltaV) # Max é 10% acima do gatilho em perpetuidade. Vcrit- com gati precisa de tau\n",
    "    VGrid=int(V/deltaV) #Ponto do grid onde esta V_0. \n",
    "    deltat= (deltaV**2)/((sigma**2)*(Vmax**2)) #Convergência: Critério do peso central >=0. Vmax=3I ><1.1Gatilho_perp\n",
    "    N= int(tau/deltat) +1\n",
    "    \n",
    "    df=1/(1+(r*deltat)) # fator de desconto\n",
    "    \n",
    "    #Vetor Vt\n",
    "    Vt=np.zeros(M+1)\n",
    "    Gatilho=np.zeros(N+1)\n",
    "    F=np.zeros((N+1,M+1))\n",
    "    deltat=tau/N\n",
    "    for i in range(M+1):\n",
    "        Vt[i]= i*deltaV\n",
    "        #F[N,i]=np.maximum(0,Vt[i]-I)\n",
    "        F[N,i]=np.maximum(0,caseR.iloc[0,0]*(Vt[i]*case.iloc[3,0]*case.iloc[4,0] - (Vt[i]/50)*case.iloc[5,0]) -case.iloc[1,0])\n",
    "    Gatilho[N]=caseR.iloc[0,0]*(Vt[i]/50)*case.iloc[5,0] + case.iloc[1,0]\n",
    "    \n",
    "    ##############Loop################\n",
    "    for j in range(N-1,-1,-1): #de N-1 até zero(-1) pulando em -1\n",
    "        for i in range(1,M,1): # de 1 até M-1 pulando em 1\n",
    "            pu= 0.5*((sigma**2)*(i**2) + ((r - div)*i))*deltat\n",
    "            pm = 1 - (sigma**2)*(i**2)*deltat\n",
    "            pd = 0.5*((sigma**2)*(i**2) - ((r - div)*i))*deltat\n",
    "            F[j,i]= df*(pu*F[j+1,i+1] + pm*F[j+1,i] + pd*F[j+1,i - 1])\n",
    "            \n",
    "            ###Vetor Gatilho####\n",
    "            if F[j,i]< caseR.iloc[0,0]*(Vt[i]*case.iloc[3,0]*case.iloc[4,0] - (Vt[i]/50)*case.iloc[5,0]) -case.iloc[1,0] and F[j,i-1]>caseR.iloc[0,0]*(Vt[i-1]*case.iloc[3,0]*case.iloc[4,0] - (Vt[i-1]/50)*case.iloc[5,0]) -case.iloc[1,0]:\n",
    "                Gatilho[j]=(Vt[i]+Vt[i-1])/2\n",
    "            \n",
    "            F[j,i]=np.maximum(caseR.iloc[0,0]*(Vt[i]*case.iloc[3,0]*case.iloc[4,0] - (Vt[i]/50)*case.iloc[5,0]) -case.iloc[1,0], F[j,i])  #opção americana\n",
    "        \n",
    "        \n",
    "        F[j,0]=0\n",
    "        F[j,M]=caseR.iloc[0,0]*(Vt[i]*case.iloc[3,0]*case.iloc[4,0] - (Vt[i]/50)*case.iloc[5,0]) -case.iloc[1,0]\n",
    "        \n",
    "        \n",
    "    T=np.linspace(0,tau,num=len(Gatilho))\n",
    "    \n",
    "    ###Retorna A opção hoje, Gatilho, Tempo, Vt, Matrix para Gráficos\n",
    "    return[F[0,VGrid],Gatilho,T,Vt,F]\n",
    "\n"
   ]
  },
  {
   "cell_type": "code",
   "execution_count": 301,
   "metadata": {},
   "outputs": [
    {
     "name": "stdout",
     "output_type": "stream",
     "text": [
      "14.011472926007304\n"
     ]
    }
   ],
   "source": [
    "start=time.time()\n",
    "\n",
    "r2=diffinexpcartestra(case,case_corr,2,50,r,delta,sigma,tau)\n",
    "print(r2[0])"
   ]
  },
  {
   "cell_type": "code",
   "execution_count": 302,
   "metadata": {},
   "outputs": [],
   "source": [
    "r1=diffinexpcartestra(case,case_corr,1,50,r,delta,sigma,tau)"
   ]
  },
  {
   "cell_type": "code",
   "execution_count": 303,
   "metadata": {},
   "outputs": [],
   "source": [
    "r0=diffinexpcartestra(case,case_corr,0,50,r,delta,sigma,tau)"
   ]
  },
  {
   "cell_type": "code",
   "execution_count": 304,
   "metadata": {},
   "outputs": [
    {
     "data": {
      "text/plain": [
       "23.248679387511107"
      ]
     },
     "execution_count": 304,
     "metadata": {},
     "output_type": "execute_result"
    }
   ],
   "source": [
    "FC_viz*r1[0] + (1-FC_viz)*r0[0]"
   ]
  },
  {
   "cell_type": "code",
   "execution_count": 305,
   "metadata": {},
   "outputs": [
    {
     "name": "stdout",
     "output_type": "stream",
     "text": [
      "minutos- 34.52971352338791\n"
     ]
    }
   ],
   "source": [
    "cpu=time.time()-start\n",
    "print('minutos-',cpu/60)\n"
   ]
  },
  {
   "cell_type": "code",
   "execution_count": 330,
   "metadata": {},
   "outputs": [
    {
     "name": "stdout",
     "output_type": "stream",
     "text": [
      "minutos- 7.226902592182159\n"
     ]
    }
   ],
   "source": [
    "start=time.time()\n",
    "rabc=diffinexpcart(case_ABC,case_ABC_corr,50,r,delta,sigma,tau)\n",
    "cpu=time.time()-start\n",
    "print('minutos-',cpu/60)\n"
   ]
  },
  {
   "cell_type": "code",
   "execution_count": null,
   "metadata": {},
   "outputs": [],
   "source": []
  },
  {
   "cell_type": "code",
   "execution_count": 325,
   "metadata": {},
   "outputs": [
    {
     "data": {
      "text/html": [
       "<div>\n",
       "<style scoped>\n",
       "    .dataframe tbody tr th:only-of-type {\n",
       "        vertical-align: middle;\n",
       "    }\n",
       "\n",
       "    .dataframe tbody tr th {\n",
       "        vertical-align: top;\n",
       "    }\n",
       "\n",
       "    .dataframe thead th {\n",
       "        text-align: right;\n",
       "    }\n",
       "</style>\n",
       "<table border=\"1\" class=\"dataframe\">\n",
       "  <thead>\n",
       "    <tr style=\"text-align: right;\">\n",
       "      <th>Type</th>\n",
       "      <th>R</th>\n",
       "    </tr>\n",
       "  </thead>\n",
       "  <tbody>\n",
       "    <tr>\n",
       "      <td>CF</td>\n",
       "      <td>0.20</td>\n",
       "    </tr>\n",
       "    <tr>\n",
       "      <td>I_w</td>\n",
       "      <td>50.00</td>\n",
       "    </tr>\n",
       "    <tr>\n",
       "      <td>P</td>\n",
       "      <td>50.00</td>\n",
       "    </tr>\n",
       "    <tr>\n",
       "      <td>q</td>\n",
       "      <td>0.12</td>\n",
       "    </tr>\n",
       "    <tr>\n",
       "      <td>B</td>\n",
       "      <td>700.00</td>\n",
       "    </tr>\n",
       "    <tr>\n",
       "      <td>I_d</td>\n",
       "      <td>4000.00</td>\n",
       "    </tr>\n",
       "    <tr>\n",
       "      <td>Owner</td>\n",
       "      <td>0.00</td>\n",
       "    </tr>\n",
       "  </tbody>\n",
       "</table>\n",
       "</div>"
      ],
      "text/plain": [
       "Type         R\n",
       "CF        0.20\n",
       "I_w      50.00\n",
       "P        50.00\n",
       "q         0.12\n",
       "B       700.00\n",
       "I_d    4000.00\n",
       "Owner     0.00"
      ]
     },
     "execution_count": 325,
     "metadata": {},
     "output_type": "execute_result"
    }
   ],
   "source": [
    "caseR=case[case.columns[case.loc['Owner']==0]]\n",
    "caseR"
   ]
  },
  {
   "cell_type": "code",
   "execution_count": 320,
   "metadata": {},
   "outputs": [
    {
     "name": "stdout",
     "output_type": "stream",
     "text": [
      "VME-R -10.0\n"
     ]
    }
   ],
   "source": [
    "\n",
    "\n",
    "print('VME-R',caseR.iloc[0,0]*(caseR.iloc[2,0]*caseR.iloc[3,0]*caseR.iloc[4,0] - (caseR.iloc[2,0]/50)*caseR.iloc[5,0]) -caseR.iloc[1,0])\n"
   ]
  },
  {
   "cell_type": "code",
   "execution_count": 323,
   "metadata": {},
   "outputs": [],
   "source": [
    "rr=diffinexp(caseR,50,r,delta,sigma,tau)"
   ]
  },
  {
   "cell_type": "code",
   "execution_count": 336,
   "metadata": {},
   "outputs": [
    {
     "name": "stdout",
     "output_type": "stream",
     "text": [
      "Portfolio sem considerar o vizinho: 14.011472926007304\n",
      "Portfolio considerando o vizinho: 23.248679387511107\n",
      "Diferença - Valor adicionado pela informação do vizinho: 9.237206461503803\n",
      "Portfolio do vizinho: 1.9112132260213393\n",
      "Portfolio incorporando o ativo do vizinho: 27.68702560763952\n",
      "Diferença - Incorporar ou não o ativo do vizinho: 4.4383462201284125\n"
     ]
    }
   ],
   "source": [
    "####\n",
    "print('Portfolio sem considerar o vizinho:', r2[0])\n",
    "print('Portfolio considerando o vizinho:',FC_viz*r1[0] + (1-FC_viz)*r0[0])\n",
    "print('Diferença - Valor adicionado pela informação do vizinho:',FC_viz*r1[0] + (1-FC_viz)*r0[0] - r2[0] )\n",
    "print('Portfolio do vizinho:', rr[0])\n",
    "print('Portfolio incorporando o ativo do vizinho:',rabc[0])\n",
    "print('Diferença - Incorporar ou não o ativo do vizinho:',rabc[0]-FC_viz*r1[0] - (1-FC_viz)*r0[0])"
   ]
  },
  {
   "cell_type": "code",
   "execution_count": null,
   "metadata": {},
   "outputs": [],
   "source": []
  }
 ],
 "metadata": {
  "kernelspec": {
   "display_name": "Python 3",
   "language": "python",
   "name": "python3"
  },
  "language_info": {
   "codemirror_mode": {
    "name": "ipython",
    "version": 3
   },
   "file_extension": ".py",
   "mimetype": "text/x-python",
   "name": "python",
   "nbconvert_exporter": "python",
   "pygments_lexer": "ipython3",
   "version": "3.7.4"
  }
 },
 "nbformat": 4,
 "nbformat_minor": 2
}
