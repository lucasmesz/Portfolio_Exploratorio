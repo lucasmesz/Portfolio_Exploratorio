{
 "cells": [
  {
   "cell_type": "code",
   "execution_count": 1,
   "metadata": {},
   "outputs": [],
   "source": [
    "import numpy as np\n",
    "import pandas as pd\n",
    "import matplotlib.pyplot as plt\n",
    "%matplotlib inline\n",
    "import seaborn as sns\n",
    "import quandl\n",
    "import statsmodels.formula.api as smf\n",
    "from matplotlib.ticker import PercentFormatter\n",
    "from matplotlib.dates import DateFormatter"
   ]
  },
  {
   "cell_type": "code",
   "execution_count": 2,
   "metadata": {},
   "outputs": [],
   "source": [
    "#PIPE para baixar os arquivos da plataforma quandl\n",
    "\n",
    "#quandl.ApiConfig.api_key = \"key-code\""
   ]
  },
  {
   "cell_type": "code",
   "execution_count": 3,
   "metadata": {},
   "outputs": [
    {
     "data": {
      "text/plain": [
       "[]"
      ]
     },
     "execution_count": 3,
     "metadata": {},
     "output_type": "execute_result"
    },
    {
     "data": {
      "image/png": "[encoded data removed]",
      "text/plain": [
       "<Figure size 432x288 with 1 Axes>"
      ]
     },
     "metadata": {},
     "output_type": "display_data"
    }
   ],
   "source": [
    "###3-month Treasury Constant Maturity Rate\n",
    "#https://www.quandl.com/data/FRED/DGS3MO-3-Month-Treasury-Constant-Maturity-Rate\n",
    "#DGS3=quandl.get(\"FRED/DGS3MO\")\n",
    "#DGS3.to_csv('FRED_DGS3_2020_08_03.csv')\n",
    "\n",
    "#Importar o arquivo salva em csv\n",
    "DGS3=pd.read_csv('FRED_DGS3_2020_08_03.csv', index_col=0)\n",
    "sns.set(style=\"darkgrid\")\n",
    "DGS3.plot()\n",
    "plt.legend(('3-Month-Treasury','FRED'))\n",
    "plt.ylabel('Rate(%)')\n",
    "plt.xticks(rotation=45)\n",
    "plt.plot()\n"
   ]
  },
  {
   "cell_type": "code",
   "execution_count": 4,
   "metadata": {},
   "outputs": [
    {
     "data": {
      "text/html": [
       "<div>\n",
       "<style scoped>\n",
       "    .dataframe tbody tr th:only-of-type {\n",
       "        vertical-align: middle;\n",
       "    }\n",
       "\n",
       "    .dataframe tbody tr th {\n",
       "        vertical-align: top;\n",
       "    }\n",
       "\n",
       "    .dataframe thead th {\n",
       "        text-align: right;\n",
       "    }\n",
       "</style>\n",
       "<table border=\"1\" class=\"dataframe\">\n",
       "  <thead>\n",
       "    <tr style=\"text-align: right;\">\n",
       "      <th></th>\n",
       "      <th>Value</th>\n",
       "    </tr>\n",
       "    <tr>\n",
       "      <th>Date</th>\n",
       "      <th></th>\n",
       "    </tr>\n",
       "  </thead>\n",
       "  <tbody>\n",
       "    <tr>\n",
       "      <td>1981-09-01</td>\n",
       "      <td>17.01</td>\n",
       "    </tr>\n",
       "    <tr>\n",
       "      <td>1981-09-02</td>\n",
       "      <td>16.65</td>\n",
       "    </tr>\n",
       "    <tr>\n",
       "      <td>1981-09-03</td>\n",
       "      <td>16.96</td>\n",
       "    </tr>\n",
       "    <tr>\n",
       "      <td>1981-09-04</td>\n",
       "      <td>16.64</td>\n",
       "    </tr>\n",
       "    <tr>\n",
       "      <td>1981-09-08</td>\n",
       "      <td>16.54</td>\n",
       "    </tr>\n",
       "  </tbody>\n",
       "</table>\n",
       "</div>"
      ],
      "text/plain": [
       "            Value\n",
       "Date             \n",
       "1981-09-01  17.01\n",
       "1981-09-02  16.65\n",
       "1981-09-03  16.96\n",
       "1981-09-04  16.64\n",
       "1981-09-08  16.54"
      ]
     },
     "execution_count": 4,
     "metadata": {},
     "output_type": "execute_result"
    }
   ],
   "source": [
    "DGS3.head()"
   ]
  },
  {
   "cell_type": "code",
   "execution_count": 5,
   "metadata": {},
   "outputs": [
    {
     "data": {
      "text/html": [
       "<div>\n",
       "<style scoped>\n",
       "    .dataframe tbody tr th:only-of-type {\n",
       "        vertical-align: middle;\n",
       "    }\n",
       "\n",
       "    .dataframe tbody tr th {\n",
       "        vertical-align: top;\n",
       "    }\n",
       "\n",
       "    .dataframe thead th {\n",
       "        text-align: right;\n",
       "    }\n",
       "</style>\n",
       "<table border=\"1\" class=\"dataframe\">\n",
       "  <thead>\n",
       "    <tr style=\"text-align: right;\">\n",
       "      <th></th>\n",
       "      <th>F1</th>\n",
       "      <th>F2</th>\n",
       "      <th>F3</th>\n",
       "      <th>F4</th>\n",
       "      <th>F5</th>\n",
       "      <th>F6</th>\n",
       "      <th>F7</th>\n",
       "      <th>F8</th>\n",
       "      <th>F9</th>\n",
       "      <th>F10</th>\n",
       "      <th>F11</th>\n",
       "      <th>F12</th>\n",
       "      <th>F13</th>\n",
       "      <th>F14</th>\n",
       "      <th>F15</th>\n",
       "      <th>F16</th>\n",
       "      <th>F17</th>\n",
       "      <th>F18</th>\n",
       "      <th>F19</th>\n",
       "      <th>F20</th>\n",
       "    </tr>\n",
       "    <tr>\n",
       "      <th>Date</th>\n",
       "      <th></th>\n",
       "      <th></th>\n",
       "      <th></th>\n",
       "      <th></th>\n",
       "      <th></th>\n",
       "      <th></th>\n",
       "      <th></th>\n",
       "      <th></th>\n",
       "      <th></th>\n",
       "      <th></th>\n",
       "      <th></th>\n",
       "      <th></th>\n",
       "      <th></th>\n",
       "      <th></th>\n",
       "      <th></th>\n",
       "      <th></th>\n",
       "      <th></th>\n",
       "      <th></th>\n",
       "      <th></th>\n",
       "      <th></th>\n",
       "    </tr>\n",
       "  </thead>\n",
       "  <tbody>\n",
       "    <tr>\n",
       "      <td>1996-01-03</td>\n",
       "      <td>19.89</td>\n",
       "      <td>19.34</td>\n",
       "      <td>18.90</td>\n",
       "      <td>18.58</td>\n",
       "      <td>18.35</td>\n",
       "      <td>18.16</td>\n",
       "      <td>18.01</td>\n",
       "      <td>17.92</td>\n",
       "      <td>17.84</td>\n",
       "      <td>17.77</td>\n",
       "      <td>17.71</td>\n",
       "      <td>17.67</td>\n",
       "      <td>17.63</td>\n",
       "      <td>17.58</td>\n",
       "      <td>17.54</td>\n",
       "      <td>17.50</td>\n",
       "      <td>17.46</td>\n",
       "      <td>17.43</td>\n",
       "      <td>17.40</td>\n",
       "      <td>17.38</td>\n",
       "    </tr>\n",
       "    <tr>\n",
       "      <td>1996-01-10</td>\n",
       "      <td>19.67</td>\n",
       "      <td>19.18</td>\n",
       "      <td>18.78</td>\n",
       "      <td>18.47</td>\n",
       "      <td>18.24</td>\n",
       "      <td>18.06</td>\n",
       "      <td>17.91</td>\n",
       "      <td>17.82</td>\n",
       "      <td>17.74</td>\n",
       "      <td>17.66</td>\n",
       "      <td>17.60</td>\n",
       "      <td>17.57</td>\n",
       "      <td>17.54</td>\n",
       "      <td>17.49</td>\n",
       "      <td>17.45</td>\n",
       "      <td>17.41</td>\n",
       "      <td>17.37</td>\n",
       "      <td>17.34</td>\n",
       "      <td>17.32</td>\n",
       "      <td>17.30</td>\n",
       "    </tr>\n",
       "    <tr>\n",
       "      <td>1996-01-17</td>\n",
       "      <td>18.52</td>\n",
       "      <td>18.05</td>\n",
       "      <td>17.79</td>\n",
       "      <td>17.60</td>\n",
       "      <td>17.45</td>\n",
       "      <td>17.35</td>\n",
       "      <td>17.27</td>\n",
       "      <td>17.21</td>\n",
       "      <td>17.16</td>\n",
       "      <td>17.11</td>\n",
       "      <td>17.06</td>\n",
       "      <td>17.05</td>\n",
       "      <td>17.03</td>\n",
       "      <td>17.00</td>\n",
       "      <td>16.97</td>\n",
       "      <td>16.94</td>\n",
       "      <td>16.93</td>\n",
       "      <td>16.92</td>\n",
       "      <td>16.91</td>\n",
       "      <td>16.91</td>\n",
       "    </tr>\n",
       "    <tr>\n",
       "      <td>1996-01-23</td>\n",
       "      <td>18.06</td>\n",
       "      <td>17.67</td>\n",
       "      <td>17.47</td>\n",
       "      <td>17.32</td>\n",
       "      <td>17.22</td>\n",
       "      <td>17.15</td>\n",
       "      <td>17.09</td>\n",
       "      <td>17.04</td>\n",
       "      <td>16.99</td>\n",
       "      <td>16.94</td>\n",
       "      <td>16.93</td>\n",
       "      <td>16.91</td>\n",
       "      <td>16.88</td>\n",
       "      <td>16.85</td>\n",
       "      <td>16.82</td>\n",
       "      <td>16.81</td>\n",
       "      <td>16.80</td>\n",
       "      <td>16.79</td>\n",
       "      <td>16.79</td>\n",
       "      <td>16.81</td>\n",
       "    </tr>\n",
       "    <tr>\n",
       "      <td>1996-01-24</td>\n",
       "      <td>18.28</td>\n",
       "      <td>17.88</td>\n",
       "      <td>17.67</td>\n",
       "      <td>17.52</td>\n",
       "      <td>17.41</td>\n",
       "      <td>17.32</td>\n",
       "      <td>17.26</td>\n",
       "      <td>17.20</td>\n",
       "      <td>17.14</td>\n",
       "      <td>17.08</td>\n",
       "      <td>17.07</td>\n",
       "      <td>17.05</td>\n",
       "      <td>17.02</td>\n",
       "      <td>16.99</td>\n",
       "      <td>16.96</td>\n",
       "      <td>16.95</td>\n",
       "      <td>16.94</td>\n",
       "      <td>16.93</td>\n",
       "      <td>16.93</td>\n",
       "      <td>16.94</td>\n",
       "    </tr>\n",
       "    <tr>\n",
       "      <td>...</td>\n",
       "      <td>...</td>\n",
       "      <td>...</td>\n",
       "      <td>...</td>\n",
       "      <td>...</td>\n",
       "      <td>...</td>\n",
       "      <td>...</td>\n",
       "      <td>...</td>\n",
       "      <td>...</td>\n",
       "      <td>...</td>\n",
       "      <td>...</td>\n",
       "      <td>...</td>\n",
       "      <td>...</td>\n",
       "      <td>...</td>\n",
       "      <td>...</td>\n",
       "      <td>...</td>\n",
       "      <td>...</td>\n",
       "      <td>...</td>\n",
       "      <td>...</td>\n",
       "      <td>...</td>\n",
       "      <td>...</td>\n",
       "    </tr>\n",
       "    <tr>\n",
       "      <td>2015-03-25</td>\n",
       "      <td>51.53</td>\n",
       "      <td>53.23</td>\n",
       "      <td>54.55</td>\n",
       "      <td>55.74</td>\n",
       "      <td>56.83</td>\n",
       "      <td>57.76</td>\n",
       "      <td>58.46</td>\n",
       "      <td>59.07</td>\n",
       "      <td>59.64</td>\n",
       "      <td>60.12</td>\n",
       "      <td>60.58</td>\n",
       "      <td>61.04</td>\n",
       "      <td>61.46</td>\n",
       "      <td>61.81</td>\n",
       "      <td>62.12</td>\n",
       "      <td>62.34</td>\n",
       "      <td>62.54</td>\n",
       "      <td>62.73</td>\n",
       "      <td>62.92</td>\n",
       "      <td>63.13</td>\n",
       "    </tr>\n",
       "    <tr>\n",
       "      <td>2015-04-01</td>\n",
       "      <td>50.76</td>\n",
       "      <td>52.55</td>\n",
       "      <td>53.99</td>\n",
       "      <td>55.25</td>\n",
       "      <td>56.34</td>\n",
       "      <td>57.24</td>\n",
       "      <td>57.91</td>\n",
       "      <td>58.51</td>\n",
       "      <td>59.07</td>\n",
       "      <td>59.53</td>\n",
       "      <td>59.96</td>\n",
       "      <td>60.38</td>\n",
       "      <td>60.77</td>\n",
       "      <td>61.11</td>\n",
       "      <td>61.42</td>\n",
       "      <td>61.65</td>\n",
       "      <td>61.87</td>\n",
       "      <td>62.08</td>\n",
       "      <td>62.30</td>\n",
       "      <td>62.53</td>\n",
       "    </tr>\n",
       "    <tr>\n",
       "      <td>2015-04-08</td>\n",
       "      <td>49.93</td>\n",
       "      <td>51.76</td>\n",
       "      <td>53.40</td>\n",
       "      <td>54.75</td>\n",
       "      <td>55.93</td>\n",
       "      <td>56.87</td>\n",
       "      <td>57.58</td>\n",
       "      <td>58.21</td>\n",
       "      <td>58.80</td>\n",
       "      <td>59.26</td>\n",
       "      <td>59.68</td>\n",
       "      <td>60.01</td>\n",
       "      <td>60.48</td>\n",
       "      <td>60.84</td>\n",
       "      <td>61.21</td>\n",
       "      <td>61.59</td>\n",
       "      <td>61.72</td>\n",
       "      <td>61.77</td>\n",
       "      <td>62.30</td>\n",
       "      <td>62.54</td>\n",
       "    </tr>\n",
       "    <tr>\n",
       "      <td>2015-04-15</td>\n",
       "      <td>50.00</td>\n",
       "      <td>51.66</td>\n",
       "      <td>52.95</td>\n",
       "      <td>54.09</td>\n",
       "      <td>55.13</td>\n",
       "      <td>56.01</td>\n",
       "      <td>56.69</td>\n",
       "      <td>57.33</td>\n",
       "      <td>57.94</td>\n",
       "      <td>58.43</td>\n",
       "      <td>58.88</td>\n",
       "      <td>59.31</td>\n",
       "      <td>59.71</td>\n",
       "      <td>60.06</td>\n",
       "      <td>60.38</td>\n",
       "      <td>60.62</td>\n",
       "      <td>60.85</td>\n",
       "      <td>61.08</td>\n",
       "      <td>61.34</td>\n",
       "      <td>61.61</td>\n",
       "    </tr>\n",
       "    <tr>\n",
       "      <td>2015-04-22</td>\n",
       "      <td>48.29</td>\n",
       "      <td>50.07</td>\n",
       "      <td>51.44</td>\n",
       "      <td>52.59</td>\n",
       "      <td>53.62</td>\n",
       "      <td>54.49</td>\n",
       "      <td>55.18</td>\n",
       "      <td>55.84</td>\n",
       "      <td>56.48</td>\n",
       "      <td>57.00</td>\n",
       "      <td>57.48</td>\n",
       "      <td>57.95</td>\n",
       "      <td>58.39</td>\n",
       "      <td>58.78</td>\n",
       "      <td>59.13</td>\n",
       "      <td>59.41</td>\n",
       "      <td>59.68</td>\n",
       "      <td>59.95</td>\n",
       "      <td>60.24</td>\n",
       "      <td>60.54</td>\n",
       "    </tr>\n",
       "  </tbody>\n",
       "</table>\n",
       "<p>1150 rows × 20 columns</p>\n",
       "</div>"
      ],
      "text/plain": [
       "               F1     F2     F3     F4     F5     F6     F7     F8     F9  \\\n",
       "Date                                                                        \n",
       "1996-01-03  19.89  19.34  18.90  18.58  18.35  18.16  18.01  17.92  17.84   \n",
       "1996-01-10  19.67  19.18  18.78  18.47  18.24  18.06  17.91  17.82  17.74   \n",
       "1996-01-17  18.52  18.05  17.79  17.60  17.45  17.35  17.27  17.21  17.16   \n",
       "1996-01-23  18.06  17.67  17.47  17.32  17.22  17.15  17.09  17.04  16.99   \n",
       "1996-01-24  18.28  17.88  17.67  17.52  17.41  17.32  17.26  17.20  17.14   \n",
       "...           ...    ...    ...    ...    ...    ...    ...    ...    ...   \n",
       "2015-03-25  51.53  53.23  54.55  55.74  56.83  57.76  58.46  59.07  59.64   \n",
       "2015-04-01  50.76  52.55  53.99  55.25  56.34  57.24  57.91  58.51  59.07   \n",
       "2015-04-08  49.93  51.76  53.40  54.75  55.93  56.87  57.58  58.21  58.80   \n",
       "2015-04-15  50.00  51.66  52.95  54.09  55.13  56.01  56.69  57.33  57.94   \n",
       "2015-04-22  48.29  50.07  51.44  52.59  53.62  54.49  55.18  55.84  56.48   \n",
       "\n",
       "              F10    F11    F12    F13    F14    F15    F16    F17    F18  \\\n",
       "Date                                                                        \n",
       "1996-01-03  17.77  17.71  17.67  17.63  17.58  17.54  17.50  17.46  17.43   \n",
       "1996-01-10  17.66  17.60  17.57  17.54  17.49  17.45  17.41  17.37  17.34   \n",
       "1996-01-17  17.11  17.06  17.05  17.03  17.00  16.97  16.94  16.93  16.92   \n",
       "1996-01-23  16.94  16.93  16.91  16.88  16.85  16.82  16.81  16.80  16.79   \n",
       "1996-01-24  17.08  17.07  17.05  17.02  16.99  16.96  16.95  16.94  16.93   \n",
       "...           ...    ...    ...    ...    ...    ...    ...    ...    ...   \n",
       "2015-03-25  60.12  60.58  61.04  61.46  61.81  62.12  62.34  62.54  62.73   \n",
       "2015-04-01  59.53  59.96  60.38  60.77  61.11  61.42  61.65  61.87  62.08   \n",
       "2015-04-08  59.26  59.68  60.01  60.48  60.84  61.21  61.59  61.72  61.77   \n",
       "2015-04-15  58.43  58.88  59.31  59.71  60.06  60.38  60.62  60.85  61.08   \n",
       "2015-04-22  57.00  57.48  57.95  58.39  58.78  59.13  59.41  59.68  59.95   \n",
       "\n",
       "              F19    F20  \n",
       "Date                      \n",
       "1996-01-03  17.40  17.38  \n",
       "1996-01-10  17.32  17.30  \n",
       "1996-01-17  16.91  16.91  \n",
       "1996-01-23  16.79  16.81  \n",
       "1996-01-24  16.93  16.94  \n",
       "...           ...    ...  \n",
       "2015-03-25  62.92  63.13  \n",
       "2015-04-01  62.30  62.53  \n",
       "2015-04-08  62.30  62.54  \n",
       "2015-04-15  61.34  61.61  \n",
       "2015-04-22  60.24  60.54  \n",
       "\n",
       "[1150 rows x 20 columns]"
      ]
     },
     "execution_count": 5,
     "metadata": {},
     "output_type": "execute_result"
    }
   ],
   "source": [
    "data=pd.read_excel('wti_impa.xlsx', index_col=0)\n",
    "data.head(-1)\n"
   ]
  },
  {
   "cell_type": "code",
   "execution_count": 6,
   "metadata": {},
   "outputs": [
    {
     "data": {
      "text/plain": [
       "Text(0, 0.5, 'Price - $')"
      ]
     },
     "execution_count": 6,
     "metadata": {},
     "output_type": "execute_result"
    },
    {
     "data": {
      "image/png": "[encoded data removed]",
      "text/plain": [
       "<Figure size 432x288 with 1 Axes>"
      ]
     },
     "metadata": {},
     "output_type": "display_data"
    }
   ],
   "source": [
    "data['F1'].plot()\n",
    "data['F2'].plot()\n",
    "data['F20'].plot()\n",
    "plt.legend(('F1','F2', 'F20'))\n",
    "plt.ylabel('Price - $')"
   ]
  },
  {
   "cell_type": "code",
   "execution_count": 17,
   "metadata": {},
   "outputs": [
    {
     "data": {
      "text/plain": [
       "[]"
      ]
     },
     "execution_count": 17,
     "metadata": {},
     "output_type": "execute_result"
    },
    {
     "data": {
      "text/plain": [
       "<Figure size 432x288 with 0 Axes>"
      ]
     },
     "metadata": {},
     "output_type": "display_data"
    },
    {
     "data": {
      "image/png": "[encoded data removed]",
      "text/plain": [
       "<Figure size 432x288 with 1 Axes>"
      ]
     },
     "metadata": {},
     "output_type": "display_data"
    }
   ],
   "source": [
    "sns.despine(left=True)\n",
    "DGS3['1996':'2016'].plot()\n",
    "plt.legend(('3-Month-Treasury','FRED'))\n",
    "plt.ylabel('Taxa (%)')\n",
    "plt.xlabel('Ano-Mês-Dia')\n",
    "#plt.xaxis.set_major_formatter(mdates.DateFormatter(\"%Y\"))\n",
    "#plt.xaxis.set_minor_formatter(mdates.DateFormatter(\"%Y\"))\n",
    "#plt.x\n",
    "plt.xticks(rotation=45)\n",
    "plt.plot()\n"
   ]
  },
  {
   "cell_type": "code",
   "execution_count": null,
   "metadata": {},
   "outputs": [],
   "source": []
  },
  {
   "cell_type": "code",
   "execution_count": 31,
   "metadata": {},
   "outputs": [
    {
     "name": "stdout",
     "output_type": "stream",
     "text": [
      "A média é: 2.4056232520975214 %\n",
      "O desvio padrão é: 2.212553955744856 %\n"
     ]
    }
   ],
   "source": [
    "print('A média é:',np.mean(DGS3['1996':'2016'])[0], '%')\n",
    "print('O desvio padrão é:',np.std(DGS3['1996':'2016'])[0],'%')"
   ]
  },
  {
   "cell_type": "code",
   "execution_count": 32,
   "metadata": {},
   "outputs": [
    {
     "name": "stdout",
     "output_type": "stream",
     "text": [
      "0.024056232520975215\n"
     ]
    }
   ],
   "source": [
    "r=np.mean(DGS3['1996':'2016'])[0]/100\n",
    "print(r)"
   ]
  },
  {
   "cell_type": "code",
   "execution_count": 120,
   "metadata": {},
   "outputs": [],
   "source": [
    "data['Y']= r -12*np.log(data.F2/data.F1)"
   ]
  },
  {
   "cell_type": "code",
   "execution_count": 121,
   "metadata": {},
   "outputs": [
    {
     "data": {
      "text/plain": [
       "Text(0.5, 0, 'Ano')"
      ]
     },
     "execution_count": 121,
     "metadata": {},
     "output_type": "execute_result"
    },
    {
     "data": {
      "image/png": "[encoded data removed]",
      "text/plain": [
       "<Figure size 432x288 with 1 Axes>"
      ]
     },
     "metadata": {
      "needs_background": "light"
     },
     "output_type": "display_data"
    }
   ],
   "source": [
    "data['Y'].plot()\n",
    "plt.ylabel('Taxa (%)')\n",
    "plt.gca().yaxis.set_major_formatter(PercentFormatter(1))\n",
    "plt.legend(('Retorno de Conveniência','Reversão'))\n",
    "plt.xlabel('Ano')"
   ]
  },
  {
   "cell_type": "code",
   "execution_count": 122,
   "metadata": {},
   "outputs": [
    {
     "name": "stdout",
     "output_type": "stream",
     "text": [
      "Valor máximo é: 1.764112448532872\n",
      "Valor mínimo é: -2.016442119382121\n",
      "Média é: 0.007599920496877612\n",
      "Desvio Padrão é: 0.26796258916917165\n"
     ]
    }
   ],
   "source": [
    "print('Valor máximo é:',np.max(data['Y']))\n",
    "print('Valor mínimo é:',np.min(data['Y']))\n",
    "print('Média é:',np.mean(data['Y']))\n",
    "print('Desvio Padrão é:',np.std(data['Y']))"
   ]
  },
  {
   "cell_type": "code",
   "execution_count": 41,
   "metadata": {},
   "outputs": [],
   "source": [
    "data['Y_diff']=data['Y'].diff(1)\n",
    "data['Y_shift']=data['Y'].shift(1)"
   ]
  },
  {
   "cell_type": "code",
   "execution_count": 42,
   "metadata": {},
   "outputs": [
    {
     "data": {
      "text/html": [
       "<div>\n",
       "<style scoped>\n",
       "    .dataframe tbody tr th:only-of-type {\n",
       "        vertical-align: middle;\n",
       "    }\n",
       "\n",
       "    .dataframe tbody tr th {\n",
       "        vertical-align: top;\n",
       "    }\n",
       "\n",
       "    .dataframe thead th {\n",
       "        text-align: right;\n",
       "    }\n",
       "</style>\n",
       "<table border=\"1\" class=\"dataframe\">\n",
       "  <thead>\n",
       "    <tr style=\"text-align: right;\">\n",
       "      <th></th>\n",
       "      <th>F1</th>\n",
       "      <th>F2</th>\n",
       "      <th>F3</th>\n",
       "      <th>F4</th>\n",
       "      <th>F5</th>\n",
       "      <th>F6</th>\n",
       "      <th>F7</th>\n",
       "      <th>F8</th>\n",
       "      <th>F9</th>\n",
       "      <th>F10</th>\n",
       "      <th>...</th>\n",
       "      <th>F14</th>\n",
       "      <th>F15</th>\n",
       "      <th>F16</th>\n",
       "      <th>F17</th>\n",
       "      <th>F18</th>\n",
       "      <th>F19</th>\n",
       "      <th>F20</th>\n",
       "      <th>Y</th>\n",
       "      <th>Y_diff</th>\n",
       "      <th>Y_shift</th>\n",
       "    </tr>\n",
       "    <tr>\n",
       "      <th>Date</th>\n",
       "      <th></th>\n",
       "      <th></th>\n",
       "      <th></th>\n",
       "      <th></th>\n",
       "      <th></th>\n",
       "      <th></th>\n",
       "      <th></th>\n",
       "      <th></th>\n",
       "      <th></th>\n",
       "      <th></th>\n",
       "      <th></th>\n",
       "      <th></th>\n",
       "      <th></th>\n",
       "      <th></th>\n",
       "      <th></th>\n",
       "      <th></th>\n",
       "      <th></th>\n",
       "      <th></th>\n",
       "      <th></th>\n",
       "      <th></th>\n",
       "      <th></th>\n",
       "    </tr>\n",
       "  </thead>\n",
       "  <tbody>\n",
       "    <tr>\n",
       "      <td>1996-01-03</td>\n",
       "      <td>19.89</td>\n",
       "      <td>19.34</td>\n",
       "      <td>18.90</td>\n",
       "      <td>18.58</td>\n",
       "      <td>18.35</td>\n",
       "      <td>18.16</td>\n",
       "      <td>18.01</td>\n",
       "      <td>17.92</td>\n",
       "      <td>17.84</td>\n",
       "      <td>17.77</td>\n",
       "      <td>...</td>\n",
       "      <td>17.58</td>\n",
       "      <td>17.54</td>\n",
       "      <td>17.50</td>\n",
       "      <td>17.46</td>\n",
       "      <td>17.43</td>\n",
       "      <td>17.40</td>\n",
       "      <td>17.38</td>\n",
       "      <td>0.360555</td>\n",
       "      <td>NaN</td>\n",
       "      <td>NaN</td>\n",
       "    </tr>\n",
       "    <tr>\n",
       "      <td>1996-01-10</td>\n",
       "      <td>19.67</td>\n",
       "      <td>19.18</td>\n",
       "      <td>18.78</td>\n",
       "      <td>18.47</td>\n",
       "      <td>18.24</td>\n",
       "      <td>18.06</td>\n",
       "      <td>17.91</td>\n",
       "      <td>17.82</td>\n",
       "      <td>17.74</td>\n",
       "      <td>17.66</td>\n",
       "      <td>...</td>\n",
       "      <td>17.49</td>\n",
       "      <td>17.45</td>\n",
       "      <td>17.41</td>\n",
       "      <td>17.37</td>\n",
       "      <td>17.34</td>\n",
       "      <td>17.32</td>\n",
       "      <td>17.30</td>\n",
       "      <td>0.326775</td>\n",
       "      <td>-0.033780</td>\n",
       "      <td>0.360555</td>\n",
       "    </tr>\n",
       "    <tr>\n",
       "      <td>1996-01-17</td>\n",
       "      <td>18.52</td>\n",
       "      <td>18.05</td>\n",
       "      <td>17.79</td>\n",
       "      <td>17.60</td>\n",
       "      <td>17.45</td>\n",
       "      <td>17.35</td>\n",
       "      <td>17.27</td>\n",
       "      <td>17.21</td>\n",
       "      <td>17.16</td>\n",
       "      <td>17.11</td>\n",
       "      <td>...</td>\n",
       "      <td>17.00</td>\n",
       "      <td>16.97</td>\n",
       "      <td>16.94</td>\n",
       "      <td>16.93</td>\n",
       "      <td>16.92</td>\n",
       "      <td>16.91</td>\n",
       "      <td>16.91</td>\n",
       "      <td>0.332523</td>\n",
       "      <td>0.005748</td>\n",
       "      <td>0.326775</td>\n",
       "    </tr>\n",
       "    <tr>\n",
       "      <td>1996-01-23</td>\n",
       "      <td>18.06</td>\n",
       "      <td>17.67</td>\n",
       "      <td>17.47</td>\n",
       "      <td>17.32</td>\n",
       "      <td>17.22</td>\n",
       "      <td>17.15</td>\n",
       "      <td>17.09</td>\n",
       "      <td>17.04</td>\n",
       "      <td>16.99</td>\n",
       "      <td>16.94</td>\n",
       "      <td>...</td>\n",
       "      <td>16.85</td>\n",
       "      <td>16.82</td>\n",
       "      <td>16.81</td>\n",
       "      <td>16.80</td>\n",
       "      <td>16.79</td>\n",
       "      <td>16.79</td>\n",
       "      <td>16.81</td>\n",
       "      <td>0.286031</td>\n",
       "      <td>-0.046491</td>\n",
       "      <td>0.332523</td>\n",
       "    </tr>\n",
       "    <tr>\n",
       "      <td>1996-01-24</td>\n",
       "      <td>18.28</td>\n",
       "      <td>17.88</td>\n",
       "      <td>17.67</td>\n",
       "      <td>17.52</td>\n",
       "      <td>17.41</td>\n",
       "      <td>17.32</td>\n",
       "      <td>17.26</td>\n",
       "      <td>17.20</td>\n",
       "      <td>17.14</td>\n",
       "      <td>17.08</td>\n",
       "      <td>...</td>\n",
       "      <td>16.99</td>\n",
       "      <td>16.96</td>\n",
       "      <td>16.95</td>\n",
       "      <td>16.94</td>\n",
       "      <td>16.93</td>\n",
       "      <td>16.93</td>\n",
       "      <td>16.94</td>\n",
       "      <td>0.289554</td>\n",
       "      <td>0.003522</td>\n",
       "      <td>0.286031</td>\n",
       "    </tr>\n",
       "  </tbody>\n",
       "</table>\n",
       "<p>5 rows × 23 columns</p>\n",
       "</div>"
      ],
      "text/plain": [
       "               F1     F2     F3     F4     F5     F6     F7     F8     F9  \\\n",
       "Date                                                                        \n",
       "1996-01-03  19.89  19.34  18.90  18.58  18.35  18.16  18.01  17.92  17.84   \n",
       "1996-01-10  19.67  19.18  18.78  18.47  18.24  18.06  17.91  17.82  17.74   \n",
       "1996-01-17  18.52  18.05  17.79  17.60  17.45  17.35  17.27  17.21  17.16   \n",
       "1996-01-23  18.06  17.67  17.47  17.32  17.22  17.15  17.09  17.04  16.99   \n",
       "1996-01-24  18.28  17.88  17.67  17.52  17.41  17.32  17.26  17.20  17.14   \n",
       "\n",
       "              F10  ...    F14    F15    F16    F17    F18    F19    F20  \\\n",
       "Date               ...                                                    \n",
       "1996-01-03  17.77  ...  17.58  17.54  17.50  17.46  17.43  17.40  17.38   \n",
       "1996-01-10  17.66  ...  17.49  17.45  17.41  17.37  17.34  17.32  17.30   \n",
       "1996-01-17  17.11  ...  17.00  16.97  16.94  16.93  16.92  16.91  16.91   \n",
       "1996-01-23  16.94  ...  16.85  16.82  16.81  16.80  16.79  16.79  16.81   \n",
       "1996-01-24  17.08  ...  16.99  16.96  16.95  16.94  16.93  16.93  16.94   \n",
       "\n",
       "                   Y    Y_diff   Y_shift  \n",
       "Date                                      \n",
       "1996-01-03  0.360555       NaN       NaN  \n",
       "1996-01-10  0.326775 -0.033780  0.360555  \n",
       "1996-01-17  0.332523  0.005748  0.326775  \n",
       "1996-01-23  0.286031 -0.046491  0.332523  \n",
       "1996-01-24  0.289554  0.003522  0.286031  \n",
       "\n",
       "[5 rows x 23 columns]"
      ]
     },
     "execution_count": 42,
     "metadata": {},
     "output_type": "execute_result"
    }
   ],
   "source": [
    "data.head()"
   ]
  },
  {
   "cell_type": "code",
   "execution_count": 43,
   "metadata": {},
   "outputs": [],
   "source": [
    "results=smf.ols(formula = \"Y_diff ~ Y_shift\", data=data, missing='drop').fit()"
   ]
  },
  {
   "cell_type": "code",
   "execution_count": 44,
   "metadata": {},
   "outputs": [
    {
     "name": "stdout",
     "output_type": "stream",
     "text": [
      "                            OLS Regression Results                            \n",
      "==============================================================================\n",
      "Dep. Variable:                 Y_diff   R-squared:                       0.053\n",
      "Model:                            OLS   Adj. R-squared:                  0.052\n",
      "Method:                 Least Squares   F-statistic:                     64.07\n",
      "Date:                Thu, 01 Oct 2020   Prob (F-statistic):           2.92e-15\n",
      "Time:                        13:13:51   Log-Likelihood:                 803.84\n",
      "No. Observations:                1150   AIC:                            -1604.\n",
      "Df Residuals:                    1148   BIC:                            -1594.\n",
      "Df Model:                           1                                         \n",
      "Covariance Type:            nonrobust                                         \n",
      "==============================================================================\n",
      "                 coef    std err          t      P>|t|      [0.025      0.975]\n",
      "------------------------------------------------------------------------------\n",
      "Intercept      0.0002      0.004      0.045      0.964      -0.007       0.007\n",
      "Y_shift       -0.1061      0.013     -8.005      0.000      -0.132      -0.080\n",
      "==============================================================================\n",
      "Omnibus:                      382.666   Durbin-Watson:                   2.428\n",
      "Prob(Omnibus):                  0.000   Jarque-Bera (JB):            30575.598\n",
      "Skew:                           0.582   Prob(JB):                         0.00\n",
      "Kurtosis:                      28.234   Cond. No.                         3.73\n",
      "==============================================================================\n",
      "\n",
      "Warnings:\n",
      "[1] Standard Errors assume that the covariance matrix of the errors is correctly specified.\n"
     ]
    }
   ],
   "source": [
    "print(results.summary())"
   ]
  },
  {
   "cell_type": "code",
   "execution_count": 85,
   "metadata": {},
   "outputs": [
    {
     "data": {
      "text/plain": [
       "0.96"
      ]
     },
     "execution_count": 85,
     "metadata": {},
     "output_type": "execute_result"
    }
   ],
   "source": [
    "round(results.pvalues[0],2)"
   ]
  },
  {
   "cell_type": "code",
   "execution_count": 46,
   "metadata": {},
   "outputs": [
    {
     "name": "stdout",
     "output_type": "stream",
     "text": [
      "Média de dias é: 6 days 03:15:20.347826\n",
      "Mediana de dias é: 7 days 00:00:00\n",
      "Moda de dias é 0   7 days\n",
      "dtype: timedelta64[ns]\n",
      "Desvio padrão de dias: 1 days 19:46:50.401730\n",
      "Máximo de dias: 9 days 00:00:00\n",
      "Mínimo de dias 1 days 00:00:00\n"
     ]
    }
   ],
   "source": [
    "print('Média de dias é:', np.mean(data.index.to_series().diff()))\n",
    "print('Mediana de dias é:', data.index.to_series().diff(1).median())\n",
    "print('Moda de dias é',data.index.to_series().diff(1).mode())\n",
    "print('Desvio padrão de dias:',np.std(data.index.to_series().diff(1)))\n",
    "print('Máximo de dias:',np.max(data.index.to_series().diff(1)))\n",
    "print('Mínimo de dias', np.min(data.index.to_series().diff(1)))\n"
   ]
  },
  {
   "cell_type": "code",
   "execution_count": null,
   "metadata": {},
   "outputs": [],
   "source": []
  },
  {
   "cell_type": "code",
   "execution_count": 129,
   "metadata": {},
   "outputs": [],
   "source": [
    "#delta_t= 7/252  \n",
    "delta_t=1/52 #medida anual"
   ]
  },
  {
   "cell_type": "code",
   "execution_count": null,
   "metadata": {},
   "outputs": [],
   "source": []
  },
  {
   "cell_type": "code",
   "execution_count": 130,
   "metadata": {},
   "outputs": [],
   "source": [
    "a=results.params[0]\n",
    "b=results.params[1]"
   ]
  },
  {
   "cell_type": "code",
   "execution_count": 131,
   "metadata": {},
   "outputs": [],
   "source": [
    "e=np.std(results.resid)"
   ]
  },
  {
   "cell_type": "code",
   "execution_count": 132,
   "metadata": {},
   "outputs": [
    {
     "name": "stdout",
     "output_type": "stream",
     "text": [
      "sigma é: 86.7355083412131 % a.a.\n"
     ]
    }
   ],
   "source": [
    "sigma=e/np.sqrt(delta_t)\n",
    "print('sigma é:',sigma*100,'% a.a.')"
   ]
  },
  {
   "cell_type": "code",
   "execution_count": 51,
   "metadata": {},
   "outputs": [
    {
     "name": "stdout",
     "output_type": "stream",
     "text": [
      "Kappa é: 5.518304844807468\n"
     ]
    }
   ],
   "source": [
    "kappa=-b/delta_t\n",
    "print('Kappa é:',kappa)"
   ]
  },
  {
   "cell_type": "code",
   "execution_count": 52,
   "metadata": {},
   "outputs": [
    {
     "name": "stdout",
     "output_type": "stream",
     "text": [
      "Reversao é 0\n"
     ]
    }
   ],
   "source": [
    "y_barra=a/-b\n",
    "y_barra=0\n",
    "print('Reversao é', y_barra)"
   ]
  },
  {
   "cell_type": "code",
   "execution_count": 53,
   "metadata": {},
   "outputs": [
    {
     "data": {
      "image/png": "[encoded data removed]",
      "text/plain": [
       "<Figure size 432x288 with 1 Axes>"
      ]
     },
     "metadata": {
      "needs_background": "light"
     },
     "output_type": "display_data"
    }
   ],
   "source": [
    "data['Reversao']=y_barra\n",
    "\n",
    "data['Y'].plot()\n",
    "data['Reversao'].plot()\n",
    "plt.gca().yaxis.set_major_formatter(PercentFormatter(1))\n",
    "plt.ylabel('Rate(%)')\n",
    "plt.legend(('Retorno de Conveniência','Reversão'))\n",
    "plt.show()"
   ]
  },
  {
   "cell_type": "code",
   "execution_count": 54,
   "metadata": {},
   "outputs": [],
   "source": [
    "################Simulação################"
   ]
  },
  {
   "cell_type": "code",
   "execution_count": 55,
   "metadata": {},
   "outputs": [],
   "source": [
    "def simulacao(y0,kappa,y_barra,sigma,T,delta_t):\n",
    "    Po=y0\n",
    "    serie=[]\n",
    "    Tempo=[]\n",
    "    serie.append(Po)\n",
    "    Tempo.append(0)\n",
    "    for t in range(int(T/delta_t)):\n",
    "        P1= Po*np.exp(-kappa*delta_t*(t+1)) + y_barra*(1-np.exp(-kappa*delta_t*(t+1)))\n",
    "        serie.append(P1)\n",
    "        Tempo.append((t+1)*delta_t)\n",
    "    df=pd.DataFrame(serie)\n",
    "    df.columns=['Average_Rate']\n",
    "    \n",
    "    for i in range(len(Tempo)):\n",
    "        Tempo[i] == round(i,0) #tries to round all numbers.\n",
    "        \n",
    "    #df=pd.DataFrame(Tempo)\n",
    "    df.index=Tempo\n",
    "    #df.columns=['Price_Average']\n",
    "    #df['Price_Average']=0\n",
    "    \n",
    "    \n",
    "    for i in range(3):\n",
    "        Po=y0\n",
    "        serie=[]\n",
    "        serie.append(Po)\n",
    "        for t in range(int(T/delta_t)):\n",
    "            #P1= np.exp(kappa*delta_t)*Po + y_barra*(1- np.exp(kappa*delta_t)) + sigma*np.random.normal(0,1)*np.sqrt(np.exp(2*kappa*delta_t)/(2*kappa))            \n",
    "            P1 = np.exp(-kappa*delta_t)*Po + y_barra*(1- np.exp(-kappa*delta_t)) + sigma*np.random.normal(0,1)*np.sqrt((1- np.exp(-2*kappa*delta_t))/(2*kappa))\n",
    "            serie.append(P1)\n",
    "            Po=P1\n",
    "        df['P_{}'.format(i)]=serie\n",
    "        \n",
    "    return[df.plot(legend=False),df.Average_Rate.plot(color='black', legend=True),plt.gca().yaxis.set_major_formatter(PercentFormatter(1)),plt.ylabel('Rate(%)'), plt.xlabel('Anos')]\n",
    "    \n",
    "       "
   ]
  },
  {
   "cell_type": "code",
   "execution_count": 56,
   "metadata": {},
   "outputs": [
    {
     "data": {
      "text/plain": [
       "(0.3605554666097661,\n",
       " 5.518304844807468,\n",
       " 0,\n",
       " 0.8673550834121311,\n",
       " 20,\n",
       " 0.019230769230769232)"
      ]
     },
     "execution_count": 56,
     "metadata": {},
     "output_type": "execute_result"
    }
   ],
   "source": [
    "data['Y'][0], kappa, y_barra,sigma,20,delta_t"
   ]
  },
  {
   "cell_type": "code",
   "execution_count": 57,
   "metadata": {},
   "outputs": [
    {
     "name": "stdout",
     "output_type": "stream",
     "text": [
      "0.12560871500460374\n",
      "A meia vida é: 1.5073045800552447 mes(es)\n"
     ]
    }
   ],
   "source": [
    "####Meia vida###\n",
    "print(-np.log(0.5)/kappa)\n",
    "print ('A meia vida é:', -12*np.log(0.5)/kappa, 'mes(es)')"
   ]
  },
  {
   "cell_type": "code",
   "execution_count": null,
   "metadata": {},
   "outputs": [],
   "source": []
  },
  {
   "cell_type": "code",
   "execution_count": 58,
   "metadata": {},
   "outputs": [],
   "source": [
    "y0=data['Y'][0]"
   ]
  },
  {
   "cell_type": "code",
   "execution_count": 59,
   "metadata": {},
   "outputs": [],
   "source": [
    "Po=y0\n",
    "P1=[]\n",
    "serie=[]\n",
    "for t in range(int(20/delta_t)):\n",
    "    P1 = np.exp(-kappa*delta_t)*Po + y_barra*(1- np.exp(-kappa*delta_t)) + sigma*np.random.normal(0,1)*np.sqrt((1- np.exp(-2*kappa*delta_t))/(2*kappa))        \n",
    "    serie.append(P1)\n",
    "    Po=P1\n",
    "        "
   ]
  },
  {
   "cell_type": "code",
   "execution_count": 60,
   "metadata": {},
   "outputs": [
    {
     "data": {
      "text/plain": [
       "[]"
      ]
     },
     "execution_count": 60,
     "metadata": {},
     "output_type": "execute_result"
    },
    {
     "data": {
      "image/png": "[encoded data removed]",
      "text/plain": [
       "<Figure size 432x288 with 1 Axes>"
      ]
     },
     "metadata": {
      "needs_background": "light"
     },
     "output_type": "display_data"
    }
   ],
   "source": [
    "plt.plot(serie)\n",
    "plt.gca().yaxis.set_major_formatter(PercentFormatter(1))\n",
    "plt.plot()"
   ]
  },
  {
   "cell_type": "code",
   "execution_count": 61,
   "metadata": {},
   "outputs": [],
   "source": [
    "Po=y0\n",
    "serie=[]\n",
    "Tempo=[]\n",
    "serie.append(Po)\n",
    "Tempo.append(0)\n",
    "for t in range(int(20/delta_t)):\n",
    "    P1= Po*np.exp(-kappa*delta_t*(t+1)) + y_barra*(1-np.exp(-kappa*delta_t*(t+1)))\n",
    "    serie.append(P1)\n",
    "    Tempo.append((t+1)*delta_t)\n",
    "df=pd.DataFrame(serie)\n",
    "df.columns=['Average_Rate']\n",
    "    "
   ]
  },
  {
   "cell_type": "code",
   "execution_count": 62,
   "metadata": {},
   "outputs": [
    {
     "data": {
      "text/plain": [
       "<matplotlib.axes._subplots.AxesSubplot at 0x1c5b8a1bf08>"
      ]
     },
     "execution_count": 62,
     "metadata": {},
     "output_type": "execute_result"
    },
    {
     "data": {
      "image/png": "[encoded data removed]",
      "text/plain": [
       "<Figure size 432x288 with 1 Axes>"
      ]
     },
     "metadata": {
      "needs_background": "light"
     },
     "output_type": "display_data"
    }
   ],
   "source": [
    "df.plot()"
   ]
  },
  {
   "cell_type": "code",
   "execution_count": 63,
   "metadata": {},
   "outputs": [
    {
     "data": {
      "text/plain": [
       "[<matplotlib.axes._subplots.AxesSubplot at 0x1c5b764a148>,\n",
       " <matplotlib.axes._subplots.AxesSubplot at 0x1c5b764a148>,\n",
       " None,\n",
       " Text(0, 0.5, 'Rate(%)'),\n",
       " Text(0.5, 0, 'Anos')]"
      ]
     },
     "execution_count": 63,
     "metadata": {},
     "output_type": "execute_result"
    },
    {
     "data": {
      "image/png": "[encoded data removed]",
      "text/plain": [
       "<Figure size 432x288 with 1 Axes>"
      ]
     },
     "metadata": {
      "needs_background": "light"
     },
     "output_type": "display_data"
    }
   ],
   "source": [
    "simulacao(y0,kappa,y_barra,sigma,20,delta_t)"
   ]
  },
  {
   "cell_type": "code",
   "execution_count": 64,
   "metadata": {},
   "outputs": [
    {
     "data": {
      "text/plain": [
       "0"
      ]
     },
     "execution_count": 64,
     "metadata": {},
     "output_type": "execute_result"
    }
   ],
   "source": [
    "y_barra"
   ]
  },
  {
   "cell_type": "code",
   "execution_count": 65,
   "metadata": {},
   "outputs": [],
   "source": [
    "#######Estrutura a termo da Volatilidade - Efeito Samuleson - Exercicio 5#####"
   ]
  },
  {
   "cell_type": "code",
   "execution_count": 66,
   "metadata": {},
   "outputs": [
    {
     "data": {
      "text/html": [
       "<div>\n",
       "<style scoped>\n",
       "    .dataframe tbody tr th:only-of-type {\n",
       "        vertical-align: middle;\n",
       "    }\n",
       "\n",
       "    .dataframe tbody tr th {\n",
       "        vertical-align: top;\n",
       "    }\n",
       "\n",
       "    .dataframe thead th {\n",
       "        text-align: right;\n",
       "    }\n",
       "</style>\n",
       "<table border=\"1\" class=\"dataframe\">\n",
       "  <thead>\n",
       "    <tr style=\"text-align: right;\">\n",
       "      <th></th>\n",
       "      <th>F1</th>\n",
       "      <th>F2</th>\n",
       "      <th>F3</th>\n",
       "      <th>F4</th>\n",
       "      <th>F5</th>\n",
       "      <th>F6</th>\n",
       "      <th>F7</th>\n",
       "      <th>F8</th>\n",
       "      <th>F9</th>\n",
       "      <th>F10</th>\n",
       "      <th>...</th>\n",
       "      <th>F15</th>\n",
       "      <th>F16</th>\n",
       "      <th>F17</th>\n",
       "      <th>F18</th>\n",
       "      <th>F19</th>\n",
       "      <th>F20</th>\n",
       "      <th>Y</th>\n",
       "      <th>Y_diff</th>\n",
       "      <th>Y_shift</th>\n",
       "      <th>Reversao</th>\n",
       "    </tr>\n",
       "    <tr>\n",
       "      <th>Date</th>\n",
       "      <th></th>\n",
       "      <th></th>\n",
       "      <th></th>\n",
       "      <th></th>\n",
       "      <th></th>\n",
       "      <th></th>\n",
       "      <th></th>\n",
       "      <th></th>\n",
       "      <th></th>\n",
       "      <th></th>\n",
       "      <th></th>\n",
       "      <th></th>\n",
       "      <th></th>\n",
       "      <th></th>\n",
       "      <th></th>\n",
       "      <th></th>\n",
       "      <th></th>\n",
       "      <th></th>\n",
       "      <th></th>\n",
       "      <th></th>\n",
       "      <th></th>\n",
       "    </tr>\n",
       "  </thead>\n",
       "  <tbody>\n",
       "    <tr>\n",
       "      <td>1996-01-03</td>\n",
       "      <td>19.89</td>\n",
       "      <td>19.34</td>\n",
       "      <td>18.90</td>\n",
       "      <td>18.58</td>\n",
       "      <td>18.35</td>\n",
       "      <td>18.16</td>\n",
       "      <td>18.01</td>\n",
       "      <td>17.92</td>\n",
       "      <td>17.84</td>\n",
       "      <td>17.77</td>\n",
       "      <td>...</td>\n",
       "      <td>17.54</td>\n",
       "      <td>17.50</td>\n",
       "      <td>17.46</td>\n",
       "      <td>17.43</td>\n",
       "      <td>17.40</td>\n",
       "      <td>17.38</td>\n",
       "      <td>0.360555</td>\n",
       "      <td>NaN</td>\n",
       "      <td>NaN</td>\n",
       "      <td>0</td>\n",
       "    </tr>\n",
       "    <tr>\n",
       "      <td>1996-01-10</td>\n",
       "      <td>19.67</td>\n",
       "      <td>19.18</td>\n",
       "      <td>18.78</td>\n",
       "      <td>18.47</td>\n",
       "      <td>18.24</td>\n",
       "      <td>18.06</td>\n",
       "      <td>17.91</td>\n",
       "      <td>17.82</td>\n",
       "      <td>17.74</td>\n",
       "      <td>17.66</td>\n",
       "      <td>...</td>\n",
       "      <td>17.45</td>\n",
       "      <td>17.41</td>\n",
       "      <td>17.37</td>\n",
       "      <td>17.34</td>\n",
       "      <td>17.32</td>\n",
       "      <td>17.30</td>\n",
       "      <td>0.326775</td>\n",
       "      <td>-0.033780</td>\n",
       "      <td>0.360555</td>\n",
       "      <td>0</td>\n",
       "    </tr>\n",
       "    <tr>\n",
       "      <td>1996-01-17</td>\n",
       "      <td>18.52</td>\n",
       "      <td>18.05</td>\n",
       "      <td>17.79</td>\n",
       "      <td>17.60</td>\n",
       "      <td>17.45</td>\n",
       "      <td>17.35</td>\n",
       "      <td>17.27</td>\n",
       "      <td>17.21</td>\n",
       "      <td>17.16</td>\n",
       "      <td>17.11</td>\n",
       "      <td>...</td>\n",
       "      <td>16.97</td>\n",
       "      <td>16.94</td>\n",
       "      <td>16.93</td>\n",
       "      <td>16.92</td>\n",
       "      <td>16.91</td>\n",
       "      <td>16.91</td>\n",
       "      <td>0.332523</td>\n",
       "      <td>0.005748</td>\n",
       "      <td>0.326775</td>\n",
       "      <td>0</td>\n",
       "    </tr>\n",
       "    <tr>\n",
       "      <td>1996-01-23</td>\n",
       "      <td>18.06</td>\n",
       "      <td>17.67</td>\n",
       "      <td>17.47</td>\n",
       "      <td>17.32</td>\n",
       "      <td>17.22</td>\n",
       "      <td>17.15</td>\n",
       "      <td>17.09</td>\n",
       "      <td>17.04</td>\n",
       "      <td>16.99</td>\n",
       "      <td>16.94</td>\n",
       "      <td>...</td>\n",
       "      <td>16.82</td>\n",
       "      <td>16.81</td>\n",
       "      <td>16.80</td>\n",
       "      <td>16.79</td>\n",
       "      <td>16.79</td>\n",
       "      <td>16.81</td>\n",
       "      <td>0.286031</td>\n",
       "      <td>-0.046491</td>\n",
       "      <td>0.332523</td>\n",
       "      <td>0</td>\n",
       "    </tr>\n",
       "    <tr>\n",
       "      <td>1996-01-24</td>\n",
       "      <td>18.28</td>\n",
       "      <td>17.88</td>\n",
       "      <td>17.67</td>\n",
       "      <td>17.52</td>\n",
       "      <td>17.41</td>\n",
       "      <td>17.32</td>\n",
       "      <td>17.26</td>\n",
       "      <td>17.20</td>\n",
       "      <td>17.14</td>\n",
       "      <td>17.08</td>\n",
       "      <td>...</td>\n",
       "      <td>16.96</td>\n",
       "      <td>16.95</td>\n",
       "      <td>16.94</td>\n",
       "      <td>16.93</td>\n",
       "      <td>16.93</td>\n",
       "      <td>16.94</td>\n",
       "      <td>0.289554</td>\n",
       "      <td>0.003522</td>\n",
       "      <td>0.286031</td>\n",
       "      <td>0</td>\n",
       "    </tr>\n",
       "  </tbody>\n",
       "</table>\n",
       "<p>5 rows × 24 columns</p>\n",
       "</div>"
      ],
      "text/plain": [
       "               F1     F2     F3     F4     F5     F6     F7     F8     F9  \\\n",
       "Date                                                                        \n",
       "1996-01-03  19.89  19.34  18.90  18.58  18.35  18.16  18.01  17.92  17.84   \n",
       "1996-01-10  19.67  19.18  18.78  18.47  18.24  18.06  17.91  17.82  17.74   \n",
       "1996-01-17  18.52  18.05  17.79  17.60  17.45  17.35  17.27  17.21  17.16   \n",
       "1996-01-23  18.06  17.67  17.47  17.32  17.22  17.15  17.09  17.04  16.99   \n",
       "1996-01-24  18.28  17.88  17.67  17.52  17.41  17.32  17.26  17.20  17.14   \n",
       "\n",
       "              F10  ...    F15    F16    F17    F18    F19    F20         Y  \\\n",
       "Date               ...                                                       \n",
       "1996-01-03  17.77  ...  17.54  17.50  17.46  17.43  17.40  17.38  0.360555   \n",
       "1996-01-10  17.66  ...  17.45  17.41  17.37  17.34  17.32  17.30  0.326775   \n",
       "1996-01-17  17.11  ...  16.97  16.94  16.93  16.92  16.91  16.91  0.332523   \n",
       "1996-01-23  16.94  ...  16.82  16.81  16.80  16.79  16.79  16.81  0.286031   \n",
       "1996-01-24  17.08  ...  16.96  16.95  16.94  16.93  16.93  16.94  0.289554   \n",
       "\n",
       "              Y_diff   Y_shift  Reversao  \n",
       "Date                                      \n",
       "1996-01-03       NaN       NaN         0  \n",
       "1996-01-10 -0.033780  0.360555         0  \n",
       "1996-01-17  0.005748  0.326775         0  \n",
       "1996-01-23 -0.046491  0.332523         0  \n",
       "1996-01-24  0.003522  0.286031         0  \n",
       "\n",
       "[5 rows x 24 columns]"
      ]
     },
     "execution_count": 66,
     "metadata": {},
     "output_type": "execute_result"
    }
   ],
   "source": [
    "data.head()"
   ]
  },
  {
   "cell_type": "code",
   "execution_count": 67,
   "metadata": {},
   "outputs": [
    {
     "data": {
      "text/plain": [
       "0.044478011018226175"
      ]
     },
     "execution_count": 67,
     "metadata": {},
     "output_type": "execute_result"
    }
   ],
   "source": [
    "np.std(np.log(data['F1']).diff())"
   ]
  },
  {
   "cell_type": "code",
   "execution_count": 68,
   "metadata": {},
   "outputs": [
    {
     "data": {
      "text/plain": [
       "0.044478011018226175"
      ]
     },
     "execution_count": 68,
     "metadata": {},
     "output_type": "execute_result"
    }
   ],
   "source": [
    "np.std(np.log(data['F1']) - np.log(data['F1']).shift(-1) )"
   ]
  },
  {
   "cell_type": "code",
   "execution_count": 69,
   "metadata": {},
   "outputs": [
    {
     "name": "stdout",
     "output_type": "stream",
     "text": [
      "0.044478011018226175\n",
      "0.02713312056627225\n"
     ]
    }
   ],
   "source": [
    "print(np.std(np.log(data['F1']).diff()))\n",
    "print(np.std(np.log(data['F20']).diff()))"
   ]
  },
  {
   "cell_type": "code",
   "execution_count": 70,
   "metadata": {},
   "outputs": [],
   "source": [
    "termo=[]\n",
    "for i in range(20):\n",
    "    termo.append(100*np.std(np.log(data['F{}'.format(i+1)]).diff()))"
   ]
  },
  {
   "cell_type": "code",
   "execution_count": 71,
   "metadata": {},
   "outputs": [
    {
     "name": "stdout",
     "output_type": "stream",
     "text": [
      "4.447801101822617\n",
      "2.7133120566272253\n"
     ]
    }
   ],
   "source": [
    "print(termo[0])\n",
    "print(termo[19])"
   ]
  },
  {
   "cell_type": "code",
   "execution_count": 72,
   "metadata": {},
   "outputs": [
    {
     "data": {
      "text/plain": [
       "<matplotlib.collections.PathCollection at 0x1c5bc02df08>"
      ]
     },
     "execution_count": 72,
     "metadata": {},
     "output_type": "execute_result"
    },
    {
     "data": {
      "image/png": "[encoded data removed]",
      "text/plain": [
       "<Figure size 432x288 with 1 Axes>"
      ]
     },
     "metadata": {
      "needs_background": "light"
     },
     "output_type": "display_data"
    }
   ],
   "source": [
    "plt.scatter(np.linspace(1,20,20),termo)"
   ]
  },
  {
   "cell_type": "code",
   "execution_count": 73,
   "metadata": {},
   "outputs": [
    {
     "data": {
      "text/plain": [
       "[4.447801101822617,\n",
       " 4.1335197481932635,\n",
       " 3.911601704385803,\n",
       " 3.7337815278288757,\n",
       " 3.5868621409435133,\n",
       " 3.464799995982472,\n",
       " 3.364920905605901,\n",
       " 3.279881545811242,\n",
       " 3.2050793159166933,\n",
       " 3.1371942808393527,\n",
       " 3.0742703032105045,\n",
       " 3.0173466052116273,\n",
       " 2.9659612043518364,\n",
       " 2.91826559998083,\n",
       " 2.875867607710965,\n",
       " 2.860754352156289,\n",
       " 2.8234600608188263,\n",
       " 2.768323308758567,\n",
       " 2.741132182879684,\n",
       " 2.7133120566272253]"
      ]
     },
     "execution_count": 73,
     "metadata": {},
     "output_type": "execute_result"
    }
   ],
   "source": [
    "termo"
   ]
  },
  {
   "cell_type": "code",
   "execution_count": 74,
   "metadata": {},
   "outputs": [
    {
     "data": {
      "text/plain": [
       "0.007599920496877612"
      ]
     },
     "execution_count": 74,
     "metadata": {},
     "output_type": "execute_result"
    }
   ],
   "source": [
    "np.mean(r -12*np.log(data.F2/data.F1))"
   ]
  },
  {
   "cell_type": "code",
   "execution_count": 75,
   "metadata": {},
   "outputs": [],
   "source": [
    "#####Estrutura a termo da taxa de conveniência\n",
    "termo_delta=[]\n",
    "for i in range(19):\n",
    "    termo_delta.append(100*np.mean(r -12*np.log(data['F{}'.format(i+2)]/data['F{}'.format(i+1)])))\n",
    "\n"
   ]
  },
  {
   "cell_type": "code",
   "execution_count": 76,
   "metadata": {},
   "outputs": [
    {
     "data": {
      "text/plain": [
       "[0.7599920496877612,\n",
       " 2.990302682235255,\n",
       " 4.412421160386808,\n",
       " 5.044245741394024,\n",
       " 5.465773846640308,\n",
       " 5.736493285254469,\n",
       " 5.78244132473754,\n",
       " 5.719225912107543,\n",
       " 5.629258278593108,\n",
       " 5.528080082236038,\n",
       " 5.475221948653464,\n",
       " 5.4082058089119345,\n",
       " 5.3359221412228885,\n",
       " 5.192917400632241,\n",
       " 5.120721393961397,\n",
       " 4.913720203016739,\n",
       " 4.687485371912428,\n",
       " 4.795738570137225,\n",
       " 4.055984462113519]"
      ]
     },
     "execution_count": 76,
     "metadata": {},
     "output_type": "execute_result"
    }
   ],
   "source": [
    "termo_delta"
   ]
  },
  {
   "cell_type": "code",
   "execution_count": 77,
   "metadata": {},
   "outputs": [
    {
     "data": {
      "text/plain": [
       "<matplotlib.collections.PathCollection at 0x1c5bb94d208>"
      ]
     },
     "execution_count": 77,
     "metadata": {},
     "output_type": "execute_result"
    },
    {
     "data": {
      "image/png": "[encoded data removed]",
      "text/plain": [
       "<Figure size 432x288 with 1 Axes>"
      ]
     },
     "metadata": {
      "needs_background": "light"
     },
     "output_type": "display_data"
    }
   ],
   "source": [
    "plt.scatter(np.linspace(1,19,19),termo_delta)"
   ]
  },
  {
   "cell_type": "code",
   "execution_count": 78,
   "metadata": {},
   "outputs": [
    {
     "data": {
      "text/plain": [
       "4.844955350728141"
      ]
     },
     "execution_count": 78,
     "metadata": {},
     "output_type": "execute_result"
    }
   ],
   "source": [
    "np.mean(termo_delta)"
   ]
  },
  {
   "cell_type": "code",
   "execution_count": 79,
   "metadata": {},
   "outputs": [],
   "source": [
    "termo_delta_0=[]\n",
    "for i in range(19):\n",
    "    termo_delta_0.append(100*np.mean(r -(12/(i+1))*np.log(data['F{}'.format(i+2)]/data['F1'])))\n",
    "    \n",
    "\n"
   ]
  },
  {
   "cell_type": "code",
   "execution_count": 80,
   "metadata": {},
   "outputs": [
    {
     "data": {
      "text/plain": [
       "[0.7599920496877612,\n",
       " 1.8751473659614968,\n",
       " 2.7209052974366115,\n",
       " 3.3017404084259643,\n",
       " 3.73454709606883,\n",
       " 4.068204794266432,\n",
       " 4.313095727190873,\n",
       " 4.488862000305458,\n",
       " 4.615572697892972,\n",
       " 4.706823436327272,\n",
       " 4.776677846538748,\n",
       " 4.829305176736519,\n",
       " 4.868275712466236,\n",
       " 4.891464404478098,\n",
       " 4.906748203776993,\n",
       " 4.907183953729468,\n",
       " 4.894260507740234,\n",
       " 4.8887870667622835,\n",
       " 4.84495535072814]"
      ]
     },
     "execution_count": 80,
     "metadata": {},
     "output_type": "execute_result"
    }
   ],
   "source": [
    "termo_delta_0"
   ]
  },
  {
   "cell_type": "code",
   "execution_count": 83,
   "metadata": {},
   "outputs": [
    {
     "data": {
      "image/png": "[encoded data removed]",
      "text/plain": [
       "<Figure size 432x288 with 1 Axes>"
      ]
     },
     "metadata": {
      "needs_background": "light"
     },
     "output_type": "display_data"
    }
   ],
   "source": [
    "plt.scatter(np.linspace(1,19,19),termo_delta_0)\n",
    "sns.despine(left=True)\n",
    "plt.xlabel('Expiração - Contratos - Meses')\n",
    "plt.ylabel('Taxa -(%)')\n",
    "plt.title('Estrutura a Termo do retorno de Conveniência - Média')\n",
    "plt.xticks(np.arange(1,21,1));"
   ]
  },
  {
   "cell_type": "code",
   "execution_count": 38,
   "metadata": {},
   "outputs": [
    {
     "name": "stdout",
     "output_type": "stream",
     "text": [
      "32.0736774921536\n",
      "14.285041420714306\n"
     ]
    }
   ],
   "source": [
    "####Aproximando CL1 -F1 ao spot - Dado Semanal\n",
    "\n",
    "vol=np.std(data.F1.pct_change(1))*np.sqrt(52)\n",
    "print(vol*100)\n",
    "alpha=(np.mean(data.F1.pct_change(1))+.5*np.power(np.std(data.F1.pct_change(1)),2))*52\n",
    "print(alpha*100)"
   ]
  },
  {
   "cell_type": "code",
   "execution_count": 64,
   "metadata": {},
   "outputs": [],
   "source": [
    "data['Value_Shift']=data['F1'].shift(1)\n",
    "data['lnSt']= np.log(data['F1'])\n",
    "data['lnSt_1']= np.log(data['Value_Shift'])\n",
    "data['lnStSt_1']= data['lnSt'] -data['lnSt_1'] "
   ]
  },
  {
   "cell_type": "code",
   "execution_count": 65,
   "metadata": {},
   "outputs": [
    {
     "name": "stdout",
     "output_type": "stream",
     "text": [
      "vol é 32.073549871373345\n",
      "alpha é 9.143128662789103\n"
     ]
    }
   ],
   "source": [
    "print('vol é',100*np.std(data.lnStSt_1)*np.sqrt(52))\n",
    "print('alpha é',100*(((np.mean(data.lnStSt_1)+ 0.5*np.std(data.lnStSt_1)**2)*52)))\n"
   ]
  },
  {
   "cell_type": "code",
   "execution_count": 57,
   "metadata": {},
   "outputs": [],
   "source": [
    "from statsmodels.tsa.stattools import adfuller"
   ]
  },
  {
   "cell_type": "code",
   "execution_count": 58,
   "metadata": {},
   "outputs": [
    {
     "data": {
      "text/plain": [
       "0.22077488323322575"
      ]
     },
     "execution_count": 58,
     "metadata": {},
     "output_type": "execute_result"
    }
   ],
   "source": [
    "adfuller(data.F1)[1]\n",
    "#não pode descartar  h0 (MGB)"
   ]
  },
  {
   "cell_type": "code",
   "execution_count": 67,
   "metadata": {},
   "outputs": [],
   "source": [
    "############Dado WTI - IEA - Spot########\n"
   ]
  },
  {
   "cell_type": "code",
   "execution_count": 119,
   "metadata": {},
   "outputs": [
    {
     "data": {
      "text/html": [
       "<div>\n",
       "<style scoped>\n",
       "    .dataframe tbody tr th:only-of-type {\n",
       "        vertical-align: middle;\n",
       "    }\n",
       "\n",
       "    .dataframe tbody tr th {\n",
       "        vertical-align: top;\n",
       "    }\n",
       "\n",
       "    .dataframe thead th {\n",
       "        text-align: right;\n",
       "    }\n",
       "</style>\n",
       "<table border=\"1\" class=\"dataframe\">\n",
       "  <thead>\n",
       "    <tr style=\"text-align: right;\">\n",
       "      <th></th>\n",
       "      <th>WTI</th>\n",
       "    </tr>\n",
       "    <tr>\n",
       "      <th>Date</th>\n",
       "      <th></th>\n",
       "    </tr>\n",
       "  </thead>\n",
       "  <tbody>\n",
       "    <tr>\n",
       "      <td>1986-01-03</td>\n",
       "      <td>25.78</td>\n",
       "    </tr>\n",
       "    <tr>\n",
       "      <td>1986-01-10</td>\n",
       "      <td>25.99</td>\n",
       "    </tr>\n",
       "    <tr>\n",
       "      <td>1986-01-17</td>\n",
       "      <td>24.57</td>\n",
       "    </tr>\n",
       "    <tr>\n",
       "      <td>1986-01-24</td>\n",
       "      <td>20.31</td>\n",
       "    </tr>\n",
       "    <tr>\n",
       "      <td>1986-01-31</td>\n",
       "      <td>19.69</td>\n",
       "    </tr>\n",
       "  </tbody>\n",
       "</table>\n",
       "</div>"
      ],
      "text/plain": [
       "              WTI\n",
       "Date             \n",
       "1986-01-03  25.78\n",
       "1986-01-10  25.99\n",
       "1986-01-17  24.57\n",
       "1986-01-24  20.31\n",
       "1986-01-31  19.69"
      ]
     },
     "execution_count": 119,
     "metadata": {},
     "output_type": "execute_result"
    }
   ],
   "source": [
    "#Importar o arquivo salva em csv\n",
    "WTI_spot=pd.read_excel('wti_spot_eia_week.xls',index_col=0)\n",
    "WTI_spot.head()"
   ]
  },
  {
   "cell_type": "code",
   "execution_count": 120,
   "metadata": {},
   "outputs": [
    {
     "data": {
      "text/plain": [
       "DatetimeIndex(['1986-01-03', '1986-01-10', '1986-01-17', '1986-01-24',\n",
       "               '1986-01-31', '1986-02-07', '1986-02-14', '1986-02-21',\n",
       "               '1986-02-28', '1986-03-07',\n",
       "               ...\n",
       "               '2020-07-17', '2020-07-24', '2020-07-31', '2020-08-07',\n",
       "               '2020-08-14', '2020-08-21', '2020-08-28', '2020-09-04',\n",
       "               '2020-09-11', '2020-09-18'],\n",
       "              dtype='datetime64[ns]', name='Date', length=1812, freq=None)"
      ]
     },
     "execution_count": 120,
     "metadata": {},
     "output_type": "execute_result"
    }
   ],
   "source": [
    "WTI_spot.index"
   ]
  },
  {
   "cell_type": "code",
   "execution_count": 121,
   "metadata": {},
   "outputs": [
    {
     "name": "stdout",
     "output_type": "stream",
     "text": [
      "Média de dias é: 7 days 00:00:00\n"
     ]
    }
   ],
   "source": [
    "print('Média de dias é:', np.mean(WTI_spot.index.to_series().diff()))"
   ]
  },
  {
   "cell_type": "code",
   "execution_count": 122,
   "metadata": {},
   "outputs": [],
   "source": [
    "WTI_spot=WTI_spot['1996':'2015-05-01']"
   ]
  },
  {
   "cell_type": "code",
   "execution_count": 123,
   "metadata": {},
   "outputs": [
    {
     "data": {
      "text/html": [
       "<div>\n",
       "<style scoped>\n",
       "    .dataframe tbody tr th:only-of-type {\n",
       "        vertical-align: middle;\n",
       "    }\n",
       "\n",
       "    .dataframe tbody tr th {\n",
       "        vertical-align: top;\n",
       "    }\n",
       "\n",
       "    .dataframe thead th {\n",
       "        text-align: right;\n",
       "    }\n",
       "</style>\n",
       "<table border=\"1\" class=\"dataframe\">\n",
       "  <thead>\n",
       "    <tr style=\"text-align: right;\">\n",
       "      <th></th>\n",
       "      <th>WTI</th>\n",
       "    </tr>\n",
       "    <tr>\n",
       "      <th>Date</th>\n",
       "      <th></th>\n",
       "    </tr>\n",
       "  </thead>\n",
       "  <tbody>\n",
       "    <tr>\n",
       "      <td>1996-01-05</td>\n",
       "      <td>19.99</td>\n",
       "    </tr>\n",
       "    <tr>\n",
       "      <td>1996-01-12</td>\n",
       "      <td>19.43</td>\n",
       "    </tr>\n",
       "    <tr>\n",
       "      <td>1996-01-19</td>\n",
       "      <td>18.64</td>\n",
       "    </tr>\n",
       "    <tr>\n",
       "      <td>1996-01-26</td>\n",
       "      <td>18.35</td>\n",
       "    </tr>\n",
       "    <tr>\n",
       "      <td>1996-02-02</td>\n",
       "      <td>17.64</td>\n",
       "    </tr>\n",
       "    <tr>\n",
       "      <td>...</td>\n",
       "      <td>...</td>\n",
       "    </tr>\n",
       "    <tr>\n",
       "      <td>2015-03-27</td>\n",
       "      <td>48.68</td>\n",
       "    </tr>\n",
       "    <tr>\n",
       "      <td>2015-04-03</td>\n",
       "      <td>48.91</td>\n",
       "    </tr>\n",
       "    <tr>\n",
       "      <td>2015-04-10</td>\n",
       "      <td>51.78</td>\n",
       "    </tr>\n",
       "    <tr>\n",
       "      <td>2015-04-17</td>\n",
       "      <td>54.78</td>\n",
       "    </tr>\n",
       "    <tr>\n",
       "      <td>2015-04-24</td>\n",
       "      <td>56.14</td>\n",
       "    </tr>\n",
       "  </tbody>\n",
       "</table>\n",
       "<p>1008 rows × 1 columns</p>\n",
       "</div>"
      ],
      "text/plain": [
       "              WTI\n",
       "Date             \n",
       "1996-01-05  19.99\n",
       "1996-01-12  19.43\n",
       "1996-01-19  18.64\n",
       "1996-01-26  18.35\n",
       "1996-02-02  17.64\n",
       "...           ...\n",
       "2015-03-27  48.68\n",
       "2015-04-03  48.91\n",
       "2015-04-10  51.78\n",
       "2015-04-17  54.78\n",
       "2015-04-24  56.14\n",
       "\n",
       "[1008 rows x 1 columns]"
      ]
     },
     "execution_count": 123,
     "metadata": {},
     "output_type": "execute_result"
    }
   ],
   "source": [
    "WTI_spot.head(-1)"
   ]
  },
  {
   "cell_type": "code",
   "execution_count": 124,
   "metadata": {},
   "outputs": [
    {
     "data": {
      "text/html": [
       "<div>\n",
       "<style scoped>\n",
       "    .dataframe tbody tr th:only-of-type {\n",
       "        vertical-align: middle;\n",
       "    }\n",
       "\n",
       "    .dataframe tbody tr th {\n",
       "        vertical-align: top;\n",
       "    }\n",
       "\n",
       "    .dataframe thead th {\n",
       "        text-align: right;\n",
       "    }\n",
       "</style>\n",
       "<table border=\"1\" class=\"dataframe\">\n",
       "  <thead>\n",
       "    <tr style=\"text-align: right;\">\n",
       "      <th></th>\n",
       "      <th>F1</th>\n",
       "      <th>F2</th>\n",
       "      <th>F3</th>\n",
       "      <th>F4</th>\n",
       "      <th>F5</th>\n",
       "      <th>F6</th>\n",
       "      <th>F7</th>\n",
       "      <th>F8</th>\n",
       "      <th>F9</th>\n",
       "      <th>F10</th>\n",
       "      <th>...</th>\n",
       "      <th>F19</th>\n",
       "      <th>F20</th>\n",
       "      <th>Y</th>\n",
       "      <th>Y_diff</th>\n",
       "      <th>Y_shift</th>\n",
       "      <th>Reversao</th>\n",
       "      <th>Value_Shift</th>\n",
       "      <th>lnSt</th>\n",
       "      <th>lnSt_1</th>\n",
       "      <th>lnStSt_1</th>\n",
       "    </tr>\n",
       "    <tr>\n",
       "      <th>Date</th>\n",
       "      <th></th>\n",
       "      <th></th>\n",
       "      <th></th>\n",
       "      <th></th>\n",
       "      <th></th>\n",
       "      <th></th>\n",
       "      <th></th>\n",
       "      <th></th>\n",
       "      <th></th>\n",
       "      <th></th>\n",
       "      <th></th>\n",
       "      <th></th>\n",
       "      <th></th>\n",
       "      <th></th>\n",
       "      <th></th>\n",
       "      <th></th>\n",
       "      <th></th>\n",
       "      <th></th>\n",
       "      <th></th>\n",
       "      <th></th>\n",
       "      <th></th>\n",
       "    </tr>\n",
       "  </thead>\n",
       "  <tbody>\n",
       "    <tr>\n",
       "      <td>1996-01-03</td>\n",
       "      <td>19.89</td>\n",
       "      <td>19.34</td>\n",
       "      <td>18.90</td>\n",
       "      <td>18.58</td>\n",
       "      <td>18.35</td>\n",
       "      <td>18.16</td>\n",
       "      <td>18.01</td>\n",
       "      <td>17.92</td>\n",
       "      <td>17.84</td>\n",
       "      <td>17.77</td>\n",
       "      <td>...</td>\n",
       "      <td>17.40</td>\n",
       "      <td>17.38</td>\n",
       "      <td>0.360555</td>\n",
       "      <td>NaN</td>\n",
       "      <td>NaN</td>\n",
       "      <td>0</td>\n",
       "      <td>NaN</td>\n",
       "      <td>2.990217</td>\n",
       "      <td>NaN</td>\n",
       "      <td>NaN</td>\n",
       "    </tr>\n",
       "    <tr>\n",
       "      <td>1996-01-10</td>\n",
       "      <td>19.67</td>\n",
       "      <td>19.18</td>\n",
       "      <td>18.78</td>\n",
       "      <td>18.47</td>\n",
       "      <td>18.24</td>\n",
       "      <td>18.06</td>\n",
       "      <td>17.91</td>\n",
       "      <td>17.82</td>\n",
       "      <td>17.74</td>\n",
       "      <td>17.66</td>\n",
       "      <td>...</td>\n",
       "      <td>17.32</td>\n",
       "      <td>17.30</td>\n",
       "      <td>0.326775</td>\n",
       "      <td>-0.033780</td>\n",
       "      <td>0.360555</td>\n",
       "      <td>0</td>\n",
       "      <td>19.89</td>\n",
       "      <td>2.979095</td>\n",
       "      <td>2.990217</td>\n",
       "      <td>-0.011122</td>\n",
       "    </tr>\n",
       "    <tr>\n",
       "      <td>1996-01-17</td>\n",
       "      <td>18.52</td>\n",
       "      <td>18.05</td>\n",
       "      <td>17.79</td>\n",
       "      <td>17.60</td>\n",
       "      <td>17.45</td>\n",
       "      <td>17.35</td>\n",
       "      <td>17.27</td>\n",
       "      <td>17.21</td>\n",
       "      <td>17.16</td>\n",
       "      <td>17.11</td>\n",
       "      <td>...</td>\n",
       "      <td>16.91</td>\n",
       "      <td>16.91</td>\n",
       "      <td>0.332523</td>\n",
       "      <td>0.005748</td>\n",
       "      <td>0.326775</td>\n",
       "      <td>0</td>\n",
       "      <td>19.67</td>\n",
       "      <td>2.918851</td>\n",
       "      <td>2.979095</td>\n",
       "      <td>-0.060243</td>\n",
       "    </tr>\n",
       "    <tr>\n",
       "      <td>1996-01-23</td>\n",
       "      <td>18.06</td>\n",
       "      <td>17.67</td>\n",
       "      <td>17.47</td>\n",
       "      <td>17.32</td>\n",
       "      <td>17.22</td>\n",
       "      <td>17.15</td>\n",
       "      <td>17.09</td>\n",
       "      <td>17.04</td>\n",
       "      <td>16.99</td>\n",
       "      <td>16.94</td>\n",
       "      <td>...</td>\n",
       "      <td>16.79</td>\n",
       "      <td>16.81</td>\n",
       "      <td>0.286031</td>\n",
       "      <td>-0.046491</td>\n",
       "      <td>0.332523</td>\n",
       "      <td>0</td>\n",
       "      <td>18.52</td>\n",
       "      <td>2.893700</td>\n",
       "      <td>2.918851</td>\n",
       "      <td>-0.025152</td>\n",
       "    </tr>\n",
       "    <tr>\n",
       "      <td>1996-01-24</td>\n",
       "      <td>18.28</td>\n",
       "      <td>17.88</td>\n",
       "      <td>17.67</td>\n",
       "      <td>17.52</td>\n",
       "      <td>17.41</td>\n",
       "      <td>17.32</td>\n",
       "      <td>17.26</td>\n",
       "      <td>17.20</td>\n",
       "      <td>17.14</td>\n",
       "      <td>17.08</td>\n",
       "      <td>...</td>\n",
       "      <td>16.93</td>\n",
       "      <td>16.94</td>\n",
       "      <td>0.289554</td>\n",
       "      <td>0.003522</td>\n",
       "      <td>0.286031</td>\n",
       "      <td>0</td>\n",
       "      <td>18.06</td>\n",
       "      <td>2.905808</td>\n",
       "      <td>2.893700</td>\n",
       "      <td>0.012108</td>\n",
       "    </tr>\n",
       "    <tr>\n",
       "      <td>...</td>\n",
       "      <td>...</td>\n",
       "      <td>...</td>\n",
       "      <td>...</td>\n",
       "      <td>...</td>\n",
       "      <td>...</td>\n",
       "      <td>...</td>\n",
       "      <td>...</td>\n",
       "      <td>...</td>\n",
       "      <td>...</td>\n",
       "      <td>...</td>\n",
       "      <td>...</td>\n",
       "      <td>...</td>\n",
       "      <td>...</td>\n",
       "      <td>...</td>\n",
       "      <td>...</td>\n",
       "      <td>...</td>\n",
       "      <td>...</td>\n",
       "      <td>...</td>\n",
       "      <td>...</td>\n",
       "      <td>...</td>\n",
       "      <td>...</td>\n",
       "    </tr>\n",
       "    <tr>\n",
       "      <td>2015-03-25</td>\n",
       "      <td>51.53</td>\n",
       "      <td>53.23</td>\n",
       "      <td>54.55</td>\n",
       "      <td>55.74</td>\n",
       "      <td>56.83</td>\n",
       "      <td>57.76</td>\n",
       "      <td>58.46</td>\n",
       "      <td>59.07</td>\n",
       "      <td>59.64</td>\n",
       "      <td>60.12</td>\n",
       "      <td>...</td>\n",
       "      <td>62.92</td>\n",
       "      <td>63.13</td>\n",
       "      <td>-0.365440</td>\n",
       "      <td>0.071831</td>\n",
       "      <td>-0.437270</td>\n",
       "      <td>0</td>\n",
       "      <td>50.52</td>\n",
       "      <td>3.942164</td>\n",
       "      <td>3.922369</td>\n",
       "      <td>0.019795</td>\n",
       "    </tr>\n",
       "    <tr>\n",
       "      <td>2015-04-01</td>\n",
       "      <td>50.76</td>\n",
       "      <td>52.55</td>\n",
       "      <td>53.99</td>\n",
       "      <td>55.25</td>\n",
       "      <td>56.34</td>\n",
       "      <td>57.24</td>\n",
       "      <td>57.91</td>\n",
       "      <td>58.51</td>\n",
       "      <td>59.07</td>\n",
       "      <td>59.53</td>\n",
       "      <td>...</td>\n",
       "      <td>62.30</td>\n",
       "      <td>62.53</td>\n",
       "      <td>-0.391821</td>\n",
       "      <td>-0.026382</td>\n",
       "      <td>-0.365440</td>\n",
       "      <td>0</td>\n",
       "      <td>51.53</td>\n",
       "      <td>3.927109</td>\n",
       "      <td>3.942164</td>\n",
       "      <td>-0.015056</td>\n",
       "    </tr>\n",
       "    <tr>\n",
       "      <td>2015-04-08</td>\n",
       "      <td>49.93</td>\n",
       "      <td>51.76</td>\n",
       "      <td>53.40</td>\n",
       "      <td>54.75</td>\n",
       "      <td>55.93</td>\n",
       "      <td>56.87</td>\n",
       "      <td>57.58</td>\n",
       "      <td>58.21</td>\n",
       "      <td>58.80</td>\n",
       "      <td>59.26</td>\n",
       "      <td>...</td>\n",
       "      <td>62.30</td>\n",
       "      <td>62.54</td>\n",
       "      <td>-0.407891</td>\n",
       "      <td>-0.016070</td>\n",
       "      <td>-0.391821</td>\n",
       "      <td>0</td>\n",
       "      <td>50.76</td>\n",
       "      <td>3.910622</td>\n",
       "      <td>3.927109</td>\n",
       "      <td>-0.016487</td>\n",
       "    </tr>\n",
       "    <tr>\n",
       "      <td>2015-04-15</td>\n",
       "      <td>50.00</td>\n",
       "      <td>51.66</td>\n",
       "      <td>52.95</td>\n",
       "      <td>54.09</td>\n",
       "      <td>55.13</td>\n",
       "      <td>56.01</td>\n",
       "      <td>56.69</td>\n",
       "      <td>57.33</td>\n",
       "      <td>57.94</td>\n",
       "      <td>58.43</td>\n",
       "      <td>...</td>\n",
       "      <td>61.34</td>\n",
       "      <td>61.61</td>\n",
       "      <td>-0.367873</td>\n",
       "      <td>0.040018</td>\n",
       "      <td>-0.407891</td>\n",
       "      <td>0</td>\n",
       "      <td>49.93</td>\n",
       "      <td>3.912023</td>\n",
       "      <td>3.910622</td>\n",
       "      <td>0.001401</td>\n",
       "    </tr>\n",
       "    <tr>\n",
       "      <td>2015-04-22</td>\n",
       "      <td>48.29</td>\n",
       "      <td>50.07</td>\n",
       "      <td>51.44</td>\n",
       "      <td>52.59</td>\n",
       "      <td>53.62</td>\n",
       "      <td>54.49</td>\n",
       "      <td>55.18</td>\n",
       "      <td>55.84</td>\n",
       "      <td>56.48</td>\n",
       "      <td>57.00</td>\n",
       "      <td>...</td>\n",
       "      <td>60.24</td>\n",
       "      <td>60.54</td>\n",
       "      <td>-0.410314</td>\n",
       "      <td>-0.042441</td>\n",
       "      <td>-0.367873</td>\n",
       "      <td>0</td>\n",
       "      <td>50.00</td>\n",
       "      <td>3.877224</td>\n",
       "      <td>3.912023</td>\n",
       "      <td>-0.034799</td>\n",
       "    </tr>\n",
       "  </tbody>\n",
       "</table>\n",
       "<p>1150 rows × 28 columns</p>\n",
       "</div>"
      ],
      "text/plain": [
       "               F1     F2     F3     F4     F5     F6     F7     F8     F9  \\\n",
       "Date                                                                        \n",
       "1996-01-03  19.89  19.34  18.90  18.58  18.35  18.16  18.01  17.92  17.84   \n",
       "1996-01-10  19.67  19.18  18.78  18.47  18.24  18.06  17.91  17.82  17.74   \n",
       "1996-01-17  18.52  18.05  17.79  17.60  17.45  17.35  17.27  17.21  17.16   \n",
       "1996-01-23  18.06  17.67  17.47  17.32  17.22  17.15  17.09  17.04  16.99   \n",
       "1996-01-24  18.28  17.88  17.67  17.52  17.41  17.32  17.26  17.20  17.14   \n",
       "...           ...    ...    ...    ...    ...    ...    ...    ...    ...   \n",
       "2015-03-25  51.53  53.23  54.55  55.74  56.83  57.76  58.46  59.07  59.64   \n",
       "2015-04-01  50.76  52.55  53.99  55.25  56.34  57.24  57.91  58.51  59.07   \n",
       "2015-04-08  49.93  51.76  53.40  54.75  55.93  56.87  57.58  58.21  58.80   \n",
       "2015-04-15  50.00  51.66  52.95  54.09  55.13  56.01  56.69  57.33  57.94   \n",
       "2015-04-22  48.29  50.07  51.44  52.59  53.62  54.49  55.18  55.84  56.48   \n",
       "\n",
       "              F10  ...    F19    F20         Y    Y_diff   Y_shift  Reversao  \\\n",
       "Date               ...                                                         \n",
       "1996-01-03  17.77  ...  17.40  17.38  0.360555       NaN       NaN         0   \n",
       "1996-01-10  17.66  ...  17.32  17.30  0.326775 -0.033780  0.360555         0   \n",
       "1996-01-17  17.11  ...  16.91  16.91  0.332523  0.005748  0.326775         0   \n",
       "1996-01-23  16.94  ...  16.79  16.81  0.286031 -0.046491  0.332523         0   \n",
       "1996-01-24  17.08  ...  16.93  16.94  0.289554  0.003522  0.286031         0   \n",
       "...           ...  ...    ...    ...       ...       ...       ...       ...   \n",
       "2015-03-25  60.12  ...  62.92  63.13 -0.365440  0.071831 -0.437270         0   \n",
       "2015-04-01  59.53  ...  62.30  62.53 -0.391821 -0.026382 -0.365440         0   \n",
       "2015-04-08  59.26  ...  62.30  62.54 -0.407891 -0.016070 -0.391821         0   \n",
       "2015-04-15  58.43  ...  61.34  61.61 -0.367873  0.040018 -0.407891         0   \n",
       "2015-04-22  57.00  ...  60.24  60.54 -0.410314 -0.042441 -0.367873         0   \n",
       "\n",
       "            Value_Shift      lnSt    lnSt_1  lnStSt_1  \n",
       "Date                                                   \n",
       "1996-01-03          NaN  2.990217       NaN       NaN  \n",
       "1996-01-10        19.89  2.979095  2.990217 -0.011122  \n",
       "1996-01-17        19.67  2.918851  2.979095 -0.060243  \n",
       "1996-01-23        18.52  2.893700  2.918851 -0.025152  \n",
       "1996-01-24        18.06  2.905808  2.893700  0.012108  \n",
       "...                 ...       ...       ...       ...  \n",
       "2015-03-25        50.52  3.942164  3.922369  0.019795  \n",
       "2015-04-01        51.53  3.927109  3.942164 -0.015056  \n",
       "2015-04-08        50.76  3.910622  3.927109 -0.016487  \n",
       "2015-04-15        49.93  3.912023  3.910622  0.001401  \n",
       "2015-04-22        50.00  3.877224  3.912023 -0.034799  \n",
       "\n",
       "[1150 rows x 28 columns]"
      ]
     },
     "execution_count": 124,
     "metadata": {},
     "output_type": "execute_result"
    }
   ],
   "source": [
    "data.head(-1)"
   ]
  },
  {
   "cell_type": "code",
   "execution_count": 125,
   "metadata": {},
   "outputs": [
    {
     "name": "stdout",
     "output_type": "stream",
     "text": [
      "WTI    31.113828\n",
      "dtype: float64\n",
      "WTI    15.181504\n",
      "dtype: float64\n"
     ]
    }
   ],
   "source": [
    "####Aproximando Spot - Dado Semanal -EIA\n",
    "\n",
    "vol_spot=np.std(WTI_spot.pct_change(1))*np.sqrt(52)\n",
    "print(vol_spot*100)\n",
    "alpha_spot=(np.mean(WTI_spot.pct_change(1))+.5*np.power(np.std(WTI_spot.pct_change(1)),2))*52\n",
    "print(alpha_spot*100)"
   ]
  },
  {
   "cell_type": "code",
   "execution_count": 126,
   "metadata": {},
   "outputs": [],
   "source": [
    "WTI_spot['Value_Shift']=WTI_spot['WTI'].shift(1)\n",
    "WTI_spot['lnSt']= np.log(WTI_spot['WTI'])\n",
    "WTI_spot['lnSt_1']= np.log(WTI_spot['Value_Shift'])\n",
    "WTI_spot['lnStSt_1']= WTI_spot['lnSt'] -WTI_spot['lnSt_1'] "
   ]
  },
  {
   "cell_type": "code",
   "execution_count": 127,
   "metadata": {},
   "outputs": [
    {
     "name": "stdout",
     "output_type": "stream",
     "text": [
      "vol é 31.152166169335832\n",
      "alpha é 10.345643505350676\n"
     ]
    }
   ],
   "source": [
    "print('vol é',100*np.std(WTI_spot.lnStSt_1)*np.sqrt(52))\n",
    "print('alpha é',100*(((np.mean(WTI_spot.lnStSt_1)+ 0.5*np.std(WTI_spot.lnStSt_1)**2)*52)))\n"
   ]
  },
  {
   "cell_type": "code",
   "execution_count": 129,
   "metadata": {},
   "outputs": [
    {
     "data": {
      "text/plain": [
       "0.21149608292158534"
      ]
     },
     "execution_count": 129,
     "metadata": {},
     "output_type": "execute_result"
    }
   ],
   "source": [
    "adfuller(WTI_spot.WTI)[1]\n",
    "#não pode descartar  h0 (MGB)"
   ]
  },
  {
   "cell_type": "code",
   "execution_count": 145,
   "metadata": {},
   "outputs": [
    {
     "data": {
      "text/plain": [
       "<matplotlib.legend.Legend at 0x25f08b31648>"
      ]
     },
     "execution_count": 145,
     "metadata": {},
     "output_type": "execute_result"
    },
    {
     "data": {
      "image/png": "[encoded data removed]",
      "text/plain": [
       "<Figure size 432x288 with 1 Axes>"
      ]
     },
     "metadata": {},
     "output_type": "display_data"
    }
   ],
   "source": [
    "WTI_spot['WTI'].plot()\n",
    "sns.despine(left=True)\n",
    "plt.xlabel('Ano')\n",
    "plt.ylabel('$/bbl')\n",
    "plt.title('WTI- Spot - EIA')\n",
    "\n",
    "plt.legend(['WTI'])"
   ]
  },
  {
   "cell_type": "code",
   "execution_count": 148,
   "metadata": {},
   "outputs": [
    {
     "data": {
      "text/plain": [
       "Text(0.5, 1.0, 'WTI- Futuro')"
      ]
     },
     "execution_count": 148,
     "metadata": {},
     "output_type": "execute_result"
    },
    {
     "data": {
      "image/png": "[encoded data removed]",
      "text/plain": [
       "<Figure size 432x288 with 1 Axes>"
      ]
     },
     "metadata": {},
     "output_type": "display_data"
    }
   ],
   "source": [
    "data['F1'].plot()\n",
    "data['F20'].plot()\n",
    "sns.despine(left=True)\n",
    "plt.xlabel('Ano')\n",
    "plt.legend(['CL1','CL20'])\n",
    "plt.ylabel('$/bbl')\n",
    "plt.title('WTI- Futuro')"
   ]
  },
  {
   "cell_type": "code",
   "execution_count": 167,
   "metadata": {},
   "outputs": [
    {
     "name": "stdout",
     "output_type": "stream",
     "text": [
      "1\n",
      "2\n",
      "3\n",
      "4\n",
      "5\n",
      "6\n",
      "7\n",
      "8\n",
      "9\n",
      "10\n",
      "11\n",
      "12\n",
      "13\n",
      "14\n",
      "15\n",
      "16\n",
      "17\n",
      "18\n",
      "19\n",
      "20\n"
     ]
    }
   ],
   "source": [
    "termo_vol_0=[]\n",
    "for i in range(20):\n",
    "    termo_vol_0.append(100*np.std(data['F{}'.format(i+1)].pct_change(1))*np.sqrt(52))\n",
    "    print(i+1)\n",
    "\n"
   ]
  },
  {
   "cell_type": "code",
   "execution_count": 168,
   "metadata": {},
   "outputs": [
    {
     "data": {
      "text/plain": [
       "[32.0736774921536,\n",
       " 29.814369995336303,\n",
       " 28.20378021669105,\n",
       " 26.92352416914552,\n",
       " 25.863500954546677,\n",
       " 24.984914232518385,\n",
       " 24.26645001422937,\n",
       " 23.655293222997503,\n",
       " 23.11387912800214,\n",
       " 22.62224487419142,\n",
       " 22.166952350134775,\n",
       " 21.757098341972082,\n",
       " 21.387688980569916,\n",
       " 21.044555371134845,\n",
       " 20.738908994881786,\n",
       " 20.62768886647883,\n",
       " 20.358761345167157,\n",
       " 19.962914605041927,\n",
       " 19.76789342869561,\n",
       " 19.5666349176928]"
      ]
     },
     "execution_count": 168,
     "metadata": {},
     "output_type": "execute_result"
    }
   ],
   "source": [
    "termo_vol_0"
   ]
  },
  {
   "cell_type": "code",
   "execution_count": 172,
   "metadata": {},
   "outputs": [
    {
     "data": {
      "image/png": "[encoded data removed]",
      "text/plain": [
       "<Figure size 432x288 with 1 Axes>"
      ]
     },
     "metadata": {},
     "output_type": "display_data"
    }
   ],
   "source": [
    "plt.scatter(np.linspace(1,20,20),termo_vol_0)\n",
    "sns.despine(left=True)\n",
    "plt.xlabel('Expiração - Contratos - Meses')\n",
    "plt.ylabel('Volatilidade-%')\n",
    "plt.title('Estrutura a Termo da Volatilidade')\n",
    "plt.xticks(np.arange(1,21,1));"
   ]
  },
  {
   "cell_type": "code",
   "execution_count": 170,
   "metadata": {},
   "outputs": [
    {
     "data": {
      "text/plain": [
       "20"
      ]
     },
     "execution_count": 170,
     "metadata": {},
     "output_type": "execute_result"
    }
   ],
   "source": [
    "len(termo_vol_0)"
   ]
  },
  {
   "cell_type": "code",
   "execution_count": 116,
   "metadata": {},
   "outputs": [],
   "source": [
    "def reversao(i):\n",
    "    data['Y']=r -(12/(i+1))*np.log(data['F{}'.format(i+2)]/data.F1)\n",
    "    data['Y_diff']=data['Y'].diff(1)\n",
    "    data['Y_shift']=data['Y'].shift(1)\n",
    "    results=smf.ols(formula = \"Y_diff ~ Y_shift\", data=data, missing='drop').fit()\n",
    "    print(i+2)\n",
    "    print(round(results.pvalues[0],2))\n",
    "    #delta_t=1/52 #medida anual\n",
    "    a=results.params[0]\n",
    "    b=results.params[1]\n",
    "    y_barra=a/-b\n",
    "    \n",
    "    return[y_barra*100]"
   ]
  },
  {
   "cell_type": "code",
   "execution_count": 117,
   "metadata": {},
   "outputs": [
    {
     "name": "stdout",
     "output_type": "stream",
     "text": [
      "2\n",
      "0.96\n",
      "3\n",
      "0.78\n",
      "4\n",
      "0.64\n",
      "5\n",
      "0.56\n",
      "6\n",
      "0.5\n",
      "7\n",
      "0.45\n",
      "8\n",
      "0.42\n",
      "9\n",
      "0.39\n",
      "10\n",
      "0.37\n",
      "11\n",
      "0.35\n",
      "12\n",
      "0.34\n",
      "13\n",
      "0.32\n",
      "14\n",
      "0.31\n",
      "15\n",
      "0.3\n",
      "16\n",
      "0.28\n",
      "17\n",
      "0.27\n",
      "18\n",
      "0.26\n",
      "19\n",
      "0.25\n",
      "20\n",
      "0.25\n"
     ]
    }
   ],
   "source": [
    "termo_delta_y_barra=[]\n",
    "for i in range(19):\n",
    "    termo_delta_y_barra.append(reversao(i))\n",
    "    #print(i+2)\n"
   ]
  },
  {
   "cell_type": "code",
   "execution_count": 126,
   "metadata": {},
   "outputs": [
    {
     "data": {
      "text/plain": [
       "[[0.1515890403067151],\n",
       " [1.0137386993497957],\n",
       " [1.7090947221113342],\n",
       " [2.184340334084793],\n",
       " [2.553939269527917],\n",
       " [2.8504004257601943],\n",
       " [3.080468925260778],\n",
       " [3.243451890521263],\n",
       " [3.3716562666932868],\n",
       " [3.4757461713005977],\n",
       " [3.56131669594864],\n",
       " [3.6311723928750315],\n",
       " [3.686533383124211],\n",
       " [3.729900888871142],\n",
       " [3.7800085034476716],\n",
       " [3.8041647527830658],\n",
       " [3.809810364080568],\n",
       " [3.830828654842368],\n",
       " [3.8089814226738157]]"
      ]
     },
     "execution_count": 126,
     "metadata": {},
     "output_type": "execute_result"
    }
   ],
   "source": [
    "termo_delta_y_barra"
   ]
  },
  {
   "cell_type": "code",
   "execution_count": 125,
   "metadata": {},
   "outputs": [
    {
     "data": {
      "image/png": "[encoded data removed]",
      "text/plain": [
       "<Figure size 432x288 with 1 Axes>"
      ]
     },
     "metadata": {
      "needs_background": "light"
     },
     "output_type": "display_data"
    }
   ],
   "source": [
    "plt.scatter(np.linspace(1,19,19),termo_delta_y_barra)\n",
    "sns.despine(left=True)\n",
    "plt.xlabel('Expiração - Contratos - Meses')\n",
    "plt.ylabel('Taxa -(%)')\n",
    "plt.title('Estrutura a Termo do retorno de Conveniência - Delta-barra')\n",
    "plt.xticks(np.arange(1,21,1));"
   ]
  },
  {
   "cell_type": "code",
   "execution_count": null,
   "metadata": {},
   "outputs": [],
   "source": [
    "#####################Avaliação da Taxa de Juros##############3\n",
    "####  https://fred.stlouisfed.org/series/DGS20 #####\n"
   ]
  },
  {
   "cell_type": "code",
   "execution_count": 7,
   "metadata": {},
   "outputs": [],
   "source": [
    "DGS20=pd.read_excel('DGS20.xls',index_col=0)"
   ]
  },
  {
   "cell_type": "code",
   "execution_count": 12,
   "metadata": {},
   "outputs": [
    {
     "data": {
      "text/plain": [
       "[]"
      ]
     },
     "execution_count": 12,
     "metadata": {},
     "output_type": "execute_result"
    },
    {
     "data": {
      "image/png": "[encoded data removed]",
      "text/plain": [
       "<Figure size 432x288 with 1 Axes>"
      ]
     },
     "metadata": {},
     "output_type": "display_data"
    }
   ],
   "source": [
    "sns.set(style=\"darkgrid\")\n",
    "DGS20.plot()\n",
    "plt.legend(('20-Years-Treasury','FRED'))\n",
    "plt.ylabel('Taxa (%)')\n",
    "plt.xlabel('Ano')\n",
    "#plt.xticks(rotation=45)\n",
    "plt.plot()\n"
   ]
  },
  {
   "cell_type": "code",
   "execution_count": 8,
   "metadata": {},
   "outputs": [
    {
     "data": {
      "text/html": [
       "<div>\n",
       "<style scoped>\n",
       "    .dataframe tbody tr th:only-of-type {\n",
       "        vertical-align: middle;\n",
       "    }\n",
       "\n",
       "    .dataframe tbody tr th {\n",
       "        vertical-align: top;\n",
       "    }\n",
       "\n",
       "    .dataframe thead th {\n",
       "        text-align: right;\n",
       "    }\n",
       "</style>\n",
       "<table border=\"1\" class=\"dataframe\">\n",
       "  <thead>\n",
       "    <tr style=\"text-align: right;\">\n",
       "      <th></th>\n",
       "      <th>DGS20</th>\n",
       "    </tr>\n",
       "    <tr>\n",
       "      <th>Date</th>\n",
       "      <th></th>\n",
       "    </tr>\n",
       "  </thead>\n",
       "  <tbody>\n",
       "    <tr>\n",
       "      <td>1993-12-13</td>\n",
       "      <td>6.40</td>\n",
       "    </tr>\n",
       "    <tr>\n",
       "      <td>1993-12-14</td>\n",
       "      <td>6.46</td>\n",
       "    </tr>\n",
       "    <tr>\n",
       "      <td>1993-12-15</td>\n",
       "      <td>6.46</td>\n",
       "    </tr>\n",
       "    <tr>\n",
       "      <td>1993-12-16</td>\n",
       "      <td>6.47</td>\n",
       "    </tr>\n",
       "    <tr>\n",
       "      <td>1993-12-17</td>\n",
       "      <td>6.44</td>\n",
       "    </tr>\n",
       "  </tbody>\n",
       "</table>\n",
       "</div>"
      ],
      "text/plain": [
       "            DGS20\n",
       "Date             \n",
       "1993-12-13   6.40\n",
       "1993-12-14   6.46\n",
       "1993-12-15   6.46\n",
       "1993-12-16   6.47\n",
       "1993-12-17   6.44"
      ]
     },
     "execution_count": 8,
     "metadata": {},
     "output_type": "execute_result"
    }
   ],
   "source": [
    "DGS20"
   ]
  },
  {
   "cell_type": "code",
   "execution_count": null,
   "metadata": {},
   "outputs": [],
   "source": [
    "r_longo"
   ]
  },
  {
   "cell_type": "code",
   "execution_count": 24,
   "metadata": {},
   "outputs": [
    {
     "data": {
      "text/plain": [
       "0.030211472602739695"
      ]
     },
     "execution_count": 24,
     "metadata": {},
     "output_type": "execute_result"
    }
   ],
   "source": [
    "np.mean(DGS20['2010':'2016'])[0]/100"
   ]
  },
  {
   "cell_type": "code",
   "execution_count": null,
   "metadata": {},
   "outputs": [],
   "source": [
    "r=np.mean(DGS3['1996':'2016'])[0]/100\n"
   ]
  }
 ],
 "metadata": {
  "kernelspec": {
   "display_name": "Python 3",
   "language": "python",
   "name": "python3"
  },
  "language_info": {
   "codemirror_mode": {
    "name": "ipython",
    "version": 3
   },
   "file_extension": ".py",
   "mimetype": "text/x-python",
   "name": "python",
   "nbconvert_exporter": "python",
   "pygments_lexer": "ipython3",
   "version": "3.7.4"
  }
 },
 "nbformat": 4,
 "nbformat_minor": 2
}
