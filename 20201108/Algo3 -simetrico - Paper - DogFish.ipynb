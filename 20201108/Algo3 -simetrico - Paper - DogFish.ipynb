{
 "cells": [
  {
   "cell_type": "markdown",
   "metadata": {},
   "source": [
    "### Portfolio of Oil Exploration Assets: Learning Options, Sequential Drilling Options and Defer Options \n",
    "####  Marco Antonio Guimarães Dias, \n",
    "#### Luigi de Magalhães Detomi Calvette\n",
    "##### RO Congress - Boston 2017\n"
   ]
  },
  {
   "cell_type": "markdown",
   "metadata": {},
   "source": [
    "[Paper](http://www.realoptions.org/openconf2017/data/papers/57.pdf)"
   ]
  },
  {
   "cell_type": "code",
   "execution_count": 1,
   "metadata": {},
   "outputs": [],
   "source": [
    "import numpy as np\n",
    "import pandas as pd\n",
    "import matplotlib.pyplot as plt\n",
    "%matplotlib inline\n",
    "import seaborn as sns\n",
    "import scipy as sci\n",
    "from scipy.stats import norm\n",
    "import time\n",
    "import winsound"
   ]
  },
  {
   "cell_type": "code",
   "execution_count": null,
   "metadata": {},
   "outputs": [],
   "source": []
  },
  {
   "cell_type": "code",
   "execution_count": 2,
   "metadata": {},
   "outputs": [],
   "source": [
    "\n",
    "duration = 1000  # milliseconds\n",
    "freq = 440  # Hz"
   ]
  },
  {
   "cell_type": "code",
   "execution_count": 3,
   "metadata": {},
   "outputs": [
    {
     "data": {
      "text/html": [
       "<div>\n",
       "<style scoped>\n",
       "    .dataframe tbody tr th:only-of-type {\n",
       "        vertical-align: middle;\n",
       "    }\n",
       "\n",
       "    .dataframe tbody tr th {\n",
       "        vertical-align: top;\n",
       "    }\n",
       "\n",
       "    .dataframe thead th {\n",
       "        text-align: right;\n",
       "    }\n",
       "</style>\n",
       "<table border=\"1\" class=\"dataframe\">\n",
       "  <thead>\n",
       "    <tr style=\"text-align: right;\">\n",
       "      <th>Type</th>\n",
       "      <th>DogFish</th>\n",
       "    </tr>\n",
       "  </thead>\n",
       "  <tbody>\n",
       "    <tr>\n",
       "      <td>CF</td>\n",
       "      <td>0.3</td>\n",
       "    </tr>\n",
       "    <tr>\n",
       "      <td>I_w</td>\n",
       "      <td>80.0</td>\n",
       "    </tr>\n",
       "    <tr>\n",
       "      <td>q</td>\n",
       "      <td>0.2</td>\n",
       "    </tr>\n",
       "    <tr>\n",
       "      <td>B</td>\n",
       "      <td>620.0</td>\n",
       "    </tr>\n",
       "    <tr>\n",
       "      <td>Owner</td>\n",
       "      <td>0.0</td>\n",
       "    </tr>\n",
       "  </tbody>\n",
       "</table>\n",
       "</div>"
      ],
      "text/plain": [
       "Type   DogFish\n",
       "CF         0.3\n",
       "I_w       80.0\n",
       "q          0.2\n",
       "B        620.0\n",
       "Owner      0.0"
      ]
     },
     "execution_count": 3,
     "metadata": {},
     "output_type": "execute_result"
    }
   ],
   "source": [
    "#Importar Case \n",
    "case=pd.read_csv(\"Case_Guy_DogFish.csv\", sep=';')\n",
    "case.set_index('Type', inplace=True)\n",
    "case=case.astype(float).T\n",
    "case"
   ]
  },
  {
   "cell_type": "code",
   "execution_count": 4,
   "metadata": {},
   "outputs": [],
   "source": [
    "###Dados de Entrada###\n",
    "r=0.03\n",
    "delta=0.038\n",
    "sigma=0.3\n",
    "tau=3\n",
    "P=50\n",
    "rho=0.6\n",
    "CF=case.iloc[0,0]\n",
    "#q=case.iloc[2,0]\n",
    "q=0.2\n",
    "#B=case.iloc[3,0]\n",
    "B=620\n",
    "Iw=case.iloc[1,0]\n",
    "Id=B*5.35 + 650"
   ]
  },
  {
   "cell_type": "code",
   "execution_count": 5,
   "metadata": {},
   "outputs": [
    {
     "data": {
      "text/plain": [
       "620"
      ]
     },
     "execution_count": 5,
     "metadata": {},
     "output_type": "execute_result"
    }
   ],
   "source": [
    "B"
   ]
  },
  {
   "cell_type": "code",
   "execution_count": 6,
   "metadata": {},
   "outputs": [],
   "source": [
    "def sinal(CF,rho):\n",
    "    CF_s=CF +(1-CF)*rho\n",
    "    CF_ins=CF*(1-rho)\n",
    "    return CF_ins,CF_s\n"
   ]
  },
  {
   "cell_type": "code",
   "execution_count": 7,
   "metadata": {},
   "outputs": [],
   "source": [
    "def carteira(CF,q,P,B,delta,Id,Iw,r):\n",
    "    #VPL=P*case.iloc[2,0]*case.iloc[3,0] - (case.iloc[3,0]*5.35 + 650)*P/50\n",
    "    VPL=P*q*B*np.exp(-2*delta) - Id*np.exp(-2*r)\n",
    "    #c=0.047*P+3\n",
    "    #VPL=P*case.iloc[2,0]*case.iloc[3,0] - (case.iloc[3,0]*c + 650)\n",
    "    \n",
    "    vme=CF*VPL - Iw\n",
    "    #vme=np.maximum(0,vme)\n",
    "    ### retorna   VME, Valor, Investimento, (valor - FC*Id), Id+Iw\n",
    "    return vme, CF*VPL, Iw, CF*P*q*B,CF*Id*np.exp(-2*r) +Iw "
   ]
  },
  {
   "cell_type": "code",
   "execution_count": 8,
   "metadata": {},
   "outputs": [
    {
     "data": {
      "text/plain": [
       "(523.0841727818366, 603.0841727818366, 80.0, 1860.0, 1200.7939714186143)"
      ]
     },
     "execution_count": 8,
     "metadata": {},
     "output_type": "execute_result"
    }
   ],
   "source": [
    "carteira(CF,q,P,B,delta,Id,Iw,r)"
   ]
  },
  {
   "cell_type": "code",
   "execution_count": 9,
   "metadata": {},
   "outputs": [],
   "source": [
    "#####Valor Beta e Valor Crítico####\n",
    "def vcritico(I,r,div,sigma,tau):\n",
    "    if tau <=0:\n",
    "        vcrit=I\n",
    "        beta= 0.5 -(r-div)/(sigma**2) + np.sqrt(np.power(((r-div)/(sigma**2)) - 0.5,2) +((2*r)/(sigma**2)))\n",
    "    else:\n",
    "        if div<=0:\n",
    "            print(\"Faça um BSM\")\n",
    "        else:\n",
    "            \n",
    "            beta= 0.5 -(r-div)/(sigma**2) + np.sqrt(np.power(((r-div)/sigma**2) -0.5,2) +((2*r)/(sigma**2)))\n",
    "            V_perp= I*(beta/(beta-1))\n",
    "            V_0=np.maximum(I, (r/div)*I)\n",
    "            ht= -1*((r-div)*tau + 2*sigma*np.sqrt(tau))*(V_0/(V_perp - V_0))\n",
    "            vcrit= V_0 + (V_perp - V_0)*(1- np.exp(ht))\n",
    "    return[beta,vcrit, V_perp]\n",
    "            \n",
    "        \n",
    "        "
   ]
  },
  {
   "cell_type": "code",
   "execution_count": 10,
   "metadata": {},
   "outputs": [],
   "source": [
    "####Método Black Merton e Scholes\n",
    "def bsm(V,I,r,div,sigma,tau):\n",
    "    #Opção de Compra Europeia com dividendos - Merton\n",
    "    \n",
    "\n",
    "    if tau <=0:\n",
    "        call=np.maximum(V-I,0)\n",
    "        put=np.maximum(I-V,0)\n",
    "    else:\n",
    "        h1=(np.log(V/I) + ((r-div) +(0.5*np.power(sigma,2)))*tau)/(sigma*np.sqrt(tau))\n",
    "        h2=h1 -sigma*np.sqrt(tau)\n",
    "        \n",
    "        call= V*np.exp(-div*tau)*norm.cdf(h1) -I*np.exp(-r*tau)*norm.cdf(h2)\n",
    "        put= call + (np.exp(-r*tau)*I - V*np.exp(-div*tau))\n",
    "        put2= I*np.exp(-r*tau)*(1- norm.cdf(h2)) - V*np.exp(-div*tau)*(1-norm.cdf(h1))\n",
    "    #return[call, put, norm.cdf(h1), norm.cdf(h2),put2]\n",
    "    return[call, put]\n",
    "\n",
    "\n",
    "\n"
   ]
  },
  {
   "cell_type": "code",
   "execution_count": 11,
   "metadata": {},
   "outputs": [],
   "source": [
    "###Função probabilidade para cálculo do gatilho pelo método de aproximação analítica\n",
    "def prob(V,tau,gama,h,vcrit,r,div,sigma):\n",
    "    ####Função probabilidade\n",
    "    lamba=(-r +(gama*(r-div)) +0.5*gama*(gama-1)*sigma**2)*tau\n",
    "    dist= -(np.log(V/h)+((r-div)+(gama - 0.5)*sigma**2)*tau)/(sigma*np.sqrt(tau))\n",
    "    kappa= (2*gama -1) +  2*(r-div)/(sigma**2)\n",
    "    prob=np.exp(lamba)*(V**gama)*(norm.cdf(dist) - ((vcrit/V)**kappa)*(norm.cdf(dist -(2*np.log(vcrit/V))/(sigma*np.sqrt(tau)))))\n",
    "    \n",
    "    return[prob]\n",
    "    "
   ]
  },
  {
   "cell_type": "code",
   "execution_count": 12,
   "metadata": {},
   "outputs": [],
   "source": [
    "### Método Bjerksund e Stensland (1993) - saida - Derivativo, Gatilho e V_0\n",
    "def bjst(V,I,r,div,sigma,tau):\n",
    "    #### Call americana\n",
    "    if div <=0: #igual a call europeia\n",
    "        bs=bsm(V,I,r,div,sigma,tau)[0]\n",
    "    else:\n",
    "        beta=vcritico(I,r,div,sigma,tau)[0]\n",
    "        vcrit=vcritico(I,r,div,sigma,tau)[1]\n",
    "        alpha= (vcrit - I)*vcrit**(-beta)\n",
    "        \n",
    "        if V>= vcrit:\n",
    "            bs=V-I\n",
    "        else:\n",
    "            bs= alpha*V**beta -alpha*prob(V,tau,beta,vcrit,vcrit,r,div,sigma)[0]+prob(V,tau,1,vcrit,vcrit,r,div,sigma)[0]-prob(V,tau,1,I,vcrit,r,div,sigma)[0]-I*prob(V,tau,0,vcrit,vcrit,r,div,sigma)[0]+I*prob(V,tau,0,I,vcrit,r,div,sigma)[0]\n",
    "    \n",
    "    return[bs, vcrit, V]\n",
    "    \n",
    "    "
   ]
  },
  {
   "cell_type": "code",
   "execution_count": 13,
   "metadata": {},
   "outputs": [],
   "source": [
    "##################################################3\n",
    "#####################################################\n",
    "###########Solucao e_ DF ##############\n"
   ]
  },
  {
   "cell_type": "code",
   "execution_count": 14,
   "metadata": {},
   "outputs": [],
   "source": [
    "def diffinexpcart(P,I,r,div,sigma,tau,accur):\n",
    "    #############################################################\n",
    "    #######Método por diferenças finitas explícitas##############\n",
    "    #accur=0.05  #Porcentagem de acurácia\n",
    "    \n",
    "    #####Solução por diferenças finita explícitas###\n",
    "    #Precisão em e intervalo da célula em V\n",
    "    deltaP=P*accur\n",
    "    \n",
    "    # M são as divisões do grid em V\n",
    "    #Perpetuidade vcritico não esta na programacao\n",
    "    #M= int(1.1*vcritico(I,r,div,sigma,tau)[2]/deltaV) # Max é 10% acima do gatilho em perpetuidade. Vcrit- com gati precisa de tau\n",
    "    M=int(2*vcritico(I,r,div,sigma,tau)[2]/deltaP)\n",
    "    #PGrid=int(P/deltaP) #Ponto do grid onde esta P_0. \n",
    "    #deltat= (deltaP**2)/((sigma**2)*((3*I)**2)) #Convergência: Critério do peso central >=0. Pmax=3I ><1.1Gatilho_perp\n",
    "    deltat= (deltaP**2)/((sigma**2)*((3*I)**2))\n",
    "    N= int(tau/deltat) +1\n",
    "    \n",
    "    df=1/(1+(r*deltat)) # fator de desconto\n",
    "    \n",
    "    \n",
    "    #Vetor Pt\n",
    "    Pt=np.zeros(M+1)\n",
    "    Gatilho=np.zeros((N+1))\n",
    "    F=np.zeros((N+1,M+1))\n",
    "    deltat=tau/N\n",
    "    for i in range(M+1):\n",
    "        Pt[i]= i*deltaP\n",
    "        F[N,i]=np.maximum(Pt[i]-I,0) \n",
    "    Gatilho[N]=I\n",
    "        #Gatilho[N]=I\n",
    "    \n",
    "    \n",
    "    #print(PGrid,Pt.shape)\n",
    "    PGrid=np.where(np.round(Pt,2)==np.round(P,2))[0][0]\n",
    "    ##############Loop################\n",
    "    for j in range(N-1,-1,-1): #de N-1 até zero(-1) pulando em -1\n",
    "        for i in range(1,M,1): # de 1 até M-1 pulando em 1\n",
    "            pu= 0.5*((sigma**2)*(i**2) + ((r - div)*i))*deltat\n",
    "            pm = 1 - (sigma**2)*(i**2)*deltat\n",
    "            pdown = 0.5*((sigma**2)*(i**2) - ((r - div)*i))*deltat\n",
    "            F[j,i]= df*(pu*F[j+1,i+1] + pm*F[j+1,i] + pdown*F[j+1,i - 1])\n",
    "            \n",
    "            ###Vetor Gatilho####\n",
    "            if F[j,i]<Pt[i]-I  and F[j,i-1]>Pt[i-1]-I :\n",
    "                Gatilho[j]=(Pt[i-1] +Pt[i])*.5\n",
    "            F[j,i]=np.maximum(Pt[i]-I,F[j,i])\n",
    "            \n",
    "           \n",
    "        \n",
    "        F[j,0]=0\n",
    "        F[j,M]=Pt[i]-I\n",
    "        \n",
    "    T=np.linspace(0,tau,num=N+1)\n",
    "    return[F[0,PGrid],PGrid,F,T,Pt,Gatilho]\n",
    "\n"
   ]
  },
  {
   "cell_type": "code",
   "execution_count": 15,
   "metadata": {},
   "outputs": [],
   "source": [
    "#accur=0.005\n",
    "accur=0.01"
   ]
  },
  {
   "cell_type": "code",
   "execution_count": 16,
   "metadata": {},
   "outputs": [],
   "source": [
    "\n",
    "V_cf=CF*P*q*B*np.exp(-2*delta)\n",
    "Id_cf=CF*Id*np.exp(-2*r)\n"
   ]
  },
  {
   "cell_type": "code",
   "execution_count": 17,
   "metadata": {},
   "outputs": [
    {
     "name": "stdout",
     "output_type": "stream",
     "text": [
      "minutos- 0.7026707808176677\n"
     ]
    }
   ],
   "source": [
    "start=time.time()\n",
    "opcao,PGrid,mapa,tempo,preco,gatilho=diffinexpcart(V_cf,Id_cf+Iw,r,delta,sigma,tau,accur)\n",
    "cpu=time.time()-start\n",
    "print('minutos-',cpu/60)\n",
    "\n",
    "winsound.Beep(freq, duration)\n"
   ]
  },
  {
   "cell_type": "code",
   "execution_count": 18,
   "metadata": {},
   "outputs": [
    {
     "data": {
      "text/plain": [
       "(1723.878144200451, 1723.8781442004513)"
      ]
     },
     "execution_count": 18,
     "metadata": {},
     "output_type": "execute_result"
    }
   ],
   "source": [
    "V_cf, preco[PGrid]"
   ]
  },
  {
   "cell_type": "code",
   "execution_count": 19,
   "metadata": {},
   "outputs": [],
   "source": [
    "preco=preco/(CF*q*B*np.exp(-2*delta))"
   ]
  },
  {
   "cell_type": "code",
   "execution_count": 20,
   "metadata": {},
   "outputs": [],
   "source": [
    "g=gatilho/(CF*q*B*np.exp(-2*delta))"
   ]
  },
  {
   "cell_type": "code",
   "execution_count": 21,
   "metadata": {},
   "outputs": [
    {
     "name": "stdout",
     "output_type": "stream",
     "text": [
      "gatilho é: 69.25000000000001\n",
      "opcao vale: 581.2826188201499\n"
     ]
    },
    {
     "data": {
      "text/plain": [
       "[<matplotlib.lines.Line2D at 0x26db670dd88>]"
      ]
     },
     "execution_count": 21,
     "metadata": {},
     "output_type": "execute_result"
    },
    {
     "data": {
      "image/png": "[encoded data removed]",
      "text/plain": [
       "<Figure size 432x288 with 1 Axes>"
      ]
     },
     "metadata": {
      "needs_background": "light"
     },
     "output_type": "display_data"
    }
   ],
   "source": [
    "print('gatilho é:',gatilho[0]/(CF*q*B*np.exp(-2*delta)))\n",
    "print('opcao vale:', opcao)\n",
    "#plt.plot(tempo[:-1],g[:-1], ls='--')\n",
    "plt.plot(tempo,g, ls='--')\n"
   ]
  },
  {
   "cell_type": "code",
   "execution_count": 22,
   "metadata": {},
   "outputs": [
    {
     "data": {
      "text/plain": [
       "1199.71"
      ]
     },
     "execution_count": 22,
     "metadata": {},
     "output_type": "execute_result"
    }
   ],
   "source": [
    "np.round(carteira(CF,q,g[0],B,delta,Id,Iw,r)[0],2)\n"
   ]
  },
  {
   "cell_type": "code",
   "execution_count": 23,
   "metadata": {},
   "outputs": [
    {
     "name": "stdout",
     "output_type": "stream",
     "text": [
      "preco 70.0 opcao 1212.64 vme 1212.64 diff 0.0\n",
      "preco 70.25 opcao 1221.25 vme 1221.25 diff 0.0\n",
      "preco 70.5 opcao 1229.87 vme 1229.87 diff 0.0\n",
      "preco 70.75 opcao 1238.49 vme 1238.49 diff 0.0\n",
      "preco 71.0 opcao 1247.11 vme 1247.11 diff 0.0\n",
      "preco 71.25 opcao 1255.73 vme 1255.73 diff -0.0\n",
      "preco 71.5 opcao 1264.35 vme 1264.35 diff -0.0\n",
      "preco 71.75 opcao 1272.97 vme 1272.97 diff 0.0\n",
      "preco 72.0 opcao 1281.59 vme 1281.59 diff 0.0\n",
      "preco 72.25 opcao 1290.21 vme 1290.21 diff 0.0\n",
      "preco 72.5 opcao 1298.83 vme 1298.83 diff -0.0\n",
      "preco 72.75 opcao 1307.45 vme 1307.45 diff -0.0\n",
      "preco 73.0 opcao 1316.07 vme 1316.07 diff 0.0\n",
      "preco 73.25 opcao 1324.69 vme 1324.69 diff 0.0\n",
      "preco 73.5 opcao 1333.31 vme 1333.31 diff 0.0\n",
      "preco 73.75 opcao 1341.93 vme 1341.93 diff 0.0\n",
      "preco 74.0 opcao 1350.55 vme 1350.55 diff -0.0\n",
      "preco 74.25 opcao 1359.17 vme 1359.17 diff -0.0\n",
      "preco 74.5 opcao 1367.78 vme 1367.78 diff -0.0\n",
      "preco 74.75 opcao 1376.4 vme 1376.4 diff -0.0\n",
      "preco 75.0 opcao 1385.02 vme 1385.02 diff 0.0\n",
      "preco 75.25 opcao 1393.64 vme 1393.64 diff -0.0\n",
      "preco 75.5 opcao 1402.26 vme 1402.26 diff 0.0\n",
      "preco 75.75 opcao 1410.88 vme 1410.88 diff 0.0\n",
      "preco 76.0 opcao 1419.5 vme 1419.5 diff 0.0\n",
      "preco 76.25 opcao 1428.12 vme 1428.12 diff 0.0\n",
      "preco 76.5 opcao 1436.74 vme 1436.74 diff 0.0\n",
      "preco 76.75 opcao 1445.36 vme 1445.36 diff -0.0\n",
      "preco 77.0 opcao 1453.98 vme 1453.98 diff -0.0\n",
      "preco 77.25 opcao 1462.6 vme 1462.6 diff -0.0\n",
      "preco 77.5 opcao 1471.22 vme 1471.22 diff -0.0\n",
      "preco 77.75 opcao 1479.84 vme 1479.84 diff 0.0\n",
      "preco 78.0 opcao 1488.46 vme 1488.46 diff -0.0\n",
      "preco 78.25 opcao 1497.08 vme 1497.08 diff 0.0\n",
      "preco 78.5 opcao 1505.69 vme 1505.69 diff 0.0\n",
      "preco 78.75 opcao 1514.31 vme 1514.31 diff 0.0\n",
      "preco 79.0 opcao 1522.93 vme 1522.93 diff 0.0\n",
      "preco 79.25 opcao 1531.55 vme 1531.55 diff 0.0\n",
      "preco 79.5 opcao 1540.17 vme 1540.17 diff -0.0\n",
      "preco 79.75 opcao 1548.79 vme 1548.79 diff -0.0\n",
      "preco 80.0 opcao 1557.41 vme 1557.41 diff -0.0\n",
      "preco 80.25 opcao 1566.03 vme 1566.03 diff -0.0\n",
      "preco 80.5 opcao 1574.65 vme 1574.65 diff -0.0\n",
      "preco 80.75 opcao 1583.27 vme 1583.27 diff 0.0\n",
      "preco 81.0 opcao 1591.89 vme 1591.89 diff -0.0\n",
      "preco 81.25 opcao 1600.51 vme 1600.51 diff 0.0\n",
      "preco 81.5 opcao 1609.13 vme 1609.13 diff 0.0\n",
      "preco 81.75 opcao 1617.75 vme 1617.75 diff -0.0\n",
      "preco 82.0 opcao 1626.37 vme 1626.37 diff 0.0\n",
      "preco 82.25 opcao 1634.99 vme 1634.99 diff -0.0\n",
      "preco 82.5 opcao 1643.6 vme 1643.6 diff -0.0\n",
      "preco 82.75 opcao 1652.22 vme 1652.22 diff -0.0\n",
      "preco 83.0 opcao 1660.84 vme 1660.84 diff -0.0\n",
      "preco 83.25 opcao 1669.46 vme 1669.46 diff 0.0\n",
      "preco 83.5 opcao 1678.08 vme 1678.08 diff 0.0\n",
      "preco 83.75 opcao 1686.7 vme 1686.7 diff -0.0\n",
      "preco 84.0 opcao 1695.32 vme 1695.32 diff -0.0\n",
      "preco 84.25 opcao 1703.94 vme 1703.94 diff -0.0\n",
      "preco 84.5 opcao 1712.56 vme 1712.56 diff 0.0\n",
      "preco 84.75 opcao 1721.18 vme 1721.18 diff 0.0\n",
      "preco 85.0 opcao 1729.8 vme 1729.8 diff -0.0\n",
      "preco 85.25 opcao 1738.42 vme 1738.42 diff -0.0\n",
      "preco 85.5 opcao 1747.04 vme 1747.04 diff -0.0\n",
      "preco 85.75 opcao 1755.66 vme 1755.66 diff 0.0\n",
      "preco 86.0 opcao 1764.28 vme 1764.28 diff 0.0\n",
      "preco 86.25 opcao 1772.9 vme 1772.9 diff 0.0\n",
      "preco 86.5 opcao 1781.52 vme 1781.52 diff -0.0\n",
      "preco 86.75 opcao 1790.13 vme 1790.13 diff -0.0\n",
      "preco 87.0 opcao 1798.75 vme 1798.75 diff -0.0\n",
      "preco 87.25 opcao 1807.37 vme 1807.37 diff -0.0\n",
      "preco 87.5 opcao 1815.99 vme 1815.99 diff -0.0\n",
      "preco 87.75 opcao 1824.61 vme 1824.61 diff -0.0\n",
      "preco 88.0 opcao 1833.23 vme 1833.23 diff -0.0\n",
      "preco 88.25 opcao 1841.85 vme 1841.85 diff 0.0\n",
      "preco 88.5 opcao 1850.47 vme 1850.47 diff 0.0\n",
      "preco 88.75 opcao 1859.09 vme 1859.09 diff 0.0\n",
      "preco 89.0 opcao 1867.71 vme 1867.71 diff 0.0\n",
      "preco 89.25 opcao 1876.33 vme 1876.33 diff -0.0\n",
      "preco 89.5 opcao 1884.95 vme 1884.95 diff -0.0\n",
      "preco 89.75 opcao 1893.57 vme 1893.57 diff -0.0\n",
      "preco 90.0 opcao 1902.19 vme 1902.19 diff -0.0\n",
      "preco 90.25 opcao 1910.81 vme 1910.81 diff -0.0\n",
      "preco 90.5 opcao 1919.43 vme 1919.43 diff -0.0\n",
      "preco 90.75 opcao 1928.04 vme 1928.04 diff -0.0\n",
      "preco 91.0 opcao 1936.66 vme 1936.66 diff 0.0\n",
      "preco 91.25 opcao 1945.28 vme 1945.28 diff 0.0\n",
      "preco 91.5 opcao 1953.9 vme 1953.9 diff 0.0\n",
      "preco 91.75 opcao 1962.52 vme 1962.52 diff -0.0\n",
      "preco 92.0 opcao 1971.14 vme 1971.14 diff -0.0\n",
      "preco 92.25 opcao 1979.76 vme 1979.76 diff -0.0\n",
      "preco 92.5 opcao 1988.38 vme 1988.38 diff -0.0\n",
      "preco 92.75 opcao 1997.0 vme 1997.0 diff 0.0\n",
      "preco 93.0 opcao 2005.62 vme 2005.62 diff -0.0\n",
      "preco 93.25 opcao 2014.24 vme 2014.24 diff -0.0\n",
      "preco 93.5 opcao 2022.86 vme 2022.86 diff -0.0\n",
      "preco 93.75 opcao 2031.48 vme 2031.48 diff -0.0\n",
      "preco 94.0 opcao 2040.1 vme 2040.1 diff -0.0\n",
      "preco 94.25 opcao 2048.72 vme 2048.72 diff -0.0\n",
      "preco 94.5 opcao 2057.34 vme 2057.34 diff -0.0\n",
      "preco 94.75 opcao 2065.96 vme 2065.96 diff 0.0\n",
      "preco 95.0 opcao 2074.57 vme 2074.57 diff -0.0\n",
      "preco 95.25 opcao 2083.19 vme 2083.19 diff 0.0\n",
      "preco 95.5 opcao 2091.81 vme 2091.81 diff -0.0\n",
      "preco 95.75 opcao 2100.43 vme 2100.43 diff 0.0\n",
      "preco 96.0 opcao 2109.05 vme 2109.05 diff 0.0\n",
      "preco 96.25 opcao 2117.67 vme 2117.67 diff -0.0\n",
      "preco 96.5 opcao 2126.29 vme 2126.29 diff -0.0\n",
      "preco 96.75 opcao 2134.91 vme 2134.91 diff -0.0\n",
      "preco 97.0 opcao 2143.53 vme 2143.53 diff -0.0\n",
      "preco 97.25 opcao 2152.15 vme 2152.15 diff -0.0\n",
      "preco 97.5 opcao 2160.77 vme 2160.77 diff 0.0\n",
      "preco 97.75 opcao 2169.39 vme 2169.39 diff 0.0\n",
      "preco 98.0 opcao 2178.01 vme 2178.01 diff 0.0\n",
      "preco 98.25 opcao 2186.63 vme 2186.63 diff -0.0\n",
      "preco 98.5 opcao 2195.25 vme 2195.25 diff 0.0\n",
      "preco 98.75 opcao 2203.87 vme 2203.87 diff -0.0\n",
      "preco 99.0 opcao 2212.48 vme 2212.48 diff 0.0\n",
      "preco 99.25 opcao 2221.1 vme 2221.1 diff -0.0\n",
      "preco 99.5 opcao 2229.72 vme 2229.72 diff -0.0\n",
      "preco 99.75 opcao 2238.34 vme 2238.34 diff -0.0\n"
     ]
    }
   ],
   "source": [
    "for i in range(280,400):\n",
    "    print ('preco',np.round(preco[i],2), 'opcao', np.round(mapa[0,i],2),'vme', np.round(carteira(CF,q,preco[i],B,delta,Id,Iw,r)[0],2), 'diff',np.round(mapa[0,i]-carteira(CF,q,preco[i],B,delta,Id,Iw,r)[0],2))"
   ]
  },
  {
   "cell_type": "code",
   "execution_count": 24,
   "metadata": {},
   "outputs": [
    {
     "data": {
      "text/plain": [
       "72.00000000000001"
      ]
     },
     "execution_count": 24,
     "metadata": {},
     "output_type": "execute_result"
    }
   ],
   "source": [
    "preco[288]"
   ]
  },
  {
   "cell_type": "code",
   "execution_count": 25,
   "metadata": {},
   "outputs": [
    {
     "data": {
      "text/plain": [
       "(array([288, 289, 290, 291, 292, 293, 294, 295, 296, 297, 298, 299, 300,\n",
       "        301, 302, 303, 304, 305, 306, 307, 308, 309, 310, 311, 312, 313,\n",
       "        314, 315, 316, 317, 318, 319, 320, 321, 322, 323, 324, 325, 326,\n",
       "        327, 328, 329, 330, 331, 332, 333, 334, 335, 336, 337, 338, 339,\n",
       "        340, 341, 342, 343, 344, 345, 346, 347, 348, 349, 350, 351, 352,\n",
       "        353, 354, 355, 356, 357, 358, 359, 360, 361, 362, 363, 364, 365,\n",
       "        366, 367, 368, 369, 370, 371, 372, 373, 374, 375, 376, 377, 378,\n",
       "        379, 380, 381, 382, 383, 384, 385, 386, 387, 388, 389, 390, 391,\n",
       "        392, 393, 394, 395, 396, 397, 398, 399, 400, 401, 402, 403, 404,\n",
       "        405, 406, 407, 408, 409, 410, 411, 412, 413, 414, 415, 416, 417,\n",
       "        418, 419, 420, 421, 422, 423, 424, 425, 426, 427, 428, 429, 430,\n",
       "        431, 432, 433, 434, 435, 436, 437, 438, 439, 440, 441, 442, 443,\n",
       "        444, 445, 446, 447, 448, 449, 450, 451, 452, 453, 454, 455, 456,\n",
       "        457, 458, 459, 460, 461, 462, 463, 464, 465, 466, 467, 468, 469,\n",
       "        470, 471, 472, 473, 474, 475, 476, 477, 478, 479, 480, 481, 482,\n",
       "        483, 484, 485, 486, 487, 488, 489, 490, 491, 492, 493, 494, 495,\n",
       "        496, 497, 498, 499, 500, 501, 502, 503, 504, 505, 506, 507, 508,\n",
       "        509, 510, 511, 512, 513, 514, 515, 516, 517, 518, 519, 520, 521,\n",
       "        522, 523, 524, 525, 526, 527, 528, 529, 530, 531, 532, 533, 534,\n",
       "        535, 536, 537, 538, 539, 540, 541, 542, 543, 544, 545, 546, 547,\n",
       "        548, 549, 550, 551, 552, 553, 554, 555, 556, 557, 558, 559, 560,\n",
       "        561, 562, 563, 564, 565, 566, 567, 568, 569, 570, 571, 572, 573,\n",
       "        574, 575, 576, 577, 578, 579, 580, 581, 582, 583, 584, 585, 586,\n",
       "        587, 588, 589, 590, 591, 592, 593, 594, 595, 596, 597, 598, 599,\n",
       "        600, 601, 602, 603, 604, 605, 606, 607, 608, 609, 610, 611, 612,\n",
       "        613, 614, 615, 616, 617, 618, 619, 620, 621, 622, 623, 624, 625,\n",
       "        626, 627, 628, 629, 630, 631, 632, 633, 634, 635, 636, 637, 638,\n",
       "        639, 640, 641, 642, 643, 644, 645, 646, 647, 648, 649, 650, 651,\n",
       "        652, 653, 654, 655, 656, 657, 658, 659, 660, 661, 662, 663, 664,\n",
       "        665, 666, 667, 668, 669, 670, 671, 672, 673, 674, 675, 676, 677,\n",
       "        678, 679, 680, 681, 682, 683, 684, 685, 686, 687, 688, 689, 690,\n",
       "        691, 692, 693, 694, 695, 696, 697, 698, 699, 700, 701, 702, 703,\n",
       "        704, 705, 706, 707, 708, 709, 710, 711, 712, 713, 714, 715, 716,\n",
       "        717, 718, 719, 720, 721, 722, 723, 724, 725, 726, 727, 728, 729,\n",
       "        730, 731, 732, 733, 734, 735, 736, 737, 738, 739, 740, 741, 742,\n",
       "        743, 744, 745, 746], dtype=int64),)"
      ]
     },
     "execution_count": 25,
     "metadata": {},
     "output_type": "execute_result"
    }
   ],
   "source": [
    "np.where(preco>71.87)"
   ]
  },
  {
   "cell_type": "code",
   "execution_count": 26,
   "metadata": {},
   "outputs": [
    {
     "data": {
      "text/plain": [
       "(-5, 80)"
      ]
     },
     "execution_count": 26,
     "metadata": {},
     "output_type": "execute_result"
    },
    {
     "data": {
      "image/png": "[encoded data removed]",
      "text/plain": [
       "<Figure size 720x360 with 1 Axes>"
      ]
     },
     "metadata": {
      "needs_background": "light"
     },
     "output_type": "display_data"
    }
   ],
   "source": [
    "fig,ax=plt.subplots(figsize=(10,5))\n",
    "ax.plot(preco,mapa[0,:], ls='--')\n",
    "\n",
    "#ax.plot(preco,venc, ls='--')\n",
    "ax.plot(preco,mapa[-1,:], ls='--')\n",
    "\n",
    "plt.legend(['Opção_0','Opção_vencimento'])\n",
    "ax.set_title('Opções de Explorar - DogFish')\n",
    "ax.set_ylabel('Valor da Opção (M\\$)')\n",
    "ax.set_xlabel('Preço do Petróleo (\\$/bbl)')\n",
    "\n",
    "ax.set_ylim(-5,1400)\n",
    "ax.set_xlim(-5,80)\n",
    "\n"
   ]
  },
  {
   "cell_type": "code",
   "execution_count": 27,
   "metadata": {},
   "outputs": [],
   "source": [
    "\n",
    "V_inv=P*q*B*np.exp(-2*delta)\n",
    "Id_inv=Id*np.exp(-2*r)\n"
   ]
  },
  {
   "cell_type": "code",
   "execution_count": 28,
   "metadata": {},
   "outputs": [
    {
     "name": "stdout",
     "output_type": "stream",
     "text": [
      "minutos- 3.687636907895406\n"
     ]
    }
   ],
   "source": [
    "start=time.time()\n",
    "opcao_inv,PGrid_inv,mapa_inv,tempo_inv,preco_inv,gatilho_inv=diffinexpcart(V_inv,Id_inv,r,delta,sigma,tau,accur)\n",
    "cpu=time.time()-start\n",
    "print('minutos-',cpu/60)\n",
    "winsound.Beep(freq, duration)\n",
    "\n"
   ]
  },
  {
   "cell_type": "code",
   "execution_count": 29,
   "metadata": {},
   "outputs": [
    {
     "data": {
      "text/plain": [
       "(5746.26048066817, 5746.26048066817)"
      ]
     },
     "execution_count": 29,
     "metadata": {},
     "output_type": "execute_result"
    }
   ],
   "source": [
    "V_inv, preco_inv[PGrid_inv]"
   ]
  },
  {
   "cell_type": "code",
   "execution_count": 30,
   "metadata": {},
   "outputs": [],
   "source": [
    "preco_inv=preco_inv/(q*B*np.exp(-2*delta))"
   ]
  },
  {
   "cell_type": "code",
   "execution_count": 31,
   "metadata": {},
   "outputs": [],
   "source": [
    "g_inv=gatilho_inv/(q*B*np.exp(-2*delta))"
   ]
  },
  {
   "cell_type": "raw",
   "metadata": {},
   "source": [
    "print('gatilho é:',g_inv[0])\n",
    "print('opcao vale:', opcao_inv)\n",
    "#plt.plot(tempo[:-1],g[:-1], ls='--')\n",
    "plt.plot(tempo_inv,g_inv, ls='--')\n"
   ]
  },
  {
   "cell_type": "code",
   "execution_count": 32,
   "metadata": {},
   "outputs": [
    {
     "data": {
      "text/plain": [
       "747"
      ]
     },
     "execution_count": 32,
     "metadata": {},
     "output_type": "execute_result"
    }
   ],
   "source": [
    "len(preco)"
   ]
  },
  {
   "cell_type": "code",
   "execution_count": 33,
   "metadata": {},
   "outputs": [],
   "source": [
    "valor_vme=[]\n",
    "for i in range(len(preco)):\n",
    "    valor_vme.append(carteira(CF,q,preco[i],B,delta,Id,Iw,r)[0])"
   ]
  },
  {
   "cell_type": "code",
   "execution_count": null,
   "metadata": {},
   "outputs": [],
   "source": []
  },
  {
   "cell_type": "code",
   "execution_count": null,
   "metadata": {},
   "outputs": [],
   "source": []
  },
  {
   "cell_type": "code",
   "execution_count": 34,
   "metadata": {},
   "outputs": [
    {
     "data": {
      "text/plain": [
       "Text(0.5, 0, 'Preço do Petróleo (\\\\$/bbl)')"
      ]
     },
     "execution_count": 34,
     "metadata": {},
     "output_type": "execute_result"
    },
    {
     "data": {
      "image/png": "[encoded data removed]",
      "text/plain": [
       "<Figure size 720x360 with 1 Axes>"
      ]
     },
     "metadata": {
      "needs_background": "light"
     },
     "output_type": "display_data"
    }
   ],
   "source": [
    "fig,ax=plt.subplots(figsize=(10,5))\n",
    "\n",
    "ax.plot(preco,mapa[0,:], ls='--')\n",
    "ax.plot(preco,valor_vme, ls='--')\n",
    "ax.plot(preco_inv,CF*mapa_inv[0,:] - Iw, ls='--')\n",
    "\n",
    "ax.axhline(0, linestyle='-', color='grey')\n",
    "\n",
    "\n",
    "\n",
    "#ax.plot(preco,venc, ls='--')\n",
    "#ax.plot(preco_inv/(0.1*300*np.exp(-2*delta)),mapa_inv[-1,:], ls='--')\n",
    "\n",
    "plt.legend(['E(P,t)','VME(P)', 'VME(P,t)'])\n",
    "ax.set_ylim(-200,1400)\n",
    "ax.set_xlim(-5,80)\n",
    "ax.set_title('Métrica de Avaliação Exploratória - DogFish')\n",
    "\n",
    "ax.set_ylabel('Valor - (M\\$)')\n",
    "ax.set_xlabel('Preço do Petróleo (\\$/bbl)')\n",
    "\n"
   ]
  },
  {
   "cell_type": "code",
   "execution_count": 35,
   "metadata": {},
   "outputs": [
    {
     "name": "stdout",
     "output_type": "stream",
     "text": [
      "558.2340820237011\n",
      "64.875\n"
     ]
    }
   ],
   "source": [
    "VME=CF*opcao_inv -Iw\n",
    "print(VME)\n",
    "print(g_inv[0])"
   ]
  },
  {
   "cell_type": "code",
   "execution_count": 36,
   "metadata": {},
   "outputs": [],
   "source": [
    "if P>g[0]:\n",
    "    custo=VME*(1-np.exp(-r/12))\n",
    "else:\n",
    "    custo=0"
   ]
  },
  {
   "cell_type": "code",
   "execution_count": 37,
   "metadata": {},
   "outputs": [
    {
     "data": {
      "text/plain": [
       "(0.12, 0.72)"
      ]
     },
     "execution_count": 37,
     "metadata": {},
     "output_type": "execute_result"
    }
   ],
   "source": [
    "sinal(CF,rho)"
   ]
  },
  {
   "cell_type": "code",
   "execution_count": 38,
   "metadata": {},
   "outputs": [
    {
     "name": "stdout",
     "output_type": "stream",
     "text": [
      "minutos- 10.113804717858633\n"
     ]
    }
   ],
   "source": [
    "start=time.time()\n",
    "\n",
    "opcao_up,PGrid_up,mapa_up,tempo_up,preco_up,gatilho_up=diffinexpcart(sinal(CF,rho)[1]*P*q*B*np.exp(-2*delta),sinal(CF,rho)[1]*Id*np.exp(-2*r)+Iw,r,delta,sigma,tau,accur)\n",
    "opcao_down,PGrid_down,mapa_down,tempo_down,preco_down,gatilho_down=diffinexpcart(sinal(CF,rho)[0]*P*q*B*np.exp(-2*delta),sinal(CF,rho)[0]*Id*np.exp(-2*r)+Iw,r,delta,sigma,tau,accur)\n",
    "opcao_info=CF*opcao_up + (1-CF)*opcao_down\n",
    "\n",
    "cpu=time.time()-start\n",
    "print('minutos-',cpu/60)\n",
    "winsound.Beep(freq, duration)\n",
    "\n"
   ]
  },
  {
   "cell_type": "code",
   "execution_count": 39,
   "metadata": {},
   "outputs": [],
   "source": [
    "preco_up=preco_up/(sinal(CF,rho)[1]*q*B*np.exp(-2*delta))\n",
    "preco_down=preco_down/(sinal(CF,rho)[0]*q*B*np.exp(-2*delta))"
   ]
  },
  {
   "cell_type": "code",
   "execution_count": 40,
   "metadata": {},
   "outputs": [],
   "source": [
    "F_up_zero=np.interp(preco_inv,preco_up,mapa_up[0,:])\n",
    "F_down_zero=np.interp(preco_inv,preco_down,mapa_down[0,:])\n",
    "F_zero=CF*F_up_zero+ (1-CF)*F_down_zero\n",
    "\n",
    "Exp_zero=np.interp(preco_inv,preco,mapa[0,:])\n",
    "\n",
    "L_zero=CF*mapa_inv[0,:] - Iw\n"
   ]
  },
  {
   "cell_type": "code",
   "execution_count": 48,
   "metadata": {},
   "outputs": [
    {
     "data": {
      "text/plain": [
       "((718,), (697,))"
      ]
     },
     "execution_count": 48,
     "metadata": {},
     "output_type": "execute_result"
    }
   ],
   "source": [
    "mapa_up[0,:].shape, mapa_inv[0,:].shape"
   ]
  },
  {
   "cell_type": "code",
   "execution_count": null,
   "metadata": {},
   "outputs": [],
   "source": []
  },
  {
   "cell_type": "code",
   "execution_count": 41,
   "metadata": {},
   "outputs": [
    {
     "name": "stdout",
     "output_type": "stream",
     "text": [
      "76.25000000000001\n"
     ]
    }
   ],
   "source": [
    "####Até onde vai a guerra de atrito?? P_atrito\n",
    "pa=preco_inv[F_zero-L_zero<0.01][0]\n",
    "print(pa)"
   ]
  },
  {
   "cell_type": "code",
   "execution_count": 44,
   "metadata": {},
   "outputs": [
    {
     "name": "stdout",
     "output_type": "stream",
     "text": [
      "0\n",
      "1\n",
      "2\n",
      "3\n",
      "4\n",
      "5\n",
      "6\n",
      "7\n",
      "8\n",
      "9\n",
      "10\n",
      "11\n",
      "12\n",
      "13\n",
      "14\n",
      "15\n",
      "16\n",
      "17\n",
      "18\n",
      "19\n",
      "20\n",
      "21\n",
      "22\n",
      "23\n",
      "24\n",
      "25\n",
      "26\n",
      "27\n",
      "28\n",
      "29\n",
      "30\n",
      "31\n",
      "32\n",
      "33\n",
      "34\n",
      "35\n",
      "36\n",
      "37\n",
      "38\n",
      "39\n",
      "40\n",
      "41\n",
      "42\n",
      "43\n",
      "44\n",
      "45\n",
      "46\n",
      "47\n",
      "48\n",
      "49\n",
      "50\n",
      "51\n",
      "52\n",
      "53\n",
      "54\n",
      "55\n",
      "56\n",
      "57\n",
      "58\n",
      "59\n",
      "60\n",
      "61\n",
      "62\n",
      "63\n",
      "64\n",
      "65\n",
      "66\n",
      "67\n",
      "68\n",
      "69\n",
      "70\n",
      "71\n",
      "72\n",
      "73\n",
      "74\n",
      "75\n",
      "76\n",
      "77\n",
      "78\n",
      "79\n",
      "80\n",
      "81\n",
      "82\n",
      "83\n",
      "84\n",
      "85\n",
      "86\n",
      "87\n",
      "88\n",
      "89\n",
      "90\n",
      "91\n",
      "92\n",
      "93\n",
      "94\n",
      "95\n",
      "96\n",
      "97\n",
      "98\n",
      "99\n",
      "100\n",
      "101\n",
      "102\n",
      "103\n",
      "104\n",
      "105\n",
      "106\n",
      "107\n",
      "108\n",
      "109\n",
      "110\n",
      "111\n",
      "112\n",
      "113\n",
      "114\n",
      "115\n",
      "116\n",
      "117\n",
      "118\n",
      "119\n",
      "120\n",
      "121\n",
      "122\n",
      "123\n",
      "124\n",
      "125\n",
      "126\n",
      "127\n",
      "128\n",
      "129\n",
      "130\n",
      "131\n",
      "132\n",
      "133\n",
      "134\n",
      "135\n",
      "136\n",
      "137\n",
      "138\n",
      "139\n",
      "140\n",
      "141\n",
      "142\n",
      "143\n",
      "144\n",
      "145\n",
      "146\n",
      "147\n",
      "148\n",
      "149\n",
      "150\n",
      "151\n",
      "152\n",
      "153\n",
      "154\n",
      "155\n",
      "156\n",
      "157\n",
      "158\n",
      "159\n",
      "160\n",
      "161\n",
      "162\n",
      "163\n",
      "164\n",
      "165\n",
      "166\n",
      "167\n",
      "168\n",
      "169\n",
      "170\n",
      "171\n",
      "172\n",
      "173\n",
      "174\n",
      "175\n",
      "176\n",
      "177\n",
      "178\n",
      "179\n",
      "180\n",
      "181\n",
      "182\n",
      "183\n",
      "184\n",
      "185\n",
      "186\n",
      "187\n",
      "188\n",
      "189\n",
      "190\n",
      "191\n",
      "192\n",
      "193\n",
      "194\n",
      "195\n",
      "196\n",
      "197\n",
      "198\n",
      "199\n",
      "200\n",
      "201\n",
      "202\n",
      "203\n",
      "204\n",
      "205\n",
      "206\n",
      "207\n",
      "208\n",
      "209\n",
      "210\n",
      "211\n",
      "212\n",
      "213\n",
      "214\n",
      "215\n",
      "216\n",
      "217\n",
      "218\n",
      "219\n",
      "220\n",
      "221\n",
      "222\n",
      "223\n",
      "224\n",
      "225\n",
      "226\n",
      "227\n",
      "228\n",
      "229\n",
      "230\n",
      "231\n",
      "232\n",
      "233\n",
      "234\n",
      "235\n",
      "236\n",
      "237\n",
      "238\n",
      "239\n",
      "240\n",
      "241\n",
      "242\n",
      "243\n",
      "244\n",
      "245\n",
      "246\n",
      "247\n",
      "248\n",
      "249\n",
      "250\n",
      "251\n",
      "252\n",
      "253\n",
      "254\n",
      "255\n",
      "256\n",
      "257\n",
      "258\n",
      "259\n",
      "260\n",
      "261\n",
      "262\n",
      "263\n",
      "264\n",
      "265\n",
      "266\n",
      "267\n",
      "268\n",
      "269\n",
      "270\n",
      "271\n",
      "272\n",
      "273\n",
      "274\n",
      "275\n",
      "276\n",
      "277\n",
      "278\n",
      "279\n",
      "280\n",
      "281\n",
      "282\n",
      "283\n",
      "284\n",
      "285\n",
      "286\n",
      "287\n",
      "288\n",
      "289\n",
      "290\n",
      "291\n",
      "292\n",
      "293\n",
      "294\n",
      "295\n",
      "296\n",
      "297\n",
      "298\n",
      "299\n",
      "300\n",
      "301\n",
      "302\n",
      "303\n",
      "304\n",
      "305\n",
      "306\n",
      "307\n",
      "308\n",
      "309\n",
      "310\n",
      "311\n",
      "312\n",
      "313\n",
      "314\n",
      "315\n",
      "316\n",
      "317\n",
      "318\n",
      "319\n",
      "320\n",
      "321\n",
      "322\n",
      "323\n",
      "324\n",
      "325\n",
      "326\n",
      "327\n",
      "328\n",
      "329\n",
      "330\n",
      "331\n",
      "332\n",
      "333\n",
      "334\n",
      "335\n",
      "336\n",
      "337\n",
      "338\n",
      "339\n",
      "340\n",
      "341\n",
      "342\n",
      "343\n",
      "344\n",
      "345\n",
      "346\n",
      "347\n",
      "348\n",
      "349\n",
      "350\n",
      "351\n",
      "352\n",
      "353\n",
      "354\n",
      "355\n",
      "356\n",
      "357\n",
      "358\n",
      "359\n",
      "360\n",
      "361\n",
      "362\n",
      "363\n",
      "364\n",
      "365\n",
      "366\n",
      "367\n",
      "368\n",
      "369\n",
      "370\n",
      "371\n",
      "372\n",
      "373\n",
      "374\n",
      "375\n",
      "376\n",
      "377\n",
      "378\n",
      "379\n",
      "380\n",
      "381\n",
      "382\n",
      "383\n",
      "384\n",
      "385\n",
      "386\n",
      "387\n",
      "388\n",
      "389\n",
      "390\n",
      "391\n",
      "392\n",
      "393\n",
      "394\n",
      "395\n",
      "396\n",
      "397\n",
      "398\n",
      "399\n",
      "400\n",
      "401\n",
      "402\n",
      "403\n",
      "404\n",
      "405\n",
      "406\n",
      "407\n",
      "408\n",
      "409\n",
      "410\n",
      "411\n",
      "412\n",
      "413\n",
      "414\n",
      "415\n",
      "416\n",
      "417\n",
      "418\n",
      "419\n",
      "420\n",
      "421\n",
      "422\n",
      "423\n",
      "424\n",
      "425\n",
      "426\n",
      "427\n",
      "428\n",
      "429\n",
      "430\n",
      "431\n",
      "432\n",
      "433\n",
      "434\n",
      "435\n",
      "436\n",
      "437\n",
      "438\n",
      "439\n",
      "440\n",
      "441\n",
      "442\n",
      "443\n",
      "444\n",
      "445\n",
      "446\n",
      "447\n",
      "448\n",
      "449\n",
      "450\n",
      "451\n",
      "452\n",
      "453\n",
      "454\n",
      "455\n",
      "456\n",
      "457\n",
      "458\n",
      "459\n",
      "460\n",
      "461\n",
      "462\n",
      "463\n",
      "464\n",
      "465\n",
      "466\n",
      "467\n",
      "468\n",
      "469\n",
      "470\n",
      "471\n",
      "472\n",
      "473\n",
      "474\n",
      "475\n",
      "476\n",
      "477\n",
      "478\n",
      "479\n",
      "480\n",
      "481\n",
      "482\n",
      "483\n",
      "484\n",
      "485\n",
      "486\n",
      "487\n",
      "488\n",
      "489\n",
      "490\n",
      "491\n",
      "492\n",
      "493\n",
      "494\n",
      "495\n",
      "496\n",
      "497\n",
      "498\n",
      "499\n",
      "500\n",
      "501\n",
      "502\n",
      "503\n",
      "504\n",
      "505\n",
      "506\n",
      "507\n",
      "508\n",
      "509\n",
      "510\n",
      "511\n",
      "512\n",
      "513\n",
      "514\n",
      "515\n",
      "516\n",
      "517\n",
      "518\n",
      "519\n",
      "520\n",
      "521\n",
      "522\n",
      "523\n",
      "524\n",
      "525\n",
      "526\n",
      "527\n",
      "528\n",
      "529\n",
      "530\n",
      "531\n",
      "532\n",
      "533\n",
      "534\n",
      "535\n",
      "536\n",
      "537\n",
      "538\n",
      "539\n",
      "540\n",
      "541\n",
      "542\n",
      "543\n",
      "544\n",
      "545\n",
      "546\n",
      "547\n",
      "548\n",
      "549\n",
      "550\n",
      "551\n",
      "552\n",
      "553\n",
      "554\n",
      "555\n",
      "556\n",
      "557\n",
      "558\n",
      "559\n",
      "560\n",
      "561\n",
      "562\n",
      "563\n",
      "564\n",
      "565\n",
      "566\n",
      "567\n",
      "568\n",
      "569\n",
      "570\n",
      "571\n",
      "572\n",
      "573\n",
      "574\n",
      "575\n",
      "576\n",
      "577\n",
      "578\n",
      "579\n",
      "580\n",
      "581\n",
      "582\n",
      "583\n",
      "584\n",
      "585\n",
      "586\n",
      "587\n",
      "588\n",
      "589\n",
      "590\n",
      "591\n",
      "592\n",
      "593\n",
      "594\n",
      "595\n",
      "596\n",
      "597\n",
      "598\n",
      "599\n",
      "600\n",
      "601\n",
      "602\n",
      "603\n",
      "604\n",
      "605\n",
      "606\n",
      "607\n",
      "608\n",
      "609\n",
      "610\n",
      "611\n",
      "612\n",
      "613\n",
      "614\n",
      "615\n",
      "616\n",
      "617\n",
      "618\n",
      "619\n",
      "620\n",
      "621\n",
      "622\n",
      "623\n",
      "624\n",
      "625\n",
      "626\n",
      "627\n",
      "628\n",
      "629\n",
      "630\n",
      "631\n",
      "632\n",
      "633\n",
      "634\n",
      "635\n",
      "636\n",
      "637\n",
      "638\n",
      "639\n",
      "640\n",
      "641\n",
      "642\n",
      "643\n",
      "644\n",
      "645\n",
      "646\n",
      "647\n",
      "648\n",
      "649\n",
      "650\n",
      "651\n",
      "652\n",
      "653\n",
      "654\n",
      "655\n",
      "656\n",
      "657\n",
      "658\n",
      "659\n",
      "660\n",
      "661\n",
      "662\n",
      "663\n",
      "664\n",
      "665\n",
      "666\n",
      "667\n",
      "668\n",
      "669\n",
      "670\n",
      "671\n",
      "672\n",
      "673\n",
      "674\n",
      "675\n",
      "676\n",
      "677\n",
      "678\n",
      "679\n",
      "680\n",
      "681\n",
      "682\n",
      "683\n",
      "684\n",
      "685\n",
      "686\n",
      "687\n",
      "688\n",
      "689\n",
      "690\n",
      "691\n",
      "692\n",
      "693\n",
      "694\n",
      "695\n",
      "696\n"
     ]
    }
   ],
   "source": [
    "for i in range(len(preco_inv)):\n",
    "    print(i)"
   ]
  },
  {
   "cell_type": "code",
   "execution_count": 42,
   "metadata": {},
   "outputs": [
    {
     "name": "stdout",
     "output_type": "stream",
     "text": [
      "minutos- 12.497972162564595\n"
     ]
    }
   ],
   "source": [
    "start=time.time()\n",
    "rho1=0.8\n",
    "opcao_up_n,PGrid_up_n,mapa_up_n,tempo_up_n,preco_up_n,gatilho_up_n=diffinexpcart(sinal(CF,rho1)[1]*P*q*B*np.exp(-2*delta),sinal(CF,rho1)[1]*Id*np.exp(-2*r)+Iw,r,delta,sigma,tau,accur)\n",
    "opcao_down_n,PGrid_down_n,mapa_down_n,tempo_down_n,preco_down_n,gatilho_down_n=diffinexpcart(sinal(CF,rho1)[0]*P*q*B*np.exp(-2*delta),sinal(CF,rho1)[0]*Id*np.exp(-2*r)+Iw,r,delta,sigma,tau,accur)\n",
    "opcao_info_n=CF*opcao_up_n + (1-CF)*opcao_down_n\n",
    "\n",
    "cpu=time.time()-start\n",
    "print('minutos-',cpu/60)\n",
    "winsound.Beep(freq, duration)"
   ]
  },
  {
   "cell_type": "code",
   "execution_count": 43,
   "metadata": {},
   "outputs": [],
   "source": [
    "preco_up_n=preco_up_n/(sinal(CF,rho1)[1]*q*B*np.exp(-2*delta))\n",
    "preco_down_n=preco_down_n/(sinal(CF,rho1)[0]*q*B*np.exp(-2*delta))"
   ]
  },
  {
   "cell_type": "code",
   "execution_count": 44,
   "metadata": {},
   "outputs": [],
   "source": [
    "F_up_zero_n=np.interp(preco_inv,preco_up_n,mapa_up_n[0,:])\n",
    "F_down_zero_n=np.interp(preco_inv,preco_down_n,mapa_down_n[0,:])\n",
    "F_zero_n=CF*F_up_zero_n+ (1-CF)*F_down_zero_n\n"
   ]
  },
  {
   "cell_type": "code",
   "execution_count": 45,
   "metadata": {},
   "outputs": [
    {
     "data": {
      "text/plain": [
       "(697, 697)"
      ]
     },
     "execution_count": 45,
     "metadata": {},
     "output_type": "execute_result"
    }
   ],
   "source": [
    "F_zero_n.size, L_zero.size"
   ]
  },
  {
   "cell_type": "code",
   "execution_count": 47,
   "metadata": {},
   "outputs": [],
   "source": [
    "import nashpy as nash"
   ]
  },
  {
   "cell_type": "code",
   "execution_count": 48,
   "metadata": {},
   "outputs": [],
   "source": [
    "\n",
    "matrix=np.zeros((len(preco_inv),6))\n",
    "for loc in range(len(preco_inv)):    \n",
    "    #P1=50\n",
    "    #loc=np.where(np.round(preco_inv,2)==P1)[0][0]\n",
    "    #print(preco_inv[loc])\n",
    "    \n",
    "    VME=L_zero[loc]\n",
    "    opcao_info=F_zero[loc]\n",
    "    opcao=Exp_zero[loc]\n",
    "    \n",
    "    if preco_inv[loc]>g[0]:\n",
    "        custo=VME*(1-np.exp(-r/12))\n",
    "    else:\n",
    "        custo=0\n",
    "        \n",
    "        \n",
    "\n",
    "    #Ações do jogador 1\n",
    "    A_matrix=[[VME, VME],[opcao_info,opcao-custo]]\n",
    "    A_matrix=np.round(A_matrix,2)\n",
    "\n",
    "\n",
    "    ###Ações do Jogador 2\n",
    "    B_matrix=[[VME,opcao_info],[VME,opcao-custo]]\n",
    "    B_matrix=np.round(B_matrix,2)\n",
    "    war_att=nash.Game(A_matrix,B_matrix)\n",
    "\n",
    "    eq=list(war_att.support_enumeration())\n",
    "    #print(eq)\n",
    "\n",
    "\n",
    "    suporte=[[1,2],[3,4]]\n",
    "    \n",
    "    matrix[loc,0]=preco_inv[loc]\n",
    "    i=1\n",
    "    for s1,s2 in eq:\n",
    "        quadrante=np.dot(np.dot(s1,suporte),s2)\n",
    "        #print(i)\n",
    "        matrix[loc,i]=quadrante\n",
    "        i=i+1\n",
    "        "
   ]
  },
  {
   "cell_type": "code",
   "execution_count": 49,
   "metadata": {},
   "outputs": [],
   "source": [
    "df=pd.DataFrame(matrix)"
   ]
  },
  {
   "cell_type": "code",
   "execution_count": 50,
   "metadata": {},
   "outputs": [
    {
     "data": {
      "text/html": [
       "<div>\n",
       "<style scoped>\n",
       "    .dataframe tbody tr th:only-of-type {\n",
       "        vertical-align: middle;\n",
       "    }\n",
       "\n",
       "    .dataframe tbody tr th {\n",
       "        vertical-align: top;\n",
       "    }\n",
       "\n",
       "    .dataframe thead th {\n",
       "        text-align: right;\n",
       "    }\n",
       "</style>\n",
       "<table border=\"1\" class=\"dataframe\">\n",
       "  <thead>\n",
       "    <tr style=\"text-align: right;\">\n",
       "      <th></th>\n",
       "      <th>0</th>\n",
       "      <th>1</th>\n",
       "      <th>2</th>\n",
       "      <th>3</th>\n",
       "      <th>4</th>\n",
       "      <th>5</th>\n",
       "    </tr>\n",
       "  </thead>\n",
       "  <tbody>\n",
       "    <tr>\n",
       "      <td>0</td>\n",
       "      <td>0.00</td>\n",
       "      <td>4.0</td>\n",
       "      <td>0.0</td>\n",
       "      <td>0.0</td>\n",
       "      <td>0.0</td>\n",
       "      <td>0.0</td>\n",
       "    </tr>\n",
       "    <tr>\n",
       "      <td>1</td>\n",
       "      <td>0.25</td>\n",
       "      <td>4.0</td>\n",
       "      <td>0.0</td>\n",
       "      <td>0.0</td>\n",
       "      <td>0.0</td>\n",
       "      <td>0.0</td>\n",
       "    </tr>\n",
       "    <tr>\n",
       "      <td>2</td>\n",
       "      <td>0.50</td>\n",
       "      <td>4.0</td>\n",
       "      <td>0.0</td>\n",
       "      <td>0.0</td>\n",
       "      <td>0.0</td>\n",
       "      <td>0.0</td>\n",
       "    </tr>\n",
       "    <tr>\n",
       "      <td>3</td>\n",
       "      <td>0.75</td>\n",
       "      <td>4.0</td>\n",
       "      <td>0.0</td>\n",
       "      <td>0.0</td>\n",
       "      <td>0.0</td>\n",
       "      <td>0.0</td>\n",
       "    </tr>\n",
       "    <tr>\n",
       "      <td>4</td>\n",
       "      <td>1.00</td>\n",
       "      <td>4.0</td>\n",
       "      <td>0.0</td>\n",
       "      <td>0.0</td>\n",
       "      <td>0.0</td>\n",
       "      <td>0.0</td>\n",
       "    </tr>\n",
       "  </tbody>\n",
       "</table>\n",
       "</div>"
      ],
      "text/plain": [
       "      0    1    2    3    4    5\n",
       "0  0.00  4.0  0.0  0.0  0.0  0.0\n",
       "1  0.25  4.0  0.0  0.0  0.0  0.0\n",
       "2  0.50  4.0  0.0  0.0  0.0  0.0\n",
       "3  0.75  4.0  0.0  0.0  0.0  0.0\n",
       "4  1.00  4.0  0.0  0.0  0.0  0.0"
      ]
     },
     "execution_count": 50,
     "metadata": {},
     "output_type": "execute_result"
    }
   ],
   "source": [
    "df.head()"
   ]
  },
  {
   "cell_type": "code",
   "execution_count": 51,
   "metadata": {},
   "outputs": [],
   "source": [
    "df=df.set_index(0)"
   ]
  },
  {
   "cell_type": "code",
   "execution_count": 52,
   "metadata": {},
   "outputs": [],
   "source": [
    "df[df==0]=np.nan"
   ]
  },
  {
   "cell_type": "code",
   "execution_count": 53,
   "metadata": {},
   "outputs": [
    {
     "data": {
      "text/plain": [
       "<matplotlib.collections.PathCollection at 0x1c5180057c8>"
      ]
     },
     "execution_count": 53,
     "metadata": {},
     "output_type": "execute_result"
    },
    {
     "data": {
      "image/png": "[encoded data removed]",
      "text/plain": [
       "<Figure size 432x288 with 1 Axes>"
      ]
     },
     "metadata": {
      "needs_background": "light"
     },
     "output_type": "display_data"
    }
   ],
   "source": [
    "plt.scatter(df.index, df.iloc[:,0])\n",
    "plt.scatter(df.index, df.iloc[:,1])\n",
    "plt.scatter(df.index, df.iloc[:,2])\n",
    "#plt.scatter(df.index, df.iloc[:,3])\n",
    "#plt.scatter(df.index, df.iloc[:,4])\n"
   ]
  },
  {
   "cell_type": "code",
   "execution_count": 54,
   "metadata": {},
   "outputs": [
    {
     "data": {
      "text/plain": [
       "87.50000000000001"
      ]
     },
     "execution_count": 54,
     "metadata": {},
     "output_type": "execute_result"
    }
   ],
   "source": [
    "######Até onde vai a guerra de atrito\n",
    "\n",
    "preco_inv[F_zero_n-L_zero<0.01][0]\n"
   ]
  },
  {
   "cell_type": "code",
   "execution_count": 55,
   "metadata": {},
   "outputs": [
    {
     "data": {
      "text/plain": [
       "69.75"
      ]
     },
     "execution_count": 55,
     "metadata": {},
     "output_type": "execute_result"
    }
   ],
   "source": [
    "preco_inv[np.where(L_zero==Exp_zero)[0][0]]"
   ]
  },
  {
   "cell_type": "code",
   "execution_count": 56,
   "metadata": {},
   "outputs": [
    {
     "data": {
      "text/plain": [
       "((697,), (697,))"
      ]
     },
     "execution_count": 56,
     "metadata": {},
     "output_type": "execute_result"
    }
   ],
   "source": [
    "F_zero.shape, Exp_zero.shape"
   ]
  },
  {
   "cell_type": "code",
   "execution_count": 57,
   "metadata": {},
   "outputs": [],
   "source": [
    "U_1=np.maximum(0, L_zero+ F_zero_n)"
   ]
  },
  {
   "cell_type": "code",
   "execution_count": 58,
   "metadata": {},
   "outputs": [],
   "source": [
    "U_1_i=U_1*.5"
   ]
  },
  {
   "cell_type": "code",
   "execution_count": 59,
   "metadata": {},
   "outputs": [],
   "source": [
    "U=np.maximum(0, L_zero+ F_zero)"
   ]
  },
  {
   "cell_type": "code",
   "execution_count": 60,
   "metadata": {},
   "outputs": [
    {
     "data": {
      "text/plain": [
       "570.8022472080579"
      ]
     },
     "execution_count": 60,
     "metadata": {},
     "output_type": "execute_result"
    }
   ],
   "source": [
    "U[np.where(np.round(preco_inv,2)==np.round(P,2))[0][0]]*.5"
   ]
  },
  {
   "cell_type": "code",
   "execution_count": 61,
   "metadata": {},
   "outputs": [
    {
     "data": {
      "text/plain": [
       "1281.9552860747046"
      ]
     },
     "execution_count": 61,
     "metadata": {},
     "output_type": "execute_result"
    }
   ],
   "source": [
    "U[np.where(np.round(preco_inv,2)==np.round(72,2))[0][0]]*.5"
   ]
  },
  {
   "cell_type": "code",
   "execution_count": 62,
   "metadata": {},
   "outputs": [
    {
     "data": {
      "text/plain": [
       "1557.4110593021073"
      ]
     },
     "execution_count": 62,
     "metadata": {},
     "output_type": "execute_result"
    }
   ],
   "source": [
    "U[np.where(np.round(preco_inv,2)==np.round(80,2))[0][0]]*.5"
   ]
  },
  {
   "cell_type": "code",
   "execution_count": 63,
   "metadata": {},
   "outputs": [
    {
     "data": {
      "text/plain": [
       "572.675749215977"
      ]
     },
     "execution_count": 63,
     "metadata": {},
     "output_type": "execute_result"
    }
   ],
   "source": [
    "U_1[np.where(np.round(preco_inv,2)==np.round(P,2))[0][0]]*.5"
   ]
  },
  {
   "cell_type": "code",
   "execution_count": 64,
   "metadata": {},
   "outputs": [
    {
     "data": {
      "text/plain": [
       "1283.6464004490645"
      ]
     },
     "execution_count": 64,
     "metadata": {},
     "output_type": "execute_result"
    }
   ],
   "source": [
    "U_1[np.where(np.round(preco_inv,2)==np.round(72,2))[0][0]]*.5"
   ]
  },
  {
   "cell_type": "code",
   "execution_count": 65,
   "metadata": {},
   "outputs": [
    {
     "name": "stdout",
     "output_type": "stream",
     "text": [
      "50.00000000000001\n"
     ]
    }
   ],
   "source": [
    "np.where(np.round(preco_inv,2)==np.round(P,2))[0][0]\n",
    "print(preco_inv[np.where(np.round(preco_inv,2)==np.round(P,2))[0][0]])"
   ]
  },
  {
   "cell_type": "code",
   "execution_count": 66,
   "metadata": {},
   "outputs": [],
   "source": [
    "w_i=0.5"
   ]
  },
  {
   "cell_type": "code",
   "execution_count": 67,
   "metadata": {},
   "outputs": [],
   "source": [
    "U_i=U*w_i"
   ]
  },
  {
   "cell_type": "code",
   "execution_count": 68,
   "metadata": {},
   "outputs": [
    {
     "data": {
      "text/plain": [
       "21.250000000000004"
      ]
     },
     "execution_count": 68,
     "metadata": {},
     "output_type": "execute_result"
    }
   ],
   "source": [
    "preco[np.where(U_i>0)[0][0]]"
   ]
  },
  {
   "cell_type": "code",
   "execution_count": 69,
   "metadata": {},
   "outputs": [
    {
     "data": {
      "text/plain": [
       "[]"
      ]
     },
     "execution_count": 69,
     "metadata": {},
     "output_type": "execute_result"
    },
    {
     "data": {
      "image/png": "[encoded data removed]",
      "text/plain": [
       "<Figure size 720x360 with 1 Axes>"
      ]
     },
     "metadata": {
      "needs_background": "light"
     },
     "output_type": "display_data"
    }
   ],
   "source": [
    "#####Figuras de Gatilho e a#####\n",
    "fig, ax= plt.subplots(1,1, figsize=(10,5))\n",
    "sns.despine(left=True)\n",
    "\n",
    "#print('gatilho explorar hoje é:',round(gatilho[0]/(CF*q*B*np.exp(-2*delta)),2))\n",
    "#print('gatilho investir hoje é:',round(gatilho_inv[0]/(q*B*np.exp(-2*delta)),2))\n",
    "\n",
    "ax.plot(tempo,g, color='black', ls=':' )\n",
    "ax.plot(tempo_inv,g_inv, color='blue', ls=':' )\n",
    "\n",
    "ax.legend(['Gatilho - Explorar','Gatilho - Investir'], loc='upper right', shadow=True)\n",
    "\n",
    "ax.set_xlabel('Tempo do Contrato')\n",
    "ax.set_ylabel('Preço do Petróleo (\\$/bbl)')\n",
    "#ax1.set_xticklabels([0,1000,2000,5000,10000,50000,100000])\n",
    "ax.set_title('Curva de Gatilho - DogFish')\n",
    "\n",
    "plt.plot()"
   ]
  },
  {
   "cell_type": "code",
   "execution_count": 70,
   "metadata": {},
   "outputs": [
    {
     "name": "stdout",
     "output_type": "stream",
     "text": [
      "gatilho explorar hoje é: 69.63\n",
      "gatilho investir hoje é: 64.88\n"
     ]
    },
    {
     "data": {
      "text/plain": [
       "[]"
      ]
     },
     "execution_count": 70,
     "metadata": {},
     "output_type": "execute_result"
    },
    {
     "data": {
      "image/png": "[encoded data removed]",
      "text/plain": [
       "<Figure size 1080x360 with 2 Axes>"
      ]
     },
     "metadata": {
      "needs_background": "light"
     },
     "output_type": "display_data"
    }
   ],
   "source": [
    "#####Figuras de Gatilho e a#####\n",
    "fig, (ax1,ax2)= plt.subplots(1,2, figsize=(15,5))\n",
    "sns.despine(left=True)\n",
    "\n",
    "print('gatilho explorar hoje é:',round(gatilho[0]/(CF*q*B*np.exp(-2*delta)),2))\n",
    "print('gatilho investir hoje é:',round(gatilho_inv[0]/(q*B*np.exp(-2*delta)),2))\n",
    "\n",
    "ax1.plot(tempo,g, color='black', ls=':' )\n",
    "ax1.plot(tempo_inv,g_inv, color='blue', ls=':' )\n",
    "\n",
    "ax1.legend(['Gatilho - Explorar','Gatilho - Investir'], loc='upper right', shadow=True)\n",
    "\n",
    "ax1.set_xlabel('Tempo do Contrato')\n",
    "ax1.set_ylabel('Preço do Ativo Base')\n",
    "#ax1.set_xticklabels([0,1000,2000,5000,10000,50000,100000])\n",
    "ax1.set_title('Curva de Gatilhos')\n",
    "\n",
    "\n",
    "ax2.plot(preco_inv,L_zero, color='blue', ls='-' )\n",
    "ax2.plot(preco_inv,F_zero, color='red', ls='-' )\n",
    "ax2.plot(preco_inv,U_i,color='black',ls='-')\n",
    "ax2.axhline(0, linestyle='--', color='grey')\n",
    "\n",
    "ax2.set_ylim(-20,250)\n",
    "ax2.set_xlim(-5,120)\n",
    "\n",
    "#ax2.plot(V_vetor,F_V_Matrix[F_V_Matrix.shape[0]-1,:], color='blue', ls='--' )\n",
    "\n",
    "ax2.legend(['Lider','Seguidor','Barganha'], loc='upper left', shadow=True)\n",
    "#ax2.set_xlabel('Preço do Ativo Base')\n",
    "#ax2.set_ylabel('Valor da Opção')\n",
    "ax2.set_xlim(right=100)\n",
    "ax2.set_ylim(top=1600)\n",
    "ax2.set_ylim(bottom=-100)\n",
    "#ax2.set_title('Opção de Investir em função do Preço')\n",
    "\n",
    "plt.plot()"
   ]
  },
  {
   "cell_type": "code",
   "execution_count": null,
   "metadata": {},
   "outputs": [],
   "source": []
  },
  {
   "cell_type": "code",
   "execution_count": 71,
   "metadata": {},
   "outputs": [],
   "source": [
    "#####Exploracao com custo\n",
    "EXP_custo=[]\n",
    "for i in range(len(preco_inv)):\n",
    "    if preco_inv[i]>g[0]:\n",
    "        c=L_zero[i]*(1-np.exp(-r/12))\n",
    "    else:\n",
    "        c=0\n",
    "    #print(c)\n",
    "    EXP_custo.append(Exp_zero[i]-c)\n"
   ]
  },
  {
   "cell_type": "code",
   "execution_count": null,
   "metadata": {},
   "outputs": [],
   "source": []
  },
  {
   "cell_type": "code",
   "execution_count": 85,
   "metadata": {},
   "outputs": [
    {
     "name": "stdout",
     "output_type": "stream",
     "text": [
      "gatilho explorar hoje é: 69.63\n",
      "gatilho investir hoje é: 64.88\n",
      "saida do atrito - gatilho simultaneo: 76.25\n"
     ]
    },
    {
     "data": {
      "text/plain": [
       "[]"
      ]
     },
     "execution_count": 85,
     "metadata": {},
     "output_type": "execute_result"
    },
    {
     "data": {
      "image/png": "[encoded data removed]",
      "text/plain": [
       "<Figure size 720x360 with 1 Axes>"
      ]
     },
     "metadata": {
      "needs_background": "light"
     },
     "output_type": "display_data"
    }
   ],
   "source": [
    "#####Figuras de Gatilho e a#####\n",
    "fig,ax = plt.subplots(1,1, figsize=(10,5))\n",
    "sns.despine(left=True)\n",
    "\n",
    "print('gatilho explorar hoje é:',round(gatilho[0]/(CF*q*B*np.exp(-2*delta)),2))\n",
    "print('gatilho investir hoje é:',round(gatilho_inv[0]/(q*B*np.exp(-2*delta)),2))\n",
    "print('saida do atrito - gatilho simultaneo:',round(pa,2))\n",
    "\n",
    "\n",
    "ax.plot(preco_inv,L_zero, color='blue', ls='-' )\n",
    "ax.plot(preco_inv,F_zero, color='red', ls='-' )\n",
    "ax.plot(preco_inv,U_i,color='black',ls='-')\n",
    "#ax.plot(preco_inv,EXP_custo,color='black',ls='-')\n",
    "\n",
    "ax.axhline(0, linestyle='--', color='grey')\n",
    "#ax.axvline(x=g[0], linestyle='--', color='grey')\n",
    "#ax.axvline(pa, linestyle='--', color='grey')\n",
    "\n",
    "ax.set_ylim(-20,250)\n",
    "ax.set_xlim(-5,120)\n",
    "\n",
    "#ax2.plot(V_vetor,F_V_Matrix[F_V_Matrix.shape[0]-1,:], color='blue', ls='--' )\n",
    "\n",
    "#ax2.legend(['Lider','Seguidor','Barganha'], loc='upper left', shadow=True)\n",
    "ax.legend(['Lider','Seguidor','Barganha'], loc='upper left', shadow=True)\n",
    "ax.set_xlabel('Preço do Petróleo- $/bbl')\n",
    "ax.set_ylabel('Valor -  M$')\n",
    "ax.set_title('Avaliação Exploratória - Jogo Simétrico')\n",
    "ax.set_xlim(right=100)\n",
    "ax.set_ylim(top=1600)\n",
    "ax.set_ylim(bottom=-100)\n",
    "#ax2.set_title('Opção de Investir em função do Preço')\n",
    "\n",
    "plt.plot()"
   ]
  },
  {
   "cell_type": "code",
   "execution_count": 81,
   "metadata": {},
   "outputs": [
    {
     "name": "stdout",
     "output_type": "stream",
     "text": [
      "gatilho explorar hoje é: 69.63\n",
      "gatilho investir hoje é: 64.88\n",
      "saida do atrito - gatilho simultaneo: 76.25\n"
     ]
    },
    {
     "data": {
      "text/plain": [
       "[]"
      ]
     },
     "execution_count": 81,
     "metadata": {},
     "output_type": "execute_result"
    },
    {
     "data": {
      "image/png": "[encoded data removed]",
      "text/plain": [
       "<Figure size 720x360 with 1 Axes>"
      ]
     },
     "metadata": {
      "needs_background": "light"
     },
     "output_type": "display_data"
    }
   ],
   "source": [
    "#####Figuras de Gatilho e a#####\n",
    "fig,ax = plt.subplots(1,1, figsize=(10,5))\n",
    "sns.despine(left=True)\n",
    "\n",
    "print('gatilho explorar hoje é:',round(gatilho[0]/(CF*q*B*np.exp(-2*delta)),2))\n",
    "print('gatilho investir hoje é:',round(gatilho_inv[0]/(q*B*np.exp(-2*delta)),2))\n",
    "print('saida do atrito - gatilho simultaneo:',round(pa,2))\n",
    "\n",
    "\n",
    "ax.plot(preco_inv,L_zero, color='blue', ls='-' )\n",
    "ax.plot(preco_inv,F_zero, color='red', ls='-' )\n",
    "#ax2.plot(preco_inv,U_i,color='black',ls='-')\n",
    "#ax.plot(preco_inv,EXP_custo,color='black',ls='-')\n",
    "\n",
    "ax.axhline(0, linestyle='--', color='grey')\n",
    "ax.axvline(x=g[0], linestyle='--', color='grey')\n",
    "ax.axvline(pa, linestyle='--', color='grey')\n",
    "\n",
    "ax.set_ylim(-20,250)\n",
    "ax.set_xlim(-5,120)\n",
    "\n",
    "#ax2.plot(V_vetor,F_V_Matrix[F_V_Matrix.shape[0]-1,:], color='blue', ls='--' )\n",
    "\n",
    "#ax2.legend(['Lider','Seguidor','Barganha'], loc='upper left', shadow=True)\n",
    "ax.legend(['Lider','Seguidor', '$P^{**}$', '$P^{s}$'], loc='upper left', shadow=True)\n",
    "ax.set_xlabel('Preço do Petróleo- $/bbl')\n",
    "ax.set_ylabel('Valor -  M$')\n",
    "ax.set_title('Avaliação Exploratória - Jogo Simétrico')\n",
    "\n",
    "ax.set_xlim(right=100)\n",
    "ax.set_ylim(top=1600)\n",
    "ax.set_ylim(bottom=-100)\n",
    "#ax2.set_title('Opção de Investir em função do Preço')\n",
    "\n",
    "plt.plot()"
   ]
  },
  {
   "cell_type": "code",
   "execution_count": 82,
   "metadata": {},
   "outputs": [
    {
     "name": "stdout",
     "output_type": "stream",
     "text": [
      "gatilho explorar hoje é: 69.63\n",
      "gatilho investir hoje é: 64.88\n",
      "saida do atrito - gatilho simultaneo: 76.25\n"
     ]
    },
    {
     "data": {
      "text/plain": [
       "[]"
      ]
     },
     "execution_count": 82,
     "metadata": {},
     "output_type": "execute_result"
    },
    {
     "data": {
      "image/png": "[encoded data removed]",
      "text/plain": [
       "<Figure size 720x360 with 1 Axes>"
      ]
     },
     "metadata": {
      "needs_background": "light"
     },
     "output_type": "display_data"
    }
   ],
   "source": [
    "#####Figuras de Gatilho e a#####\n",
    "fig,ax = plt.subplots(1,1, figsize=(10,5))\n",
    "sns.despine(left=True)\n",
    "\n",
    "print('gatilho explorar hoje é:',round(gatilho[0]/(CF*q*B*np.exp(-2*delta)),2))\n",
    "print('gatilho investir hoje é:',round(gatilho_inv[0]/(q*B*np.exp(-2*delta)),2))\n",
    "print('saida do atrito - gatilho simultaneo:',round(pa,2))\n",
    "\n",
    "\n",
    "ax.plot(preco_inv,L_zero, color='blue', ls='-' )\n",
    "ax.plot(preco_inv,F_zero, color='red', ls='-' )\n",
    "#ax2.plot(preco_inv,U_i,color='black',ls='-')\n",
    "#ax.plot(preco_inv,EXP_custo,color='black',ls='-')\n",
    "\n",
    "ax.axhline(0, linestyle='--', color='grey')\n",
    "ax.axvline(x=g[0], linestyle='--', color='grey')\n",
    "ax.axvline(pa, linestyle='--', color='grey')\n",
    "\n",
    "ax.set_ylim(-20,250)\n",
    "ax.set_xlim(-5,120)\n",
    "\n",
    "#ax2.plot(V_vetor,F_V_Matrix[F_V_Matrix.shape[0]-1,:], color='blue', ls='--' )\n",
    "\n",
    "#ax2.legend(['Lider','Seguidor','Barganha'], loc='upper left', shadow=True)\n",
    "ax.legend(['Lider','Seguidor', '$P^{**}$', '$P^{s}$'], loc='upper left', shadow=True)\n",
    "ax.set_xlabel('Preço do Petróleo- $/bbl')\n",
    "ax.set_ylabel('Valor -  M$')\n",
    "ax.set_title('Avaliação Exploratória - Jogo Simétrico')\n",
    "ax.set_xlim(right=77)\n",
    "ax.set_xlim(left=69)\n",
    "\n",
    "ax.set_ylim(top=1450)\n",
    "ax.set_ylim(bottom=1200)\n",
    "#ax2.set_title('Opção de Investir em função do Preço')\n",
    "\n",
    "plt.plot()"
   ]
  },
  {
   "cell_type": "code",
   "execution_count": 83,
   "metadata": {},
   "outputs": [
    {
     "name": "stdout",
     "output_type": "stream",
     "text": [
      "gatilho explorar hoje é: 69.63\n",
      "gatilho investir hoje é: 64.88\n",
      "saida do atrito - gatilho simultaneo: 76.25\n"
     ]
    },
    {
     "data": {
      "text/plain": [
       "[]"
      ]
     },
     "execution_count": 83,
     "metadata": {},
     "output_type": "execute_result"
    },
    {
     "data": {
      "image/png": "[encoded data removed]",
      "text/plain": [
       "<Figure size 720x360 with 1 Axes>"
      ]
     },
     "metadata": {
      "needs_background": "light"
     },
     "output_type": "display_data"
    }
   ],
   "source": [
    "#####Figuras de Gatilho e a#####\n",
    "fig,ax = plt.subplots(1,1, figsize=(10,5))\n",
    "sns.despine(left=True)\n",
    "\n",
    "print('gatilho explorar hoje é:',round(gatilho[0]/(CF*q*B*np.exp(-2*delta)),2))\n",
    "print('gatilho investir hoje é:',round(gatilho_inv[0]/(q*B*np.exp(-2*delta)),2))\n",
    "print('saida do atrito - gatilho simultaneo:',round(pa,2))\n",
    "\n",
    "\n",
    "ax.plot(preco_inv,L_zero, color='blue', ls='-' )\n",
    "ax.plot(preco_inv,F_zero, color='red', ls='-' )\n",
    "ax.plot(preco_inv,U_i,color='black',ls='-')\n",
    "#ax.plot(preco_inv,EXP_custo,color='black',ls='-')\n",
    "\n",
    "ax.axhline(0, linestyle='--', color='grey')\n",
    "ax.axvline(x=g[0], linestyle='--', color='grey')\n",
    "ax.axvline(pa, linestyle='--', color='grey')\n",
    "\n",
    "ax.set_ylim(-20,250)\n",
    "ax.set_xlim(-5,120)\n",
    "\n",
    "#ax2.plot(V_vetor,F_V_Matrix[F_V_Matrix.shape[0]-1,:], color='blue', ls='--' )\n",
    "\n",
    "#ax2.legend(['Lider','Seguidor','Barganha'], loc='upper left', shadow=True)\n",
    "ax.legend(['Lider','Seguidor','Barganha'], loc='upper left', shadow=True)\n",
    "ax.set_xlabel('Preço do Petróleo- $/bbl')\n",
    "ax.set_ylabel('Valor -  M$')\n",
    "ax.set_title('Avaliação Exploratória - Jogo Simétrico')\n",
    "ax.set_xlim(right=72)\n",
    "ax.set_xlim(left=71)\n",
    "\n",
    "ax.set_ylim(top=1300)\n",
    "ax.set_ylim(bottom=1250)\n",
    "#ax2.set_title('Opção de Investir em função do Preço')\n",
    "\n",
    "plt.plot()"
   ]
  },
  {
   "cell_type": "code",
   "execution_count": 84,
   "metadata": {},
   "outputs": [
    {
     "name": "stdout",
     "output_type": "stream",
     "text": [
      "gatilho explorar hoje é: 69.63\n",
      "gatilho investir hoje é: 64.88\n",
      "saida do atrito - gatilho simultaneo: 76.25\n"
     ]
    },
    {
     "data": {
      "text/plain": [
       "[]"
      ]
     },
     "execution_count": 84,
     "metadata": {},
     "output_type": "execute_result"
    },
    {
     "data": {
      "image/png": "[encoded data removed]",
      "text/plain": [
       "<Figure size 720x360 with 1 Axes>"
      ]
     },
     "metadata": {
      "needs_background": "light"
     },
     "output_type": "display_data"
    }
   ],
   "source": [
    "#####Figuras de Gatilho e a#####\n",
    "fig,ax = plt.subplots(1,1, figsize=(10,5))\n",
    "sns.despine(left=True)\n",
    "\n",
    "print('gatilho explorar hoje é:',round(gatilho[0]/(CF*q*B*np.exp(-2*delta)),2))\n",
    "print('gatilho investir hoje é:',round(gatilho_inv[0]/(q*B*np.exp(-2*delta)),2))\n",
    "print('saida do atrito - gatilho simultaneo:',round(pa,2))\n",
    "\n",
    "\n",
    "ax.plot(preco_inv,L_zero, color='blue', ls='-' )\n",
    "ax.plot(preco_inv,F_zero, color='red', ls='-' )\n",
    "ax.plot(preco_inv,U_1_i,color='black',ls='-')\n",
    "#ax.plot(preco_inv,EXP_custo,color='black',ls='-')\n",
    "\n",
    "ax.axhline(0, linestyle='--', color='grey')\n",
    "ax.axvline(x=g[0], linestyle='--', color='grey')\n",
    "ax.axvline(pa, linestyle='--', color='grey')\n",
    "\n",
    "ax.set_ylim(-20,250)\n",
    "ax.set_xlim(-5,120)\n",
    "\n",
    "#ax2.plot(V_vetor,F_V_Matrix[F_V_Matrix.shape[0]-1,:], color='blue', ls='--' )\n",
    "\n",
    "#ax2.legend(['Lider','Seguidor','Barganha'], loc='upper left', shadow=True)\n",
    "ax.legend(['Lider','Seguidor','Barganha'], loc='upper left', shadow=True)\n",
    "ax.set_xlabel('Preço do Petróleo- $/bbl')\n",
    "ax.set_ylabel('Valor -  M$')\n",
    "ax.set_title('Avaliação Exploratória - Jogo Simétrico')\n",
    "ax.set_xlim(right=72)\n",
    "ax.set_xlim(left=71)\n",
    "\n",
    "ax.set_ylim(top=1300)\n",
    "ax.set_ylim(bottom=1250)\n",
    "#ax2.set_title('Opção de Investir em função do Preço')\n",
    "\n",
    "plt.plot()"
   ]
  },
  {
   "cell_type": "code",
   "execution_count": 77,
   "metadata": {},
   "outputs": [
    {
     "ename": "TypeError",
     "evalue": "ufunc 'bitwise_or' not supported for the input types, and the inputs could not be safely coerced to any supported types according to the casting rule ''safe''",
     "output_type": "error",
     "traceback": [
      "\u001b[1;31m---------------------------------------------------------------------------\u001b[0m",
      "\u001b[1;31mTypeError\u001b[0m                                 Traceback (most recent call last)",
      "\u001b[1;32m<ipython-input-77-1c7efbe2308b>\u001b[0m in \u001b[0;36m<module>\u001b[1;34m\u001b[0m\n\u001b[1;32m----> 1\u001b[1;33m \u001b[0mpreco_inv\u001b[0m\u001b[1;33m[\u001b[0m\u001b[1;33m(\u001b[0m\u001b[0mU_1_i\u001b[0m\u001b[1;33m>\u001b[0m\u001b[0mF_zero\u001b[0m\u001b[1;33m)\u001b[0m\u001b[1;33m]\u001b[0m \u001b[1;33m|\u001b[0m \u001b[0mpreco_inv\u001b[0m\u001b[1;33m[\u001b[0m\u001b[1;33m(\u001b[0m\u001b[0mU_1_i\u001b[0m\u001b[1;33m>\u001b[0m\u001b[0mU_i\u001b[0m\u001b[1;33m)\u001b[0m\u001b[1;33m]\u001b[0m\u001b[1;33m\u001b[0m\u001b[1;33m\u001b[0m\u001b[0m\n\u001b[0m",
      "\u001b[1;31mTypeError\u001b[0m: ufunc 'bitwise_or' not supported for the input types, and the inputs could not be safely coerced to any supported types according to the casting rule ''safe''"
     ]
    }
   ],
   "source": [
    "preco_inv[(U_1_i>F_zero)] | preco_inv[(U_1_i>U_i)]"
   ]
  },
  {
   "cell_type": "code",
   "execution_count": 78,
   "metadata": {},
   "outputs": [
    {
     "data": {
      "text/plain": [
       "array([ 66.25,  66.5 ,  66.75,  67.  ,  67.25,  67.5 ,  67.75,  68.  ,\n",
       "        68.25,  68.5 ,  68.75,  69.  ,  69.25,  69.5 ,  69.75,  70.  ,\n",
       "        70.25,  70.5 ,  70.75,  71.  ,  71.25,  71.5 ,  71.75,  72.  ,\n",
       "        72.25,  72.5 ,  72.75,  73.  ,  73.25,  73.5 ,  73.75,  74.  ,\n",
       "        74.25,  74.5 ,  74.75,  75.  ,  75.25,  75.5 ,  75.75,  76.  ,\n",
       "        76.25,  76.5 ,  76.75,  77.  ,  77.25,  77.5 ,  77.75,  78.  ,\n",
       "        78.25,  78.5 ,  78.75,  79.  ,  79.25,  79.5 ,  79.75,  80.  ,\n",
       "        80.25,  80.5 ,  80.75,  81.  ,  81.25,  81.5 ,  81.75,  82.  ,\n",
       "        82.25,  82.5 ,  82.75,  83.  ,  83.25,  83.5 ,  83.75,  84.  ,\n",
       "        84.25,  84.5 ,  84.75,  85.  ,  85.25,  85.5 ,  85.75,  86.  ,\n",
       "        86.25,  86.5 ,  86.75,  87.  ,  87.25,  87.5 ,  87.75,  88.  ,\n",
       "        88.75,  90.75,  94.75,  97.5 ,  99.25, 101.25, 103.  , 104.  ,\n",
       "       104.5 , 105.  , 107.25, 107.75, 109.75, 111.75, 113.75, 123.5 ,\n",
       "       127.25, 133.  , 136.25, 139.  , 141.  , 145.  , 149.75, 165.25,\n",
       "       167.25])"
      ]
     },
     "execution_count": 78,
     "metadata": {},
     "output_type": "execute_result"
    }
   ],
   "source": [
    "preco_inv[np.logical_and((U_1_i>F_zero),(U_1_i>U_i))]"
   ]
  },
  {
   "cell_type": "code",
   "execution_count": null,
   "metadata": {},
   "outputs": [],
   "source": [
    "preco_inv[U_1_i>F_zero]"
   ]
  },
  {
   "cell_type": "code",
   "execution_count": null,
   "metadata": {},
   "outputs": [],
   "source": [
    "np.logical_and((U_1_i>F_zero),(U_1_i>U_i))"
   ]
  },
  {
   "cell_type": "code",
   "execution_count": null,
   "metadata": {},
   "outputs": [],
   "source": [
    "########################Guerra de Atrito##############################3"
   ]
  },
  {
   "cell_type": "code",
   "execution_count": null,
   "metadata": {},
   "outputs": [],
   "source": [
    "print(opcao)\n",
    "print(opcao_info)\n",
    "print(custo)\n",
    "print(VME)"
   ]
  },
  {
   "cell_type": "code",
   "execution_count": null,
   "metadata": {},
   "outputs": [],
   "source": [
    "import nashpy as nash"
   ]
  },
  {
   "cell_type": "code",
   "execution_count": null,
   "metadata": {},
   "outputs": [],
   "source": [
    "A_matrix=[[VME, VME],[opcao_info,opcao-custo]]\n",
    "A_matrix=np.round(A_matrix,2)"
   ]
  },
  {
   "cell_type": "code",
   "execution_count": null,
   "metadata": {},
   "outputs": [],
   "source": [
    "B_matrix=[[VME,opcao_info],[VME,opcao-custo]]\n",
    "B_matrix=np.round(B_matrix,2)"
   ]
  },
  {
   "cell_type": "code",
   "execution_count": null,
   "metadata": {},
   "outputs": [],
   "source": [
    "war_att=nash.Game(A_matrix,B_matrix)\n",
    "war_att"
   ]
  },
  {
   "cell_type": "code",
   "execution_count": null,
   "metadata": {},
   "outputs": [],
   "source": [
    "eq=list(war_att.support_enumeration())\n",
    "eq"
   ]
  },
  {
   "cell_type": "code",
   "execution_count": null,
   "metadata": {},
   "outputs": [],
   "source": [
    "for s1,s2 in eq:\n",
    "    row_util=np.dot(np.dot(s1,A_matrix),s2)\n",
    "    col_util=np.dot(np.dot(s1,B_matrix),s2)\n",
    "    print(row_util,col_util)"
   ]
  },
  {
   "cell_type": "code",
   "execution_count": null,
   "metadata": {},
   "outputs": [],
   "source": []
  },
  {
   "cell_type": "code",
   "execution_count": null,
   "metadata": {},
   "outputs": [],
   "source": []
  },
  {
   "cell_type": "code",
   "execution_count": null,
   "metadata": {},
   "outputs": [],
   "source": [
    "###P gatilho exploratorio\n",
    "g[0]"
   ]
  },
  {
   "cell_type": "code",
   "execution_count": null,
   "metadata": {},
   "outputs": [],
   "source": [
    "###################################Simulações da Guerra de Atrito##############################################"
   ]
  },
  {
   "cell_type": "code",
   "execution_count": 128,
   "metadata": {},
   "outputs": [],
   "source": [
    "P1=71\n",
    "loc=np.where(np.round(preco_inv,2)==P1)[0][0]"
   ]
  },
  {
   "cell_type": "code",
   "execution_count": 129,
   "metadata": {},
   "outputs": [],
   "source": [
    "VME1=L_zero[loc]\n",
    "opcao_info1=F_zero[loc]\n",
    "opcao1=Exp_zero[loc]\n",
    "\n"
   ]
  },
  {
   "cell_type": "code",
   "execution_count": 130,
   "metadata": {},
   "outputs": [],
   "source": [
    "if P1>g[0]:\n",
    "    custo1=VME1*(1-np.exp(-r/12))\n",
    "else:\n",
    "    custo1=0"
   ]
  },
  {
   "cell_type": "code",
   "execution_count": 131,
   "metadata": {},
   "outputs": [],
   "source": [
    "A_matrix=[[VME1, VME1],[opcao_info1,opcao1-custo1]]\n",
    "A_matrix=np.round(A_matrix,2)"
   ]
  },
  {
   "cell_type": "code",
   "execution_count": 132,
   "metadata": {},
   "outputs": [
    {
     "data": {
      "text/plain": [
       "Bi matrix game with payoff matrices:\n",
       "\n",
       "Row player:\n",
       "[[1247.11 1247.11]\n",
       " [1248.19 1244.  ]]\n",
       "\n",
       "Column player:\n",
       "[[1247.11 1248.19]\n",
       " [1247.11 1244.  ]]"
      ]
     },
     "execution_count": 132,
     "metadata": {},
     "output_type": "execute_result"
    }
   ],
   "source": [
    "B_matrix=[[VME1,opcao_info1],[VME1,opcao1-custo1]]\n",
    "B_matrix=np.round(B_matrix,2)\n",
    "war_att=nash.Game(A_matrix,B_matrix)\n",
    "war_att\n",
    "\n"
   ]
  },
  {
   "cell_type": "code",
   "execution_count": 133,
   "metadata": {},
   "outputs": [
    {
     "data": {
      "text/plain": [
       "[(array([1., 0.]), array([0., 1.])),\n",
       " (array([0., 1.]), array([1., 0.])),\n",
       " (array([0.74224344, 0.25775656]), array([0.74224344, 0.25775656]))]"
      ]
     },
     "execution_count": 133,
     "metadata": {},
     "output_type": "execute_result"
    }
   ],
   "source": [
    "eq=list(war_att.support_enumeration())\n",
    "eq"
   ]
  },
  {
   "cell_type": "code",
   "execution_count": 134,
   "metadata": {},
   "outputs": [
    {
     "name": "stdout",
     "output_type": "stream",
     "text": [
      "1247.11 1248.19\n",
      "1248.19 1247.11\n",
      "1247.11 1247.11\n"
     ]
    }
   ],
   "source": [
    "for s1,s2 in eq:\n",
    "    row_util=np.dot(np.dot(s1,A_matrix),s2)\n",
    "    col_util=np.dot(np.dot(s1,B_matrix),s2)\n",
    "    print(row_util,col_util)"
   ]
  },
  {
   "cell_type": "code",
   "execution_count": null,
   "metadata": {},
   "outputs": [],
   "source": []
  },
  {
   "cell_type": "code",
   "execution_count": null,
   "metadata": {},
   "outputs": [],
   "source": []
  },
  {
   "cell_type": "code",
   "execution_count": null,
   "metadata": {},
   "outputs": [],
   "source": []
  },
  {
   "cell_type": "code",
   "execution_count": null,
   "metadata": {},
   "outputs": [],
   "source": [
    "# bjst(V,I,r,div,sigma,tau):\n",
    "#valor da opção\n",
    "bjst(V_cf,Iw+Id_cf,r,delta,sigma,3)"
   ]
  },
  {
   "cell_type": "code",
   "execution_count": 132,
   "metadata": {},
   "outputs": [
    {
     "data": {
      "text/plain": [
       "69.55766396918423"
      ]
     },
     "execution_count": 132,
     "metadata": {},
     "output_type": "execute_result"
    }
   ],
   "source": [
    "vcritico(Iw+Id_cf,r,delta,sigma,tau+2)[1]/(CF*q*B*np.exp(-2*delta))"
   ]
  },
  {
   "cell_type": "code",
   "execution_count": null,
   "metadata": {},
   "outputs": [],
   "source": []
  },
  {
   "cell_type": "code",
   "execution_count": 64,
   "metadata": {},
   "outputs": [
    {
     "data": {
      "text/plain": [
       "array([[16.99424099, 15.91862444],\n",
       "       [16.93376623, 15.91862444]])"
      ]
     },
     "execution_count": 64,
     "metadata": {},
     "output_type": "execute_result"
    }
   ],
   "source": [
    "\n",
    "(CF*q*B*np.exp(-2*delta))"
   ]
  },
  {
   "cell_type": "code",
   "execution_count": 125,
   "metadata": {},
   "outputs": [
    {
     "ename": "NameError",
     "evalue": "name 'V' is not defined",
     "output_type": "error",
     "traceback": [
      "\u001b[1;31m---------------------------------------------------------------------------\u001b[0m",
      "\u001b[1;31mNameError\u001b[0m                                 Traceback (most recent call last)",
      "\u001b[1;32m<ipython-input-125-0bd9f5758be4>\u001b[0m in \u001b[0;36m<module>\u001b[1;34m\u001b[0m\n\u001b[0;32m      1\u001b[0m \u001b[1;31m# bjst(V,I,r,div,sigma,tau):\u001b[0m\u001b[1;33m\u001b[0m\u001b[1;33m\u001b[0m\u001b[1;33m\u001b[0m\u001b[0m\n\u001b[0;32m      2\u001b[0m \u001b[1;31m#valor da opção\u001b[0m\u001b[1;33m\u001b[0m\u001b[1;33m\u001b[0m\u001b[1;33m\u001b[0m\u001b[0m\n\u001b[1;32m----> 3\u001b[1;33m \u001b[0mbjst\u001b[0m\u001b[1;33m(\u001b[0m\u001b[0mV\u001b[0m\u001b[1;33m,\u001b[0m\u001b[0mIw\u001b[0m\u001b[1;33m+\u001b[0m\u001b[0mId\u001b[0m\u001b[1;33m,\u001b[0m\u001b[0mr\u001b[0m\u001b[1;33m,\u001b[0m\u001b[0mdelta\u001b[0m\u001b[1;33m,\u001b[0m\u001b[0msigma\u001b[0m\u001b[1;33m,\u001b[0m\u001b[1;36m2\u001b[0m\u001b[1;33m)\u001b[0m\u001b[1;33m[\u001b[0m\u001b[1;36m1\u001b[0m\u001b[1;33m]\u001b[0m\u001b[1;33m/\u001b[0m\u001b[1;33m(\u001b[0m\u001b[1;36m0.2\u001b[0m\u001b[1;33m*\u001b[0m\u001b[1;36m0.1\u001b[0m\u001b[1;33m*\u001b[0m\u001b[1;36m300\u001b[0m\u001b[1;33m*\u001b[0m\u001b[0mnp\u001b[0m\u001b[1;33m.\u001b[0m\u001b[0mexp\u001b[0m\u001b[1;33m(\u001b[0m\u001b[1;33m-\u001b[0m\u001b[1;36m2\u001b[0m\u001b[1;33m*\u001b[0m\u001b[0mdelta\u001b[0m\u001b[1;33m)\u001b[0m\u001b[1;33m)\u001b[0m\u001b[1;33m\u001b[0m\u001b[1;33m\u001b[0m\u001b[0m\n\u001b[0m",
      "\u001b[1;31mNameError\u001b[0m: name 'V' is not defined"
     ]
    }
   ],
   "source": [
    "# bjst(V,I,r,div,sigma,tau):\n",
    "#valor da opção\n",
    "bjst(V,Iw+Id,r,delta,sigma,2)[1]/(0.2*0.1*300*np.exp(-2*delta))"
   ]
  },
  {
   "cell_type": "code",
   "execution_count": 30,
   "metadata": {},
   "outputs": [
    {
     "ename": "NameError",
     "evalue": "name 'opcao' is not defined",
     "output_type": "error",
     "traceback": [
      "\u001b[1;31m---------------------------------------------------------------------------\u001b[0m",
      "\u001b[1;31mNameError\u001b[0m                                 Traceback (most recent call last)",
      "\u001b[1;32m<ipython-input-30-430791560dbc>\u001b[0m in \u001b[0;36m<module>\u001b[1;34m\u001b[0m\n\u001b[1;32m----> 1\u001b[1;33m \u001b[0mopcao\u001b[0m \u001b[1;33m-\u001b[0m \u001b[0mbjst\u001b[0m\u001b[1;33m(\u001b[0m\u001b[0mV\u001b[0m\u001b[1;33m,\u001b[0m\u001b[0mIw\u001b[0m\u001b[1;33m+\u001b[0m\u001b[0mId\u001b[0m\u001b[1;33m,\u001b[0m\u001b[0mr\u001b[0m\u001b[1;33m,\u001b[0m\u001b[0mdelta\u001b[0m\u001b[1;33m,\u001b[0m\u001b[0msigma\u001b[0m\u001b[1;33m,\u001b[0m\u001b[1;36m2\u001b[0m\u001b[1;33m)\u001b[0m\u001b[1;33m[\u001b[0m\u001b[1;36m0\u001b[0m\u001b[1;33m]\u001b[0m\u001b[1;33m\u001b[0m\u001b[1;33m\u001b[0m\u001b[0m\n\u001b[0m",
      "\u001b[1;31mNameError\u001b[0m: name 'opcao' is not defined"
     ]
    }
   ],
   "source": [
    "opcao - bjst(V,Iw+Id,r,delta,sigma,2)[0]"
   ]
  },
  {
   "cell_type": "code",
   "execution_count": null,
   "metadata": {},
   "outputs": [],
   "source": []
  },
  {
   "cell_type": "code",
   "execution_count": 22,
   "metadata": {},
   "outputs": [],
   "source": [
    "##############Simulacao de MCarlo"
   ]
  },
  {
   "cell_type": "code",
   "execution_count": 23,
   "metadata": {},
   "outputs": [],
   "source": [
    "delta_t=tempo[1]-tempo[0]"
   ]
  },
  {
   "cell_type": "code",
   "execution_count": 24,
   "metadata": {},
   "outputs": [
    {
     "data": {
      "text/plain": [
       "True"
      ]
     },
     "execution_count": 24,
     "metadata": {},
     "output_type": "execute_result"
    }
   ],
   "source": [
    "tempo[2]-tempo[1]==delta_t"
   ]
  },
  {
   "cell_type": "code",
   "execution_count": 25,
   "metadata": {},
   "outputs": [],
   "source": [
    "alpha=0.09\n",
    "T=tau"
   ]
  },
  {
   "cell_type": "code",
   "execution_count": 26,
   "metadata": {},
   "outputs": [],
   "source": [
    "#################Simulação MGB################"
   ]
  },
  {
   "cell_type": "code",
   "execution_count": null,
   "metadata": {},
   "outputs": [],
   "source": []
  },
  {
   "cell_type": "code",
   "execution_count": 28,
   "metadata": {},
   "outputs": [],
   "source": [
    "serie_gatilho=[]\n",
    "Po=P\n",
    "serie=[]\n",
    "Tempo=[]\n",
    "np.random.seed(57)  # Da figura\n",
    "#np.random.seed(70) ###Toque no 2.99\n",
    "#np.random.seed(68) ### Sem toque na curva\n",
    "\n",
    "serie.append(Po)\n",
    "Tempo.append(0)\n",
    "for t in range(int(T/delta_t)):\n",
    "    P1=Po*np.exp( (alpha-0.5*np.power(sigma,2))*delta_t + sigma*np.random.normal(0,1)*np.sqrt(delta_t))\n",
    "    serie.append(P1)\n",
    "    Po=P1\n",
    "    Tempo.append((t+1)*delta_t)\n",
    "\n",
    "df=pd.DataFrame(serie)\n",
    "\n",
    "for i in range(len(Tempo)):\n",
    "    Tempo[i] == round(i,0) #tries to round all numbers.\n",
    "\n",
    "df=pd.DataFrame(Tempo)\n",
    "df.columns=['Time']\n",
    "df = df.set_index('Time')\n",
    "df['S_00']=serie\n",
    "\n",
    "       \n",
    "    "
   ]
  },
  {
   "cell_type": "code",
   "execution_count": 29,
   "metadata": {},
   "outputs": [
    {
     "data": {
      "text/html": [
       "<div>\n",
       "<style scoped>\n",
       "    .dataframe tbody tr th:only-of-type {\n",
       "        vertical-align: middle;\n",
       "    }\n",
       "\n",
       "    .dataframe tbody tr th {\n",
       "        vertical-align: top;\n",
       "    }\n",
       "\n",
       "    .dataframe thead th {\n",
       "        text-align: right;\n",
       "    }\n",
       "</style>\n",
       "<table border=\"1\" class=\"dataframe\">\n",
       "  <thead>\n",
       "    <tr style=\"text-align: right;\">\n",
       "      <th></th>\n",
       "      <th>S_00</th>\n",
       "    </tr>\n",
       "    <tr>\n",
       "      <th>Time</th>\n",
       "      <th></th>\n",
       "    </tr>\n",
       "  </thead>\n",
       "  <tbody>\n",
       "    <tr>\n",
       "      <td>0.000000</td>\n",
       "      <td>50.000000</td>\n",
       "    </tr>\n",
       "    <tr>\n",
       "      <td>0.000254</td>\n",
       "      <td>49.969226</td>\n",
       "    </tr>\n",
       "    <tr>\n",
       "      <td>0.000509</td>\n",
       "      <td>49.921843</td>\n",
       "    </tr>\n",
       "    <tr>\n",
       "      <td>0.000763</td>\n",
       "      <td>49.520285</td>\n",
       "    </tr>\n",
       "    <tr>\n",
       "      <td>0.001018</td>\n",
       "      <td>49.332956</td>\n",
       "    </tr>\n",
       "  </tbody>\n",
       "</table>\n",
       "</div>"
      ],
      "text/plain": [
       "               S_00\n",
       "Time               \n",
       "0.000000  50.000000\n",
       "0.000254  49.969226\n",
       "0.000509  49.921843\n",
       "0.000763  49.520285\n",
       "0.001018  49.332956"
      ]
     },
     "execution_count": 29,
     "metadata": {},
     "output_type": "execute_result"
    }
   ],
   "source": [
    "df.head()"
   ]
  },
  {
   "cell_type": "code",
   "execution_count": 30,
   "metadata": {},
   "outputs": [
    {
     "data": {
      "text/plain": [
       "<matplotlib.axes._subplots.AxesSubplot at 0x26db9c313c8>"
      ]
     },
     "execution_count": 30,
     "metadata": {},
     "output_type": "execute_result"
    },
    {
     "data": {
      "image/png": "[encoded data removed]",
      "text/plain": [
       "<Figure size 432x288 with 1 Axes>"
      ]
     },
     "metadata": {
      "needs_background": "light"
     },
     "output_type": "display_data"
    }
   ],
   "source": [
    "df.plot()"
   ]
  },
  {
   "cell_type": "code",
   "execution_count": 31,
   "metadata": {},
   "outputs": [],
   "source": [
    "df['Gatilho']=g"
   ]
  },
  {
   "cell_type": "code",
   "execution_count": 32,
   "metadata": {},
   "outputs": [
    {
     "data": {
      "text/plain": [
       "<matplotlib.axes._subplots.AxesSubplot at 0x26db9d7ad08>"
      ]
     },
     "execution_count": 32,
     "metadata": {},
     "output_type": "execute_result"
    },
    {
     "data": {
      "image/png": "[encoded data removed]",
      "text/plain": [
       "<Figure size 432x288 with 1 Axes>"
      ]
     },
     "metadata": {
      "needs_background": "light"
     },
     "output_type": "display_data"
    }
   ],
   "source": [
    "df.plot()"
   ]
  },
  {
   "cell_type": "code",
   "execution_count": 33,
   "metadata": {},
   "outputs": [],
   "source": [
    "if df.index[df['Gatilho']<df['S_00']].shape ==(0,):\n",
    "    gatilho=np.nan\n",
    "    serie_gatilho.append(gatilho)\n",
    "else:\n",
    "    gatilho=df.index[df['Gatilho']<df['S_00']][0]\n",
    "    serie_gatilho.append(gatilho)"
   ]
  },
  {
   "cell_type": "code",
   "execution_count": 34,
   "metadata": {},
   "outputs": [
    {
     "data": {
      "text/plain": [
       "[2.1552879314731572]"
      ]
     },
     "execution_count": 34,
     "metadata": {},
     "output_type": "execute_result"
    }
   ],
   "source": [
    "serie_gatilho"
   ]
  },
  {
   "cell_type": "code",
   "execution_count": null,
   "metadata": {},
   "outputs": [],
   "source": []
  },
  {
   "cell_type": "code",
   "execution_count": 186,
   "metadata": {},
   "outputs": [],
   "source": [
    "df['Processo_Antes']=df['S_00'][df.index<gatilho]"
   ]
  },
  {
   "cell_type": "code",
   "execution_count": 187,
   "metadata": {},
   "outputs": [],
   "source": [
    "df['Processo_Depois']=df['S_00'][df.index>gatilho]"
   ]
  },
  {
   "cell_type": "code",
   "execution_count": null,
   "metadata": {},
   "outputs": [],
   "source": []
  },
  {
   "cell_type": "code",
   "execution_count": 188,
   "metadata": {},
   "outputs": [
    {
     "data": {
      "text/plain": [
       "<matplotlib.axes._subplots.AxesSubplot at 0x18f6cda2208>"
      ]
     },
     "execution_count": 188,
     "metadata": {},
     "output_type": "execute_result"
    },
    {
     "data": {
      "image/png": "[encoded data removed]",
      "text/plain": [
       "<Figure size 432x288 with 1 Axes>"
      ]
     },
     "metadata": {
      "needs_background": "light"
     },
     "output_type": "display_data"
    }
   ],
   "source": [
    "df.plot()"
   ]
  },
  {
   "cell_type": "code",
   "execution_count": 191,
   "metadata": {},
   "outputs": [
    {
     "data": {
      "text/plain": [
       "[]"
      ]
     },
     "execution_count": 191,
     "metadata": {},
     "output_type": "execute_result"
    },
    {
     "data": {
      "image/png": "[encoded data removed]",
      "text/plain": [
       "<Figure size 720x360 with 1 Axes>"
      ]
     },
     "metadata": {
      "needs_background": "light"
     },
     "output_type": "display_data"
    }
   ],
   "source": [
    "#####Figuras de Gatilho e a#####\n",
    "fig,ax = plt.subplots(1,1, figsize=(10,5))\n",
    "sns.despine(left=True)\n",
    "\n",
    "\n",
    "ax.plot(df.Processo_Antes, color='blue', ls='-' )\n",
    "\n",
    "ax.plot(df.Processo_Depois, color='red', ls='-' )\n",
    "\n",
    "ax.plot(df.Gatilho, color='black', ls='-' )\n",
    "\n",
    "ax.legend(['Processo Antes','Processo Depois','Curva de Gatilho'], loc='upper left', shadow=True)\n",
    "ax.set_ylabel('Preço do Petróleo- $/bbl')\n",
    "ax.set_xlabel('Tempo - Anos')\n",
    "ax.set_title('Curva de Gatilho e Processo Estocástico')\n",
    "#ax.set_xlim(right=72)\n",
    "#ax.set_xlim(left=71)\n",
    "\n",
    "#ax.set_ylim(top=1300)\n",
    "#ax.set_ylim(bottom=1250)\n",
    "#ax2.set_title('Opção de Investir em função do Preço')\n",
    "\n",
    "plt.plot()"
   ]
  },
  {
   "cell_type": "code",
   "execution_count": 35,
   "metadata": {},
   "outputs": [],
   "source": [
    "for i in range(9999):\n",
    "    Po=P\n",
    "    serie=[]\n",
    "    serie.append(Po)\n",
    "    for t in range(int(T/delta_t)):\n",
    "        P1=Po*np.exp( (alpha -0.5*np.power(sigma,2))*delta_t + sigma*np.random.normal(0,1)*np.sqrt(delta_t))\n",
    "        serie.append(P1)\n",
    "        Po=P1\n",
    "    df['S_{}'.format(i)]=serie\n",
    "    if df.index[df['Gatilho']<df['S_{}'.format(i)]].shape ==(0,):\n",
    "        serie_gatilho.append(np.nan)\n",
    "    else:\n",
    "        gatilho=df.index[df['Gatilho']<df['S_{}'.format(i)]][0]\n",
    "        serie_gatilho.append(gatilho)\n",
    "        \n",
    "    \n",
    "    \n",
    "    "
   ]
  },
  {
   "cell_type": "code",
   "execution_count": 36,
   "metadata": {},
   "outputs": [],
   "source": [
    "winsound.Beep(freq, duration)\n"
   ]
  },
  {
   "cell_type": "code",
   "execution_count": 37,
   "metadata": {},
   "outputs": [
    {
     "data": {
      "text/plain": [
       "10000"
      ]
     },
     "execution_count": 37,
     "metadata": {},
     "output_type": "execute_result"
    }
   ],
   "source": [
    "len(serie_gatilho)"
   ]
  },
  {
   "cell_type": "code",
   "execution_count": 38,
   "metadata": {},
   "outputs": [
    {
     "name": "stderr",
     "output_type": "stream",
     "text": [
      "C:\\Users\\LG\\Anaconda3\\lib\\site-packages\\numpy\\lib\\histograms.py:824: RuntimeWarning: invalid value encountered in greater_equal\n",
      "  keep = (tmp_a >= first_edge)\n",
      "C:\\Users\\LG\\Anaconda3\\lib\\site-packages\\numpy\\lib\\histograms.py:825: RuntimeWarning: invalid value encountered in less_equal\n",
      "  keep &= (tmp_a <= last_edge)\n"
     ]
    },
    {
     "data": {
      "image/png": "[encoded data removed]",
      "text/plain": [
       "<Figure size 432x288 with 1 Axes>"
      ]
     },
     "metadata": {
      "needs_background": "light"
     },
     "output_type": "display_data"
    }
   ],
   "source": [
    "plt.hist(serie_gatilho, bins=200);"
   ]
  },
  {
   "cell_type": "code",
   "execution_count": 40,
   "metadata": {},
   "outputs": [],
   "source": [
    "a=np.array(serie_gatilho)"
   ]
  },
  {
   "cell_type": "code",
   "execution_count": 44,
   "metadata": {},
   "outputs": [
    {
     "data": {
      "text/plain": [
       "0.1325"
      ]
     },
     "execution_count": 44,
     "metadata": {},
     "output_type": "execute_result"
    }
   ],
   "source": [
    "np.isnan(a).sum()/a.shape[0]"
   ]
  },
  {
   "cell_type": "code",
   "execution_count": 43,
   "metadata": {},
   "outputs": [
    {
     "data": {
      "text/plain": [
       "10000"
      ]
     },
     "execution_count": 43,
     "metadata": {},
     "output_type": "execute_result"
    }
   ],
   "source": [
    "a.shape[0]"
   ]
  },
  {
   "cell_type": "code",
   "execution_count": 60,
   "metadata": {},
   "outputs": [
    {
     "data": {
      "text/plain": [
       "1.3515122094050631"
      ]
     },
     "execution_count": 60,
     "metadata": {},
     "output_type": "execute_result"
    }
   ],
   "source": [
    "a[~np.isnan(a)].mean()"
   ]
  },
  {
   "cell_type": "code",
   "execution_count": 81,
   "metadata": {},
   "outputs": [
    {
     "data": {
      "text/plain": [
       "1.0"
      ]
     },
     "execution_count": 81,
     "metadata": {},
     "output_type": "execute_result"
    }
   ],
   "source": [
    "100*100/a.shape[0]"
   ]
  },
  {
   "cell_type": "code",
   "execution_count": 45,
   "metadata": {},
   "outputs": [],
   "source": [
    "from matplotlib.ticker import PercentFormatter"
   ]
  },
  {
   "cell_type": "code",
   "execution_count": 47,
   "metadata": {},
   "outputs": [],
   "source": [
    "tamanho=a.shape[0]"
   ]
  },
  {
   "cell_type": "code",
   "execution_count": 77,
   "metadata": {},
   "outputs": [
    {
     "data": {
      "text/plain": [
       "Text(0.5, 0.0125, 'min.   -    0.08')"
      ]
     },
     "execution_count": 77,
     "metadata": {},
     "output_type": "execute_result"
    },
    {
     "data": {
      "image/png": "[encoded data removed]",
      "text/plain": [
       "<Figure size 432x288 with 1 Axes>"
      ]
     },
     "metadata": {
      "needs_background": "light"
     },
     "output_type": "display_data"
    }
   ],
   "source": [
    "m=np.round(a[~np.isnan(a)].mean(),2)\n",
    "dv=np.round(a[~np.isnan(a)].std(),2)\n",
    "ma=np.round(a[~np.isnan(a)].max(),2)\n",
    "mi=np.round(a[~np.isnan(a)].min(),2)\n",
    "\n",
    "plt.hist(a, bins=200, weights=np.ones(tamanho)/tamanho )\n",
    "plt.gca().yaxis.set_major_formatter(PercentFormatter(1))\n",
    "plt.xlabel('Tempo')\n",
    "plt.text(0.5,.01650,'iterations - {}'.format(tamanho))\n",
    "plt.text(0.5,.018,'% nan - {}'.format(100*np.isnan(a).sum()/tamanho))\n",
    "plt.text(0.5,.01550,'mean    -    {}'.format(m))\n",
    "\n",
    "plt.text(0.5,.01450,'std.dev.  -  {}'.format(dv))\n",
    "\n",
    "plt.text(0.5,.01350,'max.   -    {}'.format(ma))\n",
    "\n",
    "plt.text(0.5,.01250,'min.   -    {}'.format(mi))"
   ]
  },
  {
   "cell_type": "code",
   "execution_count": 125,
   "metadata": {},
   "outputs": [
    {
     "data": {
      "text/plain": [
       "[]"
      ]
     },
     "execution_count": 125,
     "metadata": {},
     "output_type": "execute_result"
    },
    {
     "data": {
      "image/png": "[encoded data removed]",
      "text/plain": [
       "<Figure size 720x360 with 1 Axes>"
      ]
     },
     "metadata": {
      "needs_background": "light"
     },
     "output_type": "display_data"
    }
   ],
   "source": [
    "#####Figuras de Gatilho e a#####\n",
    "fig,ax = plt.subplots(1,1, figsize=(10,5))\n",
    "sns.despine(left=True)\n",
    "\n",
    "\n",
    "ax.hist(a, bins=200, weights=np.ones(tamanho)/tamanho )\n",
    "plt.gca().yaxis.set_major_formatter(PercentFormatter(1))\n",
    "ax.set_xlabel('Tempo')\n",
    "ax.set_xlabel('Probabilidade (%)')\n",
    "\n",
    "ax.text(2.25,.024,'iterações -   {}'.format(tamanho))\n",
    "ax.text(2.25,.022,'nan  %  -     {}'.format(100*np.isnan(a).sum()/tamanho))\n",
    "ax.text(2.25,.020,'Média    -    {}'.format(m))\n",
    "\n",
    "ax.text(2.25,.018,'Desv.Pad. - {}'.format(dv))\n",
    "\n",
    "ax.text(2.25,.016,'Máximo   -  {}'.format(ma))\n",
    "\n",
    "ax.text(2.25,.014,'Mínimo.   -  {}'.format(mi))\n",
    "#ax.set_xlim(right=72)\n",
    "#ax.set_xlim(left=71)\n",
    "\n",
    "#ax.set_ylim(top=1300)\n",
    "#ax.set_ylim(bottom=1250)\n",
    "ax.set_title('Histograma - Primeira Chegada - Início da Guerra de Atrito')\n",
    "\n",
    "plt.plot()"
   ]
  },
  {
   "cell_type": "code",
   "execution_count": 105,
   "metadata": {},
   "outputs": [
    {
     "name": "stderr",
     "output_type": "stream",
     "text": [
      "C:\\Users\\LG\\Anaconda3\\lib\\site-packages\\ipykernel_launcher.py:1: RuntimeWarning: invalid value encountered in greater\n",
      "  \"\"\"Entry point for launching an IPython kernel.\n"
     ]
    },
    {
     "data": {
      "text/plain": [
       "10000"
      ]
     },
     "execution_count": 105,
     "metadata": {},
     "output_type": "execute_result"
    }
   ],
   "source": [
    "sum(np.isnan(a)) + sum(a>0)"
   ]
  },
  {
   "cell_type": "code",
   "execution_count": 107,
   "metadata": {},
   "outputs": [
    {
     "name": "stderr",
     "output_type": "stream",
     "text": [
      "C:\\Users\\LG\\Anaconda3\\lib\\site-packages\\ipykernel_launcher.py:1: RuntimeWarning: invalid value encountered in less\n",
      "  \"\"\"Entry point for launching an IPython kernel.\n"
     ]
    },
    {
     "data": {
      "text/plain": [
       "38.8"
      ]
     },
     "execution_count": 107,
     "metadata": {},
     "output_type": "execute_result"
    }
   ],
   "source": [
    "100*sum(a<1)/a.shape[0]"
   ]
  },
  {
   "cell_type": "code",
   "execution_count": 108,
   "metadata": {},
   "outputs": [
    {
     "name": "stderr",
     "output_type": "stream",
     "text": [
      "C:\\Users\\LG\\Anaconda3\\lib\\site-packages\\ipykernel_launcher.py:1: RuntimeWarning: invalid value encountered in greater\n",
      "  \"\"\"Entry point for launching an IPython kernel.\n"
     ]
    },
    {
     "data": {
      "text/plain": [
       "13.8"
      ]
     },
     "execution_count": 108,
     "metadata": {},
     "output_type": "execute_result"
    }
   ],
   "source": [
    "100*sum(a>2.5)/a.shape[0]"
   ]
  },
  {
   "cell_type": "code",
   "execution_count": 112,
   "metadata": {},
   "outputs": [
    {
     "name": "stderr",
     "output_type": "stream",
     "text": [
      "C:\\Users\\LG\\Anaconda3\\lib\\site-packages\\ipykernel_launcher.py:1: RuntimeWarning: invalid value encountered in greater\n",
      "  \"\"\"Entry point for launching an IPython kernel.\n",
      "C:\\Users\\LG\\Anaconda3\\lib\\site-packages\\ipykernel_launcher.py:1: RuntimeWarning: invalid value encountered in less\n",
      "  \"\"\"Entry point for launching an IPython kernel.\n"
     ]
    },
    {
     "data": {
      "text/plain": [
       "34.15"
      ]
     },
     "execution_count": 112,
     "metadata": {},
     "output_type": "execute_result"
    }
   ],
   "source": [
    "100*sum(np.logical_and(a>1, a<2.5))/a.shape[0]"
   ]
  },
  {
   "cell_type": "code",
   "execution_count": 115,
   "metadata": {},
   "outputs": [
    {
     "name": "stderr",
     "output_type": "stream",
     "text": [
      "C:\\Users\\LG\\Anaconda3\\lib\\site-packages\\ipykernel_launcher.py:2: RuntimeWarning: invalid value encountered in less\n",
      "  \n",
      "C:\\Users\\LG\\Anaconda3\\lib\\site-packages\\ipykernel_launcher.py:2: RuntimeWarning: invalid value encountered in greater\n",
      "  \n"
     ]
    },
    {
     "data": {
      "text/plain": [
       "99.99999999999999"
      ]
     },
     "execution_count": 115,
     "metadata": {},
     "output_type": "execute_result"
    }
   ],
   "source": [
    "####Conferir se todas as médidas\n",
    "100*sum(a<1)/a.shape[0] +  100*sum(np.logical_and(a>1, a<2.5))/a.shape[0] +100*sum(a>2.5)/a.shape[0] +100*np.isnan(a).sum()/tamanho"
   ]
  },
  {
   "cell_type": "code",
   "execution_count": 98,
   "metadata": {},
   "outputs": [
    {
     "data": {
      "text/plain": [
       "8675"
      ]
     },
     "execution_count": 98,
     "metadata": {},
     "output_type": "execute_result"
    }
   ],
   "source": [
    "sum(~np.isnan(a))"
   ]
  },
  {
   "cell_type": "code",
   "execution_count": 72,
   "metadata": {},
   "outputs": [
    {
     "name": "stdout",
     "output_type": "stream",
     "text": [
      "Esperança matemática é: 65.49822253666237\n",
      "Média das simulações é 65.61384242154207\n"
     ]
    }
   ],
   "source": [
    "print('Esperança matemática é:', P*np.exp(alpha*tau))\n",
    "print('Média das simulações é',df.iloc[-1,2:].mean())"
   ]
  },
  {
   "cell_type": "code",
   "execution_count": 71,
   "metadata": {},
   "outputs": [
    {
     "data": {
      "text/plain": [
       "65.61384242154207"
      ]
     },
     "execution_count": 71,
     "metadata": {},
     "output_type": "execute_result"
    }
   ],
   "source": []
  },
  {
   "cell_type": "code",
   "execution_count": 276,
   "metadata": {},
   "outputs": [
    {
     "data": {
      "text/plain": [
       "<matplotlib.axes._subplots.AxesSubplot at 0x18f5c388f88>"
      ]
     },
     "execution_count": 276,
     "metadata": {},
     "output_type": "execute_result"
    },
    {
     "data": {
      "image/png": "[encoded data removed]",
      "text/plain": [
       "<Figure size 432x288 with 1 Axes>"
      ]
     },
     "metadata": {
      "needs_background": "light"
     },
     "output_type": "display_data"
    }
   ],
   "source": [
    "df.plot(legend=False)\n",
    "df.Gatilho.plot(color='black')"
   ]
  },
  {
   "cell_type": "code",
   "execution_count": 121,
   "metadata": {},
   "outputs": [
    {
     "data": {
      "text/plain": [
       "34.82827296866603"
      ]
     },
     "execution_count": 121,
     "metadata": {},
     "output_type": "execute_result"
    }
   ],
   "source": [
    "g[-1]"
   ]
  },
  {
   "cell_type": "code",
   "execution_count": null,
   "metadata": {},
   "outputs": [],
   "source": []
  }
 ],
 "metadata": {
  "kernelspec": {
   "display_name": "Python 3",
   "language": "python",
   "name": "python3"
  },
  "language_info": {
   "codemirror_mode": {
    "name": "ipython",
    "version": 3
   },
   "file_extension": ".py",
   "mimetype": "text/x-python",
   "name": "python",
   "nbconvert_exporter": "python",
   "pygments_lexer": "ipython3",
   "version": "3.7.4"
  }
 },
 "nbformat": 4,
 "nbformat_minor": 2
}
