{
 "cells": [
  {
   "cell_type": "markdown",
   "metadata": {},
   "source": [
    "### Portfolio of Oil Exploration Assets: Learning Options, Sequential Drilling Options and Defer Options \n",
    "####  Marco Antonio Guimarães Dias, \n",
    "#### Luigi de Magalhães Detomi Calvette\n",
    "##### RO Congress - Boston 2017\n"
   ]
  },
  {
   "cell_type": "markdown",
   "metadata": {},
   "source": [
    "[Paper](http://www.realoptions.org/openconf2017/data/papers/57.pdf)"
   ]
  },
  {
   "cell_type": "code",
   "execution_count": 1,
   "metadata": {},
   "outputs": [],
   "source": [
    "import numpy as np\n",
    "import pandas as pd\n",
    "import matplotlib.pyplot as plt\n",
    "%matplotlib inline\n",
    "import seaborn as sns\n",
    "import itertools\n",
    "import time\n",
    "import winsound"
   ]
  },
  {
   "cell_type": "code",
   "execution_count": 2,
   "metadata": {},
   "outputs": [],
   "source": [
    "\n",
    "duration = 1000  # milliseconds\n",
    "freq = 440  # Hz"
   ]
  },
  {
   "cell_type": "code",
   "execution_count": 3,
   "metadata": {},
   "outputs": [],
   "source": [
    "###Dados de Entrada###\n",
    "r=0.03\n",
    "delta=0.038\n",
    "sigma=0.3\n",
    "tau=3\n",
    "Po=50\n",
    "rho=0.5\n",
    "\n",
    "\n",
    "\n"
   ]
  },
  {
   "cell_type": "code",
   "execution_count": 4,
   "metadata": {},
   "outputs": [
    {
     "data": {
      "text/html": [
       "<div>\n",
       "<style scoped>\n",
       "    .dataframe tbody tr th:only-of-type {\n",
       "        vertical-align: middle;\n",
       "    }\n",
       "\n",
       "    .dataframe tbody tr th {\n",
       "        vertical-align: top;\n",
       "    }\n",
       "\n",
       "    .dataframe thead th {\n",
       "        text-align: right;\n",
       "    }\n",
       "</style>\n",
       "<table border=\"1\" class=\"dataframe\">\n",
       "  <thead>\n",
       "    <tr style=\"text-align: right;\">\n",
       "      <th>Type</th>\n",
       "      <th>DogFish</th>\n",
       "      <th>Feather</th>\n",
       "      <th>Head</th>\n",
       "    </tr>\n",
       "  </thead>\n",
       "  <tbody>\n",
       "    <tr>\n",
       "      <td>CF</td>\n",
       "      <td>0.3</td>\n",
       "      <td>0.25</td>\n",
       "      <td>0.20</td>\n",
       "    </tr>\n",
       "    <tr>\n",
       "      <td>I_w</td>\n",
       "      <td>80.0</td>\n",
       "      <td>60.00</td>\n",
       "      <td>80.00</td>\n",
       "    </tr>\n",
       "    <tr>\n",
       "      <td>q</td>\n",
       "      <td>0.2</td>\n",
       "      <td>0.14</td>\n",
       "      <td>0.18</td>\n",
       "    </tr>\n",
       "    <tr>\n",
       "      <td>B</td>\n",
       "      <td>620.0</td>\n",
       "      <td>400.00</td>\n",
       "      <td>950.00</td>\n",
       "    </tr>\n",
       "    <tr>\n",
       "      <td>Owner</td>\n",
       "      <td>0.0</td>\n",
       "      <td>0.00</td>\n",
       "      <td>1.00</td>\n",
       "    </tr>\n",
       "  </tbody>\n",
       "</table>\n",
       "</div>"
      ],
      "text/plain": [
       "Type   DogFish  Feather    Head\n",
       "CF         0.3     0.25    0.20\n",
       "I_w       80.0    60.00   80.00\n",
       "q          0.2     0.14    0.18\n",
       "B        620.0   400.00  950.00\n",
       "Owner      0.0     0.00    1.00"
      ]
     },
     "execution_count": 4,
     "metadata": {},
     "output_type": "execute_result"
    }
   ],
   "source": [
    "#Importar Case 2 ou ABC ou ABCD como case \n",
    "case=pd.read_csv(\"Case_Guy.csv\", sep=';')\n",
    "case.set_index('Type', inplace=True)\n",
    "case=case.astype(float).T\n",
    "case"
   ]
  },
  {
   "cell_type": "code",
   "execution_count": 5,
   "metadata": {},
   "outputs": [
    {
     "data": {
      "text/html": [
       "<div>\n",
       "<style scoped>\n",
       "    .dataframe tbody tr th:only-of-type {\n",
       "        vertical-align: middle;\n",
       "    }\n",
       "\n",
       "    .dataframe tbody tr th {\n",
       "        vertical-align: top;\n",
       "    }\n",
       "\n",
       "    .dataframe thead th {\n",
       "        text-align: right;\n",
       "    }\n",
       "</style>\n",
       "<table border=\"1\" class=\"dataframe\">\n",
       "  <thead>\n",
       "    <tr style=\"text-align: right;\">\n",
       "      <th>Type</th>\n",
       "      <th>DogFish</th>\n",
       "      <th>Feather</th>\n",
       "      <th>Head</th>\n",
       "    </tr>\n",
       "  </thead>\n",
       "  <tbody>\n",
       "    <tr>\n",
       "      <td>CF</td>\n",
       "      <td>0.300000</td>\n",
       "      <td>0.250000</td>\n",
       "      <td>0.200000</td>\n",
       "    </tr>\n",
       "    <tr>\n",
       "      <td>I_w</td>\n",
       "      <td>80.000000</td>\n",
       "      <td>60.000000</td>\n",
       "      <td>80.000000</td>\n",
       "    </tr>\n",
       "    <tr>\n",
       "      <td>q</td>\n",
       "      <td>0.185363</td>\n",
       "      <td>0.129754</td>\n",
       "      <td>0.166827</td>\n",
       "    </tr>\n",
       "    <tr>\n",
       "      <td>B</td>\n",
       "      <td>620.000000</td>\n",
       "      <td>400.000000</td>\n",
       "      <td>950.000000</td>\n",
       "    </tr>\n",
       "    <tr>\n",
       "      <td>Owner</td>\n",
       "      <td>0.000000</td>\n",
       "      <td>0.000000</td>\n",
       "      <td>1.000000</td>\n",
       "    </tr>\n",
       "  </tbody>\n",
       "</table>\n",
       "</div>"
      ],
      "text/plain": [
       "Type      DogFish     Feather        Head\n",
       "CF       0.300000    0.250000    0.200000\n",
       "I_w     80.000000   60.000000   80.000000\n",
       "q        0.185363    0.129754    0.166827\n",
       "B      620.000000  400.000000  950.000000\n",
       "Owner    0.000000    0.000000    1.000000"
      ]
     },
     "execution_count": 5,
     "metadata": {},
     "output_type": "execute_result"
    }
   ],
   "source": [
    "case.iloc[2,:]=case.iloc[2,:]*np.exp(-2*delta)\n",
    "case.head()"
   ]
  },
  {
   "cell_type": "code",
   "execution_count": 6,
   "metadata": {},
   "outputs": [
    {
     "data": {
      "text/html": [
       "<div>\n",
       "<style scoped>\n",
       "    .dataframe tbody tr th:only-of-type {\n",
       "        vertical-align: middle;\n",
       "    }\n",
       "\n",
       "    .dataframe tbody tr th {\n",
       "        vertical-align: top;\n",
       "    }\n",
       "\n",
       "    .dataframe thead th {\n",
       "        text-align: right;\n",
       "    }\n",
       "</style>\n",
       "<table border=\"1\" class=\"dataframe\">\n",
       "  <thead>\n",
       "    <tr style=\"text-align: right;\">\n",
       "      <th></th>\n",
       "      <th>DogFish</th>\n",
       "      <th>Feather</th>\n",
       "      <th>Head</th>\n",
       "    </tr>\n",
       "    <tr>\n",
       "      <th>Type</th>\n",
       "      <th></th>\n",
       "      <th></th>\n",
       "      <th></th>\n",
       "    </tr>\n",
       "  </thead>\n",
       "  <tbody>\n",
       "    <tr>\n",
       "      <td>DogFish</td>\n",
       "      <td>1.0</td>\n",
       "      <td>0.6</td>\n",
       "      <td>0.5</td>\n",
       "    </tr>\n",
       "    <tr>\n",
       "      <td>Feather</td>\n",
       "      <td>0.6</td>\n",
       "      <td>1.0</td>\n",
       "      <td>0.6</td>\n",
       "    </tr>\n",
       "    <tr>\n",
       "      <td>Head</td>\n",
       "      <td>0.5</td>\n",
       "      <td>0.6</td>\n",
       "      <td>1.0</td>\n",
       "    </tr>\n",
       "  </tbody>\n",
       "</table>\n",
       "</div>"
      ],
      "text/plain": [
       "         DogFish  Feather  Head\n",
       "Type                           \n",
       "DogFish      1.0      0.6   0.5\n",
       "Feather      0.6      1.0   0.6\n",
       "Head         0.5      0.6   1.0"
      ]
     },
     "execution_count": 6,
     "metadata": {},
     "output_type": "execute_result"
    }
   ],
   "source": [
    "#Importar correlacao Case 2 ou ABC ou ABCD como case\n",
    "case_corr=pd.read_csv(\"Case_Guy_corr.csv\", sep=';')\n",
    "case_corr.set_index('Type', inplace=True)\n",
    "case_corr\n"
   ]
  },
  {
   "cell_type": "code",
   "execution_count": null,
   "metadata": {},
   "outputs": [],
   "source": []
  },
  {
   "cell_type": "code",
   "execution_count": 7,
   "metadata": {},
   "outputs": [],
   "source": [
    "###############Bloco com DogFish e  Head ####################3\n",
    "#Será chamado de b1, mas é um bloco fictício\n",
    "\n"
   ]
  },
  {
   "cell_type": "code",
   "execution_count": 8,
   "metadata": {},
   "outputs": [
    {
     "data": {
      "text/html": [
       "<div>\n",
       "<style scoped>\n",
       "    .dataframe tbody tr th:only-of-type {\n",
       "        vertical-align: middle;\n",
       "    }\n",
       "\n",
       "    .dataframe tbody tr th {\n",
       "        vertical-align: top;\n",
       "    }\n",
       "\n",
       "    .dataframe thead th {\n",
       "        text-align: right;\n",
       "    }\n",
       "</style>\n",
       "<table border=\"1\" class=\"dataframe\">\n",
       "  <thead>\n",
       "    <tr style=\"text-align: right;\">\n",
       "      <th>Type</th>\n",
       "      <th>DogFish</th>\n",
       "      <th>Head</th>\n",
       "    </tr>\n",
       "  </thead>\n",
       "  <tbody>\n",
       "    <tr>\n",
       "      <td>CF</td>\n",
       "      <td>0.3</td>\n",
       "      <td>0.20</td>\n",
       "    </tr>\n",
       "    <tr>\n",
       "      <td>I_w</td>\n",
       "      <td>80.0</td>\n",
       "      <td>80.00</td>\n",
       "    </tr>\n",
       "    <tr>\n",
       "      <td>q</td>\n",
       "      <td>0.2</td>\n",
       "      <td>0.18</td>\n",
       "    </tr>\n",
       "    <tr>\n",
       "      <td>B</td>\n",
       "      <td>620.0</td>\n",
       "      <td>950.00</td>\n",
       "    </tr>\n",
       "    <tr>\n",
       "      <td>Owner</td>\n",
       "      <td>1.0</td>\n",
       "      <td>1.00</td>\n",
       "    </tr>\n",
       "  </tbody>\n",
       "</table>\n",
       "</div>"
      ],
      "text/plain": [
       "Type   DogFish    Head\n",
       "CF         0.3    0.20\n",
       "I_w       80.0   80.00\n",
       "q          0.2    0.18\n",
       "B        620.0  950.00\n",
       "Owner      1.0    1.00"
      ]
     },
     "execution_count": 8,
     "metadata": {},
     "output_type": "execute_result"
    }
   ],
   "source": [
    "case_b1=pd.read_csv(\"Case_Guy_b_Fantasia.csv\", sep=';')\n",
    "case_b1.set_index('Type', inplace=True)\n",
    "case_b1=case_b1.astype(float).T\n",
    "case_b1"
   ]
  },
  {
   "cell_type": "code",
   "execution_count": 9,
   "metadata": {},
   "outputs": [],
   "source": [
    "case_b1.iloc[2,:]=case_b1.iloc[2,:]*np.exp(-2*delta)"
   ]
  },
  {
   "cell_type": "code",
   "execution_count": 10,
   "metadata": {},
   "outputs": [
    {
     "data": {
      "text/html": [
       "<div>\n",
       "<style scoped>\n",
       "    .dataframe tbody tr th:only-of-type {\n",
       "        vertical-align: middle;\n",
       "    }\n",
       "\n",
       "    .dataframe tbody tr th {\n",
       "        vertical-align: top;\n",
       "    }\n",
       "\n",
       "    .dataframe thead th {\n",
       "        text-align: right;\n",
       "    }\n",
       "</style>\n",
       "<table border=\"1\" class=\"dataframe\">\n",
       "  <thead>\n",
       "    <tr style=\"text-align: right;\">\n",
       "      <th>Type</th>\n",
       "      <th>DogFish</th>\n",
       "      <th>Head</th>\n",
       "    </tr>\n",
       "  </thead>\n",
       "  <tbody>\n",
       "    <tr>\n",
       "      <td>CF</td>\n",
       "      <td>0.300000</td>\n",
       "      <td>0.200000</td>\n",
       "    </tr>\n",
       "    <tr>\n",
       "      <td>I_w</td>\n",
       "      <td>80.000000</td>\n",
       "      <td>80.000000</td>\n",
       "    </tr>\n",
       "    <tr>\n",
       "      <td>q</td>\n",
       "      <td>0.185363</td>\n",
       "      <td>0.166827</td>\n",
       "    </tr>\n",
       "    <tr>\n",
       "      <td>B</td>\n",
       "      <td>620.000000</td>\n",
       "      <td>950.000000</td>\n",
       "    </tr>\n",
       "    <tr>\n",
       "      <td>Owner</td>\n",
       "      <td>1.000000</td>\n",
       "      <td>1.000000</td>\n",
       "    </tr>\n",
       "  </tbody>\n",
       "</table>\n",
       "</div>"
      ],
      "text/plain": [
       "Type      DogFish        Head\n",
       "CF       0.300000    0.200000\n",
       "I_w     80.000000   80.000000\n",
       "q        0.185363    0.166827\n",
       "B      620.000000  950.000000\n",
       "Owner    1.000000    1.000000"
      ]
     },
     "execution_count": 10,
     "metadata": {},
     "output_type": "execute_result"
    }
   ],
   "source": [
    "case_b1.head()"
   ]
  },
  {
   "cell_type": "code",
   "execution_count": 11,
   "metadata": {},
   "outputs": [
    {
     "data": {
      "text/html": [
       "<div>\n",
       "<style scoped>\n",
       "    .dataframe tbody tr th:only-of-type {\n",
       "        vertical-align: middle;\n",
       "    }\n",
       "\n",
       "    .dataframe tbody tr th {\n",
       "        vertical-align: top;\n",
       "    }\n",
       "\n",
       "    .dataframe thead th {\n",
       "        text-align: right;\n",
       "    }\n",
       "</style>\n",
       "<table border=\"1\" class=\"dataframe\">\n",
       "  <thead>\n",
       "    <tr style=\"text-align: right;\">\n",
       "      <th></th>\n",
       "      <th>DogFish</th>\n",
       "      <th>Head</th>\n",
       "    </tr>\n",
       "    <tr>\n",
       "      <th>Type</th>\n",
       "      <th></th>\n",
       "      <th></th>\n",
       "    </tr>\n",
       "  </thead>\n",
       "  <tbody>\n",
       "    <tr>\n",
       "      <td>DogFish</td>\n",
       "      <td>1.0</td>\n",
       "      <td>0.5</td>\n",
       "    </tr>\n",
       "    <tr>\n",
       "      <td>Head</td>\n",
       "      <td>0.5</td>\n",
       "      <td>1.0</td>\n",
       "    </tr>\n",
       "  </tbody>\n",
       "</table>\n",
       "</div>"
      ],
      "text/plain": [
       "         DogFish  Head\n",
       "Type                  \n",
       "DogFish      1.0   0.5\n",
       "Head         0.5   1.0"
      ]
     },
     "execution_count": 11,
     "metadata": {},
     "output_type": "execute_result"
    }
   ],
   "source": [
    "case_corr_b1=pd.read_csv(\"Case_Guy_corr_b_Fantasia.csv\", sep=';')\n",
    "case_corr_b1.set_index('Type', inplace=True)\n",
    "case_corr_b1\n"
   ]
  },
  {
   "cell_type": "code",
   "execution_count": 12,
   "metadata": {},
   "outputs": [],
   "source": [
    "###############Bloco 2##########################\n"
   ]
  },
  {
   "cell_type": "code",
   "execution_count": null,
   "metadata": {},
   "outputs": [],
   "source": []
  },
  {
   "cell_type": "code",
   "execution_count": 13,
   "metadata": {},
   "outputs": [],
   "source": [
    "def V(P,case,w):\n",
    "    valor=P*case.iloc[2,k[w]]*case.iloc[3,k[w]]\n",
    "    return valor\n",
    "\n",
    "    \n",
    "    "
   ]
  },
  {
   "cell_type": "code",
   "execution_count": 14,
   "metadata": {},
   "outputs": [],
   "source": [
    "def I(case,w):\n",
    "    invest=case.iloc[3,k[w]]*5.35 + 650\n",
    "    invest=invest*np.exp(-2*r)\n",
    "    return invest"
   ]
  },
  {
   "cell_type": "code",
   "execution_count": 15,
   "metadata": {},
   "outputs": [],
   "source": [
    "def VME(P,case,i):\n",
    "    VPL=P*case.iloc[2,i]*case.iloc[3,i] - (case.iloc[3,i]*5.35 + 650)*np.exp(-2*r)\n",
    "    vme=case.iloc[0,i]*VPL - case.iloc[1,i]\n",
    "    return vme"
   ]
  },
  {
   "cell_type": "code",
   "execution_count": 16,
   "metadata": {},
   "outputs": [
    {
     "name": "stdout",
     "output_type": "stream",
     "text": [
      "523.0841727818364\n",
      "425.1226754622021\n"
     ]
    }
   ],
   "source": [
    "print(VME(50,case_b1,0))\n",
    "print(VME(50,case_b1,1))"
   ]
  },
  {
   "cell_type": "code",
   "execution_count": 17,
   "metadata": {},
   "outputs": [
    {
     "name": "stdout",
     "output_type": "stream",
     "text": [
      "523.0841727818364\n",
      "-68.10941758344597\n",
      "425.1226754622021\n"
     ]
    }
   ],
   "source": [
    "print(VME(50,case,0))\n",
    "print(VME(50,case,1))\n",
    "print(VME(50,case,2))\n"
   ]
  },
  {
   "cell_type": "code",
   "execution_count": 18,
   "metadata": {},
   "outputs": [
    {
     "data": {
      "text/plain": [
       "880.0974306605925"
      ]
     },
     "execution_count": 18,
     "metadata": {},
     "output_type": "execute_result"
    }
   ],
   "source": [
    "VME(50,case,0)+VME(50,case,1) + VME(50,case,2)"
   ]
  },
  {
   "cell_type": "code",
   "execution_count": 19,
   "metadata": {},
   "outputs": [
    {
     "data": {
      "text/plain": [
       "454.9747551983904"
      ]
     },
     "execution_count": 19,
     "metadata": {},
     "output_type": "execute_result"
    }
   ],
   "source": [
    "VME(50,case,0)+VME(50,case,1)"
   ]
  },
  {
   "cell_type": "code",
   "execution_count": 20,
   "metadata": {},
   "outputs": [
    {
     "name": "stdout",
     "output_type": "stream",
     "text": [
      "[True, True, True, True]\n",
      "[True, True, True, True]\n",
      "[[30.         64.68626967 72.71514427]\n",
      " [        nan  7.99159871  9.95020999]\n",
      " [        nan         nan 58.53064256]\n",
      " [        nan         nan  2.42303146]]\n",
      "[True, True, True, True]\n",
      "[True, True, True, True]\n",
      "[[30.         50.55050463 93.04895105]\n",
      " [        nan  6.90692659 35.69208386]\n",
      " [        nan         nan 67.72236566]\n",
      " [        nan         nan  3.5599476 ]]\n",
      "[True, True, True, True]\n",
      "[True, True, True, True]\n",
      "[[25.         77.6235236  74.62763853]\n",
      " [        nan 14.12549213 16.26983941]\n",
      " [        nan         nan 35.74712621]\n",
      " [        nan         nan  1.2741104 ]]\n",
      "[True, True, True, True]\n",
      "[True, True, True, True]\n",
      "[[25.         61.56921938 94.08695317]\n",
      " [        nan  6.14359354 51.24777763]\n",
      " [        nan         nan 82.19061805]\n",
      " [        nan         nan  9.67012799]]\n",
      "[True, True, True, True]\n",
      "[True, True, True, True]\n",
      "[[20.         75.82575695 91.22689345]\n",
      " [        nan 18.54356076 32.21627957]\n",
      " [        nan         nan 52.8885573 ]\n",
      " [        nan         nan  2.70352744]]\n",
      "[True, True, True, True]\n",
      "[True, True, True, True]\n",
      "[[20.         76.96152423 89.88060358]\n",
      " [        nan 12.00961894 28.87462918]\n",
      " [        nan         nan 81.6630553 ]\n",
      " [        nan         nan  9.92851593]]\n",
      "melhor: (2, 0, 1) $melhor: 948.2068482440386 segundo: (0, 2, 1) $Segundo: 948.2068482440385 diff: 1.1368683772161603e-13 [892.2080506034492, 948.2068482440385, 910.8969007581193, 880.0974306605925, 948.2068482440386, 880.0974306605925]\n",
      "4\n"
     ]
    }
   ],
   "source": [
    "#################Formalizacao caso - correto\n",
    "fold=[]\n",
    "seq=[]\n",
    "P=50\n",
    "n=case.shape[1]\n",
    "perm=itertools.permutations(range(n))\n",
    "for k in list(perm):\n",
    "    seq.append(k)\n",
    "    #print(k)\n",
    "    m=np.zeros((2**(n-1),n))\n",
    "    p=np.zeros((2**(n-1),n))\n",
    "    pi=np.zeros((2**(n-1),n))\n",
    "    m[m==0]=np.nan\n",
    "    p[m==0]=np.nan\n",
    "    pi[pi==0]=np.nan\n",
    "    \n",
    "    \n",
    "    m[0,0]=case.iloc[0,k[0]] ### Capta da permutacao, o fc da Primeira na ordem de perfuracao\n",
    "    pi[0,0]=m[0,0]*(V(P,case,0) - I(case,0)) -case.iloc[1,k[0]]\n",
    "    \n",
    "    #Vetores Auxiliares\n",
    "    Ax_m=[]\n",
    "    Ax1_m=[]\n",
    "    Ax_pi=[]\n",
    "    Ax_lim=[]\n",
    "    ##Loop para criacao da matriz de FC e VME\n",
    "    for y in range(1,n,1):\n",
    "        Ax_m.append(case.iloc[0,k[y]])\n",
    "    \n",
    "    \n",
    "    for j in range(n-1):\n",
    "        p=0\n",
    "        for q in range(1+j,n,1):\n",
    "            for i in range(2**(j)):\n",
    "                p=p+1\n",
    "                #print(p-1,j,q,i,j)\n",
    "                CF_s=Ax_m[p-1] +case_corr.iloc[k[j],k[q]]*np.sqrt((m[i,j]-m[i,j]**2)*(Ax_m[p-1]-Ax_m[p-1]**2))/m[i,j]\n",
    "                Ax1_m.append(CF_s)\n",
    "                CF_ins=Ax_m[p-1] -case_corr.iloc[k[j],k[q]]*np.sqrt((m[i,j]-m[i,j]**2)*(Ax_m[p-1]-Ax_m[p-1]**2))/(1-m[i,j])\n",
    "                Ax1_m.append(CF_ins)\n",
    "                \n",
    "                Ax_pi.append(CF_s*(V(P,case,j+1) - I(case,j+1)) -case.iloc[1,k[j+1]])\n",
    "                Ax_pi.append(CF_ins*(V(P,case,j+1) - I(case,j+1)) -case.iloc[1,k[j+1]])\n",
    "                \n",
    "                a=np.minimum(Ax_m[p-1],m[i,j])*(1-np.maximum(Ax_m[p-1],m[i,j]))\n",
    "                b=np.maximum(Ax_m[p-1],m[i,j])*(1-np.minimum(Ax_m[p-1],m[i,j]))\n",
    "                Ax_lim.append(np.sqrt(a/b)>case_corr.iloc[k[j],k[q]])\n",
    "                \n",
    "                a=-np.sqrt(Ax_m[p-1]*m[i,j]/(1-Ax_m[p-1])*(1-m[i,j]))\n",
    "                b=-np.sqrt((1-Ax_m[p-1])*(1-m[i,j])/Ax_m[p-1]*m[i,j])\n",
    "                Ax_lim.append(np.maximum(a,b)<case_corr.iloc[k[j],k[q]])\n",
    "                \n",
    "\n",
    "        m[0:2*(i+1),j+1]=Ax1_m[0:2*(i+1)]\n",
    "        pi[0:2*(i+1),j+1]=Ax_pi[0:2*(i+1)]\n",
    "        \n",
    "        del Ax1_m[0:2*(i+1)]\n",
    "        \n",
    "        print(Ax_lim)\n",
    "        Ax_m=Ax1_m\n",
    "        Ax1_m=[]\n",
    "        Ax_pi=[]\n",
    "        Ax_lim=[]\n",
    "    \n",
    "    print(100*m)\n",
    "    #print(pi)\n",
    "    \n",
    "    for l in np.arange(n-2,-1,-1):\n",
    "        #print(l)\n",
    "        for g in range(2**(l)):\n",
    "            #print(pi[g,l],m[g,l], pi[2*g,l+1],(1-m[g,l]), pi[2*g+1,l+1]   )\n",
    "            pi[g,l]= np.maximum(0,pi[g,l] + m[g,l]*np.maximum(0,pi[2*g,l+1]) + (1-m[g,l])*np.maximum(0,pi[2*g+1,l+1]))\n",
    "    #print(pi)\n",
    "    fold.append(pi[0,0])\n",
    "    \n",
    "\n",
    "\n",
    "###Fornece o melhor portfolio seq_winner e o valor do porfolio winner\n",
    "\n",
    "winner=np.amax(fold)\n",
    "Seq_winner=seq[np.argmax(fold)]\n",
    "winner=np.maximum(0,winner)\n",
    "if winner==0:\n",
    "    Seq_winner='W'\n",
    "\n",
    "seq_sec=list(seq)\n",
    "num=np.argmax(fold)\n",
    "fold_sec=list(fold)\n",
    "fold_sec.remove(np.amax(fold))\n",
    "del seq_sec[num]\n",
    "    \n",
    "second=np.amax(fold_sec)\n",
    "Seq_sec=seq_sec[np.argmax(fold_sec)]\n",
    "second=np.maximum(0,second)\n",
    "if second==0:\n",
    "    Seq_sec='W'\n",
    "\n",
    "diff=winner-second\n",
    "\n",
    "    \n",
    "    \n",
    "            \n",
    "\n",
    "    #print(fold)\n",
    "    #print(m)\n",
    "print('melhor:',Seq_winner, '$melhor:', winner,'segundo:',Seq_sec,'$Segundo:',second,'diff:',diff, fold)\n",
    "#print(fold)\n",
    "    \n",
    "    \n",
    "    \n",
    "print(np.argmax(fold))    \n",
    "    \n",
    "    "
   ]
  },
  {
   "cell_type": "code",
   "execution_count": 21,
   "metadata": {},
   "outputs": [
    {
     "data": {
      "text/plain": [
       "([(0, 1, 2), (0, 2, 1), (1, 0, 2), (1, 2, 0), (2, 0, 1), (2, 1, 0)],\n",
       " [(0, 1, 2), (0, 2, 1), (1, 0, 2), (1, 2, 0), (2, 1, 0)])"
      ]
     },
     "execution_count": 21,
     "metadata": {},
     "output_type": "execute_result"
    }
   ],
   "source": [
    "seq,seq_sec"
   ]
  },
  {
   "cell_type": "code",
   "execution_count": 22,
   "metadata": {},
   "outputs": [
    {
     "data": {
      "text/plain": [
       "([892.2080506034492,\n",
       "  948.2068482440385,\n",
       "  910.8969007581193,\n",
       "  880.0974306605925,\n",
       "  948.2068482440386,\n",
       "  880.0974306605925],\n",
       " [892.2080506034492,\n",
       "  948.2068482440385,\n",
       "  910.8969007581193,\n",
       "  880.0974306605925,\n",
       "  880.0974306605925])"
      ]
     },
     "execution_count": 22,
     "metadata": {},
     "output_type": "execute_result"
    }
   ],
   "source": [
    "fold,fold_sec\n"
   ]
  },
  {
   "cell_type": "code",
   "execution_count": 23,
   "metadata": {},
   "outputs": [
    {
     "data": {
      "text/plain": [
       "4"
      ]
     },
     "execution_count": 23,
     "metadata": {},
     "output_type": "execute_result"
    }
   ],
   "source": [
    "num"
   ]
  },
  {
   "cell_type": "code",
   "execution_count": 24,
   "metadata": {},
   "outputs": [
    {
     "data": {
      "text/plain": [
       "4"
      ]
     },
     "execution_count": 24,
     "metadata": {},
     "output_type": "execute_result"
    }
   ],
   "source": [
    "np.argmax(fold)"
   ]
  },
  {
   "cell_type": "code",
   "execution_count": 25,
   "metadata": {},
   "outputs": [
    {
     "data": {
      "text/plain": [
       "[892.2080506034492,\n",
       " 948.2068482440385,\n",
       " 910.8969007581193,\n",
       " 880.0974306605925,\n",
       " 948.2068482440386,\n",
       " 880.0974306605925]"
      ]
     },
     "execution_count": 25,
     "metadata": {},
     "output_type": "execute_result"
    }
   ],
   "source": [
    "fold"
   ]
  },
  {
   "cell_type": "code",
   "execution_count": 26,
   "metadata": {},
   "outputs": [],
   "source": [
    "def carteira(case,case_corr,P):\n",
    "    #################Formalizacao caso 4 - correto\n",
    "    fold=[]\n",
    "    seq=[]\n",
    "    #P=50\n",
    "    n=case.shape[1]\n",
    "    perm=itertools.permutations(range(n))\n",
    "    for k in list(perm):\n",
    "        seq.append(k)\n",
    "        #print(k)\n",
    "        m=np.zeros((2**(n-1),n))\n",
    "        p=np.zeros((2**(n-1),n))\n",
    "        pi=np.zeros((2**(n-1),n))\n",
    "        m[m==0]=np.nan\n",
    "        p[m==0]=np.nan\n",
    "        pi[pi==0]=np.nan\n",
    "\n",
    "\n",
    "        m[0,0]=case.iloc[0,k[0]] ### Capta da permutacao, o fc da Primeira na ordem de perfuracao\n",
    "        pi[0,0]=m[0,0]*(P*case.iloc[2,k[0]]*case.iloc[3,k[0]] - (5.35*case.iloc[3,k[0]]+650)*np.exp(-2*r)) -case.iloc[1,k[0]]\n",
    "\n",
    "        #Vetores Auxiliares\n",
    "        Ax_m=[]\n",
    "        Ax1_m=[]\n",
    "        Ax_pi=[]\n",
    "        ##Loop para criacao da matriz de FC e VME\n",
    "        for y in range(1,n,1):\n",
    "            Ax_m.append(case.iloc[0,k[y]])\n",
    "\n",
    "\n",
    "        for j in range(n-1):\n",
    "            p=0\n",
    "            for q in range(1+j,n,1):\n",
    "                for i in range(2**(j)):\n",
    "                    p=p+1\n",
    "                    #print(p-1,j,q,i,j)\n",
    "                    CF_s=Ax_m[p-1] +case_corr.iloc[k[j],k[q]]*np.sqrt((m[i,j]-m[i,j]**2)*(Ax_m[p-1]-Ax_m[p-1]**2))/m[i,j]\n",
    "                    Ax1_m.append(CF_s)\n",
    "                    CF_ins=Ax_m[p-1] -case_corr.iloc[k[j],k[q]]*np.sqrt((m[i,j]-m[i,j]**2)*(Ax_m[p-1]-Ax_m[p-1]**2))/(1-m[i,j])\n",
    "                    Ax1_m.append(CF_ins)\n",
    "\n",
    "                    Ax_pi.append(CF_s*(P*case.iloc[2,k[j+1]]*case.iloc[3,k[j+1]] - (5.35*case.iloc[3,k[j+1]]+650)*np.exp(-2*r)) -case.iloc[1,k[j+1]])\n",
    "                    Ax_pi.append(CF_ins*(P*case.iloc[2,k[j+1]]*case.iloc[3,k[j+1]] - (5.35*case.iloc[3,k[j+1]]+650)*np.exp(-2*r)) -case.iloc[1,k[j+1]])\n",
    "\n",
    "\n",
    "            m[0:2*(i+1),j+1]=Ax1_m[0:2*(i+1)]\n",
    "            pi[0:2*(i+1),j+1]=Ax_pi[0:2*(i+1)]\n",
    "\n",
    "            del Ax1_m[0:2*(i+1)]\n",
    "\n",
    "            Ax_m=Ax1_m\n",
    "            Ax1_m=[]\n",
    "            Ax_pi=[]\n",
    "\n",
    "        #print(100*m)\n",
    "        #print(pi)\n",
    "\n",
    "        for l in np.arange(n-2,-1,-1):\n",
    "            #print(l)\n",
    "            for g in range(2**(l)):\n",
    "                #print(pi[g,l],m[g,l], pi[2*g,l+1],(1-m[g,l]), pi[2*g+1,l+1]   )\n",
    "                pi[g,l]= np.maximum(0,pi[g,l] + m[g,l]*np.maximum(0,pi[2*g,l+1]) + (1-m[g,l])*np.maximum(0,pi[2*g+1,l+1]))\n",
    "                #print(pi[g,l])\n",
    "        #print(pi)\n",
    "        fold.append(pi[0,0])\n",
    "\n",
    "\n",
    "    ###Fornece o melhor portfolio seq_winner e o valor do porfolio winner\n",
    "    winner=np.amax(fold)\n",
    "    Seq_winner=seq[np.argmax(fold)]\n",
    "    winner=np.maximum(0,winner)\n",
    "    if winner==0:\n",
    "        Seq_winner='W'\n",
    "    \n",
    "    \n",
    "    seq_sec=list(seq)\n",
    "    num=np.argmax(fold)\n",
    "    fold_sec=list(fold)\n",
    "    fold_sec.remove(np.amax(fold))\n",
    "    del seq_sec[num]\n",
    "    \n",
    "    second=np.amax(fold_sec)\n",
    "    Seq_sec=seq_sec[np.argmax(fold_sec)]\n",
    "    second=np.maximum(0,second)\n",
    "    if second==0:\n",
    "        Seq_sec='W'\n",
    "    diff=winner-second\n",
    "\n",
    "\n",
    "\n",
    "        #print(fold)\n",
    "        #print(m)\n",
    "    #print('melhor portfolio é:',Seq_winner, 'e o valor é:', winner, fold)\n",
    "    #print(fold)\n",
    "    return[Seq_winner,winner,Seq_sec, second, diff,fold]\n",
    "\n",
    "\n",
    "\n",
    "\n",
    "\n"
   ]
  },
  {
   "cell_type": "code",
   "execution_count": 27,
   "metadata": {},
   "outputs": [
    {
     "name": "stdout",
     "output_type": "stream",
     "text": [
      "[(2, 0, 1), 948.2068482440386, (0, 2, 1), 948.2068482440385, 1.1368683772161603e-13, [892.2080506034492, 948.2068482440385, 910.8969007581193, 880.0974306605925, 948.2068482440386, 880.0974306605925]]\n"
     ]
    }
   ],
   "source": [
    "cart=carteira(case,case_corr,50)\n",
    "print(cart)"
   ]
  },
  {
   "cell_type": "code",
   "execution_count": 28,
   "metadata": {},
   "outputs": [
    {
     "name": "stdout",
     "output_type": "stream",
     "text": [
      "[(1, 0), 948.2068482440386, (0, 1), 948.2068482440385, 1.1368683772161603e-13, [948.2068482440385, 948.2068482440386]]\n"
     ]
    }
   ],
   "source": [
    "cart=carteira(case_b1,case_corr_b1,50)\n",
    "print(cart)"
   ]
  },
  {
   "cell_type": "code",
   "execution_count": 29,
   "metadata": {},
   "outputs": [],
   "source": [
    "def VME_t(P,case,CF,i):\n",
    "    VPL=P*case.iloc[2,i]*case.iloc[3,i] - (case.iloc[3,i]*5.35 + 650)*np.exp(-2*r)\n",
    "    vme=CF*VPL - case.iloc[1,i]\n",
    "    return vme"
   ]
  },
  {
   "cell_type": "code",
   "execution_count": 30,
   "metadata": {},
   "outputs": [
    {
     "data": {
      "text/plain": [
       "425.1226754622021"
      ]
     },
     "execution_count": 30,
     "metadata": {},
     "output_type": "execute_result"
    }
   ],
   "source": [
    "VME_t(50,case_b1,0.2,1)"
   ]
  },
  {
   "cell_type": "code",
   "execution_count": null,
   "metadata": {},
   "outputs": [],
   "source": []
  },
  {
   "cell_type": "code",
   "execution_count": 31,
   "metadata": {},
   "outputs": [
    {
     "name": "stdout",
     "output_type": "stream",
     "text": [
      "0 W 0.0 0.0 W 0.0\n",
      "1 W 0.0 0.0 W 0.0\n",
      "2 W 0.0 0.0 W 0.0\n",
      "3 W 0.0 0.0 W 0.0\n",
      "4 W 0.0 0.0 W 0.0\n",
      "5 W 0.0 0.0 W 0.0\n",
      "6 W 0.0 0.0 W 0.0\n",
      "7 W 0.0 0.0 W 0.0\n",
      "8 W 0.0 0.0 W 0.0\n",
      "9 W 0.0 0.0 W 0.0\n",
      "10 W 0.0 0.0 W 0.0\n",
      "11 W 0.0 0.0 W 0.0\n",
      "12 W 0.0 0.0 W 0.0\n",
      "13 W 0.0 0.0 W 0.0\n",
      "14 W 0.0 0.0 W 0.0\n",
      "15 W 0.0 0.0 W 0.0\n",
      "16 W 0.0 0.0 W 0.0\n",
      "17 W 0.0 0.0 W 0.0\n",
      "18 W 0.0 0.0 W 0.0\n",
      "19 W 0.0 0.0 W 0.0\n",
      "20 W 0.0 0.0 W 0.0\n",
      "21 W 0.0 0.0 W 0.0\n",
      "22 W 0.0 0.0 W 0.0\n",
      "23 W 0.0 0.0 W 0.0\n",
      "24 W 0.0 0.0 W 0.0\n",
      "25 W 0.0 0.0 W 0.0\n",
      "26 W 0.0 0.0 W 0.0\n",
      "27 W 0.0 0.0 W 0.0\n",
      "28 W 0.0 0.0 W 0.0\n",
      "29 W 0.0 0.0 W 0.0\n",
      "30 W 0.0 0.0 W 0.0\n",
      "31 W 0.0 0.0 W 0.0\n",
      "32 W 0.0 0.0 W 0.0\n",
      "33 W 0.0 0.0 W 0.0\n",
      "34 W 0.0 0.0 W 0.0\n",
      "35 (0, 1, 2) 5.9207295217013325 5.9207295217013325 (0, 2, 1) 0.0\n",
      "36 (0, 2, 1) 62.92730908945186 40.39829240571029 (0, 1, 2) 22.529016683741567\n",
      "37 (0, 2, 1) 121.43944879555607 87.93604531562019 (2, 0, 1) 33.50340347993588\n",
      "38 (0, 2, 1) 179.95158850166047 154.11072246396014 (2, 0, 1) 25.840866037700323\n",
      "39 (0, 2, 1) 238.4637282077651 220.28539961230032 (2, 0, 1) 18.178328595464762\n",
      "40 (0, 2, 1) 296.9758679138692 286.4600767606399 (2, 0, 1) 10.515791153229316\n",
      "41 (0, 2, 1) 355.4880076199736 352.6347539089798 (2, 0, 1) 2.8532537109937834\n",
      "42 (0, 2, 1) 418.8094310573197 418.8094310573197 (2, 0, 1) 0.0\n",
      "43 (2, 0, 1) 484.98410820565977 484.9841082056597 (0, 2, 1) 5.684341886080802e-14\n",
      "44 (0, 2, 1) 551.1587853539997 551.1587853539997 (2, 0, 1) 0.0\n",
      "45 (0, 2, 1) 617.3334625023397 617.3334625023397 (2, 0, 1) 0.0\n",
      "46 (0, 2, 1) 683.5081396506794 683.5081396506794 (2, 0, 1) 0.0\n",
      "47 (2, 0, 1) 749.6828167990192 749.6828167990191 (0, 2, 1) 1.1368683772161603e-13\n",
      "48 (2, 0, 1) 815.8574939473593 815.8574939473592 (0, 2, 1) 1.1368683772161603e-13\n",
      "49 (0, 2, 1) 882.0321710956993 882.0321710956993 (2, 0, 1) 0.0\n",
      "50 (2, 0, 1) 948.2068482440386 948.2068482440385 (0, 2, 1) 1.1368683772161603e-13\n",
      "51 (2, 0, 1) 1014.381525392379 1014.3815253923789 (0, 2, 1) 1.1368683772161603e-13\n",
      "52 (0, 2, 1) 1081.5275421561932 1081.3303459051824 (2, 0, 1) 0.19719625101083693\n",
      "53 (0, 2, 1) 1156.161281476449 1155.4560447640126 (2, 0, 1) 0.7052367124363172\n",
      "54 (2, 0, 1) 1232.8833411217256 1231.7332842274202 (0, 2, 1) 1.1500568943054077\n",
      "55 (2, 0, 1) 1310.9466030948283 1309.6793489724184 (0, 2, 1) 1.267254122409895\n",
      "56 (2, 0, 1) 1389.1823247808422 1387.6254137174162 (0, 2, 1) 1.5569110634260142\n",
      "57 (2, 0, 1) 1467.4180464668566 1465.571478462414 (0, 2, 1) 1.846568004442588\n",
      "58 (2, 0, 1) 1545.653768152871 1543.5175432074122 (0, 2, 1) 2.1362249454587072\n",
      "59 (2, 0, 1) 1623.8894898388853 1621.4636079524103 (0, 2, 1) 2.4258818864750538\n",
      "60 (2, 0, 1) 1702.1252115248997 1699.409672697408 (0, 2, 1) 2.7155388274916277\n",
      "61 (2, 0, 1) 1780.360933210914 1777.355737442406 (0, 2, 1) 3.005195768507974\n",
      "62 (2, 0, 1) 1858.596654896928 1855.3018021874036 (0, 2, 1) 3.2948527095243207\n",
      "63 (2, 0, 1) 1936.8323765829425 1933.247866932402 (0, 2, 1) 3.58450965054044\n",
      "64 (2, 0, 1) 2015.0680982689564 2011.1939316774 (0, 2, 1) 3.8741665915563317\n",
      "65 (2, 0, 1) 2093.30381995497 2089.1399964223974 (0, 2, 1) 4.163823532572678\n",
      "66 (2, 0, 1) 2171.539541640985 2167.086061167396 (0, 2, 1) 4.453480473589025\n",
      "67 (2, 0, 1) 2249.775263326999 2245.032125912393 (0, 2, 1) 4.743137414605826\n",
      "68 (2, 0, 1) 2328.0109850130134 2322.978190657391 (0, 2, 1) 5.032794355622173\n",
      "69 (2, 0, 1) 2406.2467066990275 2400.924255402389 (0, 2, 1) 5.322451296638519\n",
      "70 (2, 0, 1) 2484.482428385042 2478.8703201473872 (0, 2, 1) 5.612108237654866\n",
      "71 (2, 0, 1) 2562.7181500710562 2556.8163848923846 (0, 2, 1) 5.901765178671667\n",
      "72 (2, 0, 1) 2640.9538717570704 2634.7624496373833 (0, 2, 1) 6.191422119687104\n",
      "73 (2, 0, 1) 2719.189593443084 2712.7085143823806 (0, 2, 1) 6.4810790607034505\n",
      "74 (2, 0, 1) 2797.425315129099 2790.654579127379 (0, 2, 1) 6.770736001720252\n",
      "75 (2, 0, 1) 2875.661036815113 2868.600643872377 (0, 2, 1) 7.060392942736144\n",
      "76 (2, 0, 1) 2953.8967585011274 2946.546708617375 (0, 2, 1) 7.35004988375249\n",
      "77 (2, 0, 1) 3032.1324801871424 3024.492773362373 (0, 2, 1) 7.639706824769291\n",
      "78 (2, 0, 1) 3110.3682018731565 3102.438838107371 (0, 2, 1) 7.929363765785638\n",
      "79 (2, 0, 1) 3188.60392355917 3180.384902852368 (0, 2, 1) 8.219020706801984\n",
      "80 (2, 0, 1) 3266.8396452451843 3258.330967597366 (0, 2, 1) 8.508677647818331\n",
      "81 (2, 0, 1) 3345.0753669311994 3336.2770323423647 (0, 2, 1) 8.798334588834678\n",
      "82 (2, 0, 1) 3423.311088617213 3414.223097087362 (0, 2, 1) 9.087991529851024\n",
      "83 (2, 0, 1) 3501.546810303227 3492.1691618323603 (0, 2, 1) 9.377648470866916\n",
      "84 (2, 0, 1) 3579.7825319892418 3571.2009680264155 (1, 2, 0) 8.581563962826294\n",
      "85 (2, 0, 1) 3658.0182536752563 3650.3510720665868 (0, 2, 1) 7.66718160866958\n",
      "86 (2, 0, 1) 3736.25397536127 3729.501176106758 (0, 1, 2) 6.752799254511956\n",
      "87 (2, 0, 1) 3814.4896970472855 3808.6512801469303 (0, 1, 2) 5.8384169003552415\n",
      "88 (2, 0, 1) 3892.725418733299 3887.8013841871007 (0, 1, 2) 4.924034546198527\n",
      "89 (2, 0, 1) 3970.961140419314 3966.9514882272724 (0, 1, 2) 4.009652192041358\n",
      "90 (2, 0, 1) 4049.1968621053275 4046.1015922674433 (2, 1, 0) 3.0952698378841887\n",
      "91 (2, 0, 1) 4127.432583791341 4125.251696307614 (0, 1, 2) 2.1808874837270196\n",
      "92 (2, 0, 1) 4205.668305477357 4204.401800347786 (0, 1, 2) 1.26650512957076\n",
      "93 (2, 0, 1) 4283.904027163369 4283.551904387956 (0, 1, 2) 0.3521227754135907\n",
      "94 (0, 1, 2) 4362.702008428128 4362.702008428128 (0, 2, 1) 0.0\n",
      "95 (0, 1, 2) 4441.852112468299 4441.852112468299 (0, 2, 1) 0.0\n",
      "96 (0, 1, 2) 4521.002216508471 4521.002216508471 (0, 2, 1) 0.0\n",
      "97 (0, 1, 2) 4600.152320548642 4600.152320548642 (2, 0, 1) 0.0\n",
      "98 (0, 1, 2) 4679.302424588813 4679.302424588813 (0, 2, 1) 0.0\n",
      "99 (0, 1, 2) 4758.452528628984 4758.452528628984 (0, 2, 1) 0.0\n",
      "100 (0, 1, 2) 4837.602632669154 4837.602632669154 (0, 2, 1) 0.0\n",
      "101 (0, 1, 2) 4916.752736709326 4916.752736709326 (0, 2, 1) 0.0\n",
      "102 (0, 1, 2) 4995.902840749498 4995.902840749498 (0, 2, 1) 0.0\n",
      "103 (2, 0, 1) 5075.05294478967 5075.05294478967 (2, 1, 0) 0.0\n",
      "104 (0, 1, 2) 5154.203048829841 5154.203048829841 (2, 0, 1) 0.0\n",
      "105 (0, 1, 2) 5233.353152870012 5233.353152870012 (0, 2, 1) 0.0\n",
      "106 (0, 1, 2) 5312.503256910183 5312.503256910183 (0, 2, 1) 0.0\n",
      "107 (2, 0, 1) 5391.653360950355 5391.653360950354 (0, 1, 2) 9.094947017729282e-13\n",
      "108 (0, 1, 2) 5470.803464990526 5470.803464990526 (2, 1, 0) 0.0\n",
      "109 (0, 2, 1) 5549.9535690306975 5549.9535690306975 (2, 0, 1) 0.0\n",
      "110 (2, 0, 1) 5629.103673070868 5629.103673070868 (2, 1, 0) 0.0\n",
      "111 (2, 0, 1) 5708.25377711104 5708.253777111039 (1, 0, 2) 9.094947017729282e-13\n",
      "112 (0, 1, 2) 5787.40388115121 5787.40388115121 (2, 0, 1) 0.0\n",
      "113 (2, 0, 1) 5866.553985191383 5866.553985191382 (0, 1, 2) 9.094947017729282e-13\n",
      "114 (2, 1, 0) 5945.704089231554 5945.704089231553 (0, 1, 2) 9.094947017729282e-13\n",
      "115 (0, 1, 2) 6024.854193271724 6024.854193271724 (0, 2, 1) 0.0\n",
      "116 (0, 1, 2) 6104.004297311896 6104.004297311896 (0, 2, 1) 0.0\n",
      "117 (0, 1, 2) 6183.154401352067 6183.154401352067 (0, 2, 1) 0.0\n",
      "118 (0, 1, 2) 6262.304505392238 6262.304505392238 (0, 2, 1) 0.0\n",
      "119 (0, 1, 2) 6341.454609432409 6341.454609432409 (0, 2, 1) 0.0\n",
      "120 (0, 1, 2) 6420.604713472581 6420.604713472581 (0, 2, 1) 0.0\n",
      "121 (1, 2, 0) 6499.754817512752 6499.754817512752 (2, 0, 1) 0.0\n",
      "122 (0, 1, 2) 6578.904921552924 6578.904921552924 (2, 0, 1) 0.0\n",
      "123 (2, 0, 1) 6658.055025593094 6658.055025593094 (2, 1, 0) 0.0\n",
      "124 (0, 2, 1) 6737.205129633266 6737.205129633265 (0, 1, 2) 9.094947017729282e-13\n",
      "125 (0, 1, 2) 6816.3552336734365 6816.3552336734365 (0, 2, 1) 0.0\n",
      "126 (0, 1, 2) 6895.505337713608 6895.505337713608 (0, 2, 1) 0.0\n",
      "127 (2, 0, 1) 6974.65544175378 6974.655441753779 (0, 1, 2) 9.094947017729282e-13\n",
      "128 (0, 1, 2) 7053.805545793951 7053.805545793951 (0, 2, 1) 0.0\n",
      "129 (0, 1, 2) 7132.955649834122 7132.955649834122 (0, 2, 1) 0.0\n",
      "130 (0, 2, 1) 7212.1057538742925 7212.1057538742925 (1, 2, 0) 0.0\n",
      "131 (0, 1, 2) 7291.255857914464 7291.255857914464 (0, 2, 1) 0.0\n",
      "132 (0, 1, 2) 7370.405961954637 7370.405961954637 (0, 2, 1) 0.0\n",
      "133 (2, 0, 1) 7449.556065994808 7449.556065994807 (0, 1, 2) 9.094947017729282e-13\n",
      "134 (2, 0, 1) 7528.706170034978 7528.706170034978 (2, 1, 0) 0.0\n",
      "135 (0, 1, 2) 7607.8562740751495 7607.856274075149 (0, 2, 1) 9.094947017729282e-13\n",
      "136 (0, 1, 2) 7687.00637811532 7687.00637811532 (0, 2, 1) 0.0\n",
      "137 (0, 1, 2) 7766.156482155491 7766.156482155491 (0, 2, 1) 0.0\n",
      "138 (2, 0, 1) 7845.306586195663 7845.306586195662 (0, 1, 2) 9.094947017729282e-13\n",
      "139 (0, 1, 2) 7924.456690235834 7924.456690235834 (0, 2, 1) 0.0\n"
     ]
    },
    {
     "name": "stdout",
     "output_type": "stream",
     "text": [
      "140 (0, 1, 2) 8003.6067942760055 8003.6067942760055 (0, 2, 1) 0.0\n",
      "141 (0, 1, 2) 8082.756898316178 8082.756898316178 (1, 0, 2) 0.0\n",
      "142 (0, 1, 2) 8161.907002356348 8161.907002356347 (0, 2, 1) 9.094947017729282e-13\n",
      "143 (0, 1, 2) 8241.05710639652 8241.05710639652 (1, 0, 2) 0.0\n",
      "144 (2, 0, 1) 8320.207210436693 8320.20721043669 (0, 1, 2) 1.8189894035458565e-12\n",
      "145 (0, 1, 2) 8399.357314476862 8399.357314476862 (0, 2, 1) 0.0\n",
      "146 (0, 1, 2) 8478.507418517032 8478.507418517032 (0, 2, 1) 0.0\n",
      "147 (0, 1, 2) 8557.657522557205 8557.657522557205 (2, 0, 1) 0.0\n",
      "148 (0, 1, 2) 8636.807626597376 8636.807626597376 (0, 2, 1) 0.0\n",
      "149 (0, 1, 2) 8715.957730637547 8715.957730637547 (0, 2, 1) 0.0\n",
      "150 (0, 1, 2) 8795.107834677718 8795.107834677718 (0, 2, 1) 0.0\n",
      "151 (2, 0, 1) 8874.25793871789 8874.25793871789 (2, 1, 0) 0.0\n",
      "152 (2, 1, 0) 8953.408042758061 8953.40804275806 (0, 1, 2) 1.8189894035458565e-12\n",
      "153 (0, 1, 2) 9032.558146798232 9032.558146798232 (2, 0, 1) 0.0\n",
      "154 (2, 0, 1) 9111.708250838405 9111.708250838403 (0, 1, 2) 1.8189894035458565e-12\n",
      "155 (0, 1, 2) 9190.858354878574 9190.858354878574 (0, 2, 1) 0.0\n",
      "156 (2, 1, 0) 9270.008458918748 9270.008458918746 (0, 1, 2) 1.8189894035458565e-12\n",
      "157 (0, 1, 2) 9349.158562958917 9349.158562958917 (0, 2, 1) 0.0\n",
      "158 (1, 0, 2) 9428.308666999088 9428.308666999088 (1, 2, 0) 0.0\n",
      "159 (0, 1, 2) 9507.458771039259 9507.458771039259 (0, 2, 1) 0.0\n",
      "160 (0, 1, 2) 9586.60887507943 9586.60887507943 (0, 2, 1) 0.0\n",
      "161 (0, 1, 2) 9665.7589791196 9665.7589791196 (0, 2, 1) 0.0\n",
      "162 (0, 1, 2) 9744.909083159773 9744.909083159773 (0, 2, 1) 0.0\n",
      "163 (0, 1, 2) 9824.059187199944 9824.059187199944 (0, 2, 1) 0.0\n",
      "164 (0, 1, 2) 9903.209291240115 9903.209291240115 (0, 2, 1) 0.0\n",
      "165 (0, 1, 2) 9982.359395280288 9982.359395280288 (0, 2, 1) 0.0\n",
      "166 (0, 1, 2) 10061.509499320458 10061.509499320458 (0, 2, 1) 0.0\n",
      "167 (0, 1, 2) 10140.65960336063 10140.65960336063 (0, 2, 1) 0.0\n",
      "168 (0, 1, 2) 10219.8097074008 10219.8097074008 (0, 2, 1) 0.0\n",
      "169 (0, 1, 2) 10298.959811440971 10298.959811440971 (0, 2, 1) 0.0\n",
      "170 (2, 0, 1) 10378.109915481144 10378.109915481144 (2, 1, 0) 0.0\n",
      "171 (0, 2, 1) 10457.260019521316 10457.260019521316 (2, 1, 0) 0.0\n",
      "172 (0, 1, 2) 10536.410123561487 10536.410123561487 (0, 2, 1) 0.0\n",
      "173 (0, 1, 2) 10615.560227601656 10615.560227601656 (0, 2, 1) 0.0\n",
      "174 (0, 1, 2) 10694.710331641829 10694.710331641829 (0, 2, 1) 0.0\n",
      "175 (2, 0, 1) 10773.860435682 10773.860435682 (2, 1, 0) 0.0\n",
      "176 (1, 0, 2) 10853.01053972217 10853.01053972217 (2, 0, 1) 0.0\n",
      "177 (0, 1, 2) 10932.160643762341 10932.160643762341 (1, 0, 2) 0.0\n",
      "178 (0, 1, 2) 11011.310747802512 11011.310747802512 (0, 2, 1) 0.0\n",
      "179 (2, 0, 1) 11090.460851842685 11090.460851842683 (0, 1, 2) 1.8189894035458565e-12\n",
      "180 (0, 2, 1) 11169.610955882856 11169.610955882856 (1, 0, 2) 0.0\n",
      "181 (0, 1, 2) 11248.761059923027 11248.761059923027 (0, 2, 1) 0.0\n",
      "182 (0, 1, 2) 11327.911163963196 11327.911163963196 (0, 2, 1) 0.0\n",
      "183 (0, 1, 2) 11407.061268003368 11407.061268003368 (0, 2, 1) 0.0\n",
      "184 (0, 1, 2) 11486.21137204354 11486.21137204354 (0, 2, 1) 0.0\n",
      "185 (0, 1, 2) 11565.36147608371 11565.36147608371 (0, 2, 1) 0.0\n",
      "186 (0, 1, 2) 11644.511580123883 11644.511580123883 (0, 2, 1) 0.0\n",
      "187 (0, 1, 2) 11723.661684164053 11723.661684164053 (2, 0, 1) 0.0\n",
      "188 (0, 1, 2) 11802.811788204224 11802.811788204224 (0, 2, 1) 0.0\n",
      "189 (0, 1, 2) 11881.961892244397 11881.961892244397 (0, 2, 1) 0.0\n",
      "190 (0, 1, 2) 11961.111996284568 11961.111996284568 (0, 2, 1) 0.0\n",
      "191 (2, 0, 1) 12040.26210032474 12040.26210032474 (2, 1, 0) 0.0\n",
      "192 (0, 1, 2) 12119.412204364911 12119.412204364911 (0, 2, 1) 0.0\n",
      "193 (0, 1, 2) 12198.56230840508 12198.56230840508 (0, 2, 1) 0.0\n",
      "194 (0, 1, 2) 12277.712412445253 12277.712412445253 (0, 2, 1) 0.0\n",
      "195 (0, 1, 2) 12356.862516485426 12356.862516485426 (0, 2, 1) 0.0\n",
      "196 (0, 1, 2) 12436.012620525597 12436.012620525597 (2, 0, 1) 0.0\n",
      "197 (0, 1, 2) 12515.162724565766 12515.162724565766 (0, 2, 1) 0.0\n",
      "198 (1, 0, 2) 12594.312828605936 12594.312828605936 (2, 0, 1) 0.0\n",
      "199 (0, 2, 1) 12673.46293264611 12673.462932646109 (0, 1, 2) 1.8189894035458565e-12\n"
     ]
    }
   ],
   "source": [
    "for i in range(200):\n",
    "    print(i, carteira(case,case_corr,i)[0],carteira(case,case_corr,i)[1],carteira(case,case_corr,i)[3],carteira(case,case_corr,i)[2], carteira(case,case_corr,i)[4] )"
   ]
  },
  {
   "cell_type": "code",
   "execution_count": 32,
   "metadata": {},
   "outputs": [],
   "source": [
    "def diffinexpcart(case,case_corr,P,r,div,sigma,tau,accur):\n",
    "    #############################################################\n",
    "    #######Método por diferenças finitas explícitas##############\n",
    "    #accur=0.05  #Porcentagem de acurácia\n",
    "    \n",
    "    #####Solução por diferenças finita explícitas###\n",
    "    #Precisão em e intervalo da célula em V\n",
    "    deltaP=P*accur\n",
    "    \n",
    "    # M são as divisões do grid em V\n",
    "    #Perpetuidade vcritico não esta na programacao\n",
    "    #M= int(1.1*vcritico(I,r,div,sigma,tau)[2]/deltaV) # Max é 10% acima do gatilho em perpetuidade. Vcrit- com gati precisa de tau\n",
    "    Pmax=2*P\n",
    "    M=int(Pmax/deltaP)\n",
    "    PGrid=int(P/deltaP) #Ponto do grid onde esta P_0. \n",
    "    \n",
    "    #deltat= (deltaP**2)/((sigma**2)*((3*I)**2)) #Convergência: Critério do peso central >=0. Pmax=3I ><1.1Gatilho_perp\n",
    "    deltat= (deltaP**2)/((sigma**2)*(Pmax**2))\n",
    "    N= int(tau/deltat) +1\n",
    "    \n",
    "    df=1/(1+(r*deltat)) # fator de desconto\n",
    "    \n",
    "    \n",
    "    #Vetor Pt\n",
    "    Pt=np.zeros(M+1)\n",
    "    Gatilho=np.zeros((N+1,M+1), dtype=object)\n",
    "    F=np.zeros((N+1,M+1))\n",
    "    deltat=tau/N\n",
    "    for i in range(M+1):\n",
    "        Pt[i]= i*deltaP\n",
    "        solution=carteira(case,case_corr,Pt[i])\n",
    "        F[N,i]=solution[1]\n",
    "        #print(solution[0])\n",
    "        Gatilho[N,i]=solution[0]\n",
    "        #F[N,i]=np.maximum(0,Pt[i]-I)\n",
    "    #Gatilho[N]=I\n",
    "    \n",
    "    ##############Loop################\n",
    "    for j in range(N-1,-1,-1): #de N-1 até zero(-1) pulando em -1\n",
    "        for i in range(1,M,1): # de 1 até M-1 pulando em 1\n",
    "            pu= 0.5*((sigma**2)*(i**2) + ((r - div)*i))*deltat\n",
    "            pm = 1 - (sigma**2)*(i**2)*deltat\n",
    "            pdown = 0.5*((sigma**2)*(i**2) - ((r - div)*i))*deltat\n",
    "            F[j,i]= df*(pu*F[j+1,i+1] + pm*F[j+1,i] + pdown*F[j+1,i - 1])\n",
    "            \n",
    "            ###Vetor Gatilho####\n",
    "            #if F[j,i]< Vt[i]-I and F[j,i-1]>Pt[i-1]-I:\n",
    "            #    Gatilho[j]=(Pt[i]+Vt[i-1])/2\n",
    "            \n",
    "            solution=carteira(case,case_corr,Pt[i])\n",
    "            if F[j,i]>=solution[1]: #opcao americana e gatilho\n",
    "                Gatilho[j,i]='W'\n",
    "            else:\n",
    "                Gatilho[j,i]=solution[0]\n",
    "                F[j,i]=solution[1]\n",
    "        \n",
    "        \n",
    "        F[j,0]=0\n",
    "        Gatilho[j,0]='W'\n",
    "        solution=carteira(case,case_corr,Pt[i])\n",
    "        F[j,M]=solution[1]\n",
    "        Gatilho[j,M]=solution[0]\n",
    "        \n",
    "    T=np.linspace(0,tau,num=N+1)\n",
    "    \n",
    "    ###############Dataframe do Gatilho##############\n",
    "    #print(Gatilho.shape[0])\n",
    "    dframe=pd.DataFrame(list(range(Gatilho.shape[0])))\n",
    "    dframe.columns=['Time']\n",
    "    dframe= dframe.set_index('Time')\n",
    "\n",
    "    for i in range(Gatilho.shape[0]):\n",
    "        check=Gatilho[i,0]\n",
    "        for j in range(Gatilho.shape[1]):\n",
    "            if check == Gatilho[i,j]:\n",
    "                check=check\n",
    "            else:\n",
    "                #print(i,j,'{}'.format(check),Gatilho[i,j],j)\n",
    "                dframe.loc[i,'{}'.format(Gatilho[i,j-1])]=Pt[j]\n",
    "                check=Gatilho[i,j]\n",
    "    dframe.index=T\n",
    "    \n",
    "    ###Retorna A opção hoje, Gatilho, Tempo, Vt, Matrix para Gráficos\n",
    "    return[F[0,PGrid+1],dframe,T,Pt,F,Gatilho]\n",
    "\n"
   ]
  },
  {
   "cell_type": "code",
   "execution_count": 72,
   "metadata": {},
   "outputs": [
    {
     "ename": "KeyboardInterrupt",
     "evalue": "",
     "output_type": "error",
     "traceback": [
      "\u001b[1;31m---------------------------------------------------------------------------\u001b[0m",
      "\u001b[1;31mKeyboardInterrupt\u001b[0m                         Traceback (most recent call last)",
      "\u001b[1;32m<ipython-input-72-07a0c31a1921>\u001b[0m in \u001b[0;36m<module>\u001b[1;34m\u001b[0m\n\u001b[0;32m      1\u001b[0m \u001b[0maccur\u001b[0m\u001b[1;33m=\u001b[0m\u001b[1;36m0.05\u001b[0m\u001b[1;33m\u001b[0m\u001b[1;33m\u001b[0m\u001b[0m\n\u001b[0;32m      2\u001b[0m \u001b[0mstart\u001b[0m\u001b[1;33m=\u001b[0m\u001b[0mtime\u001b[0m\u001b[1;33m.\u001b[0m\u001b[0mtime\u001b[0m\u001b[1;33m(\u001b[0m\u001b[1;33m)\u001b[0m\u001b[1;33m\u001b[0m\u001b[1;33m\u001b[0m\u001b[0m\n\u001b[1;32m----> 3\u001b[1;33m \u001b[0msolucao\u001b[0m\u001b[1;33m=\u001b[0m\u001b[0mdiffinexpcart\u001b[0m\u001b[1;33m(\u001b[0m\u001b[0mcase\u001b[0m\u001b[1;33m,\u001b[0m\u001b[0mcase_corr\u001b[0m\u001b[1;33m,\u001b[0m\u001b[1;36m50\u001b[0m\u001b[1;33m,\u001b[0m\u001b[0mr\u001b[0m\u001b[1;33m,\u001b[0m\u001b[0mdelta\u001b[0m\u001b[1;33m,\u001b[0m\u001b[0msigma\u001b[0m\u001b[1;33m,\u001b[0m\u001b[0mtau\u001b[0m\u001b[1;33m,\u001b[0m\u001b[0maccur\u001b[0m\u001b[1;33m)\u001b[0m\u001b[1;33m\u001b[0m\u001b[1;33m\u001b[0m\u001b[0m\n\u001b[0m\u001b[0;32m      4\u001b[0m \u001b[0mcpu\u001b[0m\u001b[1;33m=\u001b[0m\u001b[0mtime\u001b[0m\u001b[1;33m.\u001b[0m\u001b[0mtime\u001b[0m\u001b[1;33m(\u001b[0m\u001b[1;33m)\u001b[0m\u001b[1;33m-\u001b[0m\u001b[0mstart\u001b[0m\u001b[1;33m\u001b[0m\u001b[1;33m\u001b[0m\u001b[0m\n\u001b[0;32m      5\u001b[0m \u001b[0mprint\u001b[0m\u001b[1;33m(\u001b[0m\u001b[1;34m'minutos-'\u001b[0m\u001b[1;33m,\u001b[0m\u001b[0mcpu\u001b[0m\u001b[1;33m/\u001b[0m\u001b[1;36m60\u001b[0m\u001b[1;33m)\u001b[0m\u001b[1;33m\u001b[0m\u001b[1;33m\u001b[0m\u001b[0m\n",
      "\u001b[1;32m<ipython-input-71-42d187fe489f>\u001b[0m in \u001b[0;36mdiffinexpcart\u001b[1;34m(case, case_corr, P, r, div, sigma, tau, accur)\u001b[0m\n\u001b[0;32m     48\u001b[0m             \u001b[1;31m#    Gatilho[j]=(Pt[i]+Vt[i-1])/2\u001b[0m\u001b[1;33m\u001b[0m\u001b[1;33m\u001b[0m\u001b[1;33m\u001b[0m\u001b[0m\n\u001b[0;32m     49\u001b[0m \u001b[1;33m\u001b[0m\u001b[0m\n\u001b[1;32m---> 50\u001b[1;33m             \u001b[0msolution\u001b[0m\u001b[1;33m=\u001b[0m\u001b[0mcarteira\u001b[0m\u001b[1;33m(\u001b[0m\u001b[0mcase\u001b[0m\u001b[1;33m,\u001b[0m\u001b[0mcase_corr\u001b[0m\u001b[1;33m,\u001b[0m\u001b[0mPt\u001b[0m\u001b[1;33m[\u001b[0m\u001b[0mi\u001b[0m\u001b[1;33m]\u001b[0m\u001b[1;33m)\u001b[0m\u001b[1;33m\u001b[0m\u001b[1;33m\u001b[0m\u001b[0m\n\u001b[0m\u001b[0;32m     51\u001b[0m             \u001b[1;32mif\u001b[0m \u001b[0mF\u001b[0m\u001b[1;33m[\u001b[0m\u001b[0mj\u001b[0m\u001b[1;33m,\u001b[0m\u001b[0mi\u001b[0m\u001b[1;33m]\u001b[0m\u001b[1;33m>=\u001b[0m\u001b[0msolution\u001b[0m\u001b[1;33m[\u001b[0m\u001b[1;36m1\u001b[0m\u001b[1;33m]\u001b[0m\u001b[1;33m:\u001b[0m \u001b[1;31m#opcao americana e gatilho\u001b[0m\u001b[1;33m\u001b[0m\u001b[1;33m\u001b[0m\u001b[0m\n\u001b[0;32m     52\u001b[0m                 \u001b[0mGatilho\u001b[0m\u001b[1;33m[\u001b[0m\u001b[0mj\u001b[0m\u001b[1;33m,\u001b[0m\u001b[0mi\u001b[0m\u001b[1;33m]\u001b[0m\u001b[1;33m=\u001b[0m\u001b[1;34m'W'\u001b[0m\u001b[1;33m\u001b[0m\u001b[1;33m\u001b[0m\u001b[0m\n",
      "\u001b[1;32m<ipython-input-67-9f4482dcd5ff>\u001b[0m in \u001b[0;36mcarteira\u001b[1;34m(case, case_corr, P)\u001b[0m\n\u001b[0;32m     37\u001b[0m                     \u001b[0mCF_s\u001b[0m\u001b[1;33m=\u001b[0m\u001b[0mAx_m\u001b[0m\u001b[1;33m[\u001b[0m\u001b[0mp\u001b[0m\u001b[1;33m-\u001b[0m\u001b[1;36m1\u001b[0m\u001b[1;33m]\u001b[0m \u001b[1;33m+\u001b[0m\u001b[0mcase_corr\u001b[0m\u001b[1;33m.\u001b[0m\u001b[0miloc\u001b[0m\u001b[1;33m[\u001b[0m\u001b[0mk\u001b[0m\u001b[1;33m[\u001b[0m\u001b[0mj\u001b[0m\u001b[1;33m]\u001b[0m\u001b[1;33m,\u001b[0m\u001b[0mk\u001b[0m\u001b[1;33m[\u001b[0m\u001b[0mq\u001b[0m\u001b[1;33m]\u001b[0m\u001b[1;33m]\u001b[0m\u001b[1;33m*\u001b[0m\u001b[0mnp\u001b[0m\u001b[1;33m.\u001b[0m\u001b[0msqrt\u001b[0m\u001b[1;33m(\u001b[0m\u001b[1;33m(\u001b[0m\u001b[0mm\u001b[0m\u001b[1;33m[\u001b[0m\u001b[0mi\u001b[0m\u001b[1;33m,\u001b[0m\u001b[0mj\u001b[0m\u001b[1;33m]\u001b[0m\u001b[1;33m-\u001b[0m\u001b[0mm\u001b[0m\u001b[1;33m[\u001b[0m\u001b[0mi\u001b[0m\u001b[1;33m,\u001b[0m\u001b[0mj\u001b[0m\u001b[1;33m]\u001b[0m\u001b[1;33m**\u001b[0m\u001b[1;36m2\u001b[0m\u001b[1;33m)\u001b[0m\u001b[1;33m*\u001b[0m\u001b[1;33m(\u001b[0m\u001b[0mAx_m\u001b[0m\u001b[1;33m[\u001b[0m\u001b[0mp\u001b[0m\u001b[1;33m-\u001b[0m\u001b[1;36m1\u001b[0m\u001b[1;33m]\u001b[0m\u001b[1;33m-\u001b[0m\u001b[0mAx_m\u001b[0m\u001b[1;33m[\u001b[0m\u001b[0mp\u001b[0m\u001b[1;33m-\u001b[0m\u001b[1;36m1\u001b[0m\u001b[1;33m]\u001b[0m\u001b[1;33m**\u001b[0m\u001b[1;36m2\u001b[0m\u001b[1;33m)\u001b[0m\u001b[1;33m)\u001b[0m\u001b[1;33m/\u001b[0m\u001b[0mm\u001b[0m\u001b[1;33m[\u001b[0m\u001b[0mi\u001b[0m\u001b[1;33m,\u001b[0m\u001b[0mj\u001b[0m\u001b[1;33m]\u001b[0m\u001b[1;33m\u001b[0m\u001b[1;33m\u001b[0m\u001b[0m\n\u001b[0;32m     38\u001b[0m                     \u001b[0mAx1_m\u001b[0m\u001b[1;33m.\u001b[0m\u001b[0mappend\u001b[0m\u001b[1;33m(\u001b[0m\u001b[0mCF_s\u001b[0m\u001b[1;33m)\u001b[0m\u001b[1;33m\u001b[0m\u001b[1;33m\u001b[0m\u001b[0m\n\u001b[1;32m---> 39\u001b[1;33m                     \u001b[0mCF_ins\u001b[0m\u001b[1;33m=\u001b[0m\u001b[0mAx_m\u001b[0m\u001b[1;33m[\u001b[0m\u001b[0mp\u001b[0m\u001b[1;33m-\u001b[0m\u001b[1;36m1\u001b[0m\u001b[1;33m]\u001b[0m \u001b[1;33m-\u001b[0m\u001b[0mcase_corr\u001b[0m\u001b[1;33m.\u001b[0m\u001b[0miloc\u001b[0m\u001b[1;33m[\u001b[0m\u001b[0mk\u001b[0m\u001b[1;33m[\u001b[0m\u001b[0mj\u001b[0m\u001b[1;33m]\u001b[0m\u001b[1;33m,\u001b[0m\u001b[0mk\u001b[0m\u001b[1;33m[\u001b[0m\u001b[0mq\u001b[0m\u001b[1;33m]\u001b[0m\u001b[1;33m]\u001b[0m\u001b[1;33m*\u001b[0m\u001b[0mnp\u001b[0m\u001b[1;33m.\u001b[0m\u001b[0msqrt\u001b[0m\u001b[1;33m(\u001b[0m\u001b[1;33m(\u001b[0m\u001b[0mm\u001b[0m\u001b[1;33m[\u001b[0m\u001b[0mi\u001b[0m\u001b[1;33m,\u001b[0m\u001b[0mj\u001b[0m\u001b[1;33m]\u001b[0m\u001b[1;33m-\u001b[0m\u001b[0mm\u001b[0m\u001b[1;33m[\u001b[0m\u001b[0mi\u001b[0m\u001b[1;33m,\u001b[0m\u001b[0mj\u001b[0m\u001b[1;33m]\u001b[0m\u001b[1;33m**\u001b[0m\u001b[1;36m2\u001b[0m\u001b[1;33m)\u001b[0m\u001b[1;33m*\u001b[0m\u001b[1;33m(\u001b[0m\u001b[0mAx_m\u001b[0m\u001b[1;33m[\u001b[0m\u001b[0mp\u001b[0m\u001b[1;33m-\u001b[0m\u001b[1;36m1\u001b[0m\u001b[1;33m]\u001b[0m\u001b[1;33m-\u001b[0m\u001b[0mAx_m\u001b[0m\u001b[1;33m[\u001b[0m\u001b[0mp\u001b[0m\u001b[1;33m-\u001b[0m\u001b[1;36m1\u001b[0m\u001b[1;33m]\u001b[0m\u001b[1;33m**\u001b[0m\u001b[1;36m2\u001b[0m\u001b[1;33m)\u001b[0m\u001b[1;33m)\u001b[0m\u001b[1;33m/\u001b[0m\u001b[1;33m(\u001b[0m\u001b[1;36m1\u001b[0m\u001b[1;33m-\u001b[0m\u001b[0mm\u001b[0m\u001b[1;33m[\u001b[0m\u001b[0mi\u001b[0m\u001b[1;33m,\u001b[0m\u001b[0mj\u001b[0m\u001b[1;33m]\u001b[0m\u001b[1;33m)\u001b[0m\u001b[1;33m\u001b[0m\u001b[1;33m\u001b[0m\u001b[0m\n\u001b[0m\u001b[0;32m     40\u001b[0m                     \u001b[0mAx1_m\u001b[0m\u001b[1;33m.\u001b[0m\u001b[0mappend\u001b[0m\u001b[1;33m(\u001b[0m\u001b[0mCF_ins\u001b[0m\u001b[1;33m)\u001b[0m\u001b[1;33m\u001b[0m\u001b[1;33m\u001b[0m\u001b[0m\n\u001b[0;32m     41\u001b[0m \u001b[1;33m\u001b[0m\u001b[0m\n",
      "\u001b[1;32m~\\Anaconda3\\lib\\site-packages\\pandas\\core\\indexing.py\u001b[0m in \u001b[0;36m__getitem__\u001b[1;34m(self, key)\u001b[0m\n\u001b[0;32m   1411\u001b[0m         \u001b[1;32mif\u001b[0m \u001b[0mtype\u001b[0m\u001b[1;33m(\u001b[0m\u001b[0mkey\u001b[0m\u001b[1;33m)\u001b[0m \u001b[1;32mis\u001b[0m \u001b[0mtuple\u001b[0m\u001b[1;33m:\u001b[0m\u001b[1;33m\u001b[0m\u001b[1;33m\u001b[0m\u001b[0m\n\u001b[0;32m   1412\u001b[0m             \u001b[0mkey\u001b[0m \u001b[1;33m=\u001b[0m \u001b[0mtuple\u001b[0m\u001b[1;33m(\u001b[0m\u001b[0mcom\u001b[0m\u001b[1;33m.\u001b[0m\u001b[0mapply_if_callable\u001b[0m\u001b[1;33m(\u001b[0m\u001b[0mx\u001b[0m\u001b[1;33m,\u001b[0m \u001b[0mself\u001b[0m\u001b[1;33m.\u001b[0m\u001b[0mobj\u001b[0m\u001b[1;33m)\u001b[0m \u001b[1;32mfor\u001b[0m \u001b[0mx\u001b[0m \u001b[1;32min\u001b[0m \u001b[0mkey\u001b[0m\u001b[1;33m)\u001b[0m\u001b[1;33m\u001b[0m\u001b[1;33m\u001b[0m\u001b[0m\n\u001b[1;32m-> 1413\u001b[1;33m             \u001b[1;32mif\u001b[0m \u001b[0mself\u001b[0m\u001b[1;33m.\u001b[0m\u001b[0m_is_scalar_access\u001b[0m\u001b[1;33m(\u001b[0m\u001b[0mkey\u001b[0m\u001b[1;33m)\u001b[0m\u001b[1;33m:\u001b[0m\u001b[1;33m\u001b[0m\u001b[1;33m\u001b[0m\u001b[0m\n\u001b[0m\u001b[0;32m   1414\u001b[0m                 \u001b[1;32mtry\u001b[0m\u001b[1;33m:\u001b[0m\u001b[1;33m\u001b[0m\u001b[1;33m\u001b[0m\u001b[0m\n\u001b[0;32m   1415\u001b[0m                     \u001b[1;32mreturn\u001b[0m \u001b[0mself\u001b[0m\u001b[1;33m.\u001b[0m\u001b[0m_getitem_scalar\u001b[0m\u001b[1;33m(\u001b[0m\u001b[0mkey\u001b[0m\u001b[1;33m)\u001b[0m\u001b[1;33m\u001b[0m\u001b[1;33m\u001b[0m\u001b[0m\n",
      "\u001b[1;32m~\\Anaconda3\\lib\\site-packages\\pandas\\core\\indexing.py\u001b[0m in \u001b[0;36m_is_scalar_access\u001b[1;34m(self, key)\u001b[0m\n\u001b[0;32m   2051\u001b[0m                 \u001b[1;32mreturn\u001b[0m \u001b[1;32mFalse\u001b[0m\u001b[1;33m\u001b[0m\u001b[1;33m\u001b[0m\u001b[0m\n\u001b[0;32m   2052\u001b[0m \u001b[1;33m\u001b[0m\u001b[0m\n\u001b[1;32m-> 2053\u001b[1;33m             \u001b[0max\u001b[0m \u001b[1;33m=\u001b[0m \u001b[0mself\u001b[0m\u001b[1;33m.\u001b[0m\u001b[0mobj\u001b[0m\u001b[1;33m.\u001b[0m\u001b[0maxes\u001b[0m\u001b[1;33m[\u001b[0m\u001b[0mi\u001b[0m\u001b[1;33m]\u001b[0m\u001b[1;33m\u001b[0m\u001b[1;33m\u001b[0m\u001b[0m\n\u001b[0m\u001b[0;32m   2054\u001b[0m             \u001b[1;32mif\u001b[0m \u001b[1;32mnot\u001b[0m \u001b[0max\u001b[0m\u001b[1;33m.\u001b[0m\u001b[0mis_unique\u001b[0m\u001b[1;33m:\u001b[0m\u001b[1;33m\u001b[0m\u001b[1;33m\u001b[0m\u001b[0m\n\u001b[0;32m   2055\u001b[0m                 \u001b[1;32mreturn\u001b[0m \u001b[1;32mFalse\u001b[0m\u001b[1;33m\u001b[0m\u001b[1;33m\u001b[0m\u001b[0m\n",
      "\u001b[1;31mKeyboardInterrupt\u001b[0m: "
     ]
    }
   ],
   "source": [
    "accur=0.05\n",
    "start=time.time()\n",
    "solucao=diffinexpcart(case,case_corr,50,r,delta,sigma,tau,accur)\n",
    "cpu=time.time()-start\n",
    "print('minutos-',cpu/60)\n"
   ]
  },
  {
   "cell_type": "code",
   "execution_count": null,
   "metadata": {},
   "outputs": [],
   "source": [
    "solucao[0]"
   ]
  },
  {
   "cell_type": "code",
   "execution_count": null,
   "metadata": {},
   "outputs": [],
   "source": [
    "solucao[1]"
   ]
  },
  {
   "cell_type": "code",
   "execution_count": 32,
   "metadata": {},
   "outputs": [
    {
     "data": {
      "text/plain": [
       "<matplotlib.axes._subplots.AxesSubplot at 0x2a801aebb88>"
      ]
     },
     "execution_count": 32,
     "metadata": {},
     "output_type": "execute_result"
    },
    {
     "data": {
      "image/png": "[encoded data removed]",
      "text/plain": [
       "<Figure size 432x288 with 1 Axes>"
      ]
     },
     "metadata": {
      "needs_background": "light"
     },
     "output_type": "display_data"
    }
   ],
   "source": [
    "solucao[1].plot()"
   ]
  },
  {
   "cell_type": "code",
   "execution_count": 33,
   "metadata": {},
   "outputs": [
    {
     "data": {
      "text/plain": [
       "(1730, 81)"
      ]
     },
     "execution_count": 33,
     "metadata": {},
     "output_type": "execute_result"
    }
   ],
   "source": [
    "solucao[5].shape"
   ]
  },
  {
   "cell_type": "code",
   "execution_count": 34,
   "metadata": {},
   "outputs": [],
   "source": [
    "ima=solucao[5]"
   ]
  },
  {
   "cell_type": "code",
   "execution_count": 35,
   "metadata": {},
   "outputs": [
    {
     "data": {
      "text/plain": [
       "array([['W', 'W', 'W', ..., (1, 0, 2), (0, 1, 2), (0, 1, 2)],\n",
       "       ['W', 'W', 'W', ..., (1, 0, 2), (0, 1, 2), (0, 1, 2)],\n",
       "       ['W', 'W', 'W', ..., (1, 0, 2), (0, 1, 2), (0, 1, 2)],\n",
       "       ...,\n",
       "       ['W', 'W', 'W', ..., (1, 0, 2), (0, 1, 2), (0, 1, 2)],\n",
       "       ['W', 'W', 'W', ..., (1, 0, 2), (0, 1, 2), (0, 1, 2)],\n",
       "       ['W', 'W', 'W', ..., (1, 0, 2), (0, 1, 2), (1, 2, 0)]],\n",
       "      dtype=object)"
      ]
     },
     "execution_count": 35,
     "metadata": {},
     "output_type": "execute_result"
    }
   ],
   "source": [
    "ima"
   ]
  },
  {
   "cell_type": "code",
   "execution_count": 36,
   "metadata": {},
   "outputs": [
    {
     "data": {
      "text/plain": [
       "True"
      ]
     },
     "execution_count": 36,
     "metadata": {},
     "output_type": "execute_result"
    }
   ],
   "source": [
    "ima[1000,80]==(0,1,2)"
   ]
  },
  {
   "cell_type": "code",
   "execution_count": 37,
   "metadata": {},
   "outputs": [
    {
     "data": {
      "text/plain": [
       "array([[0.00000000e+00, 2.92828906e-04, 1.83311311e-02, ...,\n",
       "        1.33989000e+04, 1.36124000e+04, 1.36124000e+04],\n",
       "       [0.00000000e+00, 2.91590160e-04, 1.82674028e-02, ...,\n",
       "        1.33989000e+04, 1.36124000e+04, 1.36124000e+04],\n",
       "       [0.00000000e+00, 2.90355679e-04, 1.82038426e-02, ...,\n",
       "        1.33989000e+04, 1.36124000e+04, 1.36124000e+04],\n",
       "       ...,\n",
       "       [0.00000000e+00, 0.00000000e+00, 0.00000000e+00, ...,\n",
       "        1.33989000e+04, 1.36124000e+04, 1.36124000e+04],\n",
       "       [0.00000000e+00, 0.00000000e+00, 0.00000000e+00, ...,\n",
       "        1.33989000e+04, 1.36124000e+04, 1.36124000e+04],\n",
       "       [0.00000000e+00, 0.00000000e+00, 0.00000000e+00, ...,\n",
       "        1.33989000e+04, 1.36124000e+04, 1.38259000e+04]])"
      ]
     },
     "execution_count": 37,
     "metadata": {},
     "output_type": "execute_result"
    }
   ],
   "source": [
    "solucao[4]"
   ]
  },
  {
   "cell_type": "code",
   "execution_count": 38,
   "metadata": {},
   "outputs": [
    {
     "data": {
      "text/plain": [
       "(1730, 81)"
      ]
     },
     "execution_count": 38,
     "metadata": {},
     "output_type": "execute_result"
    }
   ],
   "source": [
    "ima.shape"
   ]
  },
  {
   "cell_type": "code",
   "execution_count": null,
   "metadata": {},
   "outputs": [],
   "source": []
  },
  {
   "cell_type": "code",
   "execution_count": 39,
   "metadata": {},
   "outputs": [],
   "source": [
    "w, h = ima.shape[0], ima.shape[1]\n",
    "data = np.zeros((h,w, 3), dtype=np.uint8)\n",
    "d1=np.zeros((h,w))\n",
    "for i in range(ima.shape[0]):\n",
    "    for j in range(ima.shape[1]):\n",
    "        #print(j)\n",
    "        if ima[i,j]=='W':\n",
    "            data[ima.shape[1]-j-1,i]=[0,0,0]\n",
    "            d1[ima.shape[1]-j-1,i]=0\n",
    "        elif ima[i,j]==(0,1,2):\n",
    "            data[ima.shape[1]-j-1,i]=[255,0,0]\n",
    "            d1[ima.shape[1]-j-1,i]=1\n",
    "        elif ima[i,j]==(0,2,1):\n",
    "            data[ima.shape[1]-j-1,i]=[255,100,0]\n",
    "            d1[ima.shape[1]-j-1,i]=2\n",
    "        elif ima[i,j]==(1,0,2):\n",
    "            data[ima.shape[1]-j-1,i]=[255,0,0]\n",
    "            d1[ima.shape[1]-j-1,i]=3\n",
    "        elif ima[i,j]==(1,2,0):\n",
    "            data[ima.shape[1]-j-1,i]=[255,255,0]\n",
    "            d1[ima.shape[1]-j-1,i]=4\n",
    "        elif ima[i,j]==(2,1,0):\n",
    "            data[ima.shape[1]-j-1,i]=[0,0,255]\n",
    "            d1[ima.shape[1]-j-1,i]=5\n",
    "        elif ima[i,j]==(2,0,1):\n",
    "            data[ima.shape[1]-j-1,i]=[100,0,255]\n",
    "            d1[ima.shape[1]-j-1,i]=6\n",
    "        \n",
    "        "
   ]
  },
  {
   "cell_type": "code",
   "execution_count": 40,
   "metadata": {},
   "outputs": [],
   "source": [
    "d1frame=pd.DataFrame(d1)\n",
    "d1frame.columns=solucao[2]\n",
    "d1frame.index=solucao[3][::-1]"
   ]
  },
  {
   "cell_type": "code",
   "execution_count": 41,
   "metadata": {},
   "outputs": [
    {
     "data": {
      "text/html": [
       "<div>\n",
       "<style scoped>\n",
       "    .dataframe tbody tr th:only-of-type {\n",
       "        vertical-align: middle;\n",
       "    }\n",
       "\n",
       "    .dataframe tbody tr th {\n",
       "        vertical-align: top;\n",
       "    }\n",
       "\n",
       "    .dataframe thead th {\n",
       "        text-align: right;\n",
       "    }\n",
       "</style>\n",
       "<table border=\"1\" class=\"dataframe\">\n",
       "  <thead>\n",
       "    <tr style=\"text-align: right;\">\n",
       "      <th></th>\n",
       "      <th>0.000000</th>\n",
       "      <th>0.001735</th>\n",
       "      <th>0.003470</th>\n",
       "      <th>0.005205</th>\n",
       "      <th>0.006940</th>\n",
       "      <th>0.008676</th>\n",
       "      <th>0.010411</th>\n",
       "      <th>0.012146</th>\n",
       "      <th>0.013881</th>\n",
       "      <th>0.015616</th>\n",
       "      <th>...</th>\n",
       "      <th>2.984384</th>\n",
       "      <th>2.986119</th>\n",
       "      <th>2.987854</th>\n",
       "      <th>2.989589</th>\n",
       "      <th>2.991324</th>\n",
       "      <th>2.993060</th>\n",
       "      <th>2.994795</th>\n",
       "      <th>2.996530</th>\n",
       "      <th>2.998265</th>\n",
       "      <th>3.000000</th>\n",
       "    </tr>\n",
       "  </thead>\n",
       "  <tbody>\n",
       "    <tr>\n",
       "      <td>200.0</td>\n",
       "      <td>1.0</td>\n",
       "      <td>1.0</td>\n",
       "      <td>1.0</td>\n",
       "      <td>1.0</td>\n",
       "      <td>1.0</td>\n",
       "      <td>1.0</td>\n",
       "      <td>1.0</td>\n",
       "      <td>1.0</td>\n",
       "      <td>1.0</td>\n",
       "      <td>1.0</td>\n",
       "      <td>...</td>\n",
       "      <td>1.0</td>\n",
       "      <td>1.0</td>\n",
       "      <td>1.0</td>\n",
       "      <td>1.0</td>\n",
       "      <td>1.0</td>\n",
       "      <td>1.0</td>\n",
       "      <td>1.0</td>\n",
       "      <td>1.0</td>\n",
       "      <td>1.0</td>\n",
       "      <td>4.0</td>\n",
       "    </tr>\n",
       "    <tr>\n",
       "      <td>197.5</td>\n",
       "      <td>1.0</td>\n",
       "      <td>1.0</td>\n",
       "      <td>1.0</td>\n",
       "      <td>1.0</td>\n",
       "      <td>1.0</td>\n",
       "      <td>1.0</td>\n",
       "      <td>1.0</td>\n",
       "      <td>1.0</td>\n",
       "      <td>1.0</td>\n",
       "      <td>1.0</td>\n",
       "      <td>...</td>\n",
       "      <td>1.0</td>\n",
       "      <td>1.0</td>\n",
       "      <td>1.0</td>\n",
       "      <td>1.0</td>\n",
       "      <td>1.0</td>\n",
       "      <td>1.0</td>\n",
       "      <td>1.0</td>\n",
       "      <td>1.0</td>\n",
       "      <td>1.0</td>\n",
       "      <td>1.0</td>\n",
       "    </tr>\n",
       "    <tr>\n",
       "      <td>195.0</td>\n",
       "      <td>3.0</td>\n",
       "      <td>3.0</td>\n",
       "      <td>3.0</td>\n",
       "      <td>3.0</td>\n",
       "      <td>3.0</td>\n",
       "      <td>3.0</td>\n",
       "      <td>3.0</td>\n",
       "      <td>3.0</td>\n",
       "      <td>3.0</td>\n",
       "      <td>3.0</td>\n",
       "      <td>...</td>\n",
       "      <td>3.0</td>\n",
       "      <td>3.0</td>\n",
       "      <td>3.0</td>\n",
       "      <td>3.0</td>\n",
       "      <td>3.0</td>\n",
       "      <td>3.0</td>\n",
       "      <td>3.0</td>\n",
       "      <td>3.0</td>\n",
       "      <td>3.0</td>\n",
       "      <td>3.0</td>\n",
       "    </tr>\n",
       "    <tr>\n",
       "      <td>192.5</td>\n",
       "      <td>2.0</td>\n",
       "      <td>2.0</td>\n",
       "      <td>2.0</td>\n",
       "      <td>2.0</td>\n",
       "      <td>2.0</td>\n",
       "      <td>2.0</td>\n",
       "      <td>2.0</td>\n",
       "      <td>2.0</td>\n",
       "      <td>2.0</td>\n",
       "      <td>2.0</td>\n",
       "      <td>...</td>\n",
       "      <td>2.0</td>\n",
       "      <td>2.0</td>\n",
       "      <td>2.0</td>\n",
       "      <td>2.0</td>\n",
       "      <td>2.0</td>\n",
       "      <td>2.0</td>\n",
       "      <td>2.0</td>\n",
       "      <td>2.0</td>\n",
       "      <td>2.0</td>\n",
       "      <td>2.0</td>\n",
       "    </tr>\n",
       "    <tr>\n",
       "      <td>190.0</td>\n",
       "      <td>6.0</td>\n",
       "      <td>6.0</td>\n",
       "      <td>6.0</td>\n",
       "      <td>6.0</td>\n",
       "      <td>6.0</td>\n",
       "      <td>6.0</td>\n",
       "      <td>6.0</td>\n",
       "      <td>6.0</td>\n",
       "      <td>6.0</td>\n",
       "      <td>6.0</td>\n",
       "      <td>...</td>\n",
       "      <td>6.0</td>\n",
       "      <td>6.0</td>\n",
       "      <td>6.0</td>\n",
       "      <td>6.0</td>\n",
       "      <td>6.0</td>\n",
       "      <td>6.0</td>\n",
       "      <td>6.0</td>\n",
       "      <td>6.0</td>\n",
       "      <td>6.0</td>\n",
       "      <td>6.0</td>\n",
       "    </tr>\n",
       "  </tbody>\n",
       "</table>\n",
       "<p>5 rows × 1730 columns</p>\n",
       "</div>"
      ],
      "text/plain": [
       "       0.000000  0.001735  0.003470  0.005205  0.006940  0.008676  0.010411  \\\n",
       "200.0       1.0       1.0       1.0       1.0       1.0       1.0       1.0   \n",
       "197.5       1.0       1.0       1.0       1.0       1.0       1.0       1.0   \n",
       "195.0       3.0       3.0       3.0       3.0       3.0       3.0       3.0   \n",
       "192.5       2.0       2.0       2.0       2.0       2.0       2.0       2.0   \n",
       "190.0       6.0       6.0       6.0       6.0       6.0       6.0       6.0   \n",
       "\n",
       "       0.012146  0.013881  0.015616  ...  2.984384  2.986119  2.987854  \\\n",
       "200.0       1.0       1.0       1.0  ...       1.0       1.0       1.0   \n",
       "197.5       1.0       1.0       1.0  ...       1.0       1.0       1.0   \n",
       "195.0       3.0       3.0       3.0  ...       3.0       3.0       3.0   \n",
       "192.5       2.0       2.0       2.0  ...       2.0       2.0       2.0   \n",
       "190.0       6.0       6.0       6.0  ...       6.0       6.0       6.0   \n",
       "\n",
       "       2.989589  2.991324  2.993060  2.994795  2.996530  2.998265  3.000000  \n",
       "200.0       1.0       1.0       1.0       1.0       1.0       1.0       4.0  \n",
       "197.5       1.0       1.0       1.0       1.0       1.0       1.0       1.0  \n",
       "195.0       3.0       3.0       3.0       3.0       3.0       3.0       3.0  \n",
       "192.5       2.0       2.0       2.0       2.0       2.0       2.0       2.0  \n",
       "190.0       6.0       6.0       6.0       6.0       6.0       6.0       6.0  \n",
       "\n",
       "[5 rows x 1730 columns]"
      ]
     },
     "execution_count": 41,
     "metadata": {},
     "output_type": "execute_result"
    }
   ],
   "source": [
    "d1frame.head()"
   ]
  },
  {
   "cell_type": "code",
   "execution_count": null,
   "metadata": {},
   "outputs": [],
   "source": []
  },
  {
   "cell_type": "code",
   "execution_count": 56,
   "metadata": {},
   "outputs": [
    {
     "data": {
      "image/png": "[encoded data removed]",
      "text/plain": [
       "<Figure size 1080x720 with 2 Axes>"
      ]
     },
     "metadata": {
      "needs_background": "light"
     },
     "output_type": "display_data"
    }
   ],
   "source": [
    "\n",
    "fig, ax=plt.subplots(figsize=(15,10))\n",
    "#cbar_ax=fig.add_axes([0,1,2,3,4,5,6])\n",
    "ax=sns.heatmap(d1frame, cmap=\"Accent\")\n",
    "#ax.locator_params(axis='x', nbins=4)\n",
    "#ax.locator_params(axis='y',nbins=4)\n",
    "\n",
    "\n",
    "#colorbar = ax.collections[0].colorbar\n",
    "#colorbar.set_ticks([3/8,1,2,4*3/4 +3/8,5*3/4 +3/8,6*3/4 +3/8,6 - 3/8])\n",
    "#colorbar.set_ticklabels(['W', '0-1-2', '0-2-1','1-0-2','1-2-0','2-1-0','2-0-1'])\n",
    "\n",
    "# X - Y axis labels\n",
    "ax.set_ylabel('Preço');\n",
    "ax.set_xlabel('Tempo');\n",
    "\n",
    "# Only y-axis labels need their rotation set, x-axis labels already have a rotation of 0\n",
    "_, labels = plt.yticks();\n",
    "plt.setp(labels, rotation=0);\n",
    "\n",
    "#ax.set(xticklabels=solucao[2]);\n",
    "\n"
   ]
  },
  {
   "cell_type": "code",
   "execution_count": 86,
   "metadata": {},
   "outputs": [],
   "source": [
    "######################################\n",
    "###########Bloco b1#####################"
   ]
  },
  {
   "cell_type": "code",
   "execution_count": 33,
   "metadata": {},
   "outputs": [
    {
     "data": {
      "text/html": [
       "<div>\n",
       "<style scoped>\n",
       "    .dataframe tbody tr th:only-of-type {\n",
       "        vertical-align: middle;\n",
       "    }\n",
       "\n",
       "    .dataframe tbody tr th {\n",
       "        vertical-align: top;\n",
       "    }\n",
       "\n",
       "    .dataframe thead th {\n",
       "        text-align: right;\n",
       "    }\n",
       "</style>\n",
       "<table border=\"1\" class=\"dataframe\">\n",
       "  <thead>\n",
       "    <tr style=\"text-align: right;\">\n",
       "      <th></th>\n",
       "      <th>DogFish</th>\n",
       "      <th>Head</th>\n",
       "    </tr>\n",
       "    <tr>\n",
       "      <th>Type</th>\n",
       "      <th></th>\n",
       "      <th></th>\n",
       "    </tr>\n",
       "  </thead>\n",
       "  <tbody>\n",
       "    <tr>\n",
       "      <td>DogFish</td>\n",
       "      <td>1.0</td>\n",
       "      <td>0.5</td>\n",
       "    </tr>\n",
       "    <tr>\n",
       "      <td>Head</td>\n",
       "      <td>0.5</td>\n",
       "      <td>1.0</td>\n",
       "    </tr>\n",
       "  </tbody>\n",
       "</table>\n",
       "</div>"
      ],
      "text/plain": [
       "         DogFish  Head\n",
       "Type                  \n",
       "DogFish      1.0   0.5\n",
       "Head         0.5   1.0"
      ]
     },
     "execution_count": 33,
     "metadata": {},
     "output_type": "execute_result"
    }
   ],
   "source": [
    "case_corr_b1"
   ]
  },
  {
   "cell_type": "code",
   "execution_count": 34,
   "metadata": {},
   "outputs": [
    {
     "data": {
      "text/html": [
       "<div>\n",
       "<style scoped>\n",
       "    .dataframe tbody tr th:only-of-type {\n",
       "        vertical-align: middle;\n",
       "    }\n",
       "\n",
       "    .dataframe tbody tr th {\n",
       "        vertical-align: top;\n",
       "    }\n",
       "\n",
       "    .dataframe thead th {\n",
       "        text-align: right;\n",
       "    }\n",
       "</style>\n",
       "<table border=\"1\" class=\"dataframe\">\n",
       "  <thead>\n",
       "    <tr style=\"text-align: right;\">\n",
       "      <th>Type</th>\n",
       "      <th>DogFish</th>\n",
       "      <th>Head</th>\n",
       "    </tr>\n",
       "  </thead>\n",
       "  <tbody>\n",
       "    <tr>\n",
       "      <td>CF</td>\n",
       "      <td>0.300000</td>\n",
       "      <td>0.200000</td>\n",
       "    </tr>\n",
       "    <tr>\n",
       "      <td>I_w</td>\n",
       "      <td>80.000000</td>\n",
       "      <td>80.000000</td>\n",
       "    </tr>\n",
       "    <tr>\n",
       "      <td>q</td>\n",
       "      <td>0.185363</td>\n",
       "      <td>0.166827</td>\n",
       "    </tr>\n",
       "    <tr>\n",
       "      <td>B</td>\n",
       "      <td>620.000000</td>\n",
       "      <td>950.000000</td>\n",
       "    </tr>\n",
       "    <tr>\n",
       "      <td>Owner</td>\n",
       "      <td>1.000000</td>\n",
       "      <td>1.000000</td>\n",
       "    </tr>\n",
       "  </tbody>\n",
       "</table>\n",
       "</div>"
      ],
      "text/plain": [
       "Type      DogFish        Head\n",
       "CF       0.300000    0.200000\n",
       "I_w     80.000000   80.000000\n",
       "q        0.185363    0.166827\n",
       "B      620.000000  950.000000\n",
       "Owner    1.000000    1.000000"
      ]
     },
     "execution_count": 34,
     "metadata": {},
     "output_type": "execute_result"
    }
   ],
   "source": [
    "case_b1"
   ]
  },
  {
   "cell_type": "code",
   "execution_count": null,
   "metadata": {},
   "outputs": [],
   "source": []
  },
  {
   "cell_type": "code",
   "execution_count": 54,
   "metadata": {},
   "outputs": [
    {
     "name": "stdout",
     "output_type": "stream",
     "text": [
      "minutos- 139.68800817330677\n"
     ]
    }
   ],
   "source": [
    "start=time.time()\n",
    "#accur=0.05\n",
    "accur=0.005\n",
    "solucao_b1=diffinexpcart(case_b1,case_corr_b1,50,r,delta,sigma,tau,accur)\n",
    "cpu=time.time()-start\n",
    "print('minutos-',cpu/60)\n",
    "\n"
   ]
  },
  {
   "cell_type": "code",
   "execution_count": 55,
   "metadata": {},
   "outputs": [
    {
     "data": {
      "text/plain": [
       "1092.9842919005337"
      ]
     },
     "execution_count": 55,
     "metadata": {},
     "output_type": "execute_result"
    }
   ],
   "source": [
    "solucao_b1[0]"
   ]
  },
  {
   "cell_type": "code",
   "execution_count": 56,
   "metadata": {},
   "outputs": [
    {
     "data": {
      "text/html": [
       "<div>\n",
       "<style scoped>\n",
       "    .dataframe tbody tr th:only-of-type {\n",
       "        vertical-align: middle;\n",
       "    }\n",
       "\n",
       "    .dataframe tbody tr th {\n",
       "        vertical-align: top;\n",
       "    }\n",
       "\n",
       "    .dataframe thead th {\n",
       "        text-align: right;\n",
       "    }\n",
       "</style>\n",
       "<table border=\"1\" class=\"dataframe\">\n",
       "  <thead>\n",
       "    <tr style=\"text-align: right;\">\n",
       "      <th></th>\n",
       "      <th>W</th>\n",
       "      <th>(0, 1)</th>\n",
       "      <th>(1, 0)</th>\n",
       "    </tr>\n",
       "  </thead>\n",
       "  <tbody>\n",
       "    <tr>\n",
       "      <td>0.000000</td>\n",
       "      <td>71.50</td>\n",
       "      <td>99.0</td>\n",
       "      <td>99.25</td>\n",
       "    </tr>\n",
       "    <tr>\n",
       "      <td>0.000069</td>\n",
       "      <td>71.50</td>\n",
       "      <td>99.0</td>\n",
       "      <td>99.25</td>\n",
       "    </tr>\n",
       "    <tr>\n",
       "      <td>0.000139</td>\n",
       "      <td>71.50</td>\n",
       "      <td>99.0</td>\n",
       "      <td>99.25</td>\n",
       "    </tr>\n",
       "    <tr>\n",
       "      <td>0.000208</td>\n",
       "      <td>71.50</td>\n",
       "      <td>99.0</td>\n",
       "      <td>99.25</td>\n",
       "    </tr>\n",
       "    <tr>\n",
       "      <td>0.000278</td>\n",
       "      <td>71.50</td>\n",
       "      <td>99.0</td>\n",
       "      <td>99.25</td>\n",
       "    </tr>\n",
       "    <tr>\n",
       "      <td>...</td>\n",
       "      <td>...</td>\n",
       "      <td>...</td>\n",
       "      <td>...</td>\n",
       "    </tr>\n",
       "    <tr>\n",
       "      <td>2.999722</td>\n",
       "      <td>42.00</td>\n",
       "      <td>99.0</td>\n",
       "      <td>99.25</td>\n",
       "    </tr>\n",
       "    <tr>\n",
       "      <td>2.999792</td>\n",
       "      <td>42.00</td>\n",
       "      <td>99.0</td>\n",
       "      <td>99.25</td>\n",
       "    </tr>\n",
       "    <tr>\n",
       "      <td>2.999861</td>\n",
       "      <td>42.00</td>\n",
       "      <td>99.0</td>\n",
       "      <td>99.25</td>\n",
       "    </tr>\n",
       "    <tr>\n",
       "      <td>2.999931</td>\n",
       "      <td>41.75</td>\n",
       "      <td>99.0</td>\n",
       "      <td>99.25</td>\n",
       "    </tr>\n",
       "    <tr>\n",
       "      <td>3.000000</td>\n",
       "      <td>35.00</td>\n",
       "      <td>100.0</td>\n",
       "      <td>99.25</td>\n",
       "    </tr>\n",
       "  </tbody>\n",
       "</table>\n",
       "<p>43202 rows × 3 columns</p>\n",
       "</div>"
      ],
      "text/plain": [
       "              W  (0, 1)  (1, 0)\n",
       "0.000000  71.50    99.0   99.25\n",
       "0.000069  71.50    99.0   99.25\n",
       "0.000139  71.50    99.0   99.25\n",
       "0.000208  71.50    99.0   99.25\n",
       "0.000278  71.50    99.0   99.25\n",
       "...         ...     ...     ...\n",
       "2.999722  42.00    99.0   99.25\n",
       "2.999792  42.00    99.0   99.25\n",
       "2.999861  42.00    99.0   99.25\n",
       "2.999931  41.75    99.0   99.25\n",
       "3.000000  35.00   100.0   99.25\n",
       "\n",
       "[43202 rows x 3 columns]"
      ]
     },
     "execution_count": 56,
     "metadata": {},
     "output_type": "execute_result"
    }
   ],
   "source": [
    "solucao_b1[1]"
   ]
  },
  {
   "cell_type": "code",
   "execution_count": 57,
   "metadata": {},
   "outputs": [
    {
     "name": "stdout",
     "output_type": "stream",
     "text": [
      "o gatilho é: 71.5\n"
     ]
    }
   ],
   "source": [
    "print('o gatilho é:',solucao_b1[1].iloc[0,0])"
   ]
  },
  {
   "cell_type": "code",
   "execution_count": 58,
   "metadata": {},
   "outputs": [
    {
     "name": "stdout",
     "output_type": "stream",
     "text": [
      "o portfólio vale: 1092.9842919005337\n"
     ]
    }
   ],
   "source": [
    "print('o portfólio vale:', solucao_b1[0])"
   ]
  },
  {
   "cell_type": "code",
   "execution_count": 59,
   "metadata": {},
   "outputs": [
    {
     "data": {
      "text/plain": [
       "<matplotlib.axes._subplots.AxesSubplot at 0x13efcfd6288>"
      ]
     },
     "execution_count": 59,
     "metadata": {},
     "output_type": "execute_result"
    },
    {
     "data": {
      "image/png": "[encoded data removed]",
      "text/plain": [
       "<Figure size 432x288 with 1 Axes>"
      ]
     },
     "metadata": {
      "needs_background": "light"
     },
     "output_type": "display_data"
    }
   ],
   "source": [
    "solucao_b1[1].plot()"
   ]
  },
  {
   "cell_type": "code",
   "execution_count": 60,
   "metadata": {},
   "outputs": [
    {
     "data": {
      "text/plain": [
       "[<matplotlib.lines.Line2D at 0x13efe030648>]"
      ]
     },
     "execution_count": 60,
     "metadata": {},
     "output_type": "execute_result"
    },
    {
     "data": {
      "image/png": "[encoded data removed]",
      "text/plain": [
       "<Figure size 432x288 with 1 Axes>"
      ]
     },
     "metadata": {
      "needs_background": "light"
     },
     "output_type": "display_data"
    }
   ],
   "source": [
    "plt.plot(solucao_b1[4][0,:])"
   ]
  },
  {
   "cell_type": "code",
   "execution_count": 61,
   "metadata": {},
   "outputs": [],
   "source": [
    "winsound.Beep(freq,duration)\n"
   ]
  },
  {
   "cell_type": "code",
   "execution_count": 62,
   "metadata": {},
   "outputs": [],
   "source": [
    "#####################Exportar Solucao###################Tempo presente"
   ]
  },
  {
   "cell_type": "code",
   "execution_count": 63,
   "metadata": {},
   "outputs": [
    {
     "data": {
      "text/plain": [
       "0.0"
      ]
     },
     "execution_count": 63,
     "metadata": {},
     "output_type": "execute_result"
    }
   ],
   "source": [
    "solucao_b1[4][0,0]"
   ]
  },
  {
   "cell_type": "code",
   "execution_count": 64,
   "metadata": {},
   "outputs": [
    {
     "data": {
      "text/plain": [
       "(401,)"
      ]
     },
     "execution_count": 64,
     "metadata": {},
     "output_type": "execute_result"
    }
   ],
   "source": [
    "solucao_b1[3].shape"
   ]
  },
  {
   "cell_type": "code",
   "execution_count": 65,
   "metadata": {},
   "outputs": [
    {
     "data": {
      "text/plain": [
       "(43202, 401)"
      ]
     },
     "execution_count": 65,
     "metadata": {},
     "output_type": "execute_result"
    }
   ],
   "source": [
    "solucao_b1[4].shape"
   ]
  },
  {
   "cell_type": "code",
   "execution_count": null,
   "metadata": {},
   "outputs": [],
   "source": []
  },
  {
   "cell_type": "code",
   "execution_count": 66,
   "metadata": {},
   "outputs": [],
   "source": [
    "ima=solucao_b1[5]"
   ]
  },
  {
   "cell_type": "code",
   "execution_count": 67,
   "metadata": {},
   "outputs": [],
   "source": [
    "w, h = ima.shape[0], ima.shape[1]\n",
    "#data = np.zeros((h,w, 3), dtype=np.uint8)\n",
    "d2=np.zeros((h,w))\n",
    "for i in range(ima.shape[0]):\n",
    "    for j in range(ima.shape[1]):\n",
    "        #print(j)\n",
    "        if ima[i,j]=='W':\n",
    "            #data[ima.shape[1]-j-1,i]=[0,0,0]\n",
    "            d2[ima.shape[1]-j-1,i]=0\n",
    "        elif ima[i,j]==(0,1):\n",
    "            #data[ima.shape[1]-j-1,i]=[255,0,0]\n",
    "            d2[ima.shape[1]-j-1,i]=1\n",
    "        elif ima[i,j]==(1,0):\n",
    "            #data[ima.shape[1]-j-1,i]=[255,100,0]\n",
    "            d2[ima.shape[1]-j-1,i]=2\n",
    "        "
   ]
  },
  {
   "cell_type": "code",
   "execution_count": 68,
   "metadata": {},
   "outputs": [],
   "source": [
    "d2frame=pd.DataFrame(d2)\n",
    "d2frame.columns=solucao_b1[2]\n",
    "d2frame.index=solucao_b1[3][::-1]"
   ]
  },
  {
   "cell_type": "code",
   "execution_count": null,
   "metadata": {},
   "outputs": [],
   "source": []
  },
  {
   "cell_type": "code",
   "execution_count": 69,
   "metadata": {},
   "outputs": [
    {
     "data": {
      "text/plain": [
       "(array([0], dtype=int64),)"
      ]
     },
     "execution_count": 69,
     "metadata": {},
     "output_type": "execute_result"
    }
   ],
   "source": [
    "np.where(d2frame.index==100)"
   ]
  },
  {
   "cell_type": "code",
   "execution_count": 70,
   "metadata": {},
   "outputs": [
    {
     "data": {
      "text/html": [
       "<div>\n",
       "<style scoped>\n",
       "    .dataframe tbody tr th:only-of-type {\n",
       "        vertical-align: middle;\n",
       "    }\n",
       "\n",
       "    .dataframe tbody tr th {\n",
       "        vertical-align: top;\n",
       "    }\n",
       "\n",
       "    .dataframe thead th {\n",
       "        text-align: right;\n",
       "    }\n",
       "</style>\n",
       "<table border=\"1\" class=\"dataframe\">\n",
       "  <thead>\n",
       "    <tr style=\"text-align: right;\">\n",
       "      <th></th>\n",
       "      <th>0.000000</th>\n",
       "      <th>0.000069</th>\n",
       "      <th>0.000139</th>\n",
       "      <th>0.000208</th>\n",
       "      <th>0.000278</th>\n",
       "      <th>0.000347</th>\n",
       "      <th>0.000417</th>\n",
       "      <th>0.000486</th>\n",
       "      <th>0.000556</th>\n",
       "      <th>0.000625</th>\n",
       "      <th>...</th>\n",
       "      <th>2.999375</th>\n",
       "      <th>2.999444</th>\n",
       "      <th>2.999514</th>\n",
       "      <th>2.999583</th>\n",
       "      <th>2.999653</th>\n",
       "      <th>2.999722</th>\n",
       "      <th>2.999792</th>\n",
       "      <th>2.999861</th>\n",
       "      <th>2.999931</th>\n",
       "      <th>3.000000</th>\n",
       "    </tr>\n",
       "  </thead>\n",
       "  <tbody>\n",
       "    <tr>\n",
       "      <td>100.00</td>\n",
       "      <td>1.0</td>\n",
       "      <td>1.0</td>\n",
       "      <td>1.0</td>\n",
       "      <td>1.0</td>\n",
       "      <td>1.0</td>\n",
       "      <td>1.0</td>\n",
       "      <td>1.0</td>\n",
       "      <td>1.0</td>\n",
       "      <td>1.0</td>\n",
       "      <td>1.0</td>\n",
       "      <td>...</td>\n",
       "      <td>1.0</td>\n",
       "      <td>1.0</td>\n",
       "      <td>1.0</td>\n",
       "      <td>1.0</td>\n",
       "      <td>1.0</td>\n",
       "      <td>1.0</td>\n",
       "      <td>1.0</td>\n",
       "      <td>1.0</td>\n",
       "      <td>1.0</td>\n",
       "      <td>2.0</td>\n",
       "    </tr>\n",
       "    <tr>\n",
       "      <td>99.75</td>\n",
       "      <td>1.0</td>\n",
       "      <td>1.0</td>\n",
       "      <td>1.0</td>\n",
       "      <td>1.0</td>\n",
       "      <td>1.0</td>\n",
       "      <td>1.0</td>\n",
       "      <td>1.0</td>\n",
       "      <td>1.0</td>\n",
       "      <td>1.0</td>\n",
       "      <td>1.0</td>\n",
       "      <td>...</td>\n",
       "      <td>1.0</td>\n",
       "      <td>1.0</td>\n",
       "      <td>1.0</td>\n",
       "      <td>1.0</td>\n",
       "      <td>1.0</td>\n",
       "      <td>1.0</td>\n",
       "      <td>1.0</td>\n",
       "      <td>1.0</td>\n",
       "      <td>1.0</td>\n",
       "      <td>1.0</td>\n",
       "    </tr>\n",
       "    <tr>\n",
       "      <td>99.50</td>\n",
       "      <td>1.0</td>\n",
       "      <td>1.0</td>\n",
       "      <td>1.0</td>\n",
       "      <td>1.0</td>\n",
       "      <td>1.0</td>\n",
       "      <td>1.0</td>\n",
       "      <td>1.0</td>\n",
       "      <td>1.0</td>\n",
       "      <td>1.0</td>\n",
       "      <td>1.0</td>\n",
       "      <td>...</td>\n",
       "      <td>1.0</td>\n",
       "      <td>1.0</td>\n",
       "      <td>1.0</td>\n",
       "      <td>1.0</td>\n",
       "      <td>1.0</td>\n",
       "      <td>1.0</td>\n",
       "      <td>1.0</td>\n",
       "      <td>1.0</td>\n",
       "      <td>1.0</td>\n",
       "      <td>1.0</td>\n",
       "    </tr>\n",
       "    <tr>\n",
       "      <td>99.25</td>\n",
       "      <td>1.0</td>\n",
       "      <td>1.0</td>\n",
       "      <td>1.0</td>\n",
       "      <td>1.0</td>\n",
       "      <td>1.0</td>\n",
       "      <td>1.0</td>\n",
       "      <td>1.0</td>\n",
       "      <td>1.0</td>\n",
       "      <td>1.0</td>\n",
       "      <td>1.0</td>\n",
       "      <td>...</td>\n",
       "      <td>1.0</td>\n",
       "      <td>1.0</td>\n",
       "      <td>1.0</td>\n",
       "      <td>1.0</td>\n",
       "      <td>1.0</td>\n",
       "      <td>1.0</td>\n",
       "      <td>1.0</td>\n",
       "      <td>1.0</td>\n",
       "      <td>1.0</td>\n",
       "      <td>1.0</td>\n",
       "    </tr>\n",
       "    <tr>\n",
       "      <td>99.00</td>\n",
       "      <td>2.0</td>\n",
       "      <td>2.0</td>\n",
       "      <td>2.0</td>\n",
       "      <td>2.0</td>\n",
       "      <td>2.0</td>\n",
       "      <td>2.0</td>\n",
       "      <td>2.0</td>\n",
       "      <td>2.0</td>\n",
       "      <td>2.0</td>\n",
       "      <td>2.0</td>\n",
       "      <td>...</td>\n",
       "      <td>2.0</td>\n",
       "      <td>2.0</td>\n",
       "      <td>2.0</td>\n",
       "      <td>2.0</td>\n",
       "      <td>2.0</td>\n",
       "      <td>2.0</td>\n",
       "      <td>2.0</td>\n",
       "      <td>2.0</td>\n",
       "      <td>2.0</td>\n",
       "      <td>2.0</td>\n",
       "    </tr>\n",
       "    <tr>\n",
       "      <td>...</td>\n",
       "      <td>...</td>\n",
       "      <td>...</td>\n",
       "      <td>...</td>\n",
       "      <td>...</td>\n",
       "      <td>...</td>\n",
       "      <td>...</td>\n",
       "      <td>...</td>\n",
       "      <td>...</td>\n",
       "      <td>...</td>\n",
       "      <td>...</td>\n",
       "      <td>...</td>\n",
       "      <td>...</td>\n",
       "      <td>...</td>\n",
       "      <td>...</td>\n",
       "      <td>...</td>\n",
       "      <td>...</td>\n",
       "      <td>...</td>\n",
       "      <td>...</td>\n",
       "      <td>...</td>\n",
       "      <td>...</td>\n",
       "      <td>...</td>\n",
       "    </tr>\n",
       "    <tr>\n",
       "      <td>1.00</td>\n",
       "      <td>0.0</td>\n",
       "      <td>0.0</td>\n",
       "      <td>0.0</td>\n",
       "      <td>0.0</td>\n",
       "      <td>0.0</td>\n",
       "      <td>0.0</td>\n",
       "      <td>0.0</td>\n",
       "      <td>0.0</td>\n",
       "      <td>0.0</td>\n",
       "      <td>0.0</td>\n",
       "      <td>...</td>\n",
       "      <td>0.0</td>\n",
       "      <td>0.0</td>\n",
       "      <td>0.0</td>\n",
       "      <td>0.0</td>\n",
       "      <td>0.0</td>\n",
       "      <td>0.0</td>\n",
       "      <td>0.0</td>\n",
       "      <td>0.0</td>\n",
       "      <td>0.0</td>\n",
       "      <td>0.0</td>\n",
       "    </tr>\n",
       "    <tr>\n",
       "      <td>0.75</td>\n",
       "      <td>0.0</td>\n",
       "      <td>0.0</td>\n",
       "      <td>0.0</td>\n",
       "      <td>0.0</td>\n",
       "      <td>0.0</td>\n",
       "      <td>0.0</td>\n",
       "      <td>0.0</td>\n",
       "      <td>0.0</td>\n",
       "      <td>0.0</td>\n",
       "      <td>0.0</td>\n",
       "      <td>...</td>\n",
       "      <td>0.0</td>\n",
       "      <td>0.0</td>\n",
       "      <td>0.0</td>\n",
       "      <td>0.0</td>\n",
       "      <td>0.0</td>\n",
       "      <td>0.0</td>\n",
       "      <td>0.0</td>\n",
       "      <td>0.0</td>\n",
       "      <td>0.0</td>\n",
       "      <td>0.0</td>\n",
       "    </tr>\n",
       "    <tr>\n",
       "      <td>0.50</td>\n",
       "      <td>0.0</td>\n",
       "      <td>0.0</td>\n",
       "      <td>0.0</td>\n",
       "      <td>0.0</td>\n",
       "      <td>0.0</td>\n",
       "      <td>0.0</td>\n",
       "      <td>0.0</td>\n",
       "      <td>0.0</td>\n",
       "      <td>0.0</td>\n",
       "      <td>0.0</td>\n",
       "      <td>...</td>\n",
       "      <td>0.0</td>\n",
       "      <td>0.0</td>\n",
       "      <td>0.0</td>\n",
       "      <td>0.0</td>\n",
       "      <td>0.0</td>\n",
       "      <td>0.0</td>\n",
       "      <td>0.0</td>\n",
       "      <td>0.0</td>\n",
       "      <td>0.0</td>\n",
       "      <td>0.0</td>\n",
       "    </tr>\n",
       "    <tr>\n",
       "      <td>0.25</td>\n",
       "      <td>0.0</td>\n",
       "      <td>0.0</td>\n",
       "      <td>0.0</td>\n",
       "      <td>0.0</td>\n",
       "      <td>0.0</td>\n",
       "      <td>0.0</td>\n",
       "      <td>0.0</td>\n",
       "      <td>0.0</td>\n",
       "      <td>0.0</td>\n",
       "      <td>0.0</td>\n",
       "      <td>...</td>\n",
       "      <td>0.0</td>\n",
       "      <td>0.0</td>\n",
       "      <td>0.0</td>\n",
       "      <td>0.0</td>\n",
       "      <td>0.0</td>\n",
       "      <td>0.0</td>\n",
       "      <td>0.0</td>\n",
       "      <td>0.0</td>\n",
       "      <td>0.0</td>\n",
       "      <td>0.0</td>\n",
       "    </tr>\n",
       "    <tr>\n",
       "      <td>0.00</td>\n",
       "      <td>0.0</td>\n",
       "      <td>0.0</td>\n",
       "      <td>0.0</td>\n",
       "      <td>0.0</td>\n",
       "      <td>0.0</td>\n",
       "      <td>0.0</td>\n",
       "      <td>0.0</td>\n",
       "      <td>0.0</td>\n",
       "      <td>0.0</td>\n",
       "      <td>0.0</td>\n",
       "      <td>...</td>\n",
       "      <td>0.0</td>\n",
       "      <td>0.0</td>\n",
       "      <td>0.0</td>\n",
       "      <td>0.0</td>\n",
       "      <td>0.0</td>\n",
       "      <td>0.0</td>\n",
       "      <td>0.0</td>\n",
       "      <td>0.0</td>\n",
       "      <td>0.0</td>\n",
       "      <td>0.0</td>\n",
       "    </tr>\n",
       "  </tbody>\n",
       "</table>\n",
       "<p>401 rows × 43202 columns</p>\n",
       "</div>"
      ],
      "text/plain": [
       "        0.000000  0.000069  0.000139  0.000208  0.000278  0.000347  0.000417  \\\n",
       "100.00       1.0       1.0       1.0       1.0       1.0       1.0       1.0   \n",
       "99.75        1.0       1.0       1.0       1.0       1.0       1.0       1.0   \n",
       "99.50        1.0       1.0       1.0       1.0       1.0       1.0       1.0   \n",
       "99.25        1.0       1.0       1.0       1.0       1.0       1.0       1.0   \n",
       "99.00        2.0       2.0       2.0       2.0       2.0       2.0       2.0   \n",
       "...          ...       ...       ...       ...       ...       ...       ...   \n",
       "1.00         0.0       0.0       0.0       0.0       0.0       0.0       0.0   \n",
       "0.75         0.0       0.0       0.0       0.0       0.0       0.0       0.0   \n",
       "0.50         0.0       0.0       0.0       0.0       0.0       0.0       0.0   \n",
       "0.25         0.0       0.0       0.0       0.0       0.0       0.0       0.0   \n",
       "0.00         0.0       0.0       0.0       0.0       0.0       0.0       0.0   \n",
       "\n",
       "        0.000486  0.000556  0.000625  ...  2.999375  2.999444  2.999514  \\\n",
       "100.00       1.0       1.0       1.0  ...       1.0       1.0       1.0   \n",
       "99.75        1.0       1.0       1.0  ...       1.0       1.0       1.0   \n",
       "99.50        1.0       1.0       1.0  ...       1.0       1.0       1.0   \n",
       "99.25        1.0       1.0       1.0  ...       1.0       1.0       1.0   \n",
       "99.00        2.0       2.0       2.0  ...       2.0       2.0       2.0   \n",
       "...          ...       ...       ...  ...       ...       ...       ...   \n",
       "1.00         0.0       0.0       0.0  ...       0.0       0.0       0.0   \n",
       "0.75         0.0       0.0       0.0  ...       0.0       0.0       0.0   \n",
       "0.50         0.0       0.0       0.0  ...       0.0       0.0       0.0   \n",
       "0.25         0.0       0.0       0.0  ...       0.0       0.0       0.0   \n",
       "0.00         0.0       0.0       0.0  ...       0.0       0.0       0.0   \n",
       "\n",
       "        2.999583  2.999653  2.999722  2.999792  2.999861  2.999931  3.000000  \n",
       "100.00       1.0       1.0       1.0       1.0       1.0       1.0       2.0  \n",
       "99.75        1.0       1.0       1.0       1.0       1.0       1.0       1.0  \n",
       "99.50        1.0       1.0       1.0       1.0       1.0       1.0       1.0  \n",
       "99.25        1.0       1.0       1.0       1.0       1.0       1.0       1.0  \n",
       "99.00        2.0       2.0       2.0       2.0       2.0       2.0       2.0  \n",
       "...          ...       ...       ...       ...       ...       ...       ...  \n",
       "1.00         0.0       0.0       0.0       0.0       0.0       0.0       0.0  \n",
       "0.75         0.0       0.0       0.0       0.0       0.0       0.0       0.0  \n",
       "0.50         0.0       0.0       0.0       0.0       0.0       0.0       0.0  \n",
       "0.25         0.0       0.0       0.0       0.0       0.0       0.0       0.0  \n",
       "0.00         0.0       0.0       0.0       0.0       0.0       0.0       0.0  \n",
       "\n",
       "[401 rows x 43202 columns]"
      ]
     },
     "execution_count": 70,
     "metadata": {},
     "output_type": "execute_result"
    }
   ],
   "source": [
    "d2frame"
   ]
  },
  {
   "cell_type": "code",
   "execution_count": null,
   "metadata": {},
   "outputs": [],
   "source": []
  },
  {
   "cell_type": "code",
   "execution_count": 71,
   "metadata": {},
   "outputs": [],
   "source": [
    "#d2frame.to_csv('d2frame.csv')"
   ]
  },
  {
   "cell_type": "code",
   "execution_count": 72,
   "metadata": {},
   "outputs": [],
   "source": [
    "#d2frame=pd.read_csv('d2frame.csv')"
   ]
  },
  {
   "cell_type": "code",
   "execution_count": 73,
   "metadata": {
    "scrolled": true
   },
   "outputs": [
    {
     "data": {
      "image/png": "[encoded data removed]",
      "text/plain": [
       "<Figure size 720x360 with 2 Axes>"
      ]
     },
     "metadata": {
      "needs_background": "light"
     },
     "output_type": "display_data"
    }
   ],
   "source": [
    "fig, ax=plt.subplots(figsize=(10,5))\n",
    "#cbar_ax=fig.add_axes([0,1,2,3,4,5,6])\n",
    "#cmap=sns.set_palette(\"hls\",3)\n",
    "ax=sns.heatmap(d2frame, cmap='Accent', vmax=2, vmin=0)\n",
    "#ax=sns.set_palette(\"hls\",3)\n",
    "\n",
    "#ax.locator_params(axis='x', nbins=4)\n",
    "#ax.locator_params(axis='y',nbins=4)\n",
    "\n",
    "\n",
    "colorbar = ax.collections[0].colorbar\n",
    "colorbar.set_ticks([1/8, 1+ 1/8,2])\n",
    "colorbar.set_ticklabels(['Wait', 'Dog-Head', 'Head-Dog'])\n",
    "\n",
    "# X - Y axis labels\n",
    "ax.set_ylabel('Preço');\n",
    "ax.set_xlabel('Tempo');\n",
    "#ax.set_ylim(top=150);\n",
    "\n",
    "# Only y-axis labels need their rotation set, x-axis labels already have a rotation of 0\n",
    "_, labels = plt.yticks();\n",
    "plt.setp(labels, rotation=0);\n",
    "\n",
    "#ax.set(xticklabels=solucao[2]);\n",
    "\n"
   ]
  },
  {
   "cell_type": "code",
   "execution_count": 74,
   "metadata": {},
   "outputs": [
    {
     "name": "stdout",
     "output_type": "stream",
     "text": [
      "0 W 0.0 0.0 W 0.0\n",
      "1 W 0.0 0.0 W 0.0\n",
      "2 W 0.0 0.0 W 0.0\n",
      "3 W 0.0 0.0 W 0.0\n",
      "4 W 0.0 0.0 W 0.0\n",
      "5 W 0.0 0.0 W 0.0\n",
      "6 W 0.0 0.0 W 0.0\n",
      "7 W 0.0 0.0 W 0.0\n",
      "8 W 0.0 0.0 W 0.0\n",
      "9 W 0.0 0.0 W 0.0\n",
      "10 W 0.0 0.0 W 0.0\n",
      "11 W 0.0 0.0 W 0.0\n",
      "12 W 0.0 0.0 W 0.0\n",
      "13 W 0.0 0.0 W 0.0\n",
      "14 W 0.0 0.0 W 0.0\n",
      "15 W 0.0 0.0 W 0.0\n",
      "16 W 0.0 0.0 W 0.0\n",
      "17 W 0.0 0.0 W 0.0\n",
      "18 W 0.0 0.0 W 0.0\n",
      "19 W 0.0 0.0 W 0.0\n",
      "20 W 0.0 0.0 W 0.0\n",
      "21 W 0.0 0.0 W 0.0\n",
      "22 W 0.0 0.0 W 0.0\n",
      "23 W 0.0 0.0 W 0.0\n",
      "24 W 0.0 0.0 W 0.0\n",
      "25 W 0.0 0.0 W 0.0\n",
      "26 W 0.0 0.0 W 0.0\n",
      "27 W 0.0 0.0 W 0.0\n",
      "28 W 0.0 0.0 W 0.0\n",
      "29 W 0.0 0.0 W 0.0\n",
      "30 W 0.0 0.0 W 0.0\n",
      "31 W 0.0 0.0 W 0.0\n",
      "32 W 0.0 0.0 W 0.0\n",
      "33 W 0.0 0.0 W 0.0\n",
      "34 W 0.0 0.0 W 0.0\n",
      "35 (0, 1) 5.9207295217013325 0.0 W 5.9207295217013325\n",
      "36 (0, 1) 62.92730908945186 26.22502014221849 (1, 0) 36.70228894723337\n",
      "37 (0, 1) 121.43944879555607 87.93604531562019 (1, 0) 33.50340347993588\n",
      "38 (0, 1) 179.95158850166047 154.11072246396014 (1, 0) 25.840866037700323\n",
      "39 (0, 1) 238.4637282077651 220.28539961230032 (1, 0) 18.178328595464762\n",
      "40 (0, 1) 296.9758679138692 286.4600767606399 (1, 0) 10.515791153229316\n",
      "41 (0, 1) 355.4880076199736 352.6347539089798 (1, 0) 2.8532537109937834\n",
      "42 (0, 1) 418.8094310573197 418.8094310573197 (1, 0) 0.0\n",
      "43 (1, 0) 484.98410820565977 484.9841082056597 (0, 1) 5.684341886080802e-14\n",
      "44 (0, 1) 551.1587853539997 551.1587853539997 (1, 0) 0.0\n",
      "45 (0, 1) 617.3334625023397 617.3334625023397 (1, 0) 0.0\n",
      "46 (0, 1) 683.5081396506794 683.5081396506794 (1, 0) 0.0\n",
      "47 (1, 0) 749.6828167990192 749.6828167990191 (0, 1) 1.1368683772161603e-13\n",
      "48 (1, 0) 815.8574939473593 815.8574939473592 (0, 1) 1.1368683772161603e-13\n",
      "49 (0, 1) 882.0321710956993 882.0321710956993 (1, 0) 0.0\n",
      "50 (1, 0) 948.2068482440386 948.2068482440385 (0, 1) 1.1368683772161603e-13\n",
      "51 (1, 0) 1014.381525392379 1014.3815253923789 (0, 1) 1.1368683772161603e-13\n",
      "52 (0, 1) 1080.5562025407185 1080.5562025407185 (1, 0) 0.0\n",
      "53 (0, 1) 1146.7308796890584 1146.7308796890584 (1, 0) 0.0\n",
      "54 (1, 0) 1212.9055568373985 1212.9055568373983 (0, 1) 2.2737367544323206e-13\n",
      "55 (0, 1) 1279.0802339857385 1279.0802339857385 (1, 0) 0.0\n",
      "56 (0, 1) 1345.2549111340782 1345.2549111340782 (1, 0) 0.0\n",
      "57 (0, 1) 1411.429588282418 1411.429588282418 (1, 0) 0.0\n",
      "58 (0, 1) 1477.604265430758 1477.604265430758 (1, 0) 0.0\n",
      "59 (0, 1) 1543.7789425790984 1543.7789425790982 (1, 0) 2.2737367544323206e-13\n",
      "60 (0, 1) 1609.9536197274383 1609.953619727438 (1, 0) 2.2737367544323206e-13\n",
      "61 (1, 0) 1676.128296875778 1676.1282968757778 (0, 1) 2.2737367544323206e-13\n",
      "62 (0, 1) 1742.3029740241175 1742.3029740241175 (1, 0) 0.0\n",
      "63 (0, 1) 1808.4776511724579 1808.4776511724576 (1, 0) 2.2737367544323206e-13\n",
      "64 (0, 1) 1874.6523283207978 1874.6523283207976 (1, 0) 2.2737367544323206e-13\n",
      "65 (0, 1) 1940.827005469137 1940.8270054691368 (1, 0) 2.2737367544323206e-13\n",
      "66 (0, 1) 2007.0016826174774 2007.0016826174774 (1, 0) 0.0\n",
      "67 (0, 1) 2073.176359765817 2073.176359765817 (1, 0) 0.0\n",
      "68 (0, 1) 2139.351036914157 2139.351036914157 (1, 0) 0.0\n",
      "69 (0, 1) 2205.5257140624967 2205.5257140624967 (1, 0) 0.0\n",
      "70 (0, 1) 2271.700391210837 2271.7003912108366 (1, 0) 4.547473508864641e-13\n",
      "71 (0, 1) 2337.875068359177 2337.8750683591766 (1, 0) 4.547473508864641e-13\n",
      "72 (0, 1) 2404.0497455075165 2404.0497455075165 (1, 0) 0.0\n",
      "73 (0, 1) 2470.224422655856 2470.224422655856 (1, 0) 0.0\n",
      "74 (1, 0) 2536.3990998041963 2536.399099804196 (0, 1) 4.547473508864641e-13\n",
      "75 (1, 0) 2602.5737769525367 2602.5737769525363 (0, 1) 4.547473508864641e-13\n",
      "76 (0, 1) 2668.748454100876 2668.748454100876 (1, 0) 0.0\n",
      "77 (0, 1) 2734.9231312492166 2734.9231312492166 (1, 0) 0.0\n",
      "78 (0, 1) 2801.0978083975565 2801.0978083975565 (1, 0) 0.0\n",
      "79 (0, 1) 2867.272485545896 2867.272485545896 (1, 0) 0.0\n",
      "80 (0, 1) 2933.4471626942354 2933.4471626942354 (1, 0) 0.0\n",
      "81 (1, 0) 2999.6218398425763 2999.621839842576 (0, 1) 4.547473508864641e-13\n",
      "82 (1, 0) 3065.7965169909157 3065.7965169909153 (0, 1) 4.547473508864641e-13\n",
      "83 (0, 1) 3131.9711941392557 3131.971194139255 (1, 0) 4.547473508864641e-13\n",
      "84 (0, 1) 3198.1458712875956 3198.1458712875956 (1, 0) 0.0\n",
      "85 (0, 1) 3264.320548435935 3264.320548435935 (1, 0) 0.0\n",
      "86 (0, 1) 3330.4952255842754 3330.4952255842754 (1, 0) 0.0\n",
      "87 (0, 1) 3396.669902732616 3396.669902732616 (1, 0) 0.0\n",
      "88 (0, 1) 3462.8445798809553 3462.8445798809553 (1, 0) 0.0\n",
      "89 (0, 1) 3529.019257029295 3529.0192570292947 (1, 0) 4.547473508864641e-13\n",
      "90 (0, 1) 3595.193934177635 3595.193934177635 (1, 0) 0.0\n",
      "91 (0, 1) 3661.368611325974 3661.368611325974 (1, 0) 0.0\n",
      "92 (0, 1) 3727.5432884743145 3727.5432884743145 (1, 0) 0.0\n",
      "93 (0, 1) 3793.717965622654 3793.717965622654 (1, 0) 0.0\n",
      "94 (0, 1) 3859.892642770994 3859.892642770994 (1, 0) 0.0\n",
      "95 (0, 1) 3926.0673199193348 3926.0673199193343 (1, 0) 4.547473508864641e-13\n",
      "96 (0, 1) 3992.2419970676747 3992.2419970676747 (1, 0) 0.0\n",
      "97 (1, 0) 4058.416674216015 4058.416674216014 (0, 1) 9.094947017729282e-13\n",
      "98 (1, 0) 4124.5913513643545 4124.591351364354 (0, 1) 9.094947017729282e-13\n",
      "99 (1, 0) 4190.766028512694 4190.766028512693 (0, 1) 9.094947017729282e-13\n",
      "100 (1, 0) 4256.9407056610335 4256.940705661033 (0, 1) 9.094947017729282e-13\n",
      "101 (0, 1) 4323.115382809373 4323.115382809373 (1, 0) 0.0\n",
      "102 (0, 1) 4389.290059957713 4389.290059957713 (1, 0) 0.0\n",
      "103 (0, 1) 4455.464737106054 4455.464737106054 (1, 0) 0.0\n",
      "104 (0, 1) 4521.639414254393 4521.639414254393 (1, 0) 0.0\n",
      "105 (0, 1) 4587.8140914027335 4587.8140914027335 (1, 0) 0.0\n",
      "106 (0, 1) 4653.988768551073 4653.988768551073 (1, 0) 0.0\n",
      "107 (0, 1) 4720.163445699413 4720.163445699413 (1, 0) 0.0\n",
      "108 (0, 1) 4786.338122847753 4786.338122847753 (1, 0) 0.0\n",
      "109 (0, 1) 4852.512799996093 4852.512799996093 (1, 0) 0.0\n",
      "110 (0, 1) 4918.687477144434 4918.687477144433 (1, 0) 9.094947017729282e-13\n",
      "111 (0, 1) 4984.862154292773 4984.862154292773 (1, 0) 0.0\n",
      "112 (1, 0) 5051.036831441113 5051.036831441112 (0, 1) 9.094947017729282e-13\n",
      "113 (0, 1) 5117.211508589453 5117.211508589453 (1, 0) 0.0\n",
      "114 (1, 0) 5183.386185737792 5183.3861857377915 (0, 1) 9.094947017729282e-13\n",
      "115 (0, 1) 5249.560862886132 5249.560862886132 (1, 0) 0.0\n",
      "116 (1, 0) 5315.735540034472 5315.735540034471 (0, 1) 9.094947017729282e-13\n",
      "117 (1, 0) 5381.910217182813 5381.910217182812 (0, 1) 9.094947017729282e-13\n",
      "118 (1, 0) 5448.084894331153 5448.084894331152 (0, 1) 9.094947017729282e-13\n",
      "119 (0, 1) 5514.259571479492 5514.259571479492 (1, 0) 0.0\n",
      "120 (1, 0) 5580.434248627833 5580.434248627832 (0, 1) 9.094947017729282e-13\n",
      "121 (1, 0) 5646.608925776172 5646.608925776171 (0, 1) 9.094947017729282e-13\n",
      "122 (1, 0) 5712.783602924513 5712.783602924512 (0, 1) 9.094947017729282e-13\n",
      "123 (1, 0) 5778.958280072851 5778.95828007285 (0, 1) 9.094947017729282e-13\n",
      "124 (1, 0) 5845.132957221192 5845.132957221191 (0, 1) 9.094947017729282e-13\n",
      "125 (0, 1) 5911.307634369531 5911.307634369531 (1, 0) 0.0\n",
      "126 (0, 1) 5977.4823115178715 5977.4823115178715 (1, 0) 0.0\n",
      "127 (0, 1) 6043.656988666212 6043.656988666211 (1, 0) 9.094947017729282e-13\n",
      "128 (0, 1) 6109.831665814552 6109.831665814551 (1, 0) 9.094947017729282e-13\n",
      "129 (0, 1) 6176.006342962891 6176.006342962891 (1, 0) 0.0\n",
      "130 (1, 0) 6242.18102011123 6242.181020111229 (0, 1) 9.094947017729282e-13\n",
      "131 (0, 1) 6308.355697259572 6308.355697259571 (1, 0) 9.094947017729282e-13\n",
      "132 (0, 1) 6374.530374407912 6374.530374407912 (1, 0) 0.0\n",
      "133 (1, 0) 6440.7050515562505 6440.70505155625 (0, 1) 9.094947017729282e-13\n",
      "134 (0, 1) 6506.87972870459 6506.87972870459 (1, 0) 0.0\n",
      "135 (0, 1) 6573.05440585293 6573.054405852929 (1, 0) 9.094947017729282e-13\n",
      "136 (0, 1) 6639.229083001269 6639.229083001269 (1, 0) 0.0\n",
      "137 (1, 0) 6705.40376014961 6705.403760149609 (0, 1) 9.094947017729282e-13\n",
      "138 (0, 1) 6771.57843729795 6771.578437297949 (1, 0) 9.094947017729282e-13\n",
      "139 (0, 1) 6837.75311444629 6837.75311444629 (1, 0) 0.0\n",
      "140 (0, 1) 6903.9277915946295 6903.9277915946295 (1, 0) 0.0\n",
      "141 (0, 1) 6970.10246874297 6970.102468742969 (1, 0) 9.094947017729282e-13\n",
      "142 (0, 1) 7036.277145891309 7036.2771458913085 (1, 0) 9.094947017729282e-13\n",
      "143 (0, 1) 7102.45182303965 7102.45182303965 (1, 0) 0.0\n",
      "144 (0, 1) 7168.62650018799 7168.626500187989 (1, 0) 9.094947017729282e-13\n",
      "145 (0, 1) 7234.80117733633 7234.801177336329 (1, 0) 9.094947017729282e-13\n",
      "146 (0, 1) 7300.975854484668 7300.975854484668 (1, 0) 0.0\n",
      "147 (0, 1) 7367.150531633009 7367.1505316330085 (1, 0) 9.094947017729282e-13\n",
      "148 (0, 1) 7433.325208781349 7433.325208781349 (1, 0) 0.0\n",
      "149 (0, 1) 7499.499885929688 7499.499885929688 (1, 0) 0.0\n",
      "150 (0, 1) 7565.674563078029 7565.674563078029 (1, 0) 0.0\n",
      "151 (0, 1) 7631.849240226369 7631.849240226368 (1, 0) 9.094947017729282e-13\n",
      "152 (1, 0) 7698.023917374709 7698.023917374707 (0, 1) 1.8189894035458565e-12\n",
      "153 (0, 1) 7764.198594523048 7764.198594523048 (1, 0) 0.0\n",
      "154 (1, 0) 7830.3732716713885 7830.373271671388 (0, 1) 9.094947017729282e-13\n",
      "155 (0, 1) 7896.547948819728 7896.547948819728 (1, 0) 0.0\n",
      "156 (1, 0) 7962.722625968069 7962.722625968068 (0, 1) 9.094947017729282e-13\n",
      "157 (1, 0) 8028.89730311641 8028.897303116409 (0, 1) 9.094947017729282e-13\n",
      "158 (1, 0) 8095.071980264748 8095.071980264747 (0, 1) 9.094947017729282e-13\n",
      "159 (0, 1) 8161.246657413088 8161.246657413088 (1, 0) 0.0\n",
      "160 (1, 0) 8227.421334561428 8227.421334561426 (0, 1) 1.8189894035458565e-12\n",
      "161 (1, 0) 8293.596011709767 8293.596011709766 (0, 1) 1.8189894035458565e-12\n",
      "162 (0, 1) 8359.770688858107 8359.770688858107 (1, 0) 0.0\n",
      "163 (0, 1) 8425.945366006446 8425.945366006446 (1, 0) 0.0\n",
      "164 (0, 1) 8492.120043154788 8492.120043154788 (1, 0) 0.0\n",
      "165 (0, 1) 8558.294720303127 8558.294720303127 (1, 0) 0.0\n",
      "166 (1, 0) 8624.469397451468 8624.469397451467 (0, 1) 1.8189894035458565e-12\n",
      "167 (1, 0) 8690.644074599808 8690.644074599806 (0, 1) 1.8189894035458565e-12\n",
      "168 (0, 1) 8756.818751748147 8756.818751748147 (1, 0) 0.0\n",
      "169 (1, 0) 8822.993428896487 8822.993428896485 (0, 1) 1.8189894035458565e-12\n",
      "170 (0, 1) 8889.168106044826 8889.168106044826 (1, 0) 0.0\n",
      "171 (0, 1) 8955.342783193166 8955.342783193166 (1, 0) 0.0\n",
      "172 (0, 1) 9021.517460341507 9021.517460341505 (1, 0) 1.8189894035458565e-12\n",
      "173 (0, 1) 9087.692137489845 9087.692137489845 (1, 0) 0.0\n",
      "174 (0, 1) 9153.866814638186 9153.866814638186 (1, 0) 0.0\n",
      "175 (0, 1) 9220.041491786526 9220.041491786526 (1, 0) 0.0\n",
      "176 (0, 1) 9286.216168934865 9286.216168934865 (1, 0) 0.0\n",
      "177 (0, 1) 9352.390846083206 9352.390846083206 (1, 0) 0.0\n",
      "178 (1, 0) 9418.565523231546 9418.565523231544 (0, 1) 1.8189894035458565e-12\n",
      "179 (0, 1) 9484.740200379885 9484.740200379885 (1, 0) 0.0\n",
      "180 (0, 1) 9550.914877528226 9550.914877528226 (1, 0) 0.0\n",
      "181 (0, 1) 9617.089554676564 9617.089554676564 (1, 0) 0.0\n",
      "182 (1, 0) 9683.264231824905 9683.264231824904 (0, 1) 1.8189894035458565e-12\n",
      "183 (0, 1) 9749.438908973245 9749.438908973245 (1, 0) 0.0\n",
      "184 (0, 1) 9815.613586121584 9815.613586121584 (1, 0) 0.0\n",
      "185 (0, 1) 9881.788263269924 9881.788263269924 (1, 0) 0.0\n",
      "186 (0, 1) 9947.962940418263 9947.962940418263 (1, 0) 0.0\n",
      "187 (1, 0) 10014.137617566605 10014.137617566603 (0, 1) 1.8189894035458565e-12\n",
      "188 (0, 1) 10080.312294714944 10080.312294714944 (1, 0) 0.0\n",
      "189 (0, 1) 10146.486971863285 10146.486971863285 (1, 0) 0.0\n",
      "190 (1, 0) 10212.661649011625 10212.661649011623 (0, 1) 1.8189894035458565e-12\n",
      "191 (0, 1) 10278.836326159964 10278.836326159964 (1, 0) 0.0\n",
      "192 (0, 1) 10345.011003308304 10345.011003308304 (1, 0) 0.0\n",
      "193 (0, 1) 10411.185680456643 10411.185680456643 (1, 0) 0.0\n",
      "194 (0, 1) 10477.360357604985 10477.360357604983 (1, 0) 1.8189894035458565e-12\n",
      "195 (0, 1) 10543.535034753324 10543.535034753324 (1, 0) 0.0\n",
      "196 (0, 1) 10609.709711901663 10609.709711901663 (1, 0) 0.0\n",
      "197 (0, 1) 10675.884389050003 10675.884389050003 (1, 0) 0.0\n",
      "198 (0, 1) 10742.059066198342 10742.059066198342 (1, 0) 0.0\n",
      "199 (0, 1) 10808.233743346682 10808.233743346682 (1, 0) 0.0\n"
     ]
    }
   ],
   "source": [
    "for i in range(200):\n",
    "    print(i, carteira(case_b1,case_corr_b1,i)[0],carteira(case_b1,case_corr_b1,i)[1],carteira(case_b1,case_corr_b1,i)[3],carteira(case_b1,case_corr_b1,i)[2], carteira(case_b1,case_corr_b1,i)[4])"
   ]
  },
  {
   "cell_type": "code",
   "execution_count": 75,
   "metadata": {},
   "outputs": [],
   "source": [
    "winsound.Beep(freq, duration)"
   ]
  },
  {
   "cell_type": "code",
   "execution_count": null,
   "metadata": {},
   "outputs": [],
   "source": [
    "#######################################\n",
    "####Exportar\n",
    "#########"
   ]
  },
  {
   "cell_type": "code",
   "execution_count": 195,
   "metadata": {},
   "outputs": [],
   "source": [
    "np.savetxt('Opcao_portf_h_dog_expandido.txt',solucao_b1[4][0,:])"
   ]
  },
  {
   "cell_type": "code",
   "execution_count": 194,
   "metadata": {},
   "outputs": [],
   "source": [
    "np.savetxt('Preco_portf_h_dog_expandido.txt',solucao_b1[3])"
   ]
  },
  {
   "cell_type": "code",
   "execution_count": 55,
   "metadata": {},
   "outputs": [],
   "source": [
    "#################################\n",
    "#######Individuais  e B2############"
   ]
  },
  {
   "cell_type": "code",
   "execution_count": null,
   "metadata": {},
   "outputs": [],
   "source": []
  },
  {
   "cell_type": "code",
   "execution_count": null,
   "metadata": {},
   "outputs": [],
   "source": []
  },
  {
   "cell_type": "code",
   "execution_count": 287,
   "metadata": {},
   "outputs": [],
   "source": [
    "################################################33\n",
    "###########Modelo de Competicao#################\n"
   ]
  },
  {
   "cell_type": "code",
   "execution_count": null,
   "metadata": {},
   "outputs": [],
   "source": []
  },
  {
   "cell_type": "code",
   "execution_count": 466,
   "metadata": {},
   "outputs": [
    {
     "data": {
      "text/html": [
       "<div>\n",
       "<style scoped>\n",
       "    .dataframe tbody tr th:only-of-type {\n",
       "        vertical-align: middle;\n",
       "    }\n",
       "\n",
       "    .dataframe tbody tr th {\n",
       "        vertical-align: top;\n",
       "    }\n",
       "\n",
       "    .dataframe thead th {\n",
       "        text-align: right;\n",
       "    }\n",
       "</style>\n",
       "<table border=\"1\" class=\"dataframe\">\n",
       "  <thead>\n",
       "    <tr style=\"text-align: right;\">\n",
       "      <th>Type</th>\n",
       "      <th>Payara</th>\n",
       "      <th>Pluma</th>\n",
       "      <th>LongTail</th>\n",
       "    </tr>\n",
       "  </thead>\n",
       "  <tbody>\n",
       "    <tr>\n",
       "      <td>CF</td>\n",
       "      <td>0.30</td>\n",
       "      <td>0.25</td>\n",
       "      <td>0.20</td>\n",
       "    </tr>\n",
       "    <tr>\n",
       "      <td>I_w</td>\n",
       "      <td>80.00</td>\n",
       "      <td>60.00</td>\n",
       "      <td>80.00</td>\n",
       "    </tr>\n",
       "    <tr>\n",
       "      <td>q</td>\n",
       "      <td>0.15</td>\n",
       "      <td>0.14</td>\n",
       "      <td>0.15</td>\n",
       "    </tr>\n",
       "    <tr>\n",
       "      <td>B</td>\n",
       "      <td>450.00</td>\n",
       "      <td>400.00</td>\n",
       "      <td>500.00</td>\n",
       "    </tr>\n",
       "    <tr>\n",
       "      <td>Owner</td>\n",
       "      <td>1.00</td>\n",
       "      <td>1.00</td>\n",
       "      <td>0.00</td>\n",
       "    </tr>\n",
       "  </tbody>\n",
       "</table>\n",
       "</div>"
      ],
      "text/plain": [
       "Type   Payara   Pluma  LongTail\n",
       "CF       0.30    0.25      0.20\n",
       "I_w     80.00   60.00     80.00\n",
       "q        0.15    0.14      0.15\n",
       "B      450.00  400.00    500.00\n",
       "Owner    1.00    1.00      0.00"
      ]
     },
     "execution_count": 466,
     "metadata": {},
     "output_type": "execute_result"
    }
   ],
   "source": [
    "#Importar Case 2 ou ABC ou ABCD como case \n",
    "case=pd.read_csv(\"Case_Guy.csv\", sep=';')\n",
    "case.set_index('Type', inplace=True)\n",
    "case.Owner=case.Owner.astype(int)\n",
    "case=case.astype(float).T\n",
    "case"
   ]
  },
  {
   "cell_type": "code",
   "execution_count": 467,
   "metadata": {},
   "outputs": [
    {
     "data": {
      "text/html": [
       "<div>\n",
       "<style scoped>\n",
       "    .dataframe tbody tr th:only-of-type {\n",
       "        vertical-align: middle;\n",
       "    }\n",
       "\n",
       "    .dataframe tbody tr th {\n",
       "        vertical-align: top;\n",
       "    }\n",
       "\n",
       "    .dataframe thead th {\n",
       "        text-align: right;\n",
       "    }\n",
       "</style>\n",
       "<table border=\"1\" class=\"dataframe\">\n",
       "  <thead>\n",
       "    <tr style=\"text-align: right;\">\n",
       "      <th></th>\n",
       "      <th>Payara</th>\n",
       "      <th>Pluma</th>\n",
       "      <th>LongTail</th>\n",
       "    </tr>\n",
       "    <tr>\n",
       "      <th>Type</th>\n",
       "      <th></th>\n",
       "      <th></th>\n",
       "      <th></th>\n",
       "    </tr>\n",
       "  </thead>\n",
       "  <tbody>\n",
       "    <tr>\n",
       "      <td>Payara</td>\n",
       "      <td>1.0</td>\n",
       "      <td>0.6</td>\n",
       "      <td>0.5</td>\n",
       "    </tr>\n",
       "    <tr>\n",
       "      <td>Pluma</td>\n",
       "      <td>0.6</td>\n",
       "      <td>1.0</td>\n",
       "      <td>0.6</td>\n",
       "    </tr>\n",
       "    <tr>\n",
       "      <td>LongTail</td>\n",
       "      <td>0.5</td>\n",
       "      <td>0.6</td>\n",
       "      <td>1.0</td>\n",
       "    </tr>\n",
       "  </tbody>\n",
       "</table>\n",
       "</div>"
      ],
      "text/plain": [
       "          Payara  Pluma  LongTail\n",
       "Type                             \n",
       "Payara       1.0    0.6       0.5\n",
       "Pluma        0.6    1.0       0.6\n",
       "LongTail     0.5    0.6       1.0"
      ]
     },
     "execution_count": 467,
     "metadata": {},
     "output_type": "execute_result"
    }
   ],
   "source": [
    "#Importar correlacao Case 2 ou ABC ou ABCD como case\n",
    "case_corr=pd.read_csv(\"Case_Guy_corr.csv\", sep=';')\n",
    "case_corr.set_index('Type', inplace=True)\n",
    "case_corr\n"
   ]
  },
  {
   "cell_type": "code",
   "execution_count": null,
   "metadata": {},
   "outputs": [],
   "source": [
    "#############################################"
   ]
  },
  {
   "cell_type": "code",
   "execution_count": null,
   "metadata": {},
   "outputs": [],
   "source": []
  },
  {
   "cell_type": "code",
   "execution_count": 465,
   "metadata": {},
   "outputs": [
    {
     "name": "stdout",
     "output_type": "stream",
     "text": [
      "melhor portfolio é: (0, 1) e o valor é: 160.74677831484792 [160.74677831484792, 0.0]\n"
     ]
    }
   ],
   "source": [
    "#################Formalizacao caso - com competição   \n",
    "\n",
    "####Separação do ativo do vizinho -Caso bem particular onde há um só ativo e \n",
    "sinal=1  #sinal up igual a 1 e sinal down igual a 0\n",
    "stra_rho=[]\n",
    "stra_rho.append(case_corr[case.columns[case.loc['Owner']==0]].iloc[0,0])\n",
    "stra_rho.append(case_corr[case.columns[case.loc['Owner']==0]].iloc[1,0])\n",
    "\n",
    "FC_viz=case[case.columns[case.loc['Owner']==0]].iloc[0,0]\n",
    "\n",
    "case_corr=case_corr.drop(case_corr[case.columns[case.loc['Owner']==0]])\n",
    "case_corr=case_corr.drop(case_corr[case.columns[case.loc['Owner']==0]],axis=1)\n",
    "\n",
    "\n",
    "case=case.drop(case[case.columns[case.loc['Owner']==0]],axis=1)\n",
    "\n",
    "\n",
    "\n",
    "\n",
    "                         \n",
    "                         \n",
    "fold=[]\n",
    "seq=[]\n",
    "P=50\n",
    "n=case.shape[1]\n",
    "perm=itertools.permutations(range(n))\n",
    "for k in list(perm):\n",
    "    seq.append(k)\n",
    "    #print(k)\n",
    "    m=np.zeros((2**(n-1),n))\n",
    "    p=np.zeros((2**(n-1),n))\n",
    "    pi=np.zeros((2**(n-1),n))\n",
    "    m[m==0]=np.nan\n",
    "    p[m==0]=np.nan\n",
    "    pi[pi==0]=np.nan\n",
    "    \n",
    "                         \n",
    "    #m[0,0]=case.iloc[0,k[0]] ### Capta da permutacao, o fc da Primeira na ordem de perfuracao\n",
    "    #pi[0,0]=m[0,0]*(V(P,case,0) - I(P,case,0)) -case.iloc[1,k[0]]\n",
    "    \n",
    "    if sinal==1:\n",
    "        \n",
    "        m[0,0]=case.iloc[0,k[0]] + stra_rho[k[0]]*np.sqrt(FC_viz*(1-FC_viz)*case.iloc[0,k[0]]*(1-case.iloc[0,k[0]]))/FC_viz \n",
    "        pi[0,0]=m[0,0]*(V(P,case,0) - I(case,0)) -case.iloc[1,k[0]]\n",
    "        #print(1,m[0,0],pi[0,0])\n",
    "    \n",
    "    elif sinal==0:\n",
    "        print(0)\n",
    "        m[0,0]=case.iloc[0,k[0]] - stra_rho[k[0]]*np.sqrt(FC_viz*(1-FC_viz)*case.iloc[0,k[0]]*(1-case.iloc[0,k[0]]))/(1-FC_viz) \n",
    "        pi[0,0]=m[0,0]*(V(P,case,0) - I(case,0)) -case.iloc[1,k[0]]\n",
    "        #print(0,m[0,0],pi[0,0])\n",
    "                         \n",
    "    else:\n",
    "        print(2)\n",
    "        m[0,0]=case.iloc[0,k[0]] ### Capta da permutacao, o fc da Primeira na ordem de perfuracao\n",
    "        pi[0,0]=m[0,0]*(V(P,case,0) - I(case,0)) -case.iloc[1,k[0]]\n",
    "        #print(2,m[0,0],pi[0,0])\n",
    "        \n",
    "    \n",
    "    \n",
    "                         \n",
    "                         \n",
    "    #Vetores Auxiliares\n",
    "    Ax_m=[]\n",
    "    Ax1_m=[]\n",
    "    Ax_pi=[]\n",
    "    Ax_lim=[]\n",
    "    ##Loop para criacao da matriz de FC e VME\n",
    "    for y in range(1,n,1):\n",
    "        Ax_m.append(case.iloc[0,k[y]])\n",
    "    \n",
    "    \n",
    "    for j in range(n-1):\n",
    "        p=0\n",
    "        for q in range(1+j,n,1):\n",
    "            for i in range(2**(j)):\n",
    "                p=p+1\n",
    "                #print(p-1,j,q,i,j)\n",
    "                CF_s=Ax_m[p-1] +case_corr.iloc[k[j],k[q]]*np.sqrt((m[i,j]-m[i,j]**2)*(Ax_m[p-1]-Ax_m[p-1]**2))/m[i,j]\n",
    "                Ax1_m.append(CF_s)\n",
    "                CF_ins=Ax_m[p-1] -case_corr.iloc[k[j],k[q]]*np.sqrt((m[i,j]-m[i,j]**2)*(Ax_m[p-1]-Ax_m[p-1]**2))/(1-m[i,j])\n",
    "                Ax1_m.append(CF_ins)\n",
    "                \n",
    "                Ax_pi.append(CF_s*(V(P,case,j+1) - I(case,j+1)) -case.iloc[1,k[j+1]])\n",
    "                Ax_pi.append(CF_ins*(V(P,case,j+1) - I(case,j+1)) -case.iloc[1,k[j+1]])\n",
    "                \n",
    "                a=np.minimum(Ax_m[p-1],m[i,j])*(1-np.maximum(Ax_m[p-1],m[i,j]))\n",
    "                b=np.maximum(Ax_m[p-1],m[i,j])*(1-np.minimum(Ax_m[p-1],m[i,j]))\n",
    "                Ax_lim.append(np.sqrt(a/b)>case_corr.iloc[k[j],k[q]])\n",
    "                \n",
    "                a=-np.sqrt(Ax_m[p-1]*m[i,j]/(1-Ax_m[p-1])*(1-m[i,j]))\n",
    "                b=-np.sqrt((1-Ax_m[p-1])*(1-m[i,j])/Ax_m[p-1]*m[i,j])\n",
    "                Ax_lim.append(np.maximum(a,b)<case_corr.iloc[k[j],k[q]])\n",
    "                \n",
    "\n",
    "        m[0:2*(i+1),j+1]=Ax1_m[0:2*(i+1)]\n",
    "        pi[0:2*(i+1),j+1]=Ax_pi[0:2*(i+1)]\n",
    "        \n",
    "        del Ax1_m[0:2*(i+1)]\n",
    "        \n",
    "        #print(Ax_lim)\n",
    "        Ax_m=Ax1_m\n",
    "        Ax1_m=[]\n",
    "        Ax_pi=[]\n",
    "        Ax_lim=[]\n",
    "    \n",
    "   # print(100*m)\n",
    "    #print(pi)\n",
    "    \n",
    "    for l in np.arange(n-2,-1,-1):\n",
    "        #print(l)\n",
    "        for g in range(2**(l)):\n",
    "            #print(pi[g,l],m[g,l], pi[2*g,l+1],(1-m[g,l]), pi[2*g+1,l+1]   )\n",
    "            pi[g,l]= np.maximum(0,pi[g,l] + m[g,l]*np.maximum(0,pi[2*g,l+1]) + (1-m[g,l])*np.maximum(0,pi[2*g+1,l+1]))\n",
    "    #print(pi)\n",
    "    fold.append(pi[0,0])\n",
    "    \n",
    "\n",
    "###Fornece o melhor portfolio seq_winner e o valor do porfolio winner\n",
    "winner=np.amax(fold)\n",
    "Seq_winner=seq[np.argmax(fold)]\n",
    "winner=np.maximum(0,winner)\n",
    "if winner==0:\n",
    "    Seq_winner='W'\n",
    "\n",
    "    \n",
    "    \n",
    "            \n",
    "\n",
    "    #print(fold)\n",
    "    #print(m)\n",
    "print('melhor portfolio é:',Seq_winner, 'e o valor é:', winner, fold)\n",
    "#print(fold)\n",
    "    \n",
    "    \n",
    "    \n",
    "    \n",
    "    \n",
    "    "
   ]
  },
  {
   "cell_type": "code",
   "execution_count": null,
   "metadata": {},
   "outputs": [],
   "source": []
  },
  {
   "cell_type": "code",
   "execution_count": 197,
   "metadata": {},
   "outputs": [
    {
     "name": "stdout",
     "output_type": "stream",
     "text": [
      "up: melhor portfolio é: (1, 0) e o valor é: 105.52316521446231 [92.60790195949767, 105.52316521446231]\n"
     ]
    }
   ],
   "source": [
    "print('up: melhor portfolio é: (1, 0) e o valor é: 105.52316521446231 [92.60790195949767, 105.52316521446231]')"
   ]
  },
  {
   "cell_type": "code",
   "execution_count": 202,
   "metadata": {},
   "outputs": [
    {
     "name": "stdout",
     "output_type": "stream",
     "text": [
      "down: melhor portfolio é: W e o valor é: 0.0 [0.0, 0.0]\n"
     ]
    }
   ],
   "source": [
    "print('down: melhor portfolio é: W e o valor é: 0.0 [0.0, 0.0]')"
   ]
  },
  {
   "cell_type": "code",
   "execution_count": 207,
   "metadata": {},
   "outputs": [
    {
     "name": "stdout",
     "output_type": "stream",
     "text": [
      "01: melhor portfolio é: (1, 0) e o valor é: 7.343134832984433 [6.843134832984429, 7.343134832984433]\n"
     ]
    }
   ],
   "source": [
    "print('01: melhor portfolio é: (1, 0) e o valor é: 7.343134832984433 [6.843134832984429, 7.343134832984433]')"
   ]
  },
  {
   "cell_type": "code",
   "execution_count": 435,
   "metadata": {},
   "outputs": [],
   "source": [
    "def carteira_estra(case,case_corr,P,sinal):\n",
    "    #################Formalizacao caso 4 - correto\n",
    "    \n",
    "    sinal=1  #sinal up igual a 1 e sinal down igual a 0\n",
    "    stra_rho=[]\n",
    "    stra_rho.append(case_corr[case.columns[case.loc['Owner']==0]].iloc[0,0])\n",
    "    stra_rho.append(case_corr[case.columns[case.loc['Owner']==0]].iloc[1,0])\n",
    "\n",
    "    FC_viz=case[case.columns[case.loc['Owner']==0]].iloc[0,0]\n",
    "    \n",
    "    case_corr=case_corr.drop(case_corr[case.columns[case.loc['Owner']==0]])\n",
    "    case_corr=case_corr.drop(case_corr[case.columns[case.loc['Owner']==0]],axis=1)\n",
    "\n",
    "\n",
    "    case=case.drop(case[case.columns[case.loc['Owner']==0]],axis=1)\n",
    "\n",
    "    \n",
    "    \n",
    "    \n",
    "    fold=[]\n",
    "    seq=[]\n",
    "    #P=50\n",
    "    n=case.shape[1]\n",
    "    perm=itertools.permutations(range(n))\n",
    "    for k in list(perm):\n",
    "        seq.append(k)\n",
    "        #print(k)\n",
    "        m=np.zeros((2**(n-1),n))\n",
    "        p=np.zeros((2**(n-1),n))\n",
    "        pi=np.zeros((2**(n-1),n))\n",
    "        m[m==0]=np.nan\n",
    "        p[m==0]=np.nan\n",
    "        pi[pi==0]=np.nan\n",
    "        \n",
    "        \n",
    "        if sinal==1:\n",
    "            m[0,0]=case.iloc[0,k[0]] + stra_rho[k[0]]*np.sqrt(FC_viz*(1-FC_viz)*case.iloc[0,k[0]]*(1-case.iloc[0,k[0]]))/FC_viz \n",
    "            pi[0,0]=m[0,0]*(P*case.iloc[2,k[0]]*case.iloc[3,k[0]] - (5.35*case.iloc[3,k[0]]+650)) -case.iloc[1,k[0]]\n",
    "        \n",
    "        elif sinal==0:\n",
    "            m[0,0]=case.iloc[0,k[0]] - stra_rho[k[0]]*np.sqrt(FC_viz*(1-FC_viz)*case.iloc[0,k[0]]*(1-case.iloc[0,k[0]]))/(1-FC_viz) \n",
    "            pi[0,0]=m[0,0]*(P*case.iloc[2,k[0]]*case.iloc[3,k[0]] - (5.35*case.iloc[3,k[0]]+650)) -case.iloc[1,k[0]]\n",
    "        \n",
    "        else:\n",
    "            #print(2)\n",
    "            m[0,0]=case.iloc[0,k[0]] ### Capta da permutacao, o fc da Primeira na ordem de perfuracao\n",
    "            pi[0,0]=m[0,0]*(P*case.iloc[2,k[0]]*case.iloc[3,k[0]] - (5.35*case.iloc[5,k[0]]+650)) -case.iloc[1,k[0]]\n",
    "        \n",
    "\n",
    "        \n",
    "\n",
    "        #Vetores Auxiliares\n",
    "        Ax_m=[]\n",
    "        Ax1_m=[]\n",
    "        Ax_pi=[]\n",
    "        ##Loop para criacao da matriz de FC e VME\n",
    "        for y in range(1,n,1):\n",
    "            Ax_m.append(case.iloc[0,k[y]])\n",
    "\n",
    "\n",
    "        for j in range(n-1):\n",
    "            p=0\n",
    "            for q in range(1+j,n,1):\n",
    "                for i in range(2**(j)):\n",
    "                    p=p+1\n",
    "                    #print(p-1,j,q,i,j)\n",
    "                    CF_s=Ax_m[p-1] +case_corr.iloc[k[j],k[q]]*np.sqrt((m[i,j]-m[i,j]**2)*(Ax_m[p-1]-Ax_m[p-1]**2))/m[i,j]\n",
    "                    Ax1_m.append(CF_s)\n",
    "                    CF_ins=Ax_m[p-1] -case_corr.iloc[k[j],k[q]]*np.sqrt((m[i,j]-m[i,j]**2)*(Ax_m[p-1]-Ax_m[p-1]**2))/(1-m[i,j])\n",
    "                    Ax1_m.append(CF_ins)\n",
    "\n",
    "                    Ax_pi.append(CF_s*(P*case.iloc[2,k[j+1]]*case.iloc[3,k[j+1]] - (5.35*case.iloc[3,k[j+1]]+650)) -case.iloc[1,k[j+1]])\n",
    "                    Ax_pi.append(CF_ins*(P*case.iloc[2,k[j+1]]*case.iloc[3,k[j+1]] - (5.35*case.iloc[3,k[j+1]]+650)) -case.iloc[1,k[j+1]])\n",
    "\n",
    "\n",
    "            m[0:2*(i+1),j+1]=Ax1_m[0:2*(i+1)]\n",
    "            pi[0:2*(i+1),j+1]=Ax_pi[0:2*(i+1)]\n",
    "\n",
    "            del Ax1_m[0:2*(i+1)]\n",
    "\n",
    "            Ax_m=Ax1_m\n",
    "            Ax1_m=[]\n",
    "            Ax_pi=[]\n",
    "\n",
    "        #print(100*m)\n",
    "        #print(pi)\n",
    "\n",
    "        for l in np.arange(n-2,-1,-1):\n",
    "            #print(l)\n",
    "            for g in range(2**(l)):\n",
    "                #print(pi[g,l],m[g,l], pi[2*g,l+1],(1-m[g,l]), pi[2*g+1,l+1]   )\n",
    "                pi[g,l]= np.maximum(0,pi[g,l] + m[g,l]*np.maximum(0,pi[2*g,l+1]) + (1-m[g,l])*np.maximum(0,pi[2*g+1,l+1]))\n",
    "        #print(pi)\n",
    "        fold.append(pi[0,0])\n",
    "\n",
    "\n",
    "    ###Fornece o melhor portfolio seq_winner e o valor do porfolio winner\n",
    "    winner=np.amax(fold)\n",
    "    Seq_winner=seq[np.argmax(fold)]\n",
    "    winner=np.maximum(0,winner)\n",
    "    if winner==0:\n",
    "        Seq_winner='W'\n",
    "\n",
    "\n",
    "\n",
    "\n",
    "\n",
    "        #print(fold)\n",
    "        #print(m)\n",
    "    #print('melhor portfolio é:',Seq_winner, 'e o valor é:', winner, fold)\n",
    "    #print(fold)\n",
    "    return[Seq_winner,winner,fold]\n",
    "\n",
    "\n",
    "\n",
    "\n",
    "\n"
   ]
  },
  {
   "cell_type": "code",
   "execution_count": 436,
   "metadata": {},
   "outputs": [
    {
     "data": {
      "text/plain": [
       "[(0, 1), 160.74677831484792, [160.74677831484792, 0.0]]"
      ]
     },
     "execution_count": 436,
     "metadata": {},
     "output_type": "execute_result"
    }
   ],
   "source": [
    "carteira_estra(case,case_corr,50,1)"
   ]
  },
  {
   "cell_type": "code",
   "execution_count": 285,
   "metadata": {},
   "outputs": [
    {
     "data": {
      "text/plain": [
       "14.011472926007304"
      ]
     },
     "execution_count": 285,
     "metadata": {},
     "output_type": "execute_result"
    }
   ],
   "source": [
    "diffinexpcart(case,case_corr,50,r,delta,sigma,tau)[0]"
   ]
  },
  {
   "cell_type": "code",
   "execution_count": 286,
   "metadata": {},
   "outputs": [],
   "source": [
    "def diffinexpcartestra(case,case_corr,sinal,P,r,div,sigma,tau):\n",
    "    #############################################################\n",
    "    #######Método por diferenças finitas explícitas##############\n",
    "    accur=0.05  #Porcentagem de acurácia\n",
    "    \n",
    "    #####Solução por diferenças finita explícitas###\n",
    "    #Precisão em e intervalo da célula em V\n",
    "    deltaP=P*accur\n",
    "    \n",
    "    # M são as divisões do grid em V\n",
    "    #Perpetuidade vcritico não esta na programacao\n",
    "    #M= int(1.1*vcritico(I,r,div,sigma,tau)[2]/deltaV) # Max é 10% acima do gatilho em perpetuidade. Vcrit- com gati precisa de tau\n",
    "    Pmax=4*P\n",
    "    M=int(Pmax/deltaP)\n",
    "    PGrid=int(P/deltaP) #Ponto do grid onde esta P_0. \n",
    "    \n",
    "    #deltat= (deltaP**2)/((sigma**2)*((3*I)**2)) #Convergência: Critério do peso central >=0. Pmax=3I ><1.1Gatilho_perp\n",
    "    deltat= (deltaP**2)/((sigma**2)*(Pmax**2))\n",
    "    N= int(tau/deltat) +1\n",
    "    \n",
    "    df=1/(1+(r*deltat)) # fator de desconto\n",
    "    \n",
    "    \n",
    "    #Vetor Pt\n",
    "    Pt=np.zeros(M+1)\n",
    "    Gatilho=np.zeros((N+1,M+1), dtype=object)\n",
    "    F=np.zeros((N+1,M+1))\n",
    "    deltat=tau/N\n",
    "    for i in range(M+1):\n",
    "        Pt[i]= i*deltaP\n",
    "        solution=carteira_estra(case,case_ABC_corr,Pt[i],sinal)\n",
    "        F[N,i]=solution[1]\n",
    "        #print(solution[0])\n",
    "        Gatilho[N,i]=solution[0]\n",
    "        #F[N,i]=np.maximum(0,Pt[i]-I)\n",
    "    #Gatilho[N]=I\n",
    "    \n",
    "    ##############Loop################\n",
    "    for j in range(N-1,-1,-1): #de N-1 até zero(-1) pulando em -1\n",
    "        for i in range(1,M,1): # de 1 até M-1 pulando em 1\n",
    "            pu= 0.5*((sigma**2)*(i**2) + ((r - div)*i))*deltat\n",
    "            pm = 1 - (sigma**2)*(i**2)*deltat\n",
    "            pdown = 0.5*((sigma**2)*(i**2) - ((r - div)*i))*deltat\n",
    "            F[j,i]= df*(pu*F[j+1,i+1] + pm*F[j+1,i] + pdown*F[j+1,i - 1])\n",
    "            \n",
    "            ###Vetor Gatilho####\n",
    "            #if F[j,i]< Vt[i]-I and F[j,i-1]>Pt[i-1]-I:\n",
    "            #    Gatilho[j]=(Pt[i]+Vt[i-1])/2\n",
    "            \n",
    "            solution=carteira_estra(case,case_corr,Pt[i],sinal)\n",
    "            if F[j,i]>=solution[1]: #opcao americana e gatilho\n",
    "                Gatilho[j,i]='W'\n",
    "            else:\n",
    "                Gatilho[j,i]=solution[0]\n",
    "                F[j,i]=solution[1]\n",
    "        \n",
    "        \n",
    "        F[j,0]=0\n",
    "        Gatilho[j,0]='W'\n",
    "        solution=carteira_estra(case,case_corr,Pt[i],sinal)\n",
    "        F[j,M]=solution[1]\n",
    "        Gatilho[j,M]=solution[0]\n",
    "        \n",
    "    T=np.linspace(0,tau,num=N+1)\n",
    "    \n",
    "    ###############Dataframe do Gatilho##############\n",
    "    #print(Gatilho.shape[0])\n",
    "    dframe=pd.DataFrame(list(range(Gatilho.shape[0])))\n",
    "    dframe.columns=['Time']\n",
    "    dframe= dframe.set_index('Time')\n",
    "\n",
    "    for i in range(Gatilho.shape[0]):\n",
    "        check=Gatilho[i,0]\n",
    "        for j in range(Gatilho.shape[1]):\n",
    "            if check == Gatilho[i,j]:\n",
    "                check=check\n",
    "            else:\n",
    "                #print(i,j,'{}'.format(check),Gatilho[i,j],j)\n",
    "                dframe.loc[i,'{}'.format(Gatilho[i,j])]=Pt[j]\n",
    "                check=Gatilho[i,j]\n",
    "    dframe.index=T\n",
    "    \n",
    "    ###Retorna A opção hoje, Gatilho, Tempo, Vt, Matrix para Gráficos\n",
    "    return[F[0,PGrid],dframe,T,Pt,F]\n",
    "\n"
   ]
  },
  {
   "cell_type": "code",
   "execution_count": 321,
   "metadata": {},
   "outputs": [],
   "source": [
    "def diffinexp(case,V,r,div,sigma,tau):\n",
    "    #############################################################\n",
    "    #######Método por diferenças finitas explícitas##############\n",
    "    accur=0.1  #Porcentagem de acurácia\n",
    "    \n",
    "    #####Solução por diferenças finita explícitas###\n",
    "    #Precisão em e intervalo da célula em V\n",
    "    deltaV=V*accur\n",
    "    \n",
    "    # M são as divisões do grid em V\n",
    "    #forcei a barra- coloque 3 vezes a V de perpetuidade. Estava 1,1 \n",
    "    Vmax=4*V\n",
    "    M= int(Vmax/deltaV) # Max é 10% acima do gatilho em perpetuidade. Vcrit- com gati precisa de tau\n",
    "    VGrid=int(V/deltaV) #Ponto do grid onde esta V_0. \n",
    "    deltat= (deltaV**2)/((sigma**2)*(Vmax**2)) #Convergência: Critério do peso central >=0. Vmax=3I ><1.1Gatilho_perp\n",
    "    N= int(tau/deltat) +1\n",
    "    \n",
    "    df=1/(1+(r*deltat)) # fator de desconto\n",
    "    \n",
    "    #Vetor Vt\n",
    "    Vt=np.zeros(M+1)\n",
    "    Gatilho=np.zeros(N+1)\n",
    "    F=np.zeros((N+1,M+1))\n",
    "    deltat=tau/N\n",
    "    for i in range(M+1):\n",
    "        Vt[i]= i*deltaV\n",
    "        #F[N,i]=np.maximum(0,Vt[i]-I)\n",
    "        F[N,i]=np.maximum(0,caseR.iloc[0,0]*(Vt[i]*case.iloc[3,0]*case.iloc[4,0] - (Vt[i]/50)*case.iloc[5,0]) -case.iloc[1,0])\n",
    "    Gatilho[N]=caseR.iloc[0,0]*(Vt[i]/50)*case.iloc[5,0] + case.iloc[1,0]\n",
    "    \n",
    "    ##############Loop################\n",
    "    for j in range(N-1,-1,-1): #de N-1 até zero(-1) pulando em -1\n",
    "        for i in range(1,M,1): # de 1 até M-1 pulando em 1\n",
    "            pu= 0.5*((sigma**2)*(i**2) + ((r - div)*i))*deltat\n",
    "            pm = 1 - (sigma**2)*(i**2)*deltat\n",
    "            pd = 0.5*((sigma**2)*(i**2) - ((r - div)*i))*deltat\n",
    "            F[j,i]= df*(pu*F[j+1,i+1] + pm*F[j+1,i] + pd*F[j+1,i - 1])\n",
    "            \n",
    "            ###Vetor Gatilho####\n",
    "            if F[j,i]< caseR.iloc[0,0]*(Vt[i]*case.iloc[3,0]*case.iloc[4,0] - (Vt[i]/50)*case.iloc[5,0]) -case.iloc[1,0] and F[j,i-1]>caseR.iloc[0,0]*(Vt[i-1]*case.iloc[3,0]*case.iloc[4,0] - (Vt[i-1]/50)*case.iloc[5,0]) -case.iloc[1,0]:\n",
    "                Gatilho[j]=(Vt[i]+Vt[i-1])/2\n",
    "            \n",
    "            F[j,i]=np.maximum(caseR.iloc[0,0]*(Vt[i]*case.iloc[3,0]*case.iloc[4,0] - (Vt[i]/50)*case.iloc[5,0]) -case.iloc[1,0], F[j,i])  #opção americana\n",
    "        \n",
    "        \n",
    "        F[j,0]=0\n",
    "        F[j,M]=caseR.iloc[0,0]*(Vt[i]*case.iloc[3,0]*case.iloc[4,0] - (Vt[i]/50)*case.iloc[5,0]) -case.iloc[1,0]\n",
    "        \n",
    "        \n",
    "    T=np.linspace(0,tau,num=len(Gatilho))\n",
    "    \n",
    "    ###Retorna A opção hoje, Gatilho, Tempo, Vt, Matrix para Gráficos\n",
    "    return[F[0,VGrid],Gatilho,T,Vt,F]\n",
    "\n"
   ]
  },
  {
   "cell_type": "code",
   "execution_count": 301,
   "metadata": {},
   "outputs": [
    {
     "name": "stdout",
     "output_type": "stream",
     "text": [
      "14.011472926007304\n"
     ]
    }
   ],
   "source": [
    "start=time.time()\n",
    "\n",
    "r2=diffinexpcartestra(case,case_corr,2,50,r,delta,sigma,tau)\n",
    "print(r2[0])"
   ]
  },
  {
   "cell_type": "code",
   "execution_count": 302,
   "metadata": {},
   "outputs": [],
   "source": [
    "r1=diffinexpcartestra(case,case_corr,1,50,r,delta,sigma,tau)"
   ]
  },
  {
   "cell_type": "code",
   "execution_count": 303,
   "metadata": {},
   "outputs": [],
   "source": [
    "r0=diffinexpcartestra(case,case_corr,0,50,r,delta,sigma,tau)"
   ]
  },
  {
   "cell_type": "code",
   "execution_count": 304,
   "metadata": {},
   "outputs": [
    {
     "data": {
      "text/plain": [
       "23.248679387511107"
      ]
     },
     "execution_count": 304,
     "metadata": {},
     "output_type": "execute_result"
    }
   ],
   "source": [
    "FC_viz*r1[0] + (1-FC_viz)*r0[0]"
   ]
  },
  {
   "cell_type": "code",
   "execution_count": 305,
   "metadata": {},
   "outputs": [
    {
     "name": "stdout",
     "output_type": "stream",
     "text": [
      "minutos- 34.52971352338791\n"
     ]
    }
   ],
   "source": [
    "cpu=time.time()-start\n",
    "print('minutos-',cpu/60)\n"
   ]
  },
  {
   "cell_type": "code",
   "execution_count": 330,
   "metadata": {},
   "outputs": [
    {
     "name": "stdout",
     "output_type": "stream",
     "text": [
      "minutos- 7.226902592182159\n"
     ]
    }
   ],
   "source": [
    "start=time.time()\n",
    "rabc=diffinexpcart(case_ABC,case_ABC_corr,50,r,delta,sigma,tau)\n",
    "cpu=time.time()-start\n",
    "print('minutos-',cpu/60)\n"
   ]
  },
  {
   "cell_type": "code",
   "execution_count": null,
   "metadata": {},
   "outputs": [],
   "source": []
  },
  {
   "cell_type": "code",
   "execution_count": 325,
   "metadata": {},
   "outputs": [
    {
     "data": {
      "text/html": [
       "<div>\n",
       "<style scoped>\n",
       "    .dataframe tbody tr th:only-of-type {\n",
       "        vertical-align: middle;\n",
       "    }\n",
       "\n",
       "    .dataframe tbody tr th {\n",
       "        vertical-align: top;\n",
       "    }\n",
       "\n",
       "    .dataframe thead th {\n",
       "        text-align: right;\n",
       "    }\n",
       "</style>\n",
       "<table border=\"1\" class=\"dataframe\">\n",
       "  <thead>\n",
       "    <tr style=\"text-align: right;\">\n",
       "      <th>Type</th>\n",
       "      <th>R</th>\n",
       "    </tr>\n",
       "  </thead>\n",
       "  <tbody>\n",
       "    <tr>\n",
       "      <td>CF</td>\n",
       "      <td>0.20</td>\n",
       "    </tr>\n",
       "    <tr>\n",
       "      <td>I_w</td>\n",
       "      <td>50.00</td>\n",
       "    </tr>\n",
       "    <tr>\n",
       "      <td>P</td>\n",
       "      <td>50.00</td>\n",
       "    </tr>\n",
       "    <tr>\n",
       "      <td>q</td>\n",
       "      <td>0.12</td>\n",
       "    </tr>\n",
       "    <tr>\n",
       "      <td>B</td>\n",
       "      <td>700.00</td>\n",
       "    </tr>\n",
       "    <tr>\n",
       "      <td>I_d</td>\n",
       "      <td>4000.00</td>\n",
       "    </tr>\n",
       "    <tr>\n",
       "      <td>Owner</td>\n",
       "      <td>0.00</td>\n",
       "    </tr>\n",
       "  </tbody>\n",
       "</table>\n",
       "</div>"
      ],
      "text/plain": [
       "Type         R\n",
       "CF        0.20\n",
       "I_w      50.00\n",
       "P        50.00\n",
       "q         0.12\n",
       "B       700.00\n",
       "I_d    4000.00\n",
       "Owner     0.00"
      ]
     },
     "execution_count": 325,
     "metadata": {},
     "output_type": "execute_result"
    }
   ],
   "source": [
    "caseR=case[case.columns[case.loc['Owner']==0]]\n",
    "caseR"
   ]
  },
  {
   "cell_type": "code",
   "execution_count": 320,
   "metadata": {},
   "outputs": [
    {
     "name": "stdout",
     "output_type": "stream",
     "text": [
      "VME-R -10.0\n"
     ]
    }
   ],
   "source": [
    "\n",
    "\n",
    "print('VME-R',caseR.iloc[0,0]*(caseR.iloc[2,0]*caseR.iloc[3,0]*caseR.iloc[4,0] - (caseR.iloc[2,0]/50)*caseR.iloc[5,0]) -caseR.iloc[1,0])\n"
   ]
  },
  {
   "cell_type": "code",
   "execution_count": 323,
   "metadata": {},
   "outputs": [],
   "source": [
    "rr=diffinexp(caseR,50,r,delta,sigma,tau)"
   ]
  },
  {
   "cell_type": "code",
   "execution_count": 336,
   "metadata": {},
   "outputs": [
    {
     "name": "stdout",
     "output_type": "stream",
     "text": [
      "Portfolio sem considerar o vizinho: 14.011472926007304\n",
      "Portfolio considerando o vizinho: 23.248679387511107\n",
      "Diferença - Valor adicionado pela informação do vizinho: 9.237206461503803\n",
      "Portfolio do vizinho: 1.9112132260213393\n",
      "Portfolio incorporando o ativo do vizinho: 27.68702560763952\n",
      "Diferença - Incorporar ou não o ativo do vizinho: 4.4383462201284125\n"
     ]
    }
   ],
   "source": [
    "####\n",
    "print('Portfolio sem considerar o vizinho:', r2[0])\n",
    "print('Portfolio considerando o vizinho:',FC_viz*r1[0] + (1-FC_viz)*r0[0])\n",
    "print('Diferença - Valor adicionado pela informação do vizinho:',FC_viz*r1[0] + (1-FC_viz)*r0[0] - r2[0] )\n",
    "print('Portfolio do vizinho:', rr[0])\n",
    "print('Portfolio incorporando o ativo do vizinho:',rabc[0])\n",
    "print('Diferença - Incorporar ou não o ativo do vizinho:',rabc[0]-FC_viz*r1[0] - (1-FC_viz)*r0[0])"
   ]
  },
  {
   "cell_type": "code",
   "execution_count": null,
   "metadata": {},
   "outputs": [],
   "source": []
  }
 ],
 "metadata": {
  "kernelspec": {
   "display_name": "Python 3",
   "language": "python",
   "name": "python3"
  },
  "language_info": {
   "codemirror_mode": {
    "name": "ipython",
    "version": 3
   },
   "file_extension": ".py",
   "mimetype": "text/x-python",
   "name": "python",
   "nbconvert_exporter": "python",
   "pygments_lexer": "ipython3",
   "version": "3.7.4"
  }
 },
 "nbformat": 4,
 "nbformat_minor": 2
}
