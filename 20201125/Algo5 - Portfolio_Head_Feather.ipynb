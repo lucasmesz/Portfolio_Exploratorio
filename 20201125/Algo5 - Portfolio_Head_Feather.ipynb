{
 "cells": [
  {
   "cell_type": "markdown",
   "metadata": {},
   "source": [
    "### Portfolio of Oil Exploration Assets: Learning Options, Sequential Drilling Options and Defer Options \n",
    "####  Marco Antonio Guimarães Dias, \n",
    "#### Luigi de Magalhães Detomi Calvette\n",
    "##### RO Congress - Boston 2017\n"
   ]
  },
  {
   "cell_type": "markdown",
   "metadata": {},
   "source": [
    "[Paper](http://www.realoptions.org/openconf2017/data/papers/57.pdf)"
   ]
  },
  {
   "cell_type": "code",
   "execution_count": 1,
   "metadata": {},
   "outputs": [],
   "source": [
    "import numpy as np\n",
    "import pandas as pd\n",
    "import matplotlib.pyplot as plt\n",
    "%matplotlib inline\n",
    "import seaborn as sns\n",
    "import itertools\n",
    "import time\n",
    "import winsound"
   ]
  },
  {
   "cell_type": "code",
   "execution_count": 2,
   "metadata": {},
   "outputs": [],
   "source": [
    "\n",
    "duration = 1000  # milliseconds\n",
    "freq = 440  # Hz"
   ]
  },
  {
   "cell_type": "code",
   "execution_count": 3,
   "metadata": {},
   "outputs": [],
   "source": [
    "###Dados de Entrada###\n",
    "r=0.03\n",
    "delta=0.038\n",
    "sigma=0.3\n",
    "tau=3\n",
    "Po=50\n"
   ]
  },
  {
   "cell_type": "code",
   "execution_count": 4,
   "metadata": {},
   "outputs": [
    {
     "data": {
      "text/html": [
       "<div>\n",
       "<style scoped>\n",
       "    .dataframe tbody tr th:only-of-type {\n",
       "        vertical-align: middle;\n",
       "    }\n",
       "\n",
       "    .dataframe tbody tr th {\n",
       "        vertical-align: top;\n",
       "    }\n",
       "\n",
       "    .dataframe thead th {\n",
       "        text-align: right;\n",
       "    }\n",
       "</style>\n",
       "<table border=\"1\" class=\"dataframe\">\n",
       "  <thead>\n",
       "    <tr style=\"text-align: right;\">\n",
       "      <th>Type</th>\n",
       "      <th>DogFish</th>\n",
       "      <th>Feather</th>\n",
       "      <th>Head</th>\n",
       "    </tr>\n",
       "  </thead>\n",
       "  <tbody>\n",
       "    <tr>\n",
       "      <td>CF</td>\n",
       "      <td>0.3</td>\n",
       "      <td>0.25</td>\n",
       "      <td>0.20</td>\n",
       "    </tr>\n",
       "    <tr>\n",
       "      <td>I_w</td>\n",
       "      <td>80.0</td>\n",
       "      <td>60.00</td>\n",
       "      <td>80.00</td>\n",
       "    </tr>\n",
       "    <tr>\n",
       "      <td>q</td>\n",
       "      <td>0.2</td>\n",
       "      <td>0.21</td>\n",
       "      <td>0.18</td>\n",
       "    </tr>\n",
       "    <tr>\n",
       "      <td>B</td>\n",
       "      <td>620.0</td>\n",
       "      <td>310.00</td>\n",
       "      <td>950.00</td>\n",
       "    </tr>\n",
       "    <tr>\n",
       "      <td>Owner</td>\n",
       "      <td>0.0</td>\n",
       "      <td>0.00</td>\n",
       "      <td>1.00</td>\n",
       "    </tr>\n",
       "  </tbody>\n",
       "</table>\n",
       "</div>"
      ],
      "text/plain": [
       "Type   DogFish  Feather    Head\n",
       "CF         0.3     0.25    0.20\n",
       "I_w       80.0    60.00   80.00\n",
       "q          0.2     0.21    0.18\n",
       "B        620.0   310.00  950.00\n",
       "Owner      0.0     0.00    1.00"
      ]
     },
     "execution_count": 4,
     "metadata": {},
     "output_type": "execute_result"
    }
   ],
   "source": [
    "#Importar Case 2 ou ABC ou ABCD como case \n",
    "case=pd.read_csv(\"Case_Guy.csv\", sep=';')\n",
    "case.set_index('Type', inplace=True)\n",
    "case=case.astype(float).T\n",
    "case"
   ]
  },
  {
   "cell_type": "code",
   "execution_count": 5,
   "metadata": {},
   "outputs": [
    {
     "data": {
      "text/html": [
       "<div>\n",
       "<style scoped>\n",
       "    .dataframe tbody tr th:only-of-type {\n",
       "        vertical-align: middle;\n",
       "    }\n",
       "\n",
       "    .dataframe tbody tr th {\n",
       "        vertical-align: top;\n",
       "    }\n",
       "\n",
       "    .dataframe thead th {\n",
       "        text-align: right;\n",
       "    }\n",
       "</style>\n",
       "<table border=\"1\" class=\"dataframe\">\n",
       "  <thead>\n",
       "    <tr style=\"text-align: right;\">\n",
       "      <th>Type</th>\n",
       "      <th>DogFish</th>\n",
       "      <th>Feather</th>\n",
       "      <th>Head</th>\n",
       "    </tr>\n",
       "  </thead>\n",
       "  <tbody>\n",
       "    <tr>\n",
       "      <td>CF</td>\n",
       "      <td>0.300000</td>\n",
       "      <td>0.250000</td>\n",
       "      <td>0.200000</td>\n",
       "    </tr>\n",
       "    <tr>\n",
       "      <td>I_w</td>\n",
       "      <td>80.000000</td>\n",
       "      <td>60.000000</td>\n",
       "      <td>80.000000</td>\n",
       "    </tr>\n",
       "    <tr>\n",
       "      <td>q</td>\n",
       "      <td>0.185363</td>\n",
       "      <td>0.194631</td>\n",
       "      <td>0.166827</td>\n",
       "    </tr>\n",
       "    <tr>\n",
       "      <td>B</td>\n",
       "      <td>620.000000</td>\n",
       "      <td>310.000000</td>\n",
       "      <td>950.000000</td>\n",
       "    </tr>\n",
       "    <tr>\n",
       "      <td>Owner</td>\n",
       "      <td>0.000000</td>\n",
       "      <td>0.000000</td>\n",
       "      <td>1.000000</td>\n",
       "    </tr>\n",
       "  </tbody>\n",
       "</table>\n",
       "</div>"
      ],
      "text/plain": [
       "Type      DogFish     Feather        Head\n",
       "CF       0.300000    0.250000    0.200000\n",
       "I_w     80.000000   60.000000   80.000000\n",
       "q        0.185363    0.194631    0.166827\n",
       "B      620.000000  310.000000  950.000000\n",
       "Owner    0.000000    0.000000    1.000000"
      ]
     },
     "execution_count": 5,
     "metadata": {},
     "output_type": "execute_result"
    }
   ],
   "source": [
    "case.iloc[2,:]=case.iloc[2,:]*np.exp(-2*delta)\n",
    "case.head()"
   ]
  },
  {
   "cell_type": "code",
   "execution_count": 6,
   "metadata": {},
   "outputs": [
    {
     "data": {
      "text/html": [
       "<div>\n",
       "<style scoped>\n",
       "    .dataframe tbody tr th:only-of-type {\n",
       "        vertical-align: middle;\n",
       "    }\n",
       "\n",
       "    .dataframe tbody tr th {\n",
       "        vertical-align: top;\n",
       "    }\n",
       "\n",
       "    .dataframe thead th {\n",
       "        text-align: right;\n",
       "    }\n",
       "</style>\n",
       "<table border=\"1\" class=\"dataframe\">\n",
       "  <thead>\n",
       "    <tr style=\"text-align: right;\">\n",
       "      <th></th>\n",
       "      <th>DogFish</th>\n",
       "      <th>Feather</th>\n",
       "      <th>Head</th>\n",
       "    </tr>\n",
       "    <tr>\n",
       "      <th>Type</th>\n",
       "      <th></th>\n",
       "      <th></th>\n",
       "      <th></th>\n",
       "    </tr>\n",
       "  </thead>\n",
       "  <tbody>\n",
       "    <tr>\n",
       "      <td>DogFish</td>\n",
       "      <td>1.0</td>\n",
       "      <td>0.6</td>\n",
       "      <td>0.5</td>\n",
       "    </tr>\n",
       "    <tr>\n",
       "      <td>Feather</td>\n",
       "      <td>0.6</td>\n",
       "      <td>1.0</td>\n",
       "      <td>0.6</td>\n",
       "    </tr>\n",
       "    <tr>\n",
       "      <td>Head</td>\n",
       "      <td>0.5</td>\n",
       "      <td>0.6</td>\n",
       "      <td>1.0</td>\n",
       "    </tr>\n",
       "  </tbody>\n",
       "</table>\n",
       "</div>"
      ],
      "text/plain": [
       "         DogFish  Feather  Head\n",
       "Type                           \n",
       "DogFish      1.0      0.6   0.5\n",
       "Feather      0.6      1.0   0.6\n",
       "Head         0.5      0.6   1.0"
      ]
     },
     "execution_count": 6,
     "metadata": {},
     "output_type": "execute_result"
    }
   ],
   "source": [
    "#Importar correlacao Case 2 ou ABC ou ABCD como case\n",
    "case_corr=pd.read_csv(\"Case_Guy_corr.csv\", sep=';')\n",
    "case_corr.set_index('Type', inplace=True)\n",
    "case_corr\n"
   ]
  },
  {
   "cell_type": "code",
   "execution_count": null,
   "metadata": {},
   "outputs": [],
   "source": []
  },
  {
   "cell_type": "code",
   "execution_count": 7,
   "metadata": {},
   "outputs": [],
   "source": [
    "###############Bloco 1####################3\n"
   ]
  },
  {
   "cell_type": "code",
   "execution_count": 22,
   "metadata": {},
   "outputs": [
    {
     "data": {
      "text/html": [
       "<div>\n",
       "<style scoped>\n",
       "    .dataframe tbody tr th:only-of-type {\n",
       "        vertical-align: middle;\n",
       "    }\n",
       "\n",
       "    .dataframe tbody tr th {\n",
       "        vertical-align: top;\n",
       "    }\n",
       "\n",
       "    .dataframe thead th {\n",
       "        text-align: right;\n",
       "    }\n",
       "</style>\n",
       "<table border=\"1\" class=\"dataframe\">\n",
       "  <thead>\n",
       "    <tr style=\"text-align: right;\">\n",
       "      <th>Type</th>\n",
       "      <th>DogFish</th>\n",
       "      <th>Feather</th>\n",
       "    </tr>\n",
       "  </thead>\n",
       "  <tbody>\n",
       "    <tr>\n",
       "      <td>CF</td>\n",
       "      <td>0.3</td>\n",
       "      <td>0.25</td>\n",
       "    </tr>\n",
       "    <tr>\n",
       "      <td>I_w</td>\n",
       "      <td>80.0</td>\n",
       "      <td>60.00</td>\n",
       "    </tr>\n",
       "    <tr>\n",
       "      <td>q</td>\n",
       "      <td>0.2</td>\n",
       "      <td>0.21</td>\n",
       "    </tr>\n",
       "    <tr>\n",
       "      <td>B</td>\n",
       "      <td>620.0</td>\n",
       "      <td>310.00</td>\n",
       "    </tr>\n",
       "    <tr>\n",
       "      <td>Owner</td>\n",
       "      <td>0.0</td>\n",
       "      <td>0.00</td>\n",
       "    </tr>\n",
       "  </tbody>\n",
       "</table>\n",
       "</div>"
      ],
      "text/plain": [
       "Type   DogFish  Feather\n",
       "CF         0.3     0.25\n",
       "I_w       80.0    60.00\n",
       "q          0.2     0.21\n",
       "B        620.0   310.00\n",
       "Owner      0.0     0.00"
      ]
     },
     "execution_count": 22,
     "metadata": {},
     "output_type": "execute_result"
    }
   ],
   "source": [
    "case_b1=pd.read_csv(\"Case_Guy_b1.csv\", sep=';')\n",
    "case_b1.set_index('Type', inplace=True)\n",
    "case_b1=case_b1.astype(float).T\n",
    "case_b1"
   ]
  },
  {
   "cell_type": "code",
   "execution_count": 23,
   "metadata": {},
   "outputs": [],
   "source": [
    "case_b1.iloc[2,:]=case_b1.iloc[2,:]*np.exp(-2*delta)"
   ]
  },
  {
   "cell_type": "code",
   "execution_count": null,
   "metadata": {},
   "outputs": [],
   "source": []
  },
  {
   "cell_type": "code",
   "execution_count": 24,
   "metadata": {},
   "outputs": [
    {
     "data": {
      "text/html": [
       "<div>\n",
       "<style scoped>\n",
       "    .dataframe tbody tr th:only-of-type {\n",
       "        vertical-align: middle;\n",
       "    }\n",
       "\n",
       "    .dataframe tbody tr th {\n",
       "        vertical-align: top;\n",
       "    }\n",
       "\n",
       "    .dataframe thead th {\n",
       "        text-align: right;\n",
       "    }\n",
       "</style>\n",
       "<table border=\"1\" class=\"dataframe\">\n",
       "  <thead>\n",
       "    <tr style=\"text-align: right;\">\n",
       "      <th>Type</th>\n",
       "      <th>DogFish</th>\n",
       "      <th>Feather</th>\n",
       "    </tr>\n",
       "  </thead>\n",
       "  <tbody>\n",
       "    <tr>\n",
       "      <td>CF</td>\n",
       "      <td>0.300000</td>\n",
       "      <td>0.250000</td>\n",
       "    </tr>\n",
       "    <tr>\n",
       "      <td>I_w</td>\n",
       "      <td>80.000000</td>\n",
       "      <td>60.000000</td>\n",
       "    </tr>\n",
       "    <tr>\n",
       "      <td>q</td>\n",
       "      <td>0.185363</td>\n",
       "      <td>0.194631</td>\n",
       "    </tr>\n",
       "    <tr>\n",
       "      <td>B</td>\n",
       "      <td>620.000000</td>\n",
       "      <td>310.000000</td>\n",
       "    </tr>\n",
       "    <tr>\n",
       "      <td>Owner</td>\n",
       "      <td>0.000000</td>\n",
       "      <td>0.000000</td>\n",
       "    </tr>\n",
       "  </tbody>\n",
       "</table>\n",
       "</div>"
      ],
      "text/plain": [
       "Type      DogFish     Feather\n",
       "CF       0.300000    0.250000\n",
       "I_w     80.000000   60.000000\n",
       "q        0.185363    0.194631\n",
       "B      620.000000  310.000000\n",
       "Owner    0.000000    0.000000"
      ]
     },
     "execution_count": 24,
     "metadata": {},
     "output_type": "execute_result"
    }
   ],
   "source": [
    "case_b1"
   ]
  },
  {
   "cell_type": "code",
   "execution_count": 25,
   "metadata": {},
   "outputs": [
    {
     "data": {
      "text/html": [
       "<div>\n",
       "<style scoped>\n",
       "    .dataframe tbody tr th:only-of-type {\n",
       "        vertical-align: middle;\n",
       "    }\n",
       "\n",
       "    .dataframe tbody tr th {\n",
       "        vertical-align: top;\n",
       "    }\n",
       "\n",
       "    .dataframe thead th {\n",
       "        text-align: right;\n",
       "    }\n",
       "</style>\n",
       "<table border=\"1\" class=\"dataframe\">\n",
       "  <thead>\n",
       "    <tr style=\"text-align: right;\">\n",
       "      <th></th>\n",
       "      <th>DogFish</th>\n",
       "      <th>Feather</th>\n",
       "    </tr>\n",
       "    <tr>\n",
       "      <th>Type</th>\n",
       "      <th></th>\n",
       "      <th></th>\n",
       "    </tr>\n",
       "  </thead>\n",
       "  <tbody>\n",
       "    <tr>\n",
       "      <td>DogFish</td>\n",
       "      <td>1.0</td>\n",
       "      <td>0.6</td>\n",
       "    </tr>\n",
       "    <tr>\n",
       "      <td>Feather</td>\n",
       "      <td>0.6</td>\n",
       "      <td>1.0</td>\n",
       "    </tr>\n",
       "  </tbody>\n",
       "</table>\n",
       "</div>"
      ],
      "text/plain": [
       "         DogFish  Feather\n",
       "Type                     \n",
       "DogFish      1.0      0.6\n",
       "Feather      0.6      1.0"
      ]
     },
     "execution_count": 25,
     "metadata": {},
     "output_type": "execute_result"
    }
   ],
   "source": [
    "case_corr_b1=pd.read_csv(\"Case_Guy_corr_b1.csv\", sep=';')\n",
    "case_corr_b1.set_index('Type', inplace=True)\n",
    "case_corr_b1\n"
   ]
  },
  {
   "cell_type": "code",
   "execution_count": 26,
   "metadata": {},
   "outputs": [],
   "source": [
    "###############Bloco 2##########################\n"
   ]
  },
  {
   "cell_type": "code",
   "execution_count": 89,
   "metadata": {},
   "outputs": [
    {
     "data": {
      "text/html": [
       "<div>\n",
       "<style scoped>\n",
       "    .dataframe tbody tr th:only-of-type {\n",
       "        vertical-align: middle;\n",
       "    }\n",
       "\n",
       "    .dataframe tbody tr th {\n",
       "        vertical-align: top;\n",
       "    }\n",
       "\n",
       "    .dataframe thead th {\n",
       "        text-align: right;\n",
       "    }\n",
       "</style>\n",
       "<table border=\"1\" class=\"dataframe\">\n",
       "  <thead>\n",
       "    <tr style=\"text-align: right;\">\n",
       "      <th>Type</th>\n",
       "      <th>DogFish</th>\n",
       "      <th>Head</th>\n",
       "    </tr>\n",
       "  </thead>\n",
       "  <tbody>\n",
       "    <tr>\n",
       "      <td>CF</td>\n",
       "      <td>0.3</td>\n",
       "      <td>0.20</td>\n",
       "    </tr>\n",
       "    <tr>\n",
       "      <td>I_w</td>\n",
       "      <td>80.0</td>\n",
       "      <td>80.00</td>\n",
       "    </tr>\n",
       "    <tr>\n",
       "      <td>q</td>\n",
       "      <td>0.2</td>\n",
       "      <td>0.18</td>\n",
       "    </tr>\n",
       "    <tr>\n",
       "      <td>B</td>\n",
       "      <td>620.0</td>\n",
       "      <td>950.00</td>\n",
       "    </tr>\n",
       "    <tr>\n",
       "      <td>Owner</td>\n",
       "      <td>1.0</td>\n",
       "      <td>1.00</td>\n",
       "    </tr>\n",
       "  </tbody>\n",
       "</table>\n",
       "</div>"
      ],
      "text/plain": [
       "Type   DogFish    Head\n",
       "CF         0.3    0.20\n",
       "I_w       80.0   80.00\n",
       "q          0.2    0.18\n",
       "B        620.0  950.00\n",
       "Owner      1.0    1.00"
      ]
     },
     "execution_count": 89,
     "metadata": {},
     "output_type": "execute_result"
    }
   ],
   "source": [
    "case_b2=pd.read_csv(\"Case_Guy_b_Fantasia.csv\", sep=';')\n",
    "case_b2.set_index('Type', inplace=True)\n",
    "case_b2=case_b2.astype(float).T\n",
    "case_b2"
   ]
  },
  {
   "cell_type": "code",
   "execution_count": 90,
   "metadata": {},
   "outputs": [
    {
     "data": {
      "text/html": [
       "<div>\n",
       "<style scoped>\n",
       "    .dataframe tbody tr th:only-of-type {\n",
       "        vertical-align: middle;\n",
       "    }\n",
       "\n",
       "    .dataframe tbody tr th {\n",
       "        vertical-align: top;\n",
       "    }\n",
       "\n",
       "    .dataframe thead th {\n",
       "        text-align: right;\n",
       "    }\n",
       "</style>\n",
       "<table border=\"1\" class=\"dataframe\">\n",
       "  <thead>\n",
       "    <tr style=\"text-align: right;\">\n",
       "      <th>Type</th>\n",
       "      <th>DogFish</th>\n",
       "      <th>Head</th>\n",
       "    </tr>\n",
       "  </thead>\n",
       "  <tbody>\n",
       "    <tr>\n",
       "      <td>CF</td>\n",
       "      <td>0.300000</td>\n",
       "      <td>0.200000</td>\n",
       "    </tr>\n",
       "    <tr>\n",
       "      <td>I_w</td>\n",
       "      <td>80.000000</td>\n",
       "      <td>80.000000</td>\n",
       "    </tr>\n",
       "    <tr>\n",
       "      <td>q</td>\n",
       "      <td>0.185363</td>\n",
       "      <td>0.166827</td>\n",
       "    </tr>\n",
       "    <tr>\n",
       "      <td>B</td>\n",
       "      <td>620.000000</td>\n",
       "      <td>950.000000</td>\n",
       "    </tr>\n",
       "    <tr>\n",
       "      <td>Owner</td>\n",
       "      <td>1.000000</td>\n",
       "      <td>1.000000</td>\n",
       "    </tr>\n",
       "  </tbody>\n",
       "</table>\n",
       "</div>"
      ],
      "text/plain": [
       "Type      DogFish        Head\n",
       "CF       0.300000    0.200000\n",
       "I_w     80.000000   80.000000\n",
       "q        0.185363    0.166827\n",
       "B      620.000000  950.000000\n",
       "Owner    1.000000    1.000000"
      ]
     },
     "execution_count": 90,
     "metadata": {},
     "output_type": "execute_result"
    }
   ],
   "source": [
    "case_b2.iloc[2,:]=case_b2.iloc[2,:]*np.exp(-2*delta)\n",
    "case_b2"
   ]
  },
  {
   "cell_type": "code",
   "execution_count": 91,
   "metadata": {},
   "outputs": [
    {
     "data": {
      "text/html": [
       "<div>\n",
       "<style scoped>\n",
       "    .dataframe tbody tr th:only-of-type {\n",
       "        vertical-align: middle;\n",
       "    }\n",
       "\n",
       "    .dataframe tbody tr th {\n",
       "        vertical-align: top;\n",
       "    }\n",
       "\n",
       "    .dataframe thead th {\n",
       "        text-align: right;\n",
       "    }\n",
       "</style>\n",
       "<table border=\"1\" class=\"dataframe\">\n",
       "  <thead>\n",
       "    <tr style=\"text-align: right;\">\n",
       "      <th></th>\n",
       "      <th>DogFish</th>\n",
       "      <th>Head</th>\n",
       "    </tr>\n",
       "    <tr>\n",
       "      <th>Type</th>\n",
       "      <th></th>\n",
       "      <th></th>\n",
       "    </tr>\n",
       "  </thead>\n",
       "  <tbody>\n",
       "    <tr>\n",
       "      <td>DogFish</td>\n",
       "      <td>1.0</td>\n",
       "      <td>0.5</td>\n",
       "    </tr>\n",
       "    <tr>\n",
       "      <td>Head</td>\n",
       "      <td>0.5</td>\n",
       "      <td>1.0</td>\n",
       "    </tr>\n",
       "  </tbody>\n",
       "</table>\n",
       "</div>"
      ],
      "text/plain": [
       "         DogFish  Head\n",
       "Type                  \n",
       "DogFish      1.0   0.5\n",
       "Head         0.5   1.0"
      ]
     },
     "execution_count": 91,
     "metadata": {},
     "output_type": "execute_result"
    }
   ],
   "source": [
    "case_corr_b2=pd.read_csv(\"Case_Guy_corr_b_Fantasia.csv\", sep=';')\n",
    "case_corr_b2.set_index('Type', inplace=True)\n",
    "case_corr_b2\n"
   ]
  },
  {
   "cell_type": "code",
   "execution_count": 27,
   "metadata": {},
   "outputs": [],
   "source": [
    "def V(P,case,w):\n",
    "    valor=P*case.iloc[2,k[w]]*case.iloc[3,k[w]]\n",
    "    return valor\n",
    "\n",
    "    \n",
    "    "
   ]
  },
  {
   "cell_type": "code",
   "execution_count": 28,
   "metadata": {},
   "outputs": [],
   "source": [
    "def I(case,w):\n",
    "    invest=case.iloc[3,k[w]]*5.35 + 650\n",
    "    invest=invest*np.exp(-2*r)\n",
    "    return invest"
   ]
  },
  {
   "cell_type": "code",
   "execution_count": 29,
   "metadata": {},
   "outputs": [],
   "source": [
    "def VME(P,case,i):\n",
    "    VPL=P*case.iloc[2,i]*case.iloc[3,i] - (case.iloc[3,i]*5.35 + 650)*np.exp(-2*r)\n",
    "    vme=case.iloc[0,i]*VPL - case.iloc[1,i]\n",
    "    return vme"
   ]
  },
  {
   "cell_type": "code",
   "execution_count": 30,
   "metadata": {},
   "outputs": [
    {
     "name": "stdout",
     "output_type": "stream",
     "text": [
      "523.0841727818364\n",
      "150.6808316428877\n",
      "425.1226754622021\n"
     ]
    }
   ],
   "source": [
    "print(VME(50,case,0))\n",
    "print(VME(50,case,1))\n",
    "print(VME(50,case,2))\n"
   ]
  },
  {
   "cell_type": "code",
   "execution_count": 31,
   "metadata": {},
   "outputs": [
    {
     "data": {
      "text/plain": [
       "1098.8876798869262"
      ]
     },
     "execution_count": 31,
     "metadata": {},
     "output_type": "execute_result"
    }
   ],
   "source": [
    "VME(50,case,0)+VME(50,case,1) + VME(50,case,2)"
   ]
  },
  {
   "cell_type": "code",
   "execution_count": 32,
   "metadata": {},
   "outputs": [
    {
     "data": {
      "text/plain": [
       "673.7650044247241"
      ]
     },
     "execution_count": 32,
     "metadata": {},
     "output_type": "execute_result"
    }
   ],
   "source": [
    "VME(50,case,0)+VME(50,case,1)"
   ]
  },
  {
   "cell_type": "code",
   "execution_count": 33,
   "metadata": {},
   "outputs": [
    {
     "name": "stdout",
     "output_type": "stream",
     "text": [
      "[True, True, True, True]\n",
      "[True, True, True, True]\n",
      "[[30.         64.68626967 72.71514427]\n",
      " [        nan  7.99159871  9.95020999]\n",
      " [        nan         nan 58.53064256]\n",
      " [        nan         nan  2.42303146]]\n",
      "[True, True, True, True]\n",
      "[True, True, True, True]\n",
      "[[30.         50.55050463 93.04895105]\n",
      " [        nan  6.90692659 35.69208386]\n",
      " [        nan         nan 67.72236566]\n",
      " [        nan         nan  3.5599476 ]]\n",
      "[True, True, True, True]\n",
      "[True, True, True, True]\n",
      "[[25.         77.6235236  74.62763853]\n",
      " [        nan 14.12549213 16.26983941]\n",
      " [        nan         nan 35.74712621]\n",
      " [        nan         nan  1.2741104 ]]\n",
      "[True, True, True, True]\n",
      "[True, True, True, True]\n",
      "[[25.         61.56921938 94.08695317]\n",
      " [        nan  6.14359354 51.24777763]\n",
      " [        nan         nan 82.19061805]\n",
      " [        nan         nan  9.67012799]]\n",
      "[True, True, True, True]\n",
      "[True, True, True, True]\n",
      "[[20.         75.82575695 91.22689345]\n",
      " [        nan 18.54356076 32.21627957]\n",
      " [        nan         nan 52.8885573 ]\n",
      " [        nan         nan  2.70352744]]\n",
      "[True, True, True, True]\n",
      "[True, True, True, True]\n",
      "[[20.         76.96152423 89.88060358]\n",
      " [        nan 12.00961894 28.87462918]\n",
      " [        nan         nan 81.6630553 ]\n",
      " [        nan         nan  9.92851593]]\n",
      "melhor: (1, 0, 2) $melhor: 1129.6871499844528 segundo: (2, 0, 1) $Segundo: 1123.1400272249307 diff: 6.5471227595221535 [1110.9982998297828, 1118.436893699291, 1129.6871499844528, 1098.8876798869262, 1123.1400272249307, 1098.8876798869262]\n",
      "2\n"
     ]
    }
   ],
   "source": [
    "#################Formalizacao caso - correto\n",
    "fold=[]\n",
    "seq=[]\n",
    "P=50\n",
    "n=case.shape[1]\n",
    "perm=itertools.permutations(range(n))\n",
    "for k in list(perm):\n",
    "    seq.append(k)\n",
    "    #print(k)\n",
    "    m=np.zeros((2**(n-1),n))\n",
    "    p=np.zeros((2**(n-1),n))\n",
    "    pi=np.zeros((2**(n-1),n))\n",
    "    m[m==0]=np.nan\n",
    "    p[m==0]=np.nan\n",
    "    pi[pi==0]=np.nan\n",
    "    \n",
    "    \n",
    "    m[0,0]=case.iloc[0,k[0]] ### Capta da permutacao, o fc da Primeira na ordem de perfuracao\n",
    "    pi[0,0]=m[0,0]*(V(P,case,0) - I(case,0)) -case.iloc[1,k[0]]\n",
    "    \n",
    "    #Vetores Auxiliares\n",
    "    Ax_m=[]\n",
    "    Ax1_m=[]\n",
    "    Ax_pi=[]\n",
    "    Ax_lim=[]\n",
    "    ##Loop para criacao da matriz de FC e VME\n",
    "    for y in range(1,n,1):\n",
    "        Ax_m.append(case.iloc[0,k[y]])\n",
    "    \n",
    "    \n",
    "    for j in range(n-1):\n",
    "        p=0\n",
    "        for q in range(1+j,n,1):\n",
    "            for i in range(2**(j)):\n",
    "                p=p+1\n",
    "                #print(p-1,j,q,i,j)\n",
    "                CF_s=Ax_m[p-1] +case_corr.iloc[k[j],k[q]]*np.sqrt((m[i,j]-m[i,j]**2)*(Ax_m[p-1]-Ax_m[p-1]**2))/m[i,j]\n",
    "                Ax1_m.append(CF_s)\n",
    "                CF_ins=Ax_m[p-1] -case_corr.iloc[k[j],k[q]]*np.sqrt((m[i,j]-m[i,j]**2)*(Ax_m[p-1]-Ax_m[p-1]**2))/(1-m[i,j])\n",
    "                Ax1_m.append(CF_ins)\n",
    "                \n",
    "                Ax_pi.append(CF_s*(V(P,case,j+1) - I(case,j+1)) -case.iloc[1,k[j+1]])\n",
    "                Ax_pi.append(CF_ins*(V(P,case,j+1) - I(case,j+1)) -case.iloc[1,k[j+1]])\n",
    "                \n",
    "                a=np.minimum(Ax_m[p-1],m[i,j])*(1-np.maximum(Ax_m[p-1],m[i,j]))\n",
    "                b=np.maximum(Ax_m[p-1],m[i,j])*(1-np.minimum(Ax_m[p-1],m[i,j]))\n",
    "                Ax_lim.append(np.sqrt(a/b)>case_corr.iloc[k[j],k[q]])\n",
    "                \n",
    "                a=-np.sqrt(Ax_m[p-1]*m[i,j]/(1-Ax_m[p-1])*(1-m[i,j]))\n",
    "                b=-np.sqrt((1-Ax_m[p-1])*(1-m[i,j])/Ax_m[p-1]*m[i,j])\n",
    "                Ax_lim.append(np.maximum(a,b)<case_corr.iloc[k[j],k[q]])\n",
    "                \n",
    "\n",
    "        m[0:2*(i+1),j+1]=Ax1_m[0:2*(i+1)]\n",
    "        pi[0:2*(i+1),j+1]=Ax_pi[0:2*(i+1)]\n",
    "        \n",
    "        del Ax1_m[0:2*(i+1)]\n",
    "        \n",
    "        print(Ax_lim)\n",
    "        Ax_m=Ax1_m\n",
    "        Ax1_m=[]\n",
    "        Ax_pi=[]\n",
    "        Ax_lim=[]\n",
    "    \n",
    "    print(100*m)\n",
    "    #print(pi)\n",
    "    \n",
    "    for l in np.arange(n-2,-1,-1):\n",
    "        #print(l)\n",
    "        for g in range(2**(l)):\n",
    "            #print(pi[g,l],m[g,l], pi[2*g,l+1],(1-m[g,l]), pi[2*g+1,l+1]   )\n",
    "            pi[g,l]= np.maximum(0,pi[g,l] + m[g,l]*np.maximum(0,pi[2*g,l+1]) + (1-m[g,l])*np.maximum(0,pi[2*g+1,l+1]))\n",
    "    #print(pi)\n",
    "    fold.append(pi[0,0])\n",
    "    \n",
    "\n",
    "\n",
    "###Fornece o melhor portfolio seq_winner e o valor do porfolio winner\n",
    "\n",
    "winner=np.amax(fold)\n",
    "Seq_winner=seq[np.argmax(fold)]\n",
    "winner=np.maximum(0,winner)\n",
    "if winner==0:\n",
    "    Seq_winner='W'\n",
    "\n",
    "seq_sec=list(seq)\n",
    "num=np.argmax(fold)\n",
    "fold_sec=list(fold)\n",
    "fold_sec.remove(np.amax(fold))\n",
    "del seq_sec[num]\n",
    "    \n",
    "second=np.amax(fold_sec)\n",
    "Seq_sec=seq_sec[np.argmax(fold_sec)]\n",
    "second=np.maximum(0,second)\n",
    "if second==0:\n",
    "    Seq_sec='W'\n",
    "\n",
    "diff=winner-second\n",
    "\n",
    "    \n",
    "    \n",
    "            \n",
    "\n",
    "    #print(fold)\n",
    "    #print(m)\n",
    "print('melhor:',Seq_winner, '$melhor:', winner,'segundo:',Seq_sec,'$Segundo:',second,'diff:',diff, fold)\n",
    "#print(fold)\n",
    "    \n",
    "    \n",
    "    \n",
    "print(np.argmax(fold))    \n",
    "    \n",
    "    "
   ]
  },
  {
   "cell_type": "code",
   "execution_count": 34,
   "metadata": {},
   "outputs": [
    {
     "data": {
      "text/plain": [
       "([(0, 1, 2), (0, 2, 1), (1, 0, 2), (1, 2, 0), (2, 0, 1), (2, 1, 0)],\n",
       " [(0, 1, 2), (0, 2, 1), (1, 2, 0), (2, 0, 1), (2, 1, 0)])"
      ]
     },
     "execution_count": 34,
     "metadata": {},
     "output_type": "execute_result"
    }
   ],
   "source": [
    "seq,seq_sec"
   ]
  },
  {
   "cell_type": "code",
   "execution_count": 35,
   "metadata": {},
   "outputs": [
    {
     "data": {
      "text/plain": [
       "([1110.9982998297828,\n",
       "  1118.436893699291,\n",
       "  1129.6871499844528,\n",
       "  1098.8876798869262,\n",
       "  1123.1400272249307,\n",
       "  1098.8876798869262],\n",
       " [1110.9982998297828,\n",
       "  1118.436893699291,\n",
       "  1098.8876798869262,\n",
       "  1123.1400272249307,\n",
       "  1098.8876798869262])"
      ]
     },
     "execution_count": 35,
     "metadata": {},
     "output_type": "execute_result"
    }
   ],
   "source": [
    "fold,fold_sec\n"
   ]
  },
  {
   "cell_type": "code",
   "execution_count": 36,
   "metadata": {},
   "outputs": [
    {
     "data": {
      "text/plain": [
       "2"
      ]
     },
     "execution_count": 36,
     "metadata": {},
     "output_type": "execute_result"
    }
   ],
   "source": [
    "num"
   ]
  },
  {
   "cell_type": "code",
   "execution_count": 37,
   "metadata": {},
   "outputs": [
    {
     "data": {
      "text/plain": [
       "2"
      ]
     },
     "execution_count": 37,
     "metadata": {},
     "output_type": "execute_result"
    }
   ],
   "source": [
    "np.argmax(fold)"
   ]
  },
  {
   "cell_type": "code",
   "execution_count": 38,
   "metadata": {},
   "outputs": [
    {
     "data": {
      "text/plain": [
       "[1110.9982998297828,\n",
       " 1118.436893699291,\n",
       " 1129.6871499844528,\n",
       " 1098.8876798869262,\n",
       " 1123.1400272249307,\n",
       " 1098.8876798869262]"
      ]
     },
     "execution_count": 38,
     "metadata": {},
     "output_type": "execute_result"
    }
   ],
   "source": [
    "fold"
   ]
  },
  {
   "cell_type": "code",
   "execution_count": 39,
   "metadata": {},
   "outputs": [],
   "source": [
    "def carteira(case,case_corr,P):\n",
    "    #################Formalizacao caso 4 - correto\n",
    "    fold=[]\n",
    "    seq=[]\n",
    "    #P=50\n",
    "    n=case.shape[1]\n",
    "    perm=itertools.permutations(range(n))\n",
    "    for k in list(perm):\n",
    "        seq.append(k)\n",
    "        #print(k)\n",
    "        m=np.zeros((2**(n-1),n))\n",
    "        p=np.zeros((2**(n-1),n))\n",
    "        pi=np.zeros((2**(n-1),n))\n",
    "        m[m==0]=np.nan\n",
    "        p[m==0]=np.nan\n",
    "        pi[pi==0]=np.nan\n",
    "\n",
    "\n",
    "        m[0,0]=case.iloc[0,k[0]] ### Capta da permutacao, o fc da Primeira na ordem de perfuracao\n",
    "        pi[0,0]=m[0,0]*(P*case.iloc[2,k[0]]*case.iloc[3,k[0]] - (5.35*case.iloc[3,k[0]]+650)*np.exp(-2*r)) -case.iloc[1,k[0]]\n",
    "\n",
    "        #Vetores Auxiliares\n",
    "        Ax_m=[]\n",
    "        Ax1_m=[]\n",
    "        Ax_pi=[]\n",
    "        ##Loop para criacao da matriz de FC e VME\n",
    "        for y in range(1,n,1):\n",
    "            Ax_m.append(case.iloc[0,k[y]])\n",
    "\n",
    "\n",
    "        for j in range(n-1):\n",
    "            p=0\n",
    "            for q in range(1+j,n,1):\n",
    "                for i in range(2**(j)):\n",
    "                    p=p+1\n",
    "                    #print(p-1,j,q,i,j)\n",
    "                    CF_s=Ax_m[p-1] +case_corr.iloc[k[j],k[q]]*np.sqrt((m[i,j]-m[i,j]**2)*(Ax_m[p-1]-Ax_m[p-1]**2))/m[i,j]\n",
    "                    Ax1_m.append(CF_s)\n",
    "                    CF_ins=Ax_m[p-1] -case_corr.iloc[k[j],k[q]]*np.sqrt((m[i,j]-m[i,j]**2)*(Ax_m[p-1]-Ax_m[p-1]**2))/(1-m[i,j])\n",
    "                    Ax1_m.append(CF_ins)\n",
    "\n",
    "                    Ax_pi.append(CF_s*(P*case.iloc[2,k[j+1]]*case.iloc[3,k[j+1]] - (5.35*case.iloc[3,k[j+1]]+650)*np.exp(-2*r)) -case.iloc[1,k[j+1]])\n",
    "                    Ax_pi.append(CF_ins*(P*case.iloc[2,k[j+1]]*case.iloc[3,k[j+1]] - (5.35*case.iloc[3,k[j+1]]+650)*np.exp(-2*r)) -case.iloc[1,k[j+1]])\n",
    "\n",
    "\n",
    "            m[0:2*(i+1),j+1]=Ax1_m[0:2*(i+1)]\n",
    "            pi[0:2*(i+1),j+1]=Ax_pi[0:2*(i+1)]\n",
    "\n",
    "            del Ax1_m[0:2*(i+1)]\n",
    "\n",
    "            Ax_m=Ax1_m\n",
    "            Ax1_m=[]\n",
    "            Ax_pi=[]\n",
    "\n",
    "        #print(100*m)\n",
    "        #print(pi)\n",
    "\n",
    "        for l in np.arange(n-2,-1,-1):\n",
    "            #print(l)\n",
    "            for g in range(2**(l)):\n",
    "                #print(pi[g,l],m[g,l], pi[2*g,l+1],(1-m[g,l]), pi[2*g+1,l+1]   )\n",
    "                pi[g,l]= np.maximum(0,pi[g,l] + m[g,l]*np.maximum(0,pi[2*g,l+1]) + (1-m[g,l])*np.maximum(0,pi[2*g+1,l+1]))\n",
    "        #print(pi)\n",
    "        fold.append(pi[0,0])\n",
    "\n",
    "\n",
    "    ###Fornece o melhor portfolio seq_winner e o valor do porfolio winner\n",
    "    winner=np.amax(fold)\n",
    "    Seq_winner=seq[np.argmax(fold)]\n",
    "    winner=np.maximum(0,winner)\n",
    "    if winner==0:\n",
    "        Seq_winner='W'\n",
    "    \n",
    "    \n",
    "    seq_sec=list(seq)\n",
    "    num=np.argmax(fold)\n",
    "    fold_sec=list(fold)\n",
    "    fold_sec.remove(np.amax(fold))\n",
    "    del seq_sec[num]\n",
    "    \n",
    "    second=np.amax(fold_sec)\n",
    "    Seq_sec=seq_sec[np.argmax(fold_sec)]\n",
    "    second=np.maximum(0,second)\n",
    "    if second==0:\n",
    "        Seq_sec='W'\n",
    "    diff=winner-second\n",
    "\n",
    "\n",
    "\n",
    "        #print(fold)\n",
    "        #print(m)\n",
    "    #print('melhor portfolio é:',Seq_winner, 'e o valor é:', winner, fold)\n",
    "    #print(fold)\n",
    "    return[Seq_winner,winner,Seq_sec, second, diff,fold]\n",
    "\n",
    "\n",
    "\n",
    "\n",
    "\n"
   ]
  },
  {
   "cell_type": "code",
   "execution_count": 40,
   "metadata": {},
   "outputs": [
    {
     "name": "stdout",
     "output_type": "stream",
     "text": [
      "[(1, 0, 2), 1129.6871499844528, (2, 0, 1), 1123.1400272249307, 6.5471227595221535, [1110.9982998297828, 1118.436893699291, 1129.6871499844528, 1098.8876798869262, 1123.1400272249307, 1098.8876798869262]]\n"
     ]
    }
   ],
   "source": [
    "cart=carteira(case,case_corr,50)\n",
    "print(cart)"
   ]
  },
  {
   "cell_type": "code",
   "execution_count": 41,
   "metadata": {},
   "outputs": [
    {
     "name": "stdout",
     "output_type": "stream",
     "text": [
      "[(0, 1), 673.7650044247241, (1, 0), 673.7650044247241, 0.0, [673.7650044247241, 673.7650044247241]]\n"
     ]
    }
   ],
   "source": [
    "cart=carteira(case_b1,case_corr_b1,50)\n",
    "print(cart)"
   ]
  },
  {
   "cell_type": "code",
   "execution_count": 92,
   "metadata": {},
   "outputs": [
    {
     "name": "stdout",
     "output_type": "stream",
     "text": [
      "[(1, 0), 948.2068482440386, (0, 1), 948.2068482440385, 1.1368683772161603e-13, [948.2068482440385, 948.2068482440386]]\n"
     ]
    }
   ],
   "source": [
    "cart=carteira(case_b2,case_corr_b2,50)\n",
    "print(cart)"
   ]
  },
  {
   "cell_type": "code",
   "execution_count": 42,
   "metadata": {},
   "outputs": [
    {
     "name": "stdout",
     "output_type": "stream",
     "text": [
      "0 W 0.0 0.0 W 0.0\n",
      "1 W 0.0 0.0 W 0.0\n",
      "2 W 0.0 0.0 W 0.0\n",
      "3 W 0.0 0.0 W 0.0\n",
      "4 W 0.0 0.0 W 0.0\n",
      "5 W 0.0 0.0 W 0.0\n",
      "6 W 0.0 0.0 W 0.0\n",
      "7 W 0.0 0.0 W 0.0\n",
      "8 W 0.0 0.0 W 0.0\n",
      "9 W 0.0 0.0 W 0.0\n",
      "10 W 0.0 0.0 W 0.0\n",
      "11 W 0.0 0.0 W 0.0\n",
      "12 W 0.0 0.0 W 0.0\n",
      "13 W 0.0 0.0 W 0.0\n",
      "14 W 0.0 0.0 W 0.0\n",
      "15 W 0.0 0.0 W 0.0\n",
      "16 W 0.0 0.0 W 0.0\n",
      "17 W 0.0 0.0 W 0.0\n",
      "18 W 0.0 0.0 W 0.0\n",
      "19 W 0.0 0.0 W 0.0\n",
      "20 W 0.0 0.0 W 0.0\n",
      "21 W 0.0 0.0 W 0.0\n",
      "22 W 0.0 0.0 W 0.0\n",
      "23 W 0.0 0.0 W 0.0\n",
      "24 W 0.0 0.0 W 0.0\n",
      "25 W 0.0 0.0 W 0.0\n",
      "26 W 0.0 0.0 W 0.0\n",
      "27 W 0.0 0.0 W 0.0\n",
      "28 W 0.0 0.0 W 0.0\n",
      "29 W 0.0 0.0 W 0.0\n",
      "30 W 0.0 0.0 W 0.0\n",
      "31 W 0.0 0.0 W 0.0\n",
      "32 W 0.0 0.0 W 0.0\n",
      "33 W 0.0 0.0 W 0.0\n",
      "34 W 0.0 0.0 W 0.0\n",
      "35 (0, 1) 5.9207295217013325 0.0 W 5.9207295217013325\n",
      "36 (0, 1) 40.39829240571029 0.0 W 40.39829240571029\n",
      "37 (0, 1) 74.87585528971925 34.77310614026993 (1, 0) 40.10274914944932\n",
      "38 (0, 1) 114.3871326441117 79.02704467556865 (1, 0) 35.360087968543056\n",
      "39 (0, 1) 160.57337641135803 128.58854132133177 (1, 0) 31.98483509002625\n",
      "40 (0, 1) 206.7596201786042 178.15003796709473 (1, 0) 28.609582211509462\n",
      "41 (0, 1) 252.94586394585022 227.71153461285758 (1, 0) 25.234329332992644\n",
      "42 (0, 1) 299.1321077130964 277.2730312586205 (1, 0) 21.859076454475883\n",
      "43 (0, 1) 345.3183514803427 326.83452790438366 (1, 0) 18.483823575959036\n",
      "44 (0, 1) 391.50459524758884 376.39602455014665 (1, 0) 15.10857069744219\n",
      "45 (0, 1) 437.69083901483486 425.9575211959095 (1, 0) 11.733317818925343\n",
      "46 (0, 1) 483.8770827820811 475.5190178416725 (1, 0) 8.35806494040861\n",
      "47 (0, 1) 530.0633265493271 525.0805144874354 (1, 0) 4.982812061891764\n",
      "48 (0, 1) 576.2495703165735 574.6420111331985 (1, 0) 1.607559183374974\n",
      "49 (0, 1) 624.2035077789616 624.2035077789615 (1, 0) 1.1368683772161603e-13\n",
      "50 (0, 1) 673.7650044247241 673.7650044247241 (1, 0) 0.0\n",
      "51 (0, 1) 723.3265010704876 723.3265010704876 (1, 0) 0.0\n",
      "52 (0, 1) 772.8879977162502 772.8879977162501 (1, 0) 1.1368683772161603e-13\n",
      "53 (1, 0) 822.4494943620132 822.4494943620131 (0, 1) 1.1368683772161603e-13\n",
      "54 (0, 1) 872.0109910077759 872.0109910077759 (1, 0) 0.0\n",
      "55 (0, 1) 921.5724876535392 921.572487653539 (1, 0) 1.1368683772161603e-13\n",
      "56 (0, 1) 971.133984299302 971.133984299302 (1, 0) 0.0\n",
      "57 (0, 1) 1020.695480945065 1020.6954809450649 (1, 0) 1.1368683772161603e-13\n",
      "58 (0, 1) 1070.256977590828 1070.2569775908278 (1, 0) 2.2737367544323206e-13\n",
      "59 (0, 1) 1119.818474236591 1119.818474236591 (1, 0) 0.0\n",
      "60 (0, 1) 1169.379970882354 1169.379970882354 (1, 0) 0.0\n",
      "61 (0, 1) 1218.9414675281168 1218.9414675281168 (1, 0) 0.0\n",
      "62 (0, 1) 1268.50296417388 1268.5029641738797 (1, 0) 2.2737367544323206e-13\n",
      "63 (0, 1) 1318.064460819643 1318.064460819643 (1, 0) 0.0\n",
      "64 (0, 1) 1367.625957465406 1367.625957465406 (1, 0) 0.0\n",
      "65 (0, 1) 1417.1874541111686 1417.1874541111686 (1, 0) 0.0\n",
      "66 (0, 1) 1466.7489507569321 1466.7489507569321 (1, 0) 0.0\n",
      "67 (0, 1) 1516.3104474026948 1516.3104474026945 (1, 0) 2.2737367544323206e-13\n",
      "68 (1, 0) 1565.8719440484579 1565.8719440484576 (0, 1) 2.2737367544323206e-13\n",
      "69 (0, 1) 1615.4334406942205 1615.4334406942203 (1, 0) 2.2737367544323206e-13\n",
      "70 (0, 1) 1664.9949373399838 1664.9949373399836 (1, 0) 2.2737367544323206e-13\n",
      "71 (0, 1) 1714.5564339857465 1714.5564339857465 (1, 0) 0.0\n",
      "72 (0, 1) 1764.1179306315098 1764.1179306315096 (1, 0) 2.2737367544323206e-13\n",
      "73 (0, 1) 1813.6794272772722 1813.6794272772722 (1, 0) 0.0\n",
      "74 (0, 1) 1863.2409239230353 1863.2409239230353 (1, 0) 0.0\n",
      "75 (0, 1) 1912.8024205687987 1912.8024205687984 (1, 0) 2.2737367544323206e-13\n",
      "76 (1, 0) 1962.3639172145613 1962.363917214561 (0, 1) 2.2737367544323206e-13\n",
      "77 (0, 1) 2011.9254138603244 2011.9254138603242 (1, 0) 2.2737367544323206e-13\n",
      "78 (0, 1) 2061.4869105060875 2061.4869105060875 (1, 0) 0.0\n",
      "79 (0, 1) 2111.0484071518504 2111.0484071518504 (1, 0) 0.0\n",
      "80 (0, 1) 2160.6099037976137 2160.6099037976132 (1, 0) 4.547473508864641e-13\n",
      "81 (1, 0) 2210.171400443377 2210.1714004433766 (0, 1) 4.547473508864641e-13\n",
      "82 (1, 0) 2259.7328970891394 2259.732897089139 (0, 1) 4.547473508864641e-13\n",
      "83 (0, 1) 2309.2943937349028 2309.2943937349023 (1, 0) 4.547473508864641e-13\n",
      "84 (0, 1) 2358.855890380665 2358.855890380665 (1, 0) 0.0\n",
      "85 (0, 1) 2408.417387026428 2408.417387026428 (1, 0) 0.0\n",
      "86 (0, 1) 2457.978883672192 2457.9788836721914 (1, 0) 4.547473508864641e-13\n",
      "87 (0, 1) 2507.5403803179547 2507.5403803179543 (1, 0) 4.547473508864641e-13\n",
      "88 (0, 1) 2557.101876963717 2557.101876963717 (1, 0) 0.0\n",
      "89 (1, 0) 2606.66337360948 2606.6633736094795 (0, 1) 4.547473508864641e-13\n",
      "90 (0, 1) 2656.224870255243 2656.224870255243 (1, 0) 0.0\n",
      "91 (0, 1) 2705.7863669010057 2705.7863669010057 (1, 0) 0.0\n",
      "92 (0, 1) 2755.3478635467695 2755.3478635467686 (1, 0) 9.094947017729282e-13\n",
      "93 (0, 1) 2804.9093601925315 2804.9093601925315 (1, 0) 0.0\n",
      "94 (0, 1) 2854.470856838295 2854.470856838295 (1, 0) 0.0\n",
      "95 (1, 0) 2904.032353484058 2904.0323534840577 (0, 1) 4.547473508864641e-13\n",
      "96 (0, 1) 2953.5938501298215 2953.5938501298215 (1, 0) 0.0\n",
      "97 (0, 1) 3003.155346775584 3003.155346775584 (1, 0) 0.0\n",
      "98 (0, 1) 3052.7168434213468 3052.7168434213468 (1, 0) 0.0\n",
      "99 (0, 1) 3102.27834006711 3102.2783400671096 (1, 0) 4.547473508864641e-13\n",
      "100 (0, 1) 3151.839836712872 3151.839836712872 (1, 0) 0.0\n",
      "101 (0, 1) 3201.4013333586354 3201.401333358635 (1, 0) 4.547473508864641e-13\n",
      "102 (0, 1) 3250.962830004399 3250.9628300043987 (1, 0) 4.547473508864641e-13\n",
      "103 (0, 1) 3300.524326650162 3300.5243266501616 (1, 0) 4.547473508864641e-13\n",
      "104 (0, 1) 3350.0858232959245 3350.0858232959245 (1, 0) 0.0\n",
      "105 (0, 1) 3399.6473199416873 3399.6473199416873 (1, 0) 0.0\n",
      "106 (0, 1) 3449.2088165874507 3449.2088165874497 (1, 0) 9.094947017729282e-13\n",
      "107 (0, 1) 3498.7703132332135 3498.7703132332135 (1, 0) 0.0\n",
      "108 (0, 1) 3548.331809878976 3548.331809878976 (1, 0) 0.0\n",
      "109 (0, 1) 3597.8933065247393 3597.8933065247393 (1, 0) 0.0\n",
      "110 (0, 1) 3647.4548031705026 3647.454803170502 (1, 0) 4.547473508864641e-13\n",
      "111 (1, 0) 3697.016299816266 3697.0162998162655 (0, 1) 4.547473508864641e-13\n",
      "112 (0, 1) 3746.577796462028 3746.577796462028 (1, 0) 0.0\n",
      "113 (0, 1) 3796.1392931077917 3796.1392931077908 (1, 0) 9.094947017729282e-13\n",
      "114 (0, 1) 3845.700789753554 3845.700789753554 (1, 0) 0.0\n",
      "115 (0, 1) 3895.2622863993165 3895.2622863993165 (1, 0) 0.0\n",
      "116 (0, 1) 3944.82378304508 3944.82378304508 (1, 0) 0.0\n",
      "117 (0, 1) 3994.3852796908436 3994.385279690843 (1, 0) 4.547473508864641e-13\n",
      "118 (1, 0) 4043.9467763366065 4043.946776336606 (0, 1) 4.547473508864641e-13\n",
      "119 (0, 1) 4093.5082729823685 4093.5082729823685 (1, 0) 0.0\n",
      "120 (0, 1) 4143.069769628132 4143.069769628132 (1, 0) 0.0\n",
      "121 (0, 1) 4192.631266273895 4192.631266273895 (1, 0) 0.0\n",
      "122 (0, 1) 4242.192762919658 4242.192762919658 (1, 0) 0.0\n",
      "123 (0, 1) 4291.75425956542 4291.75425956542 (1, 0) 0.0\n",
      "124 (0, 1) 4341.315756211185 4341.315756211183 (1, 0) 1.8189894035458565e-12\n",
      "125 (0, 1) 4390.877252856947 4390.877252856947 (1, 0) 0.0\n",
      "126 (0, 1) 4440.43874950271 4440.43874950271 (1, 0) 0.0\n",
      "127 (1, 0) 4490.000246148473 4490.000246148472 (0, 1) 9.094947017729282e-13\n",
      "128 (0, 1) 4539.561742794236 4539.561742794236 (1, 0) 0.0\n",
      "129 (0, 1) 4589.1232394399985 4589.1232394399985 (1, 0) 0.0\n",
      "130 (0, 1) 4638.684736085761 4638.684736085761 (1, 0) 0.0\n",
      "131 (0, 1) 4688.246232731524 4688.246232731524 (1, 0) 0.0\n",
      "132 (0, 1) 4737.8077293772885 4737.807729377288 (1, 0) 9.094947017729282e-13\n",
      "133 (1, 0) 4787.369226023051 4787.36922602305 (0, 1) 9.094947017729282e-13\n",
      "134 (0, 1) 4836.930722668813 4836.930722668812 (1, 0) 9.094947017729282e-13\n",
      "135 (0, 1) 4886.492219314577 4886.492219314576 (1, 0) 9.094947017729282e-13\n",
      "136 (0, 1) 4936.053715960339 4936.053715960339 (1, 0) 0.0\n",
      "137 (0, 1) 4985.615212606102 4985.615212606102 (1, 0) 0.0\n",
      "138 (0, 1) 5035.176709251866 5035.176709251864 (1, 0) 1.8189894035458565e-12\n",
      "139 (0, 1) 5084.738205897628 5084.738205897628 (1, 0) 0.0\n",
      "140 (0, 1) 5134.2997025433915 5134.2997025433915 (1, 0) 0.0\n",
      "141 (0, 1) 5183.861199189155 5183.861199189154 (1, 0) 9.094947017729282e-13\n",
      "142 (0, 1) 5233.422695834917 5233.422695834917 (1, 0) 0.0\n",
      "143 (1, 0) 5282.984192480681 5282.98419248068 (0, 1) 9.094947017729282e-13\n",
      "144 (0, 1) 5332.545689126444 5332.545689126443 (1, 0) 9.094947017729282e-13\n",
      "145 (0, 1) 5382.107185772206 5382.107185772205 (1, 0) 9.094947017729282e-13\n",
      "146 (0, 1) 5431.668682417968 5431.668682417968 (1, 0) 0.0\n",
      "147 (0, 1) 5481.230179063732 5481.230179063732 (1, 0) 0.0\n",
      "148 (0, 1) 5530.7916757094945 5530.791675709494 (1, 0) 9.094947017729282e-13\n",
      "149 (0, 1) 5580.353172355258 5580.353172355258 (1, 0) 0.0\n",
      "150 (0, 1) 5629.914669001021 5629.91466900102 (1, 0) 9.094947017729282e-13\n",
      "151 (0, 1) 5679.4761656467845 5679.476165646784 (1, 0) 9.094947017729282e-13\n",
      "152 (1, 0) 5729.037662292547 5729.037662292546 (0, 1) 9.094947017729282e-13\n",
      "153 (0, 1) 5778.599158938309 5778.599158938309 (1, 0) 0.0\n",
      "154 (0, 1) 5828.160655584073 5828.160655584073 (1, 0) 0.0\n",
      "155 (0, 1) 5877.722152229836 5877.722152229835 (1, 0) 9.094947017729282e-13\n",
      "156 (0, 1) 5927.283648875599 5927.283648875599 (1, 0) 0.0\n",
      "157 (0, 1) 5976.845145521363 5976.845145521362 (1, 0) 9.094947017729282e-13\n",
      "158 (0, 1) 6026.406642167124 6026.406642167124 (1, 0) 0.0\n",
      "159 (0, 1) 6075.968138812887 6075.968138812887 (1, 0) 0.0\n",
      "160 (0, 1) 6125.529635458651 6125.52963545865 (1, 0) 9.094947017729282e-13\n",
      "161 (0, 1) 6175.091132104413 6175.091132104412 (1, 0) 9.094947017729282e-13\n",
      "162 (0, 1) 6224.652628750177 6224.652628750177 (1, 0) 0.0\n",
      "163 (0, 1) 6274.214125395939 6274.214125395939 (1, 0) 0.0\n",
      "164 (0, 1) 6323.775622041702 6323.775622041701 (1, 0) 9.094947017729282e-13\n",
      "165 (0, 1) 6373.337118687466 6373.337118687465 (1, 0) 9.094947017729282e-13\n",
      "166 (0, 1) 6422.898615333229 6422.898615333229 (1, 0) 0.0\n"
     ]
    },
    {
     "name": "stdout",
     "output_type": "stream",
     "text": [
      "167 (0, 1) 6472.46011197899 6472.46011197899 (1, 0) 0.0\n",
      "168 (0, 1) 6522.021608624754 6522.021608624754 (1, 0) 0.0\n",
      "169 (0, 1) 6571.583105270517 6571.583105270517 (1, 0) 0.0\n",
      "170 (0, 1) 6621.14460191628 6621.1446019162795 (1, 0) 9.094947017729282e-13\n",
      "171 (0, 1) 6670.706098562043 6670.706098562043 (1, 0) 0.0\n",
      "172 (0, 1) 6720.267595207808 6720.267595207806 (1, 0) 1.8189894035458565e-12\n",
      "173 (0, 1) 6769.829091853569 6769.829091853569 (1, 0) 0.0\n",
      "174 (0, 1) 6819.390588499333 6819.390588499333 (1, 0) 0.0\n",
      "175 (0, 1) 6868.952085145095 6868.952085145094 (1, 0) 9.094947017729282e-13\n",
      "176 (0, 1) 6918.513581790858 6918.513581790858 (1, 0) 0.0\n",
      "177 (0, 1) 6968.075078436621 6968.075078436621 (1, 0) 0.0\n",
      "178 (0, 1) 7017.6365750823825 7017.6365750823825 (1, 0) 0.0\n",
      "179 (0, 1) 7067.198071728146 7067.198071728146 (1, 0) 0.0\n",
      "180 (0, 1) 7116.75956837391 7116.759568373909 (1, 0) 9.094947017729282e-13\n",
      "181 (0, 1) 7166.3210650196725 7166.3210650196725 (1, 0) 0.0\n",
      "182 (0, 1) 7215.882561665434 7215.882561665434 (1, 0) 0.0\n",
      "183 (0, 1) 7265.444058311198 7265.444058311198 (1, 0) 0.0\n",
      "184 (0, 1) 7315.0055549569615 7315.005554956961 (1, 0) 9.094947017729282e-13\n",
      "185 (0, 1) 7364.567051602722 7364.567051602722 (1, 0) 0.0\n",
      "186 (0, 1) 7414.128548248486 7414.1285482484855 (1, 0) 9.094947017729282e-13\n",
      "187 (0, 1) 7463.690044894249 7463.690044894249 (1, 0) 0.0\n",
      "188 (0, 1) 7513.251541540013 7513.251541540013 (1, 0) 0.0\n",
      "189 (0, 1) 7562.813038185777 7562.813038185777 (1, 0) 0.0\n",
      "190 (0, 1) 7612.374534831539 7612.374534831539 (1, 0) 0.0\n",
      "191 (0, 1) 7661.936031477303 7661.936031477303 (1, 0) 0.0\n",
      "192 (0, 1) 7711.497528123065 7711.497528123065 (1, 0) 0.0\n",
      "193 (0, 1) 7761.059024768827 7761.059024768827 (1, 0) 0.0\n",
      "194 (0, 1) 7810.620521414591 7810.62052141459 (1, 0) 9.094947017729282e-13\n",
      "195 (0, 1) 7860.182018060354 7860.182018060354 (1, 0) 0.0\n",
      "196 (0, 1) 7909.743514706118 7909.743514706118 (1, 0) 0.0\n",
      "197 (0, 1) 7959.305011351879 7959.305011351878 (1, 0) 9.094947017729282e-13\n",
      "198 (0, 1) 8008.866507997643 8008.866507997643 (1, 0) 0.0\n",
      "199 (0, 1) 8058.428004643406 8058.428004643405 (1, 0) 9.094947017729282e-13\n"
     ]
    }
   ],
   "source": [
    "for i in range(200):\n",
    "    print(i, carteira(case_b1,case_corr_b1,i)[0],carteira(case_b1,case_corr_b1,i)[1],carteira(case_b1,case_corr_b1,i)[3],carteira(case_b1,case_corr_b1,i)[2], carteira(case_b1,case_corr_b1,i)[4] )"
   ]
  },
  {
   "cell_type": "code",
   "execution_count": 43,
   "metadata": {},
   "outputs": [
    {
     "name": "stdout",
     "output_type": "stream",
     "text": [
      "0 W 0.0 0.0 W 0.0\n",
      "1 W 0.0 0.0 W 0.0\n",
      "2 W 0.0 0.0 W 0.0\n",
      "3 W 0.0 0.0 W 0.0\n",
      "4 W 0.0 0.0 W 0.0\n",
      "5 W 0.0 0.0 W 0.0\n",
      "6 W 0.0 0.0 W 0.0\n",
      "7 W 0.0 0.0 W 0.0\n",
      "8 W 0.0 0.0 W 0.0\n",
      "9 W 0.0 0.0 W 0.0\n",
      "10 W 0.0 0.0 W 0.0\n",
      "11 W 0.0 0.0 W 0.0\n",
      "12 W 0.0 0.0 W 0.0\n",
      "13 W 0.0 0.0 W 0.0\n",
      "14 W 0.0 0.0 W 0.0\n",
      "15 W 0.0 0.0 W 0.0\n",
      "16 W 0.0 0.0 W 0.0\n",
      "17 W 0.0 0.0 W 0.0\n",
      "18 W 0.0 0.0 W 0.0\n",
      "19 W 0.0 0.0 W 0.0\n",
      "20 W 0.0 0.0 W 0.0\n",
      "21 W 0.0 0.0 W 0.0\n",
      "22 W 0.0 0.0 W 0.0\n",
      "23 W 0.0 0.0 W 0.0\n",
      "24 W 0.0 0.0 W 0.0\n",
      "25 W 0.0 0.0 W 0.0\n",
      "26 W 0.0 0.0 W 0.0\n",
      "27 W 0.0 0.0 W 0.0\n",
      "28 W 0.0 0.0 W 0.0\n",
      "29 W 0.0 0.0 W 0.0\n",
      "30 W 0.0 0.0 W 0.0\n",
      "31 W 0.0 0.0 W 0.0\n",
      "32 W 0.0 0.0 W 0.0\n",
      "33 W 0.0 0.0 W 0.0\n",
      "34 W 0.0 0.0 W 0.0\n",
      "35 (0, 1, 2) 5.9207295217013325 5.9207295217013325 (0, 2, 1) 0.0\n",
      "36 (0, 2, 1) 62.92730908945186 49.78470234762641 (0, 1, 2) 13.142606741825453\n",
      "37 (0, 2, 1) 121.43944879555607 118.33486773700339 (0, 1, 2) 3.1045810585526823\n",
      "38 (0, 2, 1) 187.6014963758596 186.8850331263806 (0, 1, 2) 0.7164632494790055\n",
      "39 (0, 1, 2) 255.43519851575797 255.20612356138565 (0, 2, 1) 0.22907495437232228\n",
      "40 (1, 0, 2) 330.1063990250235 325.42694415072697 (0, 1, 2) 4.679454874296539\n",
      "41 (1, 0, 2) 410.06447412096645 401.9303739872004 (0, 1, 2) 8.134100133766026\n",
      "42 (1, 0, 2) 490.0225492169095 481.5748958378403 (2, 0, 1) 8.447653379069209\n",
      "43 (1, 0, 2) 569.9806243128526 561.7705372612267 (2, 0, 1) 8.21008705162592\n",
      "44 (1, 0, 2) 649.9386994087956 641.9661786846132 (2, 0, 1) 7.972520724182459\n",
      "45 (1, 0, 2) 729.8967745047387 722.1618201079995 (2, 0, 1) 7.7349543967392265\n",
      "46 (1, 0, 2) 809.8548496006816 802.3574615313858 (2, 0, 1) 7.49738806929588\n",
      "47 (1, 0, 2) 889.8129246966245 882.5531029547718 (2, 0, 1) 7.259821741852647\n",
      "48 (1, 0, 2) 969.7709997925676 962.7487443781586 (2, 0, 1) 7.022255414409074\n",
      "49 (1, 0, 2) 1049.7290748885107 1042.9443858015447 (2, 0, 1) 6.784689086965955\n",
      "50 (1, 0, 2) 1129.6871499844528 1123.1400272249307 (2, 0, 1) 6.5471227595221535\n",
      "51 (1, 0, 2) 1209.6452250803966 1203.3356686483176 (2, 0, 1) 6.3095564320790345\n",
      "52 (1, 0, 2) 1289.6033001763392 1283.5313100717035 (2, 0, 1) 6.071990104635688\n",
      "53 (1, 0, 2) 1369.5613752722822 1363.72695149509 (2, 0, 1) 5.834423777192342\n",
      "54 (1, 0, 2) 1449.5194503682253 1443.9225929184763 (2, 0, 1) 5.596857449748995\n",
      "55 (1, 0, 2) 1529.4775254641686 1524.1182343418627 (2, 0, 1) 5.359291122305876\n",
      "56 (1, 0, 2) 1609.4356005601112 1604.3138757652487 (2, 0, 1) 5.12172479486253\n",
      "57 (1, 0, 2) 1689.3936756560543 1684.5095171886353 (2, 0, 1) 4.884158467418956\n",
      "58 (1, 0, 2) 1769.351750751997 1764.7051586120215 (2, 0, 1) 4.64659213997561\n",
      "59 (1, 0, 2) 1849.3098258479406 1844.900800035408 (2, 0, 1) 4.409025812532491\n",
      "60 (1, 0, 2) 1929.2679009438832 1925.0964414587945 (2, 0, 1) 4.17145948508869\n",
      "61 (1, 0, 2) 2009.2259760398265 2005.2920828821811 (2, 0, 1) 3.9338931576453433\n",
      "62 (1, 0, 2) 2089.1840511357696 2085.487724305567 (2, 0, 1) 3.6963268302024517\n",
      "63 (1, 0, 2) 2169.1421262317126 2165.683365728954 (2, 0, 1) 3.4587605027586505\n",
      "64 (1, 0, 2) 2249.1002013276557 2245.87900715234 (2, 0, 1) 3.221194175315759\n",
      "65 (1, 0, 2) 2329.058276423598 2326.0746485757254 (2, 0, 1) 2.9836278478724125\n",
      "66 (1, 0, 2) 2409.016351519542 2406.2702899991127 (2, 0, 1) 2.746061520429066\n",
      "67 (1, 0, 2) 2488.974426615484 2486.465931422498 (2, 0, 1) 2.5084951929857198\n",
      "68 (1, 0, 2) 2568.9325017114274 2566.6615728458846 (2, 0, 1) 2.270928865542828\n",
      "69 (1, 0, 2) 2648.89057680737 2646.857214269271 (2, 0, 1) 2.033362538099027\n",
      "70 (1, 0, 2) 2728.848651903313 2727.052855692658 (2, 0, 1) 1.7957962106552259\n",
      "71 (1, 0, 2) 2808.806726999256 2807.248497116044 (2, 0, 1) 1.5582298832123342\n",
      "72 (1, 0, 2) 2888.7648020951992 2887.4441385394307 (2, 0, 1) 1.3206635557685331\n",
      "73 (1, 0, 2) 2968.7228771911414 2967.8357308190843 (0, 1, 2) 0.8871463720570318\n",
      "74 (0, 2, 1) 3049.0943417291787 3049.0943417291787 (2, 0, 1) 0.0\n",
      "75 (1, 0, 2) 3130.352952639273 3130.352952639273 (1, 2, 0) 0.0\n",
      "76 (0, 2, 1) 3211.611563549367 3211.6115635493666 (0, 1, 2) 4.547473508864641e-13\n",
      "77 (2, 0, 1) 3292.870174459461 3292.870174459461 (2, 1, 0) 0.0\n",
      "78 (1, 0, 2) 3374.128785369555 3374.128785369555 (1, 2, 0) 0.0\n",
      "79 (0, 1, 2) 3455.387396279648 3455.387396279648 (0, 2, 1) 0.0\n",
      "80 (2, 0, 1) 3536.6460071897422 3536.646007189742 (0, 1, 2) 4.547473508864641e-13\n",
      "81 (0, 1, 2) 3617.9046180998366 3617.9046180998366 (0, 2, 1) 0.0\n",
      "82 (0, 1, 2) 3699.16322900993 3699.16322900993 (0, 2, 1) 0.0\n",
      "83 (0, 1, 2) 3780.4218399200236 3780.4218399200236 (0, 2, 1) 0.0\n",
      "84 (2, 0, 1) 3861.680450830118 3861.6804508301175 (1, 2, 0) 4.547473508864641e-13\n",
      "85 (1, 0, 2) 3942.9390617402114 3942.9390617402114 (2, 0, 1) 0.0\n",
      "86 (0, 1, 2) 4024.197672650305 4024.197672650305 (1, 0, 2) 0.0\n",
      "87 (1, 0, 2) 4105.4562835604 4105.456283560399 (0, 1, 2) 9.094947017729282e-13\n",
      "88 (0, 1, 2) 4186.714894470493 4186.714894470493 (0, 2, 1) 0.0\n",
      "89 (0, 1, 2) 4267.973505380587 4267.973505380587 (0, 2, 1) 0.0\n",
      "90 (2, 0, 1) 4349.232116290681 4349.232116290681 (2, 1, 0) 0.0\n",
      "91 (0, 1, 2) 4430.490727200774 4430.490727200774 (0, 2, 1) 0.0\n",
      "92 (0, 1, 2) 4511.749338110869 4511.749338110869 (0, 2, 1) 0.0\n",
      "93 (2, 1, 0) 4593.007949020962 4593.007949020961 (0, 1, 2) 9.094947017729282e-13\n",
      "94 (0, 1, 2) 4674.266559931055 4674.266559931055 (0, 2, 1) 0.0\n",
      "95 (2, 0, 1) 4755.525170841151 4755.52517084115 (0, 1, 2) 9.094947017729282e-13\n",
      "96 (0, 1, 2) 4836.7837817512445 4836.7837817512445 (0, 2, 1) 0.0\n",
      "97 (2, 0, 1) 4918.0423926613375 4918.0423926613375 (2, 1, 0) 0.0\n",
      "98 (2, 0, 1) 4999.301003571432 4999.3010035714315 (0, 1, 2) 9.094947017729282e-13\n",
      "99 (0, 1, 2) 5080.5596144815245 5080.5596144815245 (0, 2, 1) 0.0\n",
      "100 (0, 1, 2) 5161.818225391618 5161.818225391618 (0, 2, 1) 0.0\n",
      "101 (0, 1, 2) 5243.076836301712 5243.076836301712 (0, 2, 1) 0.0\n",
      "102 (0, 1, 2) 5324.335447211806 5324.335447211806 (0, 2, 1) 0.0\n",
      "103 (0, 1, 2) 5405.5940581219 5405.5940581219 (0, 2, 1) 0.0\n",
      "104 (0, 1, 2) 5486.852669031994 5486.852669031994 (2, 0, 1) 0.0\n",
      "105 (0, 1, 2) 5568.111279942089 5568.111279942089 (0, 2, 1) 0.0\n",
      "106 (0, 1, 2) 5649.369890852182 5649.369890852182 (0, 2, 1) 0.0\n",
      "107 (0, 1, 2) 5730.628501762276 5730.628501762276 (0, 2, 1) 0.0\n",
      "108 (0, 1, 2) 5811.887112672369 5811.887112672369 (0, 2, 1) 0.0\n",
      "109 (0, 1, 2) 5893.145723582464 5893.145723582464 (0, 2, 1) 0.0\n",
      "110 (0, 1, 2) 5974.404334492558 5974.404334492558 (0, 2, 1) 0.0\n",
      "111 (0, 1, 2) 6055.6629454026515 6055.6629454026515 (0, 2, 1) 0.0\n",
      "112 (0, 1, 2) 6136.9215563127445 6136.9215563127445 (0, 2, 1) 0.0\n",
      "113 (2, 0, 1) 6218.18016722284 6218.180167222839 (0, 1, 2) 9.094947017729282e-13\n",
      "114 (2, 0, 1) 6299.438778132932 6299.438778132932 (2, 1, 0) 0.0\n",
      "115 (2, 0, 1) 6380.697389043026 6380.697389043026 (2, 1, 0) 0.0\n",
      "116 (0, 1, 2) 6461.955999953121 6461.955999953121 (0, 2, 1) 0.0\n",
      "117 (2, 0, 1) 6543.214610863215 6543.214610863214 (0, 1, 2) 9.094947017729282e-13\n",
      "118 (2, 0, 1) 6624.473221773309 6624.473221773309 (2, 1, 0) 0.0\n",
      "119 (0, 1, 2) 6705.731832683401 6705.731832683401 (0, 2, 1) 0.0\n",
      "120 (0, 1, 2) 6786.990443593497 6786.990443593495 (0, 2, 1) 1.8189894035458565e-12\n",
      "121 (0, 1, 2) 6868.24905450359 6868.24905450359 (0, 2, 1) 0.0\n",
      "122 (0, 1, 2) 6949.507665413685 6949.507665413685 (0, 2, 1) 0.0\n",
      "123 (0, 1, 2) 7030.766276323777 7030.766276323777 (0, 2, 1) 0.0\n",
      "124 (0, 1, 2) 7112.024887233871 7112.024887233871 (0, 2, 1) 0.0\n",
      "125 (0, 1, 2) 7193.283498143965 7193.283498143965 (1, 2, 0) 0.0\n",
      "126 (0, 1, 2) 7274.54210905406 7274.542109054059 (0, 2, 1) 9.094947017729282e-13\n",
      "127 (0, 1, 2) 7355.800719964152 7355.800719964152 (0, 2, 1) 0.0\n",
      "128 (0, 1, 2) 7437.059330874247 7437.059330874247 (0, 2, 1) 0.0\n",
      "129 (0, 1, 2) 7518.31794178434 7518.31794178434 (0, 2, 1) 0.0\n",
      "130 (0, 1, 2) 7599.576552694433 7599.576552694433 (0, 2, 1) 0.0\n",
      "131 (0, 1, 2) 7680.835163604528 7680.835163604528 (0, 2, 1) 0.0\n",
      "132 (0, 1, 2) 7762.093774514623 7762.093774514622 (0, 2, 1) 9.094947017729282e-13\n",
      "133 (0, 1, 2) 7843.352385424717 7843.352385424716 (0, 2, 1) 9.094947017729282e-13\n",
      "134 (2, 0, 1) 7924.61099633481 7924.610996334809 (0, 1, 2) 9.094947017729282e-13\n",
      "135 (0, 1, 2) 8005.869607244903 8005.869607244903 (0, 2, 1) 0.0\n",
      "136 (0, 1, 2) 8087.128218154998 8087.128218154998 (0, 2, 1) 0.0\n",
      "137 (1, 0, 2) 8168.386829065092 8168.386829065092 (2, 0, 1) 0.0\n",
      "138 (0, 1, 2) 8249.645439975184 8249.645439975184 (0, 2, 1) 0.0\n",
      "139 (0, 1, 2) 8330.90405088528 8330.90405088528 (0, 2, 1) 0.0\n",
      "140 (0, 1, 2) 8412.162661795373 8412.162661795373 (2, 0, 1) 0.0\n",
      "141 (0, 1, 2) 8493.421272705467 8493.421272705467 (1, 0, 2) 0.0\n",
      "142 (0, 1, 2) 8574.679883615561 8574.679883615561 (0, 2, 1) 0.0\n",
      "143 (2, 0, 1) 8655.938494525655 8655.938494525653 (0, 1, 2) 1.8189894035458565e-12\n",
      "144 (0, 2, 1) 8737.19710543575 8737.19710543575 (1, 2, 0) 0.0\n",
      "145 (2, 1, 0) 8818.455716345843 8818.455716345841 (0, 1, 2) 1.8189894035458565e-12\n",
      "146 (0, 1, 2) 8899.714327255935 8899.714327255935 (0, 2, 1) 0.0\n",
      "147 (0, 1, 2) 8980.972938166029 8980.972938166029 (0, 2, 1) 0.0\n",
      "148 (0, 1, 2) 9062.231549076123 9062.231549076123 (0, 2, 1) 0.0\n",
      "149 (0, 1, 2) 9143.490159986217 9143.490159986217 (0, 2, 1) 0.0\n",
      "150 (0, 1, 2) 9224.74877089631 9224.74877089631 (0, 2, 1) 0.0\n",
      "151 (0, 1, 2) 9306.007381806405 9306.007381806405 (0, 2, 1) 0.0\n",
      "152 (0, 2, 1) 9387.265992716499 9387.265992716499 (2, 0, 1) 0.0\n",
      "153 (0, 1, 2) 9468.524603626593 9468.524603626593 (0, 2, 1) 0.0\n"
     ]
    },
    {
     "name": "stdout",
     "output_type": "stream",
     "text": [
      "154 (0, 1, 2) 9549.783214536687 9549.783214536687 (1, 0, 2) 0.0\n",
      "155 (0, 1, 2) 9631.04182544678 9631.04182544678 (0, 2, 1) 0.0\n",
      "156 (2, 0, 1) 9712.300436356876 9712.300436356874 (0, 1, 2) 1.8189894035458565e-12\n",
      "157 (0, 1, 2) 9793.55904726697 9793.55904726697 (2, 1, 0) 0.0\n",
      "158 (2, 1, 0) 9874.817658177062 9874.81765817706 (0, 1, 2) 1.8189894035458565e-12\n",
      "159 (0, 1, 2) 9956.076269087156 9956.076269087156 (0, 2, 1) 0.0\n",
      "160 (2, 0, 1) 10037.33487999725 10037.334879997248 (0, 1, 2) 1.8189894035458565e-12\n",
      "161 (1, 0, 2) 10118.593490907342 10118.593490907342 (2, 0, 1) 0.0\n",
      "162 (0, 1, 2) 10199.852101817436 10199.852101817436 (0, 2, 1) 0.0\n",
      "163 (0, 1, 2) 10281.11071272753 10281.11071272753 (0, 2, 1) 0.0\n",
      "164 (0, 2, 1) 10362.369323637626 10362.369323637624 (0, 1, 2) 1.8189894035458565e-12\n",
      "165 (0, 2, 1) 10443.62793454772 10443.62793454772 (2, 0, 1) 0.0\n",
      "166 (0, 1, 2) 10524.886545457814 10524.886545457814 (2, 0, 1) 0.0\n",
      "167 (0, 1, 2) 10606.145156367907 10606.145156367907 (2, 1, 0) 0.0\n",
      "168 (0, 1, 2) 10687.403767278 10687.403767278 (0, 2, 1) 0.0\n",
      "169 (1, 0, 2) 10768.662378188093 10768.662378188093 (1, 2, 0) 0.0\n",
      "170 (0, 1, 2) 10849.92098909819 10849.920989098187 (0, 2, 1) 1.8189894035458565e-12\n",
      "171 (2, 1, 0) 10931.179600008283 10931.179600008281 (0, 1, 2) 1.8189894035458565e-12\n",
      "172 (0, 1, 2) 11012.438210918375 11012.438210918375 (0, 2, 1) 0.0\n",
      "173 (0, 1, 2) 11093.69682182847 11093.696821828467 (0, 2, 1) 1.8189894035458565e-12\n",
      "174 (0, 1, 2) 11174.955432738563 11174.955432738563 (0, 2, 1) 0.0\n",
      "175 (0, 1, 2) 11256.214043648657 11256.214043648655 (0, 2, 1) 1.8189894035458565e-12\n",
      "176 (0, 1, 2) 11337.472654558751 11337.472654558751 (0, 2, 1) 0.0\n",
      "177 (0, 1, 2) 11418.731265468845 11418.731265468845 (0, 2, 1) 0.0\n",
      "178 (0, 1, 2) 11499.989876378937 11499.989876378937 (0, 2, 1) 0.0\n",
      "179 (0, 1, 2) 11581.24848728903 11581.24848728903 (0, 2, 1) 0.0\n",
      "180 (0, 1, 2) 11662.507098199127 11662.507098199127 (0, 2, 1) 0.0\n",
      "181 (2, 0, 1) 11743.76570910922 11743.765709109219 (0, 1, 2) 1.8189894035458565e-12\n",
      "182 (0, 1, 2) 11825.02432001931 11825.02432001931 (0, 2, 1) 0.0\n",
      "183 (0, 1, 2) 11906.282930929407 11906.282930929407 (0, 2, 1) 0.0\n",
      "184 (1, 0, 2) 11987.541541839502 11987.5415418395 (0, 1, 2) 1.8189894035458565e-12\n",
      "185 (0, 2, 1) 12068.800152749593 12068.800152749593 (1, 0, 2) 0.0\n",
      "186 (0, 1, 2) 12150.058763659688 12150.058763659688 (0, 2, 1) 0.0\n",
      "187 (0, 1, 2) 12231.317374569782 12231.317374569782 (2, 0, 1) 0.0\n",
      "188 (2, 0, 1) 12312.575985479876 12312.575985479876 (2, 1, 0) 0.0\n",
      "189 (0, 2, 1) 12393.834596389972 12393.834596389972 (1, 0, 2) 0.0\n",
      "190 (0, 1, 2) 12475.093207300064 12475.093207300064 (0, 2, 1) 0.0\n",
      "191 (0, 1, 2) 12556.35181821016 12556.35181821016 (0, 2, 1) 0.0\n",
      "192 (0, 1, 2) 12637.610429120254 12637.610429120252 (0, 2, 1) 1.8189894035458565e-12\n",
      "193 (0, 1, 2) 12718.869040030346 12718.869040030346 (0, 2, 1) 0.0\n",
      "194 (0, 2, 1) 12800.127650940442 12800.127650940442 (2, 0, 1) 0.0\n",
      "195 (0, 1, 2) 12881.386261850534 12881.386261850534 (0, 2, 1) 0.0\n",
      "196 (0, 1, 2) 12962.64487276063 12962.644872760628 (0, 2, 1) 1.8189894035458565e-12\n",
      "197 (2, 0, 1) 13043.903483670721 13043.903483670721 (2, 1, 0) 0.0\n",
      "198 (0, 1, 2) 13125.162094580814 13125.162094580814 (0, 2, 1) 0.0\n",
      "199 (0, 1, 2) 13206.42070549091 13206.42070549091 (0, 2, 1) 0.0\n"
     ]
    }
   ],
   "source": [
    "for i in range(200):\n",
    "    print(i, carteira(case,case_corr,i)[0],carteira(case,case_corr,i)[1],carteira(case,case_corr,i)[3],carteira(case,case_corr,i)[2], carteira(case,case_corr,i)[4] )"
   ]
  },
  {
   "cell_type": "code",
   "execution_count": 44,
   "metadata": {},
   "outputs": [],
   "source": [
    "def diffinexpcart(case,case_corr,P,r,div,sigma,tau,accur):\n",
    "    #############################################################\n",
    "    #######Método por diferenças finitas explícitas##############\n",
    "    #accur=0.05  #Porcentagem de acurácia\n",
    "    \n",
    "    #####Solução por diferenças finita explícitas###\n",
    "    #Precisão em e intervalo da célula em V\n",
    "    deltaP=P*accur\n",
    "    \n",
    "    # M são as divisões do grid em V\n",
    "    #Perpetuidade vcritico não esta na programacao\n",
    "    #M= int(1.1*vcritico(I,r,div,sigma,tau)[2]/deltaV) # Max é 10% acima do gatilho em perpetuidade. Vcrit- com gati precisa de tau\n",
    "    Pmax=2*P\n",
    "    M=int(Pmax/deltaP)\n",
    "    PGrid=int(P/deltaP) #Ponto do grid onde esta P_0. \n",
    "    \n",
    "    #deltat= (deltaP**2)/((sigma**2)*((3*I)**2)) #Convergência: Critério do peso central >=0. Pmax=3I ><1.1Gatilho_perp\n",
    "    deltat= (deltaP**2)/((sigma**2)*(Pmax**2))\n",
    "    N= int(tau/deltat) +1\n",
    "    \n",
    "    df=1/(1+(r*deltat)) # fator de desconto\n",
    "    \n",
    "    \n",
    "    #Vetor Pt\n",
    "    Pt=np.zeros(M+1)\n",
    "    Gatilho=np.zeros((N+1,M+1), dtype=object)\n",
    "    F=np.zeros((N+1,M+1))\n",
    "    deltat=tau/N\n",
    "    for i in range(M+1):\n",
    "        Pt[i]= i*deltaP\n",
    "        solution=carteira(case,case_corr,Pt[i])\n",
    "        F[N,i]=solution[1]\n",
    "        #print(solution[0])\n",
    "        Gatilho[N,i]=solution[0]\n",
    "        #F[N,i]=np.maximum(0,Pt[i]-I)\n",
    "    #Gatilho[N]=I\n",
    "    \n",
    "    ##############Loop################\n",
    "    for j in range(N-1,-1,-1): #de N-1 até zero(-1) pulando em -1\n",
    "        for i in range(1,M,1): # de 1 até M-1 pulando em 1\n",
    "            pu= 0.5*((sigma**2)*(i**2) + ((r - div)*i))*deltat\n",
    "            pm = 1 - (sigma**2)*(i**2)*deltat\n",
    "            pdown = 0.5*((sigma**2)*(i**2) - ((r - div)*i))*deltat\n",
    "            F[j,i]= df*(pu*F[j+1,i+1] + pm*F[j+1,i] + pdown*F[j+1,i - 1])\n",
    "            \n",
    "            ###Vetor Gatilho####\n",
    "            #if F[j,i]< Vt[i]-I and F[j,i-1]>Pt[i-1]-I:\n",
    "            #    Gatilho[j]=(Pt[i]+Vt[i-1])/2\n",
    "            \n",
    "            solution=carteira(case,case_corr,Pt[i])\n",
    "            if F[j,i]>=solution[1]: #opcao americana e gatilho\n",
    "                Gatilho[j,i]='W'\n",
    "            else:\n",
    "                Gatilho[j,i]=solution[0]\n",
    "                F[j,i]=solution[1]\n",
    "        \n",
    "        \n",
    "        F[j,0]=0\n",
    "        Gatilho[j,0]='W'\n",
    "        solution=carteira(case,case_corr,Pt[i])\n",
    "        F[j,M]=solution[1]\n",
    "        Gatilho[j,M]=solution[0]\n",
    "        \n",
    "    T=np.linspace(0,tau,num=N+1)\n",
    "    \n",
    "    ###############Dataframe do Gatilho##############\n",
    "    #print(Gatilho.shape[0])\n",
    "    dframe=pd.DataFrame(list(range(Gatilho.shape[0])))\n",
    "    dframe.columns=['Time']\n",
    "    dframe= dframe.set_index('Time')\n",
    "\n",
    "    for i in range(Gatilho.shape[0]):\n",
    "        check=Gatilho[i,0]\n",
    "        for j in range(Gatilho.shape[1]):\n",
    "            if check == Gatilho[i,j]:\n",
    "                check=check\n",
    "            else:\n",
    "                #print(i,j,'{}'.format(check),Gatilho[i,j],j)\n",
    "                dframe.loc[i,'{}'.format(Gatilho[i,j-1])]=Pt[j]\n",
    "                check=Gatilho[i,j]\n",
    "    dframe.index=T\n",
    "    \n",
    "    ###Retorna A opção hoje, Gatilho, Tempo, Vt, Matrix para Gráficos\n",
    "    return[F[0,PGrid+1],dframe,T,Pt,F,Gatilho]\n",
    "\n"
   ]
  },
  {
   "cell_type": "code",
   "execution_count": 45,
   "metadata": {},
   "outputs": [
    {
     "data": {
      "text/html": [
       "<div>\n",
       "<style scoped>\n",
       "    .dataframe tbody tr th:only-of-type {\n",
       "        vertical-align: middle;\n",
       "    }\n",
       "\n",
       "    .dataframe tbody tr th {\n",
       "        vertical-align: top;\n",
       "    }\n",
       "\n",
       "    .dataframe thead th {\n",
       "        text-align: right;\n",
       "    }\n",
       "</style>\n",
       "<table border=\"1\" class=\"dataframe\">\n",
       "  <thead>\n",
       "    <tr style=\"text-align: right;\">\n",
       "      <th></th>\n",
       "      <th>DogFish</th>\n",
       "      <th>Feather</th>\n",
       "      <th>Head</th>\n",
       "    </tr>\n",
       "    <tr>\n",
       "      <th>Type</th>\n",
       "      <th></th>\n",
       "      <th></th>\n",
       "      <th></th>\n",
       "    </tr>\n",
       "  </thead>\n",
       "  <tbody>\n",
       "    <tr>\n",
       "      <td>DogFish</td>\n",
       "      <td>1.0</td>\n",
       "      <td>0.6</td>\n",
       "      <td>0.5</td>\n",
       "    </tr>\n",
       "    <tr>\n",
       "      <td>Feather</td>\n",
       "      <td>0.6</td>\n",
       "      <td>1.0</td>\n",
       "      <td>0.6</td>\n",
       "    </tr>\n",
       "    <tr>\n",
       "      <td>Head</td>\n",
       "      <td>0.5</td>\n",
       "      <td>0.6</td>\n",
       "      <td>1.0</td>\n",
       "    </tr>\n",
       "  </tbody>\n",
       "</table>\n",
       "</div>"
      ],
      "text/plain": [
       "         DogFish  Feather  Head\n",
       "Type                           \n",
       "DogFish      1.0      0.6   0.5\n",
       "Feather      0.6      1.0   0.6\n",
       "Head         0.5      0.6   1.0"
      ]
     },
     "execution_count": 45,
     "metadata": {},
     "output_type": "execute_result"
    }
   ],
   "source": [
    "case_corr"
   ]
  },
  {
   "cell_type": "code",
   "execution_count": 46,
   "metadata": {},
   "outputs": [
    {
     "name": "stdout",
     "output_type": "stream",
     "text": [
      "minutos- 850.9206366419792\n"
     ]
    }
   ],
   "source": [
    "accur=0.005\n",
    "start=time.time()\n",
    "solucao=diffinexpcart(case,case_corr,50,r,delta,sigma,tau,accur)\n",
    "cpu=time.time()-start\n",
    "print('minutos-',cpu/60)\n"
   ]
  },
  {
   "cell_type": "code",
   "execution_count": 47,
   "metadata": {},
   "outputs": [
    {
     "data": {
      "text/plain": [
       "1309.5399039316824"
      ]
     },
     "execution_count": 47,
     "metadata": {},
     "output_type": "execute_result"
    }
   ],
   "source": [
    "solucao[0]"
   ]
  },
  {
   "cell_type": "code",
   "execution_count": 48,
   "metadata": {},
   "outputs": [
    {
     "data": {
      "text/html": [
       "<div>\n",
       "<style scoped>\n",
       "    .dataframe tbody tr th:only-of-type {\n",
       "        vertical-align: middle;\n",
       "    }\n",
       "\n",
       "    .dataframe tbody tr th {\n",
       "        vertical-align: top;\n",
       "    }\n",
       "\n",
       "    .dataframe thead th {\n",
       "        text-align: right;\n",
       "    }\n",
       "</style>\n",
       "<table border=\"1\" class=\"dataframe\">\n",
       "  <thead>\n",
       "    <tr style=\"text-align: right;\">\n",
       "      <th></th>\n",
       "      <th>W</th>\n",
       "      <th>(1, 0, 2)</th>\n",
       "      <th>(0, 1, 2)</th>\n",
       "      <th>(2, 0, 1)</th>\n",
       "      <th>(0, 2, 1)</th>\n",
       "      <th>(2, 1, 0)</th>\n",
       "      <th>(1, 2, 0)</th>\n",
       "    </tr>\n",
       "  </thead>\n",
       "  <tbody>\n",
       "    <tr>\n",
       "      <td>0.000000</td>\n",
       "      <td>74.75</td>\n",
       "      <td>89.0</td>\n",
       "      <td>98.5</td>\n",
       "      <td>98.25</td>\n",
       "      <td>96.75</td>\n",
       "      <td>99.0</td>\n",
       "      <td>95.5</td>\n",
       "    </tr>\n",
       "    <tr>\n",
       "      <td>0.000069</td>\n",
       "      <td>74.75</td>\n",
       "      <td>89.0</td>\n",
       "      <td>98.5</td>\n",
       "      <td>98.25</td>\n",
       "      <td>96.75</td>\n",
       "      <td>99.0</td>\n",
       "      <td>95.5</td>\n",
       "    </tr>\n",
       "    <tr>\n",
       "      <td>0.000139</td>\n",
       "      <td>74.75</td>\n",
       "      <td>89.0</td>\n",
       "      <td>98.5</td>\n",
       "      <td>98.25</td>\n",
       "      <td>96.75</td>\n",
       "      <td>99.0</td>\n",
       "      <td>95.5</td>\n",
       "    </tr>\n",
       "    <tr>\n",
       "      <td>0.000208</td>\n",
       "      <td>74.75</td>\n",
       "      <td>89.0</td>\n",
       "      <td>98.5</td>\n",
       "      <td>98.25</td>\n",
       "      <td>96.75</td>\n",
       "      <td>99.0</td>\n",
       "      <td>95.5</td>\n",
       "    </tr>\n",
       "    <tr>\n",
       "      <td>0.000278</td>\n",
       "      <td>74.75</td>\n",
       "      <td>89.0</td>\n",
       "      <td>98.5</td>\n",
       "      <td>98.25</td>\n",
       "      <td>96.75</td>\n",
       "      <td>99.0</td>\n",
       "      <td>95.5</td>\n",
       "    </tr>\n",
       "    <tr>\n",
       "      <td>...</td>\n",
       "      <td>...</td>\n",
       "      <td>...</td>\n",
       "      <td>...</td>\n",
       "      <td>...</td>\n",
       "      <td>...</td>\n",
       "      <td>...</td>\n",
       "      <td>...</td>\n",
       "    </tr>\n",
       "    <tr>\n",
       "      <td>2.999722</td>\n",
       "      <td>74.25</td>\n",
       "      <td>89.0</td>\n",
       "      <td>98.5</td>\n",
       "      <td>98.25</td>\n",
       "      <td>96.75</td>\n",
       "      <td>99.0</td>\n",
       "      <td>95.5</td>\n",
       "    </tr>\n",
       "    <tr>\n",
       "      <td>2.999792</td>\n",
       "      <td>74.25</td>\n",
       "      <td>89.0</td>\n",
       "      <td>98.5</td>\n",
       "      <td>98.25</td>\n",
       "      <td>96.75</td>\n",
       "      <td>99.0</td>\n",
       "      <td>95.5</td>\n",
       "    </tr>\n",
       "    <tr>\n",
       "      <td>2.999861</td>\n",
       "      <td>74.25</td>\n",
       "      <td>89.0</td>\n",
       "      <td>98.5</td>\n",
       "      <td>98.25</td>\n",
       "      <td>96.75</td>\n",
       "      <td>99.0</td>\n",
       "      <td>95.5</td>\n",
       "    </tr>\n",
       "    <tr>\n",
       "      <td>2.999931</td>\n",
       "      <td>74.00</td>\n",
       "      <td>89.0</td>\n",
       "      <td>98.5</td>\n",
       "      <td>98.25</td>\n",
       "      <td>96.75</td>\n",
       "      <td>99.0</td>\n",
       "      <td>95.5</td>\n",
       "    </tr>\n",
       "    <tr>\n",
       "      <td>3.000000</td>\n",
       "      <td>35.00</td>\n",
       "      <td>89.0</td>\n",
       "      <td>98.5</td>\n",
       "      <td>98.25</td>\n",
       "      <td>96.75</td>\n",
       "      <td>99.0</td>\n",
       "      <td>95.5</td>\n",
       "    </tr>\n",
       "  </tbody>\n",
       "</table>\n",
       "<p>43202 rows × 7 columns</p>\n",
       "</div>"
      ],
      "text/plain": [
       "              W  (1, 0, 2)  (0, 1, 2)  (2, 0, 1)  (0, 2, 1)  (2, 1, 0)  \\\n",
       "0.000000  74.75       89.0       98.5      98.25      96.75       99.0   \n",
       "0.000069  74.75       89.0       98.5      98.25      96.75       99.0   \n",
       "0.000139  74.75       89.0       98.5      98.25      96.75       99.0   \n",
       "0.000208  74.75       89.0       98.5      98.25      96.75       99.0   \n",
       "0.000278  74.75       89.0       98.5      98.25      96.75       99.0   \n",
       "...         ...        ...        ...        ...        ...        ...   \n",
       "2.999722  74.25       89.0       98.5      98.25      96.75       99.0   \n",
       "2.999792  74.25       89.0       98.5      98.25      96.75       99.0   \n",
       "2.999861  74.25       89.0       98.5      98.25      96.75       99.0   \n",
       "2.999931  74.00       89.0       98.5      98.25      96.75       99.0   \n",
       "3.000000  35.00       89.0       98.5      98.25      96.75       99.0   \n",
       "\n",
       "          (1, 2, 0)  \n",
       "0.000000       95.5  \n",
       "0.000069       95.5  \n",
       "0.000139       95.5  \n",
       "0.000208       95.5  \n",
       "0.000278       95.5  \n",
       "...             ...  \n",
       "2.999722       95.5  \n",
       "2.999792       95.5  \n",
       "2.999861       95.5  \n",
       "2.999931       95.5  \n",
       "3.000000       95.5  \n",
       "\n",
       "[43202 rows x 7 columns]"
      ]
     },
     "execution_count": 48,
     "metadata": {},
     "output_type": "execute_result"
    }
   ],
   "source": [
    "solucao[1]"
   ]
  },
  {
   "cell_type": "code",
   "execution_count": 49,
   "metadata": {},
   "outputs": [
    {
     "data": {
      "text/plain": [
       "<matplotlib.axes._subplots.AxesSubplot at 0x260b49ea348>"
      ]
     },
     "execution_count": 49,
     "metadata": {},
     "output_type": "execute_result"
    },
    {
     "data": {
      "image/png": "[encoded data removed]",
      "text/plain": [
       "<Figure size 432x288 with 1 Axes>"
      ]
     },
     "metadata": {
      "needs_background": "light"
     },
     "output_type": "display_data"
    }
   ],
   "source": [
    "solucao[1].plot()"
   ]
  },
  {
   "cell_type": "code",
   "execution_count": 50,
   "metadata": {},
   "outputs": [
    {
     "data": {
      "text/plain": [
       "(43202, 401)"
      ]
     },
     "execution_count": 50,
     "metadata": {},
     "output_type": "execute_result"
    }
   ],
   "source": [
    "solucao[5].shape"
   ]
  },
  {
   "cell_type": "code",
   "execution_count": 51,
   "metadata": {},
   "outputs": [],
   "source": [
    "ima=solucao[5]"
   ]
  },
  {
   "cell_type": "code",
   "execution_count": 52,
   "metadata": {},
   "outputs": [
    {
     "data": {
      "text/plain": [
       "array([['W', 'W', 'W', ..., (0, 1, 2), (0, 1, 2), (0, 1, 2)],\n",
       "       ['W', 'W', 'W', ..., (0, 1, 2), (0, 1, 2), (0, 1, 2)],\n",
       "       ['W', 'W', 'W', ..., (0, 1, 2), (0, 1, 2), (0, 1, 2)],\n",
       "       ...,\n",
       "       ['W', 'W', 'W', ..., (0, 1, 2), (0, 1, 2), (0, 1, 2)],\n",
       "       ['W', 'W', 'W', ..., (0, 1, 2), (0, 1, 2), (0, 1, 2)],\n",
       "       ['W', 'W', 'W', ..., (0, 1, 2), (0, 1, 2), (0, 1, 2)]],\n",
       "      dtype=object)"
      ]
     },
     "execution_count": 52,
     "metadata": {},
     "output_type": "execute_result"
    }
   ],
   "source": [
    "ima"
   ]
  },
  {
   "cell_type": "code",
   "execution_count": 272,
   "metadata": {},
   "outputs": [
    {
     "data": {
      "text/plain": [
       "False"
      ]
     },
     "execution_count": 272,
     "metadata": {},
     "output_type": "execute_result"
    }
   ],
   "source": [
    "ima[1000,80]==(0,1,2)"
   ]
  },
  {
   "cell_type": "code",
   "execution_count": 53,
   "metadata": {},
   "outputs": [
    {
     "data": {
      "text/plain": [
       "array([[0.00000000e+00, 1.63500236e-15, 3.41755381e-13, ...,\n",
       "        5.12118892e+03, 5.14150357e+03, 5.14150357e+03],\n",
       "       [0.00000000e+00, 1.63404348e-15, 3.41567294e-13, ...,\n",
       "        5.12118892e+03, 5.14150357e+03, 5.14150357e+03],\n",
       "       [0.00000000e+00, 1.63308514e-15, 3.41379303e-13, ...,\n",
       "        5.12118892e+03, 5.14150357e+03, 5.14150357e+03],\n",
       "       ...,\n",
       "       [0.00000000e+00, 0.00000000e+00, 0.00000000e+00, ...,\n",
       "        5.12118892e+03, 5.14150357e+03, 5.14150357e+03],\n",
       "       [0.00000000e+00, 0.00000000e+00, 0.00000000e+00, ...,\n",
       "        5.12118892e+03, 5.14150357e+03, 5.14150357e+03],\n",
       "       [0.00000000e+00, 0.00000000e+00, 0.00000000e+00, ...,\n",
       "        5.12118892e+03, 5.14150357e+03, 5.16181823e+03]])"
      ]
     },
     "execution_count": 53,
     "metadata": {},
     "output_type": "execute_result"
    }
   ],
   "source": [
    "solucao[4]"
   ]
  },
  {
   "cell_type": "code",
   "execution_count": 54,
   "metadata": {},
   "outputs": [
    {
     "data": {
      "text/plain": [
       "(43202, 401)"
      ]
     },
     "execution_count": 54,
     "metadata": {},
     "output_type": "execute_result"
    }
   ],
   "source": [
    "ima.shape"
   ]
  },
  {
   "cell_type": "code",
   "execution_count": null,
   "metadata": {},
   "outputs": [],
   "source": []
  },
  {
   "cell_type": "code",
   "execution_count": 55,
   "metadata": {},
   "outputs": [],
   "source": [
    "w, h = ima.shape[0], ima.shape[1]\n",
    "data = np.zeros((h,w, 3), dtype=np.uint8)\n",
    "d1=np.zeros((h,w))\n",
    "for i in range(ima.shape[0]):\n",
    "    for j in range(ima.shape[1]):\n",
    "        #print(j)\n",
    "        if ima[i,j]=='W':\n",
    "            data[ima.shape[1]-j-1,i]=[0,0,0]\n",
    "            d1[ima.shape[1]-j-1,i]=0\n",
    "        elif ima[i,j]==(0,1,2):\n",
    "            data[ima.shape[1]-j-1,i]=[255,0,0]\n",
    "            d1[ima.shape[1]-j-1,i]=1\n",
    "        elif ima[i,j]==(0,2,1):\n",
    "            data[ima.shape[1]-j-1,i]=[255,100,0]\n",
    "            d1[ima.shape[1]-j-1,i]=2\n",
    "        elif ima[i,j]==(1,0,2):\n",
    "            data[ima.shape[1]-j-1,i]=[255,0,0]\n",
    "            d1[ima.shape[1]-j-1,i]=3\n",
    "        elif ima[i,j]==(1,2,0):\n",
    "            data[ima.shape[1]-j-1,i]=[255,255,0]\n",
    "            d1[ima.shape[1]-j-1,i]=4\n",
    "        elif ima[i,j]==(2,1,0):\n",
    "            data[ima.shape[1]-j-1,i]=[0,0,255]\n",
    "            d1[ima.shape[1]-j-1,i]=5\n",
    "        elif ima[i,j]==(2,0,1):\n",
    "            data[ima.shape[1]-j-1,i]=[100,0,255]\n",
    "            d1[ima.shape[1]-j-1,i]=6\n",
    "        \n",
    "        "
   ]
  },
  {
   "cell_type": "code",
   "execution_count": 56,
   "metadata": {},
   "outputs": [],
   "source": [
    "d1frame=pd.DataFrame(d1)\n",
    "d1frame.columns=solucao[2]\n",
    "d1frame.index=solucao[3][::-1]"
   ]
  },
  {
   "cell_type": "code",
   "execution_count": 57,
   "metadata": {},
   "outputs": [
    {
     "data": {
      "text/html": [
       "<div>\n",
       "<style scoped>\n",
       "    .dataframe tbody tr th:only-of-type {\n",
       "        vertical-align: middle;\n",
       "    }\n",
       "\n",
       "    .dataframe tbody tr th {\n",
       "        vertical-align: top;\n",
       "    }\n",
       "\n",
       "    .dataframe thead th {\n",
       "        text-align: right;\n",
       "    }\n",
       "</style>\n",
       "<table border=\"1\" class=\"dataframe\">\n",
       "  <thead>\n",
       "    <tr style=\"text-align: right;\">\n",
       "      <th></th>\n",
       "      <th>0.000000</th>\n",
       "      <th>0.000069</th>\n",
       "      <th>0.000139</th>\n",
       "      <th>0.000208</th>\n",
       "      <th>0.000278</th>\n",
       "      <th>0.000347</th>\n",
       "      <th>0.000417</th>\n",
       "      <th>0.000486</th>\n",
       "      <th>0.000556</th>\n",
       "      <th>0.000625</th>\n",
       "      <th>...</th>\n",
       "      <th>2.999375</th>\n",
       "      <th>2.999444</th>\n",
       "      <th>2.999514</th>\n",
       "      <th>2.999583</th>\n",
       "      <th>2.999653</th>\n",
       "      <th>2.999722</th>\n",
       "      <th>2.999792</th>\n",
       "      <th>2.999861</th>\n",
       "      <th>2.999931</th>\n",
       "      <th>3.000000</th>\n",
       "    </tr>\n",
       "  </thead>\n",
       "  <tbody>\n",
       "    <tr>\n",
       "      <td>100.00</td>\n",
       "      <td>1.0</td>\n",
       "      <td>1.0</td>\n",
       "      <td>1.0</td>\n",
       "      <td>1.0</td>\n",
       "      <td>1.0</td>\n",
       "      <td>1.0</td>\n",
       "      <td>1.0</td>\n",
       "      <td>1.0</td>\n",
       "      <td>1.0</td>\n",
       "      <td>1.0</td>\n",
       "      <td>...</td>\n",
       "      <td>1.0</td>\n",
       "      <td>1.0</td>\n",
       "      <td>1.0</td>\n",
       "      <td>1.0</td>\n",
       "      <td>1.0</td>\n",
       "      <td>1.0</td>\n",
       "      <td>1.0</td>\n",
       "      <td>1.0</td>\n",
       "      <td>1.0</td>\n",
       "      <td>1.0</td>\n",
       "    </tr>\n",
       "    <tr>\n",
       "      <td>99.75</td>\n",
       "      <td>1.0</td>\n",
       "      <td>1.0</td>\n",
       "      <td>1.0</td>\n",
       "      <td>1.0</td>\n",
       "      <td>1.0</td>\n",
       "      <td>1.0</td>\n",
       "      <td>1.0</td>\n",
       "      <td>1.0</td>\n",
       "      <td>1.0</td>\n",
       "      <td>1.0</td>\n",
       "      <td>...</td>\n",
       "      <td>1.0</td>\n",
       "      <td>1.0</td>\n",
       "      <td>1.0</td>\n",
       "      <td>1.0</td>\n",
       "      <td>1.0</td>\n",
       "      <td>1.0</td>\n",
       "      <td>1.0</td>\n",
       "      <td>1.0</td>\n",
       "      <td>1.0</td>\n",
       "      <td>1.0</td>\n",
       "    </tr>\n",
       "    <tr>\n",
       "      <td>99.50</td>\n",
       "      <td>1.0</td>\n",
       "      <td>1.0</td>\n",
       "      <td>1.0</td>\n",
       "      <td>1.0</td>\n",
       "      <td>1.0</td>\n",
       "      <td>1.0</td>\n",
       "      <td>1.0</td>\n",
       "      <td>1.0</td>\n",
       "      <td>1.0</td>\n",
       "      <td>1.0</td>\n",
       "      <td>...</td>\n",
       "      <td>1.0</td>\n",
       "      <td>1.0</td>\n",
       "      <td>1.0</td>\n",
       "      <td>1.0</td>\n",
       "      <td>1.0</td>\n",
       "      <td>1.0</td>\n",
       "      <td>1.0</td>\n",
       "      <td>1.0</td>\n",
       "      <td>1.0</td>\n",
       "      <td>1.0</td>\n",
       "    </tr>\n",
       "    <tr>\n",
       "      <td>99.25</td>\n",
       "      <td>1.0</td>\n",
       "      <td>1.0</td>\n",
       "      <td>1.0</td>\n",
       "      <td>1.0</td>\n",
       "      <td>1.0</td>\n",
       "      <td>1.0</td>\n",
       "      <td>1.0</td>\n",
       "      <td>1.0</td>\n",
       "      <td>1.0</td>\n",
       "      <td>1.0</td>\n",
       "      <td>...</td>\n",
       "      <td>1.0</td>\n",
       "      <td>1.0</td>\n",
       "      <td>1.0</td>\n",
       "      <td>1.0</td>\n",
       "      <td>1.0</td>\n",
       "      <td>1.0</td>\n",
       "      <td>1.0</td>\n",
       "      <td>1.0</td>\n",
       "      <td>1.0</td>\n",
       "      <td>1.0</td>\n",
       "    </tr>\n",
       "    <tr>\n",
       "      <td>99.00</td>\n",
       "      <td>1.0</td>\n",
       "      <td>1.0</td>\n",
       "      <td>1.0</td>\n",
       "      <td>1.0</td>\n",
       "      <td>1.0</td>\n",
       "      <td>1.0</td>\n",
       "      <td>1.0</td>\n",
       "      <td>1.0</td>\n",
       "      <td>1.0</td>\n",
       "      <td>1.0</td>\n",
       "      <td>...</td>\n",
       "      <td>1.0</td>\n",
       "      <td>1.0</td>\n",
       "      <td>1.0</td>\n",
       "      <td>1.0</td>\n",
       "      <td>1.0</td>\n",
       "      <td>1.0</td>\n",
       "      <td>1.0</td>\n",
       "      <td>1.0</td>\n",
       "      <td>1.0</td>\n",
       "      <td>1.0</td>\n",
       "    </tr>\n",
       "  </tbody>\n",
       "</table>\n",
       "<p>5 rows × 43202 columns</p>\n",
       "</div>"
      ],
      "text/plain": [
       "        0.000000  0.000069  0.000139  0.000208  0.000278  0.000347  0.000417  \\\n",
       "100.00       1.0       1.0       1.0       1.0       1.0       1.0       1.0   \n",
       "99.75        1.0       1.0       1.0       1.0       1.0       1.0       1.0   \n",
       "99.50        1.0       1.0       1.0       1.0       1.0       1.0       1.0   \n",
       "99.25        1.0       1.0       1.0       1.0       1.0       1.0       1.0   \n",
       "99.00        1.0       1.0       1.0       1.0       1.0       1.0       1.0   \n",
       "\n",
       "        0.000486  0.000556  0.000625  ...  2.999375  2.999444  2.999514  \\\n",
       "100.00       1.0       1.0       1.0  ...       1.0       1.0       1.0   \n",
       "99.75        1.0       1.0       1.0  ...       1.0       1.0       1.0   \n",
       "99.50        1.0       1.0       1.0  ...       1.0       1.0       1.0   \n",
       "99.25        1.0       1.0       1.0  ...       1.0       1.0       1.0   \n",
       "99.00        1.0       1.0       1.0  ...       1.0       1.0       1.0   \n",
       "\n",
       "        2.999583  2.999653  2.999722  2.999792  2.999861  2.999931  3.000000  \n",
       "100.00       1.0       1.0       1.0       1.0       1.0       1.0       1.0  \n",
       "99.75        1.0       1.0       1.0       1.0       1.0       1.0       1.0  \n",
       "99.50        1.0       1.0       1.0       1.0       1.0       1.0       1.0  \n",
       "99.25        1.0       1.0       1.0       1.0       1.0       1.0       1.0  \n",
       "99.00        1.0       1.0       1.0       1.0       1.0       1.0       1.0  \n",
       "\n",
       "[5 rows x 43202 columns]"
      ]
     },
     "execution_count": 57,
     "metadata": {},
     "output_type": "execute_result"
    }
   ],
   "source": [
    "d1frame.head()"
   ]
  },
  {
   "cell_type": "code",
   "execution_count": 278,
   "metadata": {},
   "outputs": [],
   "source": [
    "winsound.Beep(freq,duration)"
   ]
  },
  {
   "cell_type": "code",
   "execution_count": 88,
   "metadata": {},
   "outputs": [
    {
     "data": {
      "image/png": "[encoded data removed]",
      "text/plain": [
       "<Figure size 720x360 with 2 Axes>"
      ]
     },
     "metadata": {
      "needs_background": "light"
     },
     "output_type": "display_data"
    }
   ],
   "source": [
    "\n",
    "fig, ax=plt.subplots(figsize=(10,5))\n",
    "#cbar_ax=fig.add_axes([0,1,2,3,4,5,6])\n",
    "ax=sns.heatmap(d1frame, cmap=\"Accent\")\n",
    "#ax.locator_params(axis='x', nbins=4)\n",
    "#ax.locator_params(axis='y',nbins=4)\n",
    "\n",
    "\n",
    "colorbar = ax.collections[0].colorbar\n",
    "colorbar.set_ticks([3/8,1,2,4*3/4 +3/8,5*3/4 +3/8,6*3/4 +3/8,6 - 3/8])\n",
    "colorbar.set_ticklabels(['W', 'D-F-H', 'D-H-F','F-D-H','F-H-D','H-F-D','H-D-F'])\n",
    "\n",
    "#colorbar.set_ticklabels(['W', '0-1-2', '0-2-1','1-0-2','1-2-0','2-1-0','2-0-1'])\n",
    "\n",
    "# X - Y axis labels\n",
    "ax.set_ylabel('Preço');\n",
    "ax.set_xlabel('Tempo');\n",
    "\n",
    "# Only y-axis labels need their rotation set, x-axis labels already have a rotation of 0\n",
    "_, labels = plt.yticks();\n",
    "plt.setp(labels, rotation=0);\n",
    "\n",
    "#ax.set(xticklabels=solucao[2]);\n",
    "\n"
   ]
  },
  {
   "cell_type": "code",
   "execution_count": 59,
   "metadata": {},
   "outputs": [],
   "source": [
    "winsound.Beep(freq,duration)"
   ]
  },
  {
   "cell_type": "code",
   "execution_count": 76,
   "metadata": {},
   "outputs": [
    {
     "data": {
      "text/plain": [
       "100.00     True\n",
       "99.75      True\n",
       "99.50      True\n",
       "99.25      True\n",
       "99.00      True\n",
       "          ...  \n",
       "1.00      False\n",
       "0.75      False\n",
       "0.50      False\n",
       "0.25      False\n",
       "0.00      False\n",
       "Name: 0.0, Length: 401, dtype: bool"
      ]
     },
     "execution_count": 76,
     "metadata": {},
     "output_type": "execute_result"
    }
   ],
   "source": [
    "d1frame.iloc[:,0]>0"
   ]
  },
  {
   "cell_type": "code",
   "execution_count": 87,
   "metadata": {},
   "outputs": [],
   "source": [
    "###Olhar o gatilho na tempo presente\n",
    "a=d1frame.iloc[:,0]\n",
    "a.to_excel('gt_portfolio.xls')"
   ]
  },
  {
   "cell_type": "code",
   "execution_count": 84,
   "metadata": {},
   "outputs": [],
   "source": []
  },
  {
   "cell_type": "code",
   "execution_count": 32,
   "metadata": {},
   "outputs": [],
   "source": [
    "######################################\n",
    "###########Bloco b1#####################"
   ]
  },
  {
   "cell_type": "code",
   "execution_count": 167,
   "metadata": {},
   "outputs": [
    {
     "data": {
      "text/html": [
       "<div>\n",
       "<style scoped>\n",
       "    .dataframe tbody tr th:only-of-type {\n",
       "        vertical-align: middle;\n",
       "    }\n",
       "\n",
       "    .dataframe tbody tr th {\n",
       "        vertical-align: top;\n",
       "    }\n",
       "\n",
       "    .dataframe thead th {\n",
       "        text-align: right;\n",
       "    }\n",
       "</style>\n",
       "<table border=\"1\" class=\"dataframe\">\n",
       "  <thead>\n",
       "    <tr style=\"text-align: right;\">\n",
       "      <th></th>\n",
       "      <th>DogFish</th>\n",
       "      <th>Feather</th>\n",
       "    </tr>\n",
       "    <tr>\n",
       "      <th>Type</th>\n",
       "      <th></th>\n",
       "      <th></th>\n",
       "    </tr>\n",
       "  </thead>\n",
       "  <tbody>\n",
       "    <tr>\n",
       "      <td>DogFish</td>\n",
       "      <td>1.0</td>\n",
       "      <td>0.6</td>\n",
       "    </tr>\n",
       "    <tr>\n",
       "      <td>Feather</td>\n",
       "      <td>0.6</td>\n",
       "      <td>1.0</td>\n",
       "    </tr>\n",
       "  </tbody>\n",
       "</table>\n",
       "</div>"
      ],
      "text/plain": [
       "         DogFish  Feather\n",
       "Type                     \n",
       "DogFish      1.0      0.6\n",
       "Feather      0.6      1.0"
      ]
     },
     "execution_count": 167,
     "metadata": {},
     "output_type": "execute_result"
    }
   ],
   "source": [
    "case_corr_b1"
   ]
  },
  {
   "cell_type": "code",
   "execution_count": 168,
   "metadata": {},
   "outputs": [
    {
     "data": {
      "text/html": [
       "<div>\n",
       "<style scoped>\n",
       "    .dataframe tbody tr th:only-of-type {\n",
       "        vertical-align: middle;\n",
       "    }\n",
       "\n",
       "    .dataframe tbody tr th {\n",
       "        vertical-align: top;\n",
       "    }\n",
       "\n",
       "    .dataframe thead th {\n",
       "        text-align: right;\n",
       "    }\n",
       "</style>\n",
       "<table border=\"1\" class=\"dataframe\">\n",
       "  <thead>\n",
       "    <tr style=\"text-align: right;\">\n",
       "      <th>Type</th>\n",
       "      <th>DogFish</th>\n",
       "      <th>Feather</th>\n",
       "    </tr>\n",
       "  </thead>\n",
       "  <tbody>\n",
       "    <tr>\n",
       "      <td>CF</td>\n",
       "      <td>0.300000</td>\n",
       "      <td>0.250000</td>\n",
       "    </tr>\n",
       "    <tr>\n",
       "      <td>I_w</td>\n",
       "      <td>80.000000</td>\n",
       "      <td>60.000000</td>\n",
       "    </tr>\n",
       "    <tr>\n",
       "      <td>q</td>\n",
       "      <td>0.185363</td>\n",
       "      <td>0.194631</td>\n",
       "    </tr>\n",
       "    <tr>\n",
       "      <td>B</td>\n",
       "      <td>620.000000</td>\n",
       "      <td>310.000000</td>\n",
       "    </tr>\n",
       "    <tr>\n",
       "      <td>Owner</td>\n",
       "      <td>0.000000</td>\n",
       "      <td>0.000000</td>\n",
       "    </tr>\n",
       "  </tbody>\n",
       "</table>\n",
       "</div>"
      ],
      "text/plain": [
       "Type      DogFish     Feather\n",
       "CF       0.300000    0.250000\n",
       "I_w     80.000000   60.000000\n",
       "q        0.185363    0.194631\n",
       "B      620.000000  310.000000\n",
       "Owner    0.000000    0.000000"
      ]
     },
     "execution_count": 168,
     "metadata": {},
     "output_type": "execute_result"
    }
   ],
   "source": [
    "case_b1"
   ]
  },
  {
   "cell_type": "code",
   "execution_count": 169,
   "metadata": {},
   "outputs": [
    {
     "name": "stdout",
     "output_type": "stream",
     "text": [
      "minutos- 18.355854459603627\n"
     ]
    }
   ],
   "source": [
    "start=time.time()\n",
    "accur=0.01\n",
    "solucao_b1=diffinexpcart(case_b1,case_corr_b1,50,r,delta,sigma,tau,accur)\n",
    "cpu=time.time()-start\n",
    "print('minutos-',cpu/60)\n"
   ]
  },
  {
   "cell_type": "code",
   "execution_count": 170,
   "metadata": {},
   "outputs": [
    {
     "data": {
      "text/plain": [
       "73.0"
      ]
     },
     "execution_count": 170,
     "metadata": {},
     "output_type": "execute_result"
    }
   ],
   "source": [
    "solucao_b1[1].iloc[0,0]"
   ]
  },
  {
   "cell_type": "code",
   "execution_count": 171,
   "metadata": {},
   "outputs": [
    {
     "data": {
      "text/plain": [
       "(numpy.float64,\n",
       " pandas.core.frame.DataFrame,\n",
       " numpy.ndarray,\n",
       " numpy.ndarray,\n",
       " numpy.ndarray)"
      ]
     },
     "execution_count": 171,
     "metadata": {},
     "output_type": "execute_result"
    }
   ],
   "source": [
    "type(solucao_b1[0]),type(solucao_b1[1]),type(solucao_b1[2]),type(solucao_b1[3]),type(solucao_b1[5])"
   ]
  },
  {
   "cell_type": "code",
   "execution_count": 172,
   "metadata": {},
   "outputs": [],
   "source": [
    "winsound.Beep(freq,duration)"
   ]
  },
  {
   "cell_type": "code",
   "execution_count": 173,
   "metadata": {},
   "outputs": [],
   "source": [
    "#accur=0.01\n",
    "#case_b1.iloc[3,1]=case_b1.iloc[3,1] + 5\n",
    "#while solucao_b1[1].iloc[0,0] -73.125 < 0.1:\n",
    "#    solucao_b1=diffinexpcart(case_b1,case_corr_b1,50,r,delta,sigma,tau,accur)\n",
    "#    print(np.round(case_b1.iloc[3,1],3))\n",
    "#    print(solucao_b1[1].iloc[0,0] -73.125)\n",
    "#    case_b1.iloc[3,1]=case_b1.iloc[3,1] + 10\n",
    "    \n",
    "   "
   ]
  },
  {
   "cell_type": "code",
   "execution_count": 174,
   "metadata": {},
   "outputs": [],
   "source": [
    "winsound.Beep(freq,duration)"
   ]
  },
  {
   "cell_type": "code",
   "execution_count": 175,
   "metadata": {},
   "outputs": [],
   "source": [
    "#accur=0.05\n",
    "#while solucao_b1[1].iloc[0,0] -73.125 > 0.1:\n",
    "#    solucao_b1=diffinexpcart(case_b1,case_corr_b1,50,r,delta,sigma,tau,accur)\n",
    "#    case_b1.iloc[2,1]=case_b1.iloc[2,1]*np.exp(2*delta)\n",
    "#    case_b1.iloc[2,1]=case_b1.iloc[2,1]  + 0.01\n",
    "#    print(np.round(case_b1.iloc[2,1],3))\n",
    "#    case_b1.iloc[2,1]=case_b1.iloc[2,1]*np.exp(-2*delta)\n",
    "#    print(solucao_b1[1].iloc[0,0] -73.125)\n",
    "   "
   ]
  },
  {
   "cell_type": "code",
   "execution_count": 176,
   "metadata": {},
   "outputs": [],
   "source": [
    "winsound.Beep(freq,duration)\n"
   ]
  },
  {
   "cell_type": "code",
   "execution_count": 177,
   "metadata": {},
   "outputs": [
    {
     "data": {
      "text/plain": [
       "806.3287497600586"
      ]
     },
     "execution_count": 177,
     "metadata": {},
     "output_type": "execute_result"
    }
   ],
   "source": [
    "solucao_b1[0]"
   ]
  },
  {
   "cell_type": "code",
   "execution_count": 178,
   "metadata": {},
   "outputs": [
    {
     "data": {
      "text/html": [
       "<div>\n",
       "<style scoped>\n",
       "    .dataframe tbody tr th:only-of-type {\n",
       "        vertical-align: middle;\n",
       "    }\n",
       "\n",
       "    .dataframe tbody tr th {\n",
       "        vertical-align: top;\n",
       "    }\n",
       "\n",
       "    .dataframe thead th {\n",
       "        text-align: right;\n",
       "    }\n",
       "</style>\n",
       "<table border=\"1\" class=\"dataframe\">\n",
       "  <thead>\n",
       "    <tr style=\"text-align: right;\">\n",
       "      <th></th>\n",
       "      <th>W</th>\n",
       "      <th>(0, 1)</th>\n",
       "      <th>(1, 0)</th>\n",
       "    </tr>\n",
       "  </thead>\n",
       "  <tbody>\n",
       "    <tr>\n",
       "      <td>0.000000</td>\n",
       "      <td>73.0</td>\n",
       "      <td>95.0</td>\n",
       "      <td>96.0</td>\n",
       "    </tr>\n",
       "    <tr>\n",
       "      <td>0.000278</td>\n",
       "      <td>73.0</td>\n",
       "      <td>95.0</td>\n",
       "      <td>96.0</td>\n",
       "    </tr>\n",
       "    <tr>\n",
       "      <td>0.000556</td>\n",
       "      <td>73.0</td>\n",
       "      <td>95.0</td>\n",
       "      <td>96.0</td>\n",
       "    </tr>\n",
       "    <tr>\n",
       "      <td>0.000833</td>\n",
       "      <td>73.0</td>\n",
       "      <td>95.0</td>\n",
       "      <td>96.0</td>\n",
       "    </tr>\n",
       "    <tr>\n",
       "      <td>0.001111</td>\n",
       "      <td>73.0</td>\n",
       "      <td>95.0</td>\n",
       "      <td>96.0</td>\n",
       "    </tr>\n",
       "    <tr>\n",
       "      <td>...</td>\n",
       "      <td>...</td>\n",
       "      <td>...</td>\n",
       "      <td>...</td>\n",
       "    </tr>\n",
       "    <tr>\n",
       "      <td>2.998889</td>\n",
       "      <td>49.5</td>\n",
       "      <td>95.0</td>\n",
       "      <td>96.0</td>\n",
       "    </tr>\n",
       "    <tr>\n",
       "      <td>2.999167</td>\n",
       "      <td>49.5</td>\n",
       "      <td>95.0</td>\n",
       "      <td>96.0</td>\n",
       "    </tr>\n",
       "    <tr>\n",
       "      <td>2.999444</td>\n",
       "      <td>49.5</td>\n",
       "      <td>95.0</td>\n",
       "      <td>96.0</td>\n",
       "    </tr>\n",
       "    <tr>\n",
       "      <td>2.999722</td>\n",
       "      <td>49.0</td>\n",
       "      <td>95.0</td>\n",
       "      <td>96.0</td>\n",
       "    </tr>\n",
       "    <tr>\n",
       "      <td>3.000000</td>\n",
       "      <td>35.0</td>\n",
       "      <td>95.0</td>\n",
       "      <td>96.0</td>\n",
       "    </tr>\n",
       "  </tbody>\n",
       "</table>\n",
       "<p>10802 rows × 3 columns</p>\n",
       "</div>"
      ],
      "text/plain": [
       "             W  (0, 1)  (1, 0)\n",
       "0.000000  73.0    95.0    96.0\n",
       "0.000278  73.0    95.0    96.0\n",
       "0.000556  73.0    95.0    96.0\n",
       "0.000833  73.0    95.0    96.0\n",
       "0.001111  73.0    95.0    96.0\n",
       "...        ...     ...     ...\n",
       "2.998889  49.5    95.0    96.0\n",
       "2.999167  49.5    95.0    96.0\n",
       "2.999444  49.5    95.0    96.0\n",
       "2.999722  49.0    95.0    96.0\n",
       "3.000000  35.0    95.0    96.0\n",
       "\n",
       "[10802 rows x 3 columns]"
      ]
     },
     "execution_count": 178,
     "metadata": {},
     "output_type": "execute_result"
    }
   ],
   "source": [
    "solucao_b1[1]"
   ]
  },
  {
   "cell_type": "code",
   "execution_count": 179,
   "metadata": {},
   "outputs": [
    {
     "data": {
      "text/plain": [
       "<matplotlib.axes._subplots.AxesSubplot at 0x213cdc20148>"
      ]
     },
     "execution_count": 179,
     "metadata": {},
     "output_type": "execute_result"
    },
    {
     "data": {
      "image/png": "[encoded data removed]",
      "text/plain": [
       "<Figure size 432x288 with 1 Axes>"
      ]
     },
     "metadata": {
      "needs_background": "light"
     },
     "output_type": "display_data"
    }
   ],
   "source": [
    "solucao_b1[1].plot()"
   ]
  },
  {
   "cell_type": "code",
   "execution_count": 180,
   "metadata": {},
   "outputs": [],
   "source": [
    "ima=solucao_b1[5]"
   ]
  },
  {
   "cell_type": "code",
   "execution_count": 181,
   "metadata": {},
   "outputs": [],
   "source": [
    "w, h = ima.shape[0], ima.shape[1]\n",
    "#data = np.zeros((h,w, 3), dtype=np.uint8)\n",
    "d2=np.zeros((h,w))\n",
    "for i in range(ima.shape[0]):\n",
    "    for j in range(ima.shape[1]):\n",
    "        #print(j)\n",
    "        if ima[i,j]=='W':\n",
    "            #data[ima.shape[1]-j-1,i]=[0,0,0]\n",
    "            d2[ima.shape[1]-j-1,i]=0\n",
    "        elif ima[i,j]==(0,1):\n",
    "            #data[ima.shape[1]-j-1,i]=[255,0,0]\n",
    "            d2[ima.shape[1]-j-1,i]=1\n",
    "        elif ima[i,j]==(1,0):\n",
    "            #data[ima.shape[1]-j-1,i]=[255,100,0]\n",
    "            d2[ima.shape[1]-j-1,i]=2\n",
    "        "
   ]
  },
  {
   "cell_type": "code",
   "execution_count": 182,
   "metadata": {},
   "outputs": [],
   "source": [
    "d2frame=pd.DataFrame(d2)\n",
    "d2frame.columns=solucao_b1[2]\n",
    "d2frame.index=solucao_b1[3][::-1]"
   ]
  },
  {
   "cell_type": "code",
   "execution_count": 183,
   "metadata": {},
   "outputs": [
    {
     "data": {
      "text/html": [
       "<div>\n",
       "<style scoped>\n",
       "    .dataframe tbody tr th:only-of-type {\n",
       "        vertical-align: middle;\n",
       "    }\n",
       "\n",
       "    .dataframe tbody tr th {\n",
       "        vertical-align: top;\n",
       "    }\n",
       "\n",
       "    .dataframe thead th {\n",
       "        text-align: right;\n",
       "    }\n",
       "</style>\n",
       "<table border=\"1\" class=\"dataframe\">\n",
       "  <thead>\n",
       "    <tr style=\"text-align: right;\">\n",
       "      <th></th>\n",
       "      <th>0.000000</th>\n",
       "      <th>0.000278</th>\n",
       "      <th>0.000556</th>\n",
       "      <th>0.000833</th>\n",
       "      <th>0.001111</th>\n",
       "      <th>0.001389</th>\n",
       "      <th>0.001667</th>\n",
       "      <th>0.001944</th>\n",
       "      <th>0.002222</th>\n",
       "      <th>0.002500</th>\n",
       "      <th>...</th>\n",
       "      <th>2.997500</th>\n",
       "      <th>2.997778</th>\n",
       "      <th>2.998056</th>\n",
       "      <th>2.998333</th>\n",
       "      <th>2.998611</th>\n",
       "      <th>2.998889</th>\n",
       "      <th>2.999167</th>\n",
       "      <th>2.999444</th>\n",
       "      <th>2.999722</th>\n",
       "      <th>3.000000</th>\n",
       "    </tr>\n",
       "  </thead>\n",
       "  <tbody>\n",
       "    <tr>\n",
       "      <td>100.0</td>\n",
       "      <td>1.0</td>\n",
       "      <td>1.0</td>\n",
       "      <td>1.0</td>\n",
       "      <td>1.0</td>\n",
       "      <td>1.0</td>\n",
       "      <td>1.0</td>\n",
       "      <td>1.0</td>\n",
       "      <td>1.0</td>\n",
       "      <td>1.0</td>\n",
       "      <td>1.0</td>\n",
       "      <td>...</td>\n",
       "      <td>1.0</td>\n",
       "      <td>1.0</td>\n",
       "      <td>1.0</td>\n",
       "      <td>1.0</td>\n",
       "      <td>1.0</td>\n",
       "      <td>1.0</td>\n",
       "      <td>1.0</td>\n",
       "      <td>1.0</td>\n",
       "      <td>1.0</td>\n",
       "      <td>1.0</td>\n",
       "    </tr>\n",
       "    <tr>\n",
       "      <td>99.5</td>\n",
       "      <td>1.0</td>\n",
       "      <td>1.0</td>\n",
       "      <td>1.0</td>\n",
       "      <td>1.0</td>\n",
       "      <td>1.0</td>\n",
       "      <td>1.0</td>\n",
       "      <td>1.0</td>\n",
       "      <td>1.0</td>\n",
       "      <td>1.0</td>\n",
       "      <td>1.0</td>\n",
       "      <td>...</td>\n",
       "      <td>1.0</td>\n",
       "      <td>1.0</td>\n",
       "      <td>1.0</td>\n",
       "      <td>1.0</td>\n",
       "      <td>1.0</td>\n",
       "      <td>1.0</td>\n",
       "      <td>1.0</td>\n",
       "      <td>1.0</td>\n",
       "      <td>1.0</td>\n",
       "      <td>1.0</td>\n",
       "    </tr>\n",
       "    <tr>\n",
       "      <td>99.0</td>\n",
       "      <td>1.0</td>\n",
       "      <td>1.0</td>\n",
       "      <td>1.0</td>\n",
       "      <td>1.0</td>\n",
       "      <td>1.0</td>\n",
       "      <td>1.0</td>\n",
       "      <td>1.0</td>\n",
       "      <td>1.0</td>\n",
       "      <td>1.0</td>\n",
       "      <td>1.0</td>\n",
       "      <td>...</td>\n",
       "      <td>1.0</td>\n",
       "      <td>1.0</td>\n",
       "      <td>1.0</td>\n",
       "      <td>1.0</td>\n",
       "      <td>1.0</td>\n",
       "      <td>1.0</td>\n",
       "      <td>1.0</td>\n",
       "      <td>1.0</td>\n",
       "      <td>1.0</td>\n",
       "      <td>1.0</td>\n",
       "    </tr>\n",
       "    <tr>\n",
       "      <td>98.5</td>\n",
       "      <td>1.0</td>\n",
       "      <td>1.0</td>\n",
       "      <td>1.0</td>\n",
       "      <td>1.0</td>\n",
       "      <td>1.0</td>\n",
       "      <td>1.0</td>\n",
       "      <td>1.0</td>\n",
       "      <td>1.0</td>\n",
       "      <td>1.0</td>\n",
       "      <td>1.0</td>\n",
       "      <td>...</td>\n",
       "      <td>1.0</td>\n",
       "      <td>1.0</td>\n",
       "      <td>1.0</td>\n",
       "      <td>1.0</td>\n",
       "      <td>1.0</td>\n",
       "      <td>1.0</td>\n",
       "      <td>1.0</td>\n",
       "      <td>1.0</td>\n",
       "      <td>1.0</td>\n",
       "      <td>1.0</td>\n",
       "    </tr>\n",
       "    <tr>\n",
       "      <td>98.0</td>\n",
       "      <td>1.0</td>\n",
       "      <td>1.0</td>\n",
       "      <td>1.0</td>\n",
       "      <td>1.0</td>\n",
       "      <td>1.0</td>\n",
       "      <td>1.0</td>\n",
       "      <td>1.0</td>\n",
       "      <td>1.0</td>\n",
       "      <td>1.0</td>\n",
       "      <td>1.0</td>\n",
       "      <td>...</td>\n",
       "      <td>1.0</td>\n",
       "      <td>1.0</td>\n",
       "      <td>1.0</td>\n",
       "      <td>1.0</td>\n",
       "      <td>1.0</td>\n",
       "      <td>1.0</td>\n",
       "      <td>1.0</td>\n",
       "      <td>1.0</td>\n",
       "      <td>1.0</td>\n",
       "      <td>1.0</td>\n",
       "    </tr>\n",
       "    <tr>\n",
       "      <td>...</td>\n",
       "      <td>...</td>\n",
       "      <td>...</td>\n",
       "      <td>...</td>\n",
       "      <td>...</td>\n",
       "      <td>...</td>\n",
       "      <td>...</td>\n",
       "      <td>...</td>\n",
       "      <td>...</td>\n",
       "      <td>...</td>\n",
       "      <td>...</td>\n",
       "      <td>...</td>\n",
       "      <td>...</td>\n",
       "      <td>...</td>\n",
       "      <td>...</td>\n",
       "      <td>...</td>\n",
       "      <td>...</td>\n",
       "      <td>...</td>\n",
       "      <td>...</td>\n",
       "      <td>...</td>\n",
       "      <td>...</td>\n",
       "      <td>...</td>\n",
       "    </tr>\n",
       "    <tr>\n",
       "      <td>2.0</td>\n",
       "      <td>0.0</td>\n",
       "      <td>0.0</td>\n",
       "      <td>0.0</td>\n",
       "      <td>0.0</td>\n",
       "      <td>0.0</td>\n",
       "      <td>0.0</td>\n",
       "      <td>0.0</td>\n",
       "      <td>0.0</td>\n",
       "      <td>0.0</td>\n",
       "      <td>0.0</td>\n",
       "      <td>...</td>\n",
       "      <td>0.0</td>\n",
       "      <td>0.0</td>\n",
       "      <td>0.0</td>\n",
       "      <td>0.0</td>\n",
       "      <td>0.0</td>\n",
       "      <td>0.0</td>\n",
       "      <td>0.0</td>\n",
       "      <td>0.0</td>\n",
       "      <td>0.0</td>\n",
       "      <td>0.0</td>\n",
       "    </tr>\n",
       "    <tr>\n",
       "      <td>1.5</td>\n",
       "      <td>0.0</td>\n",
       "      <td>0.0</td>\n",
       "      <td>0.0</td>\n",
       "      <td>0.0</td>\n",
       "      <td>0.0</td>\n",
       "      <td>0.0</td>\n",
       "      <td>0.0</td>\n",
       "      <td>0.0</td>\n",
       "      <td>0.0</td>\n",
       "      <td>0.0</td>\n",
       "      <td>...</td>\n",
       "      <td>0.0</td>\n",
       "      <td>0.0</td>\n",
       "      <td>0.0</td>\n",
       "      <td>0.0</td>\n",
       "      <td>0.0</td>\n",
       "      <td>0.0</td>\n",
       "      <td>0.0</td>\n",
       "      <td>0.0</td>\n",
       "      <td>0.0</td>\n",
       "      <td>0.0</td>\n",
       "    </tr>\n",
       "    <tr>\n",
       "      <td>1.0</td>\n",
       "      <td>0.0</td>\n",
       "      <td>0.0</td>\n",
       "      <td>0.0</td>\n",
       "      <td>0.0</td>\n",
       "      <td>0.0</td>\n",
       "      <td>0.0</td>\n",
       "      <td>0.0</td>\n",
       "      <td>0.0</td>\n",
       "      <td>0.0</td>\n",
       "      <td>0.0</td>\n",
       "      <td>...</td>\n",
       "      <td>0.0</td>\n",
       "      <td>0.0</td>\n",
       "      <td>0.0</td>\n",
       "      <td>0.0</td>\n",
       "      <td>0.0</td>\n",
       "      <td>0.0</td>\n",
       "      <td>0.0</td>\n",
       "      <td>0.0</td>\n",
       "      <td>0.0</td>\n",
       "      <td>0.0</td>\n",
       "    </tr>\n",
       "    <tr>\n",
       "      <td>0.5</td>\n",
       "      <td>0.0</td>\n",
       "      <td>0.0</td>\n",
       "      <td>0.0</td>\n",
       "      <td>0.0</td>\n",
       "      <td>0.0</td>\n",
       "      <td>0.0</td>\n",
       "      <td>0.0</td>\n",
       "      <td>0.0</td>\n",
       "      <td>0.0</td>\n",
       "      <td>0.0</td>\n",
       "      <td>...</td>\n",
       "      <td>0.0</td>\n",
       "      <td>0.0</td>\n",
       "      <td>0.0</td>\n",
       "      <td>0.0</td>\n",
       "      <td>0.0</td>\n",
       "      <td>0.0</td>\n",
       "      <td>0.0</td>\n",
       "      <td>0.0</td>\n",
       "      <td>0.0</td>\n",
       "      <td>0.0</td>\n",
       "    </tr>\n",
       "    <tr>\n",
       "      <td>0.0</td>\n",
       "      <td>0.0</td>\n",
       "      <td>0.0</td>\n",
       "      <td>0.0</td>\n",
       "      <td>0.0</td>\n",
       "      <td>0.0</td>\n",
       "      <td>0.0</td>\n",
       "      <td>0.0</td>\n",
       "      <td>0.0</td>\n",
       "      <td>0.0</td>\n",
       "      <td>0.0</td>\n",
       "      <td>...</td>\n",
       "      <td>0.0</td>\n",
       "      <td>0.0</td>\n",
       "      <td>0.0</td>\n",
       "      <td>0.0</td>\n",
       "      <td>0.0</td>\n",
       "      <td>0.0</td>\n",
       "      <td>0.0</td>\n",
       "      <td>0.0</td>\n",
       "      <td>0.0</td>\n",
       "      <td>0.0</td>\n",
       "    </tr>\n",
       "  </tbody>\n",
       "</table>\n",
       "<p>201 rows × 10802 columns</p>\n",
       "</div>"
      ],
      "text/plain": [
       "       0.000000  0.000278  0.000556  0.000833  0.001111  0.001389  0.001667  \\\n",
       "100.0       1.0       1.0       1.0       1.0       1.0       1.0       1.0   \n",
       "99.5        1.0       1.0       1.0       1.0       1.0       1.0       1.0   \n",
       "99.0        1.0       1.0       1.0       1.0       1.0       1.0       1.0   \n",
       "98.5        1.0       1.0       1.0       1.0       1.0       1.0       1.0   \n",
       "98.0        1.0       1.0       1.0       1.0       1.0       1.0       1.0   \n",
       "...         ...       ...       ...       ...       ...       ...       ...   \n",
       "2.0         0.0       0.0       0.0       0.0       0.0       0.0       0.0   \n",
       "1.5         0.0       0.0       0.0       0.0       0.0       0.0       0.0   \n",
       "1.0         0.0       0.0       0.0       0.0       0.0       0.0       0.0   \n",
       "0.5         0.0       0.0       0.0       0.0       0.0       0.0       0.0   \n",
       "0.0         0.0       0.0       0.0       0.0       0.0       0.0       0.0   \n",
       "\n",
       "       0.001944  0.002222  0.002500  ...  2.997500  2.997778  2.998056  \\\n",
       "100.0       1.0       1.0       1.0  ...       1.0       1.0       1.0   \n",
       "99.5        1.0       1.0       1.0  ...       1.0       1.0       1.0   \n",
       "99.0        1.0       1.0       1.0  ...       1.0       1.0       1.0   \n",
       "98.5        1.0       1.0       1.0  ...       1.0       1.0       1.0   \n",
       "98.0        1.0       1.0       1.0  ...       1.0       1.0       1.0   \n",
       "...         ...       ...       ...  ...       ...       ...       ...   \n",
       "2.0         0.0       0.0       0.0  ...       0.0       0.0       0.0   \n",
       "1.5         0.0       0.0       0.0  ...       0.0       0.0       0.0   \n",
       "1.0         0.0       0.0       0.0  ...       0.0       0.0       0.0   \n",
       "0.5         0.0       0.0       0.0  ...       0.0       0.0       0.0   \n",
       "0.0         0.0       0.0       0.0  ...       0.0       0.0       0.0   \n",
       "\n",
       "       2.998333  2.998611  2.998889  2.999167  2.999444  2.999722  3.000000  \n",
       "100.0       1.0       1.0       1.0       1.0       1.0       1.0       1.0  \n",
       "99.5        1.0       1.0       1.0       1.0       1.0       1.0       1.0  \n",
       "99.0        1.0       1.0       1.0       1.0       1.0       1.0       1.0  \n",
       "98.5        1.0       1.0       1.0       1.0       1.0       1.0       1.0  \n",
       "98.0        1.0       1.0       1.0       1.0       1.0       1.0       1.0  \n",
       "...         ...       ...       ...       ...       ...       ...       ...  \n",
       "2.0         0.0       0.0       0.0       0.0       0.0       0.0       0.0  \n",
       "1.5         0.0       0.0       0.0       0.0       0.0       0.0       0.0  \n",
       "1.0         0.0       0.0       0.0       0.0       0.0       0.0       0.0  \n",
       "0.5         0.0       0.0       0.0       0.0       0.0       0.0       0.0  \n",
       "0.0         0.0       0.0       0.0       0.0       0.0       0.0       0.0  \n",
       "\n",
       "[201 rows x 10802 columns]"
      ]
     },
     "execution_count": 183,
     "metadata": {},
     "output_type": "execute_result"
    }
   ],
   "source": [
    "d2frame"
   ]
  },
  {
   "cell_type": "code",
   "execution_count": 184,
   "metadata": {},
   "outputs": [
    {
     "data": {
      "image/png": "[encoded data removed]",
      "text/plain": [
       "<Figure size 720x360 with 2 Axes>"
      ]
     },
     "metadata": {
      "needs_background": "light"
     },
     "output_type": "display_data"
    }
   ],
   "source": [
    "fig, ax=plt.subplots(figsize=(10,5))\n",
    "#cbar_ax=fig.add_axes([0,1,2,3,4,5,6])\n",
    "#cmap=sns.set_palette(\"hls\",3)\n",
    "ax=sns.heatmap(d2frame, cmap='Accent')\n",
    "#ax=sns.set_palette(\"hls\",3)\n",
    "\n",
    "#ax.locator_params(axis='x', nbins=4)\n",
    "#ax.locator_params(axis='y',nbins=4)\n",
    "\n",
    "\n",
    "colorbar = ax.collections[0].colorbar\n",
    "colorbar.set_ticks([1/8, 1+ 1/8,2])\n",
    "colorbar.set_ticklabels(['Wait', 'Dog-Feather', 'Feather-Dog'])\n",
    "\n",
    "# X - Y axis labels\n",
    "ax.set_ylabel('Preço');\n",
    "ax.set_xlabel('Tempo');\n",
    "\n",
    "# Only y-axis labels need their rotation set, x-axis labels already have a rotation of 0\n",
    "_, labels = plt.yticks();\n",
    "plt.setp(labels, rotation=0);\n",
    "\n",
    "#ax.set(xticklabels=solucao[2]);\n",
    "\n"
   ]
  },
  {
   "cell_type": "code",
   "execution_count": 185,
   "metadata": {},
   "outputs": [
    {
     "name": "stdout",
     "output_type": "stream",
     "text": [
      "0 W 0.0 0.0 W 0.0\n",
      "1 W 0.0 0.0 W 0.0\n",
      "2 W 0.0 0.0 W 0.0\n",
      "3 W 0.0 0.0 W 0.0\n",
      "4 W 0.0 0.0 W 0.0\n",
      "5 W 0.0 0.0 W 0.0\n",
      "6 W 0.0 0.0 W 0.0\n",
      "7 W 0.0 0.0 W 0.0\n",
      "8 W 0.0 0.0 W 0.0\n",
      "9 W 0.0 0.0 W 0.0\n",
      "10 W 0.0 0.0 W 0.0\n",
      "11 W 0.0 0.0 W 0.0\n",
      "12 W 0.0 0.0 W 0.0\n",
      "13 W 0.0 0.0 W 0.0\n",
      "14 W 0.0 0.0 W 0.0\n",
      "15 W 0.0 0.0 W 0.0\n",
      "16 W 0.0 0.0 W 0.0\n",
      "17 W 0.0 0.0 W 0.0\n",
      "18 W 0.0 0.0 W 0.0\n",
      "19 W 0.0 0.0 W 0.0\n",
      "20 W 0.0 0.0 W 0.0\n",
      "21 W 0.0 0.0 W 0.0\n",
      "22 W 0.0 0.0 W 0.0\n",
      "23 W 0.0 0.0 W 0.0\n",
      "24 W 0.0 0.0 W 0.0\n",
      "25 W 0.0 0.0 W 0.0\n",
      "26 W 0.0 0.0 W 0.0\n",
      "27 W 0.0 0.0 W 0.0\n",
      "28 W 0.0 0.0 W 0.0\n",
      "29 W 0.0 0.0 W 0.0\n",
      "30 W 0.0 0.0 W 0.0\n",
      "31 W 0.0 0.0 W 0.0\n",
      "32 W 0.0 0.0 W 0.0\n",
      "33 W 0.0 0.0 W 0.0\n",
      "34 W 0.0 0.0 W 0.0\n",
      "35 (0, 1) 5.9207295217013325 0.0 W 5.9207295217013325\n",
      "36 (0, 1) 40.39829240571029 0.0 W 40.39829240571029\n",
      "37 (0, 1) 74.87585528971925 34.77310614026993 (1, 0) 40.10274914944932\n",
      "38 (0, 1) 114.3871326441117 79.02704467556865 (1, 0) 35.360087968543056\n",
      "39 (0, 1) 160.57337641135803 128.58854132133177 (1, 0) 31.98483509002625\n",
      "40 (0, 1) 206.7596201786042 178.15003796709473 (1, 0) 28.609582211509462\n",
      "41 (0, 1) 252.94586394585022 227.71153461285758 (1, 0) 25.234329332992644\n",
      "42 (0, 1) 299.1321077130964 277.2730312586205 (1, 0) 21.859076454475883\n",
      "43 (0, 1) 345.3183514803427 326.83452790438366 (1, 0) 18.483823575959036\n",
      "44 (0, 1) 391.50459524758884 376.39602455014665 (1, 0) 15.10857069744219\n",
      "45 (0, 1) 437.69083901483486 425.9575211959095 (1, 0) 11.733317818925343\n",
      "46 (0, 1) 483.8770827820811 475.5190178416725 (1, 0) 8.35806494040861\n",
      "47 (0, 1) 530.0633265493271 525.0805144874354 (1, 0) 4.982812061891764\n",
      "48 (0, 1) 576.2495703165735 574.6420111331985 (1, 0) 1.607559183374974\n",
      "49 (0, 1) 624.2035077789616 624.2035077789615 (1, 0) 1.1368683772161603e-13\n",
      "50 (0, 1) 673.7650044247241 673.7650044247241 (1, 0) 0.0\n",
      "51 (0, 1) 723.3265010704876 723.3265010704876 (1, 0) 0.0\n",
      "52 (0, 1) 772.8879977162502 772.8879977162501 (1, 0) 1.1368683772161603e-13\n",
      "53 (1, 0) 822.4494943620132 822.4494943620131 (0, 1) 1.1368683772161603e-13\n",
      "54 (0, 1) 872.0109910077759 872.0109910077759 (1, 0) 0.0\n",
      "55 (0, 1) 921.5724876535392 921.572487653539 (1, 0) 1.1368683772161603e-13\n",
      "56 (0, 1) 971.133984299302 971.133984299302 (1, 0) 0.0\n",
      "57 (0, 1) 1020.695480945065 1020.6954809450649 (1, 0) 1.1368683772161603e-13\n",
      "58 (0, 1) 1070.256977590828 1070.2569775908278 (1, 0) 2.2737367544323206e-13\n",
      "59 (0, 1) 1119.818474236591 1119.818474236591 (1, 0) 0.0\n",
      "60 (0, 1) 1169.379970882354 1169.379970882354 (1, 0) 0.0\n",
      "61 (0, 1) 1218.9414675281168 1218.9414675281168 (1, 0) 0.0\n",
      "62 (0, 1) 1268.50296417388 1268.5029641738797 (1, 0) 2.2737367544323206e-13\n",
      "63 (0, 1) 1318.064460819643 1318.064460819643 (1, 0) 0.0\n",
      "64 (0, 1) 1367.625957465406 1367.625957465406 (1, 0) 0.0\n",
      "65 (0, 1) 1417.1874541111686 1417.1874541111686 (1, 0) 0.0\n",
      "66 (0, 1) 1466.7489507569321 1466.7489507569321 (1, 0) 0.0\n",
      "67 (0, 1) 1516.3104474026948 1516.3104474026945 (1, 0) 2.2737367544323206e-13\n",
      "68 (1, 0) 1565.8719440484579 1565.8719440484576 (0, 1) 2.2737367544323206e-13\n",
      "69 (0, 1) 1615.4334406942205 1615.4334406942203 (1, 0) 2.2737367544323206e-13\n",
      "70 (0, 1) 1664.9949373399838 1664.9949373399836 (1, 0) 2.2737367544323206e-13\n",
      "71 (0, 1) 1714.5564339857465 1714.5564339857465 (1, 0) 0.0\n",
      "72 (0, 1) 1764.1179306315098 1764.1179306315096 (1, 0) 2.2737367544323206e-13\n",
      "73 (0, 1) 1813.6794272772722 1813.6794272772722 (1, 0) 0.0\n",
      "74 (0, 1) 1863.2409239230353 1863.2409239230353 (1, 0) 0.0\n",
      "75 (0, 1) 1912.8024205687987 1912.8024205687984 (1, 0) 2.2737367544323206e-13\n",
      "76 (1, 0) 1962.3639172145613 1962.363917214561 (0, 1) 2.2737367544323206e-13\n",
      "77 (0, 1) 2011.9254138603244 2011.9254138603242 (1, 0) 2.2737367544323206e-13\n",
      "78 (0, 1) 2061.4869105060875 2061.4869105060875 (1, 0) 0.0\n",
      "79 (0, 1) 2111.0484071518504 2111.0484071518504 (1, 0) 0.0\n",
      "80 (0, 1) 2160.6099037976137 2160.6099037976132 (1, 0) 4.547473508864641e-13\n",
      "81 (1, 0) 2210.171400443377 2210.1714004433766 (0, 1) 4.547473508864641e-13\n",
      "82 (1, 0) 2259.7328970891394 2259.732897089139 (0, 1) 4.547473508864641e-13\n",
      "83 (0, 1) 2309.2943937349028 2309.2943937349023 (1, 0) 4.547473508864641e-13\n",
      "84 (0, 1) 2358.855890380665 2358.855890380665 (1, 0) 0.0\n",
      "85 (0, 1) 2408.417387026428 2408.417387026428 (1, 0) 0.0\n",
      "86 (0, 1) 2457.978883672192 2457.9788836721914 (1, 0) 4.547473508864641e-13\n",
      "87 (0, 1) 2507.5403803179547 2507.5403803179543 (1, 0) 4.547473508864641e-13\n",
      "88 (0, 1) 2557.101876963717 2557.101876963717 (1, 0) 0.0\n",
      "89 (1, 0) 2606.66337360948 2606.6633736094795 (0, 1) 4.547473508864641e-13\n",
      "90 (0, 1) 2656.224870255243 2656.224870255243 (1, 0) 0.0\n",
      "91 (0, 1) 2705.7863669010057 2705.7863669010057 (1, 0) 0.0\n",
      "92 (0, 1) 2755.3478635467695 2755.3478635467686 (1, 0) 9.094947017729282e-13\n",
      "93 (0, 1) 2804.9093601925315 2804.9093601925315 (1, 0) 0.0\n",
      "94 (0, 1) 2854.470856838295 2854.470856838295 (1, 0) 0.0\n",
      "95 (1, 0) 2904.032353484058 2904.0323534840577 (0, 1) 4.547473508864641e-13\n",
      "96 (0, 1) 2953.5938501298215 2953.5938501298215 (1, 0) 0.0\n",
      "97 (0, 1) 3003.155346775584 3003.155346775584 (1, 0) 0.0\n",
      "98 (0, 1) 3052.7168434213468 3052.7168434213468 (1, 0) 0.0\n",
      "99 (0, 1) 3102.27834006711 3102.2783400671096 (1, 0) 4.547473508864641e-13\n",
      "100 (0, 1) 3151.839836712872 3151.839836712872 (1, 0) 0.0\n",
      "101 (0, 1) 3201.4013333586354 3201.401333358635 (1, 0) 4.547473508864641e-13\n",
      "102 (0, 1) 3250.962830004399 3250.9628300043987 (1, 0) 4.547473508864641e-13\n",
      "103 (0, 1) 3300.524326650162 3300.5243266501616 (1, 0) 4.547473508864641e-13\n",
      "104 (0, 1) 3350.0858232959245 3350.0858232959245 (1, 0) 0.0\n",
      "105 (0, 1) 3399.6473199416873 3399.6473199416873 (1, 0) 0.0\n",
      "106 (0, 1) 3449.2088165874507 3449.2088165874497 (1, 0) 9.094947017729282e-13\n",
      "107 (0, 1) 3498.7703132332135 3498.7703132332135 (1, 0) 0.0\n",
      "108 (0, 1) 3548.331809878976 3548.331809878976 (1, 0) 0.0\n",
      "109 (0, 1) 3597.8933065247393 3597.8933065247393 (1, 0) 0.0\n",
      "110 (0, 1) 3647.4548031705026 3647.454803170502 (1, 0) 4.547473508864641e-13\n",
      "111 (1, 0) 3697.016299816266 3697.0162998162655 (0, 1) 4.547473508864641e-13\n",
      "112 (0, 1) 3746.577796462028 3746.577796462028 (1, 0) 0.0\n",
      "113 (0, 1) 3796.1392931077917 3796.1392931077908 (1, 0) 9.094947017729282e-13\n",
      "114 (0, 1) 3845.700789753554 3845.700789753554 (1, 0) 0.0\n",
      "115 (0, 1) 3895.2622863993165 3895.2622863993165 (1, 0) 0.0\n",
      "116 (0, 1) 3944.82378304508 3944.82378304508 (1, 0) 0.0\n",
      "117 (0, 1) 3994.3852796908436 3994.385279690843 (1, 0) 4.547473508864641e-13\n",
      "118 (1, 0) 4043.9467763366065 4043.946776336606 (0, 1) 4.547473508864641e-13\n",
      "119 (0, 1) 4093.5082729823685 4093.5082729823685 (1, 0) 0.0\n",
      "120 (0, 1) 4143.069769628132 4143.069769628132 (1, 0) 0.0\n",
      "121 (0, 1) 4192.631266273895 4192.631266273895 (1, 0) 0.0\n",
      "122 (0, 1) 4242.192762919658 4242.192762919658 (1, 0) 0.0\n",
      "123 (0, 1) 4291.75425956542 4291.75425956542 (1, 0) 0.0\n",
      "124 (0, 1) 4341.315756211185 4341.315756211183 (1, 0) 1.8189894035458565e-12\n",
      "125 (0, 1) 4390.877252856947 4390.877252856947 (1, 0) 0.0\n",
      "126 (0, 1) 4440.43874950271 4440.43874950271 (1, 0) 0.0\n",
      "127 (1, 0) 4490.000246148473 4490.000246148472 (0, 1) 9.094947017729282e-13\n",
      "128 (0, 1) 4539.561742794236 4539.561742794236 (1, 0) 0.0\n",
      "129 (0, 1) 4589.1232394399985 4589.1232394399985 (1, 0) 0.0\n",
      "130 (0, 1) 4638.684736085761 4638.684736085761 (1, 0) 0.0\n",
      "131 (0, 1) 4688.246232731524 4688.246232731524 (1, 0) 0.0\n",
      "132 (0, 1) 4737.8077293772885 4737.807729377288 (1, 0) 9.094947017729282e-13\n",
      "133 (1, 0) 4787.369226023051 4787.36922602305 (0, 1) 9.094947017729282e-13\n",
      "134 (0, 1) 4836.930722668813 4836.930722668812 (1, 0) 9.094947017729282e-13\n",
      "135 (0, 1) 4886.492219314577 4886.492219314576 (1, 0) 9.094947017729282e-13\n",
      "136 (0, 1) 4936.053715960339 4936.053715960339 (1, 0) 0.0\n",
      "137 (0, 1) 4985.615212606102 4985.615212606102 (1, 0) 0.0\n",
      "138 (0, 1) 5035.176709251866 5035.176709251864 (1, 0) 1.8189894035458565e-12\n",
      "139 (0, 1) 5084.738205897628 5084.738205897628 (1, 0) 0.0\n",
      "140 (0, 1) 5134.2997025433915 5134.2997025433915 (1, 0) 0.0\n",
      "141 (0, 1) 5183.861199189155 5183.861199189154 (1, 0) 9.094947017729282e-13\n",
      "142 (0, 1) 5233.422695834917 5233.422695834917 (1, 0) 0.0\n",
      "143 (1, 0) 5282.984192480681 5282.98419248068 (0, 1) 9.094947017729282e-13\n",
      "144 (0, 1) 5332.545689126444 5332.545689126443 (1, 0) 9.094947017729282e-13\n",
      "145 (0, 1) 5382.107185772206 5382.107185772205 (1, 0) 9.094947017729282e-13\n",
      "146 (0, 1) 5431.668682417968 5431.668682417968 (1, 0) 0.0\n",
      "147 (0, 1) 5481.230179063732 5481.230179063732 (1, 0) 0.0\n",
      "148 (0, 1) 5530.7916757094945 5530.791675709494 (1, 0) 9.094947017729282e-13\n",
      "149 (0, 1) 5580.353172355258 5580.353172355258 (1, 0) 0.0\n",
      "150 (0, 1) 5629.914669001021 5629.91466900102 (1, 0) 9.094947017729282e-13\n",
      "151 (0, 1) 5679.4761656467845 5679.476165646784 (1, 0) 9.094947017729282e-13\n",
      "152 (1, 0) 5729.037662292547 5729.037662292546 (0, 1) 9.094947017729282e-13\n",
      "153 (0, 1) 5778.599158938309 5778.599158938309 (1, 0) 0.0\n",
      "154 (0, 1) 5828.160655584073 5828.160655584073 (1, 0) 0.0\n",
      "155 (0, 1) 5877.722152229836 5877.722152229835 (1, 0) 9.094947017729282e-13\n",
      "156 (0, 1) 5927.283648875599 5927.283648875599 (1, 0) 0.0\n",
      "157 (0, 1) 5976.845145521363 5976.845145521362 (1, 0) 9.094947017729282e-13\n",
      "158 (0, 1) 6026.406642167124 6026.406642167124 (1, 0) 0.0\n",
      "159 (0, 1) 6075.968138812887 6075.968138812887 (1, 0) 0.0\n",
      "160 (0, 1) 6125.529635458651 6125.52963545865 (1, 0) 9.094947017729282e-13\n",
      "161 (0, 1) 6175.091132104413 6175.091132104412 (1, 0) 9.094947017729282e-13\n",
      "162 (0, 1) 6224.652628750177 6224.652628750177 (1, 0) 0.0\n",
      "163 (0, 1) 6274.214125395939 6274.214125395939 (1, 0) 0.0\n",
      "164 (0, 1) 6323.775622041702 6323.775622041701 (1, 0) 9.094947017729282e-13\n",
      "165 (0, 1) 6373.337118687466 6373.337118687465 (1, 0) 9.094947017729282e-13\n",
      "166 (0, 1) 6422.898615333229 6422.898615333229 (1, 0) 0.0\n",
      "167 (0, 1) 6472.46011197899 6472.46011197899 (1, 0) 0.0\n",
      "168 (0, 1) 6522.021608624754 6522.021608624754 (1, 0) 0.0\n",
      "169 (0, 1) 6571.583105270517 6571.583105270517 (1, 0) 0.0\n",
      "170 (0, 1) 6621.14460191628 6621.1446019162795 (1, 0) 9.094947017729282e-13\n",
      "171 (0, 1) 6670.706098562043 6670.706098562043 (1, 0) 0.0\n",
      "172 (0, 1) 6720.267595207808 6720.267595207806 (1, 0) 1.8189894035458565e-12\n",
      "173 (0, 1) 6769.829091853569 6769.829091853569 (1, 0) 0.0\n",
      "174 (0, 1) 6819.390588499333 6819.390588499333 (1, 0) 0.0\n",
      "175 (0, 1) 6868.952085145095 6868.952085145094 (1, 0) 9.094947017729282e-13\n",
      "176 (0, 1) 6918.513581790858 6918.513581790858 (1, 0) 0.0\n",
      "177 (0, 1) 6968.075078436621 6968.075078436621 (1, 0) 0.0\n",
      "178 (0, 1) 7017.6365750823825 7017.6365750823825 (1, 0) 0.0\n",
      "179 (0, 1) 7067.198071728146 7067.198071728146 (1, 0) 0.0\n",
      "180 (0, 1) 7116.75956837391 7116.759568373909 (1, 0) 9.094947017729282e-13\n",
      "181 (0, 1) 7166.3210650196725 7166.3210650196725 (1, 0) 0.0\n",
      "182 (0, 1) 7215.882561665434 7215.882561665434 (1, 0) 0.0\n",
      "183 (0, 1) 7265.444058311198 7265.444058311198 (1, 0) 0.0\n",
      "184 (0, 1) 7315.0055549569615 7315.005554956961 (1, 0) 9.094947017729282e-13\n",
      "185 (0, 1) 7364.567051602722 7364.567051602722 (1, 0) 0.0\n",
      "186 (0, 1) 7414.128548248486 7414.1285482484855 (1, 0) 9.094947017729282e-13\n",
      "187 (0, 1) 7463.690044894249 7463.690044894249 (1, 0) 0.0\n",
      "188 (0, 1) 7513.251541540013 7513.251541540013 (1, 0) 0.0\n",
      "189 (0, 1) 7562.813038185777 7562.813038185777 (1, 0) 0.0\n",
      "190 (0, 1) 7612.374534831539 7612.374534831539 (1, 0) 0.0\n",
      "191 (0, 1) 7661.936031477303 7661.936031477303 (1, 0) 0.0\n",
      "192 (0, 1) 7711.497528123065 7711.497528123065 (1, 0) 0.0\n",
      "193 (0, 1) 7761.059024768827 7761.059024768827 (1, 0) 0.0\n",
      "194 (0, 1) 7810.620521414591 7810.62052141459 (1, 0) 9.094947017729282e-13\n",
      "195 (0, 1) 7860.182018060354 7860.182018060354 (1, 0) 0.0\n",
      "196 (0, 1) 7909.743514706118 7909.743514706118 (1, 0) 0.0\n",
      "197 (0, 1) 7959.305011351879 7959.305011351878 (1, 0) 9.094947017729282e-13\n",
      "198 (0, 1) 8008.866507997643 8008.866507997643 (1, 0) 0.0\n",
      "199 (0, 1) 8058.428004643406 8058.428004643405 (1, 0) 9.094947017729282e-13\n"
     ]
    }
   ],
   "source": [
    "for i in range(200):\n",
    "    print(i, carteira(case_b1,case_corr_b1,i)[0],carteira(case_b1,case_corr_b1,i)[1],carteira(case_b1,case_corr_b1,i)[3],carteira(case_b1,case_corr_b1,i)[2], carteira(case_b1,case_corr_b1,i)[4])"
   ]
  },
  {
   "cell_type": "code",
   "execution_count": 186,
   "metadata": {},
   "outputs": [
    {
     "name": "stdout",
     "output_type": "stream",
     "text": [
      "o gatilho é: 73.0\n"
     ]
    }
   ],
   "source": [
    "print('o gatilho é:',solucao_b1[1].iloc[0,0])"
   ]
  },
  {
   "cell_type": "code",
   "execution_count": 187,
   "metadata": {},
   "outputs": [
    {
     "name": "stdout",
     "output_type": "stream",
     "text": [
      "o portfólio vale 822.79: 806.3287497600586\n"
     ]
    }
   ],
   "source": [
    "print('o portfólio vale 822.79:', solucao_b1[0])"
   ]
  },
  {
   "cell_type": "code",
   "execution_count": 188,
   "metadata": {},
   "outputs": [],
   "source": [
    "winsound.Beep(freq,duration)\n"
   ]
  },
  {
   "cell_type": "code",
   "execution_count": 189,
   "metadata": {},
   "outputs": [],
   "source": [
    "#################################\n",
    "#######Exportar array############"
   ]
  },
  {
   "cell_type": "code",
   "execution_count": 190,
   "metadata": {},
   "outputs": [
    {
     "data": {
      "text/plain": [
       "array([  0. ,   0.5,   1. ,   1.5,   2. ,   2.5,   3. ,   3.5,   4. ,\n",
       "         4.5,   5. ,   5.5,   6. ,   6.5,   7. ,   7.5,   8. ,   8.5,\n",
       "         9. ,   9.5,  10. ,  10.5,  11. ,  11.5,  12. ,  12.5,  13. ,\n",
       "        13.5,  14. ,  14.5,  15. ,  15.5,  16. ,  16.5,  17. ,  17.5,\n",
       "        18. ,  18.5,  19. ,  19.5,  20. ,  20.5,  21. ,  21.5,  22. ,\n",
       "        22.5,  23. ,  23.5,  24. ,  24.5,  25. ,  25.5,  26. ,  26.5,\n",
       "        27. ,  27.5,  28. ,  28.5,  29. ,  29.5,  30. ,  30.5,  31. ,\n",
       "        31.5,  32. ,  32.5,  33. ,  33.5,  34. ,  34.5,  35. ,  35.5,\n",
       "        36. ,  36.5,  37. ,  37.5,  38. ,  38.5,  39. ,  39.5,  40. ,\n",
       "        40.5,  41. ,  41.5,  42. ,  42.5,  43. ,  43.5,  44. ,  44.5,\n",
       "        45. ,  45.5,  46. ,  46.5,  47. ,  47.5,  48. ,  48.5,  49. ,\n",
       "        49.5,  50. ,  50.5,  51. ,  51.5,  52. ,  52.5,  53. ,  53.5,\n",
       "        54. ,  54.5,  55. ,  55.5,  56. ,  56.5,  57. ,  57.5,  58. ,\n",
       "        58.5,  59. ,  59.5,  60. ,  60.5,  61. ,  61.5,  62. ,  62.5,\n",
       "        63. ,  63.5,  64. ,  64.5,  65. ,  65.5,  66. ,  66.5,  67. ,\n",
       "        67.5,  68. ,  68.5,  69. ,  69.5,  70. ,  70.5,  71. ,  71.5,\n",
       "        72. ,  72.5,  73. ,  73.5,  74. ,  74.5,  75. ,  75.5,  76. ,\n",
       "        76.5,  77. ,  77.5,  78. ,  78.5,  79. ,  79.5,  80. ,  80.5,\n",
       "        81. ,  81.5,  82. ,  82.5,  83. ,  83.5,  84. ,  84.5,  85. ,\n",
       "        85.5,  86. ,  86.5,  87. ,  87.5,  88. ,  88.5,  89. ,  89.5,\n",
       "        90. ,  90.5,  91. ,  91.5,  92. ,  92.5,  93. ,  93.5,  94. ,\n",
       "        94.5,  95. ,  95.5,  96. ,  96.5,  97. ,  97.5,  98. ,  98.5,\n",
       "        99. ,  99.5, 100. ])"
      ]
     },
     "execution_count": 190,
     "metadata": {},
     "output_type": "execute_result"
    }
   ],
   "source": [
    "solucao_b1[3]"
   ]
  },
  {
   "cell_type": "code",
   "execution_count": 191,
   "metadata": {},
   "outputs": [
    {
     "data": {
      "text/plain": [
       "[<matplotlib.lines.Line2D at 0x213cee87948>]"
      ]
     },
     "execution_count": 191,
     "metadata": {},
     "output_type": "execute_result"
    },
    {
     "data": {
      "image/png": "[encoded data removed]",
      "text/plain": [
       "<Figure size 432x288 with 1 Axes>"
      ]
     },
     "metadata": {
      "needs_background": "light"
     },
     "output_type": "display_data"
    }
   ],
   "source": [
    "plt.plot(solucao_b1[4][0,:])"
   ]
  },
  {
   "cell_type": "code",
   "execution_count": 192,
   "metadata": {},
   "outputs": [],
   "source": [
    "np.savetxt('Port_Explorar_opcao_dog_feather.txt',solucao_b1[4][0,:])"
   ]
  },
  {
   "cell_type": "code",
   "execution_count": 193,
   "metadata": {},
   "outputs": [],
   "source": [
    "np.savetxt('Port_Explorar_preco_dog_feather.txt',solucao_b1[3])"
   ]
  },
  {
   "cell_type": "code",
   "execution_count": null,
   "metadata": {},
   "outputs": [],
   "source": [
    "#################################\n",
    "#######importar array############"
   ]
  },
  {
   "cell_type": "code",
   "execution_count": 247,
   "metadata": {},
   "outputs": [],
   "source": [
    "vme_port=np.loadtxt('Opcao_portf_dog_feather.txt')"
   ]
  },
  {
   "cell_type": "code",
   "execution_count": 248,
   "metadata": {},
   "outputs": [],
   "source": [
    "vme_port_preco=np.loadtxt('Preco_portf_dog_feather.txt')"
   ]
  },
  {
   "cell_type": "code",
   "execution_count": 249,
   "metadata": {},
   "outputs": [
    {
     "data": {
      "text/plain": [
       "[<matplotlib.lines.Line2D at 0x1b0824d8e08>]"
      ]
     },
     "execution_count": 249,
     "metadata": {},
     "output_type": "execute_result"
    },
    {
     "data": {
      "image/png": "[encoded data removed]",
      "text/plain": [
       "<Figure size 432x288 with 1 Axes>"
      ]
     },
     "metadata": {
      "needs_background": "light"
     },
     "output_type": "display_data"
    }
   ],
   "source": [
    "plt.plot(vme_port_preco,vme_port)"
   ]
  },
  {
   "cell_type": "code",
   "execution_count": 250,
   "metadata": {},
   "outputs": [],
   "source": [
    "opcao_port_1=np.interp(solucao_b1[3],vme_port_preco,vme_port)"
   ]
  },
  {
   "cell_type": "code",
   "execution_count": 251,
   "metadata": {},
   "outputs": [],
   "source": [
    "preco=solucao_b1[3]\n",
    "opcao=solucao_b1[4][0,:]\n"
   ]
  },
  {
   "cell_type": "code",
   "execution_count": 253,
   "metadata": {},
   "outputs": [
    {
     "data": {
      "text/plain": [
       "Text(0.5, 0, 'Preço do Petróleo (\\\\$/bbl)')"
      ]
     },
     "execution_count": 253,
     "metadata": {},
     "output_type": "execute_result"
    },
    {
     "data": {
      "image/png": "[encoded data removed]",
      "text/plain": [
       "<Figure size 720x360 with 1 Axes>"
      ]
     },
     "metadata": {
      "needs_background": "light"
     },
     "output_type": "display_data"
    }
   ],
   "source": [
    "fig,ax=plt.subplots(figsize=(10,5))\n",
    "\n",
    "ax.plot(preco,opcao, ls='--')\n",
    "ax.plot(preco,opcao_port_1, ls='--')\n",
    "ax.axhline(0, linestyle='-', color='grey')\n",
    "\n",
    "\n",
    "\n",
    "#ax.plot(preco,venc, ls='--')\n",
    "#ax.plot(preco_inv/(0.1*300*np.exp(-2*delta)),mapa_inv[-1,:], ls='--')\n",
    "\n",
    "plt.legend(['E(P,t)', 'VME(P,t)'])\n",
    "#ax.set_ylim(-200,1400)\n",
    "#ax.set_xlim(-5,80)\n",
    "ax.set_title('Métrica de Avaliação Exploratória - Portfolio')\n",
    "\n",
    "ax.set_ylabel('Valor - (M\\$)')\n",
    "ax.set_xlabel('Preço do Petróleo (\\$/bbl)')\n",
    "\n"
   ]
  },
  {
   "cell_type": "code",
   "execution_count": 254,
   "metadata": {},
   "outputs": [
    {
     "data": {
      "text/plain": [
       "array([ 72.5 ,  72.75,  73.  ,  73.25,  73.5 ,  73.75,  74.  ,  74.25,\n",
       "        74.5 ,  74.75,  75.  ,  75.25,  75.5 ,  75.75,  76.  ,  76.25,\n",
       "        76.5 ,  76.75,  77.  ,  77.25,  77.5 ,  77.75,  78.  ,  78.25,\n",
       "        78.5 ,  78.75,  79.  ,  79.25,  79.5 ,  79.75,  80.  ,  80.25,\n",
       "        80.5 ,  80.75,  81.  ,  81.25,  81.5 ,  81.75,  82.  ,  82.25,\n",
       "        82.5 ,  82.75,  83.  ,  83.25,  83.5 ,  83.75,  84.  ,  84.25,\n",
       "        84.5 ,  84.75,  85.  ,  85.25,  85.5 ,  85.75,  86.  ,  86.25,\n",
       "        86.5 ,  86.75,  87.  ,  87.25,  87.5 ,  87.75,  88.  ,  88.25,\n",
       "        88.5 ,  88.75,  89.  ,  89.25,  89.5 ,  89.75,  90.  ,  90.25,\n",
       "        90.5 ,  90.75,  91.  ,  91.25,  91.5 ,  91.75,  92.  ,  92.25,\n",
       "        92.5 ,  92.75,  93.  ,  93.25,  93.5 ,  93.75,  94.  ,  94.25,\n",
       "        94.5 ,  94.75,  95.  ,  95.25,  95.5 ,  95.75,  96.  ,  96.25,\n",
       "        96.5 ,  96.75,  97.  ,  97.25,  97.5 ,  97.75,  98.  ,  98.25,\n",
       "        98.5 ,  98.75,  99.  ,  99.25,  99.5 ,  99.75, 100.  ])"
      ]
     },
     "execution_count": 254,
     "metadata": {},
     "output_type": "execute_result"
    }
   ],
   "source": [
    "preco[opcao-opcao_port_1<0.1]"
   ]
  },
  {
   "cell_type": "code",
   "execution_count": 255,
   "metadata": {},
   "outputs": [
    {
     "data": {
      "text/plain": [
       "(array([  1., 124.,  43.,  35.,  28.,  25.,  24.,  24.,  34.,  63.]),\n",
       " array([-12.39037416,  -5.15133675,   2.08770067,   9.32673809,\n",
       "         16.5657755 ,  23.80481292,  31.04385034,  38.28288775,\n",
       "         45.52192517,  52.76096258,  60.        ]),\n",
       " <a list of 10 Patch objects>)"
      ]
     },
     "execution_count": 255,
     "metadata": {},
     "output_type": "execute_result"
    },
    {
     "data": {
      "image/png": "[encoded data removed]",
      "text/plain": [
       "<Figure size 432x288 with 1 Axes>"
      ]
     },
     "metadata": {
      "needs_background": "light"
     },
     "output_type": "display_data"
    }
   ],
   "source": [
    "plt.hist(opcao-opcao_port_1)"
   ]
  },
  {
   "cell_type": "code",
   "execution_count": 482,
   "metadata": {},
   "outputs": [],
   "source": [
    "################################################33\n",
    "###########Modelo de Competicao#################\n"
   ]
  },
  {
   "cell_type": "code",
   "execution_count": null,
   "metadata": {},
   "outputs": [],
   "source": []
  },
  {
   "cell_type": "code",
   "execution_count": 194,
   "metadata": {},
   "outputs": [
    {
     "data": {
      "text/html": [
       "<div>\n",
       "<style scoped>\n",
       "    .dataframe tbody tr th:only-of-type {\n",
       "        vertical-align: middle;\n",
       "    }\n",
       "\n",
       "    .dataframe tbody tr th {\n",
       "        vertical-align: top;\n",
       "    }\n",
       "\n",
       "    .dataframe thead th {\n",
       "        text-align: right;\n",
       "    }\n",
       "</style>\n",
       "<table border=\"1\" class=\"dataframe\">\n",
       "  <thead>\n",
       "    <tr style=\"text-align: right;\">\n",
       "      <th>Type</th>\n",
       "      <th>DogFish</th>\n",
       "      <th>Feather</th>\n",
       "      <th>Head</th>\n",
       "    </tr>\n",
       "  </thead>\n",
       "  <tbody>\n",
       "    <tr>\n",
       "      <td>CF</td>\n",
       "      <td>0.3</td>\n",
       "      <td>0.25</td>\n",
       "      <td>0.20</td>\n",
       "    </tr>\n",
       "    <tr>\n",
       "      <td>I_w</td>\n",
       "      <td>80.0</td>\n",
       "      <td>60.00</td>\n",
       "      <td>80.00</td>\n",
       "    </tr>\n",
       "    <tr>\n",
       "      <td>q</td>\n",
       "      <td>0.2</td>\n",
       "      <td>0.21</td>\n",
       "      <td>0.18</td>\n",
       "    </tr>\n",
       "    <tr>\n",
       "      <td>B</td>\n",
       "      <td>620.0</td>\n",
       "      <td>310.00</td>\n",
       "      <td>950.00</td>\n",
       "    </tr>\n",
       "    <tr>\n",
       "      <td>Owner</td>\n",
       "      <td>0.0</td>\n",
       "      <td>0.00</td>\n",
       "      <td>1.00</td>\n",
       "    </tr>\n",
       "  </tbody>\n",
       "</table>\n",
       "</div>"
      ],
      "text/plain": [
       "Type   DogFish  Feather    Head\n",
       "CF         0.3     0.25    0.20\n",
       "I_w       80.0    60.00   80.00\n",
       "q          0.2     0.21    0.18\n",
       "B        620.0   310.00  950.00\n",
       "Owner      0.0     0.00    1.00"
      ]
     },
     "execution_count": 194,
     "metadata": {},
     "output_type": "execute_result"
    }
   ],
   "source": [
    "#Importar Case 2 ou ABC ou ABCD como case \n",
    "case=pd.read_csv(\"Case_Guy.csv\", sep=';')\n",
    "case.set_index('Type', inplace=True)\n",
    "case.Owner=case.Owner.astype(int)\n",
    "case=case.astype(float).T\n",
    "case"
   ]
  },
  {
   "cell_type": "code",
   "execution_count": 195,
   "metadata": {},
   "outputs": [
    {
     "data": {
      "text/html": [
       "<div>\n",
       "<style scoped>\n",
       "    .dataframe tbody tr th:only-of-type {\n",
       "        vertical-align: middle;\n",
       "    }\n",
       "\n",
       "    .dataframe tbody tr th {\n",
       "        vertical-align: top;\n",
       "    }\n",
       "\n",
       "    .dataframe thead th {\n",
       "        text-align: right;\n",
       "    }\n",
       "</style>\n",
       "<table border=\"1\" class=\"dataframe\">\n",
       "  <thead>\n",
       "    <tr style=\"text-align: right;\">\n",
       "      <th></th>\n",
       "      <th>DogFish</th>\n",
       "      <th>Feather</th>\n",
       "      <th>Head</th>\n",
       "    </tr>\n",
       "    <tr>\n",
       "      <th>Type</th>\n",
       "      <th></th>\n",
       "      <th></th>\n",
       "      <th></th>\n",
       "    </tr>\n",
       "  </thead>\n",
       "  <tbody>\n",
       "    <tr>\n",
       "      <td>DogFish</td>\n",
       "      <td>1.0</td>\n",
       "      <td>0.6</td>\n",
       "      <td>0.5</td>\n",
       "    </tr>\n",
       "    <tr>\n",
       "      <td>Feather</td>\n",
       "      <td>0.6</td>\n",
       "      <td>1.0</td>\n",
       "      <td>0.6</td>\n",
       "    </tr>\n",
       "    <tr>\n",
       "      <td>Head</td>\n",
       "      <td>0.5</td>\n",
       "      <td>0.6</td>\n",
       "      <td>1.0</td>\n",
       "    </tr>\n",
       "  </tbody>\n",
       "</table>\n",
       "</div>"
      ],
      "text/plain": [
       "         DogFish  Feather  Head\n",
       "Type                           \n",
       "DogFish      1.0      0.6   0.5\n",
       "Feather      0.6      1.0   0.6\n",
       "Head         0.5      0.6   1.0"
      ]
     },
     "execution_count": 195,
     "metadata": {},
     "output_type": "execute_result"
    }
   ],
   "source": [
    "#Importar correlacao Case 2 ou ABC ou ABCD como case\n",
    "case_corr=pd.read_csv(\"Case_Guy_corr.csv\", sep=';')\n",
    "case_corr.set_index('Type', inplace=True)\n",
    "case_corr\n"
   ]
  },
  {
   "cell_type": "code",
   "execution_count": 196,
   "metadata": {},
   "outputs": [
    {
     "data": {
      "text/html": [
       "<div>\n",
       "<style scoped>\n",
       "    .dataframe tbody tr th:only-of-type {\n",
       "        vertical-align: middle;\n",
       "    }\n",
       "\n",
       "    .dataframe tbody tr th {\n",
       "        vertical-align: top;\n",
       "    }\n",
       "\n",
       "    .dataframe thead th {\n",
       "        text-align: right;\n",
       "    }\n",
       "</style>\n",
       "<table border=\"1\" class=\"dataframe\">\n",
       "  <thead>\n",
       "    <tr style=\"text-align: right;\">\n",
       "      <th>Type</th>\n",
       "      <th>DogFish</th>\n",
       "      <th>Feather</th>\n",
       "      <th>Head</th>\n",
       "    </tr>\n",
       "  </thead>\n",
       "  <tbody>\n",
       "    <tr>\n",
       "      <td>CF</td>\n",
       "      <td>0.300000</td>\n",
       "      <td>0.250000</td>\n",
       "      <td>0.200000</td>\n",
       "    </tr>\n",
       "    <tr>\n",
       "      <td>I_w</td>\n",
       "      <td>80.000000</td>\n",
       "      <td>60.000000</td>\n",
       "      <td>80.000000</td>\n",
       "    </tr>\n",
       "    <tr>\n",
       "      <td>q</td>\n",
       "      <td>0.185363</td>\n",
       "      <td>0.194631</td>\n",
       "      <td>0.166827</td>\n",
       "    </tr>\n",
       "    <tr>\n",
       "      <td>B</td>\n",
       "      <td>620.000000</td>\n",
       "      <td>310.000000</td>\n",
       "      <td>950.000000</td>\n",
       "    </tr>\n",
       "    <tr>\n",
       "      <td>Owner</td>\n",
       "      <td>0.000000</td>\n",
       "      <td>0.000000</td>\n",
       "      <td>1.000000</td>\n",
       "    </tr>\n",
       "  </tbody>\n",
       "</table>\n",
       "</div>"
      ],
      "text/plain": [
       "Type      DogFish     Feather        Head\n",
       "CF       0.300000    0.250000    0.200000\n",
       "I_w     80.000000   60.000000   80.000000\n",
       "q        0.185363    0.194631    0.166827\n",
       "B      620.000000  310.000000  950.000000\n",
       "Owner    0.000000    0.000000    1.000000"
      ]
     },
     "execution_count": 196,
     "metadata": {},
     "output_type": "execute_result"
    }
   ],
   "source": [
    "case.iloc[2,:]=case.iloc[2,:]*np.exp(-2*delta)\n",
    "case.head()"
   ]
  },
  {
   "cell_type": "code",
   "execution_count": 104,
   "metadata": {},
   "outputs": [],
   "source": [
    "#############################################"
   ]
  },
  {
   "cell_type": "code",
   "execution_count": null,
   "metadata": {},
   "outputs": [],
   "source": []
  },
  {
   "cell_type": "code",
   "execution_count": null,
   "metadata": {},
   "outputs": [],
   "source": []
  },
  {
   "cell_type": "code",
   "execution_count": 486,
   "metadata": {},
   "outputs": [
    {
     "name": "stdout",
     "output_type": "stream",
     "text": [
      "[0.5, 0.6]\n",
      "0.5 0.758257569495584 0.3\n",
      "[True, True]\n",
      "[[75.82575695 91.22689345]\n",
      " [        nan 32.21627957]]\n",
      "[[1444.31046352  708.79031123]\n",
      " [          nan  211.4941029 ]]\n",
      "[[2032.88318066  708.79031123]\n",
      " [          nan  211.4941029 ]]\n",
      "0.6 0.7696152422706632 0.25\n",
      "[True, True]\n",
      "[[76.96152423 89.88060358]\n",
      " [        nan 28.87462918]]\n",
      "[[ 588.57271715 1726.85231536]\n",
      " [          nan  500.46106175]]\n",
      "[[2032.88318066 1726.85231536]\n",
      " [          nan  500.46106175]]\n",
      "melhor portfolio é: (1, 0) e o valor é: 2032.8831806625371 [2032.883180662537, 2032.8831806625371]\n"
     ]
    }
   ],
   "source": [
    "#################Sem cortes - com case_b1\n",
    "\n",
    "\n",
    "####Separação do ativo do vizinho -Caso bem particular onde há um só ativo e \n",
    "sinal=1  #sinal up igual a 1 e sinal down igual a 0\n",
    "stra_rho=[]\n",
    "stra_rho.append(case_corr[case.columns[case.loc['Owner']==1]].iloc[0,0])\n",
    "stra_rho.append(case_corr[case.columns[case.loc['Owner']==1]].iloc[1,0])\n",
    "print(stra_rho)\n",
    "\n",
    "FC_viz=case[case.columns[case.loc['Owner']==1]].iloc[0,0]\n",
    "\n",
    "case_corr=case_corr.drop(case_corr[case.columns[case.loc['Owner']==1]])\n",
    "case_corr=case_corr.drop(case_corr[case.columns[case.loc['Owner']==1]],axis=1)\n",
    "\n",
    "\n",
    "case=case.drop(case[case.columns[case.loc['Owner']==1]],axis=1)\n",
    "\n",
    "\n",
    "\n",
    "\n",
    "                         \n",
    "                         \n",
    "fold=[]\n",
    "seq=[]\n",
    "P=50\n",
    "n=case.shape[1]\n",
    "perm=itertools.permutations(range(n))\n",
    "for k in list(perm):\n",
    "    seq.append(k)\n",
    "    #print(k)\n",
    "    m=np.zeros((2**(n-1),n))\n",
    "    p=np.zeros((2**(n-1),n))\n",
    "    pi=np.zeros((2**(n-1),n))\n",
    "    m[m==0]=np.nan\n",
    "    p[m==0]=np.nan\n",
    "    pi[pi==0]=np.nan\n",
    "    \n",
    "                         \n",
    "    #m[0,0]=case.iloc[0,k[0]] ### Capta da permutacao, o fc da Primeira na ordem de perfuracao\n",
    "    #pi[0,0]=m[0,0]*(V(P,case,0) - I(P,case,0)) -case.iloc[1,k[0]]\n",
    "    \n",
    "    if sinal==1:\n",
    "        \n",
    "        m[0,0]=case.iloc[0,k[0]] + stra_rho[k[0]]*np.sqrt(FC_viz*(1-FC_viz)*case.iloc[0,k[0]]*(1-case.iloc[0,k[0]]))/FC_viz \n",
    "        pi[0,0]=m[0,0]*(V(P,case,0) - I(case,0)) -case.iloc[1,k[0]]\n",
    "        print(stra_rho[k[0]], m[0,0], case.iloc[0,k[0]])\n",
    "        #print(1,m[0,0],pi[0,0] )\n",
    "    \n",
    "    elif sinal==0:\n",
    "        #print(0)\n",
    "        m[0,0]=case.iloc[0,k[0]] - stra_rho[k[0]]*np.sqrt(FC_viz*(1-FC_viz)*case.iloc[0,k[0]]*(1-case.iloc[0,k[0]]))/(1-FC_viz) \n",
    "        pi[0,0]=m[0,0]*(V(P,case,0) - I(case,0)) -case.iloc[1,k[0]]\n",
    "        #print(0,m[0,0],pi[0,0])\n",
    "                         \n",
    "        \n",
    "    \n",
    "    \n",
    "                         \n",
    "                         \n",
    "    #Vetores Auxiliares\n",
    "    Ax_m=[]\n",
    "    Ax1_m=[]\n",
    "    Ax_pi=[]\n",
    "    Ax_lim=[]\n",
    "    ##Loop para criacao da matriz de FC e VME\n",
    "    for y in range(1,n,1):\n",
    "        if sinal==1:\n",
    "            Ax_m.append(case.iloc[0,k[y]] + stra_rho[k[y]]*np.sqrt(FC_viz*(1-FC_viz)*case.iloc[0,k[y]]*(1-case.iloc[0,k[y]]))/FC_viz) \n",
    "            #print(stra_rho[k[0]], m[0,0], case.iloc[0,k[0]])\n",
    "            #print(1,m[0,0],pi[0,0] )\n",
    "    \n",
    "        elif sinal==0:\n",
    "            #print(0)\n",
    "            Ax_m.append(case.iloc[0,k[y]] - stra_rho[k[y]]*np.sqrt(FC_viz*(1-FC_viz)*case.iloc[0,k[y]]*(1-case.iloc[0,k[y]]))/(1-FC_viz)) \n",
    "            #print(0,m[0,0],pi[0,0])\n",
    "                         \n",
    "        \n",
    "        \n",
    "    \n",
    "    for j in range(n-1):\n",
    "        p=0\n",
    "        for q in range(1+j,n,1):\n",
    "            for i in range(2**(j)):\n",
    "                p=p+1\n",
    "                #print(p-1,j,q,i,j)\n",
    "                CF_s=Ax_m[p-1] +case_corr.iloc[k[j],k[q]]*np.sqrt((m[i,j]-m[i,j]**2)*(Ax_m[p-1]-Ax_m[p-1]**2))/m[i,j]\n",
    "                Ax1_m.append(CF_s)\n",
    "                CF_ins=Ax_m[p-1] -case_corr.iloc[k[j],k[q]]*np.sqrt((m[i,j]-m[i,j]**2)*(Ax_m[p-1]-Ax_m[p-1]**2))/(1-m[i,j])\n",
    "                Ax1_m.append(CF_ins)\n",
    "                #print(CF_s,CF_ins)\n",
    "                \n",
    "                Ax_pi.append(CF_s*(V(P,case,j+1) - I(case,j+1)) -case.iloc[1,k[j+1]])\n",
    "                Ax_pi.append(CF_ins*(V(P,case,j+1) - I(case,j+1)) -case.iloc[1,k[j+1]])\n",
    "                \n",
    "                a=np.minimum(Ax_m[p-1],m[i,j])*(1-np.maximum(Ax_m[p-1],m[i,j]))\n",
    "                b=np.maximum(Ax_m[p-1],m[i,j])*(1-np.minimum(Ax_m[p-1],m[i,j]))\n",
    "                Ax_lim.append(np.sqrt(a/b)>case_corr.iloc[k[j],k[q]])\n",
    "                \n",
    "                a=-np.sqrt(Ax_m[p-1]*m[i,j]/(1-Ax_m[p-1])*(1-m[i,j]))\n",
    "                b=-np.sqrt((1-Ax_m[p-1])*(1-m[i,j])/Ax_m[p-1]*m[i,j])\n",
    "                Ax_lim.append(np.maximum(a,b)<case_corr.iloc[k[j],k[q]])\n",
    "                \n",
    "\n",
    "        m[0:2*(i+1),j+1]=Ax1_m[0:2*(i+1)]\n",
    "        pi[0:2*(i+1),j+1]=Ax_pi[0:2*(i+1)]\n",
    "        \n",
    "        del Ax1_m[0:2*(i+1)]\n",
    "        \n",
    "        print(Ax_lim)\n",
    "        Ax_m=Ax1_m\n",
    "        Ax1_m=[]\n",
    "        Ax_pi=[]\n",
    "        Ax_lim=[]\n",
    "    \n",
    "    print(100*m)\n",
    "    print(pi)\n",
    "    \n",
    "    for l in np.arange(n-2,-1,-1):\n",
    "        #print(l)\n",
    "        for g in range(2**(l)):\n",
    "            #print(pi[g,l],m[g,l], pi[2*g,l+1],(1-m[g,l]), pi[2*g+1,l+1]   )\n",
    "            pi[g,l]= np.maximum(0,pi[g,l] + m[g,l]*np.maximum(0,pi[2*g,l+1]) + (1-m[g,l])*np.maximum(0,pi[2*g+1,l+1]))\n",
    "    print(pi)\n",
    "    fold.append(pi[0,0])\n",
    "    \n",
    "\n",
    "###Fornece o melhor portfolio seq_winner e o valor do porfolio winner\n",
    "winner=np.amax(fold)\n",
    "Seq_winner=seq[np.argmax(fold)]\n",
    "winner=np.maximum(0,winner)\n",
    "if winner==0:\n",
    "    Seq_winner='W'\n",
    "\n",
    "    \n",
    "    \n",
    "            \n",
    "\n",
    "    #print(fold)\n",
    "    #print(m)\n",
    "print('melhor portfolio é:',Seq_winner, 'e o valor é:', winner, fold)\n",
    "#print(fold)\n",
    "    \n",
    "    \n",
    "    \n",
    "    \n",
    "    \n",
    "    "
   ]
  },
  {
   "cell_type": "code",
   "execution_count": 477,
   "metadata": {},
   "outputs": [],
   "source": [
    "def carteira_estra_old(case,case_corr,P,sinal):\n",
    "    #################Formalizacao caso 4 - correto\n",
    "    \n",
    "    #sinal=1  #sinal up igual a 1 e sinal down igual a 0\n",
    "    stra_rho=[]\n",
    "    stra_rho.append(case_corr[case.columns[case.loc['Owner']==1]].iloc[0,0])\n",
    "    stra_rho.append(case_corr[case.columns[case.loc['Owner']==1]].iloc[1,0])\n",
    "    #stra_rho.append(0.1)\n",
    "    #stra_rho.append(0.1)\n",
    "\n",
    "\n",
    "    FC_viz=case[case.columns[case.loc['Owner']==1]].iloc[0,0]\n",
    "    \n",
    "    case_corr=case_corr.drop(case_corr[case.columns[case.loc['Owner']==1]])\n",
    "    case_corr=case_corr.drop(case_corr[case.columns[case.loc['Owner']==1]],axis=1)\n",
    "\n",
    "\n",
    "    case=case.drop(case[case.columns[case.loc['Owner']==1]],axis=1)\n",
    "\n",
    "    \n",
    "    \n",
    "    \n",
    "    fold=[]\n",
    "    seq=[]\n",
    "    #P=50\n",
    "    n=case.shape[1]\n",
    "    perm=itertools.permutations(range(n))\n",
    "    for k in list(perm):\n",
    "        seq.append(k)\n",
    "        #print(k)\n",
    "        m=np.zeros((2**(n-1),n))\n",
    "        p=np.zeros((2**(n-1),n))\n",
    "        pi=np.zeros((2**(n-1),n))\n",
    "        m[m==0]=np.nan\n",
    "        p[m==0]=np.nan\n",
    "        pi[pi==0]=np.nan\n",
    "        \n",
    "        \n",
    "        if sinal==1:\n",
    "            m[0,0]=case.iloc[0,k[0]] + stra_rho[k[0]]*np.sqrt(FC_viz*(1-FC_viz)*case.iloc[0,k[0]]*(1-case.iloc[0,k[0]]))/FC_viz \n",
    "            pi[0,0]=m[0,0]*(P*case.iloc[2,k[0]]*case.iloc[3,k[0]] - (5.35*case.iloc[3,k[0]]+650)*np.exp(-2*r)) -case.iloc[1,k[0]]\n",
    "        \n",
    "        elif sinal==0:\n",
    "            m[0,0]=case.iloc[0,k[0]] - stra_rho[k[0]]*np.sqrt(FC_viz*(1-FC_viz)*case.iloc[0,k[0]]*(1-case.iloc[0,k[0]]))/(1-FC_viz) \n",
    "            pi[0,0]=m[0,0]*(P*case.iloc[2,k[0]]*case.iloc[3,k[0]] - (5.35*case.iloc[3,k[0]]+650)*np.exp(-2*r)) -case.iloc[1,k[0]]\n",
    "        \n",
    "        else:\n",
    "            #print(2)\n",
    "            m[0,0]=case.iloc[0,k[0]] ### Capta da permutacao, o fc da Primeira na ordem de perfuracao\n",
    "            pi[0,0]=m[0,0]*(P*case.iloc[2,k[0]]*case.iloc[3,k[0]] - (5.35*case.iloc[5,k[0]]+650)*np.exp(-2*r)) -case.iloc[1,k[0]]\n",
    "        \n",
    "\n",
    "        \n",
    "\n",
    "        #Vetores Auxiliares\n",
    "        Ax_m=[]\n",
    "        Ax1_m=[]\n",
    "        Ax_pi=[]\n",
    "        ##Loop para criacao da matriz de FC e VME\n",
    "        for y in range(1,n,1):\n",
    "            Ax_m.append(case.iloc[0,k[y]])\n",
    "\n",
    "\n",
    "        for j in range(n-1):\n",
    "            p=0\n",
    "            for q in range(1+j,n,1):\n",
    "                for i in range(2**(j)):\n",
    "                    p=p+1\n",
    "                    #print(p-1,j,q,i,j)\n",
    "                    CF_s=Ax_m[p-1] +case_corr.iloc[k[j],k[q]]*np.sqrt((m[i,j]-m[i,j]**2)*(Ax_m[p-1]-Ax_m[p-1]**2))/m[i,j]\n",
    "                    Ax1_m.append(CF_s)\n",
    "                    CF_ins=Ax_m[p-1] -case_corr.iloc[k[j],k[q]]*np.sqrt((m[i,j]-m[i,j]**2)*(Ax_m[p-1]-Ax_m[p-1]**2))/(1-m[i,j])\n",
    "                    Ax1_m.append(CF_ins)\n",
    "\n",
    "                    Ax_pi.append(CF_s*(P*case.iloc[2,k[j+1]]*case.iloc[3,k[j+1]] - (5.35*case.iloc[3,k[j+1]]+650)*np.exp(-2*r)) -case.iloc[1,k[j+1]])\n",
    "                    Ax_pi.append(CF_ins*(P*case.iloc[2,k[j+1]]*case.iloc[3,k[j+1]] - (5.35*case.iloc[3,k[j+1]]+650)*np.exp(-2*r)) -case.iloc[1,k[j+1]])\n",
    "\n",
    "\n",
    "            m[0:2*(i+1),j+1]=Ax1_m[0:2*(i+1)]\n",
    "            pi[0:2*(i+1),j+1]=Ax_pi[0:2*(i+1)]\n",
    "\n",
    "            del Ax1_m[0:2*(i+1)]\n",
    "\n",
    "            Ax_m=Ax1_m\n",
    "            Ax1_m=[]\n",
    "            Ax_pi=[]\n",
    "\n",
    "        #print(100*m)\n",
    "        #print(pi)\n",
    "\n",
    "        for l in np.arange(n-2,-1,-1):\n",
    "            #print(l)\n",
    "            for g in range(2**(l)):\n",
    "                #print(pi[g,l],m[g,l], pi[2*g,l+1],(1-m[g,l]), pi[2*g+1,l+1]   )\n",
    "                pi[g,l]= np.maximum(0,pi[g,l] + m[g,l]*np.maximum(0,pi[2*g,l+1]) + (1-m[g,l])*np.maximum(0,pi[2*g+1,l+1]))\n",
    "        #print(pi)\n",
    "        fold.append(pi[0,0])\n",
    "\n",
    "\n",
    "    ###Fornece o melhor portfolio seq_winner e o valor do porfolio winner\n",
    "    winner=np.amax(fold)\n",
    "    Seq_winner=seq[np.argmax(fold)]\n",
    "    winner=np.maximum(0,winner)\n",
    "    if winner==0:\n",
    "        Seq_winner='W'\n",
    "\n",
    "\n",
    "\n",
    "\n",
    "\n",
    "        #print(fold)\n",
    "        #print(m)\n",
    "    #print('melhor portfolio é:',Seq_winner, 'e o valor é:', winner, fold)\n",
    "    #print(fold)\n",
    "    return[Seq_winner,winner,fold]\n",
    "\n",
    "\n",
    "\n",
    "\n",
    "\n"
   ]
  },
  {
   "cell_type": "code",
   "execution_count": 480,
   "metadata": {},
   "outputs": [
    {
     "name": "stdout",
     "output_type": "stream",
     "text": [
      "melhor portfolio é: (0, 1) e o valor é: 1652.3046479296636 [1652.3046479296636, 1223.8917602704876]\n"
     ]
    }
   ],
   "source": [
    "#################Formalizacao caso - com competição  \n",
    "###OLD############OLD######\n",
    "\n",
    "####Separação do ativo do vizinho -Caso bem particular onde há um só ativo e \n",
    "sinal=1  #sinal up igual a 1 e sinal down igual a 0\n",
    "stra_rho=[]\n",
    "stra_rho.append(case_corr[case.columns[case.loc['Owner']==1]].iloc[0,0])\n",
    "stra_rho.append(case_corr[case.columns[case.loc['Owner']==1]].iloc[1,0])\n",
    "\n",
    "FC_viz=case[case.columns[case.loc['Owner']==1]].iloc[0,0]\n",
    "\n",
    "case_corr=case_corr.drop(case_corr[case.columns[case.loc['Owner']==1]])\n",
    "case_corr=case_corr.drop(case_corr[case.columns[case.loc['Owner']==1]],axis=1)\n",
    "\n",
    "\n",
    "case=case.drop(case[case.columns[case.loc['Owner']==1]],axis=1)\n",
    "\n",
    "\n",
    "\n",
    "\n",
    "                         \n",
    "                         \n",
    "fold=[]\n",
    "seq=[]\n",
    "P=50\n",
    "n=case.shape[1]\n",
    "perm=itertools.permutations(range(n))\n",
    "for k in list(perm):\n",
    "    seq.append(k)\n",
    "    #print(k)\n",
    "    m=np.zeros((2**(n-1),n))\n",
    "    p=np.zeros((2**(n-1),n))\n",
    "    pi=np.zeros((2**(n-1),n))\n",
    "    m[m==0]=np.nan\n",
    "    p[m==0]=np.nan\n",
    "    pi[pi==0]=np.nan\n",
    "    \n",
    "                         \n",
    "    #m[0,0]=case.iloc[0,k[0]] ### Capta da permutacao, o fc da Primeira na ordem de perfuracao\n",
    "    #pi[0,0]=m[0,0]*(V(P,case,0) - I(P,case,0)) -case.iloc[1,k[0]]\n",
    "    \n",
    "    if sinal==1:\n",
    "        \n",
    "        m[0,0]=case.iloc[0,k[0]] + stra_rho[k[0]]*np.sqrt(FC_viz*(1-FC_viz)*case.iloc[0,k[0]]*(1-case.iloc[0,k[0]]))/FC_viz \n",
    "        pi[0,0]=m[0,0]*(V(P,case,0) - I(case,0)) -case.iloc[1,k[0]]\n",
    "        #print(1,m[0,0],pi[0,0])\n",
    "    \n",
    "    elif sinal==0:\n",
    "        #print(0)\n",
    "        m[0,0]=case.iloc[0,k[0]] - stra_rho[k[0]]*np.sqrt(FC_viz*(1-FC_viz)*case.iloc[0,k[0]]*(1-case.iloc[0,k[0]]))/(1-FC_viz) \n",
    "        pi[0,0]=m[0,0]*(V(P,case,0) - I(case,0)) -case.iloc[1,k[0]]\n",
    "        #print(0,m[0,0],pi[0,0])\n",
    "                         \n",
    "    else:\n",
    "        #print(2)\n",
    "        m[0,0]=case.iloc[0,k[0]] ### Capta da permutacao, o fc da Primeira na ordem de perfuracao\n",
    "        pi[0,0]=m[0,0]*(V(P,case,0) - I(case,0)) -case.iloc[1,k[0]]\n",
    "        #print(2,m[0,0],pi[0,0])\n",
    "        \n",
    "    \n",
    "    \n",
    "                         \n",
    "                         \n",
    "    #Vetores Auxiliares\n",
    "    Ax_m=[]\n",
    "    Ax1_m=[]\n",
    "    Ax_pi=[]\n",
    "    Ax_lim=[]\n",
    "    ##Loop para criacao da matriz de FC e VME\n",
    "    for y in range(1,n,1):\n",
    "        Ax_m.append(case.iloc[0,k[y]])\n",
    "    \n",
    "    \n",
    "    for j in range(n-1):\n",
    "        p=0\n",
    "        for q in range(1+j,n,1):\n",
    "            for i in range(2**(j)):\n",
    "                p=p+1\n",
    "                #print(p-1,j,q,i,j)\n",
    "                CF_s=Ax_m[p-1] +case_corr.iloc[k[j],k[q]]*np.sqrt((m[i,j]-m[i,j]**2)*(Ax_m[p-1]-Ax_m[p-1]**2))/m[i,j]\n",
    "                Ax1_m.append(CF_s)\n",
    "                CF_ins=Ax_m[p-1] -case_corr.iloc[k[j],k[q]]*np.sqrt((m[i,j]-m[i,j]**2)*(Ax_m[p-1]-Ax_m[p-1]**2))/(1-m[i,j])\n",
    "                Ax1_m.append(CF_ins)\n",
    "                \n",
    "                Ax_pi.append(CF_s*(V(P,case,j+1) - I(case,j+1)) -case.iloc[1,k[j+1]])\n",
    "                Ax_pi.append(CF_ins*(V(P,case,j+1) - I(case,j+1)) -case.iloc[1,k[j+1]])\n",
    "                \n",
    "                a=np.minimum(Ax_m[p-1],m[i,j])*(1-np.maximum(Ax_m[p-1],m[i,j]))\n",
    "                b=np.maximum(Ax_m[p-1],m[i,j])*(1-np.minimum(Ax_m[p-1],m[i,j]))\n",
    "                Ax_lim.append(np.sqrt(a/b)>case_corr.iloc[k[j],k[q]])\n",
    "                \n",
    "                a=-np.sqrt(Ax_m[p-1]*m[i,j]/(1-Ax_m[p-1])*(1-m[i,j]))\n",
    "                b=-np.sqrt((1-Ax_m[p-1])*(1-m[i,j])/Ax_m[p-1]*m[i,j])\n",
    "                Ax_lim.append(np.maximum(a,b)<case_corr.iloc[k[j],k[q]])\n",
    "                \n",
    "\n",
    "        m[0:2*(i+1),j+1]=Ax1_m[0:2*(i+1)]\n",
    "        pi[0:2*(i+1),j+1]=Ax_pi[0:2*(i+1)]\n",
    "        \n",
    "        del Ax1_m[0:2*(i+1)]\n",
    "        \n",
    "        #print(Ax_lim)\n",
    "        Ax_m=Ax1_m\n",
    "        Ax1_m=[]\n",
    "        Ax_pi=[]\n",
    "        Ax_lim=[]\n",
    "    \n",
    "   # print(100*m)\n",
    "    #print(pi)\n",
    "    \n",
    "    for l in np.arange(n-2,-1,-1):\n",
    "        #print(l)\n",
    "        for g in range(2**(l)):\n",
    "            #print(pi[g,l],m[g,l], pi[2*g,l+1],(1-m[g,l]), pi[2*g+1,l+1]   )\n",
    "            pi[g,l]= np.maximum(0,pi[g,l] + m[g,l]*np.maximum(0,pi[2*g,l+1]) + (1-m[g,l])*np.maximum(0,pi[2*g+1,l+1]))\n",
    "    #print(pi)\n",
    "    fold.append(pi[0,0])\n",
    "    \n",
    "\n",
    "###Fornece o melhor portfolio seq_winner e o valor do porfolio winner\n",
    "winner=np.amax(fold)\n",
    "Seq_winner=seq[np.argmax(fold)]\n",
    "winner=np.maximum(0,winner)\n",
    "if winner==0:\n",
    "    Seq_winner='W'\n",
    "\n",
    "    \n",
    "    \n",
    "            \n",
    "\n",
    "    #print(fold)\n",
    "    #print(m)\n",
    "print('melhor portfolio é:',Seq_winner, 'e o valor é:', winner, fold)\n",
    "#print(fold)\n",
    "    \n",
    "    \n",
    "    \n",
    "    \n",
    "    \n",
    "    "
   ]
  },
  {
   "cell_type": "code",
   "execution_count": 197,
   "metadata": {},
   "outputs": [],
   "source": [
    "def carteira_estra(case,case_corr,P,sinal):\n",
    "    #################Formalizacao caso 4 - correto\n",
    "    \n",
    "    #sinal=1  #sinal up igual a 1 e sinal down igual a 0\n",
    "    stra_rho=[]\n",
    "    stra_rho.append(case_corr[case.columns[case.loc['Owner']==1]].iloc[0,0])\n",
    "    stra_rho.append(case_corr[case.columns[case.loc['Owner']==1]].iloc[1,0])\n",
    "    #stra_rho.append(0.1)\n",
    "    #stra_rho.append(0.1)\n",
    "\n",
    "\n",
    "    FC_viz=case[case.columns[case.loc['Owner']==1]].iloc[0,0]\n",
    "    \n",
    "    case_corr=case_corr.drop(case_corr[case.columns[case.loc['Owner']==1]])\n",
    "    case_corr=case_corr.drop(case_corr[case.columns[case.loc['Owner']==1]],axis=1)\n",
    "\n",
    "\n",
    "    case=case.drop(case[case.columns[case.loc['Owner']==1]],axis=1)\n",
    "\n",
    "    \n",
    "    \n",
    "    \n",
    "    fold=[]\n",
    "    seq=[]\n",
    "    #P=50\n",
    "    n=case.shape[1]\n",
    "    perm=itertools.permutations(range(n))\n",
    "    for k in list(perm):\n",
    "        seq.append(k)\n",
    "        #print(k)\n",
    "        m=np.zeros((2**(n-1),n))\n",
    "        p=np.zeros((2**(n-1),n))\n",
    "        pi=np.zeros((2**(n-1),n))\n",
    "        m[m==0]=np.nan\n",
    "        p[m==0]=np.nan\n",
    "        pi[pi==0]=np.nan\n",
    "        \n",
    "        \n",
    "        if sinal==1:\n",
    "            m[0,0]=case.iloc[0,k[0]] + stra_rho[k[0]]*np.sqrt(FC_viz*(1-FC_viz)*case.iloc[0,k[0]]*(1-case.iloc[0,k[0]]))/FC_viz \n",
    "            pi[0,0]=m[0,0]*(P*case.iloc[2,k[0]]*case.iloc[3,k[0]] - (5.35*case.iloc[3,k[0]]+650)*np.exp(-2*r)) -case.iloc[1,k[0]]\n",
    "        \n",
    "        elif sinal==0:\n",
    "            m[0,0]=case.iloc[0,k[0]] - stra_rho[k[0]]*np.sqrt(FC_viz*(1-FC_viz)*case.iloc[0,k[0]]*(1-case.iloc[0,k[0]]))/(1-FC_viz) \n",
    "            pi[0,0]=m[0,0]*(P*case.iloc[2,k[0]]*case.iloc[3,k[0]] - (5.35*case.iloc[3,k[0]]+650)*np.exp(-2*r)) -case.iloc[1,k[0]]\n",
    "        \n",
    "\n",
    "        \n",
    "\n",
    "        #Vetores Auxiliares\n",
    "        Ax_m=[]\n",
    "        Ax1_m=[]\n",
    "        Ax_pi=[]\n",
    "        ##Loop para criacao da matriz de FC e VME\n",
    "        for y in range(1,n,1):\n",
    "            if sinal==1:\n",
    "                aba=case.iloc[0,k[y]] + stra_rho[k[y]]*np.sqrt(FC_viz*(1-FC_viz)*case.iloc[0,k[y]]*(1-case.iloc[0,k[y]]))/FC_viz \n",
    "            \n",
    "            elif sinal==0:\n",
    "                aba=case.iloc[0,k[y]] - stra_rho[k[y]]*np.sqrt(FC_viz*(1-FC_viz)*case.iloc[0,k[y]]*(1-case.iloc[0,k[y]]))/(1-FC_viz) \n",
    "            \n",
    "            \n",
    "            \n",
    "            Ax_m.append(aba)\n",
    "            #print(Ax_m)\n",
    "\n",
    "\n",
    "        for j in range(n-1):\n",
    "            p=0\n",
    "            for q in range(1+j,n,1):\n",
    "                for i in range(2**(j)):\n",
    "                    p=p+1\n",
    "                    #print(case_corr.iloc[k[j],k[q]])\n",
    "                    #print(p-1,j,q,i,j)\n",
    "                    CF_s=Ax_m[p-1] +case_corr.iloc[k[j],k[q]]*np.sqrt((m[i,j]-m[i,j]**2)*(Ax_m[p-1]-Ax_m[p-1]**2))/m[i,j]\n",
    "                    Ax1_m.append(CF_s)\n",
    "                    CF_ins=Ax_m[p-1] -case_corr.iloc[k[j],k[q]]*np.sqrt((m[i,j]-m[i,j]**2)*(Ax_m[p-1]-Ax_m[p-1]**2))/(1-m[i,j])\n",
    "                    Ax1_m.append(CF_ins)\n",
    "\n",
    "                    Ax_pi.append(CF_s*(P*case.iloc[2,k[j+1]]*case.iloc[3,k[j+1]] - (5.35*case.iloc[3,k[j+1]]+650)*np.exp(-2*r)) -case.iloc[1,k[j+1]])\n",
    "                    Ax_pi.append(CF_ins*(P*case.iloc[2,k[j+1]]*case.iloc[3,k[j+1]] - (5.35*case.iloc[3,k[j+1]]+650)*np.exp(-2*r)) -case.iloc[1,k[j+1]])\n",
    "\n",
    "\n",
    "            m[0:2*(i+1),j+1]=Ax1_m[0:2*(i+1)]\n",
    "            pi[0:2*(i+1),j+1]=Ax_pi[0:2*(i+1)]\n",
    "\n",
    "            del Ax1_m[0:2*(i+1)]\n",
    "\n",
    "            Ax_m=Ax1_m\n",
    "            Ax1_m=[]\n",
    "            Ax_pi=[]\n",
    "\n",
    "        #print(100*m)\n",
    "        #print(pi)\n",
    "\n",
    "        for l in np.arange(n-2,-1,-1):\n",
    "            #print(l)\n",
    "            for g in range(2**(l)):\n",
    "                #print(pi[g,l],m[g,l], pi[2*g,l+1],(1-m[g,l]), pi[2*g+1,l+1]   )\n",
    "                pi[g,l]= np.maximum(0,pi[g,l] + m[g,l]*np.maximum(0,pi[2*g,l+1]) + (1-m[g,l])*np.maximum(0,pi[2*g+1,l+1]))\n",
    "        #print(pi)\n",
    "        fold.append(pi[0,0])\n",
    "\n",
    "\n",
    "    ###Fornece o melhor portfolio seq_winner e o valor do porfolio winner\n",
    "    winner=np.amax(fold)\n",
    "    Seq_winner=seq[np.argmax(fold)]\n",
    "    winner=np.maximum(0,winner)\n",
    "    if winner==0:\n",
    "        Seq_winner='W'\n",
    "\n",
    "\n",
    "\n",
    "\n",
    "\n",
    "        #print(fold)\n",
    "        #print(m)\n",
    "    #print('melhor portfolio é:',Seq_winner, 'e o valor é:', winner, fold)\n",
    "    #print(fold)\n",
    "    return[Seq_winner,winner,fold]\n",
    "\n",
    "\n",
    "\n",
    "\n",
    "\n"
   ]
  },
  {
   "cell_type": "code",
   "execution_count": 146,
   "metadata": {},
   "outputs": [
    {
     "data": {
      "text/plain": [
       "[(0, 1), 4704.447409882279, [4704.447409882279, 4704.447409882279]]"
      ]
     },
     "execution_count": 146,
     "metadata": {},
     "output_type": "execute_result"
    }
   ],
   "source": [
    "carteira_estra(case,case_corr,70,1)"
   ]
  },
  {
   "cell_type": "code",
   "execution_count": null,
   "metadata": {},
   "outputs": [],
   "source": []
  },
  {
   "cell_type": "code",
   "execution_count": null,
   "metadata": {},
   "outputs": [],
   "source": []
  },
  {
   "cell_type": "code",
   "execution_count": 147,
   "metadata": {},
   "outputs": [
    {
     "data": {
      "text/html": [
       "<div>\n",
       "<style scoped>\n",
       "    .dataframe tbody tr th:only-of-type {\n",
       "        vertical-align: middle;\n",
       "    }\n",
       "\n",
       "    .dataframe tbody tr th {\n",
       "        vertical-align: top;\n",
       "    }\n",
       "\n",
       "    .dataframe thead th {\n",
       "        text-align: right;\n",
       "    }\n",
       "</style>\n",
       "<table border=\"1\" class=\"dataframe\">\n",
       "  <thead>\n",
       "    <tr style=\"text-align: right;\">\n",
       "      <th>Type</th>\n",
       "      <th>DogFish</th>\n",
       "      <th>Feather</th>\n",
       "      <th>Head</th>\n",
       "    </tr>\n",
       "  </thead>\n",
       "  <tbody>\n",
       "    <tr>\n",
       "      <td>CF</td>\n",
       "      <td>0.300000</td>\n",
       "      <td>0.250000</td>\n",
       "      <td>0.200000</td>\n",
       "    </tr>\n",
       "    <tr>\n",
       "      <td>I_w</td>\n",
       "      <td>80.000000</td>\n",
       "      <td>60.000000</td>\n",
       "      <td>80.000000</td>\n",
       "    </tr>\n",
       "    <tr>\n",
       "      <td>q</td>\n",
       "      <td>0.185363</td>\n",
       "      <td>0.194631</td>\n",
       "      <td>0.166827</td>\n",
       "    </tr>\n",
       "    <tr>\n",
       "      <td>B</td>\n",
       "      <td>620.000000</td>\n",
       "      <td>310.000000</td>\n",
       "      <td>950.000000</td>\n",
       "    </tr>\n",
       "    <tr>\n",
       "      <td>Owner</td>\n",
       "      <td>0.000000</td>\n",
       "      <td>0.000000</td>\n",
       "      <td>1.000000</td>\n",
       "    </tr>\n",
       "  </tbody>\n",
       "</table>\n",
       "</div>"
      ],
      "text/plain": [
       "Type      DogFish     Feather        Head\n",
       "CF       0.300000    0.250000    0.200000\n",
       "I_w     80.000000   60.000000   80.000000\n",
       "q        0.185363    0.194631    0.166827\n",
       "B      620.000000  310.000000  950.000000\n",
       "Owner    0.000000    0.000000    1.000000"
      ]
     },
     "execution_count": 147,
     "metadata": {},
     "output_type": "execute_result"
    }
   ],
   "source": [
    "case"
   ]
  },
  {
   "cell_type": "code",
   "execution_count": 148,
   "metadata": {},
   "outputs": [
    {
     "data": {
      "text/html": [
       "<div>\n",
       "<style scoped>\n",
       "    .dataframe tbody tr th:only-of-type {\n",
       "        vertical-align: middle;\n",
       "    }\n",
       "\n",
       "    .dataframe tbody tr th {\n",
       "        vertical-align: top;\n",
       "    }\n",
       "\n",
       "    .dataframe thead th {\n",
       "        text-align: right;\n",
       "    }\n",
       "</style>\n",
       "<table border=\"1\" class=\"dataframe\">\n",
       "  <thead>\n",
       "    <tr style=\"text-align: right;\">\n",
       "      <th></th>\n",
       "      <th>DogFish</th>\n",
       "      <th>Feather</th>\n",
       "      <th>Head</th>\n",
       "    </tr>\n",
       "    <tr>\n",
       "      <th>Type</th>\n",
       "      <th></th>\n",
       "      <th></th>\n",
       "      <th></th>\n",
       "    </tr>\n",
       "  </thead>\n",
       "  <tbody>\n",
       "    <tr>\n",
       "      <td>DogFish</td>\n",
       "      <td>1.0</td>\n",
       "      <td>0.6</td>\n",
       "      <td>0.5</td>\n",
       "    </tr>\n",
       "    <tr>\n",
       "      <td>Feather</td>\n",
       "      <td>0.6</td>\n",
       "      <td>1.0</td>\n",
       "      <td>0.6</td>\n",
       "    </tr>\n",
       "    <tr>\n",
       "      <td>Head</td>\n",
       "      <td>0.5</td>\n",
       "      <td>0.6</td>\n",
       "      <td>1.0</td>\n",
       "    </tr>\n",
       "  </tbody>\n",
       "</table>\n",
       "</div>"
      ],
      "text/plain": [
       "         DogFish  Feather  Head\n",
       "Type                           \n",
       "DogFish      1.0      0.6   0.5\n",
       "Feather      0.6      1.0   0.6\n",
       "Head         0.5      0.6   1.0"
      ]
     },
     "execution_count": 148,
     "metadata": {},
     "output_type": "execute_result"
    }
   ],
   "source": [
    "case_corr"
   ]
  },
  {
   "cell_type": "code",
   "execution_count": 149,
   "metadata": {},
   "outputs": [
    {
     "data": {
      "text/html": [
       "<div>\n",
       "<style scoped>\n",
       "    .dataframe tbody tr th:only-of-type {\n",
       "        vertical-align: middle;\n",
       "    }\n",
       "\n",
       "    .dataframe tbody tr th {\n",
       "        vertical-align: top;\n",
       "    }\n",
       "\n",
       "    .dataframe thead th {\n",
       "        text-align: right;\n",
       "    }\n",
       "</style>\n",
       "<table border=\"1\" class=\"dataframe\">\n",
       "  <thead>\n",
       "    <tr style=\"text-align: right;\">\n",
       "      <th>Type</th>\n",
       "      <th>DogFish</th>\n",
       "      <th>Feather</th>\n",
       "    </tr>\n",
       "  </thead>\n",
       "  <tbody>\n",
       "    <tr>\n",
       "      <td>CF</td>\n",
       "      <td>0.300000</td>\n",
       "      <td>0.250000</td>\n",
       "    </tr>\n",
       "    <tr>\n",
       "      <td>I_w</td>\n",
       "      <td>80.000000</td>\n",
       "      <td>60.000000</td>\n",
       "    </tr>\n",
       "    <tr>\n",
       "      <td>q</td>\n",
       "      <td>0.185363</td>\n",
       "      <td>0.194631</td>\n",
       "    </tr>\n",
       "    <tr>\n",
       "      <td>B</td>\n",
       "      <td>620.000000</td>\n",
       "      <td>325.000000</td>\n",
       "    </tr>\n",
       "    <tr>\n",
       "      <td>Owner</td>\n",
       "      <td>0.000000</td>\n",
       "      <td>0.000000</td>\n",
       "    </tr>\n",
       "  </tbody>\n",
       "</table>\n",
       "</div>"
      ],
      "text/plain": [
       "Type      DogFish     Feather\n",
       "CF       0.300000    0.250000\n",
       "I_w     80.000000   60.000000\n",
       "q        0.185363    0.194631\n",
       "B      620.000000  325.000000\n",
       "Owner    0.000000    0.000000"
      ]
     },
     "execution_count": 149,
     "metadata": {},
     "output_type": "execute_result"
    }
   ],
   "source": [
    "case_b1"
   ]
  },
  {
   "cell_type": "code",
   "execution_count": 150,
   "metadata": {},
   "outputs": [
    {
     "data": {
      "text/html": [
       "<div>\n",
       "<style scoped>\n",
       "    .dataframe tbody tr th:only-of-type {\n",
       "        vertical-align: middle;\n",
       "    }\n",
       "\n",
       "    .dataframe tbody tr th {\n",
       "        vertical-align: top;\n",
       "    }\n",
       "\n",
       "    .dataframe thead th {\n",
       "        text-align: right;\n",
       "    }\n",
       "</style>\n",
       "<table border=\"1\" class=\"dataframe\">\n",
       "  <thead>\n",
       "    <tr style=\"text-align: right;\">\n",
       "      <th></th>\n",
       "      <th>DogFish</th>\n",
       "      <th>Feather</th>\n",
       "    </tr>\n",
       "    <tr>\n",
       "      <th>Type</th>\n",
       "      <th></th>\n",
       "      <th></th>\n",
       "    </tr>\n",
       "  </thead>\n",
       "  <tbody>\n",
       "    <tr>\n",
       "      <td>DogFish</td>\n",
       "      <td>1.0</td>\n",
       "      <td>0.6</td>\n",
       "    </tr>\n",
       "    <tr>\n",
       "      <td>Feather</td>\n",
       "      <td>0.6</td>\n",
       "      <td>1.0</td>\n",
       "    </tr>\n",
       "  </tbody>\n",
       "</table>\n",
       "</div>"
      ],
      "text/plain": [
       "         DogFish  Feather\n",
       "Type                     \n",
       "DogFish      1.0      0.6\n",
       "Feather      0.6      1.0"
      ]
     },
     "execution_count": 150,
     "metadata": {},
     "output_type": "execute_result"
    }
   ],
   "source": [
    "case_corr_b1"
   ]
  },
  {
   "cell_type": "code",
   "execution_count": 160,
   "metadata": {},
   "outputs": [
    {
     "data": {
      "text/plain": [
       "[(1, 0), 2032.8831806625371, [2032.883180662537, 2032.8831806625371]]"
      ]
     },
     "execution_count": 160,
     "metadata": {},
     "output_type": "execute_result"
    }
   ],
   "source": [
    "carteira_estra(case,case_corr,50,1)"
   ]
  },
  {
   "cell_type": "code",
   "execution_count": 161,
   "metadata": {},
   "outputs": [
    {
     "data": {
      "text/plain": [
       "[(0, 1), 364.30089453777623, [364.30089453777623, 333.9854603652708]]"
      ]
     },
     "execution_count": 161,
     "metadata": {},
     "output_type": "execute_result"
    }
   ],
   "source": [
    "carteira_estra(case,case_corr,50,0)"
   ]
  },
  {
   "cell_type": "code",
   "execution_count": 162,
   "metadata": {},
   "outputs": [
    {
     "data": {
      "text/plain": [
       "673.7650044247241"
      ]
     },
     "execution_count": 162,
     "metadata": {},
     "output_type": "execute_result"
    }
   ],
   "source": [
    "carteira(case_b1,case_corr_b1,50)[1]"
   ]
  },
  {
   "cell_type": "code",
   "execution_count": 163,
   "metadata": {},
   "outputs": [
    {
     "data": {
      "text/plain": [
       "698.0173517627285"
      ]
     },
     "execution_count": 163,
     "metadata": {},
     "output_type": "execute_result"
    }
   ],
   "source": [
    "carteira_estra(case,case_corr,50,0)[1]*0.8 + carteira_estra(case,case_corr,50,1)[1]*0.2"
   ]
  },
  {
   "cell_type": "code",
   "execution_count": 164,
   "metadata": {},
   "outputs": [
    {
     "name": "stdout",
     "output_type": "stream",
     "text": [
      "0 0.0\n",
      "1 0.0\n",
      "2 0.0\n",
      "3 0.0\n",
      "4 0.0\n",
      "5 0.0\n",
      "6 0.0\n",
      "7 0.0\n",
      "8 0.0\n",
      "9 0.0\n",
      "10 0.0\n",
      "11 0.0\n",
      "12 0.0\n",
      "13 0.0\n",
      "14 0.0\n",
      "15 0.0\n",
      "16 0.0\n",
      "17 0.0\n",
      "18 0.0\n",
      "19 0.0\n",
      "20 0.0\n",
      "21 0.0\n",
      "22 0.0\n",
      "23 0.0\n",
      "24 0.0\n",
      "25 0.0\n",
      "26 0.0\n",
      "27 0.0\n",
      "28 0.0\n",
      "29 0.0\n",
      "30 0.0\n",
      "31 0.0\n",
      "32 0.0\n",
      "33 0.0\n",
      "34 10.00478033456855\n",
      "35 21.512632835907148\n",
      "36 4.4636519749380525\n",
      "37 0.0\n",
      "38 2.700006845296315\n",
      "39 4.072495792955152\n",
      "40 6.272459993569925\n",
      "41 8.584743385379255\n",
      "42 10.8970267771885\n",
      "43 13.209310168997831\n",
      "44 15.521593560807162\n",
      "45 17.833876952616492\n",
      "46 20.146160344425766\n",
      "47 22.458443736235154\n",
      "48 24.770727128044427\n",
      "49 25.315316824711772\n",
      "50 24.25234733800437\n",
      "51 23.189377851296854\n",
      "52 22.126408364589338\n",
      "53 21.06343887788171\n",
      "54 20.000469391174306\n",
      "55 18.937499904466904\n",
      "56 17.874530417759388\n",
      "57 16.81156093105176\n",
      "58 15.748591444344356\n",
      "59 14.685621957637068\n",
      "60 13.622652470929324\n",
      "61 12.559682984222036\n",
      "62 11.496713497514293\n",
      "63 10.433744010806777\n",
      "64 9.370774524099488\n",
      "65 8.307805037391745\n",
      "66 7.244835550684229\n",
      "67 6.181866063976713\n",
      "68 5.11889657726897\n",
      "69 4.055927090561909\n",
      "70 2.9929576038541654\n",
      "71 1.929988117146877\n",
      "72 0.8670186304391336\n",
      "73 0.0\n",
      "74 2.2737367544323206e-13\n",
      "75 2.2737367544323206e-13\n",
      "76 0.0\n",
      "77 2.2737367544323206e-13\n",
      "78 0.0\n",
      "79 0.0\n",
      "80 0.0\n",
      "81 0.0\n",
      "82 0.0\n",
      "83 0.0\n",
      "84 0.0\n",
      "85 4.547473508864641e-13\n",
      "86 -4.547473508864641e-13\n",
      "87 0.0\n",
      "88 4.547473508864641e-13\n",
      "89 0.0\n",
      "90 4.547473508864641e-13\n",
      "91 0.0\n",
      "92 -4.547473508864641e-13\n",
      "93 0.0\n",
      "94 0.0\n",
      "95 0.0\n",
      "96 0.0\n",
      "97 0.0\n",
      "98 4.547473508864641e-13\n",
      "99 -4.547473508864641e-13\n",
      "100 4.547473508864641e-13\n",
      "101 0.0\n",
      "102 0.0\n",
      "103 0.0\n",
      "104 0.0\n",
      "105 4.547473508864641e-13\n",
      "106 -4.547473508864641e-13\n",
      "107 4.547473508864641e-13\n",
      "108 0.0\n",
      "109 0.0\n",
      "110 0.0\n",
      "111 0.0\n",
      "112 4.547473508864641e-13\n",
      "113 0.0\n",
      "114 4.547473508864641e-13\n",
      "115 0.0\n",
      "116 0.0\n",
      "117 4.547473508864641e-13\n",
      "118 0.0\n",
      "119 4.547473508864641e-13\n",
      "120 9.094947017729282e-13\n",
      "121 0.0\n",
      "122 0.0\n",
      "123 9.094947017729282e-13\n",
      "124 -9.094947017729282e-13\n",
      "125 0.0\n",
      "126 0.0\n",
      "127 0.0\n",
      "128 0.0\n",
      "129 0.0\n",
      "130 0.0\n",
      "131 0.0\n",
      "132 -9.094947017729282e-13\n",
      "133 0.0\n",
      "134 9.094947017729282e-13\n",
      "135 0.0\n",
      "136 0.0\n",
      "137 9.094947017729282e-13\n",
      "138 -9.094947017729282e-13\n",
      "139 9.094947017729282e-13\n",
      "140 0.0\n",
      "141 -9.094947017729282e-13\n",
      "142 0.0\n",
      "143 0.0\n",
      "144 0.0\n",
      "145 0.0\n",
      "146 0.0\n",
      "147 9.094947017729282e-13\n",
      "148 9.094947017729282e-13\n",
      "149 9.094947017729282e-13\n",
      "150 0.0\n",
      "151 9.094947017729282e-13\n",
      "152 -9.094947017729282e-13\n",
      "153 9.094947017729282e-13\n",
      "154 0.0\n",
      "155 0.0\n",
      "156 -9.094947017729282e-13\n",
      "157 0.0\n",
      "158 0.0\n",
      "159 9.094947017729282e-13\n",
      "160 9.094947017729282e-13\n",
      "161 0.0\n",
      "162 9.094947017729282e-13\n",
      "163 9.094947017729282e-13\n",
      "164 9.094947017729282e-13\n",
      "165 0.0\n",
      "166 9.094947017729282e-13\n",
      "167 9.094947017729282e-13\n",
      "168 9.094947017729282e-13\n",
      "169 9.094947017729282e-13\n",
      "170 -9.094947017729282e-13\n",
      "171 9.094947017729282e-13\n",
      "172 -9.094947017729282e-13\n",
      "173 0.0\n",
      "174 9.094947017729282e-13\n",
      "175 9.094947017729282e-13\n",
      "176 0.0\n",
      "177 0.0\n",
      "178 0.0\n",
      "179 0.0\n",
      "180 -9.094947017729282e-13\n",
      "181 0.0\n",
      "182 1.8189894035458565e-12\n",
      "183 9.094947017729282e-13\n",
      "184 0.0\n",
      "185 9.094947017729282e-13\n",
      "186 9.094947017729282e-13\n",
      "187 0.0\n",
      "188 -9.094947017729282e-13\n",
      "189 1.8189894035458565e-12\n",
      "190 0.0\n",
      "191 0.0\n",
      "192 0.0\n",
      "193 9.094947017729282e-13\n",
      "194 9.094947017729282e-13\n",
      "195 0.0\n",
      "196 0.0\n",
      "197 -9.094947017729282e-13\n",
      "198 0.0\n",
      "199 -9.094947017729282e-13\n",
      "200 9.094947017729282e-13\n",
      "201 0.0\n",
      "202 -1.8189894035458565e-12\n",
      "203 0.0\n",
      "204 0.0\n",
      "205 -1.8189894035458565e-12\n",
      "206 1.8189894035458565e-12\n",
      "207 0.0\n",
      "208 0.0\n",
      "209 0.0\n",
      "210 -1.8189894035458565e-12\n",
      "211 0.0\n",
      "212 0.0\n",
      "213 0.0\n",
      "214 0.0\n",
      "215 1.8189894035458565e-12\n",
      "216 -1.8189894035458565e-12\n",
      "217 0.0\n",
      "218 0.0\n",
      "219 0.0\n",
      "220 0.0\n",
      "221 1.8189894035458565e-12\n",
      "222 0.0\n",
      "223 1.8189894035458565e-12\n",
      "224 0.0\n",
      "225 0.0\n",
      "226 1.8189894035458565e-12\n",
      "227 0.0\n",
      "228 0.0\n",
      "229 1.8189894035458565e-12\n",
      "230 0.0\n",
      "231 0.0\n",
      "232 1.8189894035458565e-12\n",
      "233 0.0\n",
      "234 0.0\n",
      "235 0.0\n",
      "236 0.0\n",
      "237 0.0\n",
      "238 0.0\n",
      "239 1.8189894035458565e-12\n",
      "240 0.0\n",
      "241 0.0\n",
      "242 0.0\n",
      "243 1.8189894035458565e-12\n",
      "244 1.8189894035458565e-12\n",
      "245 1.8189894035458565e-12\n",
      "246 0.0\n",
      "247 -1.8189894035458565e-12\n",
      "248 0.0\n",
      "249 0.0\n",
      "250 0.0\n",
      "251 0.0\n",
      "252 -1.8189894035458565e-12\n",
      "253 -1.8189894035458565e-12\n",
      "254 0.0\n",
      "255 1.8189894035458565e-12\n",
      "256 0.0\n",
      "257 0.0\n",
      "258 0.0\n",
      "259 0.0\n",
      "260 1.8189894035458565e-12\n",
      "261 0.0\n",
      "262 0.0\n",
      "263 0.0\n",
      "264 -1.8189894035458565e-12\n",
      "265 0.0\n",
      "266 1.8189894035458565e-12\n",
      "267 0.0\n",
      "268 0.0\n",
      "269 0.0\n",
      "270 0.0\n",
      "271 1.8189894035458565e-12\n",
      "272 0.0\n",
      "273 0.0\n",
      "274 0.0\n",
      "275 0.0\n",
      "276 0.0\n",
      "277 0.0\n",
      "278 0.0\n",
      "279 1.8189894035458565e-12\n",
      "280 -1.8189894035458565e-12\n",
      "281 0.0\n",
      "282 0.0\n",
      "283 1.8189894035458565e-12\n",
      "284 0.0\n",
      "285 0.0\n",
      "286 0.0\n",
      "287 0.0\n",
      "288 0.0\n",
      "289 1.8189894035458565e-12\n",
      "290 0.0\n",
      "291 0.0\n",
      "292 1.8189894035458565e-12\n",
      "293 0.0\n",
      "294 0.0\n",
      "295 1.8189894035458565e-12\n",
      "296 0.0\n",
      "297 1.8189894035458565e-12\n",
      "298 0.0\n",
      "299 0.0\n"
     ]
    }
   ],
   "source": [
    "for i in range(300):\n",
    "    print(i ,carteira_estra(case,case_corr,i,0)[1]*0.8 + carteira_estra(case,case_corr,i,1)[1]*0.2 - carteira(case_b1,case_corr_b1,i)[1])"
   ]
  },
  {
   "cell_type": "code",
   "execution_count": null,
   "metadata": {},
   "outputs": [],
   "source": []
  },
  {
   "cell_type": "code",
   "execution_count": 198,
   "metadata": {},
   "outputs": [],
   "source": [
    "def diffinexpcartestra(case,case_corr,sinal,P,r,div,sigma,tau,accur):\n",
    "    #############################################################\n",
    "    #######Método por diferenças finitas explícitas##############\n",
    "    #accur=0.05  #Porcentagem de acurácia\n",
    "    \n",
    "    #####Solução por diferenças finita explícitas###\n",
    "    #Precisão em e intervalo da célula em V\n",
    "    deltaP=P*accur\n",
    "    \n",
    "    # M são as divisões do grid em V\n",
    "    #Perpetuidade vcritico não esta na programacao\n",
    "    #M= int(1.1*vcritico(I,r,div,sigma,tau)[2]/deltaV) # Max é 10% acima do gatilho em perpetuidade. Vcrit- com gati precisa de tau\n",
    "    Pmax=2*P\n",
    "    M=int(Pmax/deltaP)\n",
    "    PGrid=int(P/deltaP) #Ponto do grid onde esta P_0. \n",
    "    \n",
    "    #deltat= (deltaP**2)/((sigma**2)*((3*I)**2)) #Convergência: Critério do peso central >=0. Pmax=3I ><1.1Gatilho_perp\n",
    "    deltat= (deltaP**2)/((sigma**2)*(Pmax**2))\n",
    "    N= int(tau/deltat) +1\n",
    "    \n",
    "    df=1/(1+(r*deltat)) # fator de desconto\n",
    "    \n",
    "    \n",
    "    #Vetor Pt\n",
    "    Pt=np.zeros(M+1)\n",
    "    Gatilho=np.zeros((N+1,M+1), dtype=object)\n",
    "    F=np.zeros((N+1,M+1))\n",
    "    deltat=tau/N\n",
    "    for i in range(M+1):\n",
    "        Pt[i]= i*deltaP\n",
    "        solution=carteira_estra(case,case_corr,Pt[i],sinal)\n",
    "        F[N,i]=solution[1]\n",
    "        #print(solution[0])\n",
    "        Gatilho[N,i]=solution[0]\n",
    "        #F[N,i]=np.maximum(0,Pt[i]-I)\n",
    "    #Gatilho[N]=I\n",
    "    \n",
    "    ##############Loop################\n",
    "    for j in range(N-1,-1,-1): #de N-1 até zero(-1) pulando em -1\n",
    "        for i in range(1,M,1): # de 1 até M-1 pulando em 1\n",
    "            pu= 0.5*((sigma**2)*(i**2) + ((r - div)*i))*deltat\n",
    "            pm = 1 - (sigma**2)*(i**2)*deltat\n",
    "            pdown = 0.5*((sigma**2)*(i**2) - ((r - div)*i))*deltat\n",
    "            F[j,i]= df*(pu*F[j+1,i+1] + pm*F[j+1,i] + pdown*F[j+1,i - 1])\n",
    "            \n",
    "            ###Vetor Gatilho####\n",
    "            #if F[j,i]< Vt[i]-I and F[j,i-1]>Pt[i-1]-I:\n",
    "            #    Gatilho[j]=(Pt[i]+Vt[i-1])/2\n",
    "            \n",
    "            solution=carteira_estra(case,case_corr,Pt[i],sinal)\n",
    "            if F[j,i]>=solution[1]: #opcao americana e gatilho\n",
    "                Gatilho[j,i]='W'\n",
    "            else:\n",
    "                Gatilho[j,i]=solution[0]\n",
    "                F[j,i]=solution[1]\n",
    "        \n",
    "        \n",
    "        F[j,0]=0\n",
    "        Gatilho[j,0]='W'\n",
    "        solution=carteira_estra(case,case_corr,Pmax,sinal)\n",
    "        F[j,M]=solution[1]\n",
    "        Gatilho[j,M]=solution[0]\n",
    "        \n",
    "    T=np.linspace(0,tau,num=N+1)\n",
    "    \n",
    "    ###############Dataframe do Gatilho##############\n",
    "    #print(Gatilho.shape[0])\n",
    "    dframe=pd.DataFrame(list(range(Gatilho.shape[0])))\n",
    "    dframe.columns=['Time']\n",
    "    dframe= dframe.set_index('Time')\n",
    "\n",
    "    for i in range(Gatilho.shape[0]):\n",
    "        check=Gatilho[i,0]\n",
    "        for j in range(Gatilho.shape[1]):\n",
    "            if check == Gatilho[i,j]:\n",
    "                check=check\n",
    "            else:\n",
    "                #print(i,j,'{}'.format(check),Gatilho[i,j],j)\n",
    "                dframe.loc[i,'{}'.format(Gatilho[i,j])]=Pt[j]\n",
    "                check=Gatilho[i,j]\n",
    "    dframe.index=T\n",
    "    \n",
    "    ###Retorna A opção hoje, Gatilho, Tempo, Vt, Matrix para Gráficos\n",
    "    return[F[0,PGrid],dframe,T,Pt,F, Gatilho]\n",
    "\n"
   ]
  },
  {
   "cell_type": "code",
   "execution_count": 199,
   "metadata": {},
   "outputs": [],
   "source": [
    "accur=0.02"
   ]
  },
  {
   "cell_type": "code",
   "execution_count": 200,
   "metadata": {},
   "outputs": [
    {
     "name": "stdout",
     "output_type": "stream",
     "text": [
      "minutos- 33.18550343513489\n"
     ]
    }
   ],
   "source": [
    "start=time.time()\n",
    "opcao_pos,gdf_pos,tempo_pos,preco_pos,mapa_pos,gatilho_pos= diffinexpcartestra(case,case_corr,1,P,r,delta,sigma,tau,accur)\n",
    "cpu=time.time()-start\n",
    "print('minutos-',cpu/60)\n"
   ]
  },
  {
   "cell_type": "code",
   "execution_count": 201,
   "metadata": {},
   "outputs": [
    {
     "data": {
      "text/plain": [
       "[<matplotlib.lines.Line2D at 0x213d1aa2548>]"
      ]
     },
     "execution_count": 201,
     "metadata": {},
     "output_type": "execute_result"
    },
    {
     "data": {
      "image/png": "[encoded data removed]",
      "text/plain": [
       "<Figure size 432x288 with 1 Axes>"
      ]
     },
     "metadata": {
      "needs_background": "light"
     },
     "output_type": "display_data"
    }
   ],
   "source": [
    "plt.plot(mapa_pos[0,:])"
   ]
  },
  {
   "cell_type": "code",
   "execution_count": 202,
   "metadata": {},
   "outputs": [
    {
     "data": {
      "text/html": [
       "<div>\n",
       "<style scoped>\n",
       "    .dataframe tbody tr th:only-of-type {\n",
       "        vertical-align: middle;\n",
       "    }\n",
       "\n",
       "    .dataframe tbody tr th {\n",
       "        vertical-align: top;\n",
       "    }\n",
       "\n",
       "    .dataframe thead th {\n",
       "        text-align: right;\n",
       "    }\n",
       "</style>\n",
       "<table border=\"1\" class=\"dataframe\">\n",
       "  <thead>\n",
       "    <tr style=\"text-align: right;\">\n",
       "      <th></th>\n",
       "      <th>(0, 1)</th>\n",
       "      <th>(1, 0)</th>\n",
       "      <th>W</th>\n",
       "    </tr>\n",
       "  </thead>\n",
       "  <tbody>\n",
       "    <tr>\n",
       "      <td>0.000000</td>\n",
       "      <td>94.0</td>\n",
       "      <td>93.0</td>\n",
       "      <td>NaN</td>\n",
       "    </tr>\n",
       "    <tr>\n",
       "      <td>0.001111</td>\n",
       "      <td>94.0</td>\n",
       "      <td>93.0</td>\n",
       "      <td>NaN</td>\n",
       "    </tr>\n",
       "    <tr>\n",
       "      <td>0.002221</td>\n",
       "      <td>94.0</td>\n",
       "      <td>93.0</td>\n",
       "      <td>NaN</td>\n",
       "    </tr>\n",
       "    <tr>\n",
       "      <td>0.003332</td>\n",
       "      <td>94.0</td>\n",
       "      <td>93.0</td>\n",
       "      <td>NaN</td>\n",
       "    </tr>\n",
       "    <tr>\n",
       "      <td>0.004443</td>\n",
       "      <td>94.0</td>\n",
       "      <td>93.0</td>\n",
       "      <td>NaN</td>\n",
       "    </tr>\n",
       "  </tbody>\n",
       "</table>\n",
       "</div>"
      ],
      "text/plain": [
       "          (0, 1)  (1, 0)   W\n",
       "0.000000    94.0    93.0 NaN\n",
       "0.001111    94.0    93.0 NaN\n",
       "0.002221    94.0    93.0 NaN\n",
       "0.003332    94.0    93.0 NaN\n",
       "0.004443    94.0    93.0 NaN"
      ]
     },
     "execution_count": 202,
     "metadata": {},
     "output_type": "execute_result"
    }
   ],
   "source": [
    "gdf_pos.head()"
   ]
  },
  {
   "cell_type": "code",
   "execution_count": 347,
   "metadata": {},
   "outputs": [],
   "source": [
    "winsound.Beep(freq,duration)"
   ]
  },
  {
   "cell_type": "code",
   "execution_count": 203,
   "metadata": {},
   "outputs": [],
   "source": [
    "np.savetxt('Port_Explorar_pos_opcao_dog_feather.txt',mapa_pos[0,:])"
   ]
  },
  {
   "cell_type": "code",
   "execution_count": 204,
   "metadata": {},
   "outputs": [],
   "source": [
    "np.savetxt('Port_Explorar_pos_preco_dog_feather.txt',preco_pos)"
   ]
  },
  {
   "cell_type": "code",
   "execution_count": null,
   "metadata": {},
   "outputs": [],
   "source": []
  },
  {
   "cell_type": "code",
   "execution_count": 205,
   "metadata": {},
   "outputs": [
    {
     "name": "stdout",
     "output_type": "stream",
     "text": [
      "minutos- 32.68847057422002\n"
     ]
    }
   ],
   "source": [
    "start=time.time()\n",
    "opcao_neg,gdf_neg,tempo_neg,preco_neg,mapa_neg,gatilho_neg= diffinexpcartestra(case,case_corr,0,P,r,delta,sigma,tau,accur)\n",
    "cpu=time.time()-start\n",
    "print('minutos-',cpu/60)\n"
   ]
  },
  {
   "cell_type": "code",
   "execution_count": 206,
   "metadata": {},
   "outputs": [
    {
     "data": {
      "text/plain": [
       "[<matplotlib.lines.Line2D at 0x213d2473b48>]"
      ]
     },
     "execution_count": 206,
     "metadata": {},
     "output_type": "execute_result"
    },
    {
     "data": {
      "image/png": "[encoded data removed]",
      "text/plain": [
       "<Figure size 432x288 with 1 Axes>"
      ]
     },
     "metadata": {
      "needs_background": "light"
     },
     "output_type": "display_data"
    }
   ],
   "source": [
    "plt.plot(mapa_neg[0,:])"
   ]
  },
  {
   "cell_type": "code",
   "execution_count": 207,
   "metadata": {},
   "outputs": [
    {
     "data": {
      "text/html": [
       "<div>\n",
       "<style scoped>\n",
       "    .dataframe tbody tr th:only-of-type {\n",
       "        vertical-align: middle;\n",
       "    }\n",
       "\n",
       "    .dataframe tbody tr th {\n",
       "        vertical-align: top;\n",
       "    }\n",
       "\n",
       "    .dataframe thead th {\n",
       "        text-align: right;\n",
       "    }\n",
       "</style>\n",
       "<table border=\"1\" class=\"dataframe\">\n",
       "  <thead>\n",
       "    <tr style=\"text-align: right;\">\n",
       "      <th></th>\n",
       "      <th>(1, 0)</th>\n",
       "      <th>(0, 1)</th>\n",
       "      <th>W</th>\n",
       "    </tr>\n",
       "  </thead>\n",
       "  <tbody>\n",
       "    <tr>\n",
       "      <td>0.000000</td>\n",
       "      <td>99.0</td>\n",
       "      <td>100.0</td>\n",
       "      <td>NaN</td>\n",
       "    </tr>\n",
       "    <tr>\n",
       "      <td>0.001111</td>\n",
       "      <td>99.0</td>\n",
       "      <td>100.0</td>\n",
       "      <td>NaN</td>\n",
       "    </tr>\n",
       "    <tr>\n",
       "      <td>0.002221</td>\n",
       "      <td>99.0</td>\n",
       "      <td>100.0</td>\n",
       "      <td>NaN</td>\n",
       "    </tr>\n",
       "    <tr>\n",
       "      <td>0.003332</td>\n",
       "      <td>99.0</td>\n",
       "      <td>100.0</td>\n",
       "      <td>NaN</td>\n",
       "    </tr>\n",
       "    <tr>\n",
       "      <td>0.004443</td>\n",
       "      <td>99.0</td>\n",
       "      <td>100.0</td>\n",
       "      <td>NaN</td>\n",
       "    </tr>\n",
       "  </tbody>\n",
       "</table>\n",
       "</div>"
      ],
      "text/plain": [
       "          (1, 0)  (0, 1)   W\n",
       "0.000000    99.0   100.0 NaN\n",
       "0.001111    99.0   100.0 NaN\n",
       "0.002221    99.0   100.0 NaN\n",
       "0.003332    99.0   100.0 NaN\n",
       "0.004443    99.0   100.0 NaN"
      ]
     },
     "execution_count": 207,
     "metadata": {},
     "output_type": "execute_result"
    }
   ],
   "source": [
    "gdf_neg.head()"
   ]
  },
  {
   "cell_type": "code",
   "execution_count": 353,
   "metadata": {},
   "outputs": [],
   "source": [
    "winsound.Beep(freq,duration)"
   ]
  },
  {
   "cell_type": "code",
   "execution_count": 208,
   "metadata": {},
   "outputs": [],
   "source": [
    "np.savetxt('Port_Explorar_neg_opcao_dog_feather.txt',mapa_neg[0,:])"
   ]
  },
  {
   "cell_type": "code",
   "execution_count": 209,
   "metadata": {},
   "outputs": [],
   "source": [
    "np.savetxt('Port_Explorar_neg_preco_dog_feather.txt',preco_neg)"
   ]
  },
  {
   "cell_type": "code",
   "execution_count": 321,
   "metadata": {},
   "outputs": [],
   "source": [
    "def diffinexp(case,V,r,div,sigma,tau):\n",
    "    #############################################################\n",
    "    #######Método por diferenças finitas explícitas##############\n",
    "    accur=0.1  #Porcentagem de acurácia\n",
    "    \n",
    "    #####Solução por diferenças finita explícitas###\n",
    "    #Precisão em e intervalo da célula em V\n",
    "    deltaV=V*accur\n",
    "    \n",
    "    # M são as divisões do grid em V\n",
    "    #forcei a barra- coloque 3 vezes a V de perpetuidade. Estava 1,1 \n",
    "    Vmax=4*V\n",
    "    M= int(Vmax/deltaV) # Max é 10% acima do gatilho em perpetuidade. Vcrit- com gati precisa de tau\n",
    "    VGrid=int(V/deltaV) #Ponto do grid onde esta V_0. \n",
    "    deltat= (deltaV**2)/((sigma**2)*(Vmax**2)) #Convergência: Critério do peso central >=0. Vmax=3I ><1.1Gatilho_perp\n",
    "    N= int(tau/deltat) +1\n",
    "    \n",
    "    df=1/(1+(r*deltat)) # fator de desconto\n",
    "    \n",
    "    #Vetor Vt\n",
    "    Vt=np.zeros(M+1)\n",
    "    Gatilho=np.zeros(N+1)\n",
    "    F=np.zeros((N+1,M+1))\n",
    "    deltat=tau/N\n",
    "    for i in range(M+1):\n",
    "        Vt[i]= i*deltaV\n",
    "        #F[N,i]=np.maximum(0,Vt[i]-I)\n",
    "        F[N,i]=np.maximum(0,caseR.iloc[0,0]*(Vt[i]*case.iloc[3,0]*case.iloc[4,0] - (Vt[i]/50)*case.iloc[5,0]) -case.iloc[1,0])\n",
    "    Gatilho[N]=caseR.iloc[0,0]*(Vt[i]/50)*case.iloc[5,0] + case.iloc[1,0]\n",
    "    \n",
    "    ##############Loop################\n",
    "    for j in range(N-1,-1,-1): #de N-1 até zero(-1) pulando em -1\n",
    "        for i in range(1,M,1): # de 1 até M-1 pulando em 1\n",
    "            pu= 0.5*((sigma**2)*(i**2) + ((r - div)*i))*deltat\n",
    "            pm = 1 - (sigma**2)*(i**2)*deltat\n",
    "            pd = 0.5*((sigma**2)*(i**2) - ((r - div)*i))*deltat\n",
    "            F[j,i]= df*(pu*F[j+1,i+1] + pm*F[j+1,i] + pd*F[j+1,i - 1])\n",
    "            \n",
    "            ###Vetor Gatilho####\n",
    "            if F[j,i]< caseR.iloc[0,0]*(Vt[i]*case.iloc[3,0]*case.iloc[4,0] - (Vt[i]/50)*case.iloc[5,0]) -case.iloc[1,0] and F[j,i-1]>caseR.iloc[0,0]*(Vt[i-1]*case.iloc[3,0]*case.iloc[4,0] - (Vt[i-1]/50)*case.iloc[5,0]) -case.iloc[1,0]:\n",
    "                Gatilho[j]=(Vt[i]+Vt[i-1])/2\n",
    "            \n",
    "            F[j,i]=np.maximum(caseR.iloc[0,0]*(Vt[i]*case.iloc[3,0]*case.iloc[4,0] - (Vt[i]/50)*case.iloc[5,0]) -case.iloc[1,0], F[j,i])  #opção americana\n",
    "        \n",
    "        \n",
    "        F[j,0]=0\n",
    "        F[j,M]=caseR.iloc[0,0]*(Vt[i]*case.iloc[3,0]*case.iloc[4,0] - (Vt[i]/50)*case.iloc[5,0]) -case.iloc[1,0]\n",
    "        \n",
    "        \n",
    "    T=np.linspace(0,tau,num=len(Gatilho))\n",
    "    \n",
    "    ###Retorna A opção hoje, Gatilho, Tempo, Vt, Matrix para Gráficos\n",
    "    return[F[0,VGrid],Gatilho,T,Vt,F]\n",
    "\n"
   ]
  },
  {
   "cell_type": "code",
   "execution_count": 301,
   "metadata": {},
   "outputs": [
    {
     "name": "stdout",
     "output_type": "stream",
     "text": [
      "14.011472926007304\n"
     ]
    }
   ],
   "source": [
    "start=time.time()\n",
    "\n",
    "r2=diffinexpcartestra(case,case_corr,2,50,r,delta,sigma,tau)\n",
    "print(r2[0])"
   ]
  },
  {
   "cell_type": "code",
   "execution_count": 302,
   "metadata": {},
   "outputs": [],
   "source": [
    "r1=diffinexpcartestra(case,case_corr,1,50,r,delta,sigma,tau)"
   ]
  },
  {
   "cell_type": "code",
   "execution_count": 303,
   "metadata": {},
   "outputs": [],
   "source": [
    "r0=diffinexpcartestra(case,case_corr,0,50,r,delta,sigma,tau)"
   ]
  },
  {
   "cell_type": "code",
   "execution_count": 304,
   "metadata": {},
   "outputs": [
    {
     "data": {
      "text/plain": [
       "23.248679387511107"
      ]
     },
     "execution_count": 304,
     "metadata": {},
     "output_type": "execute_result"
    }
   ],
   "source": [
    "FC_viz*r1[0] + (1-FC_viz)*r0[0]"
   ]
  },
  {
   "cell_type": "code",
   "execution_count": 305,
   "metadata": {},
   "outputs": [
    {
     "name": "stdout",
     "output_type": "stream",
     "text": [
      "minutos- 34.52971352338791\n"
     ]
    }
   ],
   "source": [
    "cpu=time.time()-start\n",
    "print('minutos-',cpu/60)\n"
   ]
  },
  {
   "cell_type": "code",
   "execution_count": 330,
   "metadata": {},
   "outputs": [
    {
     "name": "stdout",
     "output_type": "stream",
     "text": [
      "minutos- 7.226902592182159\n"
     ]
    }
   ],
   "source": [
    "start=time.time()\n",
    "rabc=diffinexpcart(case_ABC,case_ABC_corr,50,r,delta,sigma,tau)\n",
    "cpu=time.time()-start\n",
    "print('minutos-',cpu/60)\n"
   ]
  },
  {
   "cell_type": "code",
   "execution_count": null,
   "metadata": {},
   "outputs": [],
   "source": []
  },
  {
   "cell_type": "code",
   "execution_count": 325,
   "metadata": {},
   "outputs": [
    {
     "data": {
      "text/html": [
       "<div>\n",
       "<style scoped>\n",
       "    .dataframe tbody tr th:only-of-type {\n",
       "        vertical-align: middle;\n",
       "    }\n",
       "\n",
       "    .dataframe tbody tr th {\n",
       "        vertical-align: top;\n",
       "    }\n",
       "\n",
       "    .dataframe thead th {\n",
       "        text-align: right;\n",
       "    }\n",
       "</style>\n",
       "<table border=\"1\" class=\"dataframe\">\n",
       "  <thead>\n",
       "    <tr style=\"text-align: right;\">\n",
       "      <th>Type</th>\n",
       "      <th>R</th>\n",
       "    </tr>\n",
       "  </thead>\n",
       "  <tbody>\n",
       "    <tr>\n",
       "      <td>CF</td>\n",
       "      <td>0.20</td>\n",
       "    </tr>\n",
       "    <tr>\n",
       "      <td>I_w</td>\n",
       "      <td>50.00</td>\n",
       "    </tr>\n",
       "    <tr>\n",
       "      <td>P</td>\n",
       "      <td>50.00</td>\n",
       "    </tr>\n",
       "    <tr>\n",
       "      <td>q</td>\n",
       "      <td>0.12</td>\n",
       "    </tr>\n",
       "    <tr>\n",
       "      <td>B</td>\n",
       "      <td>700.00</td>\n",
       "    </tr>\n",
       "    <tr>\n",
       "      <td>I_d</td>\n",
       "      <td>4000.00</td>\n",
       "    </tr>\n",
       "    <tr>\n",
       "      <td>Owner</td>\n",
       "      <td>0.00</td>\n",
       "    </tr>\n",
       "  </tbody>\n",
       "</table>\n",
       "</div>"
      ],
      "text/plain": [
       "Type         R\n",
       "CF        0.20\n",
       "I_w      50.00\n",
       "P        50.00\n",
       "q         0.12\n",
       "B       700.00\n",
       "I_d    4000.00\n",
       "Owner     0.00"
      ]
     },
     "execution_count": 325,
     "metadata": {},
     "output_type": "execute_result"
    }
   ],
   "source": [
    "caseR=case[case.columns[case.loc['Owner']==0]]\n",
    "caseR"
   ]
  },
  {
   "cell_type": "code",
   "execution_count": 320,
   "metadata": {},
   "outputs": [
    {
     "name": "stdout",
     "output_type": "stream",
     "text": [
      "VME-R -10.0\n"
     ]
    }
   ],
   "source": [
    "\n",
    "\n",
    "print('VME-R',caseR.iloc[0,0]*(caseR.iloc[2,0]*caseR.iloc[3,0]*caseR.iloc[4,0] - (caseR.iloc[2,0]/50)*caseR.iloc[5,0]) -caseR.iloc[1,0])\n"
   ]
  },
  {
   "cell_type": "code",
   "execution_count": 323,
   "metadata": {},
   "outputs": [],
   "source": [
    "rr=diffinexp(caseR,50,r,delta,sigma,tau)"
   ]
  },
  {
   "cell_type": "code",
   "execution_count": 336,
   "metadata": {},
   "outputs": [
    {
     "name": "stdout",
     "output_type": "stream",
     "text": [
      "Portfolio sem considerar o vizinho: 14.011472926007304\n",
      "Portfolio considerando o vizinho: 23.248679387511107\n",
      "Diferença - Valor adicionado pela informação do vizinho: 9.237206461503803\n",
      "Portfolio do vizinho: 1.9112132260213393\n",
      "Portfolio incorporando o ativo do vizinho: 27.68702560763952\n",
      "Diferença - Incorporar ou não o ativo do vizinho: 4.4383462201284125\n"
     ]
    }
   ],
   "source": [
    "####\n",
    "print('Portfolio sem considerar o vizinho:', r2[0])\n",
    "print('Portfolio considerando o vizinho:',FC_viz*r1[0] + (1-FC_viz)*r0[0])\n",
    "print('Diferença - Valor adicionado pela informação do vizinho:',FC_viz*r1[0] + (1-FC_viz)*r0[0] - r2[0] )\n",
    "print('Portfolio do vizinho:', rr[0])\n",
    "print('Portfolio incorporando o ativo do vizinho:',rabc[0])\n",
    "print('Diferença - Incorporar ou não o ativo do vizinho:',rabc[0]-FC_viz*r1[0] - (1-FC_viz)*r0[0])"
   ]
  },
  {
   "cell_type": "code",
   "execution_count": null,
   "metadata": {},
   "outputs": [],
   "source": []
  }
 ],
 "metadata": {
  "kernelspec": {
   "display_name": "Python 3",
   "language": "python",
   "name": "python3"
  },
  "language_info": {
   "codemirror_mode": {
    "name": "ipython",
    "version": 3
   },
   "file_extension": ".py",
   "mimetype": "text/x-python",
   "name": "python",
   "nbconvert_exporter": "python",
   "pygments_lexer": "ipython3",
   "version": "3.7.4"
  }
 },
 "nbformat": 4,
 "nbformat_minor": 2
}
