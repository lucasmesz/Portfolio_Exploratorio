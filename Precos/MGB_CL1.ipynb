{
 "cells": [
  {
   "cell_type": "code",
   "execution_count": 1,
   "metadata": {},
   "outputs": [],
   "source": [
    "import numpy as np\n",
    "import pandas as pd\n",
    "import matplotlib.pyplot as plt\n",
    "%matplotlib inline\n",
    "import seaborn as sns\n",
    "import quandl\n",
    "import statsmodels.formula.api as smf\n",
    "from matplotlib.ticker import PercentFormatter"
   ]
  },
  {
   "cell_type": "code",
   "execution_count": 2,
   "metadata": {},
   "outputs": [],
   "source": [
    "#PIPE para baixar os arquivos da plataforma quandl\n",
    "\n",
    "#quandl.ApiConfig.api_key = \"key-code\""
   ]
  },
  {
   "cell_type": "code",
   "execution_count": 3,
   "metadata": {},
   "outputs": [
    {
     "data": {
      "text/plain": [
       "[]"
      ]
     },
     "execution_count": 3,
     "metadata": {},
     "output_type": "execute_result"
    },
    {
     "data": {
      "image/png": "[encoded data removed]",
      "text/plain": [
       "<Figure size 432x288 with 1 Axes>"
      ]
     },
     "metadata": {},
     "output_type": "display_data"
    }
   ],
   "source": [
    "###3-month Treasury Constant Maturity Rate\n",
    "#https://www.quandl.com/data/FRED/DGS3MO-3-Month-Treasury-Constant-Maturity-Rate\n",
    "#DGS3=quandl.get(\"FRED/DGS3MO\")\n",
    "#DGS3.to_csv('FRED_DGS3_2020_08_03.csv')\n",
    "\n",
    "#Importar o arquivo salva em csv\n",
    "DGS3=pd.read_csv('FRED_DGS3_2020_08_03.csv', index_col=0)\n",
    "sns.set(style=\"darkgrid\")\n",
    "DGS3.plot()\n",
    "plt.legend(('3-Month-Treasury','FRED'))\n",
    "plt.ylabel('Rate(%)')\n",
    "plt.xticks(rotation=45)\n",
    "plt.plot()\n"
   ]
  },
  {
   "cell_type": "code",
   "execution_count": 4,
   "metadata": {},
   "outputs": [
    {
     "data": {
      "text/html": [
       "<div>\n",
       "<style scoped>\n",
       "    .dataframe tbody tr th:only-of-type {\n",
       "        vertical-align: middle;\n",
       "    }\n",
       "\n",
       "    .dataframe tbody tr th {\n",
       "        vertical-align: top;\n",
       "    }\n",
       "\n",
       "    .dataframe thead th {\n",
       "        text-align: right;\n",
       "    }\n",
       "</style>\n",
       "<table border=\"1\" class=\"dataframe\">\n",
       "  <thead>\n",
       "    <tr style=\"text-align: right;\">\n",
       "      <th></th>\n",
       "      <th>Value</th>\n",
       "    </tr>\n",
       "    <tr>\n",
       "      <th>Date</th>\n",
       "      <th></th>\n",
       "    </tr>\n",
       "  </thead>\n",
       "  <tbody>\n",
       "    <tr>\n",
       "      <td>1981-09-01</td>\n",
       "      <td>17.01</td>\n",
       "    </tr>\n",
       "    <tr>\n",
       "      <td>1981-09-02</td>\n",
       "      <td>16.65</td>\n",
       "    </tr>\n",
       "    <tr>\n",
       "      <td>1981-09-03</td>\n",
       "      <td>16.96</td>\n",
       "    </tr>\n",
       "    <tr>\n",
       "      <td>1981-09-04</td>\n",
       "      <td>16.64</td>\n",
       "    </tr>\n",
       "    <tr>\n",
       "      <td>1981-09-08</td>\n",
       "      <td>16.54</td>\n",
       "    </tr>\n",
       "  </tbody>\n",
       "</table>\n",
       "</div>"
      ],
      "text/plain": [
       "            Value\n",
       "Date             \n",
       "1981-09-01  17.01\n",
       "1981-09-02  16.65\n",
       "1981-09-03  16.96\n",
       "1981-09-04  16.64\n",
       "1981-09-08  16.54"
      ]
     },
     "execution_count": 4,
     "metadata": {},
     "output_type": "execute_result"
    }
   ],
   "source": [
    "DGS3.head()"
   ]
  },
  {
   "cell_type": "code",
   "execution_count": 5,
   "metadata": {},
   "outputs": [
    {
     "data": {
      "text/html": [
       "<div>\n",
       "<style scoped>\n",
       "    .dataframe tbody tr th:only-of-type {\n",
       "        vertical-align: middle;\n",
       "    }\n",
       "\n",
       "    .dataframe tbody tr th {\n",
       "        vertical-align: top;\n",
       "    }\n",
       "\n",
       "    .dataframe thead th {\n",
       "        text-align: right;\n",
       "    }\n",
       "</style>\n",
       "<table border=\"1\" class=\"dataframe\">\n",
       "  <thead>\n",
       "    <tr style=\"text-align: right;\">\n",
       "      <th></th>\n",
       "      <th>F1</th>\n",
       "      <th>F2</th>\n",
       "      <th>F3</th>\n",
       "      <th>F4</th>\n",
       "      <th>F5</th>\n",
       "      <th>F6</th>\n",
       "      <th>F7</th>\n",
       "      <th>F8</th>\n",
       "      <th>F9</th>\n",
       "      <th>F10</th>\n",
       "      <th>F11</th>\n",
       "      <th>F12</th>\n",
       "      <th>F13</th>\n",
       "      <th>F14</th>\n",
       "      <th>F15</th>\n",
       "      <th>F16</th>\n",
       "      <th>F17</th>\n",
       "      <th>F18</th>\n",
       "      <th>F19</th>\n",
       "      <th>F20</th>\n",
       "    </tr>\n",
       "    <tr>\n",
       "      <th>Date</th>\n",
       "      <th></th>\n",
       "      <th></th>\n",
       "      <th></th>\n",
       "      <th></th>\n",
       "      <th></th>\n",
       "      <th></th>\n",
       "      <th></th>\n",
       "      <th></th>\n",
       "      <th></th>\n",
       "      <th></th>\n",
       "      <th></th>\n",
       "      <th></th>\n",
       "      <th></th>\n",
       "      <th></th>\n",
       "      <th></th>\n",
       "      <th></th>\n",
       "      <th></th>\n",
       "      <th></th>\n",
       "      <th></th>\n",
       "      <th></th>\n",
       "    </tr>\n",
       "  </thead>\n",
       "  <tbody>\n",
       "    <tr>\n",
       "      <td>1996-01-03</td>\n",
       "      <td>19.89</td>\n",
       "      <td>19.34</td>\n",
       "      <td>18.90</td>\n",
       "      <td>18.58</td>\n",
       "      <td>18.35</td>\n",
       "      <td>18.16</td>\n",
       "      <td>18.01</td>\n",
       "      <td>17.92</td>\n",
       "      <td>17.84</td>\n",
       "      <td>17.77</td>\n",
       "      <td>17.71</td>\n",
       "      <td>17.67</td>\n",
       "      <td>17.63</td>\n",
       "      <td>17.58</td>\n",
       "      <td>17.54</td>\n",
       "      <td>17.50</td>\n",
       "      <td>17.46</td>\n",
       "      <td>17.43</td>\n",
       "      <td>17.40</td>\n",
       "      <td>17.38</td>\n",
       "    </tr>\n",
       "    <tr>\n",
       "      <td>1996-01-10</td>\n",
       "      <td>19.67</td>\n",
       "      <td>19.18</td>\n",
       "      <td>18.78</td>\n",
       "      <td>18.47</td>\n",
       "      <td>18.24</td>\n",
       "      <td>18.06</td>\n",
       "      <td>17.91</td>\n",
       "      <td>17.82</td>\n",
       "      <td>17.74</td>\n",
       "      <td>17.66</td>\n",
       "      <td>17.60</td>\n",
       "      <td>17.57</td>\n",
       "      <td>17.54</td>\n",
       "      <td>17.49</td>\n",
       "      <td>17.45</td>\n",
       "      <td>17.41</td>\n",
       "      <td>17.37</td>\n",
       "      <td>17.34</td>\n",
       "      <td>17.32</td>\n",
       "      <td>17.30</td>\n",
       "    </tr>\n",
       "    <tr>\n",
       "      <td>1996-01-17</td>\n",
       "      <td>18.52</td>\n",
       "      <td>18.05</td>\n",
       "      <td>17.79</td>\n",
       "      <td>17.60</td>\n",
       "      <td>17.45</td>\n",
       "      <td>17.35</td>\n",
       "      <td>17.27</td>\n",
       "      <td>17.21</td>\n",
       "      <td>17.16</td>\n",
       "      <td>17.11</td>\n",
       "      <td>17.06</td>\n",
       "      <td>17.05</td>\n",
       "      <td>17.03</td>\n",
       "      <td>17.00</td>\n",
       "      <td>16.97</td>\n",
       "      <td>16.94</td>\n",
       "      <td>16.93</td>\n",
       "      <td>16.92</td>\n",
       "      <td>16.91</td>\n",
       "      <td>16.91</td>\n",
       "    </tr>\n",
       "    <tr>\n",
       "      <td>1996-01-23</td>\n",
       "      <td>18.06</td>\n",
       "      <td>17.67</td>\n",
       "      <td>17.47</td>\n",
       "      <td>17.32</td>\n",
       "      <td>17.22</td>\n",
       "      <td>17.15</td>\n",
       "      <td>17.09</td>\n",
       "      <td>17.04</td>\n",
       "      <td>16.99</td>\n",
       "      <td>16.94</td>\n",
       "      <td>16.93</td>\n",
       "      <td>16.91</td>\n",
       "      <td>16.88</td>\n",
       "      <td>16.85</td>\n",
       "      <td>16.82</td>\n",
       "      <td>16.81</td>\n",
       "      <td>16.80</td>\n",
       "      <td>16.79</td>\n",
       "      <td>16.79</td>\n",
       "      <td>16.81</td>\n",
       "    </tr>\n",
       "    <tr>\n",
       "      <td>1996-01-24</td>\n",
       "      <td>18.28</td>\n",
       "      <td>17.88</td>\n",
       "      <td>17.67</td>\n",
       "      <td>17.52</td>\n",
       "      <td>17.41</td>\n",
       "      <td>17.32</td>\n",
       "      <td>17.26</td>\n",
       "      <td>17.20</td>\n",
       "      <td>17.14</td>\n",
       "      <td>17.08</td>\n",
       "      <td>17.07</td>\n",
       "      <td>17.05</td>\n",
       "      <td>17.02</td>\n",
       "      <td>16.99</td>\n",
       "      <td>16.96</td>\n",
       "      <td>16.95</td>\n",
       "      <td>16.94</td>\n",
       "      <td>16.93</td>\n",
       "      <td>16.93</td>\n",
       "      <td>16.94</td>\n",
       "    </tr>\n",
       "    <tr>\n",
       "      <td>...</td>\n",
       "      <td>...</td>\n",
       "      <td>...</td>\n",
       "      <td>...</td>\n",
       "      <td>...</td>\n",
       "      <td>...</td>\n",
       "      <td>...</td>\n",
       "      <td>...</td>\n",
       "      <td>...</td>\n",
       "      <td>...</td>\n",
       "      <td>...</td>\n",
       "      <td>...</td>\n",
       "      <td>...</td>\n",
       "      <td>...</td>\n",
       "      <td>...</td>\n",
       "      <td>...</td>\n",
       "      <td>...</td>\n",
       "      <td>...</td>\n",
       "      <td>...</td>\n",
       "      <td>...</td>\n",
       "      <td>...</td>\n",
       "    </tr>\n",
       "    <tr>\n",
       "      <td>2015-03-25</td>\n",
       "      <td>51.53</td>\n",
       "      <td>53.23</td>\n",
       "      <td>54.55</td>\n",
       "      <td>55.74</td>\n",
       "      <td>56.83</td>\n",
       "      <td>57.76</td>\n",
       "      <td>58.46</td>\n",
       "      <td>59.07</td>\n",
       "      <td>59.64</td>\n",
       "      <td>60.12</td>\n",
       "      <td>60.58</td>\n",
       "      <td>61.04</td>\n",
       "      <td>61.46</td>\n",
       "      <td>61.81</td>\n",
       "      <td>62.12</td>\n",
       "      <td>62.34</td>\n",
       "      <td>62.54</td>\n",
       "      <td>62.73</td>\n",
       "      <td>62.92</td>\n",
       "      <td>63.13</td>\n",
       "    </tr>\n",
       "    <tr>\n",
       "      <td>2015-04-01</td>\n",
       "      <td>50.76</td>\n",
       "      <td>52.55</td>\n",
       "      <td>53.99</td>\n",
       "      <td>55.25</td>\n",
       "      <td>56.34</td>\n",
       "      <td>57.24</td>\n",
       "      <td>57.91</td>\n",
       "      <td>58.51</td>\n",
       "      <td>59.07</td>\n",
       "      <td>59.53</td>\n",
       "      <td>59.96</td>\n",
       "      <td>60.38</td>\n",
       "      <td>60.77</td>\n",
       "      <td>61.11</td>\n",
       "      <td>61.42</td>\n",
       "      <td>61.65</td>\n",
       "      <td>61.87</td>\n",
       "      <td>62.08</td>\n",
       "      <td>62.30</td>\n",
       "      <td>62.53</td>\n",
       "    </tr>\n",
       "    <tr>\n",
       "      <td>2015-04-08</td>\n",
       "      <td>49.93</td>\n",
       "      <td>51.76</td>\n",
       "      <td>53.40</td>\n",
       "      <td>54.75</td>\n",
       "      <td>55.93</td>\n",
       "      <td>56.87</td>\n",
       "      <td>57.58</td>\n",
       "      <td>58.21</td>\n",
       "      <td>58.80</td>\n",
       "      <td>59.26</td>\n",
       "      <td>59.68</td>\n",
       "      <td>60.01</td>\n",
       "      <td>60.48</td>\n",
       "      <td>60.84</td>\n",
       "      <td>61.21</td>\n",
       "      <td>61.59</td>\n",
       "      <td>61.72</td>\n",
       "      <td>61.77</td>\n",
       "      <td>62.30</td>\n",
       "      <td>62.54</td>\n",
       "    </tr>\n",
       "    <tr>\n",
       "      <td>2015-04-15</td>\n",
       "      <td>50.00</td>\n",
       "      <td>51.66</td>\n",
       "      <td>52.95</td>\n",
       "      <td>54.09</td>\n",
       "      <td>55.13</td>\n",
       "      <td>56.01</td>\n",
       "      <td>56.69</td>\n",
       "      <td>57.33</td>\n",
       "      <td>57.94</td>\n",
       "      <td>58.43</td>\n",
       "      <td>58.88</td>\n",
       "      <td>59.31</td>\n",
       "      <td>59.71</td>\n",
       "      <td>60.06</td>\n",
       "      <td>60.38</td>\n",
       "      <td>60.62</td>\n",
       "      <td>60.85</td>\n",
       "      <td>61.08</td>\n",
       "      <td>61.34</td>\n",
       "      <td>61.61</td>\n",
       "    </tr>\n",
       "    <tr>\n",
       "      <td>2015-04-22</td>\n",
       "      <td>48.29</td>\n",
       "      <td>50.07</td>\n",
       "      <td>51.44</td>\n",
       "      <td>52.59</td>\n",
       "      <td>53.62</td>\n",
       "      <td>54.49</td>\n",
       "      <td>55.18</td>\n",
       "      <td>55.84</td>\n",
       "      <td>56.48</td>\n",
       "      <td>57.00</td>\n",
       "      <td>57.48</td>\n",
       "      <td>57.95</td>\n",
       "      <td>58.39</td>\n",
       "      <td>58.78</td>\n",
       "      <td>59.13</td>\n",
       "      <td>59.41</td>\n",
       "      <td>59.68</td>\n",
       "      <td>59.95</td>\n",
       "      <td>60.24</td>\n",
       "      <td>60.54</td>\n",
       "    </tr>\n",
       "  </tbody>\n",
       "</table>\n",
       "<p>1150 rows × 20 columns</p>\n",
       "</div>"
      ],
      "text/plain": [
       "               F1     F2     F3     F4     F5     F6     F7     F8     F9  \\\n",
       "Date                                                                        \n",
       "1996-01-03  19.89  19.34  18.90  18.58  18.35  18.16  18.01  17.92  17.84   \n",
       "1996-01-10  19.67  19.18  18.78  18.47  18.24  18.06  17.91  17.82  17.74   \n",
       "1996-01-17  18.52  18.05  17.79  17.60  17.45  17.35  17.27  17.21  17.16   \n",
       "1996-01-23  18.06  17.67  17.47  17.32  17.22  17.15  17.09  17.04  16.99   \n",
       "1996-01-24  18.28  17.88  17.67  17.52  17.41  17.32  17.26  17.20  17.14   \n",
       "...           ...    ...    ...    ...    ...    ...    ...    ...    ...   \n",
       "2015-03-25  51.53  53.23  54.55  55.74  56.83  57.76  58.46  59.07  59.64   \n",
       "2015-04-01  50.76  52.55  53.99  55.25  56.34  57.24  57.91  58.51  59.07   \n",
       "2015-04-08  49.93  51.76  53.40  54.75  55.93  56.87  57.58  58.21  58.80   \n",
       "2015-04-15  50.00  51.66  52.95  54.09  55.13  56.01  56.69  57.33  57.94   \n",
       "2015-04-22  48.29  50.07  51.44  52.59  53.62  54.49  55.18  55.84  56.48   \n",
       "\n",
       "              F10    F11    F12    F13    F14    F15    F16    F17    F18  \\\n",
       "Date                                                                        \n",
       "1996-01-03  17.77  17.71  17.67  17.63  17.58  17.54  17.50  17.46  17.43   \n",
       "1996-01-10  17.66  17.60  17.57  17.54  17.49  17.45  17.41  17.37  17.34   \n",
       "1996-01-17  17.11  17.06  17.05  17.03  17.00  16.97  16.94  16.93  16.92   \n",
       "1996-01-23  16.94  16.93  16.91  16.88  16.85  16.82  16.81  16.80  16.79   \n",
       "1996-01-24  17.08  17.07  17.05  17.02  16.99  16.96  16.95  16.94  16.93   \n",
       "...           ...    ...    ...    ...    ...    ...    ...    ...    ...   \n",
       "2015-03-25  60.12  60.58  61.04  61.46  61.81  62.12  62.34  62.54  62.73   \n",
       "2015-04-01  59.53  59.96  60.38  60.77  61.11  61.42  61.65  61.87  62.08   \n",
       "2015-04-08  59.26  59.68  60.01  60.48  60.84  61.21  61.59  61.72  61.77   \n",
       "2015-04-15  58.43  58.88  59.31  59.71  60.06  60.38  60.62  60.85  61.08   \n",
       "2015-04-22  57.00  57.48  57.95  58.39  58.78  59.13  59.41  59.68  59.95   \n",
       "\n",
       "              F19    F20  \n",
       "Date                      \n",
       "1996-01-03  17.40  17.38  \n",
       "1996-01-10  17.32  17.30  \n",
       "1996-01-17  16.91  16.91  \n",
       "1996-01-23  16.79  16.81  \n",
       "1996-01-24  16.93  16.94  \n",
       "...           ...    ...  \n",
       "2015-03-25  62.92  63.13  \n",
       "2015-04-01  62.30  62.53  \n",
       "2015-04-08  62.30  62.54  \n",
       "2015-04-15  61.34  61.61  \n",
       "2015-04-22  60.24  60.54  \n",
       "\n",
       "[1150 rows x 20 columns]"
      ]
     },
     "execution_count": 5,
     "metadata": {},
     "output_type": "execute_result"
    }
   ],
   "source": [
    "data=pd.read_excel('wti_impa.xlsx', index_col=0)\n",
    "data.head(-1)\n"
   ]
  },
  {
   "cell_type": "code",
   "execution_count": 6,
   "metadata": {},
   "outputs": [
    {
     "data": {
      "text/plain": [
       "Text(0, 0.5, 'Price - $')"
      ]
     },
     "execution_count": 6,
     "metadata": {},
     "output_type": "execute_result"
    },
    {
     "data": {
      "image/png": "[encoded data removed]",
      "text/plain": [
       "<Figure size 432x288 with 1 Axes>"
      ]
     },
     "metadata": {},
     "output_type": "display_data"
    }
   ],
   "source": [
    "data['F1'].plot()\n",
    "data['F2'].plot()\n",
    "data['F20'].plot()\n",
    "plt.legend(('F1','F2', 'F20'))\n",
    "plt.ylabel('Price - $')"
   ]
  },
  {
   "cell_type": "code",
   "execution_count": 7,
   "metadata": {},
   "outputs": [
    {
     "data": {
      "text/plain": [
       "[]"
      ]
     },
     "execution_count": 7,
     "metadata": {},
     "output_type": "execute_result"
    },
    {
     "data": {
      "image/png": "[encoded data removed]",
      "text/plain": [
       "<Figure size 432x288 with 1 Axes>"
      ]
     },
     "metadata": {},
     "output_type": "display_data"
    }
   ],
   "source": [
    "DGS3['1996':'2016'].plot()\n",
    "plt.legend(('3-Month-Treasury','FRED'))\n",
    "plt.ylabel('Rate(%)')\n",
    "plt.xticks(rotation=45)\n",
    "plt.plot()\n"
   ]
  },
  {
   "cell_type": "code",
   "execution_count": 8,
   "metadata": {},
   "outputs": [
    {
     "name": "stdout",
     "output_type": "stream",
     "text": [
      "A média é: 2.4056232520975214 %\n",
      "O desvio padrão é: 2.212553955744856 %\n"
     ]
    }
   ],
   "source": [
    "print('A média é:',np.mean(DGS3['1996':'2016'])[0], '%')\n",
    "print('O desvio padrão é:',np.std(DGS3['1996':'2016'])[0],'%')"
   ]
  },
  {
   "cell_type": "code",
   "execution_count": 9,
   "metadata": {},
   "outputs": [
    {
     "name": "stdout",
     "output_type": "stream",
     "text": [
      "0.024056232520975215\n"
     ]
    }
   ],
   "source": [
    "r=np.mean(DGS3['1996':'2016'])[0]/100\n",
    "print(r)"
   ]
  },
  {
   "cell_type": "code",
   "execution_count": 10,
   "metadata": {},
   "outputs": [],
   "source": [
    "data['Y']= r -12*np.log(data.F2/data.F1)"
   ]
  },
  {
   "cell_type": "code",
   "execution_count": 11,
   "metadata": {},
   "outputs": [
    {
     "data": {
      "text/plain": [
       "<matplotlib.legend.Legend at 0x21d894c8388>"
      ]
     },
     "execution_count": 11,
     "metadata": {},
     "output_type": "execute_result"
    },
    {
     "data": {
      "image/png": "[encoded data removed]",
      "text/plain": [
       "<Figure size 432x288 with 1 Axes>"
      ]
     },
     "metadata": {},
     "output_type": "display_data"
    }
   ],
   "source": [
    "data['Y'].plot()\n",
    "plt.ylabel('Rate(%)')\n",
    "plt.gca().yaxis.set_major_formatter(PercentFormatter(1))\n",
    "plt.legend(('Retorno de Conveniência','Reversão'))"
   ]
  },
  {
   "cell_type": "code",
   "execution_count": 12,
   "metadata": {},
   "outputs": [
    {
     "name": "stdout",
     "output_type": "stream",
     "text": [
      "Valor máximo é: 1.764112448532872\n",
      "Valor mínimo é: -2.016442119382121\n",
      "Média é: 0.007599920496877612\n",
      "Desvio Padrão é: 0.26796258916917165\n"
     ]
    }
   ],
   "source": [
    "print('Valor máximo é:',np.max(data['Y']))\n",
    "print('Valor mínimo é:',np.min(data['Y']))\n",
    "print('Média é:',np.mean(data['Y']))\n",
    "print('Desvio Padrão é:',np.std(data['Y']))"
   ]
  },
  {
   "cell_type": "code",
   "execution_count": 13,
   "metadata": {},
   "outputs": [],
   "source": [
    "data['Y_diff']=data['Y'].diff(1)\n",
    "data['Y_shift']=data['Y'].shift(1)"
   ]
  },
  {
   "cell_type": "code",
   "execution_count": 14,
   "metadata": {},
   "outputs": [
    {
     "data": {
      "text/html": [
       "<div>\n",
       "<style scoped>\n",
       "    .dataframe tbody tr th:only-of-type {\n",
       "        vertical-align: middle;\n",
       "    }\n",
       "\n",
       "    .dataframe tbody tr th {\n",
       "        vertical-align: top;\n",
       "    }\n",
       "\n",
       "    .dataframe thead th {\n",
       "        text-align: right;\n",
       "    }\n",
       "</style>\n",
       "<table border=\"1\" class=\"dataframe\">\n",
       "  <thead>\n",
       "    <tr style=\"text-align: right;\">\n",
       "      <th></th>\n",
       "      <th>F1</th>\n",
       "      <th>F2</th>\n",
       "      <th>F3</th>\n",
       "      <th>F4</th>\n",
       "      <th>F5</th>\n",
       "      <th>F6</th>\n",
       "      <th>F7</th>\n",
       "      <th>F8</th>\n",
       "      <th>F9</th>\n",
       "      <th>F10</th>\n",
       "      <th>...</th>\n",
       "      <th>F14</th>\n",
       "      <th>F15</th>\n",
       "      <th>F16</th>\n",
       "      <th>F17</th>\n",
       "      <th>F18</th>\n",
       "      <th>F19</th>\n",
       "      <th>F20</th>\n",
       "      <th>Y</th>\n",
       "      <th>Y_diff</th>\n",
       "      <th>Y_shift</th>\n",
       "    </tr>\n",
       "    <tr>\n",
       "      <th>Date</th>\n",
       "      <th></th>\n",
       "      <th></th>\n",
       "      <th></th>\n",
       "      <th></th>\n",
       "      <th></th>\n",
       "      <th></th>\n",
       "      <th></th>\n",
       "      <th></th>\n",
       "      <th></th>\n",
       "      <th></th>\n",
       "      <th></th>\n",
       "      <th></th>\n",
       "      <th></th>\n",
       "      <th></th>\n",
       "      <th></th>\n",
       "      <th></th>\n",
       "      <th></th>\n",
       "      <th></th>\n",
       "      <th></th>\n",
       "      <th></th>\n",
       "      <th></th>\n",
       "    </tr>\n",
       "  </thead>\n",
       "  <tbody>\n",
       "    <tr>\n",
       "      <td>1996-01-03</td>\n",
       "      <td>19.89</td>\n",
       "      <td>19.34</td>\n",
       "      <td>18.90</td>\n",
       "      <td>18.58</td>\n",
       "      <td>18.35</td>\n",
       "      <td>18.16</td>\n",
       "      <td>18.01</td>\n",
       "      <td>17.92</td>\n",
       "      <td>17.84</td>\n",
       "      <td>17.77</td>\n",
       "      <td>...</td>\n",
       "      <td>17.58</td>\n",
       "      <td>17.54</td>\n",
       "      <td>17.50</td>\n",
       "      <td>17.46</td>\n",
       "      <td>17.43</td>\n",
       "      <td>17.40</td>\n",
       "      <td>17.38</td>\n",
       "      <td>0.360555</td>\n",
       "      <td>NaN</td>\n",
       "      <td>NaN</td>\n",
       "    </tr>\n",
       "    <tr>\n",
       "      <td>1996-01-10</td>\n",
       "      <td>19.67</td>\n",
       "      <td>19.18</td>\n",
       "      <td>18.78</td>\n",
       "      <td>18.47</td>\n",
       "      <td>18.24</td>\n",
       "      <td>18.06</td>\n",
       "      <td>17.91</td>\n",
       "      <td>17.82</td>\n",
       "      <td>17.74</td>\n",
       "      <td>17.66</td>\n",
       "      <td>...</td>\n",
       "      <td>17.49</td>\n",
       "      <td>17.45</td>\n",
       "      <td>17.41</td>\n",
       "      <td>17.37</td>\n",
       "      <td>17.34</td>\n",
       "      <td>17.32</td>\n",
       "      <td>17.30</td>\n",
       "      <td>0.326775</td>\n",
       "      <td>-0.033780</td>\n",
       "      <td>0.360555</td>\n",
       "    </tr>\n",
       "    <tr>\n",
       "      <td>1996-01-17</td>\n",
       "      <td>18.52</td>\n",
       "      <td>18.05</td>\n",
       "      <td>17.79</td>\n",
       "      <td>17.60</td>\n",
       "      <td>17.45</td>\n",
       "      <td>17.35</td>\n",
       "      <td>17.27</td>\n",
       "      <td>17.21</td>\n",
       "      <td>17.16</td>\n",
       "      <td>17.11</td>\n",
       "      <td>...</td>\n",
       "      <td>17.00</td>\n",
       "      <td>16.97</td>\n",
       "      <td>16.94</td>\n",
       "      <td>16.93</td>\n",
       "      <td>16.92</td>\n",
       "      <td>16.91</td>\n",
       "      <td>16.91</td>\n",
       "      <td>0.332523</td>\n",
       "      <td>0.005748</td>\n",
       "      <td>0.326775</td>\n",
       "    </tr>\n",
       "    <tr>\n",
       "      <td>1996-01-23</td>\n",
       "      <td>18.06</td>\n",
       "      <td>17.67</td>\n",
       "      <td>17.47</td>\n",
       "      <td>17.32</td>\n",
       "      <td>17.22</td>\n",
       "      <td>17.15</td>\n",
       "      <td>17.09</td>\n",
       "      <td>17.04</td>\n",
       "      <td>16.99</td>\n",
       "      <td>16.94</td>\n",
       "      <td>...</td>\n",
       "      <td>16.85</td>\n",
       "      <td>16.82</td>\n",
       "      <td>16.81</td>\n",
       "      <td>16.80</td>\n",
       "      <td>16.79</td>\n",
       "      <td>16.79</td>\n",
       "      <td>16.81</td>\n",
       "      <td>0.286031</td>\n",
       "      <td>-0.046491</td>\n",
       "      <td>0.332523</td>\n",
       "    </tr>\n",
       "    <tr>\n",
       "      <td>1996-01-24</td>\n",
       "      <td>18.28</td>\n",
       "      <td>17.88</td>\n",
       "      <td>17.67</td>\n",
       "      <td>17.52</td>\n",
       "      <td>17.41</td>\n",
       "      <td>17.32</td>\n",
       "      <td>17.26</td>\n",
       "      <td>17.20</td>\n",
       "      <td>17.14</td>\n",
       "      <td>17.08</td>\n",
       "      <td>...</td>\n",
       "      <td>16.99</td>\n",
       "      <td>16.96</td>\n",
       "      <td>16.95</td>\n",
       "      <td>16.94</td>\n",
       "      <td>16.93</td>\n",
       "      <td>16.93</td>\n",
       "      <td>16.94</td>\n",
       "      <td>0.289554</td>\n",
       "      <td>0.003522</td>\n",
       "      <td>0.286031</td>\n",
       "    </tr>\n",
       "  </tbody>\n",
       "</table>\n",
       "<p>5 rows × 23 columns</p>\n",
       "</div>"
      ],
      "text/plain": [
       "               F1     F2     F3     F4     F5     F6     F7     F8     F9  \\\n",
       "Date                                                                        \n",
       "1996-01-03  19.89  19.34  18.90  18.58  18.35  18.16  18.01  17.92  17.84   \n",
       "1996-01-10  19.67  19.18  18.78  18.47  18.24  18.06  17.91  17.82  17.74   \n",
       "1996-01-17  18.52  18.05  17.79  17.60  17.45  17.35  17.27  17.21  17.16   \n",
       "1996-01-23  18.06  17.67  17.47  17.32  17.22  17.15  17.09  17.04  16.99   \n",
       "1996-01-24  18.28  17.88  17.67  17.52  17.41  17.32  17.26  17.20  17.14   \n",
       "\n",
       "              F10  ...    F14    F15    F16    F17    F18    F19    F20  \\\n",
       "Date               ...                                                    \n",
       "1996-01-03  17.77  ...  17.58  17.54  17.50  17.46  17.43  17.40  17.38   \n",
       "1996-01-10  17.66  ...  17.49  17.45  17.41  17.37  17.34  17.32  17.30   \n",
       "1996-01-17  17.11  ...  17.00  16.97  16.94  16.93  16.92  16.91  16.91   \n",
       "1996-01-23  16.94  ...  16.85  16.82  16.81  16.80  16.79  16.79  16.81   \n",
       "1996-01-24  17.08  ...  16.99  16.96  16.95  16.94  16.93  16.93  16.94   \n",
       "\n",
       "                   Y    Y_diff   Y_shift  \n",
       "Date                                      \n",
       "1996-01-03  0.360555       NaN       NaN  \n",
       "1996-01-10  0.326775 -0.033780  0.360555  \n",
       "1996-01-17  0.332523  0.005748  0.326775  \n",
       "1996-01-23  0.286031 -0.046491  0.332523  \n",
       "1996-01-24  0.289554  0.003522  0.286031  \n",
       "\n",
       "[5 rows x 23 columns]"
      ]
     },
     "execution_count": 14,
     "metadata": {},
     "output_type": "execute_result"
    }
   ],
   "source": [
    "data.head()"
   ]
  },
  {
   "cell_type": "code",
   "execution_count": 15,
   "metadata": {},
   "outputs": [],
   "source": [
    "results=smf.ols(formula = \"Y_diff ~ Y_shift\", data=data, missing='drop').fit()"
   ]
  },
  {
   "cell_type": "code",
   "execution_count": 16,
   "metadata": {},
   "outputs": [
    {
     "name": "stdout",
     "output_type": "stream",
     "text": [
      "                            OLS Regression Results                            \n",
      "==============================================================================\n",
      "Dep. Variable:                 Y_diff   R-squared:                       0.053\n",
      "Model:                            OLS   Adj. R-squared:                  0.052\n",
      "Method:                 Least Squares   F-statistic:                     64.07\n",
      "Date:                Sun, 27 Sep 2020   Prob (F-statistic):           2.92e-15\n",
      "Time:                        10:51:59   Log-Likelihood:                 803.84\n",
      "No. Observations:                1150   AIC:                            -1604.\n",
      "Df Residuals:                    1148   BIC:                            -1594.\n",
      "Df Model:                           1                                         \n",
      "Covariance Type:            nonrobust                                         \n",
      "==============================================================================\n",
      "                 coef    std err          t      P>|t|      [0.025      0.975]\n",
      "------------------------------------------------------------------------------\n",
      "Intercept      0.0002      0.004      0.045      0.964      -0.007       0.007\n",
      "Y_shift       -0.1061      0.013     -8.005      0.000      -0.132      -0.080\n",
      "==============================================================================\n",
      "Omnibus:                      382.666   Durbin-Watson:                   2.428\n",
      "Prob(Omnibus):                  0.000   Jarque-Bera (JB):            30575.598\n",
      "Skew:                           0.582   Prob(JB):                         0.00\n",
      "Kurtosis:                      28.234   Cond. No.                         3.73\n",
      "==============================================================================\n",
      "\n",
      "Warnings:\n",
      "[1] Standard Errors assume that the covariance matrix of the errors is correctly specified.\n"
     ]
    }
   ],
   "source": [
    "print(results.summary())"
   ]
  },
  {
   "cell_type": "code",
   "execution_count": 17,
   "metadata": {},
   "outputs": [
    {
     "data": {
      "text/plain": [
       "Intercept    9.638798e-01\n",
       "Y_shift      2.915371e-15\n",
       "dtype: float64"
      ]
     },
     "execution_count": 17,
     "metadata": {},
     "output_type": "execute_result"
    }
   ],
   "source": [
    "results.pvalues"
   ]
  },
  {
   "cell_type": "code",
   "execution_count": 18,
   "metadata": {},
   "outputs": [
    {
     "name": "stdout",
     "output_type": "stream",
     "text": [
      "Média de dias é: 6 days 03:15:20.347826\n",
      "Mediana de dias é: 7 days 00:00:00\n",
      "Moda de dias é 0   7 days\n",
      "dtype: timedelta64[ns]\n",
      "Desvio padrão de dias: 1 days 19:46:50.401730\n",
      "Máximo de dias: 9 days 00:00:00\n",
      "Mínimo de dias 1 days 00:00:00\n"
     ]
    }
   ],
   "source": [
    "print('Média de dias é:', np.mean(data.index.to_series().diff()))\n",
    "print('Mediana de dias é:', data.index.to_series().diff(1).median())\n",
    "print('Moda de dias é',data.index.to_series().diff(1).mode())\n",
    "print('Desvio padrão de dias:',np.std(data.index.to_series().diff(1)))\n",
    "print('Máximo de dias:',np.max(data.index.to_series().diff(1)))\n",
    "print('Mínimo de dias', np.min(data.index.to_series().diff(1)))\n"
   ]
  },
  {
   "cell_type": "code",
   "execution_count": null,
   "metadata": {},
   "outputs": [],
   "source": []
  },
  {
   "cell_type": "code",
   "execution_count": 19,
   "metadata": {},
   "outputs": [],
   "source": [
    "#delta_t= 7/252  \n",
    "delta_t=1/52 #medida anual"
   ]
  },
  {
   "cell_type": "code",
   "execution_count": null,
   "metadata": {},
   "outputs": [],
   "source": []
  },
  {
   "cell_type": "code",
   "execution_count": 20,
   "metadata": {},
   "outputs": [],
   "source": [
    "a=results.params[0]\n",
    "b=results.params[1]"
   ]
  },
  {
   "cell_type": "code",
   "execution_count": 21,
   "metadata": {},
   "outputs": [],
   "source": [
    "e=np.std(results.resid)"
   ]
  },
  {
   "cell_type": "code",
   "execution_count": 22,
   "metadata": {},
   "outputs": [
    {
     "name": "stdout",
     "output_type": "stream",
     "text": [
      "sigma é: 86.7355083412131 % a.a.\n"
     ]
    }
   ],
   "source": [
    "sigma=e/np.sqrt(delta_t)\n",
    "print('sigma é:',sigma*100,'% a.a.')"
   ]
  },
  {
   "cell_type": "code",
   "execution_count": 23,
   "metadata": {},
   "outputs": [
    {
     "name": "stdout",
     "output_type": "stream",
     "text": [
      "Kappa é: 5.518304844807468\n"
     ]
    }
   ],
   "source": [
    "kappa=-b/delta_t\n",
    "print('Kappa é:',kappa)"
   ]
  },
  {
   "cell_type": "code",
   "execution_count": 24,
   "metadata": {},
   "outputs": [
    {
     "name": "stdout",
     "output_type": "stream",
     "text": [
      "Reversao é 0\n"
     ]
    }
   ],
   "source": [
    "y_barra=a/-b\n",
    "y_barra=0\n",
    "print('Reversao é', y_barra)"
   ]
  },
  {
   "cell_type": "code",
   "execution_count": 25,
   "metadata": {},
   "outputs": [
    {
     "data": {
      "image/png": "[encoded data removed]",
      "text/plain": [
       "<Figure size 432x288 with 1 Axes>"
      ]
     },
     "metadata": {},
     "output_type": "display_data"
    }
   ],
   "source": [
    "data['Reversao']=y_barra\n",
    "\n",
    "data['Y'].plot()\n",
    "data['Reversao'].plot()\n",
    "plt.gca().yaxis.set_major_formatter(PercentFormatter(1))\n",
    "plt.ylabel('Rate(%)')\n",
    "plt.legend(('Retorno de Conveniência','Reversão'))\n",
    "plt.show()"
   ]
  },
  {
   "cell_type": "code",
   "execution_count": 26,
   "metadata": {},
   "outputs": [],
   "source": [
    "################Simulação################"
   ]
  },
  {
   "cell_type": "code",
   "execution_count": 27,
   "metadata": {},
   "outputs": [],
   "source": [
    "def simulacao(y0,kappa,y_barra,sigma,T,delta_t):\n",
    "    Po=y0\n",
    "    serie=[]\n",
    "    Tempo=[]\n",
    "    serie.append(Po)\n",
    "    Tempo.append(0)\n",
    "    for t in range(int(T/delta_t)):\n",
    "        P1= Po*np.exp(-kappa*delta_t*(t+1)) + y_barra*(1-np.exp(-kappa*delta_t*(t+1)))\n",
    "        serie.append(P1)\n",
    "        Tempo.append((t+1)*delta_t)\n",
    "    df=pd.DataFrame(serie)\n",
    "    df.columns=['Average_Rate']\n",
    "    \n",
    "    for i in range(len(Tempo)):\n",
    "        Tempo[i] == round(i,0) #tries to round all numbers.\n",
    "        \n",
    "    #df=pd.DataFrame(Tempo)\n",
    "    df.index=Tempo\n",
    "    #df.columns=['Price_Average']\n",
    "    #df['Price_Average']=0\n",
    "    \n",
    "    \n",
    "    for i in range(3):\n",
    "        Po=y0\n",
    "        serie=[]\n",
    "        serie.append(Po)\n",
    "        for t in range(int(T/delta_t)):\n",
    "            #P1= np.exp(kappa*delta_t)*Po + y_barra*(1- np.exp(kappa*delta_t)) + sigma*np.random.normal(0,1)*np.sqrt(np.exp(2*kappa*delta_t)/(2*kappa))            \n",
    "            P1 = np.exp(-kappa*delta_t)*Po + y_barra*(1- np.exp(-kappa*delta_t)) + sigma*np.random.normal(0,1)*np.sqrt((1- np.exp(-2*kappa*delta_t))/(2*kappa))\n",
    "            serie.append(P1)\n",
    "            Po=P1\n",
    "        df['P_{}'.format(i)]=serie\n",
    "        \n",
    "    return[df.plot(legend=False),df.Average_Rate.plot(color='black', legend=True),plt.gca().yaxis.set_major_formatter(PercentFormatter(1)),plt.ylabel('Rate(%)'), plt.xlabel('Anos')]\n",
    "    \n",
    "       "
   ]
  },
  {
   "cell_type": "code",
   "execution_count": 28,
   "metadata": {},
   "outputs": [
    {
     "data": {
      "text/plain": [
       "(0.3605554666097661,\n",
       " 5.518304844807468,\n",
       " 0,\n",
       " 0.8673550834121311,\n",
       " 20,\n",
       " 0.019230769230769232)"
      ]
     },
     "execution_count": 28,
     "metadata": {},
     "output_type": "execute_result"
    }
   ],
   "source": [
    "data['Y'][0], kappa, y_barra,sigma,20,delta_t"
   ]
  },
  {
   "cell_type": "code",
   "execution_count": 29,
   "metadata": {},
   "outputs": [
    {
     "name": "stdout",
     "output_type": "stream",
     "text": [
      "0.12560871500460374\n",
      "A meia vida é: 1.5073045800552447 mes(es)\n"
     ]
    }
   ],
   "source": [
    "####Meia vida###\n",
    "print(-np.log(0.5)/kappa)\n",
    "print ('A meia vida é:', -12*np.log(0.5)/kappa, 'mes(es)')"
   ]
  },
  {
   "cell_type": "code",
   "execution_count": null,
   "metadata": {},
   "outputs": [],
   "source": []
  },
  {
   "cell_type": "code",
   "execution_count": 30,
   "metadata": {},
   "outputs": [],
   "source": [
    "y0=data['Y'][0]"
   ]
  },
  {
   "cell_type": "code",
   "execution_count": 31,
   "metadata": {},
   "outputs": [],
   "source": [
    "Po=y0\n",
    "P1=[]\n",
    "serie=[]\n",
    "for t in range(int(20/delta_t)):\n",
    "    P1 = np.exp(-kappa*delta_t)*Po + y_barra*(1- np.exp(-kappa*delta_t)) + sigma*np.random.normal(0,1)*np.sqrt((1- np.exp(-2*kappa*delta_t))/(2*kappa))        \n",
    "    serie.append(P1)\n",
    "    Po=P1\n",
    "        "
   ]
  },
  {
   "cell_type": "code",
   "execution_count": 32,
   "metadata": {},
   "outputs": [
    {
     "data": {
      "text/plain": [
       "[]"
      ]
     },
     "execution_count": 32,
     "metadata": {},
     "output_type": "execute_result"
    },
    {
     "data": {
      "image/png": "[encoded data removed]",
      "text/plain": [
       "<Figure size 432x288 with 1 Axes>"
      ]
     },
     "metadata": {},
     "output_type": "display_data"
    }
   ],
   "source": [
    "plt.plot(serie)\n",
    "plt.gca().yaxis.set_major_formatter(PercentFormatter(1))\n",
    "plt.plot()"
   ]
  },
  {
   "cell_type": "code",
   "execution_count": 33,
   "metadata": {},
   "outputs": [],
   "source": [
    "Po=y0\n",
    "serie=[]\n",
    "Tempo=[]\n",
    "serie.append(Po)\n",
    "Tempo.append(0)\n",
    "for t in range(int(20/delta_t)):\n",
    "    P1= Po*np.exp(-kappa*delta_t*(t+1)) + y_barra*(1-np.exp(-kappa*delta_t*(t+1)))\n",
    "    serie.append(P1)\n",
    "    Tempo.append((t+1)*delta_t)\n",
    "df=pd.DataFrame(serie)\n",
    "df.columns=['Average_Rate']\n",
    "    "
   ]
  },
  {
   "cell_type": "code",
   "execution_count": 34,
   "metadata": {},
   "outputs": [
    {
     "data": {
      "text/plain": [
       "<matplotlib.axes._subplots.AxesSubplot at 0x21d89b19f88>"
      ]
     },
     "execution_count": 34,
     "metadata": {},
     "output_type": "execute_result"
    },
    {
     "data": {
      "image/png": "[encoded data removed]",
      "text/plain": [
       "<Figure size 432x288 with 1 Axes>"
      ]
     },
     "metadata": {},
     "output_type": "display_data"
    }
   ],
   "source": [
    "df.plot()"
   ]
  },
  {
   "cell_type": "code",
   "execution_count": 35,
   "metadata": {},
   "outputs": [
    {
     "data": {
      "text/plain": [
       "[<matplotlib.axes._subplots.AxesSubplot at 0x21d89b86b48>,\n",
       " <matplotlib.axes._subplots.AxesSubplot at 0x21d89b86b48>,\n",
       " None,\n",
       " Text(0, 0.5, 'Rate(%)'),\n",
       " Text(0.5, 0, 'Anos')]"
      ]
     },
     "execution_count": 35,
     "metadata": {},
     "output_type": "execute_result"
    },
    {
     "data": {
      "image/png": "[encoded data removed]",
      "text/plain": [
       "<Figure size 432x288 with 1 Axes>"
      ]
     },
     "metadata": {},
     "output_type": "display_data"
    }
   ],
   "source": [
    "simulacao(y0,kappa,y_barra,sigma,20,delta_t)"
   ]
  },
  {
   "cell_type": "code",
   "execution_count": 36,
   "metadata": {},
   "outputs": [
    {
     "data": {
      "text/plain": [
       "0"
      ]
     },
     "execution_count": 36,
     "metadata": {},
     "output_type": "execute_result"
    }
   ],
   "source": [
    "y_barra"
   ]
  },
  {
   "cell_type": "code",
   "execution_count": 37,
   "metadata": {},
   "outputs": [],
   "source": [
    "#######Estrutura a termo da Volatilidade - Efeito Samuleson - Exercicio 5#####"
   ]
  },
  {
   "cell_type": "code",
   "execution_count": 38,
   "metadata": {},
   "outputs": [
    {
     "data": {
      "text/html": [
       "<div>\n",
       "<style scoped>\n",
       "    .dataframe tbody tr th:only-of-type {\n",
       "        vertical-align: middle;\n",
       "    }\n",
       "\n",
       "    .dataframe tbody tr th {\n",
       "        vertical-align: top;\n",
       "    }\n",
       "\n",
       "    .dataframe thead th {\n",
       "        text-align: right;\n",
       "    }\n",
       "</style>\n",
       "<table border=\"1\" class=\"dataframe\">\n",
       "  <thead>\n",
       "    <tr style=\"text-align: right;\">\n",
       "      <th></th>\n",
       "      <th>F1</th>\n",
       "      <th>F2</th>\n",
       "      <th>F3</th>\n",
       "      <th>F4</th>\n",
       "      <th>F5</th>\n",
       "      <th>F6</th>\n",
       "      <th>F7</th>\n",
       "      <th>F8</th>\n",
       "      <th>F9</th>\n",
       "      <th>F10</th>\n",
       "      <th>...</th>\n",
       "      <th>F15</th>\n",
       "      <th>F16</th>\n",
       "      <th>F17</th>\n",
       "      <th>F18</th>\n",
       "      <th>F19</th>\n",
       "      <th>F20</th>\n",
       "      <th>Y</th>\n",
       "      <th>Y_diff</th>\n",
       "      <th>Y_shift</th>\n",
       "      <th>Reversao</th>\n",
       "    </tr>\n",
       "    <tr>\n",
       "      <th>Date</th>\n",
       "      <th></th>\n",
       "      <th></th>\n",
       "      <th></th>\n",
       "      <th></th>\n",
       "      <th></th>\n",
       "      <th></th>\n",
       "      <th></th>\n",
       "      <th></th>\n",
       "      <th></th>\n",
       "      <th></th>\n",
       "      <th></th>\n",
       "      <th></th>\n",
       "      <th></th>\n",
       "      <th></th>\n",
       "      <th></th>\n",
       "      <th></th>\n",
       "      <th></th>\n",
       "      <th></th>\n",
       "      <th></th>\n",
       "      <th></th>\n",
       "      <th></th>\n",
       "    </tr>\n",
       "  </thead>\n",
       "  <tbody>\n",
       "    <tr>\n",
       "      <td>1996-01-03</td>\n",
       "      <td>19.89</td>\n",
       "      <td>19.34</td>\n",
       "      <td>18.90</td>\n",
       "      <td>18.58</td>\n",
       "      <td>18.35</td>\n",
       "      <td>18.16</td>\n",
       "      <td>18.01</td>\n",
       "      <td>17.92</td>\n",
       "      <td>17.84</td>\n",
       "      <td>17.77</td>\n",
       "      <td>...</td>\n",
       "      <td>17.54</td>\n",
       "      <td>17.50</td>\n",
       "      <td>17.46</td>\n",
       "      <td>17.43</td>\n",
       "      <td>17.40</td>\n",
       "      <td>17.38</td>\n",
       "      <td>0.360555</td>\n",
       "      <td>NaN</td>\n",
       "      <td>NaN</td>\n",
       "      <td>0</td>\n",
       "    </tr>\n",
       "    <tr>\n",
       "      <td>1996-01-10</td>\n",
       "      <td>19.67</td>\n",
       "      <td>19.18</td>\n",
       "      <td>18.78</td>\n",
       "      <td>18.47</td>\n",
       "      <td>18.24</td>\n",
       "      <td>18.06</td>\n",
       "      <td>17.91</td>\n",
       "      <td>17.82</td>\n",
       "      <td>17.74</td>\n",
       "      <td>17.66</td>\n",
       "      <td>...</td>\n",
       "      <td>17.45</td>\n",
       "      <td>17.41</td>\n",
       "      <td>17.37</td>\n",
       "      <td>17.34</td>\n",
       "      <td>17.32</td>\n",
       "      <td>17.30</td>\n",
       "      <td>0.326775</td>\n",
       "      <td>-0.033780</td>\n",
       "      <td>0.360555</td>\n",
       "      <td>0</td>\n",
       "    </tr>\n",
       "    <tr>\n",
       "      <td>1996-01-17</td>\n",
       "      <td>18.52</td>\n",
       "      <td>18.05</td>\n",
       "      <td>17.79</td>\n",
       "      <td>17.60</td>\n",
       "      <td>17.45</td>\n",
       "      <td>17.35</td>\n",
       "      <td>17.27</td>\n",
       "      <td>17.21</td>\n",
       "      <td>17.16</td>\n",
       "      <td>17.11</td>\n",
       "      <td>...</td>\n",
       "      <td>16.97</td>\n",
       "      <td>16.94</td>\n",
       "      <td>16.93</td>\n",
       "      <td>16.92</td>\n",
       "      <td>16.91</td>\n",
       "      <td>16.91</td>\n",
       "      <td>0.332523</td>\n",
       "      <td>0.005748</td>\n",
       "      <td>0.326775</td>\n",
       "      <td>0</td>\n",
       "    </tr>\n",
       "    <tr>\n",
       "      <td>1996-01-23</td>\n",
       "      <td>18.06</td>\n",
       "      <td>17.67</td>\n",
       "      <td>17.47</td>\n",
       "      <td>17.32</td>\n",
       "      <td>17.22</td>\n",
       "      <td>17.15</td>\n",
       "      <td>17.09</td>\n",
       "      <td>17.04</td>\n",
       "      <td>16.99</td>\n",
       "      <td>16.94</td>\n",
       "      <td>...</td>\n",
       "      <td>16.82</td>\n",
       "      <td>16.81</td>\n",
       "      <td>16.80</td>\n",
       "      <td>16.79</td>\n",
       "      <td>16.79</td>\n",
       "      <td>16.81</td>\n",
       "      <td>0.286031</td>\n",
       "      <td>-0.046491</td>\n",
       "      <td>0.332523</td>\n",
       "      <td>0</td>\n",
       "    </tr>\n",
       "    <tr>\n",
       "      <td>1996-01-24</td>\n",
       "      <td>18.28</td>\n",
       "      <td>17.88</td>\n",
       "      <td>17.67</td>\n",
       "      <td>17.52</td>\n",
       "      <td>17.41</td>\n",
       "      <td>17.32</td>\n",
       "      <td>17.26</td>\n",
       "      <td>17.20</td>\n",
       "      <td>17.14</td>\n",
       "      <td>17.08</td>\n",
       "      <td>...</td>\n",
       "      <td>16.96</td>\n",
       "      <td>16.95</td>\n",
       "      <td>16.94</td>\n",
       "      <td>16.93</td>\n",
       "      <td>16.93</td>\n",
       "      <td>16.94</td>\n",
       "      <td>0.289554</td>\n",
       "      <td>0.003522</td>\n",
       "      <td>0.286031</td>\n",
       "      <td>0</td>\n",
       "    </tr>\n",
       "  </tbody>\n",
       "</table>\n",
       "<p>5 rows × 24 columns</p>\n",
       "</div>"
      ],
      "text/plain": [
       "               F1     F2     F3     F4     F5     F6     F7     F8     F9  \\\n",
       "Date                                                                        \n",
       "1996-01-03  19.89  19.34  18.90  18.58  18.35  18.16  18.01  17.92  17.84   \n",
       "1996-01-10  19.67  19.18  18.78  18.47  18.24  18.06  17.91  17.82  17.74   \n",
       "1996-01-17  18.52  18.05  17.79  17.60  17.45  17.35  17.27  17.21  17.16   \n",
       "1996-01-23  18.06  17.67  17.47  17.32  17.22  17.15  17.09  17.04  16.99   \n",
       "1996-01-24  18.28  17.88  17.67  17.52  17.41  17.32  17.26  17.20  17.14   \n",
       "\n",
       "              F10  ...    F15    F16    F17    F18    F19    F20         Y  \\\n",
       "Date               ...                                                       \n",
       "1996-01-03  17.77  ...  17.54  17.50  17.46  17.43  17.40  17.38  0.360555   \n",
       "1996-01-10  17.66  ...  17.45  17.41  17.37  17.34  17.32  17.30  0.326775   \n",
       "1996-01-17  17.11  ...  16.97  16.94  16.93  16.92  16.91  16.91  0.332523   \n",
       "1996-01-23  16.94  ...  16.82  16.81  16.80  16.79  16.79  16.81  0.286031   \n",
       "1996-01-24  17.08  ...  16.96  16.95  16.94  16.93  16.93  16.94  0.289554   \n",
       "\n",
       "              Y_diff   Y_shift  Reversao  \n",
       "Date                                      \n",
       "1996-01-03       NaN       NaN         0  \n",
       "1996-01-10 -0.033780  0.360555         0  \n",
       "1996-01-17  0.005748  0.326775         0  \n",
       "1996-01-23 -0.046491  0.332523         0  \n",
       "1996-01-24  0.003522  0.286031         0  \n",
       "\n",
       "[5 rows x 24 columns]"
      ]
     },
     "execution_count": 38,
     "metadata": {},
     "output_type": "execute_result"
    }
   ],
   "source": [
    "data.head()"
   ]
  },
  {
   "cell_type": "code",
   "execution_count": 39,
   "metadata": {},
   "outputs": [
    {
     "data": {
      "text/plain": [
       "0.044478011018226175"
      ]
     },
     "execution_count": 39,
     "metadata": {},
     "output_type": "execute_result"
    }
   ],
   "source": [
    "np.std(np.log(data['F1']).diff())"
   ]
  },
  {
   "cell_type": "code",
   "execution_count": 40,
   "metadata": {},
   "outputs": [
    {
     "data": {
      "text/plain": [
       "0.044478011018226175"
      ]
     },
     "execution_count": 40,
     "metadata": {},
     "output_type": "execute_result"
    }
   ],
   "source": [
    "np.std(np.log(data['F1']) - np.log(data['F1']).shift(-1) )"
   ]
  },
  {
   "cell_type": "code",
   "execution_count": 41,
   "metadata": {},
   "outputs": [
    {
     "name": "stdout",
     "output_type": "stream",
     "text": [
      "0.044478011018226175\n",
      "0.02713312056627225\n"
     ]
    }
   ],
   "source": [
    "print(np.std(np.log(data['F1']).diff()))\n",
    "print(np.std(np.log(data['F20']).diff()))"
   ]
  },
  {
   "cell_type": "code",
   "execution_count": 42,
   "metadata": {},
   "outputs": [],
   "source": [
    "termo=[]\n",
    "for i in range(20):\n",
    "    termo.append(100*np.std(np.log(data['F{}'.format(i+1)]).diff()))"
   ]
  },
  {
   "cell_type": "code",
   "execution_count": 43,
   "metadata": {},
   "outputs": [
    {
     "name": "stdout",
     "output_type": "stream",
     "text": [
      "4.447801101822617\n",
      "2.7133120566272253\n"
     ]
    }
   ],
   "source": [
    "print(termo[0])\n",
    "print(termo[19])"
   ]
  },
  {
   "cell_type": "code",
   "execution_count": 44,
   "metadata": {},
   "outputs": [
    {
     "data": {
      "text/plain": [
       "<matplotlib.collections.PathCollection at 0x21d8ac1edc8>"
      ]
     },
     "execution_count": 44,
     "metadata": {},
     "output_type": "execute_result"
    },
    {
     "data": {
      "image/png": "[encoded data removed]",
      "text/plain": [
       "<Figure size 432x288 with 1 Axes>"
      ]
     },
     "metadata": {},
     "output_type": "display_data"
    }
   ],
   "source": [
    "plt.scatter(np.linspace(1,20,20),termo)"
   ]
  },
  {
   "cell_type": "code",
   "execution_count": 45,
   "metadata": {},
   "outputs": [
    {
     "data": {
      "text/plain": [
       "[4.447801101822617,\n",
       " 4.1335197481932635,\n",
       " 3.911601704385803,\n",
       " 3.7337815278288757,\n",
       " 3.5868621409435133,\n",
       " 3.464799995982472,\n",
       " 3.364920905605901,\n",
       " 3.279881545811242,\n",
       " 3.2050793159166933,\n",
       " 3.1371942808393527,\n",
       " 3.0742703032105045,\n",
       " 3.0173466052116273,\n",
       " 2.9659612043518364,\n",
       " 2.91826559998083,\n",
       " 2.875867607710965,\n",
       " 2.860754352156289,\n",
       " 2.8234600608188263,\n",
       " 2.768323308758567,\n",
       " 2.741132182879684,\n",
       " 2.7133120566272253]"
      ]
     },
     "execution_count": 45,
     "metadata": {},
     "output_type": "execute_result"
    }
   ],
   "source": [
    "termo"
   ]
  },
  {
   "cell_type": "code",
   "execution_count": 46,
   "metadata": {},
   "outputs": [
    {
     "data": {
      "text/plain": [
       "0.007599920496877612"
      ]
     },
     "execution_count": 46,
     "metadata": {},
     "output_type": "execute_result"
    }
   ],
   "source": [
    "np.mean(r -12*np.log(data.F2/data.F1))"
   ]
  },
  {
   "cell_type": "code",
   "execution_count": 47,
   "metadata": {},
   "outputs": [],
   "source": [
    "#####Estrutura a termo da taxa de conveniência\n",
    "termo_delta=[]\n",
    "for i in range(19):\n",
    "    termo_delta.append(100*np.mean(r -12*np.log(data['F{}'.format(i+2)]/data['F{}'.format(i+1)])))\n",
    "\n"
   ]
  },
  {
   "cell_type": "code",
   "execution_count": 48,
   "metadata": {},
   "outputs": [
    {
     "data": {
      "text/plain": [
       "[0.7599920496877612,\n",
       " 2.990302682235255,\n",
       " 4.412421160386808,\n",
       " 5.044245741394024,\n",
       " 5.465773846640308,\n",
       " 5.736493285254469,\n",
       " 5.78244132473754,\n",
       " 5.719225912107543,\n",
       " 5.629258278593108,\n",
       " 5.528080082236038,\n",
       " 5.475221948653464,\n",
       " 5.4082058089119345,\n",
       " 5.3359221412228885,\n",
       " 5.192917400632241,\n",
       " 5.120721393961397,\n",
       " 4.913720203016739,\n",
       " 4.687485371912428,\n",
       " 4.795738570137225,\n",
       " 4.055984462113519]"
      ]
     },
     "execution_count": 48,
     "metadata": {},
     "output_type": "execute_result"
    }
   ],
   "source": [
    "termo_delta"
   ]
  },
  {
   "cell_type": "code",
   "execution_count": 49,
   "metadata": {},
   "outputs": [
    {
     "data": {
      "text/plain": [
       "<matplotlib.collections.PathCollection at 0x21d8ac93888>"
      ]
     },
     "execution_count": 49,
     "metadata": {},
     "output_type": "execute_result"
    },
    {
     "data": {
      "image/png": "[encoded data removed]",
      "text/plain": [
       "<Figure size 432x288 with 1 Axes>"
      ]
     },
     "metadata": {},
     "output_type": "display_data"
    }
   ],
   "source": [
    "plt.scatter(np.linspace(1,19,19),termo_delta)"
   ]
  },
  {
   "cell_type": "code",
   "execution_count": 50,
   "metadata": {},
   "outputs": [
    {
     "data": {
      "text/plain": [
       "4.844955350728141"
      ]
     },
     "execution_count": 50,
     "metadata": {},
     "output_type": "execute_result"
    }
   ],
   "source": [
    "np.mean(termo_delta)"
   ]
  },
  {
   "cell_type": "code",
   "execution_count": 51,
   "metadata": {},
   "outputs": [],
   "source": [
    "termo_delta_0=[]\n",
    "for i in range(19):\n",
    "    termo_delta_0.append(100*np.mean(r -(12/(i+1))*np.log(data['F{}'.format(i+2)]/data['F1'])))\n",
    "    \n",
    "\n"
   ]
  },
  {
   "cell_type": "code",
   "execution_count": 52,
   "metadata": {},
   "outputs": [
    {
     "data": {
      "text/plain": [
       "[0.7599920496877612,\n",
       " 1.8751473659614968,\n",
       " 2.7209052974366115,\n",
       " 3.3017404084259643,\n",
       " 3.73454709606883,\n",
       " 4.068204794266432,\n",
       " 4.313095727190873,\n",
       " 4.488862000305458,\n",
       " 4.615572697892972,\n",
       " 4.706823436327272,\n",
       " 4.776677846538748,\n",
       " 4.829305176736519,\n",
       " 4.868275712466236,\n",
       " 4.891464404478098,\n",
       " 4.906748203776993,\n",
       " 4.907183953729468,\n",
       " 4.894260507740234,\n",
       " 4.8887870667622835,\n",
       " 4.84495535072814]"
      ]
     },
     "execution_count": 52,
     "metadata": {},
     "output_type": "execute_result"
    }
   ],
   "source": [
    "termo_delta_0"
   ]
  },
  {
   "cell_type": "code",
   "execution_count": 53,
   "metadata": {},
   "outputs": [
    {
     "data": {
      "text/plain": [
       "<matplotlib.collections.PathCollection at 0x21d8acd4c08>"
      ]
     },
     "execution_count": 53,
     "metadata": {},
     "output_type": "execute_result"
    },
    {
     "data": {
      "image/png": "[encoded data removed]",
      "text/plain": [
       "<Figure size 432x288 with 1 Axes>"
      ]
     },
     "metadata": {},
     "output_type": "display_data"
    }
   ],
   "source": [
    "plt.scatter(np.linspace(1,19,19),termo_delta_0)"
   ]
  },
  {
   "cell_type": "code",
   "execution_count": 55,
   "metadata": {},
   "outputs": [
    {
     "name": "stdout",
     "output_type": "stream",
     "text": [
      "32.0736774921536\n",
      "14.285041420714306\n"
     ]
    }
   ],
   "source": [
    "####Aproximando CL1 -F1 ao spot\n",
    "\n",
    "vol=np.std(data.F1.pct_change(1))*np.sqrt(52)\n",
    "print(vol*100)\n",
    "alpha=(np.mean(data.F1.pct_change(1))+.5*np.power(np.std(data.F1.pct_change(1)),2))*52\n",
    "print(alpha*100)"
   ]
  },
  {
   "cell_type": "code",
   "execution_count": 56,
   "metadata": {},
   "outputs": [],
   "source": [
    "data['Value_Shift']=data['F1'].shift(1)\n",
    "data['lnSt']= np.log(data['F1'])\n",
    "data['lnSt_1']= np.log(data['Value_Shift'])\n",
    "data['lnStSt_1']= data['lnSt_1'] -data['lnSt']  "
   ]
  },
  {
   "cell_type": "code",
   "execution_count": 64,
   "metadata": {},
   "outputs": [
    {
     "name": "stdout",
     "output_type": "stream",
     "text": [
      "vol é 32.073549871373345\n",
      "alpha é 1.143997350725633\n"
     ]
    }
   ],
   "source": [
    "print('vol é',100*np.std(data.lnStSt_1)*np.sqrt(52))\n",
    "print('alpha é',100*(((np.mean(data.lnStSt_1)+ 0.5*np.std(data.lnStSt_1)**2)*52)))\n"
   ]
  },
  {
   "cell_type": "code",
   "execution_count": 65,
   "metadata": {},
   "outputs": [],
   "source": [
    "from statsmodels.tsa.stattools import adfuller"
   ]
  },
  {
   "cell_type": "code",
   "execution_count": 68,
   "metadata": {},
   "outputs": [
    {
     "data": {
      "text/plain": [
       "0.22077488323322575"
      ]
     },
     "execution_count": 68,
     "metadata": {},
     "output_type": "execute_result"
    }
   ],
   "source": [
    "adfuller(data.F1)[1]\n",
    "#não pode descartar  h0 (MGB)"
   ]
  },
  {
   "cell_type": "code",
   "execution_count": null,
   "metadata": {},
   "outputs": [],
   "source": []
  }
 ],
 "metadata": {
  "kernelspec": {
   "display_name": "Python 3",
   "language": "python",
   "name": "python3"
  },
  "language_info": {
   "codemirror_mode": {
    "name": "ipython",
    "version": 3
   },
   "file_extension": ".py",
   "mimetype": "text/x-python",
   "name": "python",
   "nbconvert_exporter": "python",
   "pygments_lexer": "ipython3",
   "version": "3.7.4"
  }
 },
 "nbformat": 4,
 "nbformat_minor": 2
}
