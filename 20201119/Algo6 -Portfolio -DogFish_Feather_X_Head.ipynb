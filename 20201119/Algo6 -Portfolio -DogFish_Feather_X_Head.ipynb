{
 "cells": [
  {
   "cell_type": "markdown",
   "metadata": {},
   "source": [
    "### Portfolio of Oil Exploration Assets: Learning Options, Sequential Drilling Options and Defer Options \n",
    "####  Marco Antonio Guimarães Dias, \n",
    "#### Luigi de Magalhães Detomi Calvette\n",
    "##### RO Congress - Boston 2017\n"
   ]
  },
  {
   "cell_type": "markdown",
   "metadata": {},
   "source": [
    "[Paper](http://www.realoptions.org/openconf2017/data/papers/57.pdf)"
   ]
  },
  {
   "cell_type": "code",
   "execution_count": 1,
   "metadata": {},
   "outputs": [],
   "source": [
    "import numpy as np\n",
    "import pandas as pd\n",
    "import matplotlib.pyplot as plt\n",
    "%matplotlib inline\n",
    "import seaborn as sns\n",
    "import scipy as sci\n",
    "from scipy.stats import norm\n",
    "import time\n",
    "import winsound"
   ]
  },
  {
   "cell_type": "code",
   "execution_count": null,
   "metadata": {},
   "outputs": [],
   "source": []
  },
  {
   "cell_type": "code",
   "execution_count": 2,
   "metadata": {},
   "outputs": [],
   "source": [
    "\n",
    "duration = 1000  # milliseconds\n",
    "freq = 440  # Hz"
   ]
  },
  {
   "cell_type": "code",
   "execution_count": 3,
   "metadata": {},
   "outputs": [
    {
     "data": {
      "text/html": [
       "<div>\n",
       "<style scoped>\n",
       "    .dataframe tbody tr th:only-of-type {\n",
       "        vertical-align: middle;\n",
       "    }\n",
       "\n",
       "    .dataframe tbody tr th {\n",
       "        vertical-align: top;\n",
       "    }\n",
       "\n",
       "    .dataframe thead th {\n",
       "        text-align: right;\n",
       "    }\n",
       "</style>\n",
       "<table border=\"1\" class=\"dataframe\">\n",
       "  <thead>\n",
       "    <tr style=\"text-align: right;\">\n",
       "      <th>Type</th>\n",
       "      <th>Head</th>\n",
       "    </tr>\n",
       "  </thead>\n",
       "  <tbody>\n",
       "    <tr>\n",
       "      <td>CF</td>\n",
       "      <td>0.20</td>\n",
       "    </tr>\n",
       "    <tr>\n",
       "      <td>I_w</td>\n",
       "      <td>80.00</td>\n",
       "    </tr>\n",
       "    <tr>\n",
       "      <td>q</td>\n",
       "      <td>0.18</td>\n",
       "    </tr>\n",
       "    <tr>\n",
       "      <td>B</td>\n",
       "      <td>950.00</td>\n",
       "    </tr>\n",
       "    <tr>\n",
       "      <td>Owner</td>\n",
       "      <td>1.00</td>\n",
       "    </tr>\n",
       "  </tbody>\n",
       "</table>\n",
       "</div>"
      ],
      "text/plain": [
       "Type     Head\n",
       "CF       0.20\n",
       "I_w     80.00\n",
       "q        0.18\n",
       "B      950.00\n",
       "Owner    1.00"
      ]
     },
     "execution_count": 3,
     "metadata": {},
     "output_type": "execute_result"
    }
   ],
   "source": [
    "#Importar Case \n",
    "case=pd.read_csv(\"Case_Guy_Head.csv\", sep=';')\n",
    "case.set_index('Type', inplace=True)\n",
    "case=case.astype(float).T\n",
    "case"
   ]
  },
  {
   "cell_type": "code",
   "execution_count": 4,
   "metadata": {},
   "outputs": [],
   "source": [
    "###Dados de Entrada###\n",
    "r=0.03\n",
    "delta=0.038\n",
    "sigma=0.3\n",
    "tau=3\n",
    "P=50\n",
    "rho=0.5\n",
    "CF=case.iloc[0,0]\n",
    "q=case.iloc[2,0]\n",
    "B=case.iloc[3,0]\n",
    "Iw=case.iloc[1,0]\n",
    "Id=B*5.35 + 650"
   ]
  },
  {
   "cell_type": "code",
   "execution_count": 5,
   "metadata": {},
   "outputs": [
    {
     "name": "stdout",
     "output_type": "stream",
     "text": [
      "50 0.2 0.18 950.0 80.0 5732.5\n"
     ]
    }
   ],
   "source": [
    "print(P,CF,q,B,Iw,Id)"
   ]
  },
  {
   "cell_type": "code",
   "execution_count": 6,
   "metadata": {},
   "outputs": [
    {
     "data": {
      "text/html": [
       "<div>\n",
       "<style scoped>\n",
       "    .dataframe tbody tr th:only-of-type {\n",
       "        vertical-align: middle;\n",
       "    }\n",
       "\n",
       "    .dataframe tbody tr th {\n",
       "        vertical-align: top;\n",
       "    }\n",
       "\n",
       "    .dataframe thead th {\n",
       "        text-align: right;\n",
       "    }\n",
       "</style>\n",
       "<table border=\"1\" class=\"dataframe\">\n",
       "  <thead>\n",
       "    <tr style=\"text-align: right;\">\n",
       "      <th>Type</th>\n",
       "      <th>DogFish</th>\n",
       "    </tr>\n",
       "  </thead>\n",
       "  <tbody>\n",
       "    <tr>\n",
       "      <td>CF</td>\n",
       "      <td>0.3</td>\n",
       "    </tr>\n",
       "    <tr>\n",
       "      <td>I_w</td>\n",
       "      <td>80.0</td>\n",
       "    </tr>\n",
       "    <tr>\n",
       "      <td>q</td>\n",
       "      <td>0.2</td>\n",
       "    </tr>\n",
       "    <tr>\n",
       "      <td>B</td>\n",
       "      <td>620.0</td>\n",
       "    </tr>\n",
       "    <tr>\n",
       "      <td>Owner</td>\n",
       "      <td>0.0</td>\n",
       "    </tr>\n",
       "  </tbody>\n",
       "</table>\n",
       "</div>"
      ],
      "text/plain": [
       "Type   DogFish\n",
       "CF         0.3\n",
       "I_w       80.0\n",
       "q          0.2\n",
       "B        620.0\n",
       "Owner      0.0"
      ]
     },
     "execution_count": 6,
     "metadata": {},
     "output_type": "execute_result"
    }
   ],
   "source": [
    "#Importar Case 1 - DogFish\n",
    "case1=pd.read_csv(\"Case_Guy_DogFish.csv\", sep=';')\n",
    "case1.set_index('Type', inplace=True)\n",
    "case1=case1.astype(float).T\n",
    "case1"
   ]
  },
  {
   "cell_type": "code",
   "execution_count": 7,
   "metadata": {},
   "outputs": [
    {
     "name": "stdout",
     "output_type": "stream",
     "text": [
      "50 0.3 0.2 620.0 80.0 3967.0\n"
     ]
    }
   ],
   "source": [
    "CF1=case1.iloc[0,0]\n",
    "q1=case1.iloc[2,0]\n",
    "B1=case1.iloc[3,0]\n",
    "Iw1=case1.iloc[1,0]\n",
    "Id1=B1*5.35 + 650\n",
    "print(P,CF1,q1,B1,Iw1,Id1)"
   ]
  },
  {
   "cell_type": "code",
   "execution_count": 8,
   "metadata": {},
   "outputs": [],
   "source": [
    "def sinal(CF,CF1,rho):\n",
    "    \n",
    "    CF_ins=CF -rho*np.sqrt((CF1 - CF1**2)*(CF-CF**2))/(1-CF1)\n",
    "    CF_s=CF +rho*np.sqrt((CF1 - CF1**2)*(CF-CF**2))/CF1\n",
    "    \n",
    "    return CF_ins,CF_s\n"
   ]
  },
  {
   "cell_type": "code",
   "execution_count": 9,
   "metadata": {},
   "outputs": [],
   "source": [
    "def vme(CF,q,P,B,delta,Id,Iw,r):\n",
    "    #VPL=P*case.iloc[2,0]*case.iloc[3,0] - (case.iloc[3,0]*5.35 + 650)*P/50\n",
    "    VPL=P*q*B*np.exp(-2*delta) - Id*np.exp(-2*r)\n",
    "    #c=0.047*P+3\n",
    "    #VPL=P*case.iloc[2,0]*case.iloc[3,0] - (case.iloc[3,0]*c + 650)\n",
    "    \n",
    "    vme=CF*VPL - Iw\n",
    "    #vme=np.maximum(0,vme)\n",
    "    ### retorna   VME, Valor, Investimento, (valor - FC*Id), Id+Iw\n",
    "    return vme, CF*VPL, Iw, CF*P*q*B,CF*Id*np.exp(-2*r) +Iw "
   ]
  },
  {
   "cell_type": "code",
   "execution_count": 10,
   "metadata": {},
   "outputs": [
    {
     "data": {
      "text/plain": [
       "(425.1226754622025,\n",
       " 505.1226754622025,\n",
       " 80.0,\n",
       " 1709.9999999999998,\n",
       " 1159.7330377543412)"
      ]
     },
     "execution_count": 10,
     "metadata": {},
     "output_type": "execute_result"
    }
   ],
   "source": [
    "vme(CF,q,P,B,delta,Id,Iw,r)"
   ]
  },
  {
   "cell_type": "code",
   "execution_count": 11,
   "metadata": {},
   "outputs": [
    {
     "data": {
      "text/plain": [
       "(523.0841727818366, 603.0841727818366, 80.0, 1860.0, 1200.7939714186143)"
      ]
     },
     "execution_count": 11,
     "metadata": {},
     "output_type": "execute_result"
    }
   ],
   "source": [
    "vme(CF1,q1,P,B1,delta,Id1,Iw1,r)"
   ]
  },
  {
   "cell_type": "code",
   "execution_count": 12,
   "metadata": {},
   "outputs": [],
   "source": [
    "#####Valor Beta e Valor Crítico####\n",
    "def vcritico(I,r,div,sigma,tau):\n",
    "    if tau <=0:\n",
    "        vcrit=I\n",
    "        beta= 0.5 -(r-div)/(sigma**2) + np.sqrt(np.power(((r-div)/(sigma**2)) - 0.5,2) +((2*r)/(sigma**2)))\n",
    "    else:\n",
    "        if div<=0:\n",
    "            print(\"Faça um BSM\")\n",
    "        else:\n",
    "            \n",
    "            beta= 0.5 -(r-div)/(sigma**2) + np.sqrt(np.power(((r-div)/sigma**2) -0.5,2) +((2*r)/(sigma**2)))\n",
    "            V_perp= I*(beta/(beta-1))\n",
    "            V_0=np.maximum(I, (r/div)*I)\n",
    "            ht= -1*((r-div)*tau + 2*sigma*np.sqrt(tau))*(V_0/(V_perp - V_0))\n",
    "            vcrit= V_0 + (V_perp - V_0)*(1- np.exp(ht))\n",
    "    return[beta,vcrit, V_perp]\n",
    "            \n",
    "        \n",
    "        "
   ]
  },
  {
   "cell_type": "code",
   "execution_count": 13,
   "metadata": {},
   "outputs": [],
   "source": [
    "####Método Black Merton e Scholes\n",
    "def bsm(V,I,r,div,sigma,tau):\n",
    "    #Opção de Compra Europeia com dividendos - Merton\n",
    "    \n",
    "\n",
    "    if tau <=0:\n",
    "        call=np.maximum(V-I,0)\n",
    "        put=np.maximum(I-V,0)\n",
    "    else:\n",
    "        h1=(np.log(V/I) + ((r-div) +(0.5*np.power(sigma,2)))*tau)/(sigma*np.sqrt(tau))\n",
    "        h2=h1 -sigma*np.sqrt(tau)\n",
    "        \n",
    "        call= V*np.exp(-div*tau)*norm.cdf(h1) -I*np.exp(-r*tau)*norm.cdf(h2)\n",
    "        put= call + (np.exp(-r*tau)*I - V*np.exp(-div*tau))\n",
    "        put2= I*np.exp(-r*tau)*(1- norm.cdf(h2)) - V*np.exp(-div*tau)*(1-norm.cdf(h1))\n",
    "    #return[call, put, norm.cdf(h1), norm.cdf(h2),put2]\n",
    "    return[call, put]\n",
    "\n",
    "\n",
    "\n"
   ]
  },
  {
   "cell_type": "code",
   "execution_count": 14,
   "metadata": {},
   "outputs": [],
   "source": [
    "###Função probabilidade para cálculo do gatilho pelo método de aproximação analítica\n",
    "def prob(V,tau,gama,h,vcrit,r,div,sigma):\n",
    "    ####Função probabilidade\n",
    "    lamba=(-r +(gama*(r-div)) +0.5*gama*(gama-1)*sigma**2)*tau\n",
    "    dist= -(np.log(V/h)+((r-div)+(gama - 0.5)*sigma**2)*tau)/(sigma*np.sqrt(tau))\n",
    "    kappa= (2*gama -1) +  2*(r-div)/(sigma**2)\n",
    "    prob=np.exp(lamba)*(V**gama)*(norm.cdf(dist) - ((vcrit/V)**kappa)*(norm.cdf(dist -(2*np.log(vcrit/V))/(sigma*np.sqrt(tau)))))\n",
    "    \n",
    "    return[prob]\n",
    "    "
   ]
  },
  {
   "cell_type": "code",
   "execution_count": 15,
   "metadata": {},
   "outputs": [],
   "source": [
    "### Método Bjerksund e Stensland (1993) - saida - Derivativo, Gatilho e V_0\n",
    "def bjst(V,I,r,div,sigma,tau):\n",
    "    #### Call americana\n",
    "    if div <=0: #igual a call europeia\n",
    "        bs=bsm(V,I,r,div,sigma,tau)[0]\n",
    "    else:\n",
    "        beta=vcritico(I,r,div,sigma,tau)[0]\n",
    "        vcrit=vcritico(I,r,div,sigma,tau)[1]\n",
    "        alpha= (vcrit - I)*vcrit**(-beta)\n",
    "        \n",
    "        if V>= vcrit:\n",
    "            bs=V-I\n",
    "        else:\n",
    "            bs= alpha*V**beta -alpha*prob(V,tau,beta,vcrit,vcrit,r,div,sigma)[0]+prob(V,tau,1,vcrit,vcrit,r,div,sigma)[0]-prob(V,tau,1,I,vcrit,r,div,sigma)[0]-I*prob(V,tau,0,vcrit,vcrit,r,div,sigma)[0]+I*prob(V,tau,0,I,vcrit,r,div,sigma)[0]\n",
    "    \n",
    "    return[bs, vcrit, V]\n",
    "    \n",
    "    "
   ]
  },
  {
   "cell_type": "code",
   "execution_count": 16,
   "metadata": {},
   "outputs": [],
   "source": [
    "##################################################3\n",
    "#####################################################\n",
    "###########Solucao e_ DF ##############\n"
   ]
  },
  {
   "cell_type": "code",
   "execution_count": 17,
   "metadata": {},
   "outputs": [],
   "source": [
    "def diffinexpcart(P,I,r,div,sigma,tau,accur):\n",
    "    #############################################################\n",
    "    #######Método por diferenças finitas explícitas##############\n",
    "    #accur=0.05  #Porcentagem de acurácia\n",
    "    \n",
    "    #####Solução por diferenças finita explícitas###\n",
    "    #Precisão em e intervalo da célula em V\n",
    "    deltaP=P*accur\n",
    "    \n",
    "    # M são as divisões do grid em V\n",
    "    #Perpetuidade vcritico não esta na programacao\n",
    "    #M= int(1.1*vcritico(I,r,div,sigma,tau)[2]/deltaV) # Max é 10% acima do gatilho em perpetuidade. Vcrit- com gati precisa de tau\n",
    "    M=int(2*vcritico(I,r,div,sigma,tau)[2]/deltaP)\n",
    "    #M=int(3*P/deltaP)\n",
    "    #PGrid=int(P/deltaP) #Ponto do grid onde esta P_0. \n",
    "    #deltat= (deltaP**2)/((sigma**2)*((3*I)**2)) #Convergência: Critério do peso central >=0. Pmax=3I ><1.1Gatilho_perp\n",
    "    deltat= (deltaP**2)/((sigma**2)*((3*I)**2))\n",
    "    N= int(tau/deltat) +1\n",
    "    \n",
    "    df=1/(1+(r*deltat)) # fator de desconto\n",
    "    \n",
    "    \n",
    "    #Vetor Pt\n",
    "    Pt=np.zeros(M+1)\n",
    "    Gatilho=np.zeros((N+1))\n",
    "    F=np.zeros((N+1,M+1))\n",
    "    deltat=tau/N\n",
    "    for i in range(M+1):\n",
    "        Pt[i]= i*deltaP\n",
    "        F[N,i]=np.maximum(Pt[i]-I,0) \n",
    "    Gatilho[N]=I\n",
    "        #Gatilho[N]=I\n",
    "    \n",
    "    \n",
    "    #print(PGrid,Pt.shape)\n",
    "    PGrid=np.where(np.round(Pt,2)==np.round(P,2))[0][0]\n",
    "    ##############Loop################\n",
    "    for j in range(N-1,-1,-1): #de N-1 até zero(-1) pulando em -1\n",
    "        for i in range(1,M,1): # de 1 até M-1 pulando em 1\n",
    "            pu= 0.5*((sigma**2)*(i**2) + ((r - div)*i))*deltat\n",
    "            pm = 1 - (sigma**2)*(i**2)*deltat\n",
    "            pdown = 0.5*((sigma**2)*(i**2) - ((r - div)*i))*deltat\n",
    "            F[j,i]= df*(pu*F[j+1,i+1] + pm*F[j+1,i] + pdown*F[j+1,i - 1])\n",
    "            \n",
    "            ###Vetor Gatilho####\n",
    "            if F[j,i]<Pt[i]-I  and F[j,i-1]>Pt[i-1]-I :\n",
    "                Gatilho[j]=(Pt[i-1] +Pt[i])*.5\n",
    "            F[j,i]=np.maximum(Pt[i]-I,F[j,i])\n",
    "            \n",
    "           \n",
    "        \n",
    "        F[j,0]=0\n",
    "        F[j,M]=Pt[i]-I\n",
    "        \n",
    "    T=np.linspace(0,tau,num=N+1)\n",
    "    return[F[0,PGrid],PGrid,F,T,Pt,Gatilho]\n",
    "\n"
   ]
  },
  {
   "cell_type": "code",
   "execution_count": 18,
   "metadata": {},
   "outputs": [],
   "source": [
    "accur=0.005"
   ]
  },
  {
   "cell_type": "code",
   "execution_count": 19,
   "metadata": {},
   "outputs": [],
   "source": [
    "\n",
    "V_cf=CF*P*q*B*np.exp(-2*delta)\n",
    "Id_cf=CF*Id*np.exp(-2*r)\n"
   ]
  },
  {
   "cell_type": "code",
   "execution_count": 20,
   "metadata": {},
   "outputs": [
    {
     "name": "stdout",
     "output_type": "stream",
     "text": [
      "minutos- 5.098897727330526\n"
     ]
    }
   ],
   "source": [
    "start=time.time()\n",
    "opcao,PGrid,mapa,tempo,preco,gatilho=diffinexpcart(V_cf,Id_cf+Iw,r,delta,sigma,tau,accur)\n",
    "cpu=time.time()-start\n",
    "print('minutos-',cpu/60)\n",
    "\n",
    "winsound.Beep(freq, duration)\n"
   ]
  },
  {
   "cell_type": "code",
   "execution_count": 21,
   "metadata": {},
   "outputs": [
    {
     "data": {
      "text/plain": [
       "(1584.8557132165433, 1584.8557132165433)"
      ]
     },
     "execution_count": 21,
     "metadata": {},
     "output_type": "execute_result"
    }
   ],
   "source": [
    "V_cf, preco[PGrid]"
   ]
  },
  {
   "cell_type": "code",
   "execution_count": 22,
   "metadata": {},
   "outputs": [],
   "source": [
    "preco=preco/(CF*q*B*np.exp(-2*delta))"
   ]
  },
  {
   "cell_type": "code",
   "execution_count": 23,
   "metadata": {},
   "outputs": [],
   "source": [
    "g=gatilho/(CF*q*B*np.exp(-2*delta))"
   ]
  },
  {
   "cell_type": "code",
   "execution_count": 24,
   "metadata": {},
   "outputs": [
    {
     "name": "stdout",
     "output_type": "stream",
     "text": [
      "gatilho é: 73.125\n",
      "opcao vale: 497.7179544810564\n"
     ]
    },
    {
     "data": {
      "text/plain": [
       "[<matplotlib.lines.Line2D at 0x10da1f89888>]"
      ]
     },
     "execution_count": 24,
     "metadata": {},
     "output_type": "execute_result"
    },
    {
     "data": {
      "image/png": "[encoded data removed]",
      "text/plain": [
       "<Figure size 432x288 with 1 Axes>"
      ]
     },
     "metadata": {
      "needs_background": "light"
     },
     "output_type": "display_data"
    }
   ],
   "source": [
    "print('gatilho é:',gatilho[0]/(CF*q*B*np.exp(-2*delta)))\n",
    "print('opcao vale:', opcao)\n",
    "#plt.plot(tempo[:-1],g[:-1], ls='--')\n",
    "plt.plot(tempo,g, ls='--')\n"
   ]
  },
  {
   "cell_type": "code",
   "execution_count": 25,
   "metadata": {},
   "outputs": [
    {
     "data": {
      "text/plain": [
       "(-5, 80)"
      ]
     },
     "execution_count": 25,
     "metadata": {},
     "output_type": "execute_result"
    },
    {
     "data": {
      "image/png": "[encoded data removed]",
      "text/plain": [
       "<Figure size 720x360 with 1 Axes>"
      ]
     },
     "metadata": {
      "needs_background": "light"
     },
     "output_type": "display_data"
    }
   ],
   "source": [
    "fig,ax=plt.subplots(figsize=(10,5))\n",
    "ax.plot(preco,mapa[0,:], ls='--')\n",
    "\n",
    "#ax.plot(preco,venc, ls='--')\n",
    "ax.plot(preco,mapa[-1,:], ls='--')\n",
    "\n",
    "plt.legend(['Opção_0','Opção_vencimento'])\n",
    "ax.set_title('Opções de Explorar - Head')\n",
    "ax.set_ylabel('Valor da Opção (M\\$)')\n",
    "ax.set_xlabel('Preço do Petróleo (\\$/bbl)')\n",
    "\n",
    "ax.set_ylim(-5,1400)\n",
    "ax.set_xlim(-5,80)\n",
    "\n"
   ]
  },
  {
   "cell_type": "code",
   "execution_count": 26,
   "metadata": {},
   "outputs": [
    {
     "data": {
      "text/plain": [
       "(0.06906926585840459, 0.5055050463303894)"
      ]
     },
     "execution_count": 26,
     "metadata": {},
     "output_type": "execute_result"
    }
   ],
   "source": [
    "sinal(CF,CF1,rho)"
   ]
  },
  {
   "cell_type": "code",
   "execution_count": 27,
   "metadata": {},
   "outputs": [],
   "source": [
    "\n",
    "V_inv=P*q*B*np.exp(-2*delta)\n",
    "Id_inv=Id*np.exp(-2*r)\n"
   ]
  },
  {
   "cell_type": "code",
   "execution_count": 28,
   "metadata": {},
   "outputs": [
    {
     "name": "stdout",
     "output_type": "stream",
     "text": [
      "minutos- 3.836642615000407\n"
     ]
    }
   ],
   "source": [
    "start=time.time()\n",
    "opcao_inv,PGrid_inv,mapa_inv,tempo_inv,preco_inv,gatilho_inv=diffinexpcart(V_inv,Id_inv,r,delta,sigma,tau,accur)\n",
    "cpu=time.time()-start\n",
    "print('minutos-',cpu/60)\n",
    "winsound.Beep(freq, duration)\n",
    "\n"
   ]
  },
  {
   "cell_type": "code",
   "execution_count": 29,
   "metadata": {},
   "outputs": [
    {
     "data": {
      "text/plain": [
       "(7924.2785660827185, 7924.2785660827185)"
      ]
     },
     "execution_count": 29,
     "metadata": {},
     "output_type": "execute_result"
    }
   ],
   "source": [
    "V_inv, preco_inv[PGrid_inv]"
   ]
  },
  {
   "cell_type": "code",
   "execution_count": 30,
   "metadata": {},
   "outputs": [],
   "source": [
    "preco_inv=preco_inv/(q*B*np.exp(-2*delta))"
   ]
  },
  {
   "cell_type": "code",
   "execution_count": 31,
   "metadata": {},
   "outputs": [],
   "source": [
    "g_inv=gatilho_inv/(q*B*np.exp(-2*delta))"
   ]
  },
  {
   "cell_type": "code",
   "execution_count": 32,
   "metadata": {},
   "outputs": [
    {
     "name": "stdout",
     "output_type": "stream",
     "text": [
      "gatilho é: 68.125\n",
      "opcao vale: 2755.6695849420903\n"
     ]
    },
    {
     "data": {
      "text/plain": [
       "[<matplotlib.lines.Line2D at 0x10db1c8b908>]"
      ]
     },
     "execution_count": 32,
     "metadata": {},
     "output_type": "execute_result"
    },
    {
     "data": {
      "image/png": "[encoded data removed]",
      "text/plain": [
       "<Figure size 432x288 with 1 Axes>"
      ]
     },
     "metadata": {
      "needs_background": "light"
     },
     "output_type": "display_data"
    }
   ],
   "source": [
    "print('gatilho é:',g_inv[0])\n",
    "print('opcao vale:', opcao_inv)\n",
    "#plt.plot(tempo[:-1],g[:-1], ls='--')\n",
    "plt.plot(tempo_inv,g_inv, ls='--')\n"
   ]
  },
  {
   "cell_type": "code",
   "execution_count": 33,
   "metadata": {},
   "outputs": [
    {
     "data": {
      "text/plain": [
       "785"
      ]
     },
     "execution_count": 33,
     "metadata": {},
     "output_type": "execute_result"
    }
   ],
   "source": [
    "len(preco)"
   ]
  },
  {
   "cell_type": "code",
   "execution_count": 34,
   "metadata": {},
   "outputs": [],
   "source": [
    "valor_vme=[]\n",
    "for i in range(len(preco)):\n",
    "    valor_vme.append(vme(CF,q,preco[i],B,delta,Id,Iw,r)[0])\n",
    "#print(valor_vme)"
   ]
  },
  {
   "cell_type": "code",
   "execution_count": null,
   "metadata": {},
   "outputs": [],
   "source": []
  },
  {
   "cell_type": "code",
   "execution_count": 35,
   "metadata": {},
   "outputs": [
    {
     "data": {
      "text/plain": [
       "Text(0.5, 0, 'Preço do Petróleo (\\\\$/bbl)')"
      ]
     },
     "execution_count": 35,
     "metadata": {},
     "output_type": "execute_result"
    },
    {
     "data": {
      "image/png": "[encoded data removed]",
      "text/plain": [
       "<Figure size 720x360 with 1 Axes>"
      ]
     },
     "metadata": {
      "needs_background": "light"
     },
     "output_type": "display_data"
    }
   ],
   "source": [
    "fig,ax=plt.subplots(figsize=(10,5))\n",
    "\n",
    "ax.plot(preco,mapa[0,:], ls='--')\n",
    "ax.plot(preco,valor_vme, ls='--')\n",
    "ax.plot(preco_inv,CF*mapa_inv[0,:] - Iw, ls='--')\n",
    "\n",
    "ax.axhline(0, linestyle='-', color='grey')\n",
    "\n",
    "\n",
    "\n",
    "#ax.plot(preco,venc, ls='--')\n",
    "#ax.plot(preco_inv/(0.1*300*np.exp(-2*delta)),mapa_inv[-1,:], ls='--')\n",
    "\n",
    "plt.legend(['E(P,t)','VME(P)', 'VME(P,t)'])\n",
    "ax.set_ylim(-200,1400)\n",
    "ax.set_xlim(-5,80)\n",
    "ax.set_title('Métrica de Avaliação Exploratória - Head')\n",
    "\n",
    "ax.set_ylabel('Valor - (M\\$)')\n",
    "ax.set_xlabel('Preço do Petróleo (\\$/bbl)')\n",
    "\n"
   ]
  },
  {
   "cell_type": "code",
   "execution_count": 36,
   "metadata": {},
   "outputs": [],
   "source": [
    "winsound.Beep(freq,duration)\n"
   ]
  },
  {
   "cell_type": "code",
   "execution_count": 37,
   "metadata": {},
   "outputs": [
    {
     "name": "stdout",
     "output_type": "stream",
     "text": [
      "471.13391698841804\n",
      "68.125\n"
     ]
    }
   ],
   "source": [
    "VME=CF*opcao_inv -Iw\n",
    "print(VME)\n",
    "print(g_inv[0])"
   ]
  },
  {
   "cell_type": "code",
   "execution_count": 38,
   "metadata": {},
   "outputs": [],
   "source": [
    "if P>g[0]:\n",
    "    custo=VME*(1-np.exp(-r/12))\n",
    "else:\n",
    "    custo=0"
   ]
  },
  {
   "cell_type": "code",
   "execution_count": null,
   "metadata": {},
   "outputs": [],
   "source": []
  },
  {
   "cell_type": "code",
   "execution_count": 39,
   "metadata": {},
   "outputs": [],
   "source": [
    "################Calculo do VME(P,t) do GoldFish############### Necessario pois ele ser o custo da nao perfuracao"
   ]
  },
  {
   "cell_type": "code",
   "execution_count": 40,
   "metadata": {},
   "outputs": [],
   "source": [
    "\n",
    "V_inv1=P*q1*B1*np.exp(-2*delta)\n",
    "Id_inv1=Id1*np.exp(-2*r)\n"
   ]
  },
  {
   "cell_type": "code",
   "execution_count": 41,
   "metadata": {},
   "outputs": [
    {
     "name": "stdout",
     "output_type": "stream",
     "text": [
      "minutos- 3.2968588789304096\n"
     ]
    }
   ],
   "source": [
    "start=time.time()\n",
    "opcao_inv1,PGrid_inv1,mapa_inv1,tempo_inv1,preco_inv1,gatilho_inv1=diffinexpcart(V_inv1,Id_inv1,r,delta,sigma,tau,accur)\n",
    "cpu=time.time()-start\n",
    "print('minutos-',cpu/60)\n",
    "winsound.Beep(freq, duration)\n",
    "\n"
   ]
  },
  {
   "cell_type": "code",
   "execution_count": 42,
   "metadata": {},
   "outputs": [
    {
     "data": {
      "text/plain": [
       "(5746.26048066817, 5746.26048066817)"
      ]
     },
     "execution_count": 42,
     "metadata": {},
     "output_type": "execute_result"
    }
   ],
   "source": [
    "V_inv1, preco_inv1[PGrid_inv1]"
   ]
  },
  {
   "cell_type": "code",
   "execution_count": 43,
   "metadata": {},
   "outputs": [],
   "source": [
    "preco_inv1=preco_inv1/(q1*B1*np.exp(-2*delta))"
   ]
  },
  {
   "cell_type": "code",
   "execution_count": 44,
   "metadata": {},
   "outputs": [],
   "source": [
    "g_inv1=gatilho_inv1/(q1*B1*np.exp(-2*delta))"
   ]
  },
  {
   "cell_type": "code",
   "execution_count": 45,
   "metadata": {},
   "outputs": [
    {
     "name": "stdout",
     "output_type": "stream",
     "text": [
      "gatilho de investir em Dog é: 64.875\n",
      "opcao de investir em Dog vale: 2127.446940079004\n"
     ]
    },
    {
     "data": {
      "text/plain": [
       "[<matplotlib.lines.Line2D at 0x10dbf830488>]"
      ]
     },
     "execution_count": 45,
     "metadata": {},
     "output_type": "execute_result"
    },
    {
     "data": {
      "image/png": "[encoded data removed]",
      "text/plain": [
       "<Figure size 432x288 with 1 Axes>"
      ]
     },
     "metadata": {
      "needs_background": "light"
     },
     "output_type": "display_data"
    }
   ],
   "source": [
    "print('gatilho de investir em Dog é:',g_inv1[0])\n",
    "print('opcao de investir em Dog vale:', opcao_inv1)\n",
    "#plt.plot(tempo[:-1],g[:-1], ls='--')\n",
    "plt.plot(tempo_inv1,g_inv1, ls='--')\n"
   ]
  },
  {
   "cell_type": "code",
   "execution_count": 46,
   "metadata": {},
   "outputs": [],
   "source": [
    "#valor_vme1=[]\n",
    "#for i in range(len(preco_inv1)):\n",
    "#    valor_vme1.append(vme(CF1,q1,preco1[i],B1,delta,Id1,Iw1,r)[0])\n",
    "#print(valor_vme)"
   ]
  },
  {
   "cell_type": "code",
   "execution_count": 47,
   "metadata": {},
   "outputs": [
    {
     "name": "stdout",
     "output_type": "stream",
     "text": [
      "471.13391698841804\n",
      "64.875\n"
     ]
    }
   ],
   "source": [
    "#############VME(P,t) do DogFish será o custo da espera do portfolio DogFish+Feather \n",
    "VME_custo=CF1*opcao_inv1 -Iw1\n",
    "print(VME)\n",
    "print(g_inv1[0])"
   ]
  },
  {
   "cell_type": "code",
   "execution_count": 48,
   "metadata": {},
   "outputs": [
    {
     "data": {
      "text/plain": [
       "Text(0.5, 0, 'Preço do Petróleo (\\\\$/bbl)')"
      ]
     },
     "execution_count": 48,
     "metadata": {},
     "output_type": "execute_result"
    },
    {
     "data": {
      "image/png": "[encoded data removed]",
      "text/plain": [
       "<Figure size 720x360 with 1 Axes>"
      ]
     },
     "metadata": {
      "needs_background": "light"
     },
     "output_type": "display_data"
    }
   ],
   "source": [
    "fig,ax=plt.subplots(figsize=(10,5))\n",
    "\n",
    "#ax.plot(preco_inv1,valor_vme1, ls='--')\n",
    "ax.plot(preco_inv1,CF1*mapa_inv1[0,:] - Iw1, ls='--')\n",
    "\n",
    "ax.axhline(0, linestyle='-', color='grey')\n",
    "\n",
    "\n",
    "\n",
    "#ax.plot(preco,venc, ls='--')\n",
    "#ax.plot(preco_inv/(0.1*300*np.exp(-2*delta)),mapa_inv[-1,:], ls='--')\n",
    "\n",
    "plt.legend(['VME(P,t)'])\n",
    "ax.set_ylim(-200,1400)\n",
    "ax.set_xlim(-5,80)\n",
    "ax.set_title('Métrica de Avaliação Exploratória VME(P,t)- GodFish')\n",
    "\n",
    "ax.set_ylabel('Valor - (M\\$)')\n",
    "ax.set_xlabel('Preço do Petróleo (\\$/bbl)')\n",
    "\n"
   ]
  },
  {
   "cell_type": "code",
   "execution_count": 49,
   "metadata": {},
   "outputs": [],
   "source": [
    "######################################################\n",
    "####Importar opcoa de explorar - E(P,t) -  do portfolio DogFish + Feather###\n",
    "#################################Interpolar para preco_inv#####"
   ]
  },
  {
   "cell_type": "code",
   "execution_count": 50,
   "metadata": {},
   "outputs": [],
   "source": [
    "opcao_port=np.loadtxt('Port_Explorar_opcao_dog_feather.txt')\n",
    "preco_port=np.loadtxt('Port_Explorar_preco_dog_feather.txt')"
   ]
  },
  {
   "cell_type": "code",
   "execution_count": 51,
   "metadata": {},
   "outputs": [],
   "source": [
    "opcao_port_interp=np.interp(preco_inv,preco_port,opcao_port)\n"
   ]
  },
  {
   "cell_type": "code",
   "execution_count": 52,
   "metadata": {},
   "outputs": [],
   "source": [
    "######################################################\n",
    "####Importar VME(P,t) do portfolio DogFish + Feather###\n",
    "#################################Interpolar para preco_inv#####"
   ]
  },
  {
   "cell_type": "code",
   "execution_count": 53,
   "metadata": {},
   "outputs": [],
   "source": [
    "vme_opcao_port=np.loadtxt('Port_VME_opcao_dog_feather.txt')\n",
    "vme_preco_port=np.loadtxt('Port_VME_preco_dog_feather.txt')"
   ]
  },
  {
   "cell_type": "code",
   "execution_count": 54,
   "metadata": {},
   "outputs": [],
   "source": [
    "vme_port_interp=np.interp(preco_inv,vme_preco_port,vme_opcao_port)\n"
   ]
  },
  {
   "cell_type": "code",
   "execution_count": 55,
   "metadata": {},
   "outputs": [
    {
     "data": {
      "text/plain": [
       "Text(0.5, 0, 'Preço do Petróleo (\\\\$/bbl)')"
      ]
     },
     "execution_count": 55,
     "metadata": {},
     "output_type": "execute_result"
    },
    {
     "data": {
      "image/png": "[encoded data removed]",
      "text/plain": [
       "<Figure size 720x360 with 1 Axes>"
      ]
     },
     "metadata": {
      "needs_background": "light"
     },
     "output_type": "display_data"
    }
   ],
   "source": [
    "fig,ax=plt.subplots(figsize=(10,5))\n",
    "\n",
    "ax.plot(preco_inv,vme_port_interp, ls='--')\n",
    "ax.plot(preco_inv,opcao_port_interp, ls='--')\n",
    "ax.axhline(0, linestyle='-', color='grey')\n",
    "\n",
    "\n",
    "\n",
    "#ax.plot(preco,venc, ls='--')\n",
    "#ax.plot(preco_inv/(0.1*300*np.exp(-2*delta)),mapa_inv[-1,:], ls='--')\n",
    "\n",
    "plt.legend([ 'VME(P,t)','E(P,t)'])\n",
    "#ax.set_ylim(-200,1400)\n",
    "ax.set_xlim(0,100)\n",
    "ax.set_title('Métrica de Avaliação Exploratória - Portfolio')\n",
    "\n",
    "ax.set_ylabel('Valor - (M\\$)')\n",
    "ax.set_xlabel('Preço do Petróleo (\\$/bbl)')\n",
    "\n"
   ]
  },
  {
   "cell_type": "code",
   "execution_count": 56,
   "metadata": {},
   "outputs": [
    {
     "name": "stdout",
     "output_type": "stream",
     "text": [
      "73.0\n"
     ]
    }
   ],
   "source": [
    "###Gatilho VME(P,t)=Opcao\n",
    "gatilho_port=preco_inv[opcao_port_interp-vme_port_interp<0.0001][0]\n",
    "print(gatilho_port)"
   ]
  },
  {
   "cell_type": "code",
   "execution_count": 57,
   "metadata": {},
   "outputs": [],
   "source": [
    "if P>gatilho_port:  # gatilho do portfólio DogFish + Feather - não é o gatilgo do dogFish\n",
    "    custo1=VME_custo*(1-np.exp(-r/12))\n",
    "else:\n",
    "    custo1=0"
   ]
  },
  {
   "cell_type": "code",
   "execution_count": 58,
   "metadata": {},
   "outputs": [],
   "source": [
    "###########3Informação para o portfolio DogFish + Feather - vinda do Head###############"
   ]
  },
  {
   "cell_type": "code",
   "execution_count": 59,
   "metadata": {},
   "outputs": [],
   "source": [
    "opcao_port_pos=np.loadtxt('Port_Explorar_pos_opcao_dog_feather.txt')\n",
    "preco_port_pos=np.loadtxt('Port_Explorar_pos_preco_dog_feather.txt')"
   ]
  },
  {
   "cell_type": "code",
   "execution_count": 60,
   "metadata": {},
   "outputs": [],
   "source": [
    "opcao_port_pos_interp=np.interp(preco_inv,preco_port_pos,opcao_port_pos)\n"
   ]
  },
  {
   "cell_type": "code",
   "execution_count": 61,
   "metadata": {},
   "outputs": [],
   "source": [
    "opcao_port_neg=np.loadtxt('Port_Explorar_neg_opcao_dog_feather.txt')\n",
    "preco_port_neg=np.loadtxt('Port_Explorar_neg_preco_dog_feather.txt')"
   ]
  },
  {
   "cell_type": "code",
   "execution_count": 62,
   "metadata": {},
   "outputs": [],
   "source": [
    "opcao_port_neg_interp=np.interp(preco_inv,preco_port_neg,opcao_port_neg)\n"
   ]
  },
  {
   "cell_type": "code",
   "execution_count": 63,
   "metadata": {},
   "outputs": [],
   "source": [
    "###Criar a esperaca da informação - Porfólio DogFish+ Feather ponderado pela chance do evento Head"
   ]
  },
  {
   "cell_type": "code",
   "execution_count": 64,
   "metadata": {},
   "outputs": [],
   "source": [
    "F_zero1=CF*opcao_port_pos_interp+ (1-CF)*opcao_port_neg_interp\n"
   ]
  },
  {
   "cell_type": "code",
   "execution_count": null,
   "metadata": {},
   "outputs": [],
   "source": []
  },
  {
   "cell_type": "code",
   "execution_count": 65,
   "metadata": {},
   "outputs": [],
   "source": [
    "###Renomear para ficar igual ao Algo 3 e 4\n",
    "\n",
    "L_zero1=vme_port_interp\n",
    "#Exp_zero1=opcao_port_pos_interp\n",
    "Exp_zero1=opcao_port_interp"
   ]
  },
  {
   "cell_type": "code",
   "execution_count": 66,
   "metadata": {},
   "outputs": [
    {
     "data": {
      "text/plain": [
       "<matplotlib.legend.Legend at 0x10dc0970d48>"
      ]
     },
     "execution_count": 66,
     "metadata": {},
     "output_type": "execute_result"
    },
    {
     "data": {
      "image/png": "[encoded data removed]",
      "text/plain": [
       "<Figure size 432x288 with 1 Axes>"
      ]
     },
     "metadata": {
      "needs_background": "light"
     },
     "output_type": "display_data"
    }
   ],
   "source": [
    "plt.plot(L_zero1[0:300])\n",
    "plt.plot(F_zero1[0:300])\n",
    "\n",
    "plt.legend(['L','F'])"
   ]
  },
  {
   "cell_type": "code",
   "execution_count": 67,
   "metadata": {},
   "outputs": [
    {
     "data": {
      "text/plain": [
       "array([ True,  True,  True,  True,  True,  True,  True,  True,  True,\n",
       "        True,  True,  True,  True,  True,  True,  True,  True,  True,\n",
       "        True,  True,  True,  True,  True,  True,  True,  True,  True,\n",
       "        True,  True,  True,  True,  True,  True,  True,  True,  True,\n",
       "        True,  True,  True,  True,  True,  True,  True,  True,  True,\n",
       "        True,  True,  True,  True,  True,  True,  True,  True,  True,\n",
       "        True,  True,  True,  True,  True,  True,  True,  True,  True,\n",
       "        True,  True,  True,  True,  True,  True,  True,  True,  True,\n",
       "        True,  True,  True,  True,  True,  True,  True,  True,  True,\n",
       "        True,  True,  True,  True,  True,  True,  True,  True,  True,\n",
       "        True,  True,  True,  True,  True,  True,  True,  True,  True,\n",
       "        True,  True,  True,  True,  True,  True,  True,  True,  True,\n",
       "        True,  True,  True,  True,  True,  True,  True,  True,  True,\n",
       "        True,  True,  True,  True,  True,  True,  True,  True,  True,\n",
       "        True,  True,  True,  True,  True,  True,  True,  True,  True,\n",
       "        True,  True,  True,  True,  True,  True,  True,  True,  True,\n",
       "        True,  True,  True,  True,  True,  True,  True,  True,  True,\n",
       "        True,  True,  True,  True,  True,  True,  True,  True,  True,\n",
       "        True,  True,  True,  True,  True,  True,  True,  True,  True,\n",
       "        True,  True,  True,  True,  True,  True,  True,  True,  True,\n",
       "        True,  True,  True,  True,  True,  True,  True,  True,  True,\n",
       "        True,  True,  True,  True,  True,  True,  True,  True,  True,\n",
       "        True,  True,  True,  True,  True,  True,  True,  True,  True,\n",
       "        True,  True,  True,  True,  True,  True,  True,  True,  True,\n",
       "        True,  True,  True,  True,  True,  True,  True,  True,  True,\n",
       "        True,  True,  True,  True,  True,  True,  True,  True,  True,\n",
       "        True,  True,  True,  True,  True,  True,  True,  True,  True,\n",
       "        True,  True,  True,  True,  True,  True,  True,  True,  True,\n",
       "        True,  True,  True,  True,  True,  True,  True,  True,  True,\n",
       "        True,  True,  True,  True,  True,  True,  True,  True,  True,\n",
       "        True,  True,  True,  True,  True,  True,  True,  True,  True,\n",
       "        True,  True,  True,  True,  True,  True,  True,  True,  True,\n",
       "        True,  True,  True,  True,  True,  True,  True,  True,  True,\n",
       "        True,  True,  True,  True,  True,  True,  True,  True,  True,\n",
       "        True,  True,  True,  True,  True, False, False, False, False,\n",
       "       False, False, False, False, False, False, False, False, False,\n",
       "       False, False, False, False, False, False, False, False, False,\n",
       "       False, False, False, False, False, False, False, False, False,\n",
       "       False, False, False, False, False, False, False, False, False,\n",
       "       False, False, False, False, False, False, False, False, False,\n",
       "       False, False, False, False, False, False, False, False, False,\n",
       "       False, False, False, False, False, False, False, False, False,\n",
       "       False, False, False, False, False, False, False, False, False,\n",
       "       False, False, False, False, False, False, False, False, False,\n",
       "       False, False, False, False, False, False, False, False, False,\n",
       "       False, False, False, False, False, False, False, False, False,\n",
       "       False, False, False, False, False, False, False, False, False,\n",
       "       False, False, False, False, False, False, False, False, False,\n",
       "       False, False, False, False, False, False, False, False, False,\n",
       "       False, False, False, False, False, False, False, False, False,\n",
       "       False, False, False, False, False, False, False, False, False,\n",
       "       False, False, False, False, False, False, False, False, False,\n",
       "       False, False, False, False, False, False, False, False, False,\n",
       "       False, False, False, False, False, False, False, False, False,\n",
       "       False, False, False, False, False, False, False, False, False,\n",
       "       False, False, False, False, False, False, False, False, False,\n",
       "       False, False, False, False, False, False, False, False, False,\n",
       "       False, False, False, False, False, False, False, False, False,\n",
       "       False, False, False, False, False, False, False, False, False,\n",
       "       False, False, False, False, False, False, False, False, False,\n",
       "       False, False, False, False, False, False, False, False, False,\n",
       "       False, False, False, False, False, False, False, False, False,\n",
       "       False, False, False, False, False, False, False, False, False,\n",
       "       False, False, False, False, False, False, False, False, False,\n",
       "       False, False, False, False, False, False, False, False, False,\n",
       "       False, False, False, False, False, False, False, False, False,\n",
       "       False, False, False, False, False, False, False, False, False,\n",
       "       False, False, False, False, False, False, False, False, False,\n",
       "       False, False, False, False, False, False, False, False, False,\n",
       "       False, False, False, False, False, False, False, False, False,\n",
       "       False, False, False, False, False, False, False, False, False,\n",
       "       False, False, False, False, False, False, False, False, False,\n",
       "       False, False, False, False, False, False, False, False, False,\n",
       "       False, False, False, False, False, False, False, False, False,\n",
       "       False, False, False, False, False, False, False, False, False,\n",
       "       False, False, False, False, False, False, False, False, False,\n",
       "       False, False, False, False, False, False, False, False, False,\n",
       "       False, False, False, False, False, False, False, False, False,\n",
       "       False, False, False, False, False, False, False, False, False,\n",
       "       False, False, False, False, False, False, False, False, False,\n",
       "       False, False, False, False, False, False, False, False, False,\n",
       "       False, False])"
      ]
     },
     "execution_count": 67,
     "metadata": {},
     "output_type": "execute_result"
    }
   ],
   "source": [
    "F_zero1-L_zero1>0.1"
   ]
  },
  {
   "cell_type": "code",
   "execution_count": 68,
   "metadata": {},
   "outputs": [],
   "source": [
    "###################Informação para o Head#########################"
   ]
  },
  {
   "cell_type": "code",
   "execution_count": null,
   "metadata": {},
   "outputs": [],
   "source": []
  },
  {
   "cell_type": "code",
   "execution_count": 69,
   "metadata": {},
   "outputs": [
    {
     "name": "stdout",
     "output_type": "stream",
     "text": [
      "minutos- 10.99769549369812\n"
     ]
    }
   ],
   "source": [
    "start=time.time()\n",
    "\n",
    "opcao_up,PGrid_up,mapa_up,tempo_up,preco_up,gatilho_up=diffinexpcart(sinal(CF,CF1,rho)[1]*P*q*B*np.exp(-2*delta),sinal(CF,CF1,rho)[1]*Id*np.exp(-2*r)+Iw,r,delta,sigma,tau,accur)\n",
    "opcao_down,PGrid_down,mapa_down,tempo_down,preco_down,gatilho_down=diffinexpcart(sinal(CF,CF1,rho)[0]*P*q*B*np.exp(-2*delta),sinal(CF,CF1,rho)[0]*Id*np.exp(-2*r)+Iw,r,delta,sigma,tau,accur)\n",
    "opcao_info=CF1*opcao_up + (1-CF1)*opcao_down\n",
    "\n",
    "cpu=time.time()-start\n",
    "print('minutos-',cpu/60)\n",
    "winsound.Beep(freq, duration)\n",
    "\n"
   ]
  },
  {
   "cell_type": "code",
   "execution_count": null,
   "metadata": {},
   "outputs": [],
   "source": []
  },
  {
   "cell_type": "code",
   "execution_count": 70,
   "metadata": {},
   "outputs": [],
   "source": [
    "preco_up=preco_up/(sinal(CF,CF1,rho)[1]*q*B*np.exp(-2*delta))\n",
    "preco_down=preco_down/(sinal(CF,CF1,rho)[0]*q*B*np.exp(-2*delta))"
   ]
  },
  {
   "cell_type": "code",
   "execution_count": 71,
   "metadata": {},
   "outputs": [],
   "source": [
    "F_up_zero=np.interp(preco_inv,preco_up,mapa_up[0,:])\n",
    "F_down_zero=np.interp(preco_inv,preco_down,mapa_down[0,:])\n",
    "F_zero=CF1*F_up_zero+ (1-CF1)*F_down_zero\n",
    "\n",
    "Exp_zero=np.interp(preco_inv,preco,mapa[0,:])\n",
    "\n",
    "L_zero=CF*mapa_inv[0,:] - Iw\n"
   ]
  },
  {
   "cell_type": "code",
   "execution_count": null,
   "metadata": {},
   "outputs": [],
   "source": []
  },
  {
   "cell_type": "code",
   "execution_count": null,
   "metadata": {},
   "outputs": [],
   "source": []
  },
  {
   "cell_type": "code",
   "execution_count": null,
   "metadata": {},
   "outputs": [],
   "source": []
  },
  {
   "cell_type": "code",
   "execution_count": 72,
   "metadata": {},
   "outputs": [
    {
     "data": {
      "text/plain": [
       "(731, 731, 731, 731, 731, 731)"
      ]
     },
     "execution_count": 72,
     "metadata": {},
     "output_type": "execute_result"
    }
   ],
   "source": [
    "###Verificar o tamanho para o jogo####\n",
    "len(L_zero1), len(L_zero), len(F_zero), len(F_zero1), len(Exp_zero), len(Exp_zero1)"
   ]
  },
  {
   "cell_type": "code",
   "execution_count": 73,
   "metadata": {},
   "outputs": [
    {
     "name": "stdout",
     "output_type": "stream",
     "text": [
      "82.25\n",
      "78.5\n"
     ]
    }
   ],
   "source": [
    "pa=preco_inv[F_zero-L_zero<0.01][0]\n",
    "pa1=preco_inv[F_zero1-L_zero1<0.01][0]\n",
    "print(pa)\n",
    "print(pa1)"
   ]
  },
  {
   "cell_type": "code",
   "execution_count": null,
   "metadata": {},
   "outputs": [],
   "source": []
  },
  {
   "cell_type": "code",
   "execution_count": 74,
   "metadata": {},
   "outputs": [
    {
     "name": "stdout",
     "output_type": "stream",
     "text": [
      "Hoje, o gatilho explorar $\\Pi$ Dog+Feather é: 73.0\n",
      "Hoje, o gatilho explorar Head é: 73.125\n",
      "Hoje, o gatilho simultaneo $\\Pi$ Dog+Feather é: 78.5\n",
      "Hoje, o gatilho simultaneo Head é: 82.25\n"
     ]
    },
    {
     "data": {
      "text/plain": [
       "[]"
      ]
     },
     "execution_count": 74,
     "metadata": {},
     "output_type": "execute_result"
    },
    {
     "data": {
      "image/png": "[encoded data removed]",
      "text/plain": [
       "<Figure size 720x360 with 1 Axes>"
      ]
     },
     "metadata": {
      "needs_background": "light"
     },
     "output_type": "display_data"
    }
   ],
   "source": [
    "#####Figuras de Gatilho e a#####\n",
    "fig,ax = plt.subplots(1,1, figsize=(10,5))\n",
    "sns.despine(left=True)\n",
    "print('Hoje, o gatilho explorar $\\Pi$ Dog+Feather é:',round(gatilho_port,3))\n",
    "print('Hoje, o gatilho explorar Head é:',round(g[0],3))\n",
    "print('Hoje, o gatilho simultaneo $\\Pi$ Dog+Feather é:',pa1)\n",
    "print('Hoje, o gatilho simultaneo Head é:',pa)\n",
    "\n",
    "ax.plot(preco_inv,L_zero1, color='blue', ls='-' )\n",
    "ax.plot(preco_inv,F_zero1, color='red', ls='-' )\n",
    "\n",
    "ax.plot(preco_inv,L_zero, color='green', ls='--' )\n",
    "ax.plot(preco_inv,F_zero, color='orange', ls='--' )\n",
    "\n",
    "#ax.plot(preco_inv,U_i,color='black',ls='-')\n",
    "#ax.plot(preco_inv,EXP_custo,color='black',ls='-')\n",
    "\n",
    "ax.axvline(x=gatilho_port, linestyle='-', color='grey')\n",
    "ax.axvline(x=pa1, linestyle='-', color='black')\n",
    "\n",
    "\n",
    "ax.axvline(x=g[0], linestyle='--', color='grey')\n",
    "ax.axvline(x=pa, linestyle='--', color='black')\n",
    "\n",
    "\n",
    "ax.axhline(0, linestyle='--', color='grey')\n",
    "\n",
    "#ax.axvline(pa, linestyle='--', color='grey')\n",
    "\n",
    "ax.set_ylim(-20,250)\n",
    "ax.set_xlim(-5,120)\n",
    "\n",
    "#ax2.plot(V_vetor,F_V_Matrix[F_V_Matrix.shape[0]-1,:], color='blue', ls='--' )\n",
    "\n",
    "#ax2.legend(['Lider','Seguidor','Barganha'], loc='upper left', shadow=True)\n",
    "ax.legend(['D+F-Lider','D+F-Seguidor','H-Lider','H-Seguidor','$P^{**}$- D+F','$P^{s}$-D+F','$P^{**}$-H','$P^{s}$-H'], loc='upper left', shadow=True)\n",
    "ax.set_xlabel('Preço do Petróleo- $/bbl')\n",
    "ax.set_ylabel('Valor -  M$')\n",
    "ax.set_title('Avaliação Exploratória - Jogo com Portfólio')\n",
    "\n",
    "ax.set_xlim(right=100)\n",
    "ax.set_ylim(top=2500)\n",
    "ax.set_ylim(bottom=-100)\n",
    "#ax2.set_title('Opção de Investir em função do Preço')\n",
    "\n",
    "plt.plot()"
   ]
  },
  {
   "cell_type": "code",
   "execution_count": 75,
   "metadata": {},
   "outputs": [
    {
     "data": {
      "text/plain": [
       "401"
      ]
     },
     "execution_count": 75,
     "metadata": {},
     "output_type": "execute_result"
    }
   ],
   "source": [
    "np.where(preco_inv>100)[0][0]"
   ]
  },
  {
   "cell_type": "code",
   "execution_count": 76,
   "metadata": {},
   "outputs": [
    {
     "data": {
      "text/plain": [
       "25.0"
      ]
     },
     "execution_count": 76,
     "metadata": {},
     "output_type": "execute_result"
    }
   ],
   "source": [
    "preco_inv[100]"
   ]
  },
  {
   "cell_type": "code",
   "execution_count": 77,
   "metadata": {},
   "outputs": [
    {
     "data": {
      "text/plain": [
       "[<matplotlib.lines.Line2D at 0x10da203e208>]"
      ]
     },
     "execution_count": 77,
     "metadata": {},
     "output_type": "execute_result"
    },
    {
     "data": {
      "image/png": "[encoded data removed]",
      "text/plain": [
       "<Figure size 432x288 with 1 Axes>"
      ]
     },
     "metadata": {
      "needs_background": "light"
     },
     "output_type": "display_data"
    }
   ],
   "source": [
    "plt.plot(np.round(np.absolute(np.round(F_zero1,2)/np.round(L_zero1,2) -1),2)[0:400])"
   ]
  },
  {
   "cell_type": "code",
   "execution_count": 78,
   "metadata": {},
   "outputs": [
    {
     "data": {
      "text/plain": [
       "[<matplotlib.lines.Line2D at 0x10da204cb08>]"
      ]
     },
     "execution_count": 78,
     "metadata": {},
     "output_type": "execute_result"
    },
    {
     "data": {
      "image/png": "[encoded data removed]",
      "text/plain": [
       "<Figure size 432x288 with 1 Axes>"
      ]
     },
     "metadata": {
      "needs_background": "light"
     },
     "output_type": "display_data"
    }
   ],
   "source": [
    "plt.plot(F_zero1- L_zero1)\n",
    "#plt.plot(np.absolute(F_zero-L_zero)[0:400])"
   ]
  },
  {
   "cell_type": "code",
   "execution_count": null,
   "metadata": {},
   "outputs": [],
   "source": []
  },
  {
   "cell_type": "code",
   "execution_count": 79,
   "metadata": {},
   "outputs": [
    {
     "name": "stdout",
     "output_type": "stream",
     "text": [
      "Hoje, o gatilho explorar $\\Pi$ Dog+Feather é: 73.0\n",
      "Hoje, o gatilho explorar Head é: 73.125\n",
      "Hoje, o gatilho simultaneo $\\Pi$ Dog+Feather é: 78.5\n",
      "Hoje, o gatilho simultaneo Head é: 82.25\n"
     ]
    },
    {
     "data": {
      "text/plain": [
       "[]"
      ]
     },
     "execution_count": 79,
     "metadata": {},
     "output_type": "execute_result"
    },
    {
     "data": {
      "image/png": "[encoded data removed]",
      "text/plain": [
       "<Figure size 720x360 with 1 Axes>"
      ]
     },
     "metadata": {
      "needs_background": "light"
     },
     "output_type": "display_data"
    }
   ],
   "source": [
    "#####Figuras de Gatilho e a#####\n",
    "fig,ax = plt.subplots(1,1, figsize=(10,5))\n",
    "sns.despine(left=True)\n",
    "print('Hoje, o gatilho explorar $\\Pi$ Dog+Feather é:',round(gatilho_port,3))\n",
    "print('Hoje, o gatilho explorar Head é:',round(g[0],3))\n",
    "print('Hoje, o gatilho simultaneo $\\Pi$ Dog+Feather é:',pa1)\n",
    "print('Hoje, o gatilho simultaneo Head é:',pa)\n",
    "\n",
    "ax.plot(preco_inv,F_zero1-L_zero1, color='red', ls='-' )\n",
    "\n",
    "ax.plot(preco_inv,F_zero-L_zero, color='orange', ls='--' )\n",
    "\n",
    "#ax.plot(preco_inv,U_i,color='black',ls='-')\n",
    "#ax.plot(preco_inv,EXP_custo,color='black',ls='-')\n",
    "\n",
    "ax.axvline(x=gatilho_port, linestyle='-', color='grey')\n",
    "ax.axvline(x=pa1, linestyle='-', color='black')\n",
    "\n",
    "\n",
    "ax.axvline(x=g[0], linestyle='--', color='grey')\n",
    "ax.axvline(x=pa, linestyle='--', color='black')\n",
    "\n",
    "\n",
    "#ax.axhline(0, linestyle='--', color='grey')\n",
    "\n",
    "#ax.axvline(pa, linestyle='--', color='grey')\n",
    "\n",
    "#ax.set_ylim(0,100)\n",
    "#ax.set_xlim(-5,120)\n",
    "\n",
    "#ax2.plot(V_vetor,F_V_Matrix[F_V_Matrix.shape[0]-1,:], color='blue', ls='--' )\n",
    "\n",
    "#ax2.legend(['Lider','Seguidor','Barganha'], loc='upper left', shadow=True)\n",
    "ax.legend(['D+F: F-L','Head: F-L','$P^{**}$-D+F','$P^s$-D+F','$P^{**}$-Head','$P^s$-Head'], loc='upper left', shadow=True)\n",
    "ax.set_xlabel('Preço do Petróleo - $/bbl')\n",
    "ax.set_ylabel('Benefício - M\\$')\n",
    "ax.set_xlim(right=85)\n",
    "ax.set_xlim(left=0)\n",
    "ax.set_xlim(left=67)\n",
    "ax.set_ylim(top=20)\n",
    "#ax.set_ylim(top=80)\n",
    "ax.set_ylim(bottom=0)\n",
    "#ax2.set_title('Opção de Investir em função do Preço')\n",
    "\n",
    "plt.plot()"
   ]
  },
  {
   "cell_type": "code",
   "execution_count": 80,
   "metadata": {},
   "outputs": [
    {
     "name": "stdout",
     "output_type": "stream",
     "text": [
      "Hoje, o gatilho explorar $\\Pi$ Dog+Feather é: 73.0\n",
      "Hoje, o gatilho explorar Head é: 73.125\n",
      "Hoje, o gatilho simultaneo $\\Pi$ Dog+Feather é: 78.5\n",
      "Hoje, o gatilho simultaneo Head é: 82.25\n"
     ]
    },
    {
     "data": {
      "text/plain": [
       "[]"
      ]
     },
     "execution_count": 80,
     "metadata": {},
     "output_type": "execute_result"
    },
    {
     "data": {
      "image/png": "[encoded data removed]",
      "text/plain": [
       "<Figure size 720x360 with 1 Axes>"
      ]
     },
     "metadata": {
      "needs_background": "light"
     },
     "output_type": "display_data"
    }
   ],
   "source": [
    "#####Figuras de Gatilho e a#####\n",
    "fig,ax = plt.subplots(1,1, figsize=(10,5))\n",
    "sns.despine(left=True)\n",
    "print('Hoje, o gatilho explorar $\\Pi$ Dog+Feather é:',round(gatilho_port,3))\n",
    "print('Hoje, o gatilho explorar Head é:',round(g[0],3))\n",
    "print('Hoje, o gatilho simultaneo $\\Pi$ Dog+Feather é:',pa1)\n",
    "print('Hoje, o gatilho simultaneo Head é:',pa)\n",
    "\n",
    "ax.plot(preco_inv,(F_zero1/L_zero1 -1)*100, color='red', ls='-' )\n",
    "\n",
    "ax.plot(preco_inv,(F_zero/L_zero -1)*100, color='orange', ls='--' )\n",
    "\n",
    "#ax.plot(preco_inv,U_i,color='black',ls='-')\n",
    "#ax.plot(preco_inv,EXP_custo,color='black',ls='-')\n",
    "\n",
    "ax.axvline(x=gatilho_port, linestyle='-', color='grey')\n",
    "ax.axvline(x=pa1, linestyle='-', color='black')\n",
    "\n",
    "\n",
    "ax.axvline(x=g[0], linestyle='--', color='grey')\n",
    "ax.axvline(x=pa, linestyle='--', color='black')\n",
    "\n",
    "\n",
    "#ax.axhline(0, linestyle='--', color='grey')\n",
    "\n",
    "#ax.axvline(pa, linestyle='--', color='grey')\n",
    "\n",
    "#ax.set_ylim(0,100)\n",
    "#ax.set_xlim(-5,120)\n",
    "\n",
    "#ax2.plot(V_vetor,F_V_Matrix[F_V_Matrix.shape[0]-1,:], color='blue', ls='--' )\n",
    "\n",
    "#ax2.legend(['Lider','Seguidor','Barganha'], loc='upper left', shadow=True)\n",
    "ax.legend(['D+F: F-L','Head: F-L','$P^{**}$-D+F','$P^s$-D+F','$P^{**}$-Head','$P^s$-Head'], loc='upper left', shadow=True)\n",
    "ax.set_xlabel('Preço do Petróleo - $/bbl')\n",
    "ax.set_ylabel('Benefício - M\\$')\n",
    "ax.set_xlim(right=85)\n",
    "ax.set_xlim(left=65)\n",
    "ax.set_ylim(top=3)\n",
    "ax.set_ylim(bottom=0)\n",
    "#ax2.set_title('Opção de Investir em função do Preço')\n",
    "\n",
    "plt.plot()"
   ]
  },
  {
   "cell_type": "code",
   "execution_count": 81,
   "metadata": {},
   "outputs": [
    {
     "name": "stdout",
     "output_type": "stream",
     "text": [
      "Hoje, o gatilho explorar $\\Pi$ Dog+Feather é: 73.0\n",
      "Hoje, o gatilho explorar Head é: 73.125\n",
      "Hoje, o gatilho simultaneo $\\Pi$ Dog+Feather é: 78.5\n",
      "Hoje, o gatilho simultaneo Head é: 82.25\n"
     ]
    },
    {
     "data": {
      "text/plain": [
       "[]"
      ]
     },
     "execution_count": 81,
     "metadata": {},
     "output_type": "execute_result"
    },
    {
     "data": {
      "image/png": "[encoded data removed]",
      "text/plain": [
       "<Figure size 720x360 with 1 Axes>"
      ]
     },
     "metadata": {
      "needs_background": "light"
     },
     "output_type": "display_data"
    }
   ],
   "source": [
    "#####Figuras de Gatilho e a#####\n",
    "fig,ax = plt.subplots(1,1, figsize=(10,5))\n",
    "sns.despine(left=True)\n",
    "print('Hoje, o gatilho explorar $\\Pi$ Dog+Feather é:',round(gatilho_port,3))\n",
    "print('Hoje, o gatilho explorar Head é:',round(g[0],3))\n",
    "print('Hoje, o gatilho simultaneo $\\Pi$ Dog+Feather é:',pa1)\n",
    "print('Hoje, o gatilho simultaneo Head é:',pa)\n",
    "\n",
    "ax.plot(preco_inv,((F_zero1-L_zero1)/L_zero)*100, color='red', ls='-' )\n",
    "\n",
    "ax.plot(preco_inv,((F_zero-L_zero)/L_zero1)*100, color='orange', ls='--' )\n",
    "\n",
    "#ax.plot(preco_inv,U_i,color='black',ls='-')\n",
    "#ax.plot(preco_inv,EXP_custo,color='black',ls='-')\n",
    "\n",
    "ax.axvline(x=gatilho_port, linestyle='-', color='grey')\n",
    "ax.axvline(x=pa1, linestyle='-', color='black')\n",
    "\n",
    "\n",
    "ax.axvline(x=g[0], linestyle='--', color='grey')\n",
    "ax.axvline(x=pa, linestyle='--', color='black')\n",
    "\n",
    "\n",
    "#ax.axhline(0, linestyle='--', color='grey')\n",
    "\n",
    "#ax.axvline(pa, linestyle='--', color='grey')\n",
    "\n",
    "#ax.set_ylim(0,100)\n",
    "#ax.set_xlim(-5,120)\n",
    "\n",
    "#ax2.plot(V_vetor,F_V_Matrix[F_V_Matrix.shape[0]-1,:], color='blue', ls='--' )\n",
    "\n",
    "#ax2.legend(['Lider','Seguidor','Barganha'], loc='upper left', shadow=True)\n",
    "ax.legend(['D+F: F-L','Head: F-L','$P^{**}$-D+F','$P^s$-D+F','$P^{**}$-Head','$P^s$-Head'], loc='upper left', shadow=True)\n",
    "ax.set_xlabel('Preço do Petróleo - $/bbl')\n",
    "ax.set_ylabel('Benefício - M\\$')\n",
    "ax.set_xlim(right=85)\n",
    "ax.set_xlim(left=65)\n",
    "ax.set_ylim(top=2.5)\n",
    "ax.set_ylim(bottom=0)\n",
    "#ax2.set_title('Opção de Investir em função do Preço')\n",
    "\n",
    "plt.plot()"
   ]
  },
  {
   "cell_type": "code",
   "execution_count": null,
   "metadata": {},
   "outputs": [],
   "source": []
  },
  {
   "cell_type": "code",
   "execution_count": 82,
   "metadata": {},
   "outputs": [],
   "source": [
    "###################################Simulações da Guerra de Atrito##############################################"
   ]
  },
  {
   "cell_type": "code",
   "execution_count": 83,
   "metadata": {},
   "outputs": [],
   "source": [
    "import nashpy as nash"
   ]
  },
  {
   "cell_type": "code",
   "execution_count": 93,
   "metadata": {},
   "outputs": [],
   "source": [
    "P1=75\n",
    "loc=np.where(np.round(preco_inv,2)==P1)[0][0]"
   ]
  },
  {
   "cell_type": "code",
   "execution_count": 94,
   "metadata": {},
   "outputs": [],
   "source": [
    "###Jogador 1 está na horizontal - DogFish + Feather\n",
    "VME1=L_zero1[loc]\n",
    "opcao_info1=F_zero1[loc]\n",
    "opcao1=Exp_zero1[loc]\n",
    "\n"
   ]
  },
  {
   "cell_type": "code",
   "execution_count": 95,
   "metadata": {},
   "outputs": [],
   "source": [
    "if P1>gatilho_port:\n",
    "    custo1=VME_custo*(1-np.exp(-r/12))\n",
    "else:\n",
    "    custo1=0"
   ]
  },
  {
   "cell_type": "code",
   "execution_count": 96,
   "metadata": {},
   "outputs": [],
   "source": [
    "###Jogador 2 está na Vertical - Head\n",
    "VME2=L_zero[loc]\n",
    "opcao_info2=F_zero[loc]\n",
    "opcao2=Exp_zero[loc]\n",
    "\n"
   ]
  },
  {
   "cell_type": "code",
   "execution_count": 97,
   "metadata": {},
   "outputs": [],
   "source": [
    "if P1>g[0]:\n",
    "    custo2=VME2*(1-np.exp(-r/12))\n",
    "else:\n",
    "    custo2=0\n",
    "    \n"
   ]
  },
  {
   "cell_type": "code",
   "execution_count": 98,
   "metadata": {},
   "outputs": [
    {
     "data": {
      "text/plain": [
       "(1.3938421763794093, 3.040074653487324)"
      ]
     },
     "execution_count": 98,
     "metadata": {},
     "output_type": "execute_result"
    }
   ],
   "source": [
    "custo1, custo2"
   ]
  },
  {
   "cell_type": "code",
   "execution_count": 99,
   "metadata": {},
   "outputs": [],
   "source": [
    "####Ações do Jogador 1\n",
    "A_matrix=[[VME1, VME1],[opcao_info1,opcao1-custo1]]\n",
    "A_matrix=np.round(A_matrix,2)"
   ]
  },
  {
   "cell_type": "code",
   "execution_count": 100,
   "metadata": {},
   "outputs": [
    {
     "data": {
      "text/plain": [
       "Bi matrix game with payoff matrices:\n",
       "\n",
       "Row player:\n",
       "[[1912.8  1912.8 ]\n",
       " [1913.8  1911.41]]\n",
       "\n",
       "Column player:\n",
       "[[1217.55 1219.07]\n",
       " [1217.55 1214.51]]"
      ]
     },
     "execution_count": 100,
     "metadata": {},
     "output_type": "execute_result"
    }
   ],
   "source": [
    "###Ações do Jogador 2\n",
    "B_matrix=[[VME2,opcao_info2],[VME2,opcao2-custo2]]\n",
    "B_matrix=np.round(B_matrix,2)\n",
    "war_att=nash.Game(A_matrix,B_matrix)\n",
    "war_att\n",
    "\n"
   ]
  },
  {
   "cell_type": "code",
   "execution_count": 107,
   "metadata": {},
   "outputs": [
    {
     "data": {
      "text/plain": [
       "[(array([1., 0.]), array([0., 1.])),\n",
       " (array([0., 1.]), array([1., 0.])),\n",
       " (array([0.66666667, 0.33333333]), array([0.58158996, 0.41841004]))]"
      ]
     },
     "execution_count": 107,
     "metadata": {},
     "output_type": "execute_result"
    }
   ],
   "source": [
    "eq=list(war_att.support_enumeration())\n",
    "#eq=list(war_att.lemke_howson_enumeration())\n",
    "eq"
   ]
  },
  {
   "cell_type": "code",
   "execution_count": 108,
   "metadata": {},
   "outputs": [
    {
     "name": "stdout",
     "output_type": "stream",
     "text": [
      "2.0 1912.8 1219.07\n",
      "3.0 1913.8 1217.55\n",
      "2.085076708507693 1912.8 1217.55\n"
     ]
    }
   ],
   "source": [
    "suporte=[[1,2],[3,4]]\n",
    "for s1,s2 in eq:\n",
    "    row_util=np.dot(np.dot(s1,A_matrix),s2)\n",
    "    quadrante=np.dot(np.dot(s1,suporte),s2)\n",
    "    col_util=np.dot(np.dot(s1,B_matrix),s2)\n",
    "    print(quadrante,row_util,col_util)"
   ]
  },
  {
   "cell_type": "code",
   "execution_count": 336,
   "metadata": {},
   "outputs": [
    {
     "data": {
      "text/plain": [
       "2"
      ]
     },
     "execution_count": 336,
     "metadata": {},
     "output_type": "execute_result"
    }
   ],
   "source": [
    "len(eq[0])"
   ]
  },
  {
   "cell_type": "code",
   "execution_count": 222,
   "metadata": {},
   "outputs": [],
   "source": [
    "suporte=[[1,2],[3,4]]"
   ]
  },
  {
   "cell_type": "code",
   "execution_count": 223,
   "metadata": {},
   "outputs": [],
   "source": [
    "####Mapeamendo dos diversos jogos####"
   ]
  },
  {
   "cell_type": "code",
   "execution_count": 224,
   "metadata": {},
   "outputs": [
    {
     "name": "stderr",
     "output_type": "stream",
     "text": [
      "C:\\Users\\LG\\Anaconda3\\lib\\site-packages\\nashpy\\algorithms\\support_enumeration.py:196: RuntimeWarning: \n",
      "An even number of (2) equilibria was returned. This\n",
      "indicates that the game is degenerate. Consider using another algorithm\n",
      "to investigate.\n",
      "                  \n",
      "  warnings.warn(warning, RuntimeWarning)\n"
     ]
    }
   ],
   "source": [
    "\n",
    "matrix=np.zeros((len(preco_inv),6))\n",
    "for loc in range(len(preco_inv)):    \n",
    "    #P1=50\n",
    "    #loc=np.where(np.round(preco_inv,2)==P1)[0][0]\n",
    "    #print(preco_inv[loc])\n",
    "    \n",
    "    VME1=L_zero1[loc]\n",
    "    opcao_info1=F_zero1[loc]\n",
    "    opcao1=Exp_zero1[loc]\n",
    "    \n",
    "    if preco_inv[loc]>gatilho_port:   #g1[0]\n",
    "        custo1=VME_custo*(1-np.exp(-r/12)) #VME1\n",
    "    else:\n",
    "        custo1=0\n",
    "        \n",
    "    ###Jogador 1 está na horizontal - Head\n",
    "    VME2=L_zero[loc]\n",
    "    opcao_info2=F_zero[loc]\n",
    "    opcao2=Exp_zero[loc]\n",
    "\n",
    "    if preco_inv[loc]>g[0]:\n",
    "        custo2=VME2*(1-np.exp(-r/12))\n",
    "    else:\n",
    "        custo2=0\n",
    "        \n",
    "\n",
    "    #Ações do jogador 1\n",
    "    A_matrix=[[VME1, VME1],[opcao_info1,opcao1-custo1]]\n",
    "    A_matrix=np.round(A_matrix,2)\n",
    "    \n",
    "    ###Ações do Jogador 2\n",
    "    #A_matrix=[[VME2,VME2],[opcao_info2,opcao2-custo2]]\n",
    "    #A_matrix=np.round(A_matrix,2)\n",
    "    \n",
    "\n",
    "\n",
    "    ###Ações do Jogador 2\n",
    "    B_matrix=[[VME2,opcao_info2],[VME2,opcao2-custo2]]\n",
    "    B_matrix=np.round(B_matrix,2)\n",
    "    war_att=nash.Game(A_matrix,B_matrix)\n",
    "\n",
    "    eq=list(war_att.support_enumeration())\n",
    "    #print(eq)\n",
    "\n",
    "\n",
    "    suporte=[[1,2],[3,4]]\n",
    "    \n",
    "    matrix[loc,0]=preco_inv[loc]\n",
    "    i=1\n",
    "    for s1,s2 in eq:\n",
    "        quadrante=np.dot(np.dot(s1,suporte),s2)\n",
    "        #print(i)\n",
    "        matrix[loc,i]=quadrante\n",
    "        i=i+1\n",
    "        "
   ]
  },
  {
   "cell_type": "code",
   "execution_count": 225,
   "metadata": {},
   "outputs": [],
   "source": [
    "df=pd.DataFrame(matrix)"
   ]
  },
  {
   "cell_type": "code",
   "execution_count": 226,
   "metadata": {},
   "outputs": [
    {
     "data": {
      "text/html": [
       "<div>\n",
       "<style scoped>\n",
       "    .dataframe tbody tr th:only-of-type {\n",
       "        vertical-align: middle;\n",
       "    }\n",
       "\n",
       "    .dataframe tbody tr th {\n",
       "        vertical-align: top;\n",
       "    }\n",
       "\n",
       "    .dataframe thead th {\n",
       "        text-align: right;\n",
       "    }\n",
       "</style>\n",
       "<table border=\"1\" class=\"dataframe\">\n",
       "  <thead>\n",
       "    <tr style=\"text-align: right;\">\n",
       "      <th></th>\n",
       "      <th>0</th>\n",
       "      <th>1</th>\n",
       "      <th>2</th>\n",
       "      <th>3</th>\n",
       "      <th>4</th>\n",
       "      <th>5</th>\n",
       "    </tr>\n",
       "  </thead>\n",
       "  <tbody>\n",
       "    <tr>\n",
       "      <td>0</td>\n",
       "      <td>0.00</td>\n",
       "      <td>4.0</td>\n",
       "      <td>0.0</td>\n",
       "      <td>0.0</td>\n",
       "      <td>0.0</td>\n",
       "      <td>0.0</td>\n",
       "    </tr>\n",
       "    <tr>\n",
       "      <td>1</td>\n",
       "      <td>0.25</td>\n",
       "      <td>4.0</td>\n",
       "      <td>0.0</td>\n",
       "      <td>0.0</td>\n",
       "      <td>0.0</td>\n",
       "      <td>0.0</td>\n",
       "    </tr>\n",
       "    <tr>\n",
       "      <td>2</td>\n",
       "      <td>0.50</td>\n",
       "      <td>4.0</td>\n",
       "      <td>0.0</td>\n",
       "      <td>0.0</td>\n",
       "      <td>0.0</td>\n",
       "      <td>0.0</td>\n",
       "    </tr>\n",
       "    <tr>\n",
       "      <td>3</td>\n",
       "      <td>0.75</td>\n",
       "      <td>4.0</td>\n",
       "      <td>0.0</td>\n",
       "      <td>0.0</td>\n",
       "      <td>0.0</td>\n",
       "      <td>0.0</td>\n",
       "    </tr>\n",
       "    <tr>\n",
       "      <td>4</td>\n",
       "      <td>1.00</td>\n",
       "      <td>4.0</td>\n",
       "      <td>0.0</td>\n",
       "      <td>0.0</td>\n",
       "      <td>0.0</td>\n",
       "      <td>0.0</td>\n",
       "    </tr>\n",
       "  </tbody>\n",
       "</table>\n",
       "</div>"
      ],
      "text/plain": [
       "      0    1    2    3    4    5\n",
       "0  0.00  4.0  0.0  0.0  0.0  0.0\n",
       "1  0.25  4.0  0.0  0.0  0.0  0.0\n",
       "2  0.50  4.0  0.0  0.0  0.0  0.0\n",
       "3  0.75  4.0  0.0  0.0  0.0  0.0\n",
       "4  1.00  4.0  0.0  0.0  0.0  0.0"
      ]
     },
     "execution_count": 226,
     "metadata": {},
     "output_type": "execute_result"
    }
   ],
   "source": [
    "df.head()"
   ]
  },
  {
   "cell_type": "code",
   "execution_count": 227,
   "metadata": {},
   "outputs": [],
   "source": [
    "df=df.set_index(0)"
   ]
  },
  {
   "cell_type": "code",
   "execution_count": 228,
   "metadata": {},
   "outputs": [],
   "source": [
    "df[df==0]=np.nan"
   ]
  },
  {
   "cell_type": "code",
   "execution_count": 229,
   "metadata": {},
   "outputs": [
    {
     "data": {
      "text/plain": [
       "<matplotlib.collections.PathCollection at 0x14efa80c5c8>"
      ]
     },
     "execution_count": 229,
     "metadata": {},
     "output_type": "execute_result"
    },
    {
     "data": {
      "image/png": "[encoded data removed]",
      "text/plain": [
       "<Figure size 432x288 with 1 Axes>"
      ]
     },
     "metadata": {
      "needs_background": "light"
     },
     "output_type": "display_data"
    }
   ],
   "source": [
    "plt.scatter(df.index, df.iloc[:,0])\n",
    "plt.scatter(df.index, df.iloc[:,1])\n",
    "plt.scatter(df.index, df.iloc[:,2])\n",
    "plt.scatter(df.index, df.iloc[:,3])\n",
    "plt.scatter(df.index, df.iloc[:,4])\n"
   ]
  },
  {
   "cell_type": "code",
   "execution_count": 230,
   "metadata": {},
   "outputs": [
    {
     "data": {
      "text/html": [
       "<div>\n",
       "<style scoped>\n",
       "    .dataframe tbody tr th:only-of-type {\n",
       "        vertical-align: middle;\n",
       "    }\n",
       "\n",
       "    .dataframe tbody tr th {\n",
       "        vertical-align: top;\n",
       "    }\n",
       "\n",
       "    .dataframe thead th {\n",
       "        text-align: right;\n",
       "    }\n",
       "</style>\n",
       "<table border=\"1\" class=\"dataframe\">\n",
       "  <thead>\n",
       "    <tr style=\"text-align: right;\">\n",
       "      <th></th>\n",
       "      <th>1</th>\n",
       "      <th>2</th>\n",
       "      <th>3</th>\n",
       "      <th>4</th>\n",
       "      <th>5</th>\n",
       "    </tr>\n",
       "    <tr>\n",
       "      <th>0</th>\n",
       "      <th></th>\n",
       "      <th></th>\n",
       "      <th></th>\n",
       "      <th></th>\n",
       "      <th></th>\n",
       "    </tr>\n",
       "  </thead>\n",
       "  <tbody>\n",
       "    <tr>\n",
       "      <td>0.00</td>\n",
       "      <td>4.0</td>\n",
       "      <td>NaN</td>\n",
       "      <td>NaN</td>\n",
       "      <td>NaN</td>\n",
       "      <td>NaN</td>\n",
       "    </tr>\n",
       "    <tr>\n",
       "      <td>0.25</td>\n",
       "      <td>4.0</td>\n",
       "      <td>NaN</td>\n",
       "      <td>NaN</td>\n",
       "      <td>NaN</td>\n",
       "      <td>NaN</td>\n",
       "    </tr>\n",
       "    <tr>\n",
       "      <td>0.50</td>\n",
       "      <td>4.0</td>\n",
       "      <td>NaN</td>\n",
       "      <td>NaN</td>\n",
       "      <td>NaN</td>\n",
       "      <td>NaN</td>\n",
       "    </tr>\n",
       "    <tr>\n",
       "      <td>0.75</td>\n",
       "      <td>4.0</td>\n",
       "      <td>NaN</td>\n",
       "      <td>NaN</td>\n",
       "      <td>NaN</td>\n",
       "      <td>NaN</td>\n",
       "    </tr>\n",
       "    <tr>\n",
       "      <td>1.00</td>\n",
       "      <td>4.0</td>\n",
       "      <td>NaN</td>\n",
       "      <td>NaN</td>\n",
       "      <td>NaN</td>\n",
       "      <td>NaN</td>\n",
       "    </tr>\n",
       "    <tr>\n",
       "      <td>...</td>\n",
       "      <td>...</td>\n",
       "      <td>...</td>\n",
       "      <td>...</td>\n",
       "      <td>...</td>\n",
       "      <td>...</td>\n",
       "    </tr>\n",
       "    <tr>\n",
       "      <td>181.50</td>\n",
       "      <td>1.0</td>\n",
       "      <td>2.0</td>\n",
       "      <td>3.0</td>\n",
       "      <td>NaN</td>\n",
       "      <td>NaN</td>\n",
       "    </tr>\n",
       "    <tr>\n",
       "      <td>181.75</td>\n",
       "      <td>1.0</td>\n",
       "      <td>2.0</td>\n",
       "      <td>3.0</td>\n",
       "      <td>NaN</td>\n",
       "      <td>NaN</td>\n",
       "    </tr>\n",
       "    <tr>\n",
       "      <td>182.00</td>\n",
       "      <td>1.0</td>\n",
       "      <td>2.0</td>\n",
       "      <td>3.0</td>\n",
       "      <td>NaN</td>\n",
       "      <td>NaN</td>\n",
       "    </tr>\n",
       "    <tr>\n",
       "      <td>182.25</td>\n",
       "      <td>1.0</td>\n",
       "      <td>2.0</td>\n",
       "      <td>3.0</td>\n",
       "      <td>NaN</td>\n",
       "      <td>NaN</td>\n",
       "    </tr>\n",
       "    <tr>\n",
       "      <td>182.50</td>\n",
       "      <td>2.0</td>\n",
       "      <td>3.0</td>\n",
       "      <td>NaN</td>\n",
       "      <td>NaN</td>\n",
       "      <td>NaN</td>\n",
       "    </tr>\n",
       "  </tbody>\n",
       "</table>\n",
       "<p>731 rows × 5 columns</p>\n",
       "</div>"
      ],
      "text/plain": [
       "          1    2    3   4   5\n",
       "0                            \n",
       "0.00    4.0  NaN  NaN NaN NaN\n",
       "0.25    4.0  NaN  NaN NaN NaN\n",
       "0.50    4.0  NaN  NaN NaN NaN\n",
       "0.75    4.0  NaN  NaN NaN NaN\n",
       "1.00    4.0  NaN  NaN NaN NaN\n",
       "...     ...  ...  ...  ..  ..\n",
       "181.50  1.0  2.0  3.0 NaN NaN\n",
       "181.75  1.0  2.0  3.0 NaN NaN\n",
       "182.00  1.0  2.0  3.0 NaN NaN\n",
       "182.25  1.0  2.0  3.0 NaN NaN\n",
       "182.50  2.0  3.0  NaN NaN NaN\n",
       "\n",
       "[731 rows x 5 columns]"
      ]
     },
     "execution_count": 230,
     "metadata": {},
     "output_type": "execute_result"
    }
   ],
   "source": [
    "df"
   ]
  },
  {
   "cell_type": "code",
   "execution_count": 338,
   "metadata": {},
   "outputs": [
    {
     "data": {
      "text/plain": [
       "[]"
      ]
     },
     "execution_count": 338,
     "metadata": {},
     "output_type": "execute_result"
    },
    {
     "data": {
      "image/png": "[encoded data removed]",
      "text/plain": [
       "<Figure size 720x360 with 1 Axes>"
      ]
     },
     "metadata": {
      "needs_background": "light"
     },
     "output_type": "display_data"
    }
   ],
   "source": [
    "#####Figuras de Gatilho e a#####\n",
    "fig,ax = plt.subplots(1,1, figsize=(10,5))\n",
    "sns.despine(left=True)\n",
    "\n",
    "#ax.plot(preco_inv,U_i,color='black',ls='-')\n",
    "#ax.plot(preco_inv,EXP_custo,color='black',ls='-')\n",
    "ax.axvline(x=gatilho_port, linestyle='-', color='grey')\n",
    "ax.axvline(x=pa1, linestyle='-', color='black')\n",
    "\n",
    "\n",
    "ax.axvline(x=g[0], linestyle='--', color='grey')\n",
    "ax.axvline(x=pa, linestyle='--', color='black')\n",
    "\n",
    "sns.scatterplot(df.index, df.iloc[:,0], color='blue')\n",
    "sns.scatterplot(df.index, df.iloc[:,1], color='blue')\n",
    "sns.scatterplot(df.index, df.iloc[:,2], color='blue')\n",
    "sns.scatterplot(df.index, df.iloc[:,3], color='blue')\n",
    "sns.scatterplot(df.index, df.iloc[:,4], color='blue')\n",
    "\n",
    "\n",
    "\n",
    "#ax2.plot(V_vetor,F_V_Matrix[F_V_Matrix.shape[0]-1,:], color='blue', ls='--' )\n",
    "\n",
    "#ax2.legend(['Lider','Seguidor','Barganha'], loc='upper left', shadow=True)\n",
    "ax.legend(['$P^{**}$-D+F','$P^s$-D+F','$P^{**}$-Head','$P^s$-Head'], loc='lower left', shadow=True)\n",
    "ax.set_xlabel('Preço do Petróleo - $/bbl')\n",
    "ax.set_ylabel('Quadrantes - Forma normal')\n",
    "ax.set_xlim(45,100)\n",
    "\n",
    "ax.set_title('Equilíbrios Mapeados')\n",
    "\n",
    "plt.plot()"
   ]
  },
  {
   "cell_type": "code",
   "execution_count": 90,
   "metadata": {},
   "outputs": [],
   "source": [
    "#################Barganha!###################"
   ]
  },
  {
   "cell_type": "code",
   "execution_count": 356,
   "metadata": {},
   "outputs": [],
   "source": [
    "preco_barganha=np.loadtxt('barganha_tres_ativos_preco.txt')"
   ]
  },
  {
   "cell_type": "code",
   "execution_count": 357,
   "metadata": {},
   "outputs": [],
   "source": [
    "vme_barganha=np.loadtxt('barganha_tres_ativos_vme.txt')"
   ]
  },
  {
   "cell_type": "code",
   "execution_count": 358,
   "metadata": {},
   "outputs": [
    {
     "data": {
      "text/plain": [
       "[<matplotlib.lines.Line2D at 0x14efc7503c8>]"
      ]
     },
     "execution_count": 358,
     "metadata": {},
     "output_type": "execute_result"
    },
    {
     "data": {
      "image/png": "[encoded data removed]",
      "text/plain": [
       "<Figure size 432x288 with 1 Axes>"
      ]
     },
     "metadata": {
      "needs_background": "light"
     },
     "output_type": "display_data"
    }
   ],
   "source": [
    "plt.plot(preco_barganha, vme_barganha)"
   ]
  },
  {
   "cell_type": "code",
   "execution_count": 359,
   "metadata": {},
   "outputs": [],
   "source": [
    "vme_barganha_interp=np.interp(preco_inv,preco_barganha,vme_barganha)"
   ]
  },
  {
   "cell_type": "code",
   "execution_count": 362,
   "metadata": {},
   "outputs": [],
   "source": [
    "vme_barganha_max=np.maximum(0,vme_barganha_interp)"
   ]
  },
  {
   "cell_type": "code",
   "execution_count": 361,
   "metadata": {},
   "outputs": [],
   "source": [
    "#Ui=np.maximum(0,L_zero+F_zero1)"
   ]
  },
  {
   "cell_type": "code",
   "execution_count": 359,
   "metadata": {},
   "outputs": [],
   "source": [
    "#Uj=np.maximum(0,L_zero1+F_zero)"
   ]
  },
  {
   "cell_type": "code",
   "execution_count": null,
   "metadata": {},
   "outputs": [],
   "source": []
  },
  {
   "cell_type": "code",
   "execution_count": 363,
   "metadata": {},
   "outputs": [
    {
     "name": "stderr",
     "output_type": "stream",
     "text": [
      "C:\\Users\\LG\\Anaconda3\\lib\\site-packages\\ipykernel_launcher.py:2: RuntimeWarning: invalid value encountered in true_divide\n",
      "  \n"
     ]
    }
   ],
   "source": [
    "####Pedaco do Godfish\n",
    "wi=.5+( np.maximum(0,L_zero)-np.maximum(0,L_zero1))/(2*vme_barganha_max)"
   ]
  },
  {
   "cell_type": "code",
   "execution_count": 364,
   "metadata": {},
   "outputs": [],
   "source": [
    "wi=np.nan_to_num(wi)"
   ]
  },
  {
   "cell_type": "code",
   "execution_count": 365,
   "metadata": {},
   "outputs": [
    {
     "data": {
      "text/plain": [
       "[<matplotlib.lines.Line2D at 0x14efad96408>]"
      ]
     },
     "execution_count": 365,
     "metadata": {},
     "output_type": "execute_result"
    },
    {
     "data": {
      "image/png": "[encoded data removed]",
      "text/plain": [
       "<Figure size 432x288 with 1 Axes>"
      ]
     },
     "metadata": {
      "needs_background": "light"
     },
     "output_type": "display_data"
    }
   ],
   "source": [
    "plt.plot(preco_inv,wi, ls=':')"
   ]
  },
  {
   "cell_type": "code",
   "execution_count": 399,
   "metadata": {},
   "outputs": [
    {
     "data": {
      "text/plain": [
       "[]"
      ]
     },
     "execution_count": 399,
     "metadata": {},
     "output_type": "execute_result"
    },
    {
     "data": {
      "image/png": "[encoded data removed]",
      "text/plain": [
       "<Figure size 720x360 with 1 Axes>"
      ]
     },
     "metadata": {
      "needs_background": "light"
     },
     "output_type": "display_data"
    }
   ],
   "source": [
    "#####Figuras de Gatilho e a#####\n",
    "fig,ax = plt.subplots(1,1, figsize=(10,5))\n",
    "sns.despine(left=True)\n",
    "\n",
    "#ax.axvline(pa, linestyle='--', color='grey')\n",
    "ax.plot(preco_inv,100*wi, ls=':', color='black')\n",
    "#ax.set_ylim(0,100)\n",
    "#ax.set_xlim(-5,120)\n",
    "\n",
    "#ax2.plot(V_vetor,F_V_Matrix[F_V_Matrix.shape[0]-1,:], color='blue', ls='--' )\n",
    "\n",
    "#ax2.legend(['Lider','Seguidor','Barganha'], loc='upper left', shadow=True)\n",
    "ax.legend(['Weight-Head'], shadow=True)\n",
    "ax.set_xlabel('Preço do Petróleo - $/bbl')\n",
    "ax.set_ylabel('%-Barganha')\n",
    "ax.set_xlim(right=100)\n",
    "ax.set_xlim(left=26)\n",
    "#ax.set_ylim(top=65)\n",
    "#ax.set_ylim(bottom=40)\n",
    "ax.set_title('Peso para Head na Barganha')\n",
    "\n",
    "plt.plot()"
   ]
  },
  {
   "cell_type": "code",
   "execution_count": 368,
   "metadata": {},
   "outputs": [
    {
     "data": {
      "text/plain": [
       "array([ 19.25,  19.5 ,  19.75,  20.  ,  20.25,  20.5 ,  20.75,  21.  ,\n",
       "        21.25,  21.5 ,  21.75,  22.  ,  22.25,  22.5 ,  22.75,  23.  ,\n",
       "        23.25,  23.5 ,  23.75,  24.  ,  24.25,  24.5 ,  24.75,  25.  ,\n",
       "        25.25,  25.5 ,  25.75,  26.  ,  26.25,  26.5 ,  26.75,  27.  ,\n",
       "        27.25,  27.5 ,  27.75,  28.  ,  28.25,  28.5 ,  28.75,  29.  ,\n",
       "        29.25,  29.5 ,  29.75,  30.  ,  30.25,  30.5 ,  30.75,  31.  ,\n",
       "        31.25,  31.5 ,  31.75,  32.  ,  32.25,  32.5 ,  32.75,  33.  ,\n",
       "        33.25,  33.5 ,  33.75,  34.  ,  34.25,  34.5 ,  34.75,  35.  ,\n",
       "        35.25,  35.5 ,  35.75,  36.  ,  36.25,  36.5 ,  36.75,  37.  ,\n",
       "        37.25,  37.5 ,  37.75,  38.  ,  38.25,  38.5 ,  38.75,  39.  ,\n",
       "        39.25,  39.5 ,  39.75,  40.  ,  40.25,  40.5 ,  40.75,  41.  ,\n",
       "        41.25,  41.5 ,  41.75,  42.  ,  42.25,  42.5 ,  42.75,  43.  ,\n",
       "        43.25,  43.5 ,  43.75,  44.  ,  44.25,  44.5 ,  44.75,  45.  ,\n",
       "        45.25,  45.5 ,  45.75,  46.  ,  46.25,  46.5 ,  46.75,  47.  ,\n",
       "        47.25,  47.5 ,  47.75,  48.  ,  48.25,  48.5 ,  48.75,  49.  ,\n",
       "        49.25,  49.5 ,  49.75,  50.  ,  50.25,  50.5 ,  50.75,  51.  ,\n",
       "        51.25,  51.5 ,  51.75,  52.  ,  52.25,  52.5 ,  52.75,  53.  ,\n",
       "        53.25,  53.5 ,  53.75,  54.  ,  54.25,  54.5 ,  54.75,  55.  ,\n",
       "        55.25,  55.5 ,  55.75,  56.  ,  56.25,  56.5 ,  56.75,  57.  ,\n",
       "        57.25,  57.5 ,  57.75,  58.  ,  58.25,  58.5 ,  58.75,  59.  ,\n",
       "        59.25,  59.5 ,  59.75,  60.  ,  60.25,  60.5 ,  60.75,  61.  ,\n",
       "        61.25,  61.5 ,  61.75,  62.  ,  62.25,  62.5 ,  62.75,  63.  ,\n",
       "        63.25,  63.5 ,  63.75,  64.  ,  64.25,  64.5 ,  64.75,  65.  ,\n",
       "        65.25,  65.5 ,  65.75,  66.  ,  66.25,  66.5 ,  66.75,  67.  ,\n",
       "        67.25,  67.5 ,  67.75,  68.  ,  68.25,  68.5 ,  68.75,  69.  ,\n",
       "        69.25,  69.5 ,  69.75,  70.  ,  70.25,  70.5 ,  70.75,  71.  ,\n",
       "        71.25,  71.5 ,  71.75,  72.  ,  72.25,  72.5 ,  72.75,  73.  ,\n",
       "        73.25,  73.5 ,  73.75,  74.  ,  74.25,  74.5 ,  74.75,  75.  ,\n",
       "        75.25,  75.5 ,  75.75,  76.  ,  76.25,  76.5 ,  76.75,  77.  ,\n",
       "        77.25,  77.5 ,  77.75,  78.  ,  78.25,  78.5 ,  78.75,  79.  ,\n",
       "        79.25,  79.5 ,  79.75,  80.  ,  80.25,  80.5 ,  80.75,  81.  ,\n",
       "        81.25,  81.5 ,  81.75,  82.  ,  82.25,  82.5 ,  82.75,  83.  ,\n",
       "        83.25,  83.5 ,  83.75,  84.  ,  84.25,  84.5 ,  84.75,  85.  ,\n",
       "        85.25,  85.5 ,  85.75,  86.  ,  86.25,  86.5 ,  86.75,  87.  ,\n",
       "        87.25,  87.5 ,  87.75,  88.  ,  88.25,  88.5 ,  88.75,  89.  ,\n",
       "        89.25,  89.5 ,  89.75,  90.  ,  90.25,  90.5 ,  90.75,  91.  ,\n",
       "        91.25,  91.5 ,  91.75,  92.  ,  92.25,  92.5 ,  92.75,  93.  ,\n",
       "        93.25,  93.5 ,  93.75,  94.  ,  94.25,  94.5 ,  94.75,  95.  ,\n",
       "        95.25,  95.5 ,  95.75,  96.  ,  96.25,  96.5 ,  96.75,  97.  ,\n",
       "        97.25,  97.5 ,  97.75,  98.  ,  98.25,  98.5 ,  98.75,  99.  ,\n",
       "        99.25,  99.5 ,  99.75, 100.  , 100.25, 100.5 , 100.75, 101.  ,\n",
       "       101.25, 101.5 , 101.75, 102.  , 102.25, 102.5 , 102.75, 103.  ,\n",
       "       103.25, 103.5 , 103.75, 104.  , 104.25, 104.5 , 104.75, 105.  ,\n",
       "       105.25, 105.5 , 105.75, 106.  , 106.25, 106.5 , 106.75, 107.  ,\n",
       "       107.25, 107.5 , 107.75, 108.  , 108.25, 108.5 , 108.75, 109.  ,\n",
       "       109.25, 109.5 , 109.75, 110.  , 110.25, 110.5 , 110.75, 111.  ,\n",
       "       111.25, 111.5 , 111.75, 112.  , 112.25, 112.5 , 112.75, 113.  ,\n",
       "       113.25, 113.5 , 113.75, 114.  , 114.25, 114.5 , 114.75, 115.  ,\n",
       "       115.25, 115.5 , 115.75, 116.  , 116.25, 116.5 , 116.75, 117.  ,\n",
       "       117.25, 117.5 , 117.75, 118.  , 118.25, 118.5 , 118.75, 119.  ,\n",
       "       119.25, 119.5 , 119.75, 120.  , 120.25, 120.5 , 120.75, 121.  ,\n",
       "       121.25, 121.5 , 121.75, 122.  , 122.25, 122.5 , 122.75, 123.  ,\n",
       "       123.25, 123.5 , 123.75, 124.  , 124.25, 124.5 , 124.75, 125.  ,\n",
       "       125.25, 125.5 , 125.75, 126.  , 126.25, 126.5 , 126.75, 127.  ,\n",
       "       127.25, 127.5 , 127.75, 128.  , 128.25, 128.5 , 128.75, 129.  ,\n",
       "       129.25, 129.5 , 129.75, 130.  , 130.25, 130.5 , 130.75, 131.  ,\n",
       "       131.25, 131.5 , 131.75, 132.  , 132.25, 132.5 , 132.75, 133.  ,\n",
       "       133.25, 133.5 , 133.75, 134.  , 134.25, 134.5 , 134.75, 135.  ,\n",
       "       135.25, 135.5 , 135.75, 136.  , 136.25, 136.5 , 136.75, 137.  ,\n",
       "       137.25, 137.5 , 137.75, 138.  , 138.25, 138.5 , 138.75, 139.  ,\n",
       "       139.25, 139.5 , 139.75, 140.  , 140.25, 140.5 , 140.75, 141.  ,\n",
       "       141.25, 141.5 , 141.75, 142.  , 142.25, 142.5 , 142.75, 143.  ,\n",
       "       143.25, 143.5 , 143.75, 144.  , 144.25, 144.5 , 144.75, 145.  ,\n",
       "       145.25, 145.5 , 145.75, 146.  , 146.25, 146.5 , 146.75, 147.  ,\n",
       "       147.25, 147.5 , 147.75, 148.  , 148.25, 148.5 , 148.75, 149.  ,\n",
       "       149.25, 149.5 , 149.75, 150.  , 150.25, 150.5 , 150.75, 151.  ,\n",
       "       151.25, 151.5 , 151.75, 152.  , 152.25, 152.5 , 152.75, 153.  ,\n",
       "       153.25, 153.5 , 153.75, 154.  , 154.25, 154.5 , 154.75, 155.  ,\n",
       "       155.25, 155.5 , 155.75, 156.  , 156.25, 156.5 , 156.75, 157.  ,\n",
       "       157.25, 157.5 , 157.75, 158.  , 158.25, 158.5 , 158.75, 159.  ,\n",
       "       159.25, 159.5 , 159.75, 160.  , 160.25, 160.5 , 160.75, 161.  ,\n",
       "       161.25, 161.5 , 161.75, 162.  , 162.25, 162.5 , 162.75, 163.  ,\n",
       "       163.25, 163.5 , 163.75, 164.  , 164.25, 164.5 , 164.75, 165.  ,\n",
       "       165.25, 165.5 , 165.75, 166.  , 166.25, 166.5 , 166.75, 167.  ,\n",
       "       167.25, 167.5 , 167.75, 168.  , 168.25, 168.5 , 168.75, 169.  ,\n",
       "       169.25, 169.5 , 169.75, 170.  , 170.25, 170.5 , 170.75, 171.  ,\n",
       "       171.25, 171.5 , 171.75, 172.  , 172.25, 172.5 , 172.75, 173.  ,\n",
       "       173.25, 173.5 , 173.75, 174.  , 174.25, 174.5 , 174.75, 175.  ,\n",
       "       175.25, 175.5 , 175.75, 176.  , 176.25, 176.5 , 176.75, 177.  ,\n",
       "       177.25, 177.5 , 177.75, 178.  , 178.25, 178.5 , 178.75, 179.  ,\n",
       "       179.25, 179.5 , 179.75, 180.  , 180.25, 180.5 , 180.75, 181.  ,\n",
       "       181.25, 181.5 , 181.75, 182.  , 182.25, 182.5 ])"
      ]
     },
     "execution_count": 368,
     "metadata": {},
     "output_type": "execute_result"
    }
   ],
   "source": [
    "preco_inv[vme_barganha_max>0]"
   ]
  },
  {
   "cell_type": "code",
   "execution_count": 369,
   "metadata": {},
   "outputs": [
    {
     "data": {
      "text/plain": [
       "0.6419292714531732"
      ]
     },
     "execution_count": 369,
     "metadata": {},
     "output_type": "execute_result"
    }
   ],
   "source": [
    "np.max(wi)"
   ]
  },
  {
   "cell_type": "code",
   "execution_count": 387,
   "metadata": {},
   "outputs": [
    {
     "data": {
      "text/plain": [
       "array([0.        , 0.        , 0.        , 0.        , 0.        ,\n",
       "       0.        , 0.        , 0.        , 0.        , 0.        ,\n",
       "       0.        , 0.        , 0.        , 0.        , 0.        ,\n",
       "       0.        , 0.        , 0.        , 0.        , 0.        ,\n",
       "       0.        , 0.        , 0.        , 0.        , 0.        ,\n",
       "       0.        , 0.        , 0.        , 0.        , 0.        ,\n",
       "       0.        , 0.        , 0.        , 0.        , 0.        ,\n",
       "       0.        , 0.        , 0.        , 0.        , 0.        ,\n",
       "       0.        , 0.        , 0.        , 0.        , 0.        ,\n",
       "       0.        , 0.        , 0.        , 0.        , 0.        ,\n",
       "       0.        , 0.        , 0.        , 0.        , 0.        ,\n",
       "       0.        , 0.        , 0.        , 0.        , 0.        ,\n",
       "       0.        , 0.        , 0.        , 0.        , 0.        ,\n",
       "       0.        , 0.        , 0.        , 0.        , 0.        ,\n",
       "       0.        , 0.        , 0.        , 0.        , 0.        ,\n",
       "       0.        , 0.        , 0.5       , 0.5       , 0.5       ,\n",
       "       0.5       , 0.5       , 0.5       , 0.5       , 0.5       ,\n",
       "       0.5       , 0.47760008, 0.44480939, 0.41828075, 0.39472349,\n",
       "       0.37494361, 0.35990222, 0.34747131, 0.33585519, 0.32595693,\n",
       "       0.31640904, 0.30809124, 0.29988842, 0.2926218 , 0.28534393,\n",
       "       0.27881159, 0.27482914, 0.27129547, 0.26750655, 0.26410136,\n",
       "       0.26965215, 0.27566221, 0.28079896, 0.28566737, 0.2898269 ,\n",
       "       0.29381376, 0.29864053, 0.30319559, 0.30711805, 0.31085939,\n",
       "       0.31407858, 0.3171795 , 0.31984136, 0.3224294 , 0.32464243,\n",
       "       0.32681356, 0.32945784, 0.3320128 , 0.33422368, 0.3363774 ,\n",
       "       0.33823483, 0.34005863, 0.34162429, 0.34317367, 0.34449589,\n",
       "       0.34581475, 0.34742668, 0.34900978, 0.350382  , 0.3517389 ,\n",
       "       0.35290933, 0.35407463, 0.35507376, 0.35607549, 0.35692811,\n",
       "       0.3577892 , 0.35884416, 0.35989275, 0.36080208, 0.36171136,\n",
       "       0.36249527, 0.36328399, 0.36395923, 0.36464302, 0.36522357,\n",
       "       0.36581556, 0.36654212, 0.36727092, 0.36790294, 0.36854038,\n",
       "       0.36908956, 0.36964665, 0.37012291, 0.37060901, 0.37102082,\n",
       "       0.37144395, 0.37196401, 0.37248943, 0.372945  , 0.37340762,\n",
       "       0.37380592, 0.37421259, 0.37455983, 0.37491648, 0.37521807,\n",
       "       0.37552987, 0.37591359, 0.37630349, 0.37664149, 0.37698661,\n",
       "       0.37728356, 0.37758836, 0.37784833, 0.37811674, 0.37834333,\n",
       "       0.3785788 , 0.37886897, 0.37916522, 0.37942195, 0.3796853 ,\n",
       "       0.37991173, 0.3801452 , 0.3803441 , 0.38055037, 0.38072423,\n",
       "       0.38090569, 0.38112966, 0.38135924, 0.38155812, 0.38176291,\n",
       "       0.38193887, 0.38212098, 0.38227596, 0.3824373 , 0.38257305,\n",
       "       0.3827153 , 0.38289122, 0.38307217, 0.38322883, 0.3833907 ,\n",
       "       0.38352965, 0.38367396, 0.38379661, 0.38392472, 0.38403233,\n",
       "       0.38414549, 0.38428577, 0.3844305 , 0.38455571, 0.3846855 ,\n",
       "       0.38479677, 0.3849127 , 0.38501107, 0.38511416, 0.38520057,\n",
       "       0.38529175, 0.38540511, 0.3855224 , 0.38562376, 0.38572913,\n",
       "       0.38581935, 0.38591362, 0.38599346, 0.3860774 , 0.38614758,\n",
       "       0.38622188, 0.38631457, 0.38641074, 0.38649374, 0.38658026,\n",
       "       0.3866542 , 0.3867317 , 0.38679718, 0.38686624, 0.38692381,\n",
       "       0.38698496, 0.38706156, 0.38714124, 0.38720989, 0.38728165,\n",
       "       0.38734285, 0.38740718, 0.38746138, 0.38751873, 0.38756636,\n",
       "       0.38761715, 0.38768103, 0.38774767, 0.38780495, 0.38786501,\n",
       "       0.38791608, 0.38796993, 0.38801515, 0.38806316, 0.38810287,\n",
       "       0.38814537, 0.38819909, 0.38825527, 0.38830345, 0.3883541 ,\n",
       "       0.38839705, 0.38844247, 0.38848047, 0.38852095, 0.38855427,\n",
       "       0.38859008, 0.38863559, 0.38868332, 0.38872413, 0.38876506,\n",
       "       0.38879653, 0.38882753, 0.38884945, 0.38887105, 0.38888393,\n",
       "       0.38889661, 0.38891359, 0.38893032, 0.3889388 , 0.38894717,\n",
       "       0.3889476 , 0.38894803, 0.38894344, 0.38893891, 0.38893444,\n",
       "       0.38893004, 0.38893215, 0.38893423, 0.38893628, 0.38893831,\n",
       "       0.38894031, 0.38894228, 0.38894423, 0.38894615, 0.38894805,\n",
       "       0.38894992, 0.38895719, 0.38896436, 0.38897144, 0.38897844,\n",
       "       0.38898534, 0.38899216, 0.3889989 , 0.38900555, 0.38901212,\n",
       "       0.38901861, 0.38902502, 0.38903135, 0.38903761, 0.38904379,\n",
       "       0.3890499 , 0.38905594, 0.38906191, 0.38906781, 0.38907364,\n",
       "       0.3890794 , 0.3890851 , 0.38909073, 0.3890963 , 0.38910181,\n",
       "       0.38910725, 0.38911263, 0.38911796, 0.38912323, 0.38912844,\n",
       "       0.38913359, 0.38913869, 0.38914373, 0.38914872, 0.38915365,\n",
       "       0.38915853, 0.38916337, 0.38916815, 0.38917288, 0.38917756,\n",
       "       0.38918219, 0.38918678, 0.38919132, 0.38919581, 0.38920026,\n",
       "       0.38920467, 0.38920903, 0.38921334, 0.38921762, 0.38922185,\n",
       "       0.38922604, 0.38923019, 0.38923429, 0.38923836, 0.38924239,\n",
       "       0.38924639, 0.38925034, 0.38925425, 0.38925813, 0.38926198,\n",
       "       0.38926578, 0.38926955, 0.38927329, 0.38927699, 0.38928066,\n",
       "       0.3892843 , 0.3892879 , 0.38929147, 0.389295  , 0.38929851,\n",
       "       0.38930198, 0.38930543, 0.38930884, 0.38931222, 0.38931557,\n",
       "       0.3893189 , 0.38932219, 0.38932546, 0.3893287 , 0.38933191,\n",
       "       0.38933509, 0.38933825, 0.38934137, 0.38934448, 0.38934755,\n",
       "       0.3893506 , 0.38935363, 0.38935663, 0.38935961, 0.38936256,\n",
       "       0.38936548, 0.38936839, 0.38937127, 0.38937412, 0.38937696,\n",
       "       0.38937977, 0.38938255, 0.38938532, 0.38938806, 0.38939078,\n",
       "       0.38939349, 0.39016107, 0.39092866, 0.39169624, 0.39246383,\n",
       "       0.39323142, 0.393999  , 0.39476659, 0.39553417, 0.39630176,\n",
       "       0.39706934, 0.39783693, 0.39860452, 0.3993721 , 0.40013969,\n",
       "       0.40090727, 0.40167486, 0.40244245, 0.40321003, 0.40397762,\n",
       "       0.4047452 , 0.40551279, 0.40628038, 0.40704796, 0.40781555,\n",
       "       0.40858313, 0.40935072, 0.41011831, 0.41088589, 0.41165348,\n",
       "       0.41242106, 0.41318865, 0.41395624, 0.41472382, 0.41549141,\n",
       "       0.41625899, 0.41702658, 0.41779417, 0.41856175, 0.41932934,\n",
       "       0.42009692, 0.42086451, 0.4216321 , 0.42239968, 0.42316727,\n",
       "       0.42393485, 0.42470244, 0.42547003, 0.42623761, 0.4270052 ,\n",
       "       0.42777278, 0.42854037, 0.42930796, 0.43007554, 0.43084313,\n",
       "       0.43161071, 0.4323783 , 0.43314589, 0.43391347, 0.43468106,\n",
       "       0.43544864, 0.43621623, 0.43698382, 0.4377514 , 0.43851899,\n",
       "       0.43928657, 0.44005416, 0.44082175, 0.44158933, 0.44235692,\n",
       "       0.4431245 , 0.44389209, 0.44465968, 0.44542726, 0.44619485,\n",
       "       0.44696243, 0.44773002, 0.44849761, 0.44926519, 0.45003278,\n",
       "       0.45080036, 0.45156795, 0.45233554, 0.45310312, 0.45387071,\n",
       "       0.45463829, 0.45540588, 0.45617347, 0.45694105, 0.45770864,\n",
       "       0.45847622, 0.45924381, 0.4600114 , 0.46077898, 0.46154657,\n",
       "       0.46231415, 0.46308174, 0.46384932, 0.46461691, 0.4653845 ,\n",
       "       0.46615208, 0.46691967, 0.46768725, 0.46845484, 0.46922243,\n",
       "       0.46999001, 0.4707576 , 0.47152518, 0.47229277, 0.47306036,\n",
       "       0.47382794, 0.47459553, 0.47536311, 0.4761307 , 0.47689829,\n",
       "       0.47766587, 0.47843346, 0.47920104, 0.47996863, 0.48073622,\n",
       "       0.4815038 , 0.48227139, 0.48303897, 0.48380656, 0.48457415,\n",
       "       0.48534173, 0.48610932, 0.4868769 , 0.48764449, 0.48841208,\n",
       "       0.48917966, 0.48994725, 0.49071483, 0.49148242, 0.49225001,\n",
       "       0.49301759, 0.49378518, 0.49455276, 0.49532035, 0.49608794,\n",
       "       0.49685552, 0.49762311, 0.49839069, 0.49915828, 0.49992587,\n",
       "       0.50069345, 0.50146104, 0.50222862, 0.50299621, 0.5037638 ,\n",
       "       0.50453138, 0.50529897, 0.50606655, 0.50683414, 0.50760173,\n",
       "       0.50836931, 0.5091369 , 0.50990448, 0.51067207, 0.51143966,\n",
       "       0.51220724, 0.51297483, 0.51374241, 0.51451   , 0.51527759,\n",
       "       0.51604517, 0.51681276, 0.51758034, 0.51834793, 0.51911552,\n",
       "       0.5198831 , 0.52065069, 0.52141827, 0.52218586, 0.52295345,\n",
       "       0.52372103, 0.52448862, 0.5252562 , 0.52602379, 0.52679137,\n",
       "       0.52755896, 0.52832655, 0.52909413, 0.52986172, 0.5306293 ,\n",
       "       0.53139689, 0.53216448, 0.53293206, 0.53369965, 0.53446723,\n",
       "       0.53523482, 0.53600241, 0.53676999, 0.53753758, 0.53830516,\n",
       "       0.53907275, 0.53984034, 0.54060792, 0.54137551, 0.54214309,\n",
       "       0.54291068, 0.54367827, 0.54444585, 0.54521344, 0.54598102,\n",
       "       0.54674861, 0.5475162 , 0.54828378, 0.54905137, 0.54981895,\n",
       "       0.55058654, 0.55135413, 0.55212171, 0.5528893 , 0.55365688,\n",
       "       0.55442447, 0.55519206, 0.55595964, 0.55672723, 0.55749481,\n",
       "       0.5582624 , 0.55902999, 0.55979757, 0.56056516, 0.56133274,\n",
       "       0.56210033, 0.56286792, 0.5636355 , 0.56440309, 0.56517067,\n",
       "       0.56593826, 0.56670585, 0.56747343, 0.56824102, 0.5690086 ,\n",
       "       0.56977619, 0.57054378, 0.57131136, 0.57207895, 0.57284653,\n",
       "       0.57361412, 0.57438171, 0.57514929, 0.57591688, 0.57668446,\n",
       "       0.57745205, 0.57821964, 0.57898722, 0.57975481, 0.58052239,\n",
       "       0.58128998, 0.58205757, 0.58282515, 0.58359274, 0.58436032,\n",
       "       0.58512791, 0.5858955 , 0.58666308, 0.58743067, 0.58819825,\n",
       "       0.58896584, 0.58973343, 0.59050101, 0.5912686 , 0.59203618,\n",
       "       0.59280377, 0.59357135, 0.59433894, 0.59510653, 0.59587411,\n",
       "       0.5966417 , 0.59740928, 0.59817687, 0.59894446, 0.59971204,\n",
       "       0.60047963, 0.60124721, 0.6020148 , 0.60278239, 0.60354997,\n",
       "       0.60431756, 0.60508514, 0.60585273, 0.60662032, 0.6073879 ,\n",
       "       0.60815549, 0.60892307, 0.60969066, 0.61045825, 0.61122583,\n",
       "       0.61199342, 0.612761  , 0.61352859, 0.61429618, 0.61506376,\n",
       "       0.61583135, 0.61659893, 0.61736652, 0.61813411, 0.61890169,\n",
       "       0.61966928, 0.62043686, 0.62120445, 0.62197204, 0.62273962,\n",
       "       0.62350721, 0.62427479, 0.62504238, 0.62580997, 0.62657755,\n",
       "       0.62734514, 0.62811272, 0.62888031, 0.6296479 , 0.63041548,\n",
       "       0.63118307, 0.63195065, 0.63271824, 0.63348583, 0.63425341,\n",
       "       0.635021  , 0.63578858, 0.63655617, 0.63732376, 0.63809134,\n",
       "       0.63885893, 0.63962651, 0.6403941 , 0.64116169, 0.64192927,\n",
       "       0.64192927])"
      ]
     },
     "execution_count": 387,
     "metadata": {},
     "output_type": "execute_result"
    }
   ],
   "source": [
    "wi"
   ]
  },
  {
   "cell_type": "code",
   "execution_count": 371,
   "metadata": {},
   "outputs": [
    {
     "data": {
      "text/plain": [
       "array([ 19.25,  19.5 ,  19.75,  20.  ,  20.25,  20.5 ,  20.75,  21.  ,\n",
       "        21.25,  21.5 ,  21.75,  22.  ,  22.25,  22.5 ,  22.75,  23.  ,\n",
       "        23.25,  23.5 ,  23.75,  24.  ,  24.25,  24.5 ,  24.75,  25.  ,\n",
       "        25.25,  25.5 ,  25.75,  26.  ,  26.25,  26.5 ,  26.75,  27.  ,\n",
       "        27.25,  27.5 ,  27.75,  28.  ,  28.25,  28.5 ,  28.75,  29.  ,\n",
       "        29.25,  29.5 ,  29.75,  30.  ,  30.25,  30.5 ,  30.75,  31.  ,\n",
       "        31.25,  31.5 ,  31.75,  32.  ,  32.25,  32.5 ,  32.75,  33.  ,\n",
       "        33.25,  33.5 ,  33.75,  34.  ,  34.25,  34.5 ,  34.75,  35.  ,\n",
       "        35.25,  35.5 ,  35.75,  36.  ,  36.25,  36.5 ,  36.75,  37.  ,\n",
       "        37.25,  37.5 ,  37.75,  38.  ,  38.25,  38.5 ,  38.75,  39.  ,\n",
       "        39.25,  39.5 ,  39.75,  40.  ,  40.25,  40.5 ,  40.75,  41.  ,\n",
       "        41.25,  41.5 ,  41.75,  42.  ,  42.25,  42.5 ,  42.75,  43.  ,\n",
       "        43.25,  43.5 ,  43.75,  44.  ,  44.25,  44.5 ,  44.75,  45.  ,\n",
       "        45.25,  45.5 ,  45.75,  46.  ,  46.25,  46.5 ,  46.75,  47.  ,\n",
       "        47.25,  47.5 ,  47.75,  48.  ,  48.25,  48.5 ,  48.75,  49.  ,\n",
       "        49.25,  49.5 ,  49.75,  50.  ,  50.25,  50.5 ,  50.75,  51.  ,\n",
       "        51.25,  51.5 ,  51.75,  52.  ,  52.25,  52.5 ,  52.75,  53.  ,\n",
       "        53.25,  53.5 ,  53.75,  54.  ,  54.25,  54.5 ,  54.75,  55.  ,\n",
       "        55.25,  55.5 ,  55.75,  56.  ,  56.25,  56.5 ,  56.75,  57.  ,\n",
       "        57.25,  57.5 ,  57.75,  58.  ,  58.25,  58.5 ,  58.75,  59.  ,\n",
       "        59.25,  59.5 ,  59.75,  60.  ,  60.25,  60.5 ,  60.75,  61.  ,\n",
       "        61.25,  61.5 ,  61.75,  62.  ,  62.25,  62.5 ,  62.75,  63.  ,\n",
       "        63.25,  63.5 ,  63.75,  64.  ,  64.25,  64.5 ,  64.75,  65.  ,\n",
       "        65.25,  65.5 ,  65.75,  66.  ,  66.25,  66.5 ,  66.75,  67.  ,\n",
       "        67.25,  67.5 ,  67.75,  68.  ,  68.25,  68.5 ,  68.75,  69.  ,\n",
       "        69.25,  69.5 ,  69.75,  70.  ,  70.25,  70.5 ,  70.75,  71.  ,\n",
       "        71.25,  71.5 ,  71.75,  72.  ,  72.25,  72.5 ,  72.75,  73.  ,\n",
       "        73.25,  73.5 ,  73.75,  74.  ,  74.25,  74.5 ,  74.75,  75.  ,\n",
       "        75.25,  75.5 ,  75.75,  76.  ,  76.25,  76.5 ,  76.75,  77.  ,\n",
       "        77.25,  77.5 ,  77.75,  78.  ,  78.25,  78.5 ,  78.75,  79.  ,\n",
       "        79.25,  79.5 ,  79.75,  80.  ,  80.25,  80.5 ,  80.75,  81.  ,\n",
       "        81.25,  81.5 ,  81.75,  82.  ,  82.25,  82.5 ,  82.75,  83.  ,\n",
       "        83.25,  83.5 ,  83.75,  84.  ,  84.25,  84.5 ,  84.75,  85.  ,\n",
       "        85.25,  85.5 ,  85.75,  86.  ,  86.25,  86.5 ,  86.75,  87.  ,\n",
       "        87.25,  87.5 ,  87.75,  88.  ,  88.25,  88.5 ,  88.75,  89.  ,\n",
       "        89.25,  89.5 ,  89.75,  90.  ,  90.25,  90.5 ,  90.75,  91.  ,\n",
       "        91.25,  91.5 ,  91.75,  92.  ,  92.25,  92.5 ,  92.75,  93.  ,\n",
       "        93.25,  93.5 ,  93.75,  94.  ,  94.25,  94.5 ,  94.75,  95.  ,\n",
       "        95.25,  95.5 ,  95.75,  96.  ,  96.25,  96.5 ,  96.75,  97.  ,\n",
       "        97.25,  97.5 ,  97.75,  98.  ,  98.25,  98.5 ,  98.75,  99.  ,\n",
       "        99.25,  99.5 ,  99.75, 100.  , 100.25, 100.5 , 100.75, 101.  ,\n",
       "       101.25, 101.5 , 101.75, 102.  , 102.25, 102.5 , 102.75, 103.  ,\n",
       "       103.25, 103.5 , 103.75, 104.  , 104.25, 104.5 , 104.75, 105.  ,\n",
       "       105.25, 105.5 , 105.75, 106.  , 106.25, 106.5 , 106.75, 107.  ,\n",
       "       107.25, 107.5 , 107.75, 108.  , 108.25, 108.5 , 108.75, 109.  ,\n",
       "       109.25, 109.5 , 109.75, 110.  , 110.25, 110.5 , 110.75, 111.  ,\n",
       "       111.25, 111.5 , 111.75, 112.  , 112.25, 112.5 , 112.75, 113.  ,\n",
       "       113.25, 113.5 , 113.75, 114.  , 114.25, 114.5 , 114.75, 115.  ,\n",
       "       115.25, 115.5 , 115.75, 116.  , 116.25, 116.5 , 116.75, 117.  ,\n",
       "       117.25, 117.5 , 117.75, 118.  , 118.25, 118.5 , 118.75, 119.  ,\n",
       "       119.25, 119.5 , 119.75, 120.  , 120.25, 120.5 , 120.75, 121.  ,\n",
       "       121.25, 121.5 , 121.75, 122.  , 122.25, 122.5 , 122.75, 123.  ,\n",
       "       123.25, 123.5 , 123.75, 124.  , 124.25, 124.5 , 124.75, 125.  ,\n",
       "       125.25, 125.5 , 125.75, 126.  , 126.25, 126.5 , 126.75, 127.  ,\n",
       "       127.25, 127.5 , 127.75, 128.  , 128.25, 128.5 , 128.75, 129.  ,\n",
       "       129.25, 129.5 , 129.75, 130.  , 130.25, 130.5 , 130.75, 131.  ,\n",
       "       131.25, 131.5 , 131.75, 132.  , 132.25, 132.5 , 132.75, 133.  ,\n",
       "       133.25, 133.5 , 133.75, 134.  , 134.25, 134.5 , 134.75, 135.  ,\n",
       "       135.25, 135.5 , 135.75, 136.  , 136.25, 136.5 , 136.75, 137.  ,\n",
       "       137.25, 137.5 , 137.75, 138.  , 138.25, 138.5 , 138.75, 139.  ,\n",
       "       139.25, 139.5 , 139.75, 140.  , 140.25, 140.5 , 140.75, 141.  ,\n",
       "       141.25, 141.5 , 141.75, 142.  , 142.25, 142.5 , 142.75, 143.  ,\n",
       "       143.25, 143.5 , 143.75, 144.  , 144.25, 144.5 , 144.75, 145.  ,\n",
       "       145.25, 145.5 , 145.75, 146.  , 146.25, 146.5 , 146.75, 147.  ,\n",
       "       147.25, 147.5 , 147.75, 148.  , 148.25, 148.5 , 148.75, 149.  ,\n",
       "       149.25, 149.5 , 149.75, 150.  , 150.25, 150.5 , 150.75, 151.  ,\n",
       "       151.25, 151.5 , 151.75, 152.  , 152.25, 152.5 , 152.75, 153.  ,\n",
       "       153.25, 153.5 , 153.75, 154.  , 154.25, 154.5 , 154.75, 155.  ,\n",
       "       155.25, 155.5 , 155.75, 156.  , 156.25, 156.5 , 156.75, 157.  ,\n",
       "       157.25, 157.5 , 157.75, 158.  , 158.25, 158.5 , 158.75, 159.  ,\n",
       "       159.25, 159.5 , 159.75, 160.  , 160.25, 160.5 , 160.75, 161.  ,\n",
       "       161.25, 161.5 , 161.75, 162.  , 162.25, 162.5 , 162.75, 163.  ,\n",
       "       163.25, 163.5 , 163.75, 164.  , 164.25, 164.5 , 164.75, 165.  ,\n",
       "       165.25, 165.5 , 165.75, 166.  , 166.25, 166.5 , 166.75, 167.  ,\n",
       "       167.25, 167.5 , 167.75, 168.  , 168.25, 168.5 , 168.75, 169.  ,\n",
       "       169.25, 169.5 , 169.75, 170.  , 170.25, 170.5 , 170.75, 171.  ,\n",
       "       171.25, 171.5 , 171.75, 172.  , 172.25, 172.5 , 172.75, 173.  ,\n",
       "       173.25, 173.5 , 173.75, 174.  , 174.25, 174.5 , 174.75, 175.  ,\n",
       "       175.25, 175.5 , 175.75, 176.  , 176.25, 176.5 , 176.75, 177.  ,\n",
       "       177.25, 177.5 , 177.75, 178.  , 178.25, 178.5 , 178.75, 179.  ,\n",
       "       179.25, 179.5 , 179.75, 180.  , 180.25, 180.5 , 180.75, 181.  ,\n",
       "       181.25, 181.5 , 181.75, 182.  , 182.25, 182.5 ])"
      ]
     },
     "execution_count": 371,
     "metadata": {},
     "output_type": "execute_result"
    }
   ],
   "source": [
    "preco_inv[wi>0]"
   ]
  },
  {
   "cell_type": "code",
   "execution_count": 372,
   "metadata": {},
   "outputs": [
    {
     "name": "stdout",
     "output_type": "stream",
     "text": [
      "Hoje, o gatilho explorar $\\Pi$ Dog+Feather é: 73.0\n",
      "Hoje, o gatilho explorar Head é: 73.125\n",
      "Hoje, o gatilho simultaneo $\\Pi$ Dog+Feather é: 78.5\n",
      "Hoje, o gatilho simultaneo Head é: 82.25\n"
     ]
    },
    {
     "data": {
      "text/plain": [
       "[]"
      ]
     },
     "execution_count": 372,
     "metadata": {},
     "output_type": "execute_result"
    },
    {
     "data": {
      "image/png": "[encoded data removed]",
      "text/plain": [
       "<Figure size 720x360 with 1 Axes>"
      ]
     },
     "metadata": {
      "needs_background": "light"
     },
     "output_type": "display_data"
    }
   ],
   "source": [
    "#####Figuras de Gatilho e a#####\n",
    "fig,ax = plt.subplots(1,1, figsize=(10,5))\n",
    "sns.despine(left=True)\n",
    "print('Hoje, o gatilho explorar $\\Pi$ Dog+Feather é:',round(gatilho_port,3))\n",
    "print('Hoje, o gatilho explorar Head é:',round(g[0],3))\n",
    "print('Hoje, o gatilho simultaneo $\\Pi$ Dog+Feather é:',pa1)\n",
    "print('Hoje, o gatilho simultaneo Head é:',pa)\n",
    "\n",
    "ax.plot(preco_inv,L_zero1, color='blue', ls='-' )\n",
    "ax.plot(preco_inv,F_zero1, color='red', ls='-' )\n",
    "\n",
    "ax.plot(preco_inv,L_zero, color='green', ls='--' )\n",
    "ax.plot(preco_inv,F_zero, color='orange', ls='--' )\n",
    "\n",
    "ax.plot(preco_inv,(1-wi)*vme_barganha_max, color='black', ls='-')\n",
    "ax.plot(preco_inv,wi*vme_barganha_max, color='black', ls='--')\n",
    "\n",
    "#ax.plot(preco_inv,U_i,color='black',ls='-')\n",
    "#ax.plot(preco_inv,EXP_custo,color='black',ls='-')\n",
    "\n",
    "ax.axvline(x=gatilho_port, linestyle='-', color='grey')\n",
    "ax.axvline(x=pa1, linestyle='-', color='black')\n",
    "\n",
    "\n",
    "ax.axvline(x=g[0], linestyle='--', color='grey')\n",
    "ax.axvline(x=pa, linestyle='--', color='black')\n",
    "\n",
    "\n",
    "ax.axhline(0, linestyle='--', color='grey')\n",
    "\n",
    "#ax.axvline(pa, linestyle='--', color='grey')\n",
    "\n",
    "ax.set_ylim(-20,250)\n",
    "ax.set_xlim(-5,120)\n",
    "\n",
    "#ax2.plot(V_vetor,F_V_Matrix[F_V_Matrix.shape[0]-1,:], color='blue', ls='--' )\n",
    "\n",
    "#ax2.legend(['Lider','Seguidor','Barganha'], loc='upper left', shadow=True)\n",
    "ax.legend(['D+F-Lider','D+F-Seguidor','H-Lider','H-Seguidor','D-Barganha','H-Barganha','$P^{**}$- D+F','$P^{s}$-D+F','$P^{**}$-H','$P^{s}$-H'], loc='upper left', shadow=True)\n",
    "ax.set_xlabel('Preço do Petróleo- $/bbl')\n",
    "ax.set_ylabel('Valor -  M$')\n",
    "ax.set_title('Avaliação Exploratória - Jogo com Portfólio')\n",
    "\n",
    "ax.set_xlim(right=100)\n",
    "ax.set_ylim(top=2500)\n",
    "ax.set_ylim(bottom=-100)\n",
    "#ax2.set_title('Opção de Investir em função do Preço')\n",
    "\n",
    "plt.plot()"
   ]
  },
  {
   "cell_type": "code",
   "execution_count": 385,
   "metadata": {},
   "outputs": [
    {
     "name": "stdout",
     "output_type": "stream",
     "text": [
      "Hoje, o gatilho explorar $\\Pi$ Dog+Feather é: 73.0\n",
      "Hoje, o gatilho explorar Head é: 73.125\n",
      "Hoje, o gatilho simultaneo $\\Pi$ Dog+Feather é: 78.5\n",
      "Hoje, o gatilho simultaneo Head é: 82.25\n"
     ]
    },
    {
     "data": {
      "text/plain": [
       "[]"
      ]
     },
     "execution_count": 385,
     "metadata": {},
     "output_type": "execute_result"
    },
    {
     "data": {
      "image/png": "[encoded data removed]",
      "text/plain": [
       "<Figure size 720x360 with 1 Axes>"
      ]
     },
     "metadata": {
      "needs_background": "light"
     },
     "output_type": "display_data"
    }
   ],
   "source": [
    "#####Figuras de Gatilho e a#####\n",
    "fig,ax = plt.subplots(1,1, figsize=(10,5))\n",
    "sns.despine(left=True)\n",
    "print('Hoje, o gatilho explorar $\\Pi$ Dog+Feather é:',round(gatilho_port,3))\n",
    "print('Hoje, o gatilho explorar Head é:',round(g[0],3))\n",
    "print('Hoje, o gatilho simultaneo $\\Pi$ Dog+Feather é:',pa1)\n",
    "print('Hoje, o gatilho simultaneo Head é:',pa)\n",
    "\n",
    "ax.plot(preco_inv,L_zero1, color='blue', ls='-' )\n",
    "ax.plot(preco_inv,F_zero1, color='red', ls='-' )\n",
    "\n",
    "ax.plot(preco_inv,L_zero, color='green', ls='--' )\n",
    "ax.plot(preco_inv,F_zero, color='orange', ls='--' )\n",
    "\n",
    "ax.plot(preco_inv,(1-wi)*vme_barganha_max, color='black', ls='-')\n",
    "ax.plot(preco_inv,wi*vme_barganha_max, color='black', ls='--')\n",
    "\n",
    "#ax.plot(preco_inv,U_i,color='black',ls='-')\n",
    "#ax.plot(preco_inv,EXP_custo,color='black',ls='-')\n",
    "\n",
    "ax.axvline(x=gatilho_port, linestyle='-', color='grey')\n",
    "ax.axvline(x=pa1, linestyle='-', color='black')\n",
    "\n",
    "\n",
    "ax.axvline(x=g[0], linestyle='--', color='grey')\n",
    "ax.axvline(x=pa, linestyle='--', color='black')\n",
    "\n",
    "\n",
    "ax.axhline(0, linestyle='--', color='grey')\n",
    "\n",
    "#ax.axvline(pa, linestyle='--', color='grey')\n",
    "\n",
    "ax.set_ylim(-20,250)\n",
    "ax.set_xlim(-5,120)\n",
    "\n",
    "#ax2.plot(V_vetor,F_V_Matrix[F_V_Matrix.shape[0]-1,:], color='blue', ls='--' )\n",
    "\n",
    "#ax2.legend(['Lider','Seguidor','Barganha'], loc='upper left', shadow=True)\n",
    "ax.legend(['D+F-Lider','D+F-Seguidor','H-Lider','H-Seguidor','D+F-Barganha','H-Barganha','$P^{**}$- D+F','$P^{s}$-D+F','$P^{**}$-H','$P^{s}$-H'], loc='upper left', shadow=True)\n",
    "ax.set_xlabel('Preço do Petróleo- $/bbl')\n",
    "ax.set_ylabel('Valor -  M$')\n",
    "ax.set_title('Avaliação Exploratória - Jogo com Portfólio')\n",
    "ax.set_xlim(left=68)\n",
    "ax.set_xlim(right=85)\n",
    "ax.set_ylim(top=2500)\n",
    "ax.set_ylim(bottom=500)\n",
    "#ax2.set_title('Opção de Investir em função do Preço')\n",
    "\n",
    "plt.plot()"
   ]
  },
  {
   "cell_type": "code",
   "execution_count": 377,
   "metadata": {},
   "outputs": [],
   "source": [
    "preco_barganha_plus=np.loadtxt('barganha_plus_tres_ativos_preco.txt')"
   ]
  },
  {
   "cell_type": "code",
   "execution_count": 378,
   "metadata": {},
   "outputs": [],
   "source": [
    "vme_barganha_plus=np.loadtxt('barganha_plus_tres_ativos_vme.txt')"
   ]
  },
  {
   "cell_type": "code",
   "execution_count": null,
   "metadata": {},
   "outputs": [],
   "source": []
  },
  {
   "cell_type": "code",
   "execution_count": 379,
   "metadata": {},
   "outputs": [],
   "source": [
    "vme_barganha_plus_interp=np.interp(preco_inv,preco_barganha_plus,vme_barganha_plus)"
   ]
  },
  {
   "cell_type": "code",
   "execution_count": 380,
   "metadata": {},
   "outputs": [],
   "source": [
    "vme_barganha_plus_max=np.maximum(0,vme_barganha_plus_interp)"
   ]
  },
  {
   "cell_type": "code",
   "execution_count": 381,
   "metadata": {},
   "outputs": [
    {
     "name": "stderr",
     "output_type": "stream",
     "text": [
      "C:\\Users\\LG\\Anaconda3\\lib\\site-packages\\ipykernel_launcher.py:2: RuntimeWarning: invalid value encountered in true_divide\n",
      "  \n"
     ]
    }
   ],
   "source": [
    "####Pedaco do Godfish\n",
    "wi_plus=.5+( np.maximum(0,L_zero)-np.maximum(0,L_zero1))/(2*vme_barganha_plus_max)"
   ]
  },
  {
   "cell_type": "code",
   "execution_count": 382,
   "metadata": {},
   "outputs": [],
   "source": [
    "wi_plus=np.nan_to_num(wi_plus)"
   ]
  },
  {
   "cell_type": "code",
   "execution_count": 383,
   "metadata": {},
   "outputs": [
    {
     "data": {
      "text/plain": [
       "[]"
      ]
     },
     "execution_count": 383,
     "metadata": {},
     "output_type": "execute_result"
    },
    {
     "data": {
      "image/png": "[encoded data removed]",
      "text/plain": [
       "<Figure size 720x360 with 1 Axes>"
      ]
     },
     "metadata": {
      "needs_background": "light"
     },
     "output_type": "display_data"
    }
   ],
   "source": [
    "#####Figuras de Gatilho e a#####\n",
    "fig,ax = plt.subplots(1,1, figsize=(10,5))\n",
    "sns.despine(left=True)\n",
    "\n",
    "#ax.axvline(pa, linestyle='--', color='grey')\n",
    "ax.plot(preco_inv,100*wi_plus, ls=':', color='black')\n",
    "#ax.set_ylim(0,100)\n",
    "#ax.set_xlim(-5,120)\n",
    "\n",
    "#ax2.plot(V_vetor,F_V_Matrix[F_V_Matrix.shape[0]-1,:], color='blue', ls='--' )\n",
    "\n",
    "#ax2.legend(['Lider','Seguidor','Barganha'], loc='upper left', shadow=True)\n",
    "ax.legend(['Weight-Head'], shadow=True)\n",
    "ax.set_xlabel('Preço do Petróleo - $/bbl')\n",
    "ax.set_ylabel('%-Barganha')\n",
    "ax.set_xlim(right=100)\n",
    "ax.set_xlim(left=15)\n",
    "#ax.set_ylim(top=65)\n",
    "#ax.set_ylim(bottom=40)\n",
    "ax.set_title('Peso para Head na Barganha')\n",
    "\n",
    "plt.plot()"
   ]
  },
  {
   "cell_type": "code",
   "execution_count": 386,
   "metadata": {},
   "outputs": [
    {
     "name": "stdout",
     "output_type": "stream",
     "text": [
      "Hoje, o gatilho explorar $\\Pi$ Dog+Feather é: 73.0\n",
      "Hoje, o gatilho explorar Head é: 73.125\n",
      "Hoje, o gatilho simultaneo $\\Pi$ Dog+Feather é: 78.5\n",
      "Hoje, o gatilho simultaneo Head é: 82.25\n"
     ]
    },
    {
     "data": {
      "text/plain": [
       "[]"
      ]
     },
     "execution_count": 386,
     "metadata": {},
     "output_type": "execute_result"
    },
    {
     "data": {
      "image/png": "[encoded data removed]",
      "text/plain": [
       "<Figure size 720x360 with 1 Axes>"
      ]
     },
     "metadata": {
      "needs_background": "light"
     },
     "output_type": "display_data"
    }
   ],
   "source": [
    "#####Figuras de Gatilho e a#####\n",
    "fig,ax = plt.subplots(1,1, figsize=(10,5))\n",
    "sns.despine(left=True)\n",
    "print('Hoje, o gatilho explorar $\\Pi$ Dog+Feather é:',round(gatilho_port,3))\n",
    "print('Hoje, o gatilho explorar Head é:',round(g[0],3))\n",
    "print('Hoje, o gatilho simultaneo $\\Pi$ Dog+Feather é:',pa1)\n",
    "print('Hoje, o gatilho simultaneo Head é:',pa)\n",
    "\n",
    "ax.plot(preco_inv,L_zero1, color='blue', ls='-' )\n",
    "ax.plot(preco_inv,F_zero1, color='red', ls='-' )\n",
    "\n",
    "ax.plot(preco_inv,L_zero, color='green', ls='--' )\n",
    "ax.plot(preco_inv,F_zero, color='orange', ls='--' )\n",
    "\n",
    "ax.plot(preco_inv,(1-wi_plus)*vme_barganha_plus_max, color='black', ls='-')\n",
    "ax.plot(preco_inv,wi_plus*vme_barganha_plus_max, color='black', ls='--')\n",
    "\n",
    "#ax.plot(preco_inv,U_i,color='black',ls='-')\n",
    "#ax.plot(preco_inv,EXP_custo,color='black',ls='-')\n",
    "\n",
    "ax.axvline(x=gatilho_port, linestyle='-', color='grey')\n",
    "ax.axvline(x=pa1, linestyle='-', color='black')\n",
    "\n",
    "\n",
    "ax.axvline(x=g[0], linestyle='--', color='grey')\n",
    "ax.axvline(x=pa, linestyle='--', color='black')\n",
    "\n",
    "\n",
    "ax.axhline(0, linestyle='--', color='grey')\n",
    "\n",
    "#ax.axvline(pa, linestyle='--', color='grey')\n",
    "\n",
    "ax.set_ylim(-20,250)\n",
    "ax.set_xlim(-5,120)\n",
    "\n",
    "#ax2.plot(V_vetor,F_V_Matrix[F_V_Matrix.shape[0]-1,:], color='blue', ls='--' )\n",
    "\n",
    "#ax2.legend(['Lider','Seguidor','Barganha'], loc='upper left', shadow=True)\n",
    "ax.legend(['D+F-Lider','D+F-Seguidor','H-Lider','H-Seguidor','D+F-Barganha','H-Barganha','$P^{**}$- D+F','$P^{s}$-D+F','$P^{**}$-H','$P^{s}$-H'], loc='upper left', shadow=True)\n",
    "ax.set_xlabel('Preço do Petróleo- $/bbl')\n",
    "ax.set_ylabel('Valor -  M$')\n",
    "ax.set_title('Avaliação Exploratória - Jogo com Portfólio')\n",
    "ax.set_xlim(left=68)\n",
    "ax.set_xlim(right=85)\n",
    "ax.set_ylim(top=2500)\n",
    "ax.set_ylim(bottom=500)\n",
    "#ax2.set_title('Opção de Investir em função do Preço')\n",
    "\n",
    "plt.plot()"
   ]
  },
  {
   "cell_type": "code",
   "execution_count": null,
   "metadata": {},
   "outputs": [],
   "source": []
  }
 ],
 "metadata": {
  "kernelspec": {
   "display_name": "Python 3",
   "language": "python",
   "name": "python3"
  },
  "language_info": {
   "codemirror_mode": {
    "name": "ipython",
    "version": 3
   },
   "file_extension": ".py",
   "mimetype": "text/x-python",
   "name": "python",
   "nbconvert_exporter": "python",
   "pygments_lexer": "ipython3",
   "version": "3.7.4"
  }
 },
 "nbformat": 4,
 "nbformat_minor": 2
}
