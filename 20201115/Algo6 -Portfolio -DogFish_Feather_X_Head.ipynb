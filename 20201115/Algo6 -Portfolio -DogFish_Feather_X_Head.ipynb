{
 "cells": [
  {
   "cell_type": "markdown",
   "metadata": {},
   "source": [
    "### Portfolio of Oil Exploration Assets: Learning Options, Sequential Drilling Options and Defer Options \n",
    "####  Marco Antonio Guimarães Dias, \n",
    "#### Luigi de Magalhães Detomi Calvette\n",
    "##### RO Congress - Boston 2017\n"
   ]
  },
  {
   "cell_type": "markdown",
   "metadata": {},
   "source": [
    "[Paper](http://www.realoptions.org/openconf2017/data/papers/57.pdf)"
   ]
  },
  {
   "cell_type": "code",
   "execution_count": 1,
   "metadata": {},
   "outputs": [],
   "source": [
    "import numpy as np\n",
    "import pandas as pd\n",
    "import matplotlib.pyplot as plt\n",
    "%matplotlib inline\n",
    "import seaborn as sns\n",
    "import scipy as sci\n",
    "from scipy.stats import norm\n",
    "import time\n",
    "import winsound"
   ]
  },
  {
   "cell_type": "code",
   "execution_count": null,
   "metadata": {},
   "outputs": [],
   "source": []
  },
  {
   "cell_type": "code",
   "execution_count": 2,
   "metadata": {},
   "outputs": [],
   "source": [
    "\n",
    "duration = 1000  # milliseconds\n",
    "freq = 440  # Hz"
   ]
  },
  {
   "cell_type": "code",
   "execution_count": 3,
   "metadata": {},
   "outputs": [
    {
     "data": {
      "text/html": [
       "<div>\n",
       "<style scoped>\n",
       "    .dataframe tbody tr th:only-of-type {\n",
       "        vertical-align: middle;\n",
       "    }\n",
       "\n",
       "    .dataframe tbody tr th {\n",
       "        vertical-align: top;\n",
       "    }\n",
       "\n",
       "    .dataframe thead th {\n",
       "        text-align: right;\n",
       "    }\n",
       "</style>\n",
       "<table border=\"1\" class=\"dataframe\">\n",
       "  <thead>\n",
       "    <tr style=\"text-align: right;\">\n",
       "      <th>Type</th>\n",
       "      <th>Head</th>\n",
       "    </tr>\n",
       "  </thead>\n",
       "  <tbody>\n",
       "    <tr>\n",
       "      <td>CF</td>\n",
       "      <td>0.20</td>\n",
       "    </tr>\n",
       "    <tr>\n",
       "      <td>I_w</td>\n",
       "      <td>80.00</td>\n",
       "    </tr>\n",
       "    <tr>\n",
       "      <td>q</td>\n",
       "      <td>0.18</td>\n",
       "    </tr>\n",
       "    <tr>\n",
       "      <td>B</td>\n",
       "      <td>950.00</td>\n",
       "    </tr>\n",
       "    <tr>\n",
       "      <td>Owner</td>\n",
       "      <td>1.00</td>\n",
       "    </tr>\n",
       "  </tbody>\n",
       "</table>\n",
       "</div>"
      ],
      "text/plain": [
       "Type     Head\n",
       "CF       0.20\n",
       "I_w     80.00\n",
       "q        0.18\n",
       "B      950.00\n",
       "Owner    1.00"
      ]
     },
     "execution_count": 3,
     "metadata": {},
     "output_type": "execute_result"
    }
   ],
   "source": [
    "#Importar Case \n",
    "case=pd.read_csv(\"Case_Guy_Head.csv\", sep=';')\n",
    "case.set_index('Type', inplace=True)\n",
    "case=case.astype(float).T\n",
    "case"
   ]
  },
  {
   "cell_type": "code",
   "execution_count": 4,
   "metadata": {},
   "outputs": [],
   "source": [
    "###Dados de Entrada###\n",
    "r=0.03\n",
    "delta=0.038\n",
    "sigma=0.3\n",
    "tau=3\n",
    "P=50\n",
    "rho=0.5\n",
    "CF=case.iloc[0,0]\n",
    "q=case.iloc[2,0]\n",
    "B=case.iloc[3,0]\n",
    "Iw=case.iloc[1,0]\n",
    "Id=B*5.35 + 650"
   ]
  },
  {
   "cell_type": "code",
   "execution_count": 5,
   "metadata": {},
   "outputs": [
    {
     "name": "stdout",
     "output_type": "stream",
     "text": [
      "50 0.2 0.18 950.0 80.0 5732.5\n"
     ]
    }
   ],
   "source": [
    "print(P,CF,q,B,Iw,Id)"
   ]
  },
  {
   "cell_type": "code",
   "execution_count": 6,
   "metadata": {},
   "outputs": [
    {
     "data": {
      "text/html": [
       "<div>\n",
       "<style scoped>\n",
       "    .dataframe tbody tr th:only-of-type {\n",
       "        vertical-align: middle;\n",
       "    }\n",
       "\n",
       "    .dataframe tbody tr th {\n",
       "        vertical-align: top;\n",
       "    }\n",
       "\n",
       "    .dataframe thead th {\n",
       "        text-align: right;\n",
       "    }\n",
       "</style>\n",
       "<table border=\"1\" class=\"dataframe\">\n",
       "  <thead>\n",
       "    <tr style=\"text-align: right;\">\n",
       "      <th>Type</th>\n",
       "      <th>DogFish</th>\n",
       "    </tr>\n",
       "  </thead>\n",
       "  <tbody>\n",
       "    <tr>\n",
       "      <td>CF</td>\n",
       "      <td>0.3</td>\n",
       "    </tr>\n",
       "    <tr>\n",
       "      <td>I_w</td>\n",
       "      <td>80.0</td>\n",
       "    </tr>\n",
       "    <tr>\n",
       "      <td>q</td>\n",
       "      <td>0.2</td>\n",
       "    </tr>\n",
       "    <tr>\n",
       "      <td>B</td>\n",
       "      <td>620.0</td>\n",
       "    </tr>\n",
       "    <tr>\n",
       "      <td>Owner</td>\n",
       "      <td>0.0</td>\n",
       "    </tr>\n",
       "  </tbody>\n",
       "</table>\n",
       "</div>"
      ],
      "text/plain": [
       "Type   DogFish\n",
       "CF         0.3\n",
       "I_w       80.0\n",
       "q          0.2\n",
       "B        620.0\n",
       "Owner      0.0"
      ]
     },
     "execution_count": 6,
     "metadata": {},
     "output_type": "execute_result"
    }
   ],
   "source": [
    "#Importar Case 1 - DogFish\n",
    "case1=pd.read_csv(\"Case_Guy_DogFish.csv\", sep=';')\n",
    "case1.set_index('Type', inplace=True)\n",
    "case1=case1.astype(float).T\n",
    "case1"
   ]
  },
  {
   "cell_type": "code",
   "execution_count": 7,
   "metadata": {},
   "outputs": [
    {
     "name": "stdout",
     "output_type": "stream",
     "text": [
      "50 0.3 0.2 620.0 80.0 3967.0\n"
     ]
    }
   ],
   "source": [
    "CF1=case1.iloc[0,0]\n",
    "q1=case1.iloc[2,0]\n",
    "B1=case1.iloc[3,0]\n",
    "Iw1=case1.iloc[1,0]\n",
    "Id1=B1*5.35 + 650\n",
    "print(P,CF1,q1,B1,Iw1,Id1)"
   ]
  },
  {
   "cell_type": "code",
   "execution_count": 8,
   "metadata": {},
   "outputs": [],
   "source": [
    "def sinal(CF,CF1,rho):\n",
    "    \n",
    "    CF_ins=CF -rho*np.sqrt((CF1 - CF1**2)*(CF-CF**2))/(1-CF1)\n",
    "    CF_s=CF +rho*np.sqrt((CF1 - CF1**2)*(CF-CF**2))/CF1\n",
    "    \n",
    "    return CF_ins,CF_s\n"
   ]
  },
  {
   "cell_type": "code",
   "execution_count": 9,
   "metadata": {},
   "outputs": [],
   "source": [
    "def vme(CF,q,P,B,delta,Id,Iw,r):\n",
    "    #VPL=P*case.iloc[2,0]*case.iloc[3,0] - (case.iloc[3,0]*5.35 + 650)*P/50\n",
    "    VPL=P*q*B*np.exp(-2*delta) - Id*np.exp(-2*r)\n",
    "    #c=0.047*P+3\n",
    "    #VPL=P*case.iloc[2,0]*case.iloc[3,0] - (case.iloc[3,0]*c + 650)\n",
    "    \n",
    "    vme=CF*VPL - Iw\n",
    "    #vme=np.maximum(0,vme)\n",
    "    ### retorna   VME, Valor, Investimento, (valor - FC*Id), Id+Iw\n",
    "    return vme, CF*VPL, Iw, CF*P*q*B,CF*Id*np.exp(-2*r) +Iw "
   ]
  },
  {
   "cell_type": "code",
   "execution_count": 11,
   "metadata": {},
   "outputs": [
    {
     "data": {
      "text/plain": [
       "(425.1226754622025,\n",
       " 505.1226754622025,\n",
       " 80.0,\n",
       " 1709.9999999999998,\n",
       " 1159.7330377543412)"
      ]
     },
     "execution_count": 11,
     "metadata": {},
     "output_type": "execute_result"
    }
   ],
   "source": [
    "vme(CF,q,P,B,delta,Id,Iw,r)"
   ]
  },
  {
   "cell_type": "code",
   "execution_count": 12,
   "metadata": {},
   "outputs": [
    {
     "data": {
      "text/plain": [
       "(523.0841727818366, 603.0841727818366, 80.0, 1860.0, 1200.7939714186143)"
      ]
     },
     "execution_count": 12,
     "metadata": {},
     "output_type": "execute_result"
    }
   ],
   "source": [
    "vme(CF1,q1,P,B1,delta,Id1,Iw1,r)"
   ]
  },
  {
   "cell_type": "code",
   "execution_count": 13,
   "metadata": {},
   "outputs": [],
   "source": [
    "#####Valor Beta e Valor Crítico####\n",
    "def vcritico(I,r,div,sigma,tau):\n",
    "    if tau <=0:\n",
    "        vcrit=I\n",
    "        beta= 0.5 -(r-div)/(sigma**2) + np.sqrt(np.power(((r-div)/(sigma**2)) - 0.5,2) +((2*r)/(sigma**2)))\n",
    "    else:\n",
    "        if div<=0:\n",
    "            print(\"Faça um BSM\")\n",
    "        else:\n",
    "            \n",
    "            beta= 0.5 -(r-div)/(sigma**2) + np.sqrt(np.power(((r-div)/sigma**2) -0.5,2) +((2*r)/(sigma**2)))\n",
    "            V_perp= I*(beta/(beta-1))\n",
    "            V_0=np.maximum(I, (r/div)*I)\n",
    "            ht= -1*((r-div)*tau + 2*sigma*np.sqrt(tau))*(V_0/(V_perp - V_0))\n",
    "            vcrit= V_0 + (V_perp - V_0)*(1- np.exp(ht))\n",
    "    return[beta,vcrit, V_perp]\n",
    "            \n",
    "        \n",
    "        "
   ]
  },
  {
   "cell_type": "code",
   "execution_count": 14,
   "metadata": {},
   "outputs": [],
   "source": [
    "####Método Black Merton e Scholes\n",
    "def bsm(V,I,r,div,sigma,tau):\n",
    "    #Opção de Compra Europeia com dividendos - Merton\n",
    "    \n",
    "\n",
    "    if tau <=0:\n",
    "        call=np.maximum(V-I,0)\n",
    "        put=np.maximum(I-V,0)\n",
    "    else:\n",
    "        h1=(np.log(V/I) + ((r-div) +(0.5*np.power(sigma,2)))*tau)/(sigma*np.sqrt(tau))\n",
    "        h2=h1 -sigma*np.sqrt(tau)\n",
    "        \n",
    "        call= V*np.exp(-div*tau)*norm.cdf(h1) -I*np.exp(-r*tau)*norm.cdf(h2)\n",
    "        put= call + (np.exp(-r*tau)*I - V*np.exp(-div*tau))\n",
    "        put2= I*np.exp(-r*tau)*(1- norm.cdf(h2)) - V*np.exp(-div*tau)*(1-norm.cdf(h1))\n",
    "    #return[call, put, norm.cdf(h1), norm.cdf(h2),put2]\n",
    "    return[call, put]\n",
    "\n",
    "\n",
    "\n"
   ]
  },
  {
   "cell_type": "code",
   "execution_count": 15,
   "metadata": {},
   "outputs": [],
   "source": [
    "###Função probabilidade para cálculo do gatilho pelo método de aproximação analítica\n",
    "def prob(V,tau,gama,h,vcrit,r,div,sigma):\n",
    "    ####Função probabilidade\n",
    "    lamba=(-r +(gama*(r-div)) +0.5*gama*(gama-1)*sigma**2)*tau\n",
    "    dist= -(np.log(V/h)+((r-div)+(gama - 0.5)*sigma**2)*tau)/(sigma*np.sqrt(tau))\n",
    "    kappa= (2*gama -1) +  2*(r-div)/(sigma**2)\n",
    "    prob=np.exp(lamba)*(V**gama)*(norm.cdf(dist) - ((vcrit/V)**kappa)*(norm.cdf(dist -(2*np.log(vcrit/V))/(sigma*np.sqrt(tau)))))\n",
    "    \n",
    "    return[prob]\n",
    "    "
   ]
  },
  {
   "cell_type": "code",
   "execution_count": 16,
   "metadata": {},
   "outputs": [],
   "source": [
    "### Método Bjerksund e Stensland (1993) - saida - Derivativo, Gatilho e V_0\n",
    "def bjst(V,I,r,div,sigma,tau):\n",
    "    #### Call americana\n",
    "    if div <=0: #igual a call europeia\n",
    "        bs=bsm(V,I,r,div,sigma,tau)[0]\n",
    "    else:\n",
    "        beta=vcritico(I,r,div,sigma,tau)[0]\n",
    "        vcrit=vcritico(I,r,div,sigma,tau)[1]\n",
    "        alpha= (vcrit - I)*vcrit**(-beta)\n",
    "        \n",
    "        if V>= vcrit:\n",
    "            bs=V-I\n",
    "        else:\n",
    "            bs= alpha*V**beta -alpha*prob(V,tau,beta,vcrit,vcrit,r,div,sigma)[0]+prob(V,tau,1,vcrit,vcrit,r,div,sigma)[0]-prob(V,tau,1,I,vcrit,r,div,sigma)[0]-I*prob(V,tau,0,vcrit,vcrit,r,div,sigma)[0]+I*prob(V,tau,0,I,vcrit,r,div,sigma)[0]\n",
    "    \n",
    "    return[bs, vcrit, V]\n",
    "    \n",
    "    "
   ]
  },
  {
   "cell_type": "code",
   "execution_count": 17,
   "metadata": {},
   "outputs": [],
   "source": [
    "##################################################3\n",
    "#####################################################\n",
    "###########Solucao e_ DF ##############\n"
   ]
  },
  {
   "cell_type": "code",
   "execution_count": 18,
   "metadata": {},
   "outputs": [],
   "source": [
    "def diffinexpcart(P,I,r,div,sigma,tau,accur):\n",
    "    #############################################################\n",
    "    #######Método por diferenças finitas explícitas##############\n",
    "    #accur=0.05  #Porcentagem de acurácia\n",
    "    \n",
    "    #####Solução por diferenças finita explícitas###\n",
    "    #Precisão em e intervalo da célula em V\n",
    "    deltaP=P*accur\n",
    "    \n",
    "    # M são as divisões do grid em V\n",
    "    #Perpetuidade vcritico não esta na programacao\n",
    "    #M= int(1.1*vcritico(I,r,div,sigma,tau)[2]/deltaV) # Max é 10% acima do gatilho em perpetuidade. Vcrit- com gati precisa de tau\n",
    "    M=int(2*vcritico(I,r,div,sigma,tau)[2]/deltaP)\n",
    "    #M=int(3*P/deltaP)\n",
    "    #PGrid=int(P/deltaP) #Ponto do grid onde esta P_0. \n",
    "    #deltat= (deltaP**2)/((sigma**2)*((3*I)**2)) #Convergência: Critério do peso central >=0. Pmax=3I ><1.1Gatilho_perp\n",
    "    deltat= (deltaP**2)/((sigma**2)*((3*I)**2))\n",
    "    N= int(tau/deltat) +1\n",
    "    \n",
    "    df=1/(1+(r*deltat)) # fator de desconto\n",
    "    \n",
    "    \n",
    "    #Vetor Pt\n",
    "    Pt=np.zeros(M+1)\n",
    "    Gatilho=np.zeros((N+1))\n",
    "    F=np.zeros((N+1,M+1))\n",
    "    deltat=tau/N\n",
    "    for i in range(M+1):\n",
    "        Pt[i]= i*deltaP\n",
    "        F[N,i]=np.maximum(Pt[i]-I,0) \n",
    "    Gatilho[N]=I\n",
    "        #Gatilho[N]=I\n",
    "    \n",
    "    \n",
    "    #print(PGrid,Pt.shape)\n",
    "    PGrid=np.where(np.round(Pt,2)==np.round(P,2))[0][0]\n",
    "    ##############Loop################\n",
    "    for j in range(N-1,-1,-1): #de N-1 até zero(-1) pulando em -1\n",
    "        for i in range(1,M,1): # de 1 até M-1 pulando em 1\n",
    "            pu= 0.5*((sigma**2)*(i**2) + ((r - div)*i))*deltat\n",
    "            pm = 1 - (sigma**2)*(i**2)*deltat\n",
    "            pdown = 0.5*((sigma**2)*(i**2) - ((r - div)*i))*deltat\n",
    "            F[j,i]= df*(pu*F[j+1,i+1] + pm*F[j+1,i] + pdown*F[j+1,i - 1])\n",
    "            \n",
    "            ###Vetor Gatilho####\n",
    "            if F[j,i]<Pt[i]-I  and F[j,i-1]>Pt[i-1]-I :\n",
    "                Gatilho[j]=(Pt[i-1] +Pt[i])*.5\n",
    "            F[j,i]=np.maximum(Pt[i]-I,F[j,i])\n",
    "            \n",
    "           \n",
    "        \n",
    "        F[j,0]=0\n",
    "        F[j,M]=Pt[i]-I\n",
    "        \n",
    "    T=np.linspace(0,tau,num=N+1)\n",
    "    return[F[0,PGrid],PGrid,F,T,Pt,Gatilho]\n",
    "\n"
   ]
  },
  {
   "cell_type": "code",
   "execution_count": 19,
   "metadata": {},
   "outputs": [],
   "source": [
    "accur=0.005"
   ]
  },
  {
   "cell_type": "code",
   "execution_count": 20,
   "metadata": {},
   "outputs": [],
   "source": [
    "\n",
    "V_cf=CF*P*q*B*np.exp(-2*delta)\n",
    "Id_cf=CF*Id*np.exp(-2*r)\n"
   ]
  },
  {
   "cell_type": "code",
   "execution_count": 21,
   "metadata": {},
   "outputs": [
    {
     "name": "stdout",
     "output_type": "stream",
     "text": [
      "minutos- 5.668398050467173\n"
     ]
    }
   ],
   "source": [
    "start=time.time()\n",
    "opcao,PGrid,mapa,tempo,preco,gatilho=diffinexpcart(V_cf,Id_cf+Iw,r,delta,sigma,tau,accur)\n",
    "cpu=time.time()-start\n",
    "print('minutos-',cpu/60)\n",
    "\n",
    "winsound.Beep(freq, duration)\n"
   ]
  },
  {
   "cell_type": "code",
   "execution_count": 22,
   "metadata": {},
   "outputs": [
    {
     "data": {
      "text/plain": [
       "(1584.8557132165433, 1584.8557132165433)"
      ]
     },
     "execution_count": 22,
     "metadata": {},
     "output_type": "execute_result"
    }
   ],
   "source": [
    "V_cf, preco[PGrid]"
   ]
  },
  {
   "cell_type": "code",
   "execution_count": 23,
   "metadata": {},
   "outputs": [],
   "source": [
    "preco=preco/(CF*q*B*np.exp(-2*delta))"
   ]
  },
  {
   "cell_type": "code",
   "execution_count": 24,
   "metadata": {},
   "outputs": [],
   "source": [
    "g=gatilho/(CF*q*B*np.exp(-2*delta))"
   ]
  },
  {
   "cell_type": "code",
   "execution_count": 25,
   "metadata": {},
   "outputs": [
    {
     "name": "stdout",
     "output_type": "stream",
     "text": [
      "gatilho é: 73.125\n",
      "opcao vale: 497.7179544810564\n"
     ]
    },
    {
     "data": {
      "text/plain": [
       "[<matplotlib.lines.Line2D at 0x14edae20148>]"
      ]
     },
     "execution_count": 25,
     "metadata": {},
     "output_type": "execute_result"
    },
    {
     "data": {
      "image/png": "[encoded data removed]",
      "text/plain": [
       "<Figure size 432x288 with 1 Axes>"
      ]
     },
     "metadata": {
      "needs_background": "light"
     },
     "output_type": "display_data"
    }
   ],
   "source": [
    "print('gatilho é:',gatilho[0]/(CF*q*B*np.exp(-2*delta)))\n",
    "print('opcao vale:', opcao)\n",
    "#plt.plot(tempo[:-1],g[:-1], ls='--')\n",
    "plt.plot(tempo,g, ls='--')\n"
   ]
  },
  {
   "cell_type": "code",
   "execution_count": 26,
   "metadata": {},
   "outputs": [
    {
     "data": {
      "text/plain": [
       "(-5, 80)"
      ]
     },
     "execution_count": 26,
     "metadata": {},
     "output_type": "execute_result"
    },
    {
     "data": {
      "image/png": "[encoded data removed]",
      "text/plain": [
       "<Figure size 720x360 with 1 Axes>"
      ]
     },
     "metadata": {
      "needs_background": "light"
     },
     "output_type": "display_data"
    }
   ],
   "source": [
    "fig,ax=plt.subplots(figsize=(10,5))\n",
    "ax.plot(preco,mapa[0,:], ls='--')\n",
    "\n",
    "#ax.plot(preco,venc, ls='--')\n",
    "ax.plot(preco,mapa[-1,:], ls='--')\n",
    "\n",
    "plt.legend(['Opção_0','Opção_vencimento'])\n",
    "ax.set_title('Opções de Explorar - Head')\n",
    "ax.set_ylabel('Valor da Opção (M\\$)')\n",
    "ax.set_xlabel('Preço do Petróleo (\\$/bbl)')\n",
    "\n",
    "ax.set_ylim(-5,1400)\n",
    "ax.set_xlim(-5,80)\n",
    "\n"
   ]
  },
  {
   "cell_type": "code",
   "execution_count": 27,
   "metadata": {},
   "outputs": [
    {
     "data": {
      "text/plain": [
       "(0.06906926585840459, 0.5055050463303894)"
      ]
     },
     "execution_count": 27,
     "metadata": {},
     "output_type": "execute_result"
    }
   ],
   "source": [
    "sinal(CF,CF1,rho)"
   ]
  },
  {
   "cell_type": "code",
   "execution_count": 28,
   "metadata": {},
   "outputs": [],
   "source": [
    "\n",
    "V_inv=P*q*B*np.exp(-2*delta)\n",
    "Id_inv=Id*np.exp(-2*r)\n"
   ]
  },
  {
   "cell_type": "code",
   "execution_count": 29,
   "metadata": {},
   "outputs": [
    {
     "name": "stdout",
     "output_type": "stream",
     "text": [
      "minutos- 4.581929723421733\n"
     ]
    }
   ],
   "source": [
    "start=time.time()\n",
    "opcao_inv,PGrid_inv,mapa_inv,tempo_inv,preco_inv,gatilho_inv=diffinexpcart(V_inv,Id_inv,r,delta,sigma,tau,accur)\n",
    "cpu=time.time()-start\n",
    "print('minutos-',cpu/60)\n",
    "winsound.Beep(freq, duration)\n",
    "\n"
   ]
  },
  {
   "cell_type": "code",
   "execution_count": 30,
   "metadata": {},
   "outputs": [
    {
     "data": {
      "text/plain": [
       "(7924.2785660827185, 7924.2785660827185)"
      ]
     },
     "execution_count": 30,
     "metadata": {},
     "output_type": "execute_result"
    }
   ],
   "source": [
    "V_inv, preco_inv[PGrid_inv]"
   ]
  },
  {
   "cell_type": "code",
   "execution_count": 31,
   "metadata": {},
   "outputs": [],
   "source": [
    "preco_inv=preco_inv/(q*B*np.exp(-2*delta))"
   ]
  },
  {
   "cell_type": "code",
   "execution_count": 32,
   "metadata": {},
   "outputs": [],
   "source": [
    "g_inv=gatilho_inv/(q*B*np.exp(-2*delta))"
   ]
  },
  {
   "cell_type": "code",
   "execution_count": 33,
   "metadata": {},
   "outputs": [
    {
     "name": "stdout",
     "output_type": "stream",
     "text": [
      "gatilho é: 68.125\n",
      "opcao vale: 2755.6695849420903\n"
     ]
    },
    {
     "data": {
      "text/plain": [
       "[<matplotlib.lines.Line2D at 0x14eeab18d88>]"
      ]
     },
     "execution_count": 33,
     "metadata": {},
     "output_type": "execute_result"
    },
    {
     "data": {
      "image/png": "[encoded data removed]",
      "text/plain": [
       "<Figure size 432x288 with 1 Axes>"
      ]
     },
     "metadata": {
      "needs_background": "light"
     },
     "output_type": "display_data"
    }
   ],
   "source": [
    "print('gatilho é:',g_inv[0])\n",
    "print('opcao vale:', opcao_inv)\n",
    "#plt.plot(tempo[:-1],g[:-1], ls='--')\n",
    "plt.plot(tempo_inv,g_inv, ls='--')\n"
   ]
  },
  {
   "cell_type": "code",
   "execution_count": 34,
   "metadata": {},
   "outputs": [
    {
     "data": {
      "text/plain": [
       "785"
      ]
     },
     "execution_count": 34,
     "metadata": {},
     "output_type": "execute_result"
    }
   ],
   "source": [
    "len(preco)"
   ]
  },
  {
   "cell_type": "code",
   "execution_count": 35,
   "metadata": {},
   "outputs": [],
   "source": [
    "valor_vme=[]\n",
    "for i in range(len(preco)):\n",
    "    valor_vme.append(vme(CF,q,preco[i],B,delta,Id,Iw,r)[0])\n",
    "#print(valor_vme)"
   ]
  },
  {
   "cell_type": "code",
   "execution_count": null,
   "metadata": {},
   "outputs": [],
   "source": []
  },
  {
   "cell_type": "code",
   "execution_count": 36,
   "metadata": {},
   "outputs": [
    {
     "data": {
      "text/plain": [
       "Text(0.5, 0, 'Preço do Petróleo (\\\\$/bbl)')"
      ]
     },
     "execution_count": 36,
     "metadata": {},
     "output_type": "execute_result"
    },
    {
     "data": {
      "image/png": "[encoded data removed]",
      "text/plain": [
       "<Figure size 720x360 with 1 Axes>"
      ]
     },
     "metadata": {
      "needs_background": "light"
     },
     "output_type": "display_data"
    }
   ],
   "source": [
    "fig,ax=plt.subplots(figsize=(10,5))\n",
    "\n",
    "ax.plot(preco,mapa[0,:], ls='--')\n",
    "ax.plot(preco,valor_vme, ls='--')\n",
    "ax.plot(preco_inv,CF*mapa_inv[0,:] - Iw, ls='--')\n",
    "\n",
    "ax.axhline(0, linestyle='-', color='grey')\n",
    "\n",
    "\n",
    "\n",
    "#ax.plot(preco,venc, ls='--')\n",
    "#ax.plot(preco_inv/(0.1*300*np.exp(-2*delta)),mapa_inv[-1,:], ls='--')\n",
    "\n",
    "plt.legend(['E(P,t)','VME(P)', 'VME(P,t)'])\n",
    "ax.set_ylim(-200,1400)\n",
    "ax.set_xlim(-5,80)\n",
    "ax.set_title('Métrica de Avaliação Exploratória - Head')\n",
    "\n",
    "ax.set_ylabel('Valor - (M\\$)')\n",
    "ax.set_xlabel('Preço do Petróleo (\\$/bbl)')\n",
    "\n"
   ]
  },
  {
   "cell_type": "code",
   "execution_count": 37,
   "metadata": {},
   "outputs": [],
   "source": [
    "winsound.Beep(freq,duration)\n"
   ]
  },
  {
   "cell_type": "code",
   "execution_count": 38,
   "metadata": {},
   "outputs": [
    {
     "name": "stdout",
     "output_type": "stream",
     "text": [
      "471.13391698841804\n",
      "68.125\n"
     ]
    }
   ],
   "source": [
    "VME=CF*opcao_inv -Iw\n",
    "print(VME)\n",
    "print(g_inv[0])"
   ]
  },
  {
   "cell_type": "code",
   "execution_count": 39,
   "metadata": {},
   "outputs": [],
   "source": [
    "if P>g[0]:\n",
    "    custo=VME*(1-np.exp(-r/12))\n",
    "else:\n",
    "    custo=0"
   ]
  },
  {
   "cell_type": "code",
   "execution_count": null,
   "metadata": {},
   "outputs": [],
   "source": []
  },
  {
   "cell_type": "code",
   "execution_count": 40,
   "metadata": {},
   "outputs": [],
   "source": [
    "################Calculo do VME(P,t) do GoldFish############### Necessario pois ele ser o custo da nao perfuracao"
   ]
  },
  {
   "cell_type": "code",
   "execution_count": 41,
   "metadata": {},
   "outputs": [],
   "source": [
    "\n",
    "V_inv1=P*q1*B1*np.exp(-2*delta)\n",
    "Id_inv1=Id1*np.exp(-2*r)\n"
   ]
  },
  {
   "cell_type": "code",
   "execution_count": 42,
   "metadata": {},
   "outputs": [
    {
     "name": "stdout",
     "output_type": "stream",
     "text": [
      "minutos- 3.9628067016601562\n"
     ]
    }
   ],
   "source": [
    "start=time.time()\n",
    "opcao_inv1,PGrid_inv1,mapa_inv1,tempo_inv1,preco_inv1,gatilho_inv1=diffinexpcart(V_inv1,Id_inv1,r,delta,sigma,tau,accur)\n",
    "cpu=time.time()-start\n",
    "print('minutos-',cpu/60)\n",
    "winsound.Beep(freq, duration)\n",
    "\n"
   ]
  },
  {
   "cell_type": "code",
   "execution_count": 43,
   "metadata": {},
   "outputs": [
    {
     "data": {
      "text/plain": [
       "(5746.26048066817, 5746.26048066817)"
      ]
     },
     "execution_count": 43,
     "metadata": {},
     "output_type": "execute_result"
    }
   ],
   "source": [
    "V_inv1, preco_inv1[PGrid_inv1]"
   ]
  },
  {
   "cell_type": "code",
   "execution_count": 44,
   "metadata": {},
   "outputs": [],
   "source": [
    "preco_inv1=preco_inv1/(q1*B1*np.exp(-2*delta))"
   ]
  },
  {
   "cell_type": "code",
   "execution_count": 45,
   "metadata": {},
   "outputs": [],
   "source": [
    "g_inv1=gatilho_inv1/(q1*B1*np.exp(-2*delta))"
   ]
  },
  {
   "cell_type": "code",
   "execution_count": 46,
   "metadata": {},
   "outputs": [
    {
     "name": "stdout",
     "output_type": "stream",
     "text": [
      "gatilho de investir em Dog é: 64.875\n",
      "opcao de investir em Dog vale: 2127.446940079004\n"
     ]
    },
    {
     "data": {
      "text/plain": [
       "[<matplotlib.lines.Line2D at 0x14ef86b0b48>]"
      ]
     },
     "execution_count": 46,
     "metadata": {},
     "output_type": "execute_result"
    },
    {
     "data": {
      "image/png": "[encoded data removed]",
      "text/plain": [
       "<Figure size 432x288 with 1 Axes>"
      ]
     },
     "metadata": {
      "needs_background": "light"
     },
     "output_type": "display_data"
    }
   ],
   "source": [
    "print('gatilho de investir em Dog é:',g_inv1[0])\n",
    "print('opcao de investir em Dog vale:', opcao_inv1)\n",
    "#plt.plot(tempo[:-1],g[:-1], ls='--')\n",
    "plt.plot(tempo_inv1,g_inv1, ls='--')\n"
   ]
  },
  {
   "cell_type": "code",
   "execution_count": 47,
   "metadata": {},
   "outputs": [
    {
     "ename": "NameError",
     "evalue": "name 'preco1' is not defined",
     "output_type": "error",
     "traceback": [
      "\u001b[1;31m---------------------------------------------------------------------------\u001b[0m",
      "\u001b[1;31mNameError\u001b[0m                                 Traceback (most recent call last)",
      "\u001b[1;32m<ipython-input-47-f30bf31763dc>\u001b[0m in \u001b[0;36m<module>\u001b[1;34m\u001b[0m\n\u001b[0;32m      1\u001b[0m \u001b[0mvalor_vme1\u001b[0m\u001b[1;33m=\u001b[0m\u001b[1;33m[\u001b[0m\u001b[1;33m]\u001b[0m\u001b[1;33m\u001b[0m\u001b[1;33m\u001b[0m\u001b[0m\n\u001b[0;32m      2\u001b[0m \u001b[1;32mfor\u001b[0m \u001b[0mi\u001b[0m \u001b[1;32min\u001b[0m \u001b[0mrange\u001b[0m\u001b[1;33m(\u001b[0m\u001b[0mlen\u001b[0m\u001b[1;33m(\u001b[0m\u001b[0mpreco_inv1\u001b[0m\u001b[1;33m)\u001b[0m\u001b[1;33m)\u001b[0m\u001b[1;33m:\u001b[0m\u001b[1;33m\u001b[0m\u001b[1;33m\u001b[0m\u001b[0m\n\u001b[1;32m----> 3\u001b[1;33m     \u001b[0mvalor_vme1\u001b[0m\u001b[1;33m.\u001b[0m\u001b[0mappend\u001b[0m\u001b[1;33m(\u001b[0m\u001b[0mvme\u001b[0m\u001b[1;33m(\u001b[0m\u001b[0mCF1\u001b[0m\u001b[1;33m,\u001b[0m\u001b[0mq1\u001b[0m\u001b[1;33m,\u001b[0m\u001b[0mpreco1\u001b[0m\u001b[1;33m[\u001b[0m\u001b[0mi\u001b[0m\u001b[1;33m]\u001b[0m\u001b[1;33m,\u001b[0m\u001b[0mB1\u001b[0m\u001b[1;33m,\u001b[0m\u001b[0mdelta\u001b[0m\u001b[1;33m,\u001b[0m\u001b[0mId1\u001b[0m\u001b[1;33m,\u001b[0m\u001b[0mIw1\u001b[0m\u001b[1;33m,\u001b[0m\u001b[0mr\u001b[0m\u001b[1;33m)\u001b[0m\u001b[1;33m[\u001b[0m\u001b[1;36m0\u001b[0m\u001b[1;33m]\u001b[0m\u001b[1;33m)\u001b[0m\u001b[1;33m\u001b[0m\u001b[1;33m\u001b[0m\u001b[0m\n\u001b[0m\u001b[0;32m      4\u001b[0m \u001b[1;31m#print(valor_vme)\u001b[0m\u001b[1;33m\u001b[0m\u001b[1;33m\u001b[0m\u001b[1;33m\u001b[0m\u001b[0m\n",
      "\u001b[1;31mNameError\u001b[0m: name 'preco1' is not defined"
     ]
    }
   ],
   "source": [
    "valor_vme1=[]\n",
    "for i in range(len(preco_inv1)):\n",
    "    valor_vme1.append(vme(CF1,q1,preco1[i],B1,delta,Id1,Iw1,r)[0])\n",
    "#print(valor_vme)"
   ]
  },
  {
   "cell_type": "code",
   "execution_count": 142,
   "metadata": {},
   "outputs": [
    {
     "name": "stdout",
     "output_type": "stream",
     "text": [
      "471.13391698841804\n",
      "68.125\n"
     ]
    }
   ],
   "source": [
    "VME_custo=CF1*opcao_inv1 -Iw1\n",
    "print(VME)\n",
    "print(g_inv[0])"
   ]
  },
  {
   "cell_type": "code",
   "execution_count": 49,
   "metadata": {},
   "outputs": [
    {
     "ename": "ValueError",
     "evalue": "x and y must have same first dimension, but have shapes (697,) and (0,)",
     "output_type": "error",
     "traceback": [
      "\u001b[1;31m---------------------------------------------------------------------------\u001b[0m",
      "\u001b[1;31mValueError\u001b[0m                                Traceback (most recent call last)",
      "\u001b[1;32m<ipython-input-49-d38a9371aec9>\u001b[0m in \u001b[0;36m<module>\u001b[1;34m\u001b[0m\n\u001b[0;32m      1\u001b[0m \u001b[0mfig\u001b[0m\u001b[1;33m,\u001b[0m\u001b[0max\u001b[0m\u001b[1;33m=\u001b[0m\u001b[0mplt\u001b[0m\u001b[1;33m.\u001b[0m\u001b[0msubplots\u001b[0m\u001b[1;33m(\u001b[0m\u001b[0mfigsize\u001b[0m\u001b[1;33m=\u001b[0m\u001b[1;33m(\u001b[0m\u001b[1;36m10\u001b[0m\u001b[1;33m,\u001b[0m\u001b[1;36m5\u001b[0m\u001b[1;33m)\u001b[0m\u001b[1;33m)\u001b[0m\u001b[1;33m\u001b[0m\u001b[1;33m\u001b[0m\u001b[0m\n\u001b[0;32m      2\u001b[0m \u001b[1;33m\u001b[0m\u001b[0m\n\u001b[1;32m----> 3\u001b[1;33m \u001b[0max\u001b[0m\u001b[1;33m.\u001b[0m\u001b[0mplot\u001b[0m\u001b[1;33m(\u001b[0m\u001b[0mpreco_inv1\u001b[0m\u001b[1;33m,\u001b[0m\u001b[0mvalor_vme1\u001b[0m\u001b[1;33m,\u001b[0m \u001b[0mls\u001b[0m\u001b[1;33m=\u001b[0m\u001b[1;34m'--'\u001b[0m\u001b[1;33m)\u001b[0m\u001b[1;33m\u001b[0m\u001b[1;33m\u001b[0m\u001b[0m\n\u001b[0m\u001b[0;32m      4\u001b[0m \u001b[0max\u001b[0m\u001b[1;33m.\u001b[0m\u001b[0mplot\u001b[0m\u001b[1;33m(\u001b[0m\u001b[0mpreco_inv1\u001b[0m\u001b[1;33m,\u001b[0m\u001b[0mCF1\u001b[0m\u001b[1;33m*\u001b[0m\u001b[0mmapa_inv1\u001b[0m\u001b[1;33m[\u001b[0m\u001b[1;36m0\u001b[0m\u001b[1;33m,\u001b[0m\u001b[1;33m:\u001b[0m\u001b[1;33m]\u001b[0m \u001b[1;33m-\u001b[0m \u001b[0mIw1\u001b[0m\u001b[1;33m,\u001b[0m \u001b[0mls\u001b[0m\u001b[1;33m=\u001b[0m\u001b[1;34m'--'\u001b[0m\u001b[1;33m)\u001b[0m\u001b[1;33m\u001b[0m\u001b[1;33m\u001b[0m\u001b[0m\n\u001b[0;32m      5\u001b[0m \u001b[1;33m\u001b[0m\u001b[0m\n",
      "\u001b[1;32m~\\Anaconda3\\lib\\site-packages\\matplotlib\\axes\\_axes.py\u001b[0m in \u001b[0;36mplot\u001b[1;34m(self, scalex, scaley, data, *args, **kwargs)\u001b[0m\n\u001b[0;32m   1664\u001b[0m         \"\"\"\n\u001b[0;32m   1665\u001b[0m         \u001b[0mkwargs\u001b[0m \u001b[1;33m=\u001b[0m \u001b[0mcbook\u001b[0m\u001b[1;33m.\u001b[0m\u001b[0mnormalize_kwargs\u001b[0m\u001b[1;33m(\u001b[0m\u001b[0mkwargs\u001b[0m\u001b[1;33m,\u001b[0m \u001b[0mmlines\u001b[0m\u001b[1;33m.\u001b[0m\u001b[0mLine2D\u001b[0m\u001b[1;33m.\u001b[0m\u001b[0m_alias_map\u001b[0m\u001b[1;33m)\u001b[0m\u001b[1;33m\u001b[0m\u001b[1;33m\u001b[0m\u001b[0m\n\u001b[1;32m-> 1666\u001b[1;33m         \u001b[0mlines\u001b[0m \u001b[1;33m=\u001b[0m \u001b[1;33m[\u001b[0m\u001b[1;33m*\u001b[0m\u001b[0mself\u001b[0m\u001b[1;33m.\u001b[0m\u001b[0m_get_lines\u001b[0m\u001b[1;33m(\u001b[0m\u001b[1;33m*\u001b[0m\u001b[0margs\u001b[0m\u001b[1;33m,\u001b[0m \u001b[0mdata\u001b[0m\u001b[1;33m=\u001b[0m\u001b[0mdata\u001b[0m\u001b[1;33m,\u001b[0m \u001b[1;33m**\u001b[0m\u001b[0mkwargs\u001b[0m\u001b[1;33m)\u001b[0m\u001b[1;33m]\u001b[0m\u001b[1;33m\u001b[0m\u001b[1;33m\u001b[0m\u001b[0m\n\u001b[0m\u001b[0;32m   1667\u001b[0m         \u001b[1;32mfor\u001b[0m \u001b[0mline\u001b[0m \u001b[1;32min\u001b[0m \u001b[0mlines\u001b[0m\u001b[1;33m:\u001b[0m\u001b[1;33m\u001b[0m\u001b[1;33m\u001b[0m\u001b[0m\n\u001b[0;32m   1668\u001b[0m             \u001b[0mself\u001b[0m\u001b[1;33m.\u001b[0m\u001b[0madd_line\u001b[0m\u001b[1;33m(\u001b[0m\u001b[0mline\u001b[0m\u001b[1;33m)\u001b[0m\u001b[1;33m\u001b[0m\u001b[1;33m\u001b[0m\u001b[0m\n",
      "\u001b[1;32m~\\Anaconda3\\lib\\site-packages\\matplotlib\\axes\\_base.py\u001b[0m in \u001b[0;36m__call__\u001b[1;34m(self, *args, **kwargs)\u001b[0m\n\u001b[0;32m    223\u001b[0m                 \u001b[0mthis\u001b[0m \u001b[1;33m+=\u001b[0m \u001b[0margs\u001b[0m\u001b[1;33m[\u001b[0m\u001b[1;36m0\u001b[0m\u001b[1;33m]\u001b[0m\u001b[1;33m,\u001b[0m\u001b[1;33m\u001b[0m\u001b[1;33m\u001b[0m\u001b[0m\n\u001b[0;32m    224\u001b[0m                 \u001b[0margs\u001b[0m \u001b[1;33m=\u001b[0m \u001b[0margs\u001b[0m\u001b[1;33m[\u001b[0m\u001b[1;36m1\u001b[0m\u001b[1;33m:\u001b[0m\u001b[1;33m]\u001b[0m\u001b[1;33m\u001b[0m\u001b[1;33m\u001b[0m\u001b[0m\n\u001b[1;32m--> 225\u001b[1;33m             \u001b[1;32myield\u001b[0m \u001b[1;32mfrom\u001b[0m \u001b[0mself\u001b[0m\u001b[1;33m.\u001b[0m\u001b[0m_plot_args\u001b[0m\u001b[1;33m(\u001b[0m\u001b[0mthis\u001b[0m\u001b[1;33m,\u001b[0m \u001b[0mkwargs\u001b[0m\u001b[1;33m)\u001b[0m\u001b[1;33m\u001b[0m\u001b[1;33m\u001b[0m\u001b[0m\n\u001b[0m\u001b[0;32m    226\u001b[0m \u001b[1;33m\u001b[0m\u001b[0m\n\u001b[0;32m    227\u001b[0m     \u001b[1;32mdef\u001b[0m \u001b[0mget_next_color\u001b[0m\u001b[1;33m(\u001b[0m\u001b[0mself\u001b[0m\u001b[1;33m)\u001b[0m\u001b[1;33m:\u001b[0m\u001b[1;33m\u001b[0m\u001b[1;33m\u001b[0m\u001b[0m\n",
      "\u001b[1;32m~\\Anaconda3\\lib\\site-packages\\matplotlib\\axes\\_base.py\u001b[0m in \u001b[0;36m_plot_args\u001b[1;34m(self, tup, kwargs)\u001b[0m\n\u001b[0;32m    389\u001b[0m             \u001b[0mx\u001b[0m\u001b[1;33m,\u001b[0m \u001b[0my\u001b[0m \u001b[1;33m=\u001b[0m \u001b[0mindex_of\u001b[0m\u001b[1;33m(\u001b[0m\u001b[0mtup\u001b[0m\u001b[1;33m[\u001b[0m\u001b[1;33m-\u001b[0m\u001b[1;36m1\u001b[0m\u001b[1;33m]\u001b[0m\u001b[1;33m)\u001b[0m\u001b[1;33m\u001b[0m\u001b[1;33m\u001b[0m\u001b[0m\n\u001b[0;32m    390\u001b[0m \u001b[1;33m\u001b[0m\u001b[0m\n\u001b[1;32m--> 391\u001b[1;33m         \u001b[0mx\u001b[0m\u001b[1;33m,\u001b[0m \u001b[0my\u001b[0m \u001b[1;33m=\u001b[0m \u001b[0mself\u001b[0m\u001b[1;33m.\u001b[0m\u001b[0m_xy_from_xy\u001b[0m\u001b[1;33m(\u001b[0m\u001b[0mx\u001b[0m\u001b[1;33m,\u001b[0m \u001b[0my\u001b[0m\u001b[1;33m)\u001b[0m\u001b[1;33m\u001b[0m\u001b[1;33m\u001b[0m\u001b[0m\n\u001b[0m\u001b[0;32m    392\u001b[0m \u001b[1;33m\u001b[0m\u001b[0m\n\u001b[0;32m    393\u001b[0m         \u001b[1;32mif\u001b[0m \u001b[0mself\u001b[0m\u001b[1;33m.\u001b[0m\u001b[0mcommand\u001b[0m \u001b[1;33m==\u001b[0m \u001b[1;34m'plot'\u001b[0m\u001b[1;33m:\u001b[0m\u001b[1;33m\u001b[0m\u001b[1;33m\u001b[0m\u001b[0m\n",
      "\u001b[1;32m~\\Anaconda3\\lib\\site-packages\\matplotlib\\axes\\_base.py\u001b[0m in \u001b[0;36m_xy_from_xy\u001b[1;34m(self, x, y)\u001b[0m\n\u001b[0;32m    268\u001b[0m         \u001b[1;32mif\u001b[0m \u001b[0mx\u001b[0m\u001b[1;33m.\u001b[0m\u001b[0mshape\u001b[0m\u001b[1;33m[\u001b[0m\u001b[1;36m0\u001b[0m\u001b[1;33m]\u001b[0m \u001b[1;33m!=\u001b[0m \u001b[0my\u001b[0m\u001b[1;33m.\u001b[0m\u001b[0mshape\u001b[0m\u001b[1;33m[\u001b[0m\u001b[1;36m0\u001b[0m\u001b[1;33m]\u001b[0m\u001b[1;33m:\u001b[0m\u001b[1;33m\u001b[0m\u001b[1;33m\u001b[0m\u001b[0m\n\u001b[0;32m    269\u001b[0m             raise ValueError(\"x and y must have same first dimension, but \"\n\u001b[1;32m--> 270\u001b[1;33m                              \"have shapes {} and {}\".format(x.shape, y.shape))\n\u001b[0m\u001b[0;32m    271\u001b[0m         \u001b[1;32mif\u001b[0m \u001b[0mx\u001b[0m\u001b[1;33m.\u001b[0m\u001b[0mndim\u001b[0m \u001b[1;33m>\u001b[0m \u001b[1;36m2\u001b[0m \u001b[1;32mor\u001b[0m \u001b[0my\u001b[0m\u001b[1;33m.\u001b[0m\u001b[0mndim\u001b[0m \u001b[1;33m>\u001b[0m \u001b[1;36m2\u001b[0m\u001b[1;33m:\u001b[0m\u001b[1;33m\u001b[0m\u001b[1;33m\u001b[0m\u001b[0m\n\u001b[0;32m    272\u001b[0m             raise ValueError(\"x and y can be no greater than 2-D, but have \"\n",
      "\u001b[1;31mValueError\u001b[0m: x and y must have same first dimension, but have shapes (697,) and (0,)"
     ]
    },
    {
     "data": {
      "image/png": "[encoded data removed]",
      "text/plain": [
       "<Figure size 720x360 with 1 Axes>"
      ]
     },
     "metadata": {
      "needs_background": "light"
     },
     "output_type": "display_data"
    }
   ],
   "source": [
    "fig,ax=plt.subplots(figsize=(10,5))\n",
    "\n",
    "ax.plot(preco_inv1,valor_vme1, ls='--')\n",
    "ax.plot(preco_inv1,CF1*mapa_inv1[0,:] - Iw1, ls='--')\n",
    "\n",
    "ax.axhline(0, linestyle='-', color='grey')\n",
    "\n",
    "\n",
    "\n",
    "#ax.plot(preco,venc, ls='--')\n",
    "#ax.plot(preco_inv/(0.1*300*np.exp(-2*delta)),mapa_inv[-1,:], ls='--')\n",
    "\n",
    "plt.legend(['VME(P)', 'VME(P,t)'])\n",
    "ax.set_ylim(-200,1400)\n",
    "ax.set_xlim(-5,80)\n",
    "ax.set_title('Métrica de Avaliação Exploratória - GodFish')\n",
    "\n",
    "ax.set_ylabel('Valor - (M\\$)')\n",
    "ax.set_xlabel('Preço do Petróleo (\\$/bbl)')\n",
    "\n"
   ]
  },
  {
   "cell_type": "code",
   "execution_count": 53,
   "metadata": {},
   "outputs": [],
   "source": [
    "######################################################\n",
    "####Importar VME(P,t) do portfolio DogFish + Feather###\n",
    "#################################Interpolar para preco_inv#####"
   ]
  },
  {
   "cell_type": "code",
   "execution_count": 54,
   "metadata": {},
   "outputs": [],
   "source": [
    "opcao_port=np.loadtxt('Port_Explorar_opcao_dog_feather.txt')\n",
    "preco_port=np.loadtxt('Port_Explorar_preco_dog_feather.txt')"
   ]
  },
  {
   "cell_type": "code",
   "execution_count": 55,
   "metadata": {},
   "outputs": [],
   "source": [
    "opcao_port_interp=np.interp(preco_inv,preco_port,opcao_port)\n"
   ]
  },
  {
   "cell_type": "code",
   "execution_count": 56,
   "metadata": {},
   "outputs": [],
   "source": [
    "######################################################\n",
    "####Importar opcoa de explorar - E(P,t) -  do portfolio DogFish + Feather###\n",
    "#################################Interpolar para preco_inv#####"
   ]
  },
  {
   "cell_type": "code",
   "execution_count": 57,
   "metadata": {},
   "outputs": [],
   "source": [
    "vme_opcao_port=np.loadtxt('Port_VME_opcao_dog_feather.txt')\n",
    "vme_preco_port=np.loadtxt('Port_VME_preco_dog_feather.txt')"
   ]
  },
  {
   "cell_type": "code",
   "execution_count": 58,
   "metadata": {},
   "outputs": [],
   "source": [
    "vme_port_interp=np.interp(preco_inv,vme_preco_port,vme_opcao_port)\n"
   ]
  },
  {
   "cell_type": "code",
   "execution_count": 59,
   "metadata": {},
   "outputs": [
    {
     "data": {
      "text/plain": [
       "Text(0.5, 0, 'Preço do Petróleo (\\\\$/bbl)')"
      ]
     },
     "execution_count": 59,
     "metadata": {},
     "output_type": "execute_result"
    },
    {
     "data": {
      "image/png": "[encoded data removed]",
      "text/plain": [
       "<Figure size 720x360 with 1 Axes>"
      ]
     },
     "metadata": {
      "needs_background": "light"
     },
     "output_type": "display_data"
    }
   ],
   "source": [
    "fig,ax=plt.subplots(figsize=(10,5))\n",
    "\n",
    "ax.plot(preco_inv,vme_port_interp, ls='--')\n",
    "ax.plot(preco_inv,opcao_port_interp, ls='--')\n",
    "ax.axhline(0, linestyle='-', color='grey')\n",
    "\n",
    "\n",
    "\n",
    "#ax.plot(preco,venc, ls='--')\n",
    "#ax.plot(preco_inv/(0.1*300*np.exp(-2*delta)),mapa_inv[-1,:], ls='--')\n",
    "\n",
    "plt.legend([ 'VME(P,t)','E(P,t)'])\n",
    "#ax.set_ylim(-200,1400)\n",
    "ax.set_xlim(0,100)\n",
    "ax.set_title('Métrica de Avaliação Exploratória - Portfolio')\n",
    "\n",
    "ax.set_ylabel('Valor - (M\\$)')\n",
    "ax.set_xlabel('Preço do Petróleo (\\$/bbl)')\n",
    "\n"
   ]
  },
  {
   "cell_type": "code",
   "execution_count": 60,
   "metadata": {},
   "outputs": [
    {
     "name": "stdout",
     "output_type": "stream",
     "text": [
      "73.0\n"
     ]
    }
   ],
   "source": [
    "###Gatilho VME(P,t)=Opcao\n",
    "gatilho_port=preco_inv[opcao_port_interp-vme_port_interp<0.0001][0]\n",
    "print(gatilho_port)"
   ]
  },
  {
   "cell_type": "code",
   "execution_count": 143,
   "metadata": {},
   "outputs": [],
   "source": [
    "if P>gatilho_port:  # gatilho do portfólio DogFish + Feather - não é o gatilgo do dogFish\n",
    "    custo1=VME_custo*(1-np.exp(-r/12))\n",
    "else:\n",
    "    custo1=0"
   ]
  },
  {
   "cell_type": "code",
   "execution_count": 62,
   "metadata": {},
   "outputs": [],
   "source": [
    "###########3Informação para o portfolio DogFish + Feather###############"
   ]
  },
  {
   "cell_type": "code",
   "execution_count": 63,
   "metadata": {},
   "outputs": [],
   "source": [
    "opcao_port_pos=np.loadtxt('Port_Explorar_pos_opcao_dog_feather.txt')\n",
    "preco_port_pos=np.loadtxt('Port_Explorar_pos_preco_dog_feather.txt')"
   ]
  },
  {
   "cell_type": "code",
   "execution_count": 64,
   "metadata": {},
   "outputs": [],
   "source": [
    "opcao_port_pos_interp=np.interp(preco_inv,preco_port_pos,opcao_port_pos)\n"
   ]
  },
  {
   "cell_type": "code",
   "execution_count": 65,
   "metadata": {},
   "outputs": [],
   "source": [
    "opcao_port_neg=np.loadtxt('Port_Explorar_neg_opcao_dog_feather.txt')\n",
    "preco_port_neg=np.loadtxt('Port_Explorar_neg_preco_dog_feather.txt')"
   ]
  },
  {
   "cell_type": "code",
   "execution_count": 66,
   "metadata": {},
   "outputs": [],
   "source": [
    "opcao_port_neg_interp=np.interp(preco_inv,preco_port_neg,opcao_port_neg)\n"
   ]
  },
  {
   "cell_type": "code",
   "execution_count": 67,
   "metadata": {},
   "outputs": [],
   "source": [
    "###Criar a esperaca da informação"
   ]
  },
  {
   "cell_type": "code",
   "execution_count": null,
   "metadata": {},
   "outputs": [],
   "source": []
  },
  {
   "cell_type": "code",
   "execution_count": 68,
   "metadata": {},
   "outputs": [],
   "source": [
    "###############Estrategico para o Portfolio DogFish + Feather"
   ]
  },
  {
   "cell_type": "code",
   "execution_count": 69,
   "metadata": {},
   "outputs": [],
   "source": [
    "F_zero1=CF*opcao_port_pos_interp+ (1-CF)*opcao_port_neg_interp\n"
   ]
  },
  {
   "cell_type": "code",
   "execution_count": 159,
   "metadata": {},
   "outputs": [],
   "source": [
    "###################Informação para o Head#########################"
   ]
  },
  {
   "cell_type": "code",
   "execution_count": null,
   "metadata": {},
   "outputs": [],
   "source": []
  },
  {
   "cell_type": "code",
   "execution_count": 50,
   "metadata": {},
   "outputs": [
    {
     "name": "stdout",
     "output_type": "stream",
     "text": [
      "minutos- 13.616550890604655\n"
     ]
    }
   ],
   "source": [
    "start=time.time()\n",
    "\n",
    "opcao_up,PGrid_up,mapa_up,tempo_up,preco_up,gatilho_up=diffinexpcart(sinal(CF,CF1,rho)[1]*P*q*B*np.exp(-2*delta),sinal(CF,CF1,rho)[1]*Id*np.exp(-2*r)+Iw,r,delta,sigma,tau,accur)\n",
    "opcao_down,PGrid_down,mapa_down,tempo_down,preco_down,gatilho_down=diffinexpcart(sinal(CF,CF1,rho)[0]*P*q*B*np.exp(-2*delta),sinal(CF,CF1,rho)[0]*Id*np.exp(-2*r)+Iw,r,delta,sigma,tau,accur)\n",
    "opcao_info=CF1*opcao_up + (1-CF1)*opcao_down\n",
    "\n",
    "cpu=time.time()-start\n",
    "print('minutos-',cpu/60)\n",
    "winsound.Beep(freq, duration)\n",
    "\n"
   ]
  },
  {
   "cell_type": "code",
   "execution_count": null,
   "metadata": {},
   "outputs": [],
   "source": []
  },
  {
   "cell_type": "code",
   "execution_count": 51,
   "metadata": {},
   "outputs": [],
   "source": [
    "preco_up=preco_up/(sinal(CF,CF1,rho)[1]*q*B*np.exp(-2*delta))\n",
    "preco_down=preco_down/(sinal(CF,CF1,rho)[0]*q*B*np.exp(-2*delta))"
   ]
  },
  {
   "cell_type": "code",
   "execution_count": 52,
   "metadata": {},
   "outputs": [],
   "source": [
    "F_up_zero=np.interp(preco_inv,preco_up,mapa_up[0,:])\n",
    "F_down_zero=np.interp(preco_inv,preco_down,mapa_down[0,:])\n",
    "F_zero=CF1*F_up_zero+ (1-CF1)*F_down_zero\n",
    "\n",
    "Exp_zero=np.interp(preco_inv,preco,mapa[0,:])\n",
    "\n",
    "L_zero=CF*mapa_inv[0,:] - Iw\n"
   ]
  },
  {
   "cell_type": "code",
   "execution_count": 70,
   "metadata": {},
   "outputs": [
    {
     "data": {
      "text/plain": [
       "0.2"
      ]
     },
     "execution_count": 70,
     "metadata": {},
     "output_type": "execute_result"
    }
   ],
   "source": [
    "CF"
   ]
  },
  {
   "cell_type": "code",
   "execution_count": 71,
   "metadata": {},
   "outputs": [],
   "source": [
    "###Renomear\n",
    "\n",
    "L_zero1=vme_port_interp\n",
    "Exp_zero1=opcao_port_pos_interp"
   ]
  },
  {
   "cell_type": "code",
   "execution_count": 72,
   "metadata": {},
   "outputs": [
    {
     "data": {
      "text/plain": [
       "<matplotlib.legend.Legend at 0x14ef997cfc8>"
      ]
     },
     "execution_count": 72,
     "metadata": {},
     "output_type": "execute_result"
    },
    {
     "data": {
      "image/png": "[encoded data removed]",
      "text/plain": [
       "<Figure size 432x288 with 1 Axes>"
      ]
     },
     "metadata": {
      "needs_background": "light"
     },
     "output_type": "display_data"
    }
   ],
   "source": [
    "plt.plot(L_zero1[0:300])\n",
    "plt.plot(F_zero1[0:300])\n",
    "\n",
    "plt.legend(['L','F'])"
   ]
  },
  {
   "cell_type": "code",
   "execution_count": null,
   "metadata": {},
   "outputs": [],
   "source": []
  },
  {
   "cell_type": "code",
   "execution_count": 73,
   "metadata": {},
   "outputs": [
    {
     "data": {
      "text/plain": [
       "array([ 6.00000000e+01,  5.75898164e+01,  5.51796327e+01,  5.50335531e+01,\n",
       "        5.48874734e+01,  5.48672780e+01,  5.48470826e+01,  5.48429145e+01,\n",
       "        5.48387464e+01,  5.48376617e+01,  5.48365771e+01,  5.48362257e+01,\n",
       "        5.48358743e+01,  5.48358589e+01,  5.48358434e+01,  5.48356727e+01,\n",
       "        5.48355020e+01,  5.48358363e+01,  5.48361705e+01,  5.48354218e+01,\n",
       "        5.48346730e+01,  5.48354021e+01,  5.48361311e+01,  5.48335325e+01,\n",
       "        5.48309339e+01,  5.48319603e+01,  5.48329867e+01,  5.48264117e+01,\n",
       "        5.48198367e+01,  5.48207048e+01,  5.48215729e+01,  5.48081608e+01,\n",
       "        5.47947486e+01,  5.47945906e+01,  5.47944326e+01,  5.47709137e+01,\n",
       "        5.47473948e+01,  5.47449878e+01,  5.47425808e+01,  5.47056545e+01,\n",
       "        5.46687282e+01,  5.46626178e+01,  5.46565073e+01,  5.46031714e+01,\n",
       "        5.45498354e+01,  5.45384816e+01,  5.45271278e+01,  5.44549119e+01,\n",
       "        5.43826961e+01,  5.43646092e+01,  5.43465223e+01,  5.42536190e+01,\n",
       "        5.41607158e+01,  5.41345631e+01,  5.41084104e+01,  5.39937163e+01,\n",
       "        5.38790222e+01,  5.38437003e+01,  5.38083783e+01,  5.36714678e+01,\n",
       "        5.35345572e+01,  5.34892300e+01,  5.34439028e+01,  5.32849580e+01,\n",
       "        5.31260132e+01,  5.30701225e+01,  5.30142317e+01,  5.28339478e+01,\n",
       "        5.26536638e+01,  5.25869182e+01,  5.25201727e+01,  5.23196529e+01,\n",
       "        5.21191332e+01,  5.20414832e+01,  5.19638333e+01,  5.17444862e+01,\n",
       "        5.15251391e+01,  5.14367434e+01,  5.13483477e+01,  5.11117910e+01,\n",
       "        5.08752344e+01,  5.07764225e+01,  5.06776107e+01,  5.04255874e+01,\n",
       "        5.01735642e+01,  5.00647995e+01,  4.99560347e+01,  4.96903422e+01,\n",
       "        4.94246496e+01,  4.93064935e+01,  4.91883374e+01,  4.89107696e+01,\n",
       "        4.86332017e+01,  4.85062820e+01,  4.83793623e+01,  4.80916650e+01,\n",
       "        4.78039678e+01,  4.76689510e+01,  4.75339342e+01,  4.72377715e+01,\n",
       "        4.69416088e+01,  4.67991771e+01,  4.66567453e+01,  4.63536756e+01,\n",
       "        4.60506059e+01,  4.59014383e+01,  4.57522707e+01,  4.54437313e+01,\n",
       "        4.51351919e+01,  4.49799496e+01,  4.48247074e+01,  4.45120059e+01,\n",
       "        4.41993043e+01,  4.40386200e+01,  4.38779358e+01,  4.35622466e+01,\n",
       "        4.32465574e+01,  4.30810273e+01,  4.29154972e+01,  4.25978627e+01,\n",
       "        4.22802283e+01,  4.21104071e+01,  4.19405860e+01,  4.16219206e+01,\n",
       "        4.13032552e+01,  4.11296536e+01,  4.09560521e+01,  4.06371485e+01,\n",
       "        4.03182449e+01,  4.01413285e+01,  3.99644121e+01,  3.96459494e+01,\n",
       "        3.93274866e+01,  3.91476765e+01,  3.89678663e+01,  3.86504189e+01,\n",
       "        3.83329715e+01,  3.81506457e+01,  3.79683200e+01,  3.76523672e+01,\n",
       "        3.73364144e+01,  3.71519107e+01,  3.69674070e+01,  3.66533428e+01,\n",
       "        3.63392786e+01,  3.61528971e+01,  3.59665156e+01,  3.56546581e+01,\n",
       "        3.53428007e+01,  3.51548073e+01,  3.49668140e+01,  3.46574150e+01,\n",
       "        3.43480159e+01,  3.41586461e+01,  3.39692762e+01,  3.36625296e+01,\n",
       "        3.33557830e+01,  3.31652449e+01,  3.29747067e+01,  3.26707573e+01,\n",
       "        3.23668079e+01,  3.21752860e+01,  3.19837642e+01,  3.16827150e+01,\n",
       "        3.13816658e+01,  3.11893245e+01,  3.09969833e+01,  3.06989027e+01,\n",
       "        3.04008221e+01,  3.02078087e+01,  3.00147954e+01,  2.97197233e+01,\n",
       "        2.94246513e+01,  2.92310989e+01,  2.90375465e+01,  2.87455003e+01,\n",
       "        2.84534542e+01,  2.82594843e+01,  2.80655144e+01,  2.77764936e+01,\n",
       "        2.74874729e+01,  2.72931978e+01,  2.70989227e+01,  2.68129135e+01,\n",
       "        2.65269042e+01,  2.63324291e+01,  2.61379540e+01,  2.58549328e+01,\n",
       "        2.55719115e+01,  2.53773360e+01,  2.51827606e+01,  2.49026972e+01,\n",
       "        2.46226337e+01,  2.44280536e+01,  2.42334734e+01,  2.39563337e+01,\n",
       "        2.36791940e+01,  2.34847018e+01,  2.32902097e+01,  2.30159577e+01,\n",
       "        2.27417057e+01,  2.25473920e+01,  2.23530783e+01,  2.20816779e+01,\n",
       "        2.18102774e+01,  2.16162310e+01,  2.14221846e+01,  2.11536003e+01,\n",
       "        2.08850160e+01,  2.06913245e+01,  2.04976331e+01,  2.02318313e+01,\n",
       "        1.99660295e+01,  1.97727793e+01,  1.95795291e+01,  1.93164784e+01,\n",
       "        1.90534277e+01,  1.88607040e+01,  1.86679802e+01,  1.84076518e+01,\n",
       "        1.81473235e+01,  1.79552101e+01,  1.77630967e+01,  1.75054645e+01,\n",
       "        1.72478323e+01,  1.70564120e+01,  1.68649918e+01,  1.66100324e+01,\n",
       "        1.63550731e+01,  1.61644275e+01,  1.59737819e+01,  1.57214751e+01,\n",
       "        1.54691683e+01,  1.52793782e+01,  1.50895882e+01,  1.48399168e+01,\n",
       "        1.45902455e+01,  1.44013915e+01,  1.42125374e+01,  1.39654883e+01,\n",
       "        1.37184392e+01,  1.35306020e+01,  1.33427648e+01,  1.30983290e+01,\n",
       "        1.28538931e+01,  1.26671547e+01,  1.24804162e+01,  1.22385897e+01,\n",
       "        1.19967632e+01,  1.18112070e+01,  1.16256508e+01,  1.13864353e+01,\n",
       "        1.11472199e+01,  1.09629313e+01,  1.07786428e+01,  1.05420462e+01,\n",
       "        1.03054497e+01,  1.01225162e+01,  9.93958277e+00,  9.70561917e+00,\n",
       "        9.47165558e+00,  9.29016625e+00,  9.10867692e+00,  8.87736638e+00,\n",
       "        8.64605585e+00,  8.46610066e+00,  8.28614547e+00,  8.05751370e+00,\n",
       "        7.82888193e+00,  7.65055108e+00,  7.47222023e+00,  7.24629788e+00,\n",
       "        7.02037554e+00,  6.84375873e+00,  6.66714193e+00,  6.44396405e+00,\n",
       "        6.22078617e+00,  6.04597231e+00,  5.87115845e+00,  5.65076409e+00,\n",
       "        5.43036974e+00,  5.22044487e+00,  5.01052000e+00,  4.75595010e+00,\n",
       "        4.50138020e+00,  4.24537917e+00,  3.98937814e+00,  3.70460798e+00,\n",
       "        3.41983783e+00,  3.17706628e+00,  2.93429473e+00,  2.69152317e+00,\n",
       "        2.44875162e+00,  2.24725939e+00,  2.04576716e+00,  1.84427493e+00,\n",
       "        1.64278270e+00,  1.48189226e+00,  1.32100181e+00,  1.16011136e+00,\n",
       "        9.99220916e-01,  8.78293744e-01,  7.57366572e-01,  6.36439400e-01,\n",
       "        5.15512228e-01,  4.33945409e-01,  3.52378591e-01,  2.70811772e-01,\n",
       "        1.89244954e-01,  1.46467074e-01,  1.03689194e-01,  6.09113145e-02,\n",
       "        1.81334348e-02,  1.36000761e-02,  9.06671739e-03,  4.53335869e-03,\n",
       "        0.00000000e+00,  0.00000000e+00,  0.00000000e+00,  0.00000000e+00,\n",
       "        0.00000000e+00,  4.54747351e-13,  4.54747351e-13,  4.54747351e-13,\n",
       "        0.00000000e+00,  0.00000000e+00,  4.54747351e-13,  0.00000000e+00,\n",
       "        0.00000000e+00, -4.54747351e-13,  0.00000000e+00,  0.00000000e+00,\n",
       "        0.00000000e+00,  0.00000000e+00,  0.00000000e+00,  0.00000000e+00,\n",
       "        0.00000000e+00,  0.00000000e+00,  0.00000000e+00,  0.00000000e+00,\n",
       "        4.54747351e-13,  0.00000000e+00,  4.54747351e-13,  0.00000000e+00,\n",
       "       -4.54747351e-13,  0.00000000e+00,  9.09494702e-13,  4.54747351e-13,\n",
       "        0.00000000e+00,  0.00000000e+00,  4.54747351e-13,  0.00000000e+00,\n",
       "        4.54747351e-13,  0.00000000e+00, -4.54747351e-13, -4.54747351e-13,\n",
       "        0.00000000e+00,  0.00000000e+00,  4.54747351e-13,  0.00000000e+00,\n",
       "        4.54747351e-13,  0.00000000e+00, -4.54747351e-13,  0.00000000e+00,\n",
       "        0.00000000e+00,  4.54747351e-13,  0.00000000e+00, -4.54747351e-13,\n",
       "       -4.54747351e-13,  0.00000000e+00,  4.54747351e-13,  4.54747351e-13,\n",
       "        0.00000000e+00,  0.00000000e+00,  0.00000000e+00,  4.54747351e-13,\n",
       "        0.00000000e+00, -4.54747351e-13, -9.09494702e-13,  0.00000000e+00,\n",
       "        0.00000000e+00,  4.54747351e-13,  0.00000000e+00, -4.54747351e-13,\n",
       "        0.00000000e+00,  0.00000000e+00,  0.00000000e+00, -4.54747351e-13,\n",
       "        0.00000000e+00, -4.54747351e-13,  0.00000000e+00,  0.00000000e+00,\n",
       "        4.54747351e-13,  0.00000000e+00,  4.54747351e-13,  0.00000000e+00,\n",
       "       -4.54747351e-13, -4.54747351e-13,  0.00000000e+00,  4.54747351e-13,\n",
       "        4.54747351e-13,  4.54747351e-13,  4.54747351e-13,  4.54747351e-13,\n",
       "        4.54747351e-13,  4.54747351e-13,  4.54747351e-13,  4.54747351e-13,\n",
       "        4.54747351e-13,  4.54747351e-13,  4.54747351e-13,  4.54747351e-13,\n",
       "        4.54747351e-13,  4.54747351e-13,  4.54747351e-13,  4.54747351e-13,\n",
       "        4.54747351e-13,  4.54747351e-13,  4.54747351e-13,  4.54747351e-13,\n",
       "        4.54747351e-13,  4.54747351e-13,  4.54747351e-13,  4.54747351e-13,\n",
       "        4.54747351e-13,  4.54747351e-13,  4.54747351e-13,  4.54747351e-13,\n",
       "        4.54747351e-13,  4.54747351e-13,  4.54747351e-13,  4.54747351e-13,\n",
       "        4.54747351e-13,  4.54747351e-13,  4.54747351e-13,  4.54747351e-13,\n",
       "        4.54747351e-13,  4.54747351e-13,  4.54747351e-13,  4.54747351e-13,\n",
       "        4.54747351e-13,  4.54747351e-13,  4.54747351e-13,  4.54747351e-13,\n",
       "        4.54747351e-13,  4.54747351e-13,  4.54747351e-13,  4.54747351e-13,\n",
       "        4.54747351e-13,  4.54747351e-13,  4.54747351e-13,  4.54747351e-13,\n",
       "        4.54747351e-13,  4.54747351e-13,  4.54747351e-13,  4.54747351e-13,\n",
       "        4.54747351e-13,  4.54747351e-13,  4.54747351e-13,  4.54747351e-13,\n",
       "        4.54747351e-13,  4.54747351e-13,  4.54747351e-13,  4.54747351e-13,\n",
       "        4.54747351e-13,  4.54747351e-13,  4.54747351e-13,  4.54747351e-13,\n",
       "        4.54747351e-13,  4.54747351e-13,  4.54747351e-13,  4.54747351e-13,\n",
       "        4.54747351e-13,  4.54747351e-13,  4.54747351e-13,  4.54747351e-13,\n",
       "        4.54747351e-13,  4.54747351e-13,  4.54747351e-13,  4.54747351e-13,\n",
       "        4.54747351e-13,  4.54747351e-13,  4.54747351e-13,  4.54747351e-13,\n",
       "        4.54747351e-13,  4.54747351e-13,  4.54747351e-13,  4.54747351e-13,\n",
       "        4.54747351e-13,  4.54747351e-13,  4.54747351e-13,  4.54747351e-13,\n",
       "        4.54747351e-13,  4.54747351e-13,  4.54747351e-13,  4.54747351e-13,\n",
       "        4.54747351e-13,  4.54747351e-13,  4.54747351e-13,  4.54747351e-13,\n",
       "        4.54747351e-13,  4.54747351e-13,  4.54747351e-13,  4.54747351e-13,\n",
       "        4.54747351e-13,  4.54747351e-13,  4.54747351e-13,  4.54747351e-13,\n",
       "        4.54747351e-13,  4.54747351e-13,  4.54747351e-13,  4.54747351e-13,\n",
       "        4.54747351e-13,  4.54747351e-13,  4.54747351e-13,  4.54747351e-13,\n",
       "        4.54747351e-13,  4.54747351e-13,  4.54747351e-13,  4.54747351e-13,\n",
       "        4.54747351e-13,  4.54747351e-13,  4.54747351e-13,  4.54747351e-13,\n",
       "        4.54747351e-13,  4.54747351e-13,  4.54747351e-13,  4.54747351e-13,\n",
       "        4.54747351e-13,  4.54747351e-13,  4.54747351e-13,  4.54747351e-13,\n",
       "        4.54747351e-13,  4.54747351e-13,  4.54747351e-13,  4.54747351e-13,\n",
       "        4.54747351e-13,  4.54747351e-13,  4.54747351e-13,  4.54747351e-13,\n",
       "        4.54747351e-13,  4.54747351e-13,  4.54747351e-13,  4.54747351e-13,\n",
       "        4.54747351e-13,  4.54747351e-13,  4.54747351e-13,  4.54747351e-13,\n",
       "        4.54747351e-13,  4.54747351e-13,  4.54747351e-13,  4.54747351e-13,\n",
       "        4.54747351e-13,  4.54747351e-13,  4.54747351e-13,  4.54747351e-13,\n",
       "        4.54747351e-13,  4.54747351e-13,  4.54747351e-13,  4.54747351e-13,\n",
       "        4.54747351e-13,  4.54747351e-13,  4.54747351e-13,  4.54747351e-13,\n",
       "        4.54747351e-13,  4.54747351e-13,  4.54747351e-13,  4.54747351e-13,\n",
       "        4.54747351e-13,  4.54747351e-13,  4.54747351e-13,  4.54747351e-13,\n",
       "        4.54747351e-13,  4.54747351e-13,  4.54747351e-13,  4.54747351e-13,\n",
       "        4.54747351e-13,  4.54747351e-13,  4.54747351e-13,  4.54747351e-13,\n",
       "        4.54747351e-13,  4.54747351e-13,  4.54747351e-13,  4.54747351e-13,\n",
       "        4.54747351e-13,  4.54747351e-13,  4.54747351e-13,  4.54747351e-13,\n",
       "        4.54747351e-13,  4.54747351e-13,  4.54747351e-13,  4.54747351e-13,\n",
       "        4.54747351e-13,  4.54747351e-13,  4.54747351e-13,  4.54747351e-13,\n",
       "        4.54747351e-13,  4.54747351e-13,  4.54747351e-13,  4.54747351e-13,\n",
       "        4.54747351e-13,  4.54747351e-13,  4.54747351e-13,  4.54747351e-13,\n",
       "        4.54747351e-13,  4.54747351e-13,  4.54747351e-13,  4.54747351e-13,\n",
       "        4.54747351e-13,  4.54747351e-13,  4.54747351e-13,  4.54747351e-13,\n",
       "        4.54747351e-13,  4.54747351e-13,  4.54747351e-13,  4.54747351e-13,\n",
       "        4.54747351e-13,  4.54747351e-13,  4.54747351e-13,  4.54747351e-13,\n",
       "        4.54747351e-13,  4.54747351e-13,  4.54747351e-13,  4.54747351e-13,\n",
       "        4.54747351e-13,  4.54747351e-13,  4.54747351e-13,  4.54747351e-13,\n",
       "        4.54747351e-13,  4.54747351e-13,  4.54747351e-13,  4.54747351e-13,\n",
       "        4.54747351e-13,  4.54747351e-13,  4.54747351e-13,  4.54747351e-13,\n",
       "        4.54747351e-13,  4.54747351e-13,  4.54747351e-13,  4.54747351e-13,\n",
       "        4.54747351e-13,  4.54747351e-13,  4.54747351e-13,  4.54747351e-13,\n",
       "        4.54747351e-13,  4.54747351e-13,  4.54747351e-13,  4.54747351e-13,\n",
       "        4.54747351e-13,  4.54747351e-13,  4.54747351e-13,  4.54747351e-13,\n",
       "        4.54747351e-13,  4.54747351e-13,  4.54747351e-13,  4.54747351e-13,\n",
       "        4.54747351e-13,  4.54747351e-13,  4.54747351e-13,  4.54747351e-13,\n",
       "        4.54747351e-13,  4.54747351e-13,  4.54747351e-13,  4.54747351e-13,\n",
       "        4.54747351e-13,  4.54747351e-13,  4.54747351e-13,  4.54747351e-13,\n",
       "        4.54747351e-13,  4.54747351e-13,  4.54747351e-13,  4.54747351e-13,\n",
       "        4.54747351e-13,  4.54747351e-13,  4.54747351e-13,  4.54747351e-13,\n",
       "        4.54747351e-13,  4.54747351e-13,  4.54747351e-13,  4.54747351e-13,\n",
       "        4.54747351e-13,  4.54747351e-13,  4.54747351e-13,  4.54747351e-13,\n",
       "        4.54747351e-13,  4.54747351e-13,  4.54747351e-13,  4.54747351e-13,\n",
       "        4.54747351e-13,  4.54747351e-13,  4.54747351e-13,  4.54747351e-13,\n",
       "        4.54747351e-13,  4.54747351e-13,  4.54747351e-13,  4.54747351e-13,\n",
       "        4.54747351e-13,  4.54747351e-13,  4.54747351e-13,  4.54747351e-13,\n",
       "        4.54747351e-13,  4.54747351e-13,  4.54747351e-13,  4.54747351e-13,\n",
       "        4.54747351e-13,  4.54747351e-13,  4.54747351e-13,  4.54747351e-13,\n",
       "        4.54747351e-13,  4.54747351e-13,  4.54747351e-13,  4.54747351e-13,\n",
       "        4.54747351e-13,  4.54747351e-13,  4.54747351e-13,  4.54747351e-13,\n",
       "        4.54747351e-13,  4.54747351e-13,  4.54747351e-13,  4.54747351e-13,\n",
       "        4.54747351e-13,  4.54747351e-13,  4.54747351e-13,  4.54747351e-13,\n",
       "        4.54747351e-13,  4.54747351e-13,  4.54747351e-13,  4.54747351e-13,\n",
       "        4.54747351e-13,  4.54747351e-13,  4.54747351e-13])"
      ]
     },
     "execution_count": 73,
     "metadata": {},
     "output_type": "execute_result"
    }
   ],
   "source": [
    "F_zero1 - L_zero1"
   ]
  },
  {
   "cell_type": "code",
   "execution_count": 153,
   "metadata": {},
   "outputs": [
    {
     "data": {
      "text/plain": [
       "(731, 731, 731, 731)"
      ]
     },
     "execution_count": 153,
     "metadata": {},
     "output_type": "execute_result"
    }
   ],
   "source": [
    "len(L_zero1), len(L_zero), len(F_zero), len(F_zero1)"
   ]
  },
  {
   "cell_type": "code",
   "execution_count": 74,
   "metadata": {},
   "outputs": [
    {
     "name": "stdout",
     "output_type": "stream",
     "text": [
      "82.25\n",
      "78.5\n"
     ]
    }
   ],
   "source": [
    "pa=preco_inv[F_zero-L_zero<0.01][0]\n",
    "pa1=preco_inv[F_zero1-L_zero1<0.01][0]\n",
    "print(pa)\n",
    "print(pa1)"
   ]
  },
  {
   "cell_type": "code",
   "execution_count": null,
   "metadata": {},
   "outputs": [],
   "source": []
  },
  {
   "cell_type": "code",
   "execution_count": 89,
   "metadata": {},
   "outputs": [
    {
     "name": "stdout",
     "output_type": "stream",
     "text": [
      "Hoje, o gatilho explorar $\\Pi$ Dog+Feather é: 73.0\n",
      "Hoje, o gatilho explorar Head é: 73.125\n",
      "Hoje, o gatilho simultaneo $\\Pi$ Dog+Feather é: 78.5\n",
      "Hoje, o gatilho simultaneo Head é: 82.25\n"
     ]
    },
    {
     "data": {
      "text/plain": [
       "[]"
      ]
     },
     "execution_count": 89,
     "metadata": {},
     "output_type": "execute_result"
    },
    {
     "data": {
      "image/png": "[encoded data removed]",
      "text/plain": [
       "<Figure size 720x360 with 1 Axes>"
      ]
     },
     "metadata": {
      "needs_background": "light"
     },
     "output_type": "display_data"
    }
   ],
   "source": [
    "#####Figuras de Gatilho e a#####\n",
    "fig,ax = plt.subplots(1,1, figsize=(10,5))\n",
    "sns.despine(left=True)\n",
    "print('Hoje, o gatilho explorar $\\Pi$ Dog+Feather é:',round(gatilho_port,3))\n",
    "print('Hoje, o gatilho explorar Head é:',round(g[0],3))\n",
    "print('Hoje, o gatilho simultaneo $\\Pi$ Dog+Feather é:',pa1)\n",
    "print('Hoje, o gatilho simultaneo Head é:',pa)\n",
    "\n",
    "ax.plot(preco_inv,L_zero1, color='blue', ls='-' )\n",
    "ax.plot(preco_inv,F_zero1, color='red', ls='-' )\n",
    "\n",
    "ax.plot(preco_inv,L_zero, color='green', ls='--' )\n",
    "ax.plot(preco_inv,F_zero, color='orange', ls='--' )\n",
    "\n",
    "#ax.plot(preco_inv,U_i,color='black',ls='-')\n",
    "#ax.plot(preco_inv,EXP_custo,color='black',ls='-')\n",
    "\n",
    "ax.axvline(x=gatilho_port, linestyle='-', color='grey')\n",
    "ax.axvline(x=pa1, linestyle='-', color='black')\n",
    "\n",
    "\n",
    "ax.axvline(x=g[0], linestyle='--', color='grey')\n",
    "ax.axvline(x=pa, linestyle='--', color='black')\n",
    "\n",
    "\n",
    "ax.axhline(0, linestyle='--', color='grey')\n",
    "\n",
    "#ax.axvline(pa, linestyle='--', color='grey')\n",
    "\n",
    "ax.set_ylim(-20,250)\n",
    "ax.set_xlim(-5,120)\n",
    "\n",
    "#ax2.plot(V_vetor,F_V_Matrix[F_V_Matrix.shape[0]-1,:], color='blue', ls='--' )\n",
    "\n",
    "#ax2.legend(['Lider','Seguidor','Barganha'], loc='upper left', shadow=True)\n",
    "ax.legend(['D+F-Lider','D+F-Seguidor','H-Lider','H-Seguidor','$P^{**}$- D+F','$P^{s}$-D+F','$P^{**}$-H','$P^{s}$-H'], loc='upper left', shadow=True)\n",
    "ax.set_xlabel('Preço do Petróleo- $/bbl')\n",
    "ax.set_ylabel('Valor -  M$')\n",
    "ax.set_title('Avaliação Exploratória - Jogo Assimétrico')\n",
    "\n",
    "ax.set_xlim(right=100)\n",
    "ax.set_ylim(top=2500)\n",
    "ax.set_ylim(bottom=-100)\n",
    "#ax2.set_title('Opção de Investir em função do Preço')\n",
    "\n",
    "plt.plot()"
   ]
  },
  {
   "cell_type": "code",
   "execution_count": 90,
   "metadata": {},
   "outputs": [
    {
     "data": {
      "text/plain": [
       "401"
      ]
     },
     "execution_count": 90,
     "metadata": {},
     "output_type": "execute_result"
    }
   ],
   "source": [
    "np.where(preco_inv>100)[0][0]"
   ]
  },
  {
   "cell_type": "code",
   "execution_count": 91,
   "metadata": {},
   "outputs": [
    {
     "data": {
      "text/plain": [
       "25.0"
      ]
     },
     "execution_count": 91,
     "metadata": {},
     "output_type": "execute_result"
    }
   ],
   "source": [
    "preco_inv[100]"
   ]
  },
  {
   "cell_type": "code",
   "execution_count": 92,
   "metadata": {},
   "outputs": [
    {
     "data": {
      "text/plain": [
       "[<matplotlib.lines.Line2D at 0x14ef9a22308>]"
      ]
     },
     "execution_count": 92,
     "metadata": {},
     "output_type": "execute_result"
    },
    {
     "data": {
      "image/png": "[encoded data removed]",
      "text/plain": [
       "<Figure size 432x288 with 1 Axes>"
      ]
     },
     "metadata": {
      "needs_background": "light"
     },
     "output_type": "display_data"
    }
   ],
   "source": [
    "plt.plot(np.round(np.absolute(np.round(F_zero1,2)/np.round(L_zero1,2) -1),2)[0:400])"
   ]
  },
  {
   "cell_type": "code",
   "execution_count": 93,
   "metadata": {},
   "outputs": [
    {
     "data": {
      "text/plain": [
       "[<matplotlib.lines.Line2D at 0x14efb2eb288>]"
      ]
     },
     "execution_count": 93,
     "metadata": {},
     "output_type": "execute_result"
    },
    {
     "data": {
      "image/png": "[encoded data removed]",
      "text/plain": [
       "<Figure size 432x288 with 1 Axes>"
      ]
     },
     "metadata": {
      "needs_background": "light"
     },
     "output_type": "display_data"
    }
   ],
   "source": [
    "plt.plot(F_zero1- L_zero1)\n",
    "#plt.plot(np.absolute(F_zero-L_zero)[0:400])"
   ]
  },
  {
   "cell_type": "code",
   "execution_count": null,
   "metadata": {},
   "outputs": [],
   "source": []
  },
  {
   "cell_type": "code",
   "execution_count": 140,
   "metadata": {},
   "outputs": [
    {
     "name": "stdout",
     "output_type": "stream",
     "text": [
      "Hoje, o gatilho explorar $\\Pi$ Dog+Feather é: 73.0\n",
      "Hoje, o gatilho explorar Head é: 73.125\n",
      "Hoje, o gatilho simultaneo $\\Pi$ Dog+Feather é: 78.5\n",
      "Hoje, o gatilho simultaneo Head é: 82.25\n"
     ]
    },
    {
     "data": {
      "text/plain": [
       "[]"
      ]
     },
     "execution_count": 140,
     "metadata": {},
     "output_type": "execute_result"
    },
    {
     "data": {
      "image/png": "[encoded data removed]",
      "text/plain": [
       "<Figure size 720x360 with 1 Axes>"
      ]
     },
     "metadata": {
      "needs_background": "light"
     },
     "output_type": "display_data"
    }
   ],
   "source": [
    "#####Figuras de Gatilho e a#####\n",
    "fig,ax = plt.subplots(1,1, figsize=(10,5))\n",
    "sns.despine(left=True)\n",
    "print('Hoje, o gatilho explorar $\\Pi$ Dog+Feather é:',round(gatilho_port,3))\n",
    "print('Hoje, o gatilho explorar Head é:',round(g[0],3))\n",
    "print('Hoje, o gatilho simultaneo $\\Pi$ Dog+Feather é:',pa1)\n",
    "print('Hoje, o gatilho simultaneo Head é:',pa)\n",
    "\n",
    "ax.plot(preco_inv,F_zero1-L_zero1, color='red', ls='-' )\n",
    "\n",
    "ax.plot(preco_inv,F_zero-L_zero, color='orange', ls='--' )\n",
    "\n",
    "#ax.plot(preco_inv,U_i,color='black',ls='-')\n",
    "#ax.plot(preco_inv,EXP_custo,color='black',ls='-')\n",
    "\n",
    "ax.axvline(x=gatilho_port, linestyle='-', color='grey')\n",
    "ax.axvline(x=pa1, linestyle='-', color='black')\n",
    "\n",
    "\n",
    "ax.axvline(x=g[0], linestyle='--', color='grey')\n",
    "ax.axvline(x=pa, linestyle='--', color='black')\n",
    "\n",
    "\n",
    "ax.axhline(0, linestyle='--', color='grey')\n",
    "\n",
    "#ax.axvline(pa, linestyle='--', color='grey')\n",
    "\n",
    "#ax.set_ylim(0,100)\n",
    "#ax.set_xlim(-5,120)\n",
    "\n",
    "#ax2.plot(V_vetor,F_V_Matrix[F_V_Matrix.shape[0]-1,:], color='blue', ls='--' )\n",
    "\n",
    "#ax2.legend(['Lider','Seguidor','Barganha'], loc='upper left', shadow=True)\n",
    "ax.legend(['D+F: F-L','Head: F-L','$P^{**}$-DogFish','$P^s$-DogFish','$P^{**}$-Head','$P^s$-Head'], loc='upper left', shadow=True)\n",
    "ax.set_xlabel('Preço do Petróleo - $/bbl')\n",
    "ax.set_ylabel('Benefício - M\\$')\n",
    "ax.set_xlim(right=85)\n",
    "ax.set_xlim(left=65)\n",
    "ax.set_ylim(top=20)\n",
    "ax.set_ylim(bottom=0)\n",
    "#ax2.set_title('Opção de Investir em função do Preço')\n",
    "\n",
    "plt.plot()"
   ]
  },
  {
   "cell_type": "code",
   "execution_count": 138,
   "metadata": {},
   "outputs": [
    {
     "name": "stdout",
     "output_type": "stream",
     "text": [
      "Hoje, o gatilho explorar $\\Pi$ Dog+Feather é: 73.0\n",
      "Hoje, o gatilho explorar Head é: 73.125\n",
      "Hoje, o gatilho simultaneo $\\Pi$ Dog+Feather é: 78.5\n",
      "Hoje, o gatilho simultaneo Head é: 82.25\n"
     ]
    },
    {
     "data": {
      "text/plain": [
       "[]"
      ]
     },
     "execution_count": 138,
     "metadata": {},
     "output_type": "execute_result"
    },
    {
     "data": {
      "image/png": "[encoded data removed]",
      "text/plain": [
       "<Figure size 720x360 with 1 Axes>"
      ]
     },
     "metadata": {
      "needs_background": "light"
     },
     "output_type": "display_data"
    }
   ],
   "source": [
    "#####Figuras de Gatilho e a#####\n",
    "fig,ax = plt.subplots(1,1, figsize=(10,5))\n",
    "sns.despine(left=True)\n",
    "print('Hoje, o gatilho explorar $\\Pi$ Dog+Feather é:',round(gatilho_port,3))\n",
    "print('Hoje, o gatilho explorar Head é:',round(g[0],3))\n",
    "print('Hoje, o gatilho simultaneo $\\Pi$ Dog+Feather é:',pa1)\n",
    "print('Hoje, o gatilho simultaneo Head é:',pa)\n",
    "\n",
    "ax.plot(preco_inv,(F_zero1/L_zero1 -1)*100, color='red', ls='-' )\n",
    "\n",
    "ax.plot(preco_inv,(F_zero/L_zero -1)*100, color='orange', ls='--' )\n",
    "\n",
    "#ax.plot(preco_inv,U_i,color='black',ls='-')\n",
    "#ax.plot(preco_inv,EXP_custo,color='black',ls='-')\n",
    "\n",
    "ax.axvline(x=gatilho_port, linestyle='-', color='grey')\n",
    "ax.axvline(x=pa1, linestyle='-', color='black')\n",
    "\n",
    "\n",
    "ax.axvline(x=g[0], linestyle='--', color='grey')\n",
    "ax.axvline(x=pa, linestyle='--', color='black')\n",
    "\n",
    "\n",
    "ax.axhline(0, linestyle='--', color='grey')\n",
    "\n",
    "#ax.axvline(pa, linestyle='--', color='grey')\n",
    "\n",
    "#ax.set_ylim(0,100)\n",
    "#ax.set_xlim(-5,120)\n",
    "\n",
    "#ax2.plot(V_vetor,F_V_Matrix[F_V_Matrix.shape[0]-1,:], color='blue', ls='--' )\n",
    "\n",
    "#ax2.legend(['Lider','Seguidor','Barganha'], loc='upper left', shadow=True)\n",
    "ax.legend(['D+F: F-L','Head: F-L','$P^{**}$-DogFish','$P^s$-DogFish','$P^{**}$-Head','$P^s$-Head'], loc='upper left', shadow=True)\n",
    "ax.set_xlabel('Preço do Petróleo - $/bbl')\n",
    "ax.set_ylabel('Benefício - M\\$')\n",
    "ax.set_xlim(right=85)\n",
    "ax.set_xlim(left=65)\n",
    "ax.set_ylim(top=2)\n",
    "ax.set_ylim(bottom=0)\n",
    "#ax2.set_title('Opção de Investir em função do Preço')\n",
    "\n",
    "plt.plot()"
   ]
  },
  {
   "cell_type": "code",
   "execution_count": 188,
   "metadata": {},
   "outputs": [
    {
     "name": "stdout",
     "output_type": "stream",
     "text": [
      "Hoje, o gatilho explorar $\\Pi$ Dog+Feather é: 73.0\n",
      "Hoje, o gatilho explorar Head é: 73.125\n",
      "Hoje, o gatilho simultaneo $\\Pi$ Dog+Feather é: 78.5\n",
      "Hoje, o gatilho simultaneo Head é: 82.25\n"
     ]
    },
    {
     "data": {
      "text/plain": [
       "[]"
      ]
     },
     "execution_count": 188,
     "metadata": {},
     "output_type": "execute_result"
    },
    {
     "data": {
      "image/png": "[encoded data removed]",
      "text/plain": [
       "<Figure size 720x360 with 1 Axes>"
      ]
     },
     "metadata": {
      "needs_background": "light"
     },
     "output_type": "display_data"
    }
   ],
   "source": [
    "#####Figuras de Gatilho e a#####\n",
    "fig,ax = plt.subplots(1,1, figsize=(10,5))\n",
    "sns.despine(left=True)\n",
    "print('Hoje, o gatilho explorar $\\Pi$ Dog+Feather é:',round(gatilho_port,3))\n",
    "print('Hoje, o gatilho explorar Head é:',round(g[0],3))\n",
    "print('Hoje, o gatilho simultaneo $\\Pi$ Dog+Feather é:',pa1)\n",
    "print('Hoje, o gatilho simultaneo Head é:',pa)\n",
    "\n",
    "ax.plot(preco_inv,((F_zero1-L_zero1)/L_zero)*100, color='red', ls='-' )\n",
    "\n",
    "ax.plot(preco_inv,((F_zero-L_zero)/L_zero1)*100, color='orange', ls='--' )\n",
    "\n",
    "#ax.plot(preco_inv,U_i,color='black',ls='-')\n",
    "#ax.plot(preco_inv,EXP_custo,color='black',ls='-')\n",
    "\n",
    "ax.axvline(x=gatilho_port, linestyle='-', color='grey')\n",
    "ax.axvline(x=pa1, linestyle='-', color='black')\n",
    "\n",
    "\n",
    "ax.axvline(x=g[0], linestyle='--', color='grey')\n",
    "ax.axvline(x=pa, linestyle='--', color='black')\n",
    "\n",
    "\n",
    "ax.axhline(0, linestyle='--', color='grey')\n",
    "\n",
    "#ax.axvline(pa, linestyle='--', color='grey')\n",
    "\n",
    "#ax.set_ylim(0,100)\n",
    "#ax.set_xlim(-5,120)\n",
    "\n",
    "#ax2.plot(V_vetor,F_V_Matrix[F_V_Matrix.shape[0]-1,:], color='blue', ls='--' )\n",
    "\n",
    "#ax2.legend(['Lider','Seguidor','Barganha'], loc='upper left', shadow=True)\n",
    "ax.legend(['D+F: F-L','Head: F-L','$P^{**}$-DogFish','$P^s$-DogFish','$P^{**}$-Head','$P^s$-Head'], loc='upper left', shadow=True)\n",
    "ax.set_xlabel('Preço do Petróleo - $/bbl')\n",
    "ax.set_ylabel('Benefício - M\\$')\n",
    "ax.set_xlim(right=85)\n",
    "ax.set_xlim(left=65)\n",
    "ax.set_ylim(top=2.5)\n",
    "ax.set_ylim(bottom=0)\n",
    "#ax2.set_title('Opção de Investir em função do Preço')\n",
    "\n",
    "plt.plot()"
   ]
  },
  {
   "cell_type": "code",
   "execution_count": null,
   "metadata": {},
   "outputs": [],
   "source": []
  },
  {
   "cell_type": "code",
   "execution_count": 97,
   "metadata": {},
   "outputs": [],
   "source": [
    "###################################Simulações da Guerra de Atrito##############################################"
   ]
  },
  {
   "cell_type": "code",
   "execution_count": 98,
   "metadata": {},
   "outputs": [],
   "source": [
    "import nashpy as nash"
   ]
  },
  {
   "cell_type": "code",
   "execution_count": 144,
   "metadata": {},
   "outputs": [],
   "source": [
    "P1=75\n",
    "loc=np.where(np.round(preco_inv,2)==P1)[0][0]"
   ]
  },
  {
   "cell_type": "code",
   "execution_count": 145,
   "metadata": {},
   "outputs": [],
   "source": [
    "###Jogador 1 está na horizontal - DogFish + Feather\n",
    "VME1=L_zero1[loc]\n",
    "opcao_info1=F_zero1[loc]\n",
    "opcao1=Exp_zero1[loc]\n",
    "\n"
   ]
  },
  {
   "cell_type": "code",
   "execution_count": 150,
   "metadata": {},
   "outputs": [],
   "source": [
    "if P1>gatilho_port:\n",
    "    custo1=VME_custo*(1-np.exp(-r/12))\n",
    "else:\n",
    "    custo1=0"
   ]
  },
  {
   "cell_type": "code",
   "execution_count": 151,
   "metadata": {},
   "outputs": [],
   "source": [
    "###Jogador 2 está na Vertical - Head\n",
    "VME2=L_zero[loc]\n",
    "opcao_info2=F_zero[loc]\n",
    "opcao2=Exp_zero[loc]\n",
    "\n"
   ]
  },
  {
   "cell_type": "code",
   "execution_count": 152,
   "metadata": {},
   "outputs": [],
   "source": [
    "if P1>g[0]:\n",
    "    custo2=VME2*(1-np.exp(-r/12))\n",
    "else:\n",
    "    custo2=0\n",
    "    \n"
   ]
  },
  {
   "cell_type": "code",
   "execution_count": 153,
   "metadata": {},
   "outputs": [
    {
     "data": {
      "text/plain": [
       "(1.3938421763794093, 3.040074653487324)"
      ]
     },
     "execution_count": 153,
     "metadata": {},
     "output_type": "execute_result"
    }
   ],
   "source": [
    "custo1, custo2"
   ]
  },
  {
   "cell_type": "code",
   "execution_count": 154,
   "metadata": {},
   "outputs": [],
   "source": [
    "####Ações do Jogador 1\n",
    "A_matrix=[[VME1, VME1],[opcao_info1,opcao1-custo1]]\n",
    "A_matrix=np.round(A_matrix,2)"
   ]
  },
  {
   "cell_type": "code",
   "execution_count": 155,
   "metadata": {},
   "outputs": [
    {
     "data": {
      "text/plain": [
       "Bi matrix game with payoff matrices:\n",
       "\n",
       "Row player:\n",
       "[[1912.8  1912.8 ]\n",
       " [1913.8  5370.94]]\n",
       "\n",
       "Column player:\n",
       "[[1217.55 1219.07]\n",
       " [1217.55 1214.51]]"
      ]
     },
     "execution_count": 155,
     "metadata": {},
     "output_type": "execute_result"
    }
   ],
   "source": [
    "###Ações do Jogador 2\n",
    "B_matrix=[[VME2,opcao_info2],[VME2,opcao2-custo2]]\n",
    "B_matrix=np.round(B_matrix,2)\n",
    "war_att=nash.Game(A_matrix,B_matrix)\n",
    "war_att\n",
    "\n"
   ]
  },
  {
   "cell_type": "code",
   "execution_count": 156,
   "metadata": {},
   "outputs": [
    {
     "data": {
      "text/plain": [
       "[(array([0., 1.]), array([1., 0.]))]"
      ]
     },
     "execution_count": 156,
     "metadata": {},
     "output_type": "execute_result"
    }
   ],
   "source": [
    "eq=list(war_att.support_enumeration())\n",
    "eq"
   ]
  },
  {
   "cell_type": "code",
   "execution_count": 157,
   "metadata": {},
   "outputs": [
    {
     "name": "stdout",
     "output_type": "stream",
     "text": [
      "3.0 1913.8 1217.55\n"
     ]
    }
   ],
   "source": [
    "suporte=[[1,2],[3,4]]\n",
    "for s1,s2 in eq:\n",
    "    row_util=np.dot(np.dot(s1,A_matrix),s2)\n",
    "    quadrante=np.dot(np.dot(s1,suporte),s2)\n",
    "    col_util=np.dot(np.dot(s1,B_matrix),s2)\n",
    "    print(quadrante,row_util,col_util)"
   ]
  },
  {
   "cell_type": "code",
   "execution_count": 158,
   "metadata": {},
   "outputs": [
    {
     "data": {
      "text/plain": [
       "2"
      ]
     },
     "execution_count": 158,
     "metadata": {},
     "output_type": "execute_result"
    }
   ],
   "source": [
    "len(eq[0])"
   ]
  },
  {
   "cell_type": "code",
   "execution_count": 159,
   "metadata": {},
   "outputs": [],
   "source": [
    "suporte=[[1,2],[3,4]]"
   ]
  },
  {
   "cell_type": "code",
   "execution_count": 160,
   "metadata": {},
   "outputs": [],
   "source": [
    "####Mapeamendo dos diversos jogos####"
   ]
  },
  {
   "cell_type": "code",
   "execution_count": 161,
   "metadata": {},
   "outputs": [
    {
     "name": "stderr",
     "output_type": "stream",
     "text": [
      "C:\\Users\\LG\\Anaconda3\\lib\\site-packages\\nashpy\\algorithms\\support_enumeration.py:196: RuntimeWarning: \n",
      "An even number of (2) equilibria was returned. This\n",
      "indicates that the game is degenerate. Consider using another algorithm\n",
      "to investigate.\n",
      "                  \n",
      "  warnings.warn(warning, RuntimeWarning)\n"
     ]
    }
   ],
   "source": [
    "\n",
    "matrix=np.zeros((len(preco_inv),6))\n",
    "for loc in range(len(preco_inv)):    \n",
    "    #P1=50\n",
    "    #loc=np.where(np.round(preco_inv,2)==P1)[0][0]\n",
    "    #print(preco_inv[loc])\n",
    "    \n",
    "    VME1=L_zero1[loc]\n",
    "    opcao_info1=F_zero1[loc]\n",
    "    opcao1=Exp_zero1[loc]\n",
    "    \n",
    "    if preco_inv[loc]>gatilho_port:   #g1[0]\n",
    "        custo1=VME_custo*(1-np.exp(-r/12)) #VME1\n",
    "    else:\n",
    "        custo1=0\n",
    "        \n",
    "    ###Jogador 1 está na horizontal - Head\n",
    "    VME2=L_zero[loc]\n",
    "    opcao_info2=F_zero[loc]\n",
    "    opcao2=Exp_zero[loc]\n",
    "\n",
    "    if preco_inv[loc]>g[0]:\n",
    "        custo2=VME2*(1-np.exp(-r/12))\n",
    "    else:\n",
    "        custo2=0\n",
    "        \n",
    "\n",
    "    #Ações do jogador 1\n",
    "    A_matrix=[[VME1, VME1],[opcao_info1,opcao1-custo1]]\n",
    "    A_matrix=np.round(A_matrix,2)\n",
    "    \n",
    "    ###Ações do Jogador 2\n",
    "    #A_matrix=[[VME2,VME2],[opcao_info2,opcao2-custo2]]\n",
    "    #A_matrix=np.round(A_matrix,2)\n",
    "    \n",
    "\n",
    "\n",
    "    ###Ações do Jogador 2\n",
    "    B_matrix=[[VME2,opcao_info2],[VME2,opcao2-custo2]]\n",
    "    B_matrix=np.round(B_matrix,2)\n",
    "    war_att=nash.Game(A_matrix,B_matrix)\n",
    "\n",
    "    eq=list(war_att.support_enumeration())\n",
    "    #print(eq)\n",
    "\n",
    "\n",
    "    suporte=[[1,2],[3,4]]\n",
    "    \n",
    "    matrix[loc,0]=preco_inv[loc]\n",
    "    i=1\n",
    "    for s1,s2 in eq:\n",
    "        quadrante=np.dot(np.dot(s1,suporte),s2)\n",
    "        #print(i)\n",
    "        matrix[loc,i]=quadrante\n",
    "        i=i+1\n",
    "        "
   ]
  },
  {
   "cell_type": "code",
   "execution_count": 162,
   "metadata": {},
   "outputs": [],
   "source": [
    "df=pd.DataFrame(matrix)"
   ]
  },
  {
   "cell_type": "code",
   "execution_count": 163,
   "metadata": {},
   "outputs": [
    {
     "data": {
      "text/html": [
       "<div>\n",
       "<style scoped>\n",
       "    .dataframe tbody tr th:only-of-type {\n",
       "        vertical-align: middle;\n",
       "    }\n",
       "\n",
       "    .dataframe tbody tr th {\n",
       "        vertical-align: top;\n",
       "    }\n",
       "\n",
       "    .dataframe thead th {\n",
       "        text-align: right;\n",
       "    }\n",
       "</style>\n",
       "<table border=\"1\" class=\"dataframe\">\n",
       "  <thead>\n",
       "    <tr style=\"text-align: right;\">\n",
       "      <th></th>\n",
       "      <th>0</th>\n",
       "      <th>1</th>\n",
       "      <th>2</th>\n",
       "      <th>3</th>\n",
       "      <th>4</th>\n",
       "      <th>5</th>\n",
       "    </tr>\n",
       "  </thead>\n",
       "  <tbody>\n",
       "    <tr>\n",
       "      <td>0</td>\n",
       "      <td>0.00</td>\n",
       "      <td>4.0</td>\n",
       "      <td>0.0</td>\n",
       "      <td>0.0</td>\n",
       "      <td>0.0</td>\n",
       "      <td>0.0</td>\n",
       "    </tr>\n",
       "    <tr>\n",
       "      <td>1</td>\n",
       "      <td>0.25</td>\n",
       "      <td>4.0</td>\n",
       "      <td>0.0</td>\n",
       "      <td>0.0</td>\n",
       "      <td>0.0</td>\n",
       "      <td>0.0</td>\n",
       "    </tr>\n",
       "    <tr>\n",
       "      <td>2</td>\n",
       "      <td>0.50</td>\n",
       "      <td>4.0</td>\n",
       "      <td>0.0</td>\n",
       "      <td>0.0</td>\n",
       "      <td>0.0</td>\n",
       "      <td>0.0</td>\n",
       "    </tr>\n",
       "    <tr>\n",
       "      <td>3</td>\n",
       "      <td>0.75</td>\n",
       "      <td>4.0</td>\n",
       "      <td>0.0</td>\n",
       "      <td>0.0</td>\n",
       "      <td>0.0</td>\n",
       "      <td>0.0</td>\n",
       "    </tr>\n",
       "    <tr>\n",
       "      <td>4</td>\n",
       "      <td>1.00</td>\n",
       "      <td>4.0</td>\n",
       "      <td>0.0</td>\n",
       "      <td>0.0</td>\n",
       "      <td>0.0</td>\n",
       "      <td>0.0</td>\n",
       "    </tr>\n",
       "  </tbody>\n",
       "</table>\n",
       "</div>"
      ],
      "text/plain": [
       "      0    1    2    3    4    5\n",
       "0  0.00  4.0  0.0  0.0  0.0  0.0\n",
       "1  0.25  4.0  0.0  0.0  0.0  0.0\n",
       "2  0.50  4.0  0.0  0.0  0.0  0.0\n",
       "3  0.75  4.0  0.0  0.0  0.0  0.0\n",
       "4  1.00  4.0  0.0  0.0  0.0  0.0"
      ]
     },
     "execution_count": 163,
     "metadata": {},
     "output_type": "execute_result"
    }
   ],
   "source": [
    "df.head()"
   ]
  },
  {
   "cell_type": "code",
   "execution_count": 164,
   "metadata": {},
   "outputs": [],
   "source": [
    "df=df.set_index(0)"
   ]
  },
  {
   "cell_type": "code",
   "execution_count": 165,
   "metadata": {},
   "outputs": [],
   "source": [
    "df[df==0]=np.nan"
   ]
  },
  {
   "cell_type": "code",
   "execution_count": 166,
   "metadata": {},
   "outputs": [
    {
     "data": {
      "text/plain": [
       "<matplotlib.collections.PathCollection at 0x14efc6b1888>"
      ]
     },
     "execution_count": 166,
     "metadata": {},
     "output_type": "execute_result"
    },
    {
     "data": {
      "image/png": "[encoded data removed]",
      "text/plain": [
       "<Figure size 432x288 with 1 Axes>"
      ]
     },
     "metadata": {
      "needs_background": "light"
     },
     "output_type": "display_data"
    }
   ],
   "source": [
    "plt.scatter(df.index, df.iloc[:,0])\n",
    "plt.scatter(df.index, df.iloc[:,1])\n",
    "plt.scatter(df.index, df.iloc[:,2])\n",
    "plt.scatter(df.index, df.iloc[:,3])\n",
    "plt.scatter(df.index, df.iloc[:,4])\n"
   ]
  },
  {
   "cell_type": "code",
   "execution_count": 167,
   "metadata": {},
   "outputs": [
    {
     "data": {
      "text/html": [
       "<div>\n",
       "<style scoped>\n",
       "    .dataframe tbody tr th:only-of-type {\n",
       "        vertical-align: middle;\n",
       "    }\n",
       "\n",
       "    .dataframe tbody tr th {\n",
       "        vertical-align: top;\n",
       "    }\n",
       "\n",
       "    .dataframe thead th {\n",
       "        text-align: right;\n",
       "    }\n",
       "</style>\n",
       "<table border=\"1\" class=\"dataframe\">\n",
       "  <thead>\n",
       "    <tr style=\"text-align: right;\">\n",
       "      <th></th>\n",
       "      <th>1</th>\n",
       "      <th>2</th>\n",
       "      <th>3</th>\n",
       "      <th>4</th>\n",
       "      <th>5</th>\n",
       "    </tr>\n",
       "    <tr>\n",
       "      <th>0</th>\n",
       "      <th></th>\n",
       "      <th></th>\n",
       "      <th></th>\n",
       "      <th></th>\n",
       "      <th></th>\n",
       "    </tr>\n",
       "  </thead>\n",
       "  <tbody>\n",
       "    <tr>\n",
       "      <td>0.00</td>\n",
       "      <td>4.0</td>\n",
       "      <td>NaN</td>\n",
       "      <td>NaN</td>\n",
       "      <td>NaN</td>\n",
       "      <td>NaN</td>\n",
       "    </tr>\n",
       "    <tr>\n",
       "      <td>0.25</td>\n",
       "      <td>4.0</td>\n",
       "      <td>NaN</td>\n",
       "      <td>NaN</td>\n",
       "      <td>NaN</td>\n",
       "      <td>NaN</td>\n",
       "    </tr>\n",
       "    <tr>\n",
       "      <td>0.50</td>\n",
       "      <td>4.0</td>\n",
       "      <td>NaN</td>\n",
       "      <td>NaN</td>\n",
       "      <td>NaN</td>\n",
       "      <td>NaN</td>\n",
       "    </tr>\n",
       "    <tr>\n",
       "      <td>0.75</td>\n",
       "      <td>4.0</td>\n",
       "      <td>NaN</td>\n",
       "      <td>NaN</td>\n",
       "      <td>NaN</td>\n",
       "      <td>NaN</td>\n",
       "    </tr>\n",
       "    <tr>\n",
       "      <td>1.00</td>\n",
       "      <td>4.0</td>\n",
       "      <td>NaN</td>\n",
       "      <td>NaN</td>\n",
       "      <td>NaN</td>\n",
       "      <td>NaN</td>\n",
       "    </tr>\n",
       "    <tr>\n",
       "      <td>...</td>\n",
       "      <td>...</td>\n",
       "      <td>...</td>\n",
       "      <td>...</td>\n",
       "      <td>...</td>\n",
       "      <td>...</td>\n",
       "    </tr>\n",
       "    <tr>\n",
       "      <td>181.50</td>\n",
       "      <td>1.0</td>\n",
       "      <td>3.0</td>\n",
       "      <td>NaN</td>\n",
       "      <td>NaN</td>\n",
       "      <td>NaN</td>\n",
       "    </tr>\n",
       "    <tr>\n",
       "      <td>181.75</td>\n",
       "      <td>1.0</td>\n",
       "      <td>3.0</td>\n",
       "      <td>NaN</td>\n",
       "      <td>NaN</td>\n",
       "      <td>NaN</td>\n",
       "    </tr>\n",
       "    <tr>\n",
       "      <td>182.00</td>\n",
       "      <td>1.0</td>\n",
       "      <td>3.0</td>\n",
       "      <td>NaN</td>\n",
       "      <td>NaN</td>\n",
       "      <td>NaN</td>\n",
       "    </tr>\n",
       "    <tr>\n",
       "      <td>182.25</td>\n",
       "      <td>1.0</td>\n",
       "      <td>3.0</td>\n",
       "      <td>NaN</td>\n",
       "      <td>NaN</td>\n",
       "      <td>NaN</td>\n",
       "    </tr>\n",
       "    <tr>\n",
       "      <td>182.50</td>\n",
       "      <td>3.0</td>\n",
       "      <td>NaN</td>\n",
       "      <td>NaN</td>\n",
       "      <td>NaN</td>\n",
       "      <td>NaN</td>\n",
       "    </tr>\n",
       "  </tbody>\n",
       "</table>\n",
       "<p>731 rows × 5 columns</p>\n",
       "</div>"
      ],
      "text/plain": [
       "          1    2   3   4   5\n",
       "0                           \n",
       "0.00    4.0  NaN NaN NaN NaN\n",
       "0.25    4.0  NaN NaN NaN NaN\n",
       "0.50    4.0  NaN NaN NaN NaN\n",
       "0.75    4.0  NaN NaN NaN NaN\n",
       "1.00    4.0  NaN NaN NaN NaN\n",
       "...     ...  ...  ..  ..  ..\n",
       "181.50  1.0  3.0 NaN NaN NaN\n",
       "181.75  1.0  3.0 NaN NaN NaN\n",
       "182.00  1.0  3.0 NaN NaN NaN\n",
       "182.25  1.0  3.0 NaN NaN NaN\n",
       "182.50  3.0  NaN NaN NaN NaN\n",
       "\n",
       "[731 rows x 5 columns]"
      ]
     },
     "execution_count": 167,
     "metadata": {},
     "output_type": "execute_result"
    }
   ],
   "source": [
    "df"
   ]
  },
  {
   "cell_type": "code",
   "execution_count": 168,
   "metadata": {},
   "outputs": [
    {
     "data": {
      "text/plain": [
       "[]"
      ]
     },
     "execution_count": 168,
     "metadata": {},
     "output_type": "execute_result"
    },
    {
     "data": {
      "image/png": "[encoded data removed]",
      "text/plain": [
       "<Figure size 720x360 with 1 Axes>"
      ]
     },
     "metadata": {
      "needs_background": "light"
     },
     "output_type": "display_data"
    }
   ],
   "source": [
    "#####Figuras de Gatilho e a#####\n",
    "fig,ax = plt.subplots(1,1, figsize=(10,5))\n",
    "sns.despine(left=True)\n",
    "\n",
    "#ax.plot(preco_inv,U_i,color='black',ls='-')\n",
    "#ax.plot(preco_inv,EXP_custo,color='black',ls='-')\n",
    "ax.axvline(x=gatilho_port, linestyle='-', color='grey')\n",
    "ax.axvline(x=pa1, linestyle='-', color='black')\n",
    "\n",
    "\n",
    "ax.axvline(x=g[0], linestyle='--', color='grey')\n",
    "ax.axvline(x=pa, linestyle='--', color='black')\n",
    "\n",
    "sns.scatterplot(df.index, df.iloc[:,0], color='blue')\n",
    "sns.scatterplot(df.index, df.iloc[:,1], color='blue')\n",
    "sns.scatterplot(df.index, df.iloc[:,2], color='blue')\n",
    "sns.scatterplot(df.index, df.iloc[:,3], color='blue')\n",
    "sns.scatterplot(df.index, df.iloc[:,4], color='blue')\n",
    "\n",
    "\n",
    "#ax2.plot(V_vetor,F_V_Matrix[F_V_Matrix.shape[0]-1,:], color='blue', ls='--' )\n",
    "\n",
    "#ax2.legend(['Lider','Seguidor','Barganha'], loc='upper left', shadow=True)\n",
    "ax.legend(['$P^{**}$-D+F','$P^s$-D+F','$P^{**}$-Head','$P^s$-Head'], loc='lower left', shadow=True)\n",
    "ax.set_xlabel('Preço do Petróleo - $/bbl')\n",
    "ax.set_ylabel('Quadrantes - Forma normal')\n",
    "ax.set_xlim(45,100)\n",
    "\n",
    "ax.set_title('Equilíbrios Mapeados')\n",
    "\n",
    "plt.plot()"
   ]
  },
  {
   "cell_type": "code",
   "execution_count": 90,
   "metadata": {},
   "outputs": [],
   "source": [
    "#################Portfolio GodFish _ Head Expandido###################"
   ]
  },
  {
   "cell_type": "code",
   "execution_count": 307,
   "metadata": {},
   "outputs": [],
   "source": [
    "preco_port=np.loadtxt('Preco_portf_h_dog_expandido1.txt')"
   ]
  },
  {
   "cell_type": "code",
   "execution_count": 308,
   "metadata": {},
   "outputs": [],
   "source": [
    "opcao_port=np.loadtxt('Opcao_portf_h_dog_expandido1.txt')"
   ]
  },
  {
   "cell_type": "code",
   "execution_count": 320,
   "metadata": {},
   "outputs": [
    {
     "data": {
      "text/plain": [
       "[<matplotlib.lines.Line2D at 0x24b982fcb88>]"
      ]
     },
     "execution_count": 320,
     "metadata": {},
     "output_type": "execute_result"
    },
    {
     "data": {
      "image/png": "[encoded data removed]",
      "text/plain": [
       "<Figure size 432x288 with 1 Axes>"
      ]
     },
     "metadata": {
      "needs_background": "light"
     },
     "output_type": "display_data"
    }
   ],
   "source": [
    "plt.plot(preco_port, opcao_port)"
   ]
  },
  {
   "cell_type": "code",
   "execution_count": 321,
   "metadata": {},
   "outputs": [
    {
     "data": {
      "text/plain": [
       "(401,)"
      ]
     },
     "execution_count": 321,
     "metadata": {},
     "output_type": "execute_result"
    }
   ],
   "source": [
    "preco_port.shape"
   ]
  },
  {
   "cell_type": "code",
   "execution_count": 322,
   "metadata": {},
   "outputs": [],
   "source": [
    "opcao_port_1=np.interp(preco_inv,preco_port,opcao_port)"
   ]
  },
  {
   "cell_type": "code",
   "execution_count": 323,
   "metadata": {},
   "outputs": [],
   "source": [
    "opcao_port_max=np.maximum(0,opcao_port_1)"
   ]
  },
  {
   "cell_type": "code",
   "execution_count": 358,
   "metadata": {},
   "outputs": [],
   "source": [
    "Ui=np.maximum(0,L_zero+F_zero1)"
   ]
  },
  {
   "cell_type": "code",
   "execution_count": 359,
   "metadata": {},
   "outputs": [],
   "source": [
    "Uj=np.maximum(0,L_zero1+F_zero)"
   ]
  },
  {
   "cell_type": "code",
   "execution_count": null,
   "metadata": {},
   "outputs": [],
   "source": []
  },
  {
   "cell_type": "code",
   "execution_count": 360,
   "metadata": {},
   "outputs": [
    {
     "name": "stderr",
     "output_type": "stream",
     "text": [
      "C:\\Users\\LG\\Anaconda3\\lib\\site-packages\\ipykernel_launcher.py:2: RuntimeWarning: invalid value encountered in true_divide\n",
      "  \n"
     ]
    }
   ],
   "source": [
    "####Pedaco do Godfish\n",
    "wi=.5+( np.maximum(0,L_zero)-np.maximum(0,L_zero1))/(2*Ui)"
   ]
  },
  {
   "cell_type": "code",
   "execution_count": 361,
   "metadata": {},
   "outputs": [],
   "source": [
    "wi=np.nan_to_num(wi)"
   ]
  },
  {
   "cell_type": "code",
   "execution_count": 451,
   "metadata": {},
   "outputs": [
    {
     "data": {
      "text/plain": [
       "[<matplotlib.lines.Line2D at 0x24b9aced188>]"
      ]
     },
     "execution_count": 451,
     "metadata": {},
     "output_type": "execute_result"
    },
    {
     "data": {
      "image/png": "[encoded data removed]",
      "text/plain": [
       "<Figure size 432x288 with 1 Axes>"
      ]
     },
     "metadata": {
      "needs_background": "light"
     },
     "output_type": "display_data"
    }
   ],
   "source": [
    "plt.plot(preco_inv,wi, ls=':')"
   ]
  },
  {
   "cell_type": "code",
   "execution_count": 466,
   "metadata": {},
   "outputs": [
    {
     "data": {
      "text/plain": [
       "[]"
      ]
     },
     "execution_count": 466,
     "metadata": {},
     "output_type": "execute_result"
    },
    {
     "data": {
      "image/png": "[encoded data removed]",
      "text/plain": [
       "<Figure size 720x360 with 1 Axes>"
      ]
     },
     "metadata": {
      "needs_background": "light"
     },
     "output_type": "display_data"
    }
   ],
   "source": [
    "#####Figuras de Gatilho e a#####\n",
    "fig,ax = plt.subplots(1,1, figsize=(10,5))\n",
    "sns.despine(left=True)\n",
    "\n",
    "#ax.axvline(pa, linestyle='--', color='grey')\n",
    "ax.plot(preco_inv,100*wi, ls=':', color='black')\n",
    "#ax.set_ylim(0,100)\n",
    "#ax.set_xlim(-5,120)\n",
    "\n",
    "#ax2.plot(V_vetor,F_V_Matrix[F_V_Matrix.shape[0]-1,:], color='blue', ls='--' )\n",
    "\n",
    "#ax2.legend(['Lider','Seguidor','Barganha'], loc='upper left', shadow=True)\n",
    "ax.legend(['Weight-Head'], shadow=True)\n",
    "ax.set_xlabel('Preço do Petróleo - $/bbl')\n",
    "ax.set_ylabel('%-Barganha')\n",
    "ax.set_xlim(right=100)\n",
    "ax.set_xlim(left=15)\n",
    "ax.set_ylim(top=65)\n",
    "ax.set_ylim(bottom=40)\n",
    "ax.set_title('Peso para Head na Barganha')\n",
    "\n",
    "plt.plot()"
   ]
  },
  {
   "cell_type": "code",
   "execution_count": 467,
   "metadata": {},
   "outputs": [
    {
     "data": {
      "text/plain": [
       "array([ 20.75,  21.  ,  21.25,  21.5 ,  21.75,  22.  ,  22.25,  22.5 ,\n",
       "        22.75,  23.  ,  23.25,  23.5 ,  23.75,  24.  ,  24.25,  24.5 ,\n",
       "        24.75,  25.  ,  25.25,  25.5 ,  25.75,  26.  ,  26.25,  26.5 ,\n",
       "        26.75,  27.  ,  27.25,  27.5 ,  27.75,  28.  ,  28.25,  28.5 ,\n",
       "        28.75,  29.  ,  29.25,  29.5 ,  29.75,  30.  ,  30.25,  30.5 ,\n",
       "        30.75,  31.  ,  31.25,  31.5 ,  31.75,  32.  ,  32.25,  32.5 ,\n",
       "        32.75,  33.  ,  33.25,  33.5 ,  33.75,  34.  ,  34.25,  34.5 ,\n",
       "        34.75,  35.  ,  35.25,  35.5 ,  35.75,  36.  ,  36.25,  36.5 ,\n",
       "        36.75,  37.  ,  37.25,  37.5 ,  37.75,  38.  ,  38.25,  38.5 ,\n",
       "        38.75,  39.  ,  39.25,  39.5 ,  39.75,  40.  ,  40.25,  40.5 ,\n",
       "        40.75,  41.  ,  41.25,  41.5 ,  41.75,  42.  ,  42.25,  42.5 ,\n",
       "        42.75,  43.  ,  43.25,  43.5 ,  43.75,  44.  ,  44.25,  44.5 ,\n",
       "        44.75,  45.  ,  45.25,  45.5 ,  45.75,  46.  ,  46.25,  46.5 ,\n",
       "        46.75,  47.  ,  47.25,  47.5 ,  47.75,  48.  ,  48.25,  48.5 ,\n",
       "        48.75,  49.  ,  49.25,  49.5 ,  49.75,  50.  ,  50.25,  50.5 ,\n",
       "        50.75,  51.  ,  51.25,  51.5 ,  51.75,  52.  ,  52.25,  52.5 ,\n",
       "        52.75,  53.  ,  53.25,  53.5 ,  53.75,  54.  ,  54.25,  54.5 ,\n",
       "        54.75,  55.  ,  55.25,  55.5 ,  55.75,  56.  ,  56.25,  56.5 ,\n",
       "        56.75,  57.  ,  57.25,  57.5 ,  57.75,  58.  ,  58.25,  58.5 ,\n",
       "        58.75,  59.  ,  59.25,  59.5 ,  59.75,  60.  ,  60.25,  60.5 ,\n",
       "        60.75,  61.  ,  61.25,  61.5 ,  61.75,  62.  ,  62.25,  62.5 ,\n",
       "        62.75,  63.  ,  63.25,  63.5 ,  63.75,  64.  ,  64.25,  64.5 ,\n",
       "        64.75,  65.  ,  65.25,  65.5 ,  65.75,  66.  ,  66.25,  66.5 ,\n",
       "        66.75,  67.  ,  67.25,  67.5 ,  67.75,  68.  ,  68.25,  68.5 ,\n",
       "        68.75,  69.  ,  69.25,  69.5 ,  69.75,  70.  ,  70.25,  70.5 ,\n",
       "        70.75,  71.  ,  71.25,  71.5 ,  71.75,  72.  ,  72.25,  72.5 ,\n",
       "        72.75,  73.  ,  73.25,  73.5 ,  73.75,  74.  ,  74.25,  74.5 ,\n",
       "        74.75,  75.  ,  75.25,  75.5 ,  75.75,  76.  ,  76.25,  76.5 ,\n",
       "        76.75,  77.  ,  77.25,  77.5 ,  77.75,  78.  ,  78.25,  78.5 ,\n",
       "        78.75,  79.  ,  79.25,  79.5 ,  79.75,  80.  ,  80.25,  80.5 ,\n",
       "        80.75,  81.  ,  81.25,  81.5 ,  81.75,  82.  ,  82.25,  82.5 ,\n",
       "        82.75,  83.  ,  83.25,  83.5 ,  83.75,  84.  ,  84.25,  84.5 ,\n",
       "        84.75,  85.  ,  85.25,  85.5 ,  85.75,  86.  ,  86.25,  86.5 ,\n",
       "        86.75,  87.  ,  87.25,  87.5 ,  87.75,  88.  ,  88.25,  88.5 ,\n",
       "        88.75,  89.  ,  89.25,  89.5 ,  89.75,  90.  ,  90.25,  90.5 ,\n",
       "        90.75,  91.  ,  91.25,  91.5 ,  91.75,  92.  ,  92.25,  92.5 ,\n",
       "        92.75,  93.  ,  93.25,  93.5 ,  93.75,  94.  ,  94.25,  94.5 ,\n",
       "        94.75,  95.  ,  95.25,  95.5 ,  95.75,  96.  ,  96.25,  96.5 ,\n",
       "        96.75,  97.  ,  97.25,  97.5 ,  97.75,  98.  ,  98.25,  98.5 ,\n",
       "        98.75,  99.  ,  99.25,  99.5 ,  99.75, 100.  , 100.25, 100.5 ,\n",
       "       100.75, 101.  , 101.25, 101.5 , 101.75, 102.  , 102.25, 102.5 ,\n",
       "       102.75, 103.  , 103.25, 103.5 , 103.75, 104.  , 104.25, 104.5 ,\n",
       "       104.75, 105.  , 105.25, 105.5 , 105.75, 106.  , 106.25, 106.5 ,\n",
       "       106.75, 107.  , 107.25, 107.5 , 107.75, 108.  , 108.25, 108.5 ,\n",
       "       108.75, 109.  , 109.25, 109.5 , 109.75, 110.  , 110.25, 110.5 ,\n",
       "       110.75, 111.  , 111.25, 111.5 , 111.75, 112.  , 112.25, 112.5 ,\n",
       "       112.75, 113.  , 113.25, 113.5 , 113.75, 114.  , 114.25, 114.5 ,\n",
       "       114.75, 115.  , 115.25, 115.5 , 115.75, 116.  , 116.25, 116.5 ,\n",
       "       116.75, 117.  , 117.25, 117.5 , 117.75, 118.  , 118.25, 118.5 ,\n",
       "       118.75, 119.  , 119.25, 119.5 , 119.75, 120.  , 120.25, 120.5 ,\n",
       "       120.75, 121.  , 121.25, 121.5 , 121.75, 122.  , 122.25, 122.5 ,\n",
       "       122.75, 123.  , 123.25, 123.5 , 123.75, 124.  , 124.25, 124.5 ,\n",
       "       124.75, 125.  , 125.25, 125.5 , 125.75, 126.  , 126.25, 126.5 ,\n",
       "       126.75, 127.  , 127.25, 127.5 , 127.75, 128.  , 128.25, 128.5 ,\n",
       "       128.75, 129.  , 129.25, 129.5 , 129.75, 130.  , 130.25, 130.5 ,\n",
       "       130.75, 131.  , 131.25, 131.5 , 131.75, 132.  , 132.25, 132.5 ,\n",
       "       132.75, 133.  , 133.25, 133.5 , 133.75, 134.  , 134.25, 134.5 ,\n",
       "       134.75, 135.  , 135.25, 135.5 , 135.75, 136.  , 136.25, 136.5 ,\n",
       "       136.75, 137.  , 137.25, 137.5 , 137.75, 138.  , 138.25, 138.5 ,\n",
       "       138.75, 139.  , 139.25, 139.5 , 139.75, 140.  , 140.25, 140.5 ,\n",
       "       140.75, 141.  , 141.25, 141.5 , 141.75, 142.  , 142.25, 142.5 ,\n",
       "       142.75, 143.  , 143.25, 143.5 , 143.75, 144.  , 144.25, 144.5 ,\n",
       "       144.75, 145.  , 145.25, 145.5 , 145.75, 146.  , 146.25, 146.5 ,\n",
       "       146.75, 147.  , 147.25, 147.5 , 147.75, 148.  , 148.25, 148.5 ,\n",
       "       148.75, 149.  , 149.25, 149.5 , 149.75, 150.  , 150.25, 150.5 ,\n",
       "       150.75, 151.  , 151.25, 151.5 , 151.75, 152.  , 152.25, 152.5 ,\n",
       "       152.75, 153.  , 153.25, 153.5 , 153.75, 154.  , 154.25, 154.5 ,\n",
       "       154.75, 155.  , 155.25, 155.5 , 155.75, 156.  , 156.25, 156.5 ,\n",
       "       156.75, 157.  , 157.25, 157.5 , 157.75, 158.  , 158.25, 158.5 ,\n",
       "       158.75, 159.  , 159.25, 159.5 , 159.75, 160.  , 160.25, 160.5 ,\n",
       "       160.75, 161.  , 161.25, 161.5 , 161.75, 162.  , 162.25, 162.5 ,\n",
       "       162.75, 163.  , 163.25, 163.5 , 163.75, 164.  , 164.25, 164.5 ,\n",
       "       164.75, 165.  , 165.25, 165.5 , 165.75, 166.  , 166.25, 166.5 ,\n",
       "       166.75, 167.  , 167.25, 167.5 , 167.75, 168.  , 168.25, 168.5 ,\n",
       "       168.75, 169.  , 169.25, 169.5 , 169.75, 170.  , 170.25, 170.5 ,\n",
       "       170.75, 171.  , 171.25, 171.5 , 171.75, 172.  , 172.25, 172.5 ,\n",
       "       172.75, 173.  , 173.25, 173.5 , 173.75, 174.  , 174.25, 174.5 ,\n",
       "       174.75, 175.  , 175.25, 175.5 , 175.75, 176.  , 176.25, 176.5 ,\n",
       "       176.75])"
      ]
     },
     "execution_count": 467,
     "metadata": {},
     "output_type": "execute_result"
    }
   ],
   "source": [
    "preco_inv[Ui>0]"
   ]
  },
  {
   "cell_type": "code",
   "execution_count": 470,
   "metadata": {},
   "outputs": [
    {
     "data": {
      "text/plain": [
       "0.6011017804324515"
      ]
     },
     "execution_count": 470,
     "metadata": {},
     "output_type": "execute_result"
    }
   ],
   "source": [
    "np.max(wi)"
   ]
  },
  {
   "cell_type": "code",
   "execution_count": 471,
   "metadata": {},
   "outputs": [
    {
     "data": {
      "text/plain": [
       "array([0.        , 0.        , 0.        , 0.        , 0.        ,\n",
       "       0.        , 0.        , 0.        , 0.        , 0.        ,\n",
       "       0.        , 0.        , 0.        , 0.        , 0.        ,\n",
       "       0.        , 0.        , 0.        , 0.        , 0.        ,\n",
       "       0.        , 0.        , 0.        , 0.        , 0.        ,\n",
       "       0.        , 0.        , 0.        , 0.        , 0.        ,\n",
       "       0.        , 0.        , 0.        , 0.        , 0.        ,\n",
       "       0.        , 0.        , 0.        , 0.        , 0.        ,\n",
       "       0.        , 0.        , 0.        , 0.        , 0.        ,\n",
       "       0.        , 0.        , 0.        , 0.        , 0.        ,\n",
       "       0.        , 0.        , 0.        , 0.        , 0.        ,\n",
       "       0.        , 0.        , 0.        , 0.        , 0.        ,\n",
       "       0.        , 0.        , 0.        , 0.        , 0.        ,\n",
       "       0.        , 0.        , 0.        , 0.        , 0.        ,\n",
       "       0.        , 0.        , 0.        , 0.        , 0.        ,\n",
       "       0.        , 0.        , 0.        , 0.        , 0.        ,\n",
       "       0.        , 0.        , 0.        , 0.5       , 0.5       ,\n",
       "       0.5       , 0.5       , 0.5       , 0.5       , 0.5       ,\n",
       "       0.5       , 0.5       , 0.5       , 0.5       , 0.51957795,\n",
       "       0.54414834, 0.56509997, 0.5831617 , 0.59887947, 0.60110178,\n",
       "       0.59796697, 0.59518008, 0.59268836, 0.59044911, 0.58842745,\n",
       "       0.58659458, 0.58492653, 0.58340317, 0.5820075 , 0.58072502,\n",
       "       0.57954334, 0.57845179, 0.57744111, 0.57650327, 0.57563122,\n",
       "       0.57481881, 0.57406058, 0.57335172, 0.57268797, 0.57206552,\n",
       "       0.57148096, 0.57093125, 0.57041365, 0.5699257 , 0.56946516,\n",
       "       0.56903001, 0.56861843, 0.56822874, 0.56785944, 0.56750912,\n",
       "       0.56717654, 0.56686051, 0.56655998, 0.56627396, 0.56600155,\n",
       "       0.56574191, 0.56549428, 0.56525794, 0.56503223, 0.56481654,\n",
       "       0.56461031, 0.56441299, 0.56422411, 0.56404319, 0.56386982,\n",
       "       0.5637036 , 0.56354414, 0.56339111, 0.56324417, 0.56310302,\n",
       "       0.56296737, 0.56283694, 0.5627115 , 0.56259079, 0.56247459,\n",
       "       0.56236269, 0.56225489, 0.562151  , 0.56205085, 0.56195426,\n",
       "       0.56186108, 0.56177115, 0.56168434, 0.56160051, 0.56151953,\n",
       "       0.56144129, 0.56136566, 0.56129253, 0.56122181, 0.5611534 ,\n",
       "       0.5610872 , 0.56102312, 0.56096108, 0.560901  , 0.5608428 ,\n",
       "       0.56078641, 0.56073176, 0.56067878, 0.56062741, 0.56057758,\n",
       "       0.56052925, 0.56048235, 0.56043684, 0.56039265, 0.56034976,\n",
       "       0.56030809, 0.56026762, 0.5602283 , 0.5601901 , 0.56015296,\n",
       "       0.56011686, 0.56008175, 0.56004761, 0.56001441, 0.5599821 ,\n",
       "       0.55995066, 0.55992006, 0.55989028, 0.55986128, 0.55983304,\n",
       "       0.55980554, 0.55977875, 0.55975265, 0.55972721, 0.55970242,\n",
       "       0.55967826, 0.5596547 , 0.55963173, 0.55960932, 0.55958747,\n",
       "       0.55956615, 0.55954535, 0.55952505, 0.55950524, 0.5594859 ,\n",
       "       0.55946702, 0.55944858, 0.55943057, 0.55941298, 0.5593958 ,\n",
       "       0.55937902, 0.55936261, 0.55934658, 0.55933091, 0.55931559,\n",
       "       0.55930062, 0.55928597, 0.55927165, 0.55925764, 0.55924393,\n",
       "       0.55923052, 0.5592174 , 0.55920456, 0.55919199, 0.55917968,\n",
       "       0.55916763, 0.55915584, 0.55914428, 0.55913297, 0.55912189,\n",
       "       0.55911103, 0.55910039, 0.55908996, 0.55907975, 0.55906973,\n",
       "       0.55905991, 0.55905029, 0.55904085, 0.5590316 , 0.55902253,\n",
       "       0.55901363, 0.5590049 , 0.55899633, 0.55898793, 0.55897968,\n",
       "       0.55897159, 0.55896365, 0.55895586, 0.55894821, 0.5589407 ,\n",
       "       0.55893333, 0.55892677, 0.55892383, 0.55892442, 0.55892842,\n",
       "       0.55893487, 0.55894081, 0.55894627, 0.55895124, 0.55895591,\n",
       "       0.55896031, 0.55896446, 0.55896835, 0.55897201, 0.55897542,\n",
       "       0.5589786 , 0.55898155, 0.55898429, 0.55898681, 0.55898912,\n",
       "       0.55899123, 0.55899314, 0.55899486, 0.55899638, 0.55899773,\n",
       "       0.5589989 , 0.55899989, 0.55900071, 0.55900136, 0.55900186,\n",
       "       0.55900219, 0.5590024 , 0.55900259, 0.55900279, 0.55900298,\n",
       "       0.55900317, 0.55900336, 0.55900355, 0.55900373, 0.55900391,\n",
       "       0.55900409, 0.55900427, 0.55900445, 0.55900462, 0.55900479,\n",
       "       0.55900496, 0.55900512, 0.55900529, 0.55900545, 0.55900561,\n",
       "       0.55900577, 0.55900593, 0.55900608, 0.55900624, 0.55900639,\n",
       "       0.55900654, 0.55900669, 0.55900683, 0.55900698, 0.55900712,\n",
       "       0.55900726, 0.5590074 , 0.55900754, 0.55900768, 0.55900781,\n",
       "       0.55900795, 0.55900808, 0.55900821, 0.55900834, 0.55900847,\n",
       "       0.5590086 , 0.55900872, 0.55900885, 0.55900897, 0.55900909,\n",
       "       0.55900921, 0.55900933, 0.55900945, 0.55900957, 0.55900968,\n",
       "       0.5590098 , 0.55900991, 0.55901003, 0.55901014, 0.55901025,\n",
       "       0.55901036, 0.55901046, 0.55901057, 0.55901068, 0.55901078,\n",
       "       0.55901089, 0.55901099, 0.55901109, 0.55901119, 0.55901129,\n",
       "       0.55901139, 0.55901149, 0.55901159, 0.55901169, 0.55901178,\n",
       "       0.55901188, 0.55901197, 0.55901206, 0.55901216, 0.55901225,\n",
       "       0.55901234, 0.55901243, 0.55901252, 0.55901261, 0.55901269,\n",
       "       0.55901278, 0.55901287, 0.55901295, 0.55901304, 0.55901312,\n",
       "       0.5590132 , 0.55901328, 0.55901337, 0.55901345, 0.55901353,\n",
       "       0.55901361, 0.55901369, 0.55901377, 0.55901384, 0.55901392,\n",
       "       0.559014  , 0.55901407, 0.55901415, 0.55901422, 0.5590143 ,\n",
       "       0.55901437, 0.55901444, 0.55901452, 0.55901459, 0.55901466,\n",
       "       0.55901473, 0.5590148 , 0.55901487, 0.55901494, 0.55901501,\n",
       "       0.55901507, 0.55901514, 0.55901521, 0.55901527, 0.55901534,\n",
       "       0.55901541, 0.55901547, 0.55901554, 0.5590156 , 0.55901566,\n",
       "       0.55901573, 0.55901579, 0.55901585, 0.55901591, 0.55901597,\n",
       "       0.55901603, 0.55901609, 0.55901615, 0.55901621, 0.55901627,\n",
       "       0.55901633, 0.55901639, 0.55901645, 0.5590165 , 0.55901656,\n",
       "       0.55901662, 0.55901667, 0.55901673, 0.55901679, 0.55901684,\n",
       "       0.55901689, 0.55901695, 0.559017  , 0.55901706, 0.55901711,\n",
       "       0.55901716, 0.55901721, 0.55901727, 0.55901732, 0.55901737,\n",
       "       0.55901742, 0.55901747, 0.55901752, 0.55901757, 0.55901762,\n",
       "       0.55901767, 0.55901772, 0.55901777, 0.55901782, 0.55901787,\n",
       "       0.55901791, 0.55901796, 0.55901801, 0.55901805, 0.5590181 ,\n",
       "       0.55901815, 0.55901819, 0.55901824, 0.55901829, 0.55901833,\n",
       "       0.55901838, 0.55901842, 0.55901846, 0.55901851, 0.55901855,\n",
       "       0.5590186 , 0.55901864, 0.55901868, 0.55901872, 0.55901877,\n",
       "       0.55901881, 0.55901885, 0.55901889, 0.55901893, 0.55901897,\n",
       "       0.55901902, 0.55901906, 0.5590191 , 0.55901914, 0.55901918,\n",
       "       0.55901922, 0.55901926, 0.5590193 , 0.55901933, 0.55901937,\n",
       "       0.55901941, 0.55901945, 0.55901949, 0.55901953, 0.55901956,\n",
       "       0.5590196 , 0.55901964, 0.55901968, 0.55901971, 0.55901975,\n",
       "       0.55901979, 0.55901982, 0.55901986, 0.55901989, 0.55901993,\n",
       "       0.55901997, 0.55902   , 0.55902004, 0.55902007, 0.55902011,\n",
       "       0.55902014, 0.55902017, 0.55902021, 0.55902024, 0.55902028,\n",
       "       0.55902031, 0.55902034, 0.55902038, 0.55902041, 0.55902044,\n",
       "       0.55902047, 0.55902051, 0.55902054, 0.55902057, 0.5590206 ,\n",
       "       0.55902064, 0.55902067, 0.5590207 , 0.55902073, 0.55902076,\n",
       "       0.55902079, 0.55902082, 0.55902085, 0.55902088, 0.55902091,\n",
       "       0.55902094, 0.55902097, 0.559021  , 0.55902103, 0.55902106,\n",
       "       0.55902109, 0.55902112, 0.55902115, 0.55902118, 0.55902121,\n",
       "       0.55902124, 0.55902127, 0.5590213 , 0.55902132, 0.55902135,\n",
       "       0.55902138, 0.55902141, 0.55902144, 0.55902146, 0.55902149,\n",
       "       0.55902152, 0.55902155, 0.55902157, 0.5590216 , 0.55902163,\n",
       "       0.55902165, 0.55902168, 0.55902171, 0.55902173, 0.55902176,\n",
       "       0.55902178, 0.55902181, 0.55902184, 0.55902186, 0.55902189,\n",
       "       0.55902191, 0.55902194, 0.55902196, 0.55902199, 0.55902201,\n",
       "       0.55902204, 0.55902206, 0.55902209, 0.55902211, 0.55902214,\n",
       "       0.55902216, 0.55902218, 0.55902221, 0.55902223, 0.55902226,\n",
       "       0.55902228, 0.5590223 , 0.55902233, 0.55902235, 0.55902237,\n",
       "       0.5590224 , 0.55902242, 0.55902244, 0.55902247, 0.55902249,\n",
       "       0.55902251, 0.55902253, 0.55902256, 0.55902258, 0.5590226 ,\n",
       "       0.55902262, 0.55902265, 0.55902267, 0.55902269, 0.55902271,\n",
       "       0.55902273, 0.55902276, 0.55902278, 0.5590228 , 0.55902282,\n",
       "       0.55902284, 0.55902286, 0.55902288, 0.5590229 , 0.55902292,\n",
       "       0.55902295, 0.55902297, 0.55902299, 0.55902301, 0.55902303,\n",
       "       0.55902305, 0.55902307, 0.55902309, 0.55902311, 0.55902313,\n",
       "       0.55902315, 0.55902317, 0.55902319, 0.55902321, 0.55902323,\n",
       "       0.55902325, 0.55902327, 0.55902329, 0.55902331, 0.55902332,\n",
       "       0.55902334, 0.55902336, 0.55902338, 0.5590234 , 0.55902342,\n",
       "       0.55902344, 0.55902346, 0.55902348, 0.55902349, 0.55902351,\n",
       "       0.55902353, 0.55902355, 0.55902357, 0.55902359, 0.5590236 ,\n",
       "       0.55902362, 0.55902364, 0.55902366, 0.55902368, 0.55902369,\n",
       "       0.55902371, 0.55902373, 0.55902375, 0.55902376, 0.55902378,\n",
       "       0.5590238 , 0.55902382, 0.55902383, 0.55902385, 0.55902387,\n",
       "       0.55902388, 0.5590239 , 0.55902392, 0.55902393, 0.55902395,\n",
       "       0.55902397, 0.55902398, 0.559024  , 0.55902402, 0.55902403,\n",
       "       0.55902405, 0.55902407, 0.55902408, 0.5590241 , 0.55902412,\n",
       "       0.55902413, 0.55902415, 0.55902416, 0.55902418, 0.55902419,\n",
       "       0.55902421, 0.55902423, 0.55902424, 0.55902426, 0.55902427,\n",
       "       0.55902429, 0.5590243 , 0.55902432, 0.55902433, 0.55902435,\n",
       "       0.55902437, 0.55902438, 0.5590244 , 0.55902441, 0.55902443,\n",
       "       0.55902444, 0.55942053, 0.55981519, 0.56020845, 0.56060029,\n",
       "       0.56099074, 0.5613798 , 0.56176748, 0.56215378, 0.56253871,\n",
       "       0.56292229, 0.5633045 , 0.56325528])"
      ]
     },
     "execution_count": 471,
     "metadata": {},
     "output_type": "execute_result"
    }
   ],
   "source": [
    "wi"
   ]
  },
  {
   "cell_type": "code",
   "execution_count": 462,
   "metadata": {},
   "outputs": [
    {
     "data": {
      "text/plain": [
       "array([ 20.75,  21.  ,  21.25,  21.5 ,  21.75,  22.  ,  22.25,  22.5 ,\n",
       "        22.75,  23.  ,  23.25,  23.5 ,  23.75,  24.  ,  24.25,  24.5 ,\n",
       "        24.75,  25.  ,  25.25,  25.5 ,  25.75,  26.  ,  26.25,  26.5 ,\n",
       "        26.75,  27.  ,  27.25,  27.5 ,  27.75,  28.  ,  28.25,  28.5 ,\n",
       "        28.75,  29.  ,  29.25,  29.5 ,  29.75,  30.  ,  30.25,  30.5 ,\n",
       "        30.75,  31.  ,  31.25,  31.5 ,  31.75,  32.  ,  32.25,  32.5 ,\n",
       "        32.75,  33.  ,  33.25,  33.5 ,  33.75,  34.  ,  34.25,  34.5 ,\n",
       "        34.75,  35.  ,  35.25,  35.5 ,  35.75,  36.  ,  36.25,  36.5 ,\n",
       "        36.75,  37.  ,  37.25,  37.5 ,  37.75,  38.  ,  38.25,  38.5 ,\n",
       "        38.75,  39.  ,  39.25,  39.5 ,  39.75,  40.  ,  40.25,  40.5 ,\n",
       "        40.75,  41.  ,  41.25,  41.5 ,  41.75,  42.  ,  42.25,  42.5 ,\n",
       "        42.75,  43.  ,  43.25,  43.5 ,  43.75,  44.  ,  44.25,  44.5 ,\n",
       "        44.75,  45.  ,  45.25,  45.5 ,  45.75,  46.  ,  46.25,  46.5 ,\n",
       "        46.75,  47.  ,  47.25,  47.5 ,  47.75,  48.  ,  48.25,  48.5 ,\n",
       "        48.75,  49.  ,  49.25,  49.5 ,  49.75,  50.  ,  50.25,  50.5 ,\n",
       "        50.75,  51.  ,  51.25,  51.5 ,  51.75,  52.  ,  52.25,  52.5 ,\n",
       "        52.75,  53.  ,  53.25,  53.5 ,  53.75,  54.  ,  54.25,  54.5 ,\n",
       "        54.75,  55.  ,  55.25,  55.5 ,  55.75,  56.  ,  56.25,  56.5 ,\n",
       "        56.75,  57.  ,  57.25,  57.5 ,  57.75,  58.  ,  58.25,  58.5 ,\n",
       "        58.75,  59.  ,  59.25,  59.5 ,  59.75,  60.  ,  60.25,  60.5 ,\n",
       "        60.75,  61.  ,  61.25,  61.5 ,  61.75,  62.  ,  62.25,  62.5 ,\n",
       "        62.75,  63.  ,  63.25,  63.5 ,  63.75,  64.  ,  64.25,  64.5 ,\n",
       "        64.75,  65.  ,  65.25,  65.5 ,  65.75,  66.  ,  66.25,  66.5 ,\n",
       "        66.75,  67.  ,  67.25,  67.5 ,  67.75,  68.  ,  68.25,  68.5 ,\n",
       "        68.75,  69.  ,  69.25,  69.5 ,  69.75,  70.  ,  70.25,  70.5 ,\n",
       "        70.75,  71.  ,  71.25,  71.5 ,  71.75,  72.  ,  72.25,  72.5 ,\n",
       "        72.75,  73.  ,  73.25,  73.5 ,  73.75,  74.  ,  74.25,  74.5 ,\n",
       "        74.75,  75.  ,  75.25,  75.5 ,  75.75,  76.  ,  76.25,  76.5 ,\n",
       "        76.75,  77.  ,  77.25,  77.5 ,  77.75,  78.  ,  78.25,  78.5 ,\n",
       "        78.75,  79.  ,  79.25,  79.5 ,  79.75,  80.  ,  80.25,  80.5 ,\n",
       "        80.75,  81.  ,  81.25,  81.5 ,  81.75,  82.  ,  82.25,  82.5 ,\n",
       "        82.75,  83.  ,  83.25,  83.5 ,  83.75,  84.  ,  84.25,  84.5 ,\n",
       "        84.75,  85.  ,  85.25,  85.5 ,  85.75,  86.  ,  86.25,  86.5 ,\n",
       "        86.75,  87.  ,  87.25,  87.5 ,  87.75,  88.  ,  88.25,  88.5 ,\n",
       "        88.75,  89.  ,  89.25,  89.5 ,  89.75,  90.  ,  90.25,  90.5 ,\n",
       "        90.75,  91.  ,  91.25,  91.5 ,  91.75,  92.  ,  92.25,  92.5 ,\n",
       "        92.75,  93.  ,  93.25,  93.5 ,  93.75,  94.  ,  94.25,  94.5 ,\n",
       "        94.75,  95.  ,  95.25,  95.5 ,  95.75,  96.  ,  96.25,  96.5 ,\n",
       "        96.75,  97.  ,  97.25,  97.5 ,  97.75,  98.  ,  98.25,  98.5 ,\n",
       "        98.75,  99.  ,  99.25,  99.5 ,  99.75, 100.  , 100.25, 100.5 ,\n",
       "       100.75, 101.  , 101.25, 101.5 , 101.75, 102.  , 102.25, 102.5 ,\n",
       "       102.75, 103.  , 103.25, 103.5 , 103.75, 104.  , 104.25, 104.5 ,\n",
       "       104.75, 105.  , 105.25, 105.5 , 105.75, 106.  , 106.25, 106.5 ,\n",
       "       106.75, 107.  , 107.25, 107.5 , 107.75, 108.  , 108.25, 108.5 ,\n",
       "       108.75, 109.  , 109.25, 109.5 , 109.75, 110.  , 110.25, 110.5 ,\n",
       "       110.75, 111.  , 111.25, 111.5 , 111.75, 112.  , 112.25, 112.5 ,\n",
       "       112.75, 113.  , 113.25, 113.5 , 113.75, 114.  , 114.25, 114.5 ,\n",
       "       114.75, 115.  , 115.25, 115.5 , 115.75, 116.  , 116.25, 116.5 ,\n",
       "       116.75, 117.  , 117.25, 117.5 , 117.75, 118.  , 118.25, 118.5 ,\n",
       "       118.75, 119.  , 119.25, 119.5 , 119.75, 120.  , 120.25, 120.5 ,\n",
       "       120.75, 121.  , 121.25, 121.5 , 121.75, 122.  , 122.25, 122.5 ,\n",
       "       122.75, 123.  , 123.25, 123.5 , 123.75, 124.  , 124.25, 124.5 ,\n",
       "       124.75, 125.  , 125.25, 125.5 , 125.75, 126.  , 126.25, 126.5 ,\n",
       "       126.75, 127.  , 127.25, 127.5 , 127.75, 128.  , 128.25, 128.5 ,\n",
       "       128.75, 129.  , 129.25, 129.5 , 129.75, 130.  , 130.25, 130.5 ,\n",
       "       130.75, 131.  , 131.25, 131.5 , 131.75, 132.  , 132.25, 132.5 ,\n",
       "       132.75, 133.  , 133.25, 133.5 , 133.75, 134.  , 134.25, 134.5 ,\n",
       "       134.75, 135.  , 135.25, 135.5 , 135.75, 136.  , 136.25, 136.5 ,\n",
       "       136.75, 137.  , 137.25, 137.5 , 137.75, 138.  , 138.25, 138.5 ,\n",
       "       138.75, 139.  , 139.25, 139.5 , 139.75, 140.  , 140.25, 140.5 ,\n",
       "       140.75, 141.  , 141.25, 141.5 , 141.75, 142.  , 142.25, 142.5 ,\n",
       "       142.75, 143.  , 143.25, 143.5 , 143.75, 144.  , 144.25, 144.5 ,\n",
       "       144.75, 145.  , 145.25, 145.5 , 145.75, 146.  , 146.25, 146.5 ,\n",
       "       146.75, 147.  , 147.25, 147.5 , 147.75, 148.  , 148.25, 148.5 ,\n",
       "       148.75, 149.  , 149.25, 149.5 , 149.75, 150.  , 150.25, 150.5 ,\n",
       "       150.75, 151.  , 151.25, 151.5 , 151.75, 152.  , 152.25, 152.5 ,\n",
       "       152.75, 153.  , 153.25, 153.5 , 153.75, 154.  , 154.25, 154.5 ,\n",
       "       154.75, 155.  , 155.25, 155.5 , 155.75, 156.  , 156.25, 156.5 ,\n",
       "       156.75, 157.  , 157.25, 157.5 , 157.75, 158.  , 158.25, 158.5 ,\n",
       "       158.75, 159.  , 159.25, 159.5 , 159.75, 160.  , 160.25, 160.5 ,\n",
       "       160.75, 161.  , 161.25, 161.5 , 161.75, 162.  , 162.25, 162.5 ,\n",
       "       162.75, 163.  , 163.25, 163.5 , 163.75, 164.  , 164.25, 164.5 ,\n",
       "       164.75, 165.  , 165.25, 165.5 , 165.75, 166.  , 166.25, 166.5 ,\n",
       "       166.75, 167.  , 167.25, 167.5 , 167.75, 168.  , 168.25, 168.5 ,\n",
       "       168.75, 169.  , 169.25, 169.5 , 169.75, 170.  , 170.25, 170.5 ,\n",
       "       170.75, 171.  , 171.25, 171.5 , 171.75, 172.  , 172.25, 172.5 ,\n",
       "       172.75, 173.  , 173.25, 173.5 , 173.75, 174.  , 174.25, 174.5 ,\n",
       "       174.75, 175.  , 175.25, 175.5 , 175.75, 176.  , 176.25, 176.5 ,\n",
       "       176.75])"
      ]
     },
     "execution_count": 462,
     "metadata": {},
     "output_type": "execute_result"
    }
   ],
   "source": [
    "preco_inv[wi>0]"
   ]
  },
  {
   "cell_type": "code",
   "execution_count": 374,
   "metadata": {},
   "outputs": [
    {
     "name": "stdout",
     "output_type": "stream",
     "text": [
      "Hoje, o gatilho explorar DogFish é: 69.625\n",
      "Hoje, o gatilho explorar Head é: 69.625\n",
      "Hoje, o gatilho simultaneo DogFish é: 72.25\n",
      "Hoje, o gatilho simultaneo Head é: 76.25\n"
     ]
    },
    {
     "data": {
      "text/plain": [
       "[]"
      ]
     },
     "execution_count": 374,
     "metadata": {},
     "output_type": "execute_result"
    },
    {
     "data": {
      "image/png": "[encoded data removed]",
      "text/plain": [
       "<Figure size 720x360 with 1 Axes>"
      ]
     },
     "metadata": {
      "needs_background": "light"
     },
     "output_type": "display_data"
    }
   ],
   "source": [
    "#####Figuras de Gatilho e a#####\n",
    "fig,ax = plt.subplots(1,1, figsize=(10,5))\n",
    "sns.despine(left=True)\n",
    "print('Hoje, o gatilho explorar DogFish é:',round(g1[0],3))\n",
    "print('Hoje, o gatilho explorar Head é:',round(g[0],3))\n",
    "print('Hoje, o gatilho simultaneo DogFish é:',pa1)\n",
    "print('Hoje, o gatilho simultaneo Head é:',pa)\n",
    "\n",
    "ax.plot(preco_inv,L_zero1, color='blue', ls='-' )\n",
    "ax.plot(preco_inv,F_zero1, color='red', ls='-' )\n",
    "\n",
    "ax.plot(preco_inv,L_zero, color='green', ls='--' )\n",
    "ax.plot(preco_inv,F_zero, color='orange', ls='--' )\n",
    "ax.plot(preco_inv,(1-wi)*Ui, color='black', ls='-')\n",
    "ax.plot(preco_inv,wi*Ui, color='black', ls='--')\n",
    "\n",
    "ax.axvline(x=g1[0], linestyle='-', color='grey')\n",
    "ax.axvline(x=pa1, linestyle='-', color='black')\n",
    "\n",
    "\n",
    "ax.axvline(x=g[0], linestyle='--', color='grey')\n",
    "ax.axvline(x=pa, linestyle='--', color='black')\n",
    "\n",
    "\n",
    "ax.axhline(0, linestyle='--', color='grey')\n",
    "\n",
    "#ax.plot(preco_inv,aux, color='black')\n",
    "#ax.plot(preco_inv,aux2, color='black',ls=':')\n",
    "\n",
    "#ax.plot(preco_inv,0.5*opcao_port_1 , color='black')\n",
    "#ax.plot(preco_inv,(1-0.5)*opcao_port_1, color='black', ls='--')\n",
    "\n",
    "#ax.axvline(pa, linestyle='--', color='grey')\n",
    "\n",
    "ax.set_ylim(-20,250)\n",
    "ax.set_xlim(-5,120)\n",
    "\n",
    "#ax2.plot(V_vetor,F_V_Matrix[F_V_Matrix.shape[0]-1,:], color='blue', ls='--' )\n",
    "\n",
    "#ax2.legend(['Lider','Seguidor','Barganha'], loc='upper left', shadow=True)\n",
    "ax.legend(['D-Lider','D-Seguidor','H-Lider','H-Seguidor','D-Barganha','H-Barganha','$P^{**}$-D','$P^{s}$-D','$P^{**}$-H','$P^{s}$-H'], loc='lower right', shadow=True)\n",
    "ax.set_xlabel('Preço do Petróleo- $/bbl')\n",
    "ax.set_ylabel('Valor -  M$')\n",
    "ax.set_title('Barganha - Jogo Assimétrico')\n",
    "\n",
    "ax.set_xlim(right=100)\n",
    "ax.set_ylim(top=2000)\n",
    "ax.set_ylim(bottom=-100)\n",
    "#ax2.set_title('Opção de Investir em função do Preço')\n",
    "\n",
    "plt.plot()"
   ]
  },
  {
   "cell_type": "code",
   "execution_count": null,
   "metadata": {},
   "outputs": [],
   "source": []
  },
  {
   "cell_type": "code",
   "execution_count": 375,
   "metadata": {},
   "outputs": [
    {
     "name": "stdout",
     "output_type": "stream",
     "text": [
      "Hoje, o gatilho explorar DogFish é: 69.625\n",
      "Hoje, o gatilho explorar Head é: 69.625\n",
      "Hoje, o gatilho simultaneo DogFish é: 72.25\n",
      "Hoje, o gatilho simultaneo Head é: 76.25\n"
     ]
    },
    {
     "data": {
      "text/plain": [
       "[]"
      ]
     },
     "execution_count": 375,
     "metadata": {},
     "output_type": "execute_result"
    },
    {
     "data": {
      "image/png": "[encoded data removed]",
      "text/plain": [
       "<Figure size 720x360 with 1 Axes>"
      ]
     },
     "metadata": {
      "needs_background": "light"
     },
     "output_type": "display_data"
    }
   ],
   "source": [
    "#####Figuras de Gatilho e a#####\n",
    "fig,ax = plt.subplots(1,1, figsize=(10,5))\n",
    "sns.despine(left=True)\n",
    "print('Hoje, o gatilho explorar DogFish é:',round(g1[0],3))\n",
    "print('Hoje, o gatilho explorar Head é:',round(g[0],3))\n",
    "print('Hoje, o gatilho simultaneo DogFish é:',pa1)\n",
    "print('Hoje, o gatilho simultaneo Head é:',pa)\n",
    "\n",
    "ax.plot(preco_inv,L_zero1, color='blue', ls='-' )\n",
    "ax.plot(preco_inv,F_zero1, color='red', ls='-' )\n",
    "\n",
    "ax.plot(preco_inv,L_zero, color='green', ls='--' )\n",
    "ax.plot(preco_inv,F_zero, color='orange', ls='--' )\n",
    "ax.plot(preco_inv,(1-wi)*Ui, color='black', ls='-')\n",
    "ax.plot(preco_inv,wi*Ui, color='black', ls='--')\n",
    "\n",
    "#ax.plot(preco_inv,U_i,color='black',ls='-')\n",
    "#ax.plot(preco_inv,EXP_custo,color='black',ls='-')\n",
    "\n",
    "ax.axvline(x=g1[0], linestyle='-', color='grey')\n",
    "ax.axvline(x=pa1, linestyle='-', color='black')\n",
    "\n",
    "\n",
    "ax.axvline(x=g[0], linestyle='--', color='grey')\n",
    "ax.axvline(x=pa, linestyle='--', color='black')\n",
    "\n",
    "\n",
    "ax.axhline(0, linestyle='--', color='grey')\n",
    "\n",
    "#ax.plot(preco_inv,wi*opcao_port_1 -80, color='black')\n",
    "#ax.plot(preco_inv,(1-wi)*opcao_port_1-80, color='black', ls='--')\n",
    "\n",
    "#ax.axvline(pa, linestyle='--', color='grey')\n",
    "\n",
    "ax.set_ylim(-20,250)\n",
    "ax.set_xlim(-5,120)\n",
    "\n",
    "#ax2.plot(V_vetor,F_V_Matrix[F_V_Matrix.shape[0]-1,:], color='blue', ls='--' )\n",
    "\n",
    "#ax2.legend(['Lider','Seguidor','Barganha'], loc='upper left', shadow=True)\n",
    "ax.legend(['D-Lider','D-Seguidor','H-Lider','H-Seguidor','D-Barganha','H-Barganha','$P^{**}$-D','$P^{s}$-D','$P^{**}$-H','$P^{s}$-H'], loc='lower right', shadow=True)\n",
    "ax.set_xlabel('Preço do Petróleo- $/bbl')\n",
    "ax.set_ylabel('Valor -  M$')\n",
    "ax.set_title('Barganha - Jogo Assimétrico')\n",
    "\n",
    "ax.set_xlim(right=79)\n",
    "ax.set_xlim(left=68)\n",
    "ax.set_ylim(top=1900)\n",
    "ax.set_ylim(bottom=1000)\n",
    "#ax2.set_title('Opção de Investir em função do Preço')\n",
    "\n",
    "plt.plot()"
   ]
  },
  {
   "cell_type": "code",
   "execution_count": null,
   "metadata": {},
   "outputs": [],
   "source": []
  },
  {
   "cell_type": "code",
   "execution_count": 433,
   "metadata": {},
   "outputs": [
    {
     "name": "stdout",
     "output_type": "stream",
     "text": [
      "minutos- 10.095184409618378\n"
     ]
    }
   ],
   "source": [
    "start=time.time()\n",
    "rho1=0.95\n",
    "opcao_up1_r,PGrid_up1_r,mapa_up1_r,tempo_up1_r,preco_up1_r,gatilho_up1_r=diffinexpcart(sinal(CF1,CF,rho1)[1]*P*q1*B1*np.exp(-2*delta),sinal(CF1,CF,rho1)[1]*Id1*np.exp(-2*r)+Iw1,r,delta,sigma,tau,accur)\n",
    "opcao_down1_r,PGrid_down1_r,mapa_down1_r,tempo_down1_r,preco_down1_r,gatilho_down1_r=diffinexpcart(sinal(CF1,CF,rho1)[0]*P*q1*B1*np.exp(-2*delta),sinal(CF1,CF,rho1)[0]*Id1*np.exp(-2*r)+Iw1,r,delta,sigma,tau,accur)\n",
    "opcao_info1_r=CF*opcao_up1_r + (1-CF)*opcao_down1_r\n",
    "\n",
    "cpu=time.time()-start\n",
    "print('minutos-',cpu/60)\n",
    "winsound.Beep(freq, duration)\n",
    "\n"
   ]
  },
  {
   "cell_type": "code",
   "execution_count": 434,
   "metadata": {},
   "outputs": [],
   "source": [
    "preco_up1_r=preco_up1_r/(sinal(CF1,CF,rho1)[1]*q1*B1*np.exp(-2*delta))\n",
    "preco_down1_r=preco_down1_r/(sinal(CF1,CF,rho1)[0]*q1*B1*np.exp(-2*delta))"
   ]
  },
  {
   "cell_type": "code",
   "execution_count": 435,
   "metadata": {},
   "outputs": [],
   "source": [
    "F_up_zero1_r=np.interp(preco_inv,preco_up1_r,mapa_up1_r[0,:])\n",
    "F_down_zero1_r=np.interp(preco_inv,preco_down1_r,mapa_down1_r[0,:])\n",
    "F_zero1_r=CF*F_up_zero1_r+ (1-CF)*F_down_zero1_r\n",
    "\n"
   ]
  },
  {
   "cell_type": "code",
   "execution_count": 436,
   "metadata": {},
   "outputs": [],
   "source": [
    "Ui_r=np.maximum(0,L_zero+F_zero1_r)"
   ]
  },
  {
   "cell_type": "code",
   "execution_count": 437,
   "metadata": {},
   "outputs": [
    {
     "name": "stderr",
     "output_type": "stream",
     "text": [
      "C:\\Users\\LG\\Anaconda3\\lib\\site-packages\\ipykernel_launcher.py:2: RuntimeWarning: invalid value encountered in true_divide\n",
      "  \n"
     ]
    }
   ],
   "source": [
    "####Pedaco do Godfish\n",
    "wi_r=.5+( np.maximum(0,L_zero)-np.maximum(0,L_zero1))/(2*Ui_r)"
   ]
  },
  {
   "cell_type": "code",
   "execution_count": 438,
   "metadata": {},
   "outputs": [],
   "source": [
    "wi_r=np.nan_to_num(wi_r)"
   ]
  },
  {
   "cell_type": "code",
   "execution_count": 439,
   "metadata": {},
   "outputs": [
    {
     "data": {
      "text/plain": [
       "[<matplotlib.lines.Line2D at 0x24b9ae3db08>]"
      ]
     },
     "execution_count": 439,
     "metadata": {},
     "output_type": "execute_result"
    },
    {
     "data": {
      "image/png": "[encoded data removed]",
      "text/plain": [
       "<Figure size 432x288 with 1 Axes>"
      ]
     },
     "metadata": {
      "needs_background": "light"
     },
     "output_type": "display_data"
    }
   ],
   "source": [
    "plt.plot(wi_r)"
   ]
  },
  {
   "cell_type": "code",
   "execution_count": 440,
   "metadata": {},
   "outputs": [
    {
     "name": "stdout",
     "output_type": "stream",
     "text": [
      "Hoje, o gatilho explorar DogFish é: 69.625\n",
      "Hoje, o gatilho explorar Head é: 69.625\n",
      "Hoje, o gatilho simultaneo DogFish é: 72.25\n",
      "Hoje, o gatilho simultaneo Head é: 76.25\n"
     ]
    },
    {
     "data": {
      "text/plain": [
       "[]"
      ]
     },
     "execution_count": 440,
     "metadata": {},
     "output_type": "execute_result"
    },
    {
     "data": {
      "image/png": "[encoded data removed]",
      "text/plain": [
       "<Figure size 720x360 with 1 Axes>"
      ]
     },
     "metadata": {
      "needs_background": "light"
     },
     "output_type": "display_data"
    }
   ],
   "source": [
    "#####Figuras de Gatilho e a#####\n",
    "fig,ax = plt.subplots(1,1, figsize=(10,5))\n",
    "sns.despine(left=True)\n",
    "print('Hoje, o gatilho explorar DogFish é:',round(g1[0],3))\n",
    "print('Hoje, o gatilho explorar Head é:',round(g[0],3))\n",
    "print('Hoje, o gatilho simultaneo DogFish é:',pa1)\n",
    "print('Hoje, o gatilho simultaneo Head é:',pa)\n",
    "\n",
    "ax.plot(preco_inv,L_zero1, color='blue', ls='-' )\n",
    "ax.plot(preco_inv,F_zero1, color='red', ls='-' )\n",
    "\n",
    "ax.plot(preco_inv,L_zero, color='green', ls='--' )\n",
    "ax.plot(preco_inv,F_zero, color='orange', ls='--' )\n",
    "ax.plot(preco_inv,(1-wi_r)*Ui_r, color='black', ls='-')\n",
    "ax.plot(preco_inv,wi_r*Ui_r, color='black', ls='--')\n",
    "\n",
    "#ax.plot(preco_inv,U_i,color='black',ls='-')\n",
    "#ax.plot(preco_inv,EXP_custo,color='black',ls='-')\n",
    "\n",
    "ax.axvline(x=g1[0], linestyle='-', color='grey')\n",
    "ax.axvline(x=pa1, linestyle='-', color='black')\n",
    "\n",
    "\n",
    "ax.axvline(x=g[0], linestyle='--', color='grey')\n",
    "ax.axvline(x=pa, linestyle='--', color='black')\n",
    "\n",
    "\n",
    "ax.axhline(0, linestyle='--', color='grey')\n",
    "\n",
    "#ax.plot(preco_inv,wi*opcao_port_1 -80, color='black')\n",
    "#ax.plot(preco_inv,(1-wi)*opcao_port_1-80, color='black', ls='--')\n",
    "\n",
    "#ax.axvline(pa, linestyle='--', color='grey')\n",
    "\n",
    "ax.set_ylim(-20,250)\n",
    "ax.set_xlim(-5,120)\n",
    "\n",
    "#ax2.plot(V_vetor,F_V_Matrix[F_V_Matrix.shape[0]-1,:], color='blue', ls='--' )\n",
    "\n",
    "#ax2.legend(['Lider','Seguidor','Barganha'], loc='upper left', shadow=True)\n",
    "ax.legend(['D-Lider','D-Seguidor','H-Lider','H-Seguidor','D-Barganha','H-Barganha','$P^{**}$-D','$P^{s}$-D','$P^{**}$-H','$P^{s}$-H'], loc='lower right', shadow=True)\n",
    "ax.set_xlabel('Preço do Petróleo- $/bbl')\n",
    "ax.set_ylabel('Valor -  M$')\n",
    "ax.set_title('Barganha - Jogo Assimétrico')\n",
    "\n",
    "ax.set_xlim(right=79)\n",
    "ax.set_xlim(left=68)\n",
    "ax.set_ylim(top=1900)\n",
    "ax.set_ylim(bottom=1000)\n",
    "#ax2.set_title('Opção de Investir em função do Preço')\n",
    "\n",
    "plt.plot()"
   ]
  },
  {
   "cell_type": "code",
   "execution_count": 441,
   "metadata": {},
   "outputs": [],
   "source": [
    "valor=np.where(preco_inv==70)[0][0]"
   ]
  },
  {
   "cell_type": "code",
   "execution_count": 442,
   "metadata": {},
   "outputs": [
    {
     "data": {
      "text/plain": [
       "(1214.473670297826, 1212.8404173291542)"
      ]
     },
     "execution_count": 442,
     "metadata": {},
     "output_type": "execute_result"
    }
   ],
   "source": [
    "(1-wi_r[valor])*Ui_r[valor], (1-wi[valor])*Ui[valor] "
   ]
  },
  {
   "cell_type": "code",
   "execution_count": 443,
   "metadata": {},
   "outputs": [
    {
     "data": {
      "text/plain": [
       "1213.0454041962914"
      ]
     },
     "execution_count": 443,
     "metadata": {},
     "output_type": "execute_result"
    }
   ],
   "source": [
    "F_zero1[valor]"
   ]
  },
  {
   "cell_type": "code",
   "execution_count": 444,
   "metadata": {},
   "outputs": [
    {
     "data": {
      "text/plain": [
       "1212.6354304620172"
      ]
     },
     "execution_count": 444,
     "metadata": {},
     "output_type": "execute_result"
    }
   ],
   "source": [
    "L_zero1[valor]"
   ]
  },
  {
   "cell_type": "code",
   "execution_count": 445,
   "metadata": {},
   "outputs": [
    {
     "data": {
      "text/plain": [
       "(1538.9431648386483, 1537.309911869976)"
      ]
     },
     "execution_count": 445,
     "metadata": {},
     "output_type": "execute_result"
    }
   ],
   "source": [
    "(wi_r[valor])*Ui_r[valor], (wi[valor])*Ui[valor]"
   ]
  },
  {
   "cell_type": "code",
   "execution_count": 446,
   "metadata": {},
   "outputs": [
    {
     "data": {
      "text/plain": [
       "1538.7465953320761"
      ]
     },
     "execution_count": 446,
     "metadata": {},
     "output_type": "execute_result"
    }
   ],
   "source": [
    "F_zero[valor]"
   ]
  },
  {
   "cell_type": "code",
   "execution_count": 447,
   "metadata": {},
   "outputs": [
    {
     "data": {
      "text/plain": [
       "1537.104925002839"
      ]
     },
     "execution_count": 447,
     "metadata": {},
     "output_type": "execute_result"
    }
   ],
   "source": [
    "L_zero[valor]"
   ]
  },
  {
   "cell_type": "code",
   "execution_count": 448,
   "metadata": {},
   "outputs": [
    {
     "data": {
      "text/plain": [
       "array([ 65.  ,  65.25,  65.5 ,  65.75,  66.  ,  66.25,  66.5 ,  66.75,\n",
       "        67.  ,  67.25,  67.5 ,  67.75,  68.  ,  68.25,  68.5 ,  68.75,\n",
       "        69.  ,  69.25,  69.5 ,  69.75,  70.  ,  70.25,  70.5 ,  70.75,\n",
       "        71.  ,  71.25,  71.5 ,  71.75,  72.  ,  72.25,  72.5 ,  72.75,\n",
       "        73.  ,  73.25,  73.5 ,  73.75,  74.  ,  74.25,  74.5 ,  74.75,\n",
       "        75.  ,  75.25,  75.5 ,  75.75,  76.  ,  76.25,  76.5 ,  76.75,\n",
       "        77.  ,  77.25,  77.5 ,  77.75,  78.  ,  78.25,  78.5 ,  78.75,\n",
       "        79.  ,  79.25,  79.5 ,  79.75,  80.  ,  80.25,  80.5 ,  80.75,\n",
       "        81.  ,  81.25,  81.5 ,  81.75,  82.  ,  87.25,  91.  ,  93.5 ,\n",
       "        95.  ,  97.25, 103.75, 104.75, 105.25, 106.25, 113.5 , 114.  ,\n",
       "       122.25, 125.75, 129.  , 131.5 , 137.5 , 139.75, 140.  , 142.  ,\n",
       "       142.25, 143.  , 143.5 , 145.5 , 146.75, 149.75, 150.25, 151.75,\n",
       "       153.5 , 154.  , 154.25, 156.75, 158.75, 164.5 , 165.  , 167.75])"
      ]
     },
     "execution_count": 448,
     "metadata": {},
     "output_type": "execute_result"
    }
   ],
   "source": [
    "preco_inv[np.where((1-wi_r)*Ui_r>F_zero1)]"
   ]
  },
  {
   "cell_type": "code",
   "execution_count": 449,
   "metadata": {},
   "outputs": [
    {
     "data": {
      "text/plain": [
       "array([ 69.25,  69.5 ,  69.75,  70.  ,  70.25,  70.5 ,  70.75,  71.  ,\n",
       "        71.25,  71.5 ,  71.75,  72.  ,  72.25,  72.5 ,  72.75,  73.  ,\n",
       "        73.25,  73.5 ,  73.75,  74.  ,  74.25,  74.5 ,  74.75,  75.  ,\n",
       "        75.25,  75.5 ,  75.75,  76.  ,  76.25,  76.5 ,  76.75,  77.  ,\n",
       "        77.25,  77.5 ,  77.75,  78.  ,  78.25,  78.5 ,  78.75,  79.  ,\n",
       "        79.25,  79.5 ,  79.75,  80.  ,  80.25,  80.5 ,  80.75,  81.  ,\n",
       "        81.25,  81.5 ,  81.75,  82.5 ,  82.75,  83.  ,  83.5 ,  83.75,\n",
       "        84.  ,  84.75,  85.  ,  85.25,  85.75,  86.  ,  86.25,  86.5 ,\n",
       "        86.75,  87.25,  87.5 ,  87.75,  88.  ,  88.5 ,  88.75,  89.25,\n",
       "        89.75,  90.  ,  90.5 ,  90.75,  91.  ,  91.25,  91.5 ,  91.75,\n",
       "        92.  ,  92.25,  92.5 ,  93.  ,  93.25,  93.5 ,  94.  ,  94.25,\n",
       "        94.5 ,  95.  ,  95.25,  95.5 ,  95.75,  96.25,  96.75,  97.  ,\n",
       "        97.25,  97.5 ,  97.75,  98.  ,  98.25,  98.5 ,  98.75,  99.  ,\n",
       "        99.25,  99.5 , 100.  , 100.25, 100.5 , 101.25, 101.5 , 101.75,\n",
       "       102.25, 102.5 , 103.25, 103.5 , 103.75, 104.  , 104.25, 104.5 ,\n",
       "       104.75, 105.  , 105.25, 105.75, 106.25, 106.5 , 106.75, 107.  ,\n",
       "       107.25, 107.5 , 107.75, 108.  , 108.25, 108.5 , 108.75, 109.  ,\n",
       "       109.5 , 110.  , 111.  , 111.5 , 112.  , 112.5 , 112.75, 113.5 ,\n",
       "       113.75, 114.  , 114.5 , 114.75, 115.  , 115.25, 115.5 , 115.75,\n",
       "       116.25, 116.75, 117.  , 117.25, 117.5 , 117.75, 118.  , 118.25,\n",
       "       118.5 , 118.75, 119.  , 119.75, 120.  , 120.25, 121.  , 121.5 ,\n",
       "       121.75, 122.25, 122.5 , 122.75, 123.  , 123.5 , 123.75, 124.  ,\n",
       "       124.25, 124.5 , 124.75, 125.  , 125.25, 125.5 , 125.75, 126.  ,\n",
       "       126.25, 126.75, 127.  , 127.25, 127.5 , 127.75, 128.  , 128.5 ,\n",
       "       128.75, 129.  , 129.25, 129.75, 130.  , 130.25, 130.5 , 131.  ,\n",
       "       131.25, 131.5 , 131.75, 132.  , 132.5 , 133.  , 133.25, 133.5 ,\n",
       "       133.75, 134.  , 134.25, 134.5 , 135.  , 135.25, 135.75, 136.  ,\n",
       "       136.25, 136.5 , 136.75, 137.75, 138.  , 138.5 , 139.  , 139.25,\n",
       "       139.75, 140.  , 140.25, 140.5 , 140.75, 141.  , 141.25, 141.75,\n",
       "       142.  , 142.5 , 143.  , 143.25, 143.75, 144.  , 144.25, 144.5 ,\n",
       "       145.  , 145.5 , 145.75, 146.25, 146.5 , 146.75, 147.  , 147.5 ,\n",
       "       147.75, 148.  , 148.25, 148.5 , 148.75, 149.  , 149.25, 150.25,\n",
       "       150.5 , 150.75, 151.  , 151.25, 151.75, 152.  , 152.25, 152.5 ,\n",
       "       152.75, 154.  , 154.25, 154.5 , 154.75, 155.25, 155.5 , 155.75,\n",
       "       156.  , 156.25, 156.5 , 156.75, 157.  , 157.25, 157.75, 158.  ,\n",
       "       158.25, 158.75, 159.  , 159.25, 159.75, 160.  , 160.25, 160.5 ,\n",
       "       160.75, 161.  , 161.5 , 162.  , 162.25, 162.5 , 162.75, 163.  ,\n",
       "       163.5 , 163.75, 164.  , 164.75, 165.25, 165.5 , 165.75, 166.  ,\n",
       "       166.25, 167.  , 167.25, 168.25, 168.75, 169.  , 169.25, 169.5 ,\n",
       "       169.75, 170.  , 170.5 , 170.75, 171.  , 171.25, 171.75, 172.  ,\n",
       "       172.25, 172.75, 173.  , 173.25, 173.5 , 173.75, 174.  , 174.25,\n",
       "       174.5 , 174.75, 175.  , 175.25, 175.5 , 175.75, 176.  , 176.25,\n",
       "       176.5 , 176.75])"
      ]
     },
     "execution_count": 449,
     "metadata": {},
     "output_type": "execute_result"
    }
   ],
   "source": [
    "preco_inv[np.where((wi_r)*Ui_r>F_zero)]"
   ]
  },
  {
   "cell_type": "code",
   "execution_count": null,
   "metadata": {},
   "outputs": [],
   "source": []
  }
 ],
 "metadata": {
  "kernelspec": {
   "display_name": "Python 3",
   "language": "python",
   "name": "python3"
  },
  "language_info": {
   "codemirror_mode": {
    "name": "ipython",
    "version": 3
   },
   "file_extension": ".py",
   "mimetype": "text/x-python",
   "name": "python",
   "nbconvert_exporter": "python",
   "pygments_lexer": "ipython3",
   "version": "3.7.4"
  }
 },
 "nbformat": 4,
 "nbformat_minor": 2
}
